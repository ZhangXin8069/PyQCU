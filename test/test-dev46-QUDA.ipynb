{
    "cells": [
        {
            "cell_type": "markdown",
            "metadata": {},
            "source": [
                "# Init for pyqcu."
            ]
        },
        {
            "cell_type": "code",
            "execution_count": null,
            "metadata": {},
            "outputs": [],
            "source": [
                "import cupy as cp\n",
                "import numpy as np\n",
                "import functools\n",
                "from pyqcu import define, io, qcu, eigen, cg, bistabcg, amg, linalg, gauge, demo\n",
                "from time import perf_counter\n",
                "from opt_einsum import contract\n",
                "from pyqcu.set import params, argv, set_ptrs\n",
                "params[define._LAT_X_] = 32\n",
                "params[define._LAT_Y_] = 16\n",
                "params[define._LAT_Z_] = 32\n",
                "params[define._LAT_T_] = 32\n",
                "params[define._LAT_XYZT_] = params[define._LAT_X_] * \\\n",
                "    params[define._LAT_Y_] * params[define._LAT_Z_] * params[define._LAT_T_]\n",
                "params[define._DATA_TYPE_] = define._LAT_C64_\n",
                "sigma = 0.1\n",
                "seed = 12138\n",
                "params[define._NODE_RANK_] = define.rank\n",
                "params[define._NODE_SIZE_] = define.size\n",
                "argv[define._MASS_] = -3.5\n",
                "argv[define._TOL_] = 1e-12\n",
                "kappa = 1 / (2 * argv[define._MASS_] + 8)"
            ]
        },
        {
            "cell_type": "markdown",
            "metadata": {},
            "source": [
                "# Load"
            ]
        },
        {
            "cell_type": "code",
            "execution_count": null,
            "metadata": {},
            "outputs": [],
            "source": [
                "gauge_filename = f\"quda_wilson-clover-dslash-gauge_-{params[define._LAT_X_]}-{params[define._LAT_Y_]}-{params  [define._LAT_Z_]}-{params[define._LAT_T_]}-{params[define._LAT_XYZT_]}-{params[define._GRID_X_]}-{params[define._GRID_Y_]}-{params[define._GRID_Z_]}-{params[define._GRID_T_]}-{params[define._PARITY_]}-{params[define._NODE_RANK_]}-{params[define._NODE_SIZE_]}-{params[define._DAGGER_]}-f.h5\"\n",
                "print(\"Parameters:\", params)\n",
                "print(\"Gauge filename:\", gauge_filename)\n",
                "gauge = io.hdf5_xxxtzyx2grid_xxxtzyx(params, gauge_filename)\n",
                "fermion_in_filename = gauge_filename.replace(\"gauge\", \"fermion-in\")\n",
                "print(\"Fermion in filename:\", fermion_in_filename)\n",
                "fermion_in = io.hdf5_xxxtzyx2grid_xxxtzyx(\n",
                "    params, fermion_in_filename)\n",
                "fermion_out_filename = gauge_filename.replace(\"gauge\", \"fermion-out\")\n",
                "print(\"Fermion out filename:\", fermion_out_filename)\n",
                "quda_fermion_out = io.hdf5_xxxtzyx2grid_xxxtzyx(\n",
                "    params, fermion_out_filename)\n",
                "fermion_out = cp.zeros_like(fermion_in)\n",
                "print(\"Fermion out data:\", fermion_out.data)\n",
                "print(\"Fermion out shape:\", fermion_out.shape)\n"
            ]
        },
        {
            "cell_type": "markdown",
            "metadata": {},
            "source": [
                "# Clover"
            ]
        },
        {
            "cell_type": "code",
            "execution_count": null,
            "metadata": {},
            "outputs": [],
            "source": [
                "wilson_cg_params = params.copy()\n",
                "wilson_cg_params[define._SET_INDEX_] = 0\n",
                "wilson_cg_params[define._SET_PLAN_] = define._SET_PLAN1_\n",
                "qcu.applyInitQcu(set_ptrs, wilson_cg_params, argv)\n",
                "wilson_dslash_eo_params = params.copy()\n",
                "wilson_dslash_eo_params[define._SET_INDEX_] = 1\n",
                "wilson_dslash_eo_params[define._SET_PLAN_] = define._SET_PLAN0_\n",
                "wilson_dslash_eo_params[define._PARITY_] = define._EVEN_\n",
                "wilson_dslash_eo_params[define._DAGGER_] = define._NO_USE_\n",
                "qcu.applyInitQcu(set_ptrs, wilson_dslash_eo_params, argv)\n",
                "wilson_dslash_eo_dag_params = params.copy()\n",
                "wilson_dslash_eo_dag_params[define._SET_INDEX_] = 2\n",
                "wilson_dslash_eo_dag_params[define._SET_PLAN_] = define._SET_PLAN0_\n",
                "wilson_dslash_eo_dag_params[define._PARITY_] = define._EVEN_\n",
                "wilson_dslash_eo_dag_params[define._DAGGER_] = define._USE_\n",
                "qcu.applyInitQcu(set_ptrs, wilson_dslash_eo_dag_params, argv)\n",
                "wilson_dslash_oe_params = params.copy()\n",
                "wilson_dslash_oe_params[define._SET_INDEX_] = 3\n",
                "wilson_dslash_oe_params[define._SET_PLAN_] = define._SET_PLAN0_\n",
                "wilson_dslash_oe_params[define._PARITY_] = define._ODD_\n",
                "wilson_dslash_oe_params[define._DAGGER_] = define._NO_USE_\n",
                "qcu.applyInitQcu(set_ptrs, wilson_dslash_oe_params, argv)\n",
                "wilson_dslash_oe_dag_params = params.copy()\n",
                "wilson_dslash_oe_dag_params[define._SET_INDEX_] = 4\n",
                "wilson_dslash_oe_dag_params[define._SET_PLAN_] = define._SET_PLAN0_\n",
                "wilson_dslash_oe_dag_params[define._PARITY_] = define._ODD_\n",
                "wilson_dslash_oe_dag_params[define._DAGGER_] = define._USE_\n",
                "qcu.applyInitQcu(set_ptrs, wilson_dslash_oe_dag_params, argv)\n",
                "clover_even = cp.zeros((define._LAT_S_, define._LAT_C_, define._LAT_S_, define._LAT_C_,\n",
                "                       params[define._LAT_T_], params[define._LAT_Z_], params[define._LAT_Y_], int(params[define._LAT_X_]/define._LAT_P_),), dtype=fermion_in.dtype)\n",
                "clover_odd = cp.zeros((define._LAT_S_, define._LAT_C_, define._LAT_S_, define._LAT_C_,\n",
                "                       params[define._LAT_T_], params[define._LAT_Z_], params[define._LAT_Y_], int(params[define._LAT_X_]/define._LAT_P_),), dtype=fermion_in.dtype)\n",
                "clover_dslash_eo_params = params.copy()\n",
                "clover_dslash_eo_params[define._SET_INDEX_] = 5\n",
                "clover_dslash_eo_params[define._SET_PLAN_] = define._SET_PLAN2_\n",
                "clover_dslash_eo_params[define._PARITY_] = define._EVEN_\n",
                "clover_dslash_eo_params[define._DAGGER_] = define._NO_USE_\n",
                "qcu.applyInitQcu(set_ptrs, clover_dslash_eo_params, argv)\n",
                "clover_dslash_oe_params = params.copy()\n",
                "clover_dslash_oe_params[define._SET_INDEX_] = 6\n",
                "clover_dslash_oe_params[define._SET_PLAN_] = define._SET_PLAN2_\n",
                "clover_dslash_oe_params[define._PARITY_] = define._ODD_\n",
                "clover_dslash_oe_params[define._DAGGER_] = define._NO_USE_\n",
                "qcu.applyInitQcu(set_ptrs, clover_dslash_oe_params, argv)\n",
                "clover_fermion_in = cp.zeros_like(fermion_in[define._EVEN_])\n",
                "clover_fermion_in = (linalg.initialize_random_vector(clover_fermion_in.flatten())).reshape(clover_fermion_in.shape)\n",
                "clover_fermion_out = cp.zeros_like(clover_fermion_in)\n",
                "_clover_fermion_out = cp.zeros_like(clover_fermion_in)\n",
                "qcu.applyCloverQcu(clover_even, gauge, set_ptrs, clover_dslash_eo_params)\n",
                "qcu.applyCloverDslashQcu(_clover_fermion_out, clover_fermion_in, gauge, set_ptrs, clover_dslash_eo_params)\n",
                "qcu.applyDslashQcu(clover_fermion_out, clover_fermion_in, clover_even,\n",
                "                   gauge, set_ptrs, clover_dslash_eo_params)\n",
                "print(cp.linalg.norm(_clover_fermion_out - clover_fermion_out))\n",
                "qcu.applyCloverQcu(clover_odd, gauge, set_ptrs, clover_dslash_oe_params)\n",
                "qcu.applyCloverDslashQcu(_clover_fermion_out, clover_fermion_in, gauge, set_ptrs, clover_dslash_oe_params)\n",
                "qcu.applyDslashQcu(clover_fermion_out, clover_fermion_in, clover_odd,\n",
                "                   gauge, set_ptrs, clover_dslash_oe_params)\n",
                "print(cp.linalg.norm(_clover_fermion_out - clover_fermion_out))"
            ]
        },
        {
            "cell_type": "markdown",
            "metadata": {},
            "source": [
                "# Give CG & BISTABCG Dslash.\n",
                "> src_o-set_ptr->kappa()**2*dslash_oe(dslash_eo(src_o))"
            ]
        },
        {
            "cell_type": "code",
            "execution_count": null,
            "metadata": {},
            "outputs": [],
            "source": [
                "def pdslash_no_dag(src):\n",
                "    tmp0 = cp.zeros_like(src)\n",
                "    tmp1 = cp.zeros_like(src)\n",
                "    qcu.applyWilsonDslashQcu(\n",
                "        tmp0, src, gauge, set_ptrs, wilson_dslash_eo_params)\n",
                "    qcu.applyWilsonDslashQcu(\n",
                "        tmp1, tmp0, gauge, set_ptrs, wilson_dslash_oe_params)\n",
                "    return src-kappa**2*tmp1\n",
                "\n",
                "\n",
                "def pdslash_dag(src):\n",
                "    tmp0 = cp.zeros_like(src)\n",
                "    tmp1 = cp.zeros_like(src)\n",
                "    qcu.applyWilsonDslashQcu(\n",
                "        tmp0, src, gauge, set_ptrs, wilson_dslash_eo_dag_params)\n",
                "    qcu.applyWilsonDslashQcu(\n",
                "        tmp1, tmp0, gauge, set_ptrs, wilson_dslash_oe_dag_params)\n",
                "    return src-kappa**2*tmp1\n",
                "\n",
                "\n",
                "def cg_dslash(src):\n",
                "    return pdslash_dag(pdslash_no_dag(src))\n",
                "\n",
                "\n",
                "def dslash_no_dag(src):\n",
                "    dest = cp.zeros_like(src)\n",
                "    qcu.applyWilsonDslashQcu(\n",
                "        dest, src, gauge, set_ptrs, wilson_dslash_eo_params)\n",
                "    return dest\n",
                "\n",
                "\n",
                "def dslash_dag(src):\n",
                "    dest = cp.zeros_like(src)\n",
                "    qcu.applyWilsonDslashQcu(\n",
                "        dest, src, gauge, set_ptrs, wilson_dslash_eo_dag_params)\n",
                "    return dest\n",
                "\n",
                "\n",
                "def dslash(src):\n",
                "    return dslash_no_dag(src)\n",
                "\n",
                "\n",
                "def bistabcg_dslash(src):\n",
                "    return pdslash_no_dag(src)"
            ]
        },
        {
            "cell_type": "markdown",
            "metadata": {},
            "source": [
                "# QUDA"
            ]
        },
        {
            "cell_type": "code",
            "execution_count": null,
            "metadata": {},
            "outputs": [],
            "source": [
                "import numpy as np\n",
                "import cupy as cp\n",
                "\n",
                "# from check_pyquda import weak_field\n",
                "\n",
                "from pyquda import init, pyquda as quda\n",
                "from pyquda.field import Ns, Nc\n",
                "from pyquda.enum_quda import QudaParity\n",
                "from pyquda_utils import core\n",
                "init([1, 1, 1, 1], [params[define._LAT_X_], params[define._LAT_Y_],\n",
                "     params[define._LAT_Z_], params[define._LAT_T_]], 1, 1.0)\n",
                "latt_info = core.getDefaultLattice()\n",
                "Lx, Ly, Lz, Lt = latt_info.size\n",
                "xi_0, nu = 1.0, 1.0\n",
                "kappa = 1.0\n",
                "mass = 1 / (2 * kappa) - 4\n",
                "coeff = 1.0\n",
                "coeff_r, coeff_t = 1.0, 1.0\n",
                "\n",
                "core.init([1, 1, 1, 1], [4, 4, 4, 8], -1, xi_0 / nu, resource_path=\".cache\")\n",
                "\n",
                "dslash = core.getDslash(latt_size=latt_info.size, mass=argv[define._MASS_], maxiter=params[define._MAX_ITER_], tol=argv[define._TOL_], xi_0=1,\n",
                "                        clover_coeff_r=1, clover_coeff_t=1, multigrid=False, anti_periodic_t=False)\n"
            ]
        },
        {
            "cell_type": "code",
            "execution_count": null,
            "metadata": {},
            "outputs": [],
            "source": [
                "argv"
            ]
        },
        {
            "cell_type": "code",
            "execution_count": null,
            "metadata": {},
            "outputs": [],
            "source": [
                "quda_p = cp.zeros((Lt, Lz, Ly, Lx, Ns, Nc), \"<c16\")\n",
                "quda_p = (linalg.initialize_random_vector(\n",
                "    quda_p.flatten())).reshape(quda_p.shape)\n",
                "print(quda_p.shape)\n",
                "qcu_p = io.tzyxsc2sctzyx(quda_p)\n",
                "qcu_p = io.xxxtzyx2pxxxtzyx(qcu_p)\n",
                "qcu_Mp = cp.zeros_like(qcu_p)\n",
                "print(qcu_p.shape)\n",
                "quda_Mp = cp.zeros((Lt, Lz, Ly, Lx, Ns, Nc), \"<c16\")\n",
                "print(quda_Mp.shape)\n"
            ]
        },
        {
            "cell_type": "code",
            "execution_count": null,
            "metadata": {},
            "outputs": [],
            "source": [
                "\n",
                "U = core.LatticeGauge(latt_info)\n"
            ]
        },
        {
            "cell_type": "code",
            "execution_count": 25,
            "metadata": {},
            "outputs": [
                {
                    "data": {
                        "text/plain": [
                            "dtype('complex128')"
                        ]
                    },
                    "execution_count": 25,
                    "metadata": {},
                    "output_type": "execute_result"
                }
            ],
            "source": [
                "U.data.dtype"
            ]
        },
        {
            "cell_type": "code",
            "execution_count": 26,
            "metadata": {},
            "outputs": [
                {
                    "data": {
                        "text/plain": [
                            "dtype('complex64')"
                        ]
                    },
                    "execution_count": 26,
                    "metadata": {},
                    "output_type": "execute_result"
                }
            ],
            "source": [
                "qcu_U.dtype"
            ]
        },
        {
            "cell_type": "code",
            "execution_count": null,
            "metadata": {},
            "outputs": [],
            "source": [
                "qcu_U=gauge.copy()\n"
            ]
        },
        {
            "cell_type": "code",
            "execution_count": null,
            "metadata": {},
            "outputs": [],
            "source": [
                "io.ccdptzyx2dptzyxcc(qcu_U)"
            ]
        },
        {
            "cell_type": "code",
            "execution_count": null,
            "metadata": {},
            "outputs": [],
            "source": [
                "U.data"
            ]
        },
        {
            "cell_type": "code",
            "execution_count": 28,
            "metadata": {},
            "outputs": [],
            "source": [
                "U.data[:] = io.ccdptzyx2dptzyxcc(qcu_U).astype(U.dtype)"
            ]
        },
        {
            "cell_type": "code",
            "execution_count": 29,
            "metadata": {},
            "outputs": [
                {
                    "name": "stdout",
                    "output_type": "stream",
                    "text": [
                        "<class 'cupy.ndarray'>\n",
                        "(4, 2, 32, 32, 16, 16, 3, 3)\n",
                        "complex128\n"
                    ]
                }
            ],
            "source": [
                "\n",
                "print(type(U.data))\n",
                "print(U.data.shape)\n",
                "print(U.data.dtype)\n"
            ]
        },
        {
            "cell_type": "code",
            "execution_count": null,
            "metadata": {},
            "outputs": [],
            "source": [
                "\n",
                "dslash.loadGauge(U)\n"
            ]
        },
        {
            "cell_type": "code",
            "execution_count": null,
            "metadata": {},
            "outputs": [],
            "source": [
                "\n",
                "a = core.LatticeFermion(latt_info, cp.asarray(\n",
                "    core.cb2(quda_p.get(), [0, 1, 2, 3])))\n",
                "b = core.LatticeFermion(latt_info)\n",
                "quda.dslashQuda(b.even_ptr, a.odd_ptr, dslash.invert_param,\n",
                "                QudaParity.QUDA_EVEN_PARITY)\n",
                "quda.dslashQuda(b.odd_ptr, a.even_ptr, dslash.invert_param,\n",
                "                QudaParity.QUDA_ODD_PARITY)\n",
                "quda_Mp[:] = cp.array(b.lexico())\n",
                "qcu.applyDslashQcu(qcu_Mp[define._EVEN_], qcu_p[define._ODD_], clover_even,\n",
                "                   qcu_U, set_ptrs, clover_dslash_eo_params)\n",
                "qcu.applyDslashQcu(qcu_Mp[define._ODD_], qcu_p[define._EVEN_], clover_odd,\n",
                "                   qcu_U, set_ptrs, clover_dslash_oe_params)\n",
                "_qcu_Mp=io.sctzyx2tzyxsc(io.pxxxtzyx2xxxtzyx(qcu_Mp))\n",
                "print(linalg.norm(cp.array(quda_Mp)))\n",
                "print(linalg.norm(_qcu_Mp))\n",
                "print(linalg.norm(cp.array(quda_Mp)-_qcu_Mp))"
            ]
        },
        {
            "cell_type": "code",
            "execution_count": null,
            "metadata": {},
            "outputs": [],
            "source": []
        },
        {
            "cell_type": "code",
            "execution_count": null,
            "metadata": {},
            "outputs": [],
            "source": [
                "print(quda_Mp.shape)"
            ]
        },
        {
            "cell_type": "code",
            "execution_count": null,
            "metadata": {},
            "outputs": [],
            "source": [
                "print(_qcu_Mp[0, 0, 0, 1])\n",
                "print(quda_Mp[0, 0, 0, 1])"
            ]
        },
        {
            "cell_type": "code",
            "execution_count": null,
            "metadata": {},
            "outputs": [],
            "source": []
        },
        {
            "cell_type": "code",
            "execution_count": null,
            "metadata": {},
            "outputs": [],
            "source": []
        },
        {
            "cell_type": "code",
            "execution_count": null,
            "metadata": {},
            "outputs": [],
            "source": [
                "qcu_U.dtype"
            ]
        },
        {
            "cell_type": "markdown",
            "metadata": {},
            "source": [
                "# Origin CG. (pass, don't run this)"
            ]
        },
        {
            "cell_type": "code",
            "execution_count": null,
            "metadata": {},
            "outputs": [],
            "source": [
                "# b_e = src[define._EVEN_].flatten()\n",
                "# b_o = src[define._ODD_].flatten()\n",
                "# b__o = cp.zeros_like(b_o)\n",
                "# tmp = cp.zeros_like(b_o)\n",
                "# # b__o=b_o+kappa*D_oe(b_e)\n",
                "# qcu.applyWilsonDslashQcu(tmp, b_e, gauge, set_ptrs, wilson_dslash_oe_params)\n",
                "# b__o = b_o+kappa*tmp\n",
                "# # b__o -> Dslash^dag b__o\n",
                "# b__o = pdslash_dag(b__o)\n",
                "# # Dslash(x_o)=b__o\n",
                "# x_o = cg.slover(b=b__o, matvec=bistabcg_dslash, tol=1e-10, max_iter=1000000)\n",
                "# # x_e  =b_e+kappa*D_eo(x_o)\n",
                "# qcu.applyWilsonDslashQcu(tmp, x_o, gauge, set_ptrs, wilson_dslash_eo_params)\n",
                "# x_e = b_e+kappa*tmp\n",
                "# # give _dest\n",
                "# _dest = cp.zeros_like(dest)\n",
                "# _dest[define._EVEN_] = x_e.reshape(\n",
                "#     dest[define._EVEN_].shape)\n",
                "# _dest[define._ODD_] = x_o.reshape(\n",
                "#     dest[define._ODD_].shape)\n",
                "# print(np.linalg.norm(_dest-dest) /\n",
                "#       np.linalg.norm(dest))"
            ]
        },
        {
            "cell_type": "markdown",
            "metadata": {},
            "source": [
                "# End for pyqcu. (pass, don't run this)"
            ]
        },
        {
            "cell_type": "code",
            "execution_count": null,
            "metadata": {},
            "outputs": [],
            "source": [
                "# demo.end(set_ptrs=set_ptrs,params=params)"
            ]
        }
    ],
    "metadata": {
        "kernelspec": {
            "display_name": "Python 3",
            "language": "python",
            "name": "python3"
        },
        "language_info": {
            "codemirror_mode": {
                "name": "ipython",
                "version": 3
            },
            "file_extension": ".py",
            "mimetype": "text/x-python",
            "name": "python",
            "nbconvert_exporter": "python",
            "pygments_lexer": "ipython3",
            "version": "3.10.12"
        }
    },
    "nbformat": 4,
    "nbformat_minor": 2
}
