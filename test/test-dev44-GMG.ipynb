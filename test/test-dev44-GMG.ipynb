{
    "cells": [
        {
            "cell_type": "markdown",
            "metadata": {},
            "source": [
                "# Init for pyqcu."
            ]
        },
        {
            "cell_type": "code",
            "execution_count": null,
            "metadata": {},
            "outputs": [],
            "source": [
                "\n",
                "import cupy as cp\n",
                "import numpy as np\n",
                "import functools\n",
                "from pyqcu import define, io, qcu, eigen, cg, bistabcg, amg, linalg\n",
                "from time import perf_counter\n",
                "from opt_einsum import contract\n",
                "from pyqcu.set import params, argv, set_ptrs\n",
                "params[define._NODE_RANK_] = define.rank\n",
                "params[define._NODE_SIZE_] = define.size\n",
                "kappa = 1 / (2 * argv[define._MASS_] + 8)\n",
                "print('My rank is ', define.rank)\n",
                "XX = 2\n",
                "YY = 2\n",
                "ZZ = 2\n",
                "TT = 2\n",
                "gauge_filename = f\"quda_wilson-bistabcg-gauge_-{params[define._LAT_X_]}-{params[define._LAT_Y_]}-{params  [define._LAT_Z_]}-{params[define._LAT_T_]}-{params[define._LAT_XYZT_]}-{params[define._GRID_X_]}-{params[define._GRID_Y_]}-{params[define._GRID_Z_]}-{params[define._GRID_T_]}-{params[define._PARITY_]}-{params[define._NODE_RANK_]}-{params[define._NODE_SIZE_]}-{params[define._DAGGER_]}-f.h5\"\n",
                "params[define._MG_X_] = int(params[define._LAT_X_]/XX/define._LAT_P_)\n",
                "params[define._MG_Y_] = int(params[define._LAT_Y_]/YY)\n",
                "params[define._MG_Z_] = int(params[define._LAT_Z_]/ZZ)\n",
                "params[define._MG_T_] = int(params[define._LAT_T_]/TT)\n",
                "print(\"Parameters:\", params)\n",
                "wilson_cg_params = params.copy()\n",
                "wilson_cg_params[define._SET_INDEX_] = 0\n",
                "wilson_cg_params[define._SET_PLAN_] = define._SET_PLAN1_\n",
                "qcu.applyInitQcu(set_ptrs, wilson_cg_params, argv)\n",
                "wilson_dslash_eo_params = params.copy()\n",
                "wilson_dslash_eo_params[define._SET_INDEX_] = 1\n",
                "wilson_dslash_eo_params[define._SET_PLAN_] = define._SET_PLAN0_\n",
                "wilson_dslash_eo_params[define._PARITY_] = define._EVEN_\n",
                "wilson_dslash_eo_params[define._DAGGER_] = define._NO_USE_\n",
                "qcu.applyInitQcu(set_ptrs, wilson_dslash_eo_params, argv)\n",
                "wilson_dslash_eo_dag_params = params.copy()\n",
                "wilson_dslash_eo_dag_params[define._SET_INDEX_] = 2\n",
                "wilson_dslash_eo_dag_params[define._SET_PLAN_] = define._SET_PLAN0_\n",
                "wilson_dslash_eo_dag_params[define._PARITY_] = define._EVEN_\n",
                "wilson_dslash_eo_dag_params[define._DAGGER_] = define._USE_\n",
                "qcu.applyInitQcu(set_ptrs, wilson_dslash_eo_dag_params, argv)\n",
                "wilson_dslash_oe_params = params.copy()\n",
                "wilson_dslash_oe_params[define._SET_INDEX_] = 3\n",
                "wilson_dslash_oe_params[define._SET_PLAN_] = define._SET_PLAN0_\n",
                "wilson_dslash_oe_params[define._PARITY_] = define._ODD_\n",
                "wilson_dslash_oe_params[define._DAGGER_] = define._NO_USE_\n",
                "qcu.applyInitQcu(set_ptrs, wilson_dslash_oe_params, argv)\n",
                "wilson_dslash_oe_dag_params = params.copy()\n",
                "wilson_dslash_oe_dag_params[define._SET_INDEX_] = 4\n",
                "wilson_dslash_oe_dag_params[define._SET_PLAN_] = define._SET_PLAN0_\n",
                "wilson_dslash_oe_dag_params[define._PARITY_] = define._ODD_\n",
                "wilson_dslash_oe_dag_params[define._DAGGER_] = define._USE_\n",
                "qcu.applyInitQcu(set_ptrs, wilson_dslash_oe_dag_params, argv)\n",
                "print(\"Set pointers:\", set_ptrs)\n",
                "print(\"Set pointers data:\", set_ptrs.data)"
            ]
        },
        {
            "cell_type": "markdown",
            "metadata": {},
            "source": [
                "# Read from hdf5 files."
            ]
        },
        {
            "cell_type": "code",
            "execution_count": null,
            "metadata": {},
            "outputs": [],
            "source": [
                "print(\"Gauge filename:\", gauge_filename)\n",
                "gauge = io.hdf5_xxxtzyx2grid_xxxtzyx(params, gauge_filename)\n",
                "fermion_in_filename = gauge_filename.replace(\"gauge\", \"fermion-in\")\n",
                "print(\"Fermion in filename:\", fermion_in_filename)\n",
                "fermion_in = io.hdf5_xxxtzyx2grid_xxxtzyx(\n",
                "    params, fermion_in_filename)\n",
                "fermion_out_filename = gauge_filename.replace(\"gauge\", \"fermion-out\")\n",
                "print(\"Fermion out filename:\", fermion_out_filename)\n",
                "quda_fermion_out = io.hdf5_xxxtzyx2grid_xxxtzyx(\n",
                "    params, fermion_out_filename)\n",
                "fermion_out = cp.zeros_like(fermion_in)\n",
                "print(\"Fermion out data:\", fermion_out.data)\n",
                "print(\"Fermion out shape:\", fermion_out.shape)\n",
                "# eigenvalues_filename = gauge_filename.replace(\"gauge\", \"eigenvalues\")\n",
                "# print(\"Eigenvalues filename:\", eigenvalues_filename)\n",
                "# eigenvalues = io.hdf5_xxx2xxx(file_name=eigenvalues_filename)\n",
                "# print(\"Eigenvalues data:\", eigenvalues.data)\n",
                "# print(\"Eigenvalues shape:\", eigenvalues.shape)\n",
                "# eigenvectors_filename = gauge_filename.replace(\"gauge\", \"eigenvectors\")\n",
                "# print(\"Eigenvectors filename:\", eigenvectors_filename)\n",
                "# eigenvectors = io.eigenvectors2sctzyx(\n",
                "#     params=params, eigenvectors=io.hdf5_xxx2xxx(file_name=eigenvectors_filename))\n",
                "# print(\"Eigenvectors data:\", eigenvectors.data)\n",
                "# print(\"Eigenvectors shape:\", eigenvectors.shape)\n",
                "# testvectors_filename = gauge_filename.replace(\n",
                "#     \"gauge\", \"testvectors\")\n",
                "# print(\"Testvectors filename:\", testvectors_filename)\n",
                "# testvectors = io.eigenvectors2sctzyx(\n",
                "#     params=params, eigenvectors=io.hdf5_xxx2xxx(file_name=testvectors_filename))\n",
                "# testvectors = io.xxxtzyx2mg_xxxtzyx(\n",
                "#     testvectors, params)\n",
                "# print(\"Testvectors data:\", testvectors.data)\n",
                "# print(\"Testvectors shape:\", testvectors.shape)"
            ]
        },
        {
            "cell_type": "markdown",
            "metadata": {},
            "source": [
                "# Run wilson bistabcg from pyqcu test."
            ]
        },
        {
            "cell_type": "code",
            "execution_count": null,
            "metadata": {},
            "outputs": [],
            "source": [
                "qcu.applyWilsonBistabCgQcu(fermion_out, fermion_in,\n",
                "                           gauge, set_ptrs, wilson_cg_params)\n",
                "# qcu.applyWilsonCgQcu(fermion_out, fermion_in,\n",
                "#                            gauge, set_ptrs, wilson_cg_params)\n",
                "print(\"Fermion out data:\", fermion_out.data)\n",
                "print(\"Fermion out shape:\", fermion_out.shape)\n",
                "print(\"QUDA Fermion out data:\", quda_fermion_out.data)\n",
                "print(\"QUDA Fermion out shape:\", quda_fermion_out.shape)\n",
                "print(\"Difference:\", cp.linalg.norm(fermion_out -\n",
                "      quda_fermion_out)/cp.linalg.norm(quda_fermion_out))"
            ]
        },
        {
            "cell_type": "markdown",
            "metadata": {},
            "source": [
                "# Give CG & BISTABCG Dslash.\n",
                "> src_o-set_ptr->kappa()**2*dslash_oe(dslash_eo(src_o))"
            ]
        },
        {
            "cell_type": "code",
            "execution_count": null,
            "metadata": {},
            "outputs": [],
            "source": [
                "def pdslash_no_dag(src):\n",
                "    tmp0 = cp.zeros_like(src)\n",
                "    tmp1 = cp.zeros_like(src)\n",
                "    qcu.applyWilsonDslashQcu(\n",
                "        tmp0, src, gauge, set_ptrs, wilson_dslash_eo_params)\n",
                "    qcu.applyWilsonDslashQcu(\n",
                "        tmp1, tmp0, gauge, set_ptrs, wilson_dslash_oe_params)\n",
                "    return src-kappa**2*tmp1\n",
                "\n",
                "\n",
                "def pdslash_dag(src):\n",
                "    tmp0 = cp.zeros_like(src)\n",
                "    tmp1 = cp.zeros_like(src)\n",
                "    qcu.applyWilsonDslashQcu(\n",
                "        tmp0, src, gauge, set_ptrs, wilson_dslash_eo_dag_params)\n",
                "    qcu.applyWilsonDslashQcu(\n",
                "        tmp1, tmp0, gauge, set_ptrs, wilson_dslash_oe_dag_params)\n",
                "    return src-kappa**2*tmp1\n",
                "\n",
                "\n",
                "def cg_dslash(src):\n",
                "    return pdslash_dag(pdslash_no_dag(src))\n",
                "\n",
                "def dslash_no_dag(src):\n",
                "    dest = cp.zeros_like(src)\n",
                "    qcu.applyWilsonDslashQcu(\n",
                "        dest, src, gauge, set_ptrs, wilson_dslash_eo_params)\n",
                "    return dest\n",
                "\n",
                "def dslash_dag(src):\n",
                "    dest = cp.zeros_like(src)\n",
                "    qcu.applyWilsonDslashQcu(\n",
                "        dest, src, gauge, set_ptrs, wilson_dslash_eo_dag_params)\n",
                "    return dest\n",
                "\n",
                "def dslash(src):\n",
                "    return dslash_no_dag(src)\n",
                "\n",
                "def bistabcg_dslash(src):\n",
                "    return pdslash_no_dag(src)\n",
                "\n",
                "print(cp.linalg.norm((fermion_out[define._EVEN_]-kappa *\n",
                "               dslash(fermion_out[define._ODD_]))-fermion_in[define._ODD_]))"
            ]
        },
        {
            "cell_type": "markdown",
            "metadata": {},
            "source": [
                "# Give matvec."
            ]
        },
        {
            "cell_type": "code",
            "execution_count": null,
            "metadata": {},
            "outputs": [],
            "source": [
                "# def matvec(src):\n",
                "#     return gamma5_vec(pdslash_no_dag(src)).reshape(src.shape)\n",
                "def matvec(src):\n",
                "    return cg_dslash(src).reshape(src.shape)\n",
                "# def matvec(src):\n",
                "#     return bistabcg_dslash(src).reshape(src.shape)"
            ]
        },
        {
            "cell_type": "markdown",
            "metadata": {},
            "source": [
                "# AMG - SETUP"
            ]
        },
        {
            "cell_type": "code",
            "execution_count": null,
            "metadata": {},
            "outputs": [],
            "source": [
                "# _, _testvectors = eigen.solver(n=fermion_in[define._EVEN_].size, k=params[define._LAT_E_],\n",
                "#                                matvec=matvec, dtype=fermion_in.dtype)\n",
                "# # _testvectors = amg.setup(n=fermion_in[define._EVEN_].size, k=params[define._LAT_E_],\n",
                "# #                          matvec=matvec, dtype=fermion_in.dtype)\n",
                "# testvectors = io.xxxtzyx2mg_xxxtzyx(\n",
                "#     io.eigenvectors2sctzyx(_testvectors, params), params)\n",
                "# print(\"Shape of testvectors: \", testvectors.shape)\n",
                "# for i in range(len(_testvectors)):\n",
                "#     if i == 0:\n",
                "#         pass\n",
                "#     else:\n",
                "#         print(\"Ax/x\", bistabcg_dslash(_testvectors[i])/_testvectors[i])\n",
                "#         projections = cp.dot(_testvectors[:i].conj(), _testvectors[i])\n",
                "#         max_proj = cp.max(cp.abs(projections)).get()\n",
                "#         print(f\"Maximum projection onto existing basis: {max_proj:.2e}\")\n",
                "#         j = i+1\n",
                "#         if j == len(_testvectors):\n",
                "#             j = 0\n",
                "#         print(\"Difference between v_i and v_j:\", cp.linalg.norm(\n",
                "#             _testvectors[i]-_testvectors[j])/cp.linalg.norm(_testvectors[i]))\n",
                "# for T in range(params[define._MG_T_]):\n",
                "#     for Z in range(params[define._MG_Z_]):\n",
                "#         for Y in range(params[define._MG_Y_]):\n",
                "#             for X in range(params[define._MG_X_]):\n",
                "#                 testvectors[:, :, :, T, :, Z, :, Y, :, X, :] = linalg.orthogonalize_matrix(\n",
                "#                     testvectors[:, :, :, T, :, Z, :, Y, :, X, :].reshape(params[define._LAT_E_], -1)).reshape(testvectors[:, :, :, T, :, Z, :, Y, :, X, :].shape)\n",
                "\n",
                "# io.xxx2hdf5_xxx(\n",
                "#     testvectors, params, gauge_filename.replace(\"gauge\", \"testvectors\"))"
            ]
        },
        {
            "cell_type": "code",
            "execution_count": null,
            "metadata": {},
            "outputs": [],
            "source": [
                "testvectors = io.xxxtzyx2mg_xxxtzyx(\n",
                "    cp.ones_like(fermion_in[define._EVEN_]), params)\n",
                "testvectors /= (XX*YY*ZZ*TT)**0.5"
            ]
        },
        {
            "cell_type": "markdown",
            "metadata": {},
            "source": [
                "# Verify $(\\gamma_5 D)^\\dag = D^\\dag {\\gamma_5}^\\dag = D^\\dag \\gamma_5  = \\gamma_5 D$"
            ]
        },
        {
            "cell_type": "code",
            "execution_count": null,
            "metadata": {},
            "outputs": [],
            "source": [
                "gamma5 = cp.array([[1, 0, 0, 0], [0, 1, 0, 0], [\n",
                "                   0, 0, -1, 0], [0, 0, 0, -1]]).astype(gauge.dtype)\n",
                "print(gamma5)\n",
                "print(gamma5.T)\n",
                "\n",
                "\n",
                "def gamma5_vec(src):\n",
                "    return contract(\"ss,sctzyx->sctzyx\", gamma5, io.fermion2sctzyx(src, params))\n",
                "\n",
                "\n",
                "def vec_gamma5(src):\n",
                "    return contract(\"sctzyx,ss->sctzyx\", io.fermion2sctzyx(src, params), gamma5)\n",
                "\n",
                "\n",
                "_src = fermion_out[define._EVEN_]\n",
                "print(_src.shape)\n",
                "print(cp.linalg.norm(gamma5_vec(dslash_no_dag(_src))-dslash_dag(gamma5_vec(_src))))\n",
                "print(cp.linalg.norm(gamma5_vec(pdslash_no_dag(_src))-pdslash_dag(gamma5_vec(_src))))"
            ]
        },
        {
            "cell_type": "markdown",
            "metadata": {},
            "source": [
                "# MultiGrid - give grids."
            ]
        },
        {
            "cell_type": "code",
            "execution_count": null,
            "metadata": {},
            "outputs": [],
            "source": [
                "# _src = io.xxxtzyx2mg_xxxtzyx(\n",
                "#     input_array=fermion_in[define._EVEN_], params=params)\n",
                "_src = io.xxxtzyx2mg_xxxtzyx(\n",
                "    input_array=fermion_out[define._EVEN_], params=params)"
            ]
        },
        {
            "cell_type": "markdown",
            "metadata": {},
            "source": [
                "<!-- # MultiGrid - R*vector.\n",
                "![](./image0-dev40.png) -->"
            ]
        },
        {
            "cell_type": "code",
            "execution_count": null,
            "metadata": {},
            "outputs": [],
            "source": [
                "r_src = _src\n",
                "\n",
                "\n",
                "def r_vec(src):\n",
                "    if src.ndim == 1:\n",
                "        return contract(\"scTtZzYyXx,scTtZzYyXx->scTZYX\", cp.conj(testvectors), io.xxxtzyx2mg_xxxtzyx(io.fermion2sctzyx(src, params), params)).flatten()\n",
                "    return contract(\"scTtZzYyXx,scTtZzYyXx->scTZYX\", cp.conj(testvectors), src)\n",
                "\n",
                "\n",
                "r_dest = r_vec(r_src)\n",
                "p_src = r_dest\n",
                "\n",
                "\n",
                "def p_vec(src):\n",
                "    if src.ndim == 1:\n",
                "        return contract(\"scTtZzYyXx,scTZYX->scTtZzYyXx\", testvectors, io.xxx2scTZYX(src, params)).flatten()\n",
                "    return contract(\"scTtZzYyXx,scTZYX->scTtZzYyXx\", testvectors, src)\n",
                "\n",
                "\n",
                "p_dest = p_vec(p_src)\n",
                "_mat = contract(\"scTtZzYyXx,scTtZzYyXx->scTZYX\",\n",
                "                cp.conj(testvectors), testvectors).flatten()\n",
                "print(r_src.flatten()[:50])\n",
                "print(p_dest.flatten()[:50])\n",
                "print(_mat[:50])\n",
                "print(\n",
                "    p_vec(r_vec(p_vec(r_vec(p_vec(r_vec(p_vec(r_vec(r_src)))))))).flatten()[:50])\n",
                "print(cp.linalg.norm(r_src))\n",
                "print(cp.linalg.norm(p_dest))\n",
                "print(cp.linalg.norm(r_src)/cp.linalg.norm(p_dest))\n",
                "print(cp.linalg.norm(_mat))\n",
                "print(cp.linalg.norm(r_src-p_dest)/cp.linalg.norm(r_src))\n",
                "print(cp.linalg.norm(r_src-p_vec(r_vec(p_vec(r_vec(p_vec(r_vec(p_vec(r_vec(r_src))))))))\n",
                "                     )/cp.linalg.norm(r_src))"
            ]
        },
        {
            "cell_type": "markdown",
            "metadata": {},
            "source": [
                "<!-- # MultiGrid - verify above.\n",
                "![](./image2-dev40.png) -->"
            ]
        },
        {
            "cell_type": "markdown",
            "metadata": {},
            "source": [
                "# MultiGrid - R*matvec\\*P."
            ]
        },
        {
            "cell_type": "code",
            "execution_count": null,
            "metadata": {},
            "outputs": [],
            "source": [
                "def r_matvec_p(src, matvec):\n",
                "    return r_vec(matvec(p_vec(src)))\n",
                "\n",
                "\n",
                "D_r_src = matvec(r_src)\n",
                "D_p_r_dest = matvec(p_vec(r_vec(r_src)))\n",
                "p_r_D_p_r_dest = p_vec(r_vec(D_p_r_dest))\n",
                "print(D_r_src.flatten()[:50])\n",
                "print(D_p_r_dest.flatten()[:50])\n",
                "print(p_r_D_p_r_dest.flatten()[:50])\n",
                "print(cp.linalg.norm(D_r_src-D_p_r_dest)/cp.linalg.norm(D_r_src))\n",
                "print(cp.linalg.norm(D_r_src-p_r_D_p_r_dest)/cp.linalg.norm(D_r_src))"
            ]
        },
        {
            "cell_type": "markdown",
            "metadata": {},
            "source": [
                "# Give matvec_c"
            ]
        },
        {
            "cell_type": "code",
            "execution_count": null,
            "metadata": {},
            "outputs": [],
            "source": [
                "matvec_c = functools.partial(r_matvec_p, matvec=matvec)"
            ]
        },
        {
            "cell_type": "markdown",
            "metadata": {},
            "source": [
                "# AMG-2-LEVEL"
            ]
        },
        {
            "cell_type": "markdown",
            "metadata": {},
            "source": [
                "## give b"
            ]
        },
        {
            "cell_type": "code",
            "execution_count": null,
            "metadata": {},
            "outputs": [],
            "source": [
                "b_e = fermion_in[define._EVEN_].flatten()\n",
                "b_o = fermion_in[define._ODD_].flatten()\n",
                "b__o = cp.zeros_like(b_o)\n",
                "tmp = cp.zeros_like(b_o)\n",
                "# b__o=b_o+kappa*D_oe(b_e)\n",
                "qcu.applyWilsonDslashQcu(tmp, b_e, gauge, set_ptrs, wilson_dslash_oe_params)\n",
                "b__o = b_o+kappa*tmp\n",
                "# b__o -> Dslash^dag b__o\n",
                "b__o = pdslash_dag(b__o)\n",
                "b = b__o.copy()"
            ]
        },
        {
            "cell_type": "markdown",
            "metadata": {},
            "source": [
                "## solver"
            ]
        },
        {
            "cell_type": "markdown",
            "metadata": {},
            "source": [
                "### give x_a"
            ]
        },
        {
            "cell_type": "code",
            "execution_count": null,
            "metadata": {},
            "outputs": [],
            "source": [
                "x_a = bistabcg.slover(\n",
                "    b=b, matvec=matvec, tol=1e-1)"
            ]
        },
        {
            "cell_type": "markdown",
            "metadata": {},
            "source": [
                "### iterate"
            ]
        },
        {
            "cell_type": "code",
            "execution_count": null,
            "metadata": {},
            "outputs": [],
            "source": [
                "mg = True\n",
                "for i in range(params[define._MAX_ITER_]):\n",
                "    ######\n",
                "    if i == 0:\n",
                "        x_f = x_a.copy()\n",
                "        r_f = b-matvec(x_f)\n",
                "    if (mg):\n",
                "        ######\n",
                "        r_c = r_vec(r_f)\n",
                "        ######\n",
                "        if i == 0:\n",
                "            e_c = cp.zeros_like(r_c)\n",
                "        r_e_c = r_c-matvec_c(e_c)\n",
                "        tol_c = linalg.norm2(r_e_c)\n",
                "        print(f\"CCCFFF Iteration {i}, tol_c={tol_c} FFFCCC\")\n",
                "        ######\n",
                "        e_c = cg.slover(\n",
                "            b=r_c, matvec=matvec_c, max_iter=20, x0=e_c)\n",
                "        ######\n",
                "        r_e_c = r_c-matvec_c(e_c)\n",
                "        tol_c = linalg.norm2(r_e_c)\n",
                "        print(f\"CCCCCC Iteration {i}, tol_c={tol_c} CCCCCC\")\n",
                "        ######\n",
                "        e_f = p_vec(e_c)\n",
                "        ######\n",
                "        x_f += e_f\n",
                "        ######\n",
                "    r_f = b-matvec(x_f)\n",
                "    tol_f = linalg.norm2(r_f)\n",
                "    print(f\"FFFCCC Iteration {i}, tol_f={tol_f} CCCFFF\")\n",
                "    ######\n",
                "    x_f = cg.slover(\n",
                "        b=b, matvec=matvec, max_iter=10, x0=x_f)\n",
                "    ######\n",
                "    r_f = b-matvec(x_f)\n",
                "    tol_f = linalg.norm2(r_f)\n",
                "    print(f\"FFFFFF Iteration {i}, tol_f={tol_f} FFFFFF\")\n",
                "    ######\n",
                "    if tol_f < argv[define._TOL_]:\n",
                "        break\n",
                "    ######"
            ]
        },
        {
            "cell_type": "markdown",
            "metadata": {},
            "source": [
                "## refer"
            ]
        },
        {
            "cell_type": "code",
            "execution_count": null,
            "metadata": {},
            "outputs": [],
            "source": [
                "# x = cg.slover(\n",
                "#     b=b__o, matvec=matvec, tol=1e-10)"
            ]
        },
        {
            "cell_type": "markdown",
            "metadata": {},
            "source": [
                "## check"
            ]
        },
        {
            "cell_type": "code",
            "execution_count": null,
            "metadata": {},
            "outputs": [],
            "source": [
                "x_o = x.copy()\n",
                "qcu.applyWilsonDslashQcu(tmp, x_o, gauge, set_ptrs, wilson_dslash_eo_params)\n",
                "x_e = b_e+kappa*tmp\n",
                "# give qcu_fermion_out\n",
                "qcu_fermion_out = cp.zeros_like(quda_fermion_out)\n",
                "qcu_fermion_out[define._EVEN_] = x_e.reshape(\n",
                "    quda_fermion_out[define._EVEN_].shape)\n",
                "qcu_fermion_out[define._ODD_] = x_o.reshape(\n",
                "    quda_fermion_out[define._ODD_].shape)\n",
                "print(np.linalg.norm(qcu_fermion_out-quda_fermion_out) /\n",
                "      np.linalg.norm(quda_fermion_out))"
            ]
        },
        {
            "cell_type": "markdown",
            "metadata": {},
            "source": [
                "# MG-BISTABCG"
            ]
        },
        {
            "cell_type": "code",
            "execution_count": null,
            "metadata": {},
            "outputs": [],
            "source": [
                "# b_e = fermion_in[define._EVEN_].flatten()\n",
                "# b_o = fermion_in[define._ODD_].flatten()\n",
                "# b__o = cp.zeros_like(b_o)\n",
                "# tmp = cp.zeros_like(b_o)\n",
                "# # b__o=b_o+kappa*D_oe(b_e)\n",
                "# qcu.applyWilsonDslashQcu(tmp, b_e, gauge, set_ptrs, wilson_dslash_oe_params)\n",
                "# b__o = b_o+kappa*tmp\n",
                "# # # Dslash(x_o)=b__o\n",
                "# x_o = bistabcg.slover(\n",
                "#     b=b__o, matvec=matvec, tol=1e-10)\n",
                "# # io.xxx2hdf5_xxx(x_o, params, 'x_o.h5')\n",
                "# # mg version\n",
                "# mg_b__o = r_vec(io.xxxtzyx2mg_xxxtzyx(\n",
                "#     io.fermion2sctzyx(b__o, params), params)).flatten()\n",
                "# mg_x_o = bistabcg.slover(\n",
                "#     b=mg_b__o, matvec=functools.partial(r_matvec_p, matvec=matvec), tol=1e-10)\n",
                "# _x_o = io.array2xxx(p_vec(io.xxx2scTZYX(mg_x_o, params)))\n",
                "# # io.xxx2hdf5_xxx(_x_o, params, '_x_o.h5')\n",
                "# # x_e  =b_e+kappa*D_eo(x_o)\n",
                "# qcu.applyWilsonDslashQcu(tmp, x_o, gauge, set_ptrs, wilson_dslash_eo_params)\n",
                "# x_e = b_e+kappa*tmp\n",
                "# # give qcu_fermion_out\n",
                "# qcu_fermion_out = cp.zeros_like(quda_fermion_out)\n",
                "# qcu_fermion_out[define._EVEN_] = x_e.reshape(\n",
                "#     quda_fermion_out[define._EVEN_].shape)\n",
                "# qcu_fermion_out[define._ODD_] = x_o.reshape(\n",
                "#     quda_fermion_out[define._ODD_].shape)\n",
                "# print(np.linalg.norm(qcu_fermion_out-quda_fermion_out) /\n",
                "#       np.linalg.norm(quda_fermion_out))\n",
                "# # x_o = io.hdf5_xxx2xxx(params, 'x_o.h5')\n",
                "# # _x_o = io.hdf5_xxx2xxx(params, '_x_o.h5')\n",
                "# print(x_o.flatten()[:50])\n",
                "# print(_x_o.flatten()[:50])\n",
                "# print(np.linalg.norm(_x_o-x_o) /\n",
                "#       np.linalg.norm(x_o))"
            ]
        },
        {
            "cell_type": "markdown",
            "metadata": {},
            "source": [
                "# End for pyqcu. (pass, don't run this)"
            ]
        },
        {
            "cell_type": "code",
            "execution_count": null,
            "metadata": {},
            "outputs": [],
            "source": [
                "# qcu.applyEndQcu(set_ptrs, params)\n",
                "# qcu.applyEndQcu(set_ptrs, wilson_dslash_eo_params)\n",
                "# qcu.applyEndQcu(set_ptrs, wilson_dslash_oe_params)\n",
                "# qcu.applyEndQcu(set_ptrs, wilson_dslash_eo_dag_params)\n",
                "# qcu.applyEndQcu(set_ptrs, wilson_dslash_oe_dag_params)"
            ]
        }
    ],
    "metadata": {
        "kernelspec": {
            "display_name": "Python 3",
            "language": "python",
            "name": "python3"
        },
        "language_info": {
            "codemirror_mode": {
                "name": "ipython",
                "version": 3
            },
            "file_extension": ".py",
            "mimetype": "text/x-python",
            "name": "python",
            "nbconvert_exporter": "python",
            "pygments_lexer": "ipython3",
            "version": "3.10.12"
        }
    },
    "nbformat": 4,
    "nbformat_minor": 2
}
