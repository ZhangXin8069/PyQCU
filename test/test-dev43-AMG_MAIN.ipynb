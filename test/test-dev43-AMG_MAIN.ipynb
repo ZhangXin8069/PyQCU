{
    "cells": [
        {
            "cell_type": "markdown",
            "metadata": {},
            "source": [
                "# Init for pyqcu."
            ]
        },
        {
            "cell_type": "code",
            "execution_count": null,
            "metadata": {},
            "outputs": [],
            "source": [
                "\n",
                "import cupy as cp\n",
                "import numpy as np\n",
                "import functools\n",
                "from pyqcu import define\n",
                "from pyqcu import io\n",
                "from pyqcu import qcu\n",
                "from pyqcu import eigen, cg, bistabcg, amg,linalg\n",
                "from time import perf_counter\n",
                "from opt_einsum import contract\n",
                "from pyqcu.set import params, argv, set_ptrs\n",
                "params[define._NODE_RANK_] = define.rank\n",
                "params[define._NODE_SIZE_] = define.size\n",
                "kappa = 1 / (2 * argv[define._MASS_] + 8)\n",
                "print('My rank is ', define.rank)\n",
                "gauge_filename = f\"quda_wilson-bistabcg-gauge_-{params[define._LAT_X_]}-{params[define._LAT_Y_]}-{params  [define._LAT_Z_]}-{params[define._LAT_T_]}-{params[define._LAT_XYZT_]}-{params[define._GRID_X_]}-{params[define._GRID_Y_]}-{params[define._GRID_Z_]}-{params[define._GRID_T_]}-{params[define._PARITY_]}-{params[define._NODE_RANK_]}-{params[define._NODE_SIZE_]}-{params[define._DAGGER_]}-f.h5\"\n",
                "params[define._MG_X_] = 8\n",
                "params[define._MG_Y_] = 8\n",
                "params[define._MG_Z_] = 8\n",
                "params[define._MG_T_] = 8\n",
                "print(\"Parameters:\", params)\n",
                "wilson_cg_params = params.copy()\n",
                "wilson_cg_params[define._SET_INDEX_] = 0\n",
                "wilson_cg_params[define._SET_PLAN_] = define._SET_PLAN1_\n",
                "qcu.applyInitQcu(set_ptrs, wilson_cg_params, argv)\n",
                "wilson_dslash_eo_params = params.copy()\n",
                "wilson_dslash_eo_params[define._SET_INDEX_] = 1\n",
                "wilson_dslash_eo_params[define._SET_PLAN_] = define._SET_PLAN0_\n",
                "wilson_dslash_eo_params[define._PARITY_] = define._EVEN_\n",
                "wilson_dslash_eo_params[define._DAGGER_] = define._NO_USE_\n",
                "qcu.applyInitQcu(set_ptrs, wilson_dslash_eo_params, argv)\n",
                "wilson_dslash_eo_dag_params = params.copy()\n",
                "wilson_dslash_eo_dag_params[define._SET_INDEX_] = 2\n",
                "wilson_dslash_eo_dag_params[define._SET_PLAN_] = define._SET_PLAN0_\n",
                "wilson_dslash_eo_dag_params[define._PARITY_] = define._EVEN_\n",
                "wilson_dslash_eo_dag_params[define._DAGGER_] = define._USE_\n",
                "qcu.applyInitQcu(set_ptrs, wilson_dslash_eo_dag_params, argv)\n",
                "wilson_dslash_oe_params = params.copy()\n",
                "wilson_dslash_oe_params[define._SET_INDEX_] = 3\n",
                "wilson_dslash_oe_params[define._SET_PLAN_] = define._SET_PLAN0_\n",
                "wilson_dslash_oe_params[define._PARITY_] = define._ODD_\n",
                "wilson_dslash_oe_params[define._DAGGER_] = define._NO_USE_\n",
                "qcu.applyInitQcu(set_ptrs, wilson_dslash_oe_params, argv)\n",
                "wilson_dslash_oe_dag_params = params.copy()\n",
                "wilson_dslash_oe_dag_params[define._SET_INDEX_] = 4\n",
                "wilson_dslash_oe_dag_params[define._SET_PLAN_] = define._SET_PLAN0_\n",
                "wilson_dslash_oe_dag_params[define._PARITY_] = define._ODD_\n",
                "wilson_dslash_oe_dag_params[define._DAGGER_] = define._USE_\n",
                "qcu.applyInitQcu(set_ptrs, wilson_dslash_oe_dag_params, argv)\n",
                "print(\"Set pointers:\", set_ptrs)\n",
                "print(\"Set pointers data:\", set_ptrs.data)\n",
                "define._LAT_E_=12"
            ]
        },
        {
            "cell_type": "markdown",
            "metadata": {},
            "source": [
                "# Read from hdf5 files."
            ]
        },
        {
            "cell_type": "code",
            "execution_count": null,
            "metadata": {},
            "outputs": [],
            "source": [
                "print(\"Gauge filename:\", gauge_filename)\n",
                "gauge = io.hdf5_xxxtzyx2grid_xxxtzyx(params, gauge_filename)\n",
                "fermion_in_filename = gauge_filename.replace(\"gauge\", \"fermion-in\")\n",
                "print(\"Fermion in filename:\", fermion_in_filename)\n",
                "fermion_in = io.hdf5_xxxtzyx2grid_xxxtzyx(\n",
                "    params, fermion_in_filename)\n",
                "fermion_out_filename = gauge_filename.replace(\"gauge\", \"fermion-out\")\n",
                "print(\"Fermion out filename:\", fermion_out_filename)\n",
                "quda_fermion_out = io.hdf5_xxxtzyx2grid_xxxtzyx(\n",
                "    params, fermion_out_filename)\n",
                "fermion_out = cp.zeros_like(fermion_in)\n",
                "print(\"Fermion out data:\", fermion_out.data)\n",
                "print(\"Fermion out shape:\", fermion_out.shape)\n",
                "# eigenvalues_filename = gauge_filename.replace(\"gauge\", \"eigenvalues\")\n",
                "# print(\"Eigenvalues filename:\", eigenvalues_filename)\n",
                "# eigenvalues = io.hdf5_xxx2xxx(file_name=eigenvalues_filename)\n",
                "# print(\"Eigenvalues data:\", eigenvalues.data)\n",
                "# print(\"Eigenvalues shape:\", eigenvalues.shape)\n",
                "# eigenvectors_filename = gauge_filename.replace(\"gauge\", \"eigenvectors\")\n",
                "# print(\"Eigenvectors filename:\", eigenvectors_filename)\n",
                "# eigenvectors = io.eigenvectors2esctzyx(\n",
                "#     params=params, eigenvectors=io.hdf5_xxx2xxx(file_name=eigenvectors_filename))\n",
                "# print(\"Eigenvectors data:\", eigenvectors.data)\n",
                "# print(\"Eigenvectors shape:\", eigenvectors.shape)"
            ]
        },
        {
            "cell_type": "markdown",
            "metadata": {},
            "source": [
                "# Run wilson bistabcg from pyqcu test."
            ]
        },
        {
            "cell_type": "code",
            "execution_count": null,
            "metadata": {},
            "outputs": [],
            "source": [
                "qcu.applyWilsonBistabCgQcu(fermion_out, fermion_in,\n",
                "                           gauge, set_ptrs, wilson_cg_params)\n",
                "# qcu.applyWilsonCgQcu(fermion_out, fermion_in,\n",
                "#                            gauge, set_ptrs, wilson_cg_params)\n",
                "print(\"Fermion out data:\", fermion_out.data)\n",
                "print(\"Fermion out shape:\", fermion_out.shape)\n",
                "print(\"QUDA Fermion out data:\", quda_fermion_out.data)\n",
                "print(\"QUDA Fermion out shape:\", quda_fermion_out.shape)\n",
                "print(\"Difference:\", cp.linalg.norm(fermion_out -\n",
                "      quda_fermion_out)/cp.linalg.norm(quda_fermion_out))"
            ]
        },
        {
            "cell_type": "markdown",
            "metadata": {},
            "source": [
                "# Give CG & BISTABCG Dslash.\n",
                "> src_o-set_ptr->kappa()**2*dslash_oe(dslash_eo(src_o))"
            ]
        },
        {
            "cell_type": "code",
            "execution_count": null,
            "metadata": {},
            "outputs": [],
            "source": [
                "def pdslash_no_dag(src):\n",
                "    tmp0 = cp.zeros_like(src)\n",
                "    tmp1 = cp.zeros_like(src)\n",
                "    qcu.applyWilsonDslashQcu(\n",
                "        tmp0, src, gauge, set_ptrs, wilson_dslash_eo_params)\n",
                "    qcu.applyWilsonDslashQcu(\n",
                "        tmp1, tmp0, gauge, set_ptrs, wilson_dslash_oe_params)\n",
                "    return src-kappa**2*tmp1\n",
                "\n",
                "\n",
                "def pdslash_dag(src):\n",
                "    tmp0 = cp.zeros_like(src)\n",
                "    tmp1 = cp.zeros_like(src)\n",
                "    qcu.applyWilsonDslashQcu(\n",
                "        tmp0, src, gauge, set_ptrs, wilson_dslash_eo_dag_params)\n",
                "    qcu.applyWilsonDslashQcu(\n",
                "        tmp1, tmp0, gauge, set_ptrs, wilson_dslash_oe_dag_params)\n",
                "    return src-kappa**2*tmp1\n",
                "\n",
                "\n",
                "def cg_dslash(src):\n",
                "    return pdslash_dag(pdslash_no_dag(src))\n",
                "\n",
                "def dslash_no_dag(src):\n",
                "    dest = cp.zeros_like(src)\n",
                "    qcu.applyWilsonDslashQcu(\n",
                "        dest, src, gauge, set_ptrs, wilson_dslash_eo_params)\n",
                "    return dest\n",
                "\n",
                "def dslash_dag(src):\n",
                "    dest = cp.zeros_like(src)\n",
                "    qcu.applyWilsonDslashQcu(\n",
                "        dest, src, gauge, set_ptrs, wilson_dslash_eo_dag_params)\n",
                "    return dest\n",
                "\n",
                "def dslash(src):\n",
                "    return dslash_no_dag(src)\n",
                "\n",
                "def bistabcg_dslash(src):\n",
                "    return pdslash_no_dag(src)\n",
                "\n",
                "print(cp.linalg.norm((fermion_out[define._EVEN_]-kappa *\n",
                "               dslash(fermion_out[define._ODD_]))-fermion_in[define._ODD_]))"
            ]
        },
        {
            "cell_type": "markdown",
            "metadata": {},
            "source": [
                "# AMG - SETUP"
            ]
        },
        {
            "cell_type": "code",
            "execution_count": null,
            "metadata": {},
            "outputs": [],
            "source": [
                "_testvectors = amg.setup(n=fermion_in[define._EVEN_].size, k=define._LAT_E_,\n",
                "                         matvec=pdslash_no_dag, dtype=fermion_in.dtype)\n",
                "testvectors = io.xxxtzyx2mg_xxxtzyx(\n",
                "    io.eigenvectors2esctzyx(_testvectors, params), params)\n",
                "print(\"Shape of testvectors: \", testvectors.shape)\n",
                "for i in range(len(_testvectors)):\n",
                "    if i==0:\n",
                "        pass\n",
                "    else:\n",
                "        print(\"Ax/x\", bistabcg_dslash(_testvectors[i])/_testvectors[i])\n",
                "        projections = cp.dot(_testvectors[:i].conj(), _testvectors[i])\n",
                "        max_proj = cp.max(cp.abs(projections)).get()\n",
                "        print(f\"Maximum projection onto existing basis: {max_proj:.2e}\")\n",
                "        j = i+1\n",
                "        if j == len(_testvectors):\n",
                "            j = 0\n",
                "        print(\"Difference between v_i and v_j:\", cp.linalg.norm(\n",
                "            _testvectors[i]-_testvectors[j])/cp.linalg.norm(_testvectors[i]))\n",
                "for T in range(params[define._MG_T_]):\n",
                "    for Z in range(params[define._MG_Z_]):\n",
                "        for Y in range(params[define._MG_Y_]):\n",
                "            for X in range(params[define._MG_X_]):\n",
                "                testvectors[:, :, :, T, :, Z, :, Y, :, X, :] = linalg.orthogonalize_matrix(\n",
                "                    testvectors[:, :, :, T, :, Z, :, Y, :, X, :].reshape(define._LAT_E_, -1)).reshape(testvectors[:, :, :, T, :, Z, :, Y, :, X, :].shape)"
            ]
        },
        {
            "cell_type": "markdown",
            "metadata": {},
            "source": [
                "# Verify $(\\gamma_5 D)^\\dag = D^\\dag {\\gamma_5}^\\dag = D^\\dag \\gamma_5  = \\gamma_5 D$"
            ]
        },
        {
            "cell_type": "code",
            "execution_count": null,
            "metadata": {},
            "outputs": [],
            "source": [
                "gamma5 = cp.array([[1, 0, 0, 0], [0, 1, 0, 0], [\n",
                "                   0, 0, -1, 0], [0, 0, 0, -1]]).astype(gauge.dtype)\n",
                "print(gamma5)\n",
                "print(gamma5.T)\n",
                "\n",
                "\n",
                "def gamma5_vec(src):\n",
                "    return contract(\"ss,sctzyx->sctzyx\", gamma5, io.fermion2sctzyx(src, params))\n",
                "\n",
                "\n",
                "def vec_gamma5(src):\n",
                "    return contract(\"sctzyx,ss->sctzyx\", io.fermion2sctzyx(src, params), gamma5)\n",
                "\n",
                "\n",
                "_src = fermion_out[define._EVEN_]\n",
                "print(_src.shape)\n",
                "print(cp.linalg.norm(gamma5_vec(dslash_no_dag(_src))-dslash_dag(gamma5_vec(_src))))\n",
                "print(cp.linalg.norm(gamma5_vec(pdslash_no_dag(_src))-pdslash_dag(gamma5_vec(_src))))"
            ]
        },
        {
            "cell_type": "markdown",
            "metadata": {},
            "source": [
                "# Give matvec."
            ]
        },
        {
            "cell_type": "code",
            "execution_count": null,
            "metadata": {},
            "outputs": [],
            "source": [
                "# def matvec(src):\n",
                "#     return gamma5_vec(pdslash_no_dag(src)).reshape(src.shape)\n",
                "# def matvec(src):\n",
                "#     return cg_dslash(src).reshape(src.shape)\n",
                "def matvec(src):\n",
                "    return bistabcg_dslash(src).reshape(src.shape)"
            ]
        },
        {
            "cell_type": "markdown",
            "metadata": {},
            "source": [
                "# Run matvec(eigenvector[.]) ?= eigenvalue[.]*eigenvector[.] for eigen test. (pass, don't run this)"
            ]
        },
        {
            "cell_type": "code",
            "execution_count": null,
            "metadata": {},
            "outputs": [],
            "source": [
                "# for i, ev in enumerate(eigenvalues):\n",
                "#     print(f\"λ_{i} = {ev:.2e}\")\n",
                "#     # Verify eigenvector\n",
                "#     v = eigenvectors[i]\n",
                "#     w = cp.zeros_like(v)\n",
                "#     w = cg_dslash(v)\n",
                "#     error = cp.linalg.norm(w - ev * v) / cp.linalg.norm(w)\n",
                "#     print(f\"Relative error: {error:.2e}\")\n",
                "#     j = i+1\n",
                "#     if j == len(eigenvalues):\n",
                "#         j = 0\n",
                "#     print(\n",
                "#         f\"Diff between λ_{i} and λ_{j}: {cp.linalg.norm(eigenvectors[i] - eigenvectors[j])/cp.linalg.norm(eigenvectors[i]):.2e}\")"
            ]
        },
        {
            "cell_type": "markdown",
            "metadata": {},
            "source": [
                "# Give guage's eigenvalues and eigenvectors to hdf5 files. (pass, don't run this)"
            ]
        },
        {
            "cell_type": "code",
            "execution_count": null,
            "metadata": {},
            "outputs": [],
            "source": [
                "# eigenvalues, eigenvectors = eigen.solver(\n",
                "#     n=params[define._LAT_XYZT_] * define._LAT_HALF_SC_, k=define._LAT_Ne_,matvec=matvec,dtype=gauge.dtype)\n",
                "# print(eigenvalues)\n",
                "# io.xxx2hdf5_xxx(\n",
                "#     eigenvalues, params, gauge_filename.replace(\"gauge\", \"eigenvalues\"))\n",
                "# io.xxx2hdf5_xxx(\n",
                "#     eigenvectors, params, gauge_filename.replace(\"gauge\", \"eigenvectors\"))"
            ]
        },
        {
            "cell_type": "markdown",
            "metadata": {},
            "source": [
                "# Origin CG. (pass, don't run this)"
            ]
        },
        {
            "cell_type": "code",
            "execution_count": null,
            "metadata": {},
            "outputs": [],
            "source": [
                "# b_e = fermion_in[define._EVEN_].flatten()\n",
                "# b_o = fermion_in[define._ODD_].flatten()\n",
                "# b__o = cp.zeros_like(b_o)\n",
                "# tmp = cp.zeros_like(b_o)\n",
                "# # b__o=b_o+kappa*D_oe(b_e)\n",
                "# qcu.applyWilsonDslashQcu(tmp, b_e, gauge, set_ptrs, wilson_dslash_oe_params)\n",
                "# b__o = b_o+kappa*tmp\n",
                "# # b__o -> Dslash^dag b__o\n",
                "# b__o = cg_dslash_dag(b__o)\n",
                "# # Dslash(x_o)=b__o\n",
                "# x_o = cg.slover(b=b__o, matvec=matvec, tol=1e-10, max_iter=1000000)\n",
                "# # x_e  =b_e+kappa*D_eo(x_o)\n",
                "# qcu.applyWilsonDslashQcu(tmp, x_o, gauge, set_ptrs, wilson_dslash_eo_params)\n",
                "# x_e = b_e+kappa*tmp\n",
                "# # give qcu_fermion_out\n",
                "# qcu_fermion_out = cp.zeros_like(quda_fermion_out)\n",
                "# qcu_fermion_out[define._EVEN_] = x_e.reshape(\n",
                "#     quda_fermion_out[define._EVEN_].shape)\n",
                "# qcu_fermion_out[define._ODD_] = x_o.reshape(\n",
                "#     quda_fermion_out[define._ODD_].shape)\n",
                "# print(np.linalg.norm(qcu_fermion_out-quda_fermion_out) /\n",
                "#       np.linalg.norm(quda_fermion_out))"
            ]
        },
        {
            "cell_type": "markdown",
            "metadata": {},
            "source": [
                "# Origin BISTABCG. (pass, don't run this)"
            ]
        },
        {
            "cell_type": "code",
            "execution_count": null,
            "metadata": {},
            "outputs": [],
            "source": [
                "# b_e = fermion_in[define._EVEN_].flatten()\n",
                "# b_o = fermion_in[define._ODD_].flatten()\n",
                "# b__o = cp.zeros_like(b_o)\n",
                "# tmp = cp.zeros_like(b_o)\n",
                "# # b__o=b_o+kappa*D_oe(b_e)\n",
                "# qcu.applyWilsonDslashQcu(tmp, b_e, gauge, set_ptrs, wilson_dslash_oe_params)\n",
                "# b__o = b_o+kappa*tmp\n",
                "# # Dslash(x_o)=b__o\n",
                "# x_o = bistabcg.slover(\n",
                "#     b=b__o, matvec=bistabcg_dslash, tol=1e-10, max_iter=1000000)\n",
                "# # x_e  =b_e+kappa*D_eo(x_o)\n",
                "# qcu.applyWilsonDslashQcu(tmp, x_o, gauge, set_ptrs, wilson_dslash_eo_params)\n",
                "# x_e = b_e+kappa*tmp\n",
                "# # give qcu_fermion_out\n",
                "# qcu_fermion_out = cp.zeros_like(quda_fermion_out)\n",
                "# qcu_fermion_out[define._EVEN_] = x_e.reshape(\n",
                "#     quda_fermion_out[define._EVEN_].shape)\n",
                "# qcu_fermion_out[define._ODD_] = x_o.reshape(\n",
                "#     quda_fermion_out[define._ODD_].shape)\n",
                "# print(np.linalg.norm(qcu_fermion_out-quda_fermion_out) / \\\n",
                "#     np.linalg.norm(quda_fermion_out))"
            ]
        },
        {
            "cell_type": "markdown",
            "metadata": {},
            "source": [
                "# MultiGrid - give grids."
            ]
        },
        {
            "cell_type": "code",
            "execution_count": null,
            "metadata": {},
            "outputs": [],
            "source": [
                "# orth_eigenvectors_filename = gauge_filename.replace(\n",
                "#     \"gauge\", \"orth_eigenvectors\")\n",
                "# print(\"Orth orth_eigenvectors filename:\", orth_eigenvectors_filename)\n",
                "# orth_eigenvectors = io.eigenvectors2esctzyx(\n",
                "#     params=params, eigenvectors=io.hdf5_xxx2xxx(file_name=orth_eigenvectors_filename))\n",
                "# print(\"Orth orth_eigenvectors data:\", orth_eigenvectors.data)\n",
                "# print(\"Orth orth_eigenvectors shape:\", orth_eigenvectors.shape)\n",
                "# testvectors = io.xxxtzyx2mg_xxxtzyx(\n",
                "#     input_array=orth_eigenvectors, params=params)\n",
                "\n",
                "testvectors_filename = gauge_filename.replace(\n",
                "    \"gauge\", \"testvectors\")\n",
                "print(\"Testvectors filename:\", testvectors_filename)\n",
                "testvectors = io.eigenvectors2esctzyx(\n",
                "    params=params, eigenvectors=io.hdf5_xxx2xxx(file_name=testvectors_filename))\n",
                "print(\"Testvectors data:\", testvectors.data)\n",
                "print(\"Testvectors shape:\", testvectors.shape)\n",
                "testvectors = io.xxxtzyx2mg_xxxtzyx(\n",
                "    input_array=testvectors, params=params)\n",
                "_src = io.xxxtzyx2mg_xxxtzyx(\n",
                "    input_array=fermion_in[define._EVEN_], params=params)\n",
                "# _src = io.xxxtzyx2mg_xxxtzyx(\n",
                "#     input_array=fermion_out[define._EVEN_], params=params)"
            ]
        },
        {
            "cell_type": "markdown",
            "metadata": {},
            "source": [
                "<!-- # MultiGrid - R*vector.\n",
                "![](./image0-dev40.png) -->"
            ]
        },
        {
            "cell_type": "code",
            "execution_count": null,
            "metadata": {},
            "outputs": [],
            "source": [
                "r_src = _src\n",
                "\n",
                "\n",
                "def r_vec(src):\n",
                "    return contract(\"escTtZzYyXx,scTtZzYyXx->eTZYX\", testvectors, src)\n",
                "\n",
                "\n",
                "r_dest = r_vec(r_src)\n",
                "p_src = r_dest\n",
                "\n",
                "\n",
                "def p_vec(src):\n",
                "    return contract(\"escTtZzYyXx,eTZYX->scTtZzYyXx\", cp.conj(testvectors), src)\n",
                "\n",
                "\n",
                "p_dest = p_vec(p_src)\n",
                "_mat = contract(\"escTtZzYyXx,escTtZzYyXx->scTtZzYyXx\",\n",
                "                testvectors, cp.conj(testvectors)).flatten()\n",
                "print(cp.linalg.norm(_mat))\n",
                "print(r_src.flatten()[:50])\n",
                "print(p_dest.flatten()[:50])\n",
                "print(_mat[:100])\n",
                "print(\n",
                "    p_vec(r_vec(p_vec(r_vec(p_vec(r_vec(p_vec(r_vec(r_src)))))))).flatten()[:50])\n",
                "print(cp.linalg.norm(r_src))\n",
                "print(cp.linalg.norm(p_dest))\n",
                "print(cp.linalg.norm(r_src-p_dest)/cp.linalg.norm(r_src))\n",
                "print(cp.linalg.norm(r_src-p_vec(r_vec(p_vec(r_vec(p_vec(r_vec(p_vec(r_vec(r_src))))))))\n",
                "                     )/cp.linalg.norm(r_src))"
            ]
        },
        {
            "cell_type": "markdown",
            "metadata": {},
            "source": [
                "<!-- # MultiGrid - verify above.\n",
                "![](./image2-dev40.png) -->"
            ]
        },
        {
            "cell_type": "markdown",
            "metadata": {},
            "source": [
                "# MultiGrid - R*matvec\\*P."
            ]
        },
        {
            "cell_type": "code",
            "execution_count": null,
            "metadata": {},
            "outputs": [],
            "source": [
                "def _r_matvec_p(src, matvec):\n",
                "    return r_vec(matvec(p_vec(io.xxx2eTZYX(src, params))))\n",
                "\n",
                "\n",
                "def r_matvec_p(src, matvec):\n",
                "    return io.array2xxx(_r_matvec_p(src, matvec))\n",
                "D_r_src = matvec(r_src)\n",
                "p_r_D_p_r_dest = p_vec(_r_matvec_p(r_vec(r_src), matvec=matvec))\n",
                "print(D_r_src.flatten()[:50])\n",
                "print(p_r_D_p_r_dest.flatten()[:50])\n",
                "print(cp.linalg.norm(D_r_src-p_r_D_p_r_dest)/cp.linalg.norm(D_r_src))"
            ]
        },
        {
            "cell_type": "markdown",
            "metadata": {},
            "source": [
                "# MG-BISTABCG"
            ]
        },
        {
            "cell_type": "code",
            "execution_count": null,
            "metadata": {},
            "outputs": [],
            "source": [
                "b_e = fermion_in[define._EVEN_].flatten()\n",
                "b_o = fermion_in[define._ODD_].flatten()\n",
                "b__o = cp.zeros_like(b_o)\n",
                "tmp = cp.zeros_like(b_o)\n",
                "# b__o=b_o+kappa*D_oe(b_e)\n",
                "qcu.applyWilsonDslashQcu(tmp, b_e, gauge, set_ptrs, wilson_dslash_oe_params)\n",
                "b__o = b_o+kappa*tmp"
            ]
        },
        {
            "cell_type": "code",
            "execution_count": null,
            "metadata": {},
            "outputs": [],
            "source": [
                "# # Dslash(x_o)=b__o\n",
                "x_o = bistabcg.slover(\n",
                "    b=b__o, matvec=bistabcg_dslash, tol=1e-10, max_iter=1000000)\n",
                "# io.xxx2hdf5_xxx(x_o, params, 'x_o.h5')"
            ]
        },
        {
            "cell_type": "code",
            "execution_count": null,
            "metadata": {},
            "outputs": [],
            "source": [
                "# mg version\n",
                "mg_b__o = r_vec(io.xxxtzyx2mg_xxxtzyx(\n",
                "    io.fermion2sctzyx(b__o, params), params)).flatten()\n",
                "mg_x_o = bistabcg.slover(\n",
                "    b=mg_b__o, matvec=functools.partial(r_matvec_p, matvec=bistabcg_dslash), tol=1e-10, max_iter=1000000)\n",
                "_x_o = io.array2xxx(p_vec(io.xxx2eTZYX(mg_x_o, params)))\n",
                "# io.xxx2hdf5_xxx(_x_o, params, '_x_o.h5')"
            ]
        },
        {
            "cell_type": "code",
            "execution_count": null,
            "metadata": {},
            "outputs": [],
            "source": [
                "# x_e  =b_e+kappa*D_eo(x_o)\n",
                "qcu.applyWilsonDslashQcu(tmp, x_o, gauge, set_ptrs, wilson_dslash_eo_params)\n",
                "x_e = b_e+kappa*tmp\n",
                "# give qcu_fermion_out\n",
                "qcu_fermion_out = cp.zeros_like(quda_fermion_out)\n",
                "qcu_fermion_out[define._EVEN_] = x_e.reshape(\n",
                "    quda_fermion_out[define._EVEN_].shape)\n",
                "qcu_fermion_out[define._ODD_] = x_o.reshape(\n",
                "    quda_fermion_out[define._ODD_].shape)\n",
                "print(np.linalg.norm(qcu_fermion_out-quda_fermion_out) /\n",
                "      np.linalg.norm(quda_fermion_out))\n",
                "# x_o = io.hdf5_xxx2xxx(params, 'x_o.h5')\n",
                "# _x_o = io.hdf5_xxx2xxx(params, '_x_o.h5')\n",
                "print(x_o.flatten()[:50])\n",
                "print(_x_o.flatten()[:50])\n",
                "print(np.linalg.norm(_x_o-x_o) /\n",
                "      np.linalg.norm(x_o))"
            ]
        },
        {
            "cell_type": "markdown",
            "metadata": {},
            "source": [
                "# End for CG & BISTABCG. (pass, don't run this)"
            ]
        },
        {
            "cell_type": "code",
            "execution_count": null,
            "metadata": {},
            "outputs": [],
            "source": [
                "# cg_solver.end()\n",
                "# bistabcg_solver.end()"
            ]
        },
        {
            "cell_type": "markdown",
            "metadata": {},
            "source": [
                "# End for pyqcu. (pass, don't run this)"
            ]
        },
        {
            "cell_type": "code",
            "execution_count": null,
            "metadata": {},
            "outputs": [],
            "source": [
                "# qcu.applyEndQcu(set_ptrs, params)\n",
                "# qcu.applyEndQcu(set_ptrs, wilson_dslash_eo_params)\n",
                "# qcu.applyEndQcu(set_ptrs, wilson_dslash_oe_params)\n",
                "# qcu.applyEndQcu(set_ptrs, wilson_dslash_eo_dag_params)\n",
                "# qcu.applyEndQcu(set_ptrs, wilson_dslash_oe_dag_params)"
            ]
        }
    ],
    "metadata": {
        "kernelspec": {
            "display_name": "Python 3",
            "language": "python",
            "name": "python3"
        },
        "language_info": {
            "codemirror_mode": {
                "name": "ipython",
                "version": 3
            },
            "file_extension": ".py",
            "mimetype": "text/x-python",
            "name": "python",
            "nbconvert_exporter": "python",
            "pygments_lexer": "ipython3",
            "version": "3.10.12"
        }
    },
    "nbformat": 4,
    "nbformat_minor": 2
}
