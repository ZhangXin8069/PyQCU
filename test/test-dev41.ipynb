{
    "cells": [
        {
            "cell_type": "markdown",
            "metadata": {},
            "source": [
                "# Init for pyqcu."
            ]
        },
        {
            "cell_type": "code",
            "execution_count": 1,
            "metadata": {},
            "outputs": [
                {
                    "name": "stdout",
                    "output_type": "stream",
                    "text": [
                        "\n",
                        "    @@@@@@######QCU NOTES START######@@@@@@@\n",
                        "    0. Required: MPI(e.g. 4.1.2), CUDA(e.g. 12.4), CMAKE(e.g. 3.22.1), GCC(e.g. 11.4.0), HDF5-MPI(e.g. 1.10.7,'apt install libhdf5-mpi-dev && export HDF5_MPI=\"ON\" && pip install --no-binary=h5py h5py').\n",
                        "    1. The libqcu.so was compiled when pyqcu setup in download_path/PyQCU/lib, please add this path to your LD_LIBRARY_PATH.\n",
                        "    2. The QCU(PyQCU) splite grid by x->y->z->t, lattice by x->y->z->t->p->d->c->c or x->y->z->t->c->s(->p) and x->y->z->t->c->s->c->s(->p).\n",
                        "    3. The QUDA(PyQUDA) splite grid by t->z->y->x, lattice by c->c->x->y->z->t->p->d or c->s->x->y->z->t(->p) and c->s->c->s->x->y->z->t(->p).\n",
                        "    4. The QCU input params in numpy array(dtype=np.int32), argv in  numpy array(dtype=np.float32 or float64) array, set_ptrs in numpy array(dtype=np.int64), other in cupy array(dtype=cp.complex64 or complex128).\n",
                        "    5. The smallest lattice size is (x=4,y=4,z=4,t=8) that QCU support.\n",
                        "    @@@@@@######QCU NOTES END######@@@@@@@\n",
                        "    \n",
                        "Parameters: [     32      32      32      32 1048576       1       1       1       1\n",
                        "       0       0       1       0   10000       0       0       0       4\n",
                        "       4       4       8]\n",
                        "Parameters data: <memory at 0x7f54e9e3ce80>\n",
                        "Arguments: [0.e+00 1.e-09]\n",
                        "Arguments data: <memory at 0x7f54e9e3ce80>\n",
                        "Set pointers: [0 0 0 0 0 0 0 0 0 0]\n",
                        "Set pointers data: <memory at 0x7f54e9e3c040>\n",
                        "My rank is  0\n",
                        "Parameters: [     32      32      32      32 1048576       1       1       1       1\n",
                        "       0       0       1       0   10000       0       0       0       4\n",
                        "       4       4       8]\n"
                    ]
                }
            ],
            "source": [
                "import cupy as cp\n",
                "import numpy as np\n",
                "import functools\n",
                "from pyqcu import define\n",
                "from pyqcu import io\n",
                "from pyqcu import qcu\n",
                "from pyqcu import eigen, cg, bistabcg\n",
                "from opt_einsum import contract\n",
                "from pyqcu.set import params, argv, set_ptrs\n",
                "params[define._NODE_RANK_] = define.rank\n",
                "params[define._NODE_SIZE_] = define.size\n",
                "kappa = 1 / (2 * argv[define._MASS_] + 8)\n",
                "print('My rank is ', define.rank)\n",
                "gauge_filename = f\"quda_wilson-bistabcg-gauge_-{params[define._LAT_X_]}-{params[define._LAT_Y_]}-{params  [define._LAT_Z_]}-{params[define._LAT_T_]}-{params[define._LAT_XYZT_]}-{params[define._GRID_X_]}-{params[define._GRID_Y_]}-{params[define._GRID_Z_]}-{params[define._GRID_T_]}-{params[define._PARITY_]}-{params[define._NODE_RANK_]}-{params[define._NODE_SIZE_]}-{params[define._DAGGER_]}-f.h5\"\n",
                "print(\"Parameters:\", params)"
            ]
        },
        {
            "cell_type": "code",
            "execution_count": 2,
            "metadata": {},
            "outputs": [
                {
                    "name": "stdout",
                    "output_type": "stream",
                    "text": [
                        "gridDim.x               :4096\n",
                        "blockDim.x              :128\n",
                        "host_params[_LAT_X_]    :16\n",
                        "host_params[_LAT_Y_]    :32\n",
                        "host_params[_LAT_Z_]    :32\n",
                        "host_params[_LAT_T_]    :32\n",
                        "host_params[_LAT_XYZT_] :524288\n",
                        "host_params[_GRID_X_]   :1\n",
                        "host_params[_GRID_Y_]   :1\n",
                        "host_params[_GRID_Z_]   :1\n",
                        "host_params[_GRID_T_]   :1\n",
                        "host_params[_PARITY_]   :0\n",
                        "host_params[_NODE_RANK_]:0\n",
                        "host_params[_NODE_SIZE_]:1\n",
                        "host_params[_DAGGER_]   :0\n",
                        "host_params[_MAX_ITER_] :10000\n",
                        "host_params[_SET_INDEX_]:0\n",
                        "host_params[_SET_PLAN_] :1\n",
                        "host_argv[_MASS_]       :0.000000e+00\n",
                        "host_argv[_TOL_]        :1.000000e-09\n",
                        "lat_2dim[_XY_]          :512\n",
                        "lat_2dim[_XZ_]          :512\n",
                        "lat_2dim[_XT_]          :512\n",
                        "lat_2dim[_YZ_]          :1024\n",
                        "lat_2dim[_YT_]          :1024\n",
                        "lat_2dim[_ZT_]          :1024\n",
                        "lat_3dim[_YZT_]         :32768\n",
                        "lat_3dim[_XZT_]         :16384\n",
                        "lat_3dim[_XYT_]         :16384\n",
                        "lat_3dim[_XYZ_]         :16384\n",
                        "lat_4dim                :524288\n",
                        "grid_2dim[_XY_]         :1\n",
                        "grid_2dim[_XZ_]         :1\n",
                        "grid_2dim[_XT_]         :1\n",
                        "grid_2dim[_YZ_]         :1\n",
                        "grid_2dim[_YT_]         :1\n",
                        "grid_2dim[_ZT_]         :1\n",
                        "grid_3dim[_YZT_]        :1\n",
                        "grid_3dim[_XZT_]        :1\n",
                        "grid_3dim[_XYT_]        :1\n",
                        "grid_3dim[_XYZ_]        :1\n",
                        "grid_index_1dim[_X_]    :0\n",
                        "grid_index_1dim[_Y_]    :0\n",
                        "grid_index_1dim[_Z_]    :0\n",
                        "grid_index_1dim[_T_]    :0\n",
                        "move_wards[_B_X_]       :0\n",
                        "move_wards[_B_Y_]       :0\n",
                        "move_wards[_B_Z_]       :0\n",
                        "move_wards[_B_T_]       :0\n",
                        "move_wards[_F_X_]       :0\n",
                        "move_wards[_F_Y_]       :0\n",
                        "move_wards[_F_Z_]       :0\n",
                        "move_wards[_F_T_]       :0\n",
                        "move_wards[_BX_BY_]     :0\n",
                        "move_wards[_BX_BZ_]     :0\n",
                        "move_wards[_BX_BT_]     :0\n",
                        "move_wards[_BY_BZ_]     :0\n",
                        "move_wards[_BY_BT_]     :0\n",
                        "move_wards[_BZ_BT_]     :0\n",
                        "move_wards[_FX_BY_]     :0\n",
                        "move_wards[_FX_BZ_]     :0\n",
                        "move_wards[_FX_BT_]     :0\n",
                        "move_wards[_FY_BZ_]     :0\n",
                        "move_wards[_FY_BT_]     :0\n",
                        "move_wards[_FZ_BT_]     :0\n",
                        "move_wards[_BX_FY_]     :0\n",
                        "move_wards[_BX_FZ_]     :0\n",
                        "move_wards[_BX_FT_]     :0\n",
                        "move_wards[_BY_FZ_]     :0\n",
                        "move_wards[_BY_FT_]     :0\n",
                        "move_wards[_BZ_FT_]     :0\n",
                        "move_wards[_FX_FY_]     :0\n",
                        "move_wards[_FX_FZ_]     :0\n",
                        "move_wards[_FX_FT_]     :0\n",
                        "move_wards[_FY_FZ_]     :0\n",
                        "move_wards[_FY_FT_]     :0\n",
                        "move_wards[_FZ_FT_]     :0\n",
                        "set_ptr:0x556f1bfe3d50\n",
                        "long long set_ptr:93935699377488\n",
                        "lattice set init total time:0.137457686 sec\n"
                    ]
                }
            ],
            "source": [
                "wilson_cg_params = params.copy()\n",
                "wilson_cg_params[define._SET_INDEX_] = 0\n",
                "wilson_cg_params[define._SET_PLAN_] = define._SET_PLAN1_\n",
                "qcu.applyInitQcu(set_ptrs, wilson_cg_params, argv)"
            ]
        },
        {
            "cell_type": "code",
            "execution_count": 3,
            "metadata": {},
            "outputs": [
                {
                    "name": "stdout",
                    "output_type": "stream",
                    "text": [
                        "gridDim.x               :4096\n",
                        "blockDim.x              :128\n",
                        "host_params[_LAT_X_]    :16\n",
                        "host_params[_LAT_Y_]    :32\n",
                        "host_params[_LAT_Z_]    :32\n",
                        "host_params[_LAT_T_]    :32\n",
                        "host_params[_LAT_XYZT_] :524288\n",
                        "host_params[_GRID_X_]   :1\n",
                        "host_params[_GRID_Y_]   :1\n",
                        "host_params[_GRID_Z_]   :1\n",
                        "host_params[_GRID_T_]   :1\n",
                        "host_params[_PARITY_]   :0\n",
                        "host_params[_NODE_RANK_]:0\n",
                        "host_params[_NODE_SIZE_]:1\n",
                        "host_params[_DAGGER_]   :0\n",
                        "host_params[_MAX_ITER_] :10000\n",
                        "host_params[_SET_INDEX_]:1\n",
                        "host_params[_SET_PLAN_] :0\n",
                        "host_argv[_MASS_]       :0.000000e+00\n",
                        "host_argv[_TOL_]        :1.000000e-09\n",
                        "lat_2dim[_XY_]          :512\n",
                        "lat_2dim[_XZ_]          :512\n",
                        "lat_2dim[_XT_]          :512\n",
                        "lat_2dim[_YZ_]          :1024\n",
                        "lat_2dim[_YT_]          :1024\n",
                        "lat_2dim[_ZT_]          :1024\n",
                        "lat_3dim[_YZT_]         :32768\n",
                        "lat_3dim[_XZT_]         :16384\n",
                        "lat_3dim[_XYT_]         :16384\n",
                        "lat_3dim[_XYZ_]         :16384\n",
                        "lat_4dim                :524288\n",
                        "grid_2dim[_XY_]         :1\n",
                        "grid_2dim[_XZ_]         :1\n",
                        "grid_2dim[_XT_]         :1\n",
                        "grid_2dim[_YZ_]         :1\n",
                        "grid_2dim[_YT_]         :1\n",
                        "grid_2dim[_ZT_]         :1\n",
                        "grid_3dim[_YZT_]        :1\n",
                        "grid_3dim[_XZT_]        :1\n",
                        "grid_3dim[_XYT_]        :1\n",
                        "grid_3dim[_XYZ_]        :1\n",
                        "grid_index_1dim[_X_]    :0\n",
                        "grid_index_1dim[_Y_]    :0\n",
                        "grid_index_1dim[_Z_]    :0\n",
                        "grid_index_1dim[_T_]    :0\n",
                        "move_wards[_B_X_]       :0\n",
                        "move_wards[_B_Y_]       :0\n",
                        "move_wards[_B_Z_]       :0\n",
                        "move_wards[_B_T_]       :0\n",
                        "move_wards[_F_X_]       :0\n",
                        "move_wards[_F_Y_]       :0\n",
                        "move_wards[_F_Z_]       :0\n",
                        "move_wards[_F_T_]       :0\n",
                        "move_wards[_BX_BY_]     :0\n",
                        "move_wards[_BX_BZ_]     :0\n",
                        "move_wards[_BX_BT_]     :0\n",
                        "move_wards[_BY_BZ_]     :0\n",
                        "move_wards[_BY_BT_]     :0\n",
                        "move_wards[_BZ_BT_]     :0\n",
                        "move_wards[_FX_BY_]     :0\n",
                        "move_wards[_FX_BZ_]     :0\n",
                        "move_wards[_FX_BT_]     :0\n",
                        "move_wards[_FY_BZ_]     :0\n",
                        "move_wards[_FY_BT_]     :0\n",
                        "move_wards[_FZ_BT_]     :0\n",
                        "move_wards[_BX_FY_]     :0\n",
                        "move_wards[_BX_FZ_]     :0\n",
                        "move_wards[_BX_FT_]     :0\n",
                        "move_wards[_BY_FZ_]     :0\n",
                        "move_wards[_BY_FT_]     :0\n",
                        "move_wards[_BZ_FT_]     :0\n",
                        "move_wards[_FX_FY_]     :0\n",
                        "move_wards[_FX_FZ_]     :0\n",
                        "move_wards[_FX_FT_]     :0\n",
                        "move_wards[_FY_FZ_]     :0\n",
                        "move_wards[_FY_FT_]     :0\n",
                        "move_wards[_FZ_FT_]     :0\n",
                        "set_ptr:0x556f1c939a90\n",
                        "long long set_ptr:93935709166224\n",
                        "lattice set init total time:0.026707026 sec\n"
                    ]
                }
            ],
            "source": [
                "wilson_dslash_eo_params = params.copy()\n",
                "wilson_dslash_eo_params[define._SET_INDEX_] = 1\n",
                "wilson_dslash_eo_params[define._SET_PLAN_] = define._SET_PLAN0_\n",
                "wilson_dslash_eo_params[define._PARITY_] = define._EVEN_\n",
                "wilson_dslash_eo_params[define._DAGGER_] = define._NO_USE_\n",
                "qcu.applyInitQcu(set_ptrs, wilson_dslash_eo_params, argv)"
            ]
        },
        {
            "cell_type": "code",
            "execution_count": 4,
            "metadata": {},
            "outputs": [
                {
                    "name": "stdout",
                    "output_type": "stream",
                    "text": [
                        "gridDim.x               :4096\n",
                        "blockDim.x              :128\n",
                        "host_params[_LAT_X_]    :16\n",
                        "host_params[_LAT_Y_]    :32\n",
                        "host_params[_LAT_Z_]    :32\n",
                        "host_params[_LAT_T_]    :32\n",
                        "host_params[_LAT_XYZT_] :524288\n",
                        "host_params[_GRID_X_]   :1\n",
                        "host_params[_GRID_Y_]   :1\n",
                        "host_params[_GRID_Z_]   :1\n",
                        "host_params[_GRID_T_]   :1\n",
                        "host_params[_PARITY_]   :0\n",
                        "host_params[_NODE_RANK_]:0\n",
                        "host_params[_NODE_SIZE_]:1\n",
                        "host_params[_DAGGER_]   :1\n",
                        "host_params[_MAX_ITER_] :10000\n",
                        "host_params[_SET_INDEX_]:2\n",
                        "host_params[_SET_PLAN_] :0\n",
                        "host_argv[_MASS_]       :0.000000e+00\n",
                        "host_argv[_TOL_]        :1.000000e-09\n",
                        "lat_2dim[_XY_]          :512\n",
                        "lat_2dim[_XZ_]          :512\n",
                        "lat_2dim[_XT_]          :512\n",
                        "lat_2dim[_YZ_]          :1024\n",
                        "lat_2dim[_YT_]          :1024\n",
                        "lat_2dim[_ZT_]          :1024\n",
                        "lat_3dim[_YZT_]         :32768\n",
                        "lat_3dim[_XZT_]         :16384\n",
                        "lat_3dim[_XYT_]         :16384\n",
                        "lat_3dim[_XYZ_]         :16384\n",
                        "lat_4dim                :524288\n",
                        "grid_2dim[_XY_]         :1\n",
                        "grid_2dim[_XZ_]         :1\n",
                        "grid_2dim[_XT_]         :1\n",
                        "grid_2dim[_YZ_]         :1\n",
                        "grid_2dim[_YT_]         :1\n",
                        "grid_2dim[_ZT_]         :1\n",
                        "grid_3dim[_YZT_]        :1\n",
                        "grid_3dim[_XZT_]        :1\n",
                        "grid_3dim[_XYT_]        :1\n",
                        "grid_3dim[_XYZ_]        :1\n",
                        "grid_index_1dim[_X_]    :0\n",
                        "grid_index_1dim[_Y_]    :0\n",
                        "grid_index_1dim[_Z_]    :0\n",
                        "grid_index_1dim[_T_]    :0\n",
                        "move_wards[_B_X_]       :0\n",
                        "move_wards[_B_Y_]       :0\n",
                        "move_wards[_B_Z_]       :0\n",
                        "move_wards[_B_T_]       :0\n",
                        "move_wards[_F_X_]       :0\n",
                        "move_wards[_F_Y_]       :0\n",
                        "move_wards[_F_Z_]       :0\n",
                        "move_wards[_F_T_]       :0\n",
                        "move_wards[_BX_BY_]     :0\n",
                        "move_wards[_BX_BZ_]     :0\n",
                        "move_wards[_BX_BT_]     :0\n",
                        "move_wards[_BY_BZ_]     :0\n",
                        "move_wards[_BY_BT_]     :0\n",
                        "move_wards[_BZ_BT_]     :0\n",
                        "move_wards[_FX_BY_]     :0\n",
                        "move_wards[_FX_BZ_]     :0\n",
                        "move_wards[_FX_BT_]     :0\n",
                        "move_wards[_FY_BZ_]     :0\n",
                        "move_wards[_FY_BT_]     :0\n",
                        "move_wards[_FZ_BT_]     :0\n",
                        "move_wards[_BX_FY_]     :0\n",
                        "move_wards[_BX_FZ_]     :0\n",
                        "move_wards[_BX_FT_]     :0\n",
                        "move_wards[_BY_FZ_]     :0\n",
                        "move_wards[_BY_FT_]     :0\n",
                        "move_wards[_BZ_FT_]     :0\n",
                        "move_wards[_FX_FY_]     :0\n",
                        "move_wards[_FX_FZ_]     :0\n",
                        "move_wards[_FX_FT_]     :0\n",
                        "move_wards[_FY_FZ_]     :0\n",
                        "move_wards[_FY_FT_]     :0\n",
                        "move_wards[_FZ_FT_]     :0\n",
                        "set_ptr:0x556f1c9642c0\n",
                        "long long set_ptr:93935709340352\n",
                        "lattice set init total time:0.021039962 sec\n"
                    ]
                }
            ],
            "source": [
                "wilson_dslash_eo_dag_params = params.copy()\n",
                "wilson_dslash_eo_dag_params[define._SET_INDEX_] = 2\n",
                "wilson_dslash_eo_dag_params[define._SET_PLAN_] = define._SET_PLAN0_\n",
                "wilson_dslash_eo_dag_params[define._PARITY_] = define._EVEN_\n",
                "wilson_dslash_eo_dag_params[define._DAGGER_] = define._USE_\n",
                "qcu.applyInitQcu(set_ptrs, wilson_dslash_eo_dag_params, argv)"
            ]
        },
        {
            "cell_type": "code",
            "execution_count": 5,
            "metadata": {},
            "outputs": [
                {
                    "name": "stdout",
                    "output_type": "stream",
                    "text": [
                        "gridDim.x               :4096\n",
                        "blockDim.x              :128\n",
                        "host_params[_LAT_X_]    :16\n",
                        "host_params[_LAT_Y_]    :32\n",
                        "host_params[_LAT_Z_]    :32\n",
                        "host_params[_LAT_T_]    :32\n",
                        "host_params[_LAT_XYZT_] :524288\n",
                        "host_params[_GRID_X_]   :1\n",
                        "host_params[_GRID_Y_]   :1\n",
                        "host_params[_GRID_Z_]   :1\n",
                        "host_params[_GRID_T_]   :1\n",
                        "host_params[_PARITY_]   :1\n",
                        "host_params[_NODE_RANK_]:0\n",
                        "host_params[_NODE_SIZE_]:1\n",
                        "host_params[_DAGGER_]   :0\n",
                        "host_params[_MAX_ITER_] :10000\n",
                        "host_params[_SET_INDEX_]:3\n",
                        "host_params[_SET_PLAN_] :0\n",
                        "host_argv[_MASS_]       :0.000000e+00\n",
                        "host_argv[_TOL_]        :1.000000e-09\n",
                        "lat_2dim[_XY_]          :512\n",
                        "lat_2dim[_XZ_]          :512\n",
                        "lat_2dim[_XT_]          :512\n",
                        "lat_2dim[_YZ_]          :1024\n",
                        "lat_2dim[_YT_]          :1024\n",
                        "lat_2dim[_ZT_]          :1024\n",
                        "lat_3dim[_YZT_]         :32768\n",
                        "lat_3dim[_XZT_]         :16384\n",
                        "lat_3dim[_XYT_]         :16384\n",
                        "lat_3dim[_XYZ_]         :16384\n",
                        "lat_4dim                :524288\n",
                        "grid_2dim[_XY_]         :1\n",
                        "grid_2dim[_XZ_]         :1\n",
                        "grid_2dim[_XT_]         :1\n",
                        "grid_2dim[_YZ_]         :1\n",
                        "grid_2dim[_YT_]         :1\n",
                        "grid_2dim[_ZT_]         :1\n",
                        "grid_3dim[_YZT_]        :1\n",
                        "grid_3dim[_XZT_]        :1\n",
                        "grid_3dim[_XYT_]        :1\n",
                        "grid_3dim[_XYZ_]        :1\n",
                        "grid_index_1dim[_X_]    :0\n",
                        "grid_index_1dim[_Y_]    :0\n",
                        "grid_index_1dim[_Z_]    :0\n",
                        "grid_index_1dim[_T_]    :0\n",
                        "move_wards[_B_X_]       :0\n",
                        "move_wards[_B_Y_]       :0\n",
                        "move_wards[_B_Z_]       :0\n",
                        "move_wards[_B_T_]       :0\n",
                        "move_wards[_F_X_]       :0\n",
                        "move_wards[_F_Y_]       :0\n",
                        "move_wards[_F_Z_]       :0\n",
                        "move_wards[_F_T_]       :0\n",
                        "move_wards[_BX_BY_]     :0\n",
                        "move_wards[_BX_BZ_]     :0\n",
                        "move_wards[_BX_BT_]     :0\n",
                        "move_wards[_BY_BZ_]     :0\n",
                        "move_wards[_BY_BT_]     :0\n",
                        "move_wards[_BZ_BT_]     :0\n",
                        "move_wards[_FX_BY_]     :0\n",
                        "move_wards[_FX_BZ_]     :0\n",
                        "move_wards[_FX_BT_]     :0\n",
                        "move_wards[_FY_BZ_]     :0\n",
                        "move_wards[_FY_BT_]     :0\n",
                        "move_wards[_FZ_BT_]     :0\n",
                        "move_wards[_BX_FY_]     :0\n",
                        "move_wards[_BX_FZ_]     :0\n",
                        "move_wards[_BX_FT_]     :0\n",
                        "move_wards[_BY_FZ_]     :0\n",
                        "move_wards[_BY_FT_]     :0\n",
                        "move_wards[_BZ_FT_]     :0\n",
                        "move_wards[_FX_FY_]     :0\n",
                        "move_wards[_FX_FZ_]     :0\n",
                        "move_wards[_FX_FT_]     :0\n",
                        "move_wards[_FY_FZ_]     :0\n",
                        "move_wards[_FY_FT_]     :0\n",
                        "move_wards[_FZ_FT_]     :0\n",
                        "set_ptr:0x556f1c98f450\n",
                        "long long set_ptr:93935709516880\n",
                        "lattice set init total time:0.044077700 sec\n"
                    ]
                }
            ],
            "source": [
                "wilson_dslash_oe_params = params.copy()\n",
                "wilson_dslash_oe_params[define._SET_INDEX_] = 3\n",
                "wilson_dslash_oe_params[define._SET_PLAN_] = define._SET_PLAN0_\n",
                "wilson_dslash_oe_params[define._PARITY_] = define._ODD_\n",
                "wilson_dslash_oe_params[define._DAGGER_] = define._NO_USE_\n",
                "qcu.applyInitQcu(set_ptrs, wilson_dslash_oe_params, argv)"
            ]
        },
        {
            "cell_type": "code",
            "execution_count": 6,
            "metadata": {},
            "outputs": [
                {
                    "name": "stdout",
                    "output_type": "stream",
                    "text": [
                        "gridDim.x               :4096\n",
                        "blockDim.x              :128\n",
                        "host_params[_LAT_X_]    :16\n",
                        "host_params[_LAT_Y_]    :32\n",
                        "host_params[_LAT_Z_]    :32\n",
                        "host_params[_LAT_T_]    :32\n",
                        "host_params[_LAT_XYZT_] :524288\n",
                        "host_params[_GRID_X_]   :1\n",
                        "host_params[_GRID_Y_]   :1\n",
                        "host_params[_GRID_Z_]   :1\n",
                        "host_params[_GRID_T_]   :1\n",
                        "host_params[_PARITY_]   :1\n",
                        "host_params[_NODE_RANK_]:0\n",
                        "host_params[_NODE_SIZE_]:1\n",
                        "host_params[_DAGGER_]   :1\n",
                        "host_params[_MAX_ITER_] :10000\n",
                        "host_params[_SET_INDEX_]:4\n",
                        "host_params[_SET_PLAN_] :0\n",
                        "host_argv[_MASS_]       :0.000000e+00\n",
                        "host_argv[_TOL_]        :1.000000e-09\n",
                        "lat_2dim[_XY_]          :512\n",
                        "lat_2dim[_XZ_]          :512\n",
                        "lat_2dim[_XT_]          :512\n",
                        "lat_2dim[_YZ_]          :1024\n",
                        "lat_2dim[_YT_]          :1024\n",
                        "lat_2dim[_ZT_]          :1024\n",
                        "lat_3dim[_YZT_]         :32768\n",
                        "lat_3dim[_XZT_]         :16384\n",
                        "lat_3dim[_XYT_]         :16384\n",
                        "lat_3dim[_XYZ_]         :16384\n",
                        "lat_4dim                :524288\n",
                        "grid_2dim[_XY_]         :1\n",
                        "grid_2dim[_XZ_]         :1\n",
                        "grid_2dim[_XT_]         :1\n",
                        "grid_2dim[_YZ_]         :1\n",
                        "grid_2dim[_YT_]         :1\n",
                        "grid_2dim[_ZT_]         :1\n",
                        "grid_3dim[_YZT_]        :1\n",
                        "grid_3dim[_XZT_]        :1\n",
                        "grid_3dim[_XYT_]        :1\n",
                        "grid_3dim[_XYZ_]        :1\n",
                        "grid_index_1dim[_X_]    :0\n",
                        "grid_index_1dim[_Y_]    :0\n",
                        "grid_index_1dim[_Z_]    :0\n",
                        "grid_index_1dim[_T_]    :0\n",
                        "move_wards[_B_X_]       :0\n",
                        "move_wards[_B_Y_]       :0\n",
                        "move_wards[_B_Z_]       :0\n",
                        "move_wards[_B_T_]       :0\n",
                        "move_wards[_F_X_]       :0\n",
                        "move_wards[_F_Y_]       :0\n",
                        "move_wards[_F_Z_]       :0\n",
                        "move_wards[_F_T_]       :0\n",
                        "move_wards[_BX_BY_]     :0\n",
                        "move_wards[_BX_BZ_]     :0\n",
                        "move_wards[_BX_BT_]     :0\n",
                        "move_wards[_BY_BZ_]     :0\n",
                        "move_wards[_BY_BT_]     :0\n",
                        "move_wards[_BZ_BT_]     :0\n",
                        "move_wards[_FX_BY_]     :0\n",
                        "move_wards[_FX_BZ_]     :0\n",
                        "move_wards[_FX_BT_]     :0\n",
                        "move_wards[_FY_BZ_]     :0\n",
                        "move_wards[_FY_BT_]     :0\n",
                        "move_wards[_FZ_BT_]     :0\n",
                        "move_wards[_BX_FY_]     :0\n",
                        "move_wards[_BX_FZ_]     :0\n",
                        "move_wards[_BX_FT_]     :0\n",
                        "move_wards[_BY_FZ_]     :0\n",
                        "move_wards[_BY_FT_]     :0\n",
                        "move_wards[_BZ_FT_]     :0\n",
                        "move_wards[_FX_FY_]     :0\n",
                        "move_wards[_FX_FZ_]     :0\n",
                        "move_wards[_FX_FT_]     :0\n",
                        "move_wards[_FY_FZ_]     :0\n",
                        "move_wards[_FY_FT_]     :0\n",
                        "move_wards[_FZ_FT_]     :0\n",
                        "set_ptr:0x556f1c9b1070\n",
                        "long long set_ptr:93935709655152\n",
                        "lattice set init total time:0.016634692 sec\n"
                    ]
                }
            ],
            "source": [
                "wilson_dslash_oe_dag_params = params.copy()\n",
                "wilson_dslash_oe_dag_params[define._SET_INDEX_] = 4\n",
                "wilson_dslash_oe_dag_params[define._SET_PLAN_] = define._SET_PLAN0_\n",
                "wilson_dslash_oe_dag_params[define._PARITY_] = define._ODD_\n",
                "wilson_dslash_oe_dag_params[define._DAGGER_] = define._USE_\n",
                "qcu.applyInitQcu(set_ptrs, wilson_dslash_oe_dag_params, argv)"
            ]
        },
        {
            "cell_type": "code",
            "execution_count": 7,
            "metadata": {},
            "outputs": [
                {
                    "name": "stdout",
                    "output_type": "stream",
                    "text": [
                        "Set pointers: [93935699377488 93935709166224 93935709340352 93935709516880\n",
                        " 93935709655152              0              0              0\n",
                        "              0              0]\n",
                        "Set pointers data: <memory at 0x7f54e9e3ce80>\n"
                    ]
                }
            ],
            "source": [
                "print(\"Set pointers:\", set_ptrs)\n",
                "print(\"Set pointers data:\", set_ptrs.data)"
            ]
        },
        {
            "cell_type": "markdown",
            "metadata": {},
            "source": [
                "# Read from hdf5 files."
            ]
        },
        {
            "cell_type": "code",
            "execution_count": 8,
            "metadata": {},
            "outputs": [
                {
                    "name": "stdout",
                    "output_type": "stream",
                    "text": [
                        "Gauge filename: quda_wilson-bistabcg-gauge_-32-32-32-32-1048576-1-1-1-1-0-0-1-0-f.h5\n",
                        "Grid Index T: 0, Grid Index Z: 0, Grid Index Y: 0, Grid Index X: 0\n",
                        "Grid Lat T: 32, Grid Lat Z: 32, Grid Lat Y: 32, Grid Lat X: 16\n",
                        "All Dest Shape: (3, 3, 4, 2, 32, 32, 32, 16)\n"
                    ]
                },
                {
                    "name": "stdout",
                    "output_type": "stream",
                    "text": [
                        "Dest Shape: (3, 3, 4, 2, 32, 32, 32, 16)\n",
                        "Fermion in filename: quda_wilson-bistabcg-fermion-in_-32-32-32-32-1048576-1-1-1-1-0-0-1-0-f.h5\n",
                        "Grid Index T: 0, Grid Index Z: 0, Grid Index Y: 0, Grid Index X: 0\n",
                        "Grid Lat T: 32, Grid Lat Z: 32, Grid Lat Y: 32, Grid Lat X: 16\n",
                        "All Dest Shape: (2, 4, 3, 32, 32, 32, 16)\n",
                        "Dest Shape: (2, 4, 3, 32, 32, 32, 16)\n",
                        "Fermion out filename: quda_wilson-bistabcg-fermion-out_-32-32-32-32-1048576-1-1-1-1-0-0-1-0-f.h5\n",
                        "Grid Index T: 0, Grid Index Z: 0, Grid Index Y: 0, Grid Index X: 0\n",
                        "Grid Lat T: 32, Grid Lat Z: 32, Grid Lat Y: 32, Grid Lat X: 16\n",
                        "All Dest Shape: (2, 4, 3, 32, 32, 32, 16)\n",
                        "Dest Shape: (2, 4, 3, 32, 32, 32, 16)\n",
                        "Fermion out data: <MemoryPointer 0xb28400000 device=0 mem=<cupy.cuda.memory.PooledMemory object at 0x7f54ea32b430>>\n",
                        "Fermion out shape: (2, 4, 3, 32, 32, 32, 16)\n",
                        "Orth orth_eigenvectors filename: quda_wilson-bistabcg-orth_eigenvectors_-32-32-32-32-1048576-1-1-1-1-0-0-1-0-f.h5\n",
                        "Dest Shape: (24, 4, 3, 8, 4, 4, 8, 4, 8, 4, 4)\n",
                        "Orth orth_eigenvectors data: <MemoryPointer 0xb2e400000 device=0 mem=<cupy.cuda.memory.PooledMemory object at 0x7f55680e4530>>\n",
                        "Orth orth_eigenvectors shape: (24, 4, 3, 32, 32, 32, 16)\n"
                    ]
                }
            ],
            "source": [
                "print(\"Gauge filename:\", gauge_filename)\n",
                "gauge = io.hdf5_xxxtzyx2grid_xxxtzyx(params, gauge_filename)\n",
                "fermion_in_filename = gauge_filename.replace(\"gauge\", \"fermion-in\")\n",
                "print(\"Fermion in filename:\", fermion_in_filename)\n",
                "fermion_in = io.hdf5_xxxtzyx2grid_xxxtzyx(\n",
                "    params, fermion_in_filename)\n",
                "fermion_out_filename = gauge_filename.replace(\"gauge\", \"fermion-out\")\n",
                "print(\"Fermion out filename:\", fermion_out_filename)\n",
                "quda_fermion_out = io.hdf5_xxxtzyx2grid_xxxtzyx(\n",
                "    params, fermion_out_filename)\n",
                "fermion_out = cp.zeros_like(fermion_in)\n",
                "print(\"Fermion out data:\", fermion_out.data)\n",
                "print(\"Fermion out shape:\", fermion_out.shape)\n",
                "# eigenvalues_filename = gauge_filename.replace(\"gauge\", \"eigenvalues\")\n",
                "# print(\"Eigenvalues filename:\", eigenvalues_filename)\n",
                "# eigenvalues = io.hdf5_xxx2xxx(file_name=eigenvalues_filename)\n",
                "# print(\"Eigenvalues data:\", eigenvalues.data)\n",
                "# print(\"Eigenvalues shape:\", eigenvalues.shape)\n",
                "# eigenvectors_filename = gauge_filename.replace(\"gauge\", \"eigenvectors\")\n",
                "# print(\"Eigenvectors filename:\", eigenvectors_filename)\n",
                "# eigenvectors = io.eigenvectors2esctzyx(\n",
                "#     params=params, eigenvectors=io.hdf5_xxx2xxx(file_name=eigenvectors_filename))\n",
                "# print(\"Eigenvectors data:\", eigenvectors.data)\n",
                "# print(\"Eigenvectors shape:\", eigenvectors.shape)\n",
                "orth_eigenvectors_filename = gauge_filename.replace(\"gauge\", \"orth_eigenvectors\")\n",
                "print(\"Orth orth_eigenvectors filename:\", orth_eigenvectors_filename)\n",
                "orth_eigenvectors = io.eigenvectors2esctzyx(\n",
                "    params=params, eigenvectors=io.hdf5_xxx2xxx(file_name=orth_eigenvectors_filename))\n",
                "print(\"Orth orth_eigenvectors data:\", orth_eigenvectors.data)\n",
                "print(\"Orth orth_eigenvectors shape:\", orth_eigenvectors.shape)\n"
            ]
        },
        {
            "cell_type": "markdown",
            "metadata": {},
            "source": [
                "# Run wilson bistabcg from pyqcu test."
            ]
        },
        {
            "cell_type": "code",
            "execution_count": 9,
            "metadata": {},
            "outputs": [
                {
                    "name": "stdout",
                    "output_type": "stream",
                    "text": [
                        "Fermion out data: <MemoryPointer 0xb28400000 device=0 mem=<cupy.cuda.memory.PooledMemory object at 0x7f54ea32b430>>\n",
                        "Fermion out shape: (2, 4, 3, 32, 32, 32, 16)\n",
                        "QUDA Fermion out data: <MemoryPointer 0xb22400000 device=0 mem=<cupy.cuda.memory.PooledMemory object at 0x7f54ea359330>>\n",
                        "QUDA Fermion out shape: (2, 4, 3, 32, 32, 32, 16)\n",
                        "##RANK:0##LOOP:118##Residual:(2.27222e-10,1.97371e-23i)\n",
                        "multi-gpu wilson bistabcg total time: (without malloc free memcpy) :1.823604608 sec\n",
                        "######TIME  :4959.49######\n",
                        "##RANK      :0\n",
                        "##LOOP      :999\n",
                        "##tmp0      :(1.03257e-11,2.49512e-12i)\n",
                        "##tmp1      :(4.79284e-12,-2.12052e-23i)\n",
                        "##rho_prev  :(-2.31288e-06,4.83391e-06i)\n",
                        "##rho       :(-2.31288e-06,4.83391e-06i)\n",
                        "##alpha     :(0.629024,-0.434716i)\n",
                        "##beta      :(0.059529,-0.0243195i)\n",
                        "##omega     :(2.1544,0.520593i)\n",
                        "##send_tmp  :(0.00984323,0i)\n",
                        "##norm2_tmp :(4.97484e+07,0.000224118i)\n",
                        "##diff_tmp  :(1.9786e-10,-8.91365e-22i)\n",
                        "##lat_4dim  :(524288,0i)\n",
                        "Difference: 3.056118e-07\n"
                    ]
                }
            ],
            "source": [
                "qcu.applyWilsonBistabCgQcu(fermion_out, fermion_in,\n",
                "                           gauge, set_ptrs, wilson_cg_params)\n",
                "# qcu.applyWilsonCgQcu(fermion_out, fermion_in,\n",
                "#                            gauge, set_ptrs, wilson_cg_params)\n",
                "print(\"Fermion out data:\", fermion_out.data)\n",
                "print(\"Fermion out shape:\", fermion_out.shape)\n",
                "print(\"QUDA Fermion out data:\", quda_fermion_out.data)\n",
                "print(\"QUDA Fermion out shape:\", quda_fermion_out.shape)\n",
                "print(\"Difference:\", cp.linalg.norm(fermion_out -\n",
                "      quda_fermion_out)/cp.linalg.norm(quda_fermion_out))"
            ]
        },
        {
            "cell_type": "markdown",
            "metadata": {},
            "source": [
                "# Give CG & BISTABCG Dslash.\n",
                "> src_o-set_ptr->kappa()**2*dslash_oe(dslash_eo(src_o))"
            ]
        },
        {
            "cell_type": "code",
            "execution_count": 10,
            "metadata": {},
            "outputs": [],
            "source": [
                "def cg_dslash_no_dag(src):\n",
                "    tmp0 = cp.zeros_like(src)\n",
                "    tmp1 = cp.zeros_like(src)\n",
                "    qcu.applyWilsonDslashQcu(\n",
                "        tmp0, src, gauge, set_ptrs, wilson_dslash_eo_params)\n",
                "    qcu.applyWilsonDslashQcu(\n",
                "        tmp1, tmp0, gauge, set_ptrs, wilson_dslash_oe_params)\n",
                "    return src-kappa**2*tmp1\n",
                "\n",
                "\n",
                "def cg_dslash_dag(src):\n",
                "    tmp0 = cp.zeros_like(src)\n",
                "    tmp1 = cp.zeros_like(src)\n",
                "    qcu.applyWilsonDslashQcu(\n",
                "        tmp0, src, gauge, set_ptrs, wilson_dslash_eo_dag_params)\n",
                "    qcu.applyWilsonDslashQcu(\n",
                "        tmp1, tmp0, gauge, set_ptrs, wilson_dslash_oe_dag_params)\n",
                "    return src-kappa**2*tmp1\n",
                "\n",
                "\n",
                "def cg_dslash(src):\n",
                "    return cg_dslash_dag(cg_dslash_no_dag(src))\n",
                "\n",
                "def bistabcg_dslash(src):\n",
                "    return cg_dslash_no_dag(src)\n",
                "\n"
            ]
        },
        {
            "cell_type": "markdown",
            "metadata": {},
            "source": [
                "# Give matvec."
            ]
        },
        {
            "cell_type": "code",
            "execution_count": 11,
            "metadata": {},
            "outputs": [],
            "source": [
                "def matvec(src):\n",
                "    return cg_dslash(src)"
            ]
        },
        {
            "cell_type": "markdown",
            "metadata": {},
            "source": [
                "# Run matvec(eigenvector[.]) ?= eigenvalue[.]*eigenvector[.] for eigen test. (pass, don't run this)"
            ]
        },
        {
            "cell_type": "code",
            "execution_count": 12,
            "metadata": {},
            "outputs": [],
            "source": [
                "# for i, ev in enumerate(eigenvalues):\n",
                "#     print(f\"λ_{i} = {ev:.2e}\")\n",
                "#     # Verify eigenvector\n",
                "#     v = eigenvectors[i]\n",
                "#     w = cp.zeros_like(v)\n",
                "#     w = cg_dslash(v)\n",
                "#     error = cp.linalg.norm(w - ev * v) / cp.linalg.norm(w)\n",
                "#     print(f\"Relative error: {error:.2e}\")\n",
                "#     j = i+1\n",
                "#     if j == len(eigenvalues):\n",
                "#         j = 0\n",
                "#     print(\n",
                "#         f\"Diff between λ_{i} and λ_{j}: {cp.linalg.norm(eigenvectors[i] - eigenvectors[j])/cp.linalg.norm(eigenvectors[i]):.2e}\")"
            ]
        },
        {
            "cell_type": "markdown",
            "metadata": {},
            "source": [
                "# Give guage's eigenvalues and eigenvectors to hdf5 files. (pass, don't run this)"
            ]
        },
        {
            "cell_type": "code",
            "execution_count": 13,
            "metadata": {},
            "outputs": [],
            "source": [
                "# eigen_solver = eigen.solver(\n",
                "#     n=params[define._LAT_XYZT_] * define._LAT_HALF_SC_, k=define._LAT_Ne_,matvec=cg_dslash,dtype=gauge.dtype)\n",
                "# eigenvalues, eigenvectors = eigen_solver.run()\n",
                "# io.xxx2hdf5_xxx(\n",
                "#     eigenvalues, params, gauge_filename.replace(\"gauge\", \"eigenvalues\"))\n",
                "# io.xxx2hdf5_xxx(\n",
                "#     eigenvectors, params, gauge_filename.replace(\"gauge\", \"eigenvectors\"))"
            ]
        },
        {
            "cell_type": "markdown",
            "metadata": {},
            "source": [
                "# Origin CG. (pass, don't run this)"
            ]
        },
        {
            "cell_type": "code",
            "execution_count": 14,
            "metadata": {},
            "outputs": [],
            "source": [
                "# b_e = fermion_in[define._EVEN_].flatten()\n",
                "# b_o = fermion_in[define._ODD_].flatten()\n",
                "# b__o = cp.zeros_like(b_o)\n",
                "# tmp = cp.zeros_like(b_o)\n",
                "# # b__o=b_o+kappa*D_oe(b_e)\n",
                "# qcu.applyWilsonDslashQcu(tmp, b_e, gauge, set_ptrs, wilson_dslash_oe_params)\n",
                "# b__o = b_o+kappa*tmp\n",
                "# # b__o -> Dslash^dag b__o\n",
                "# b__o = cg_dslash_dag(b__o)\n",
                "# # Dslash(x_o)=b__o\n",
                "# cg_solver = cg.slover(b=b__o, matvec=cg_dslash, tol=1e-10, max_iter=1000000)\n",
                "# x_o = cg_solver.run()\n",
                "# # x_e  =b_e+kappa*D_eo(x_o)\n",
                "# qcu.applyWilsonDslashQcu(tmp, x_o, gauge, set_ptrs, wilson_dslash_eo_params)\n",
                "# x_e = b_e+kappa*tmp\n",
                "# # give qcu_fermion_out\n",
                "# qcu_fermion_out = cp.zeros_like(quda_fermion_out)\n",
                "# qcu_fermion_out[define._EVEN_] = x_e.reshape(\n",
                "#     quda_fermion_out[define._EVEN_].shape)\n",
                "# qcu_fermion_out[define._ODD_] = x_o.reshape(\n",
                "#     quda_fermion_out[define._ODD_].shape)\n",
                "# print(np.linalg.norm(qcu_fermion_out-quda_fermion_out) /\n",
                "#       np.linalg.norm(quda_fermion_out))"
            ]
        },
        {
            "cell_type": "markdown",
            "metadata": {},
            "source": [
                "# Origin BISTABCG. (pass, don't run this)"
            ]
        },
        {
            "cell_type": "code",
            "execution_count": 15,
            "metadata": {},
            "outputs": [],
            "source": [
                "# b_e = fermion_in[define._EVEN_].flatten()\n",
                "# b_o = fermion_in[define._ODD_].flatten()\n",
                "# b__o = cp.zeros_like(b_o)\n",
                "# tmp = cp.zeros_like(b_o)\n",
                "# # b__o=b_o+kappa*D_oe(b_e)\n",
                "# qcu.applyWilsonDslashQcu(tmp, b_e, gauge, set_ptrs, wilson_dslash_oe_params)\n",
                "# b__o = b_o+kappa*tmp\n",
                "# # Dslash(x_o)=b__o\n",
                "# bistabcg_solver = bistabcg.slover(\n",
                "#     b=b__o, matvec=bistabcg_dslash, tol=1e-10, max_iter=1000000)\n",
                "# x_o = bistabcg_solver.run()\n",
                "# # x_e  =b_e+kappa*D_eo(x_o)\n",
                "# qcu.applyWilsonDslashQcu(tmp, x_o, gauge, set_ptrs, wilson_dslash_eo_params)\n",
                "# x_e = b_e+kappa*tmp\n",
                "# # give qcu_fermion_out\n",
                "# qcu_fermion_out = cp.zeros_like(quda_fermion_out)\n",
                "# qcu_fermion_out[define._EVEN_] = x_e.reshape(\n",
                "#     quda_fermion_out[define._EVEN_].shape)\n",
                "# qcu_fermion_out[define._ODD_] = x_o.reshape(\n",
                "#     quda_fermion_out[define._ODD_].shape)\n",
                "# print(np.linalg.norm(qcu_fermion_out-quda_fermion_out) / \\\n",
                "#     np.linalg.norm(quda_fermion_out))"
            ]
        },
        {
            "cell_type": "markdown",
            "metadata": {},
            "source": [
                "# Give guage's orth_eigenvectors to hdf5 files. (pass, don't run this)"
            ]
        },
        {
            "cell_type": "code",
            "execution_count": 16,
            "metadata": {},
            "outputs": [],
            "source": [
                "# _eigenvectors = io.xxxtzyx2mg_xxxtzyx(input_array=eigenvectors, params=params)\n",
                "# _eigenvectors.shape  # escTtZzYyXx\n",
                "# def orthogonalize(eigenvectors):\n",
                "#     _eigenvectors = eigenvectors.copy()\n",
                "#     size_e, size_s, size_c, size_T, size_t, size_Z, size_z, size_Y, size_y, size_X, size_x = eigenvectors.shape\n",
                "#     print(size_e, size_s, size_c, size_T, size_t,\n",
                "#           size_Z, size_z, size_Y, size_y, size_X, size_x)\n",
                "#     for T in range(size_T):\n",
                "#         for Z in range(size_Z):\n",
                "#             for Y in range(size_Y):\n",
                "#                 for X in range(size_X):\n",
                "#                     origin_matrix = eigenvectors[:,\n",
                "#                                                  :, :, T, :, Z, :, Y, :, X, :]\n",
                "#                     _shape = origin_matrix.shape\n",
                "#                     _origin_matrix = origin_matrix.reshape(size_e, -1)\n",
                "#                     condition_number = np.linalg.cond(_origin_matrix.get())\n",
                "#                     print(f\"矩阵条件数: {condition_number}\")\n",
                "#                     a = _origin_matrix[:, 0]\n",
                "#                     b = _origin_matrix[:, -1]\n",
                "#                     print(cp.dot(a.conj(), b))\n",
                "#                     Q = cp.linalg.qr(_origin_matrix.T)[0]\n",
                "#                     condition_number = np.linalg.cond(Q.get())\n",
                "#                     print(f\"矩阵条件数: {condition_number}\")\n",
                "#                     a = Q[:, 0]\n",
                "#                     b = Q[:, -1]\n",
                "#                     print(cp.dot(a.conj(), b))\n",
                "#                     _eigenvectors[:, :, :, T, :, Z, :, Y, :, X, :] = Q.T.reshape(\n",
                "#                         _shape)\n",
                "#     return _eigenvectors\n",
                "# orth_eigenvectors = orthogonalize(_eigenvectors)\n",
                "# io.xxx2hdf5_xxx(\n",
                "#     orth_eigenvectors, params, gauge_filename.replace(\"gauge\", \"orth_eigenvectors\"))"
            ]
        },
        {
            "cell_type": "markdown",
            "metadata": {},
            "source": [
                "# MultiGrid - give grids."
            ]
        },
        {
            "cell_type": "code",
            "execution_count": 17,
            "metadata": {},
            "outputs": [
                {
                    "name": "stdout",
                    "output_type": "stream",
                    "text": [
                        "Input Array Shape: (24, 4, 3, 32, 32, 32, 16)\n",
                        "Dest Shape: (24, 4, 3, 8, 4, 4, 8, 4, 8, 4, 4)\n",
                        "Input Array Shape: (4, 3, 32, 32, 32, 16)\n",
                        "Dest Shape: (4, 3, 8, 4, 4, 8, 4, 8, 4, 4)\n"
                    ]
                }
            ],
            "source": [
                "testvectors = io.xxxtzyx2mg_xxxtzyx(input_array=orth_eigenvectors, params=params)\n",
                "_src = io.xxxtzyx2mg_xxxtzyx(\n",
                "    input_array=fermion_in[define._EVEN_], params=params)"
            ]
        },
        {
            "cell_type": "markdown",
            "metadata": {},
            "source": [
                "# MultiGrid - R*vector.\n",
                "![](./image0-dev40.png)"
            ]
        },
        {
            "cell_type": "code",
            "execution_count": 18,
            "metadata": {},
            "outputs": [],
            "source": [
                "r_src = _src\n",
                "\n",
                "\n",
                "def r_vec(src):\n",
                "    return contract(\"escTtZzYyXx,scTtZzYyXx->eTZYX\", testvectors, src)\n",
                "\n",
                "\n",
                "r_dest = r_vec(r_src)"
            ]
        },
        {
            "cell_type": "code",
            "execution_count": 19,
            "metadata": {},
            "outputs": [
                {
                    "data": {
                        "text/plain": [
                            "(24, 8, 4, 4, 4)"
                        ]
                    },
                    "execution_count": 19,
                    "metadata": {},
                    "output_type": "execute_result"
                }
            ],
            "source": [
                "r_dest.shape"
            ]
        },
        {
            "cell_type": "markdown",
            "metadata": {},
            "source": [
                "# MultiGrid - P*vector.\n",
                "![](./image1-dev40.png)\n"
            ]
        },
        {
            "cell_type": "code",
            "execution_count": 20,
            "metadata": {},
            "outputs": [],
            "source": [
                "p_src = r_dest\n",
                "\n",
                "\n",
                "def p_vec(src):\n",
                "    return contract(\"escTtZzYyXx,eTZYX->scTtZzYyXx\", cp.conj(testvectors), src)\n",
                "\n",
                "\n",
                "p_dest = p_vec(p_src)"
            ]
        },
        {
            "cell_type": "code",
            "execution_count": 21,
            "metadata": {},
            "outputs": [
                {
                    "data": {
                        "text/plain": [
                            "(4, 3, 8, 4, 4, 8, 4, 8, 4, 4)"
                        ]
                    },
                    "execution_count": 21,
                    "metadata": {},
                    "output_type": "execute_result"
                }
            ],
            "source": [
                "p_dest.shape"
            ]
        },
        {
            "cell_type": "markdown",
            "metadata": {},
            "source": [
                "# MultiGrid - verify above.\n",
                "![](./image2-dev40.png)"
            ]
        },
        {
            "cell_type": "code",
            "execution_count": 22,
            "metadata": {},
            "outputs": [
                {
                    "name": "stdout",
                    "output_type": "stream",
                    "text": [
                        "3547.24\n",
                        "3531.9172\n"
                    ]
                }
            ],
            "source": [
                "print(cp.linalg.norm(r_src))\n",
                "print(cp.linalg.norm(p_dest))"
            ]
        },
        {
            "cell_type": "code",
            "execution_count": 23,
            "metadata": {},
            "outputs": [
                {
                    "name": "stdout",
                    "output_type": "stream",
                    "text": [
                        "0.09284756\n"
                    ]
                }
            ],
            "source": [
                "print(cp.linalg.norm(r_src-p_dest)/cp.linalg.norm(r_src))"
            ]
        },
        {
            "cell_type": "code",
            "execution_count": 24,
            "metadata": {},
            "outputs": [
                {
                    "name": "stdout",
                    "output_type": "stream",
                    "text": [
                        "0.09284756\n"
                    ]
                }
            ],
            "source": [
                "print(cp.linalg.norm(r_src-p_vec(r_vec(r_src)))/cp.linalg.norm(r_src))"
            ]
        },
        {
            "cell_type": "code",
            "execution_count": 25,
            "metadata": {},
            "outputs": [
                {
                    "data": {
                        "text/plain": [
                            "array([1.+1.j, 1.+1.j, 1.+1.j, 1.+1.j, 1.+1.j, 1.+1.j, 1.+1.j, 1.+1.j,\n",
                            "       1.+1.j, 1.+1.j, 1.+1.j, 1.+1.j, 1.+1.j, 1.+1.j, 1.+1.j, 1.+1.j,\n",
                            "       1.+1.j, 1.+1.j, 1.+1.j, 1.+1.j, 1.+1.j, 1.+1.j, 1.+1.j, 1.+1.j,\n",
                            "       1.+1.j, 1.+1.j, 1.+1.j, 1.+1.j, 1.+1.j, 1.+1.j, 1.+1.j, 1.+1.j,\n",
                            "       1.+1.j, 1.+1.j, 1.+1.j, 1.+1.j, 1.+1.j, 1.+1.j, 1.+1.j, 1.+1.j,\n",
                            "       1.+1.j, 1.+1.j, 1.+1.j, 1.+1.j, 1.+1.j, 1.+1.j, 1.+1.j, 1.+1.j,\n",
                            "       1.+1.j, 1.+1.j], dtype=complex64)"
                        ]
                    },
                    "execution_count": 25,
                    "metadata": {},
                    "output_type": "execute_result"
                }
            ],
            "source": [
                "r_src.flatten()[:50]"
            ]
        },
        {
            "cell_type": "code",
            "execution_count": 26,
            "metadata": {},
            "outputs": [
                {
                    "data": {
                        "text/plain": [
                            "array([1.+1.j, 1.+1.j, 1.+1.j, 1.+1.j, 1.+1.j, 1.+1.j, 1.+1.j, 1.+1.j,\n",
                            "       1.+1.j, 1.+1.j, 1.+1.j, 1.+1.j, 1.+1.j, 1.+1.j, 1.+1.j, 1.+1.j,\n",
                            "       1.+1.j, 1.+1.j, 1.+1.j, 1.+1.j, 1.+1.j, 1.+1.j, 1.+1.j, 1.+1.j,\n",
                            "       1.+1.j, 1.+1.j, 1.+1.j, 1.+1.j, 1.+1.j, 1.+1.j, 1.+1.j, 1.+1.j,\n",
                            "       1.+1.j, 1.+1.j, 1.+1.j, 1.+1.j, 1.+1.j, 1.+1.j, 1.+1.j, 1.+1.j,\n",
                            "       1.+1.j, 1.+1.j, 1.+1.j, 1.+1.j, 1.+1.j, 1.+1.j, 1.+1.j, 1.+1.j,\n",
                            "       1.+1.j, 1.+1.j], dtype=complex64)"
                        ]
                    },
                    "execution_count": 26,
                    "metadata": {},
                    "output_type": "execute_result"
                }
            ],
            "source": [
                "r_src.flatten()[-50:]"
            ]
        },
        {
            "cell_type": "code",
            "execution_count": 27,
            "metadata": {},
            "outputs": [
                {
                    "data": {
                        "text/plain": [
                            "array([1.1924026 +0.96220475j, 1.1314651 +0.9596404j ,\n",
                            "       1.0552521 +0.8234522j , 1.0549538 +0.92514884j,\n",
                            "       0.9615977 +1.0393802j , 0.95300674+1.0415285j ,\n",
                            "       0.9523357 +0.9495436j , 0.78334856+1.0426004j ,\n",
                            "       1.1427466 +1.1257019j , 0.8673905 +1.072619j  ,\n",
                            "       0.7877028 +1.033166j  , 0.81615794+0.8263445j ,\n",
                            "       0.7418158 +1.0979842j , 0.9804515 +0.89743346j,\n",
                            "       0.99102736+0.9627855j , 1.045865  +1.0467168j ,\n",
                            "       1.0703461 +1.0456425j , 0.90627563+0.97132605j,\n",
                            "       1.0373149 +1.0902432j , 0.82147443+1.0707421j ,\n",
                            "       0.86649394+0.89142334j, 0.95891976+0.98738074j,\n",
                            "       0.8901605 +1.1672864j , 0.79725903+0.9623244j ,\n",
                            "       1.0696645 +0.9613617j , 0.9215935 +1.0815051j ,\n",
                            "       0.9532187 +0.92094266j, 1.1357502 +1.0021203j ,\n",
                            "       0.85560083+1.1228731j , 0.78500533+1.1069124j ,\n",
                            "       0.92780966+0.97881925j, 1.028975  +1.0910051j ,\n",
                            "       1.0465842 +0.9475676j , 0.9770593 +1.115533j  ,\n",
                            "       0.74214095+1.0821452j , 1.2050415 +1.0633073j ,\n",
                            "       0.97504765+1.0177624j , 0.9341303 +0.87132835j,\n",
                            "       1.0975842 +0.8605079j , 1.0766596 +0.9843882j ,\n",
                            "       0.94230986+1.0638049j , 0.84934783+0.9951315j ,\n",
                            "       0.966546  +0.95614547j, 1.0401032 +0.8999749j ,\n",
                            "       0.877297  +1.1863186j , 0.9379658 +0.91466343j,\n",
                            "       0.9376174 +0.8341174j , 0.9858768 +1.1092108j ,\n",
                            "       1.0666482 +0.85321116j, 0.97982866+1.002464j  ], dtype=complex64)"
                        ]
                    },
                    "execution_count": 27,
                    "metadata": {},
                    "output_type": "execute_result"
                }
            ],
            "source": [
                "p_dest.flatten()[:50]"
            ]
        },
        {
            "cell_type": "code",
            "execution_count": 28,
            "metadata": {},
            "outputs": [
                {
                    "data": {
                        "text/plain": [
                            "array([1.015209  +0.9675929j , 0.9580551 +0.8241955j ,\n",
                            "       0.93845475+0.98816234j, 1.0123483 +0.95277333j,\n",
                            "       1.1093609 +1.1002198j , 0.9865519 +0.99884725j,\n",
                            "       0.8775487 +0.9521471j , 0.8883637 +0.94987065j,\n",
                            "       1.1569403 +0.9969489j , 1.0115447 +1.0523158j ,\n",
                            "       1.2233114 +0.9101221j , 1.0171493 +1.0560522j ,\n",
                            "       0.80041045+1.0092261j , 0.94073445+0.9994043j ,\n",
                            "       1.1236668 +1.0416095j , 1.0656508 +1.0222751j ,\n",
                            "       0.94819057+1.0333216j , 0.91837484+0.98015106j,\n",
                            "       0.89652586+1.1199863j , 1.0369996 +0.9844777j ,\n",
                            "       0.96947694+0.8858478j , 0.92914003+1.1577988j ,\n",
                            "       1.1081312 +1.1393045j , 0.91411555+1.1345003j ,\n",
                            "       0.93595326+1.0770782j , 1.0835761 +0.9341351j ,\n",
                            "       1.0789803 +0.9809754j , 1.0851889 +0.9432453j ,\n",
                            "       0.9549229 +0.7950688j , 1.0810493 +0.94939154j,\n",
                            "       0.8450941 +1.0472014j , 0.77741945+0.9585086j ,\n",
                            "       0.94688606+1.1251614j , 1.0217459 +1.0306687j ,\n",
                            "       1.0300897 +1.018015j  , 0.82153714+0.9267591j ,\n",
                            "       0.9172411 +1.0215821j , 0.8237629 +1.0687822j ,\n",
                            "       0.95485914+1.0593991j , 0.869228  +1.0772448j ,\n",
                            "       0.8596413 +1.0724502j , 1.1492218 +1.0776478j ,\n",
                            "       0.98320353+0.8737036j , 1.2126398 +0.7978197j ,\n",
                            "       1.1458226 +1.1362293j , 1.0075446 +1.078426j  ,\n",
                            "       0.8938658 +1.0810436j , 0.9412687 +1.1216776j ,\n",
                            "       1.0281925 +1.0741253j , 0.9604247 +1.0471379j ], dtype=complex64)"
                        ]
                    },
                    "execution_count": 28,
                    "metadata": {},
                    "output_type": "execute_result"
                }
            ],
            "source": [
                "p_dest.flatten()[-50:]"
            ]
        },
        {
            "cell_type": "code",
            "execution_count": 29,
            "metadata": {},
            "outputs": [
                {
                    "data": {
                        "text/plain": [
                            "array(0.09284756, dtype=float32)"
                        ]
                    },
                    "execution_count": 29,
                    "metadata": {},
                    "output_type": "execute_result"
                }
            ],
            "source": [
                "cp.linalg.norm(r_src-p_dest)/cp.linalg.norm(r_src)"
            ]
        },
        {
            "cell_type": "code",
            "execution_count": 30,
            "metadata": {},
            "outputs": [
                {
                    "data": {
                        "text/plain": [
                            "array(0.09325037, dtype=float32)"
                        ]
                    },
                    "execution_count": 30,
                    "metadata": {},
                    "output_type": "execute_result"
                }
            ],
            "source": [
                "cp.linalg.norm(r_src-p_dest)/cp.linalg.norm(p_dest)"
            ]
        },
        {
            "cell_type": "code",
            "execution_count": 31,
            "metadata": {},
            "outputs": [
                {
                    "data": {
                        "text/plain": [
                            "array([1.1924028 +0.9622046j , 1.131465  +0.9596402j ,\n",
                            "       1.055252  +0.82345235j, 1.0549535 +0.9251491j ,\n",
                            "       0.96159875+1.0393807j , 0.9530078 +1.0415289j ,\n",
                            "       0.9523366 +0.9495442j , 0.7833492 +1.0426009j ,\n",
                            "       1.1427467 +1.1257019j , 0.8673905 +1.0726188j ,\n",
                            "       0.78770274+1.0331659j , 0.8161577 +0.8263445j ,\n",
                            "       0.74181604+1.0979842j , 0.9804518 +0.8974335j ,\n",
                            "       0.9910274 +0.96278584j, 1.0458647 +1.0467169j ,\n",
                            "       1.0703461 +1.0456423j , 0.9062754 +0.971326j  ,\n",
                            "       1.0373149 +1.0902435j , 0.8214741 +1.0707424j ,\n",
                            "       0.866495  +0.89142364j, 0.95892066+0.9873811j ,\n",
                            "       0.8901612 +1.167287j  , 0.79725975+0.96232486j,\n",
                            "       1.0696646 +0.9613615j , 0.9215934 +1.081505j  ,\n",
                            "       0.9532185 +0.92094254j, 1.13575   +1.0021201j ,\n",
                            "       0.85560113+1.1228732j , 0.78500557+1.1069125j ,\n",
                            "       0.9278096 +0.97881943j, 1.028975  +1.0910052j ,\n",
                            "       1.0465842 +0.94756746j, 0.97705925+1.1155329j ,\n",
                            "       0.7421407 +1.0821455j , 1.2050409 +1.0633075j ,\n",
                            "       0.97504866+1.0177628j , 0.93413115+0.87132865j,\n",
                            "       1.0975852 +0.86050844j, 1.0766603 +0.9843887j ,\n",
                            "       0.94230986+1.0638045j , 0.8493477 +0.99513143j,\n",
                            "       0.96654576+0.9561453j , 1.040103  +0.8999748j ,\n",
                            "       0.8772974 +1.1863189j , 0.93796587+0.91466343j,\n",
                            "       0.9376176 +0.8341174j , 0.98587674+1.1092111j ,\n",
                            "       1.0666482 +0.8532109j , 0.9798285 +1.002464j  ], dtype=complex64)"
                        ]
                    },
                    "execution_count": 31,
                    "metadata": {},
                    "output_type": "execute_result"
                }
            ],
            "source": [
                "p_vec(r_vec(p_vec(r_vec(p_vec(r_vec(p_vec(r_vec(r_src)))))))).flatten()[:50]"
            ]
        },
        {
            "cell_type": "code",
            "execution_count": 32,
            "metadata": {},
            "outputs": [
                {
                    "data": {
                        "text/plain": [
                            "array(0.09284756, dtype=float32)"
                        ]
                    },
                    "execution_count": 32,
                    "metadata": {},
                    "output_type": "execute_result"
                }
            ],
            "source": [
                "cp.linalg.norm(r_src-p_vec(r_vec(p_vec(r_vec(p_vec(r_vec(p_vec(r_vec(r_src)))))))))/cp.linalg.norm(r_src) #???"
            ]
        },
        {
            "cell_type": "code",
            "execution_count": 33,
            "metadata": {},
            "outputs": [],
            "source": [
                "# _mat = contract(\"escTtZzYyXx,escTtZzYyXx->scTtZzYyXx\",\n",
                "#                 testvectors, cp.conj(testvectors)).flatten()\n",
                "# print(cp.linalg.norm(_mat))\n",
                "# print(_mat[:100])"
            ]
        },
        {
            "cell_type": "markdown",
            "metadata": {},
            "source": [
                "# MultiGrid - R*matvec\\*P."
            ]
        },
        {
            "cell_type": "code",
            "execution_count": 34,
            "metadata": {},
            "outputs": [],
            "source": [
                "def _r_matvec_p(src, matvec):\n",
                "    return r_vec(matvec(p_vec(io.xxx2eTZYX(src, params))))\n",
                "\n",
                "\n",
                "def r_matvec_p(src, matvec):\n",
                "    return io.array2xxx(_r_matvec_p(src, matvec))"
            ]
        },
        {
            "cell_type": "markdown",
            "metadata": {},
            "source": [
                "# MultiGrid - verify above."
            ]
        },
        {
            "cell_type": "code",
            "execution_count": 35,
            "metadata": {},
            "outputs": [
                {
                    "name": "stdout",
                    "output_type": "stream",
                    "text": [
                        "multi-gpu wilson dslash total time: (without malloc free memcpy) :0.001968225 sec\n",
                        "multi-gpu wilson dslash total time: (without malloc free memcpy) :0.001909832 sec\n",
                        "multi-gpu wilson dslash total time: (without malloc free memcpy) :0.002023475 sec\n",
                        "multi-gpu wilson dslash total time: (without malloc free memcpy) :0.001938515 sec\n"
                    ]
                }
            ],
            "source": [
                "D_r_src = matvec(r_src)"
            ]
        },
        {
            "cell_type": "code",
            "execution_count": 36,
            "metadata": {},
            "outputs": [
                {
                    "data": {
                        "text/plain": [
                            "array([ 0.09512203-0.15065098j,  0.02459466-0.10281426j,\n",
                            "        0.14802423-0.04478627j,  0.05378214-0.09193704j,\n",
                            "       -0.08474712+0.0208632j , -0.06649091+0.06668942j,\n",
                            "       -0.03820895+0.03143284j, -0.06110204+0.1998555j ,\n",
                            "       -0.09466349-0.10954653j, -0.09903856+0.15328293j,\n",
                            "       -0.11581516+0.23665299j,  0.15433274+0.0833789j ,\n",
                            "       -0.11228501+0.18325019j,  0.07416645+0.00099519j,\n",
                            "        0.05309803-0.03660914j,  0.034646  -0.03932991j,\n",
                            "       -0.00817882-0.03089109j,  0.03485045+0.13626698j,\n",
                            "       -0.12274602-0.06901661j, -0.10658678+0.15540114j,\n",
                            "        0.09019466+0.07479304j,  0.00329622+0.01262958j,\n",
                            "       -0.2735389 +0.08964469j, -0.02719212+0.18662325j,\n",
                            "        0.07507145-0.0618236j , -0.09112616+0.10951558j,\n",
                            "        0.08583128+0.02523299j, -0.0734987 -0.1731855j ,\n",
                            "       -0.09989857+0.04082112j, -0.1259279 +0.17906842j,\n",
                            "        0.00141903+0.04172344j, -0.08249421-0.07952813j,\n",
                            "        0.06730361-0.03395787j, -0.16046013+0.01053373j,\n",
                            "       -0.04409004+0.2682615j , -0.02350282-0.24344619j,\n",
                            "       -0.07357956-0.02147017j,  0.10150713+0.04685054j,\n",
                            "        0.08939738-0.11498565j,  0.02317201-0.12492314j,\n",
                            "       -0.06684443+0.09331753j, -0.00501306+0.15283272j,\n",
                            "        0.01561616-0.00279335j,  0.06775928-0.08900752j,\n",
                            "       -0.17080909+0.06371073j,  0.06134245-0.00578983j,\n",
                            "        0.1402105 +0.04273148j, -0.11133838+0.01344034j,\n",
                            "        0.1807781 -0.10317934j, -0.01482414+0.03022685j], dtype=complex64)"
                        ]
                    },
                    "execution_count": 36,
                    "metadata": {},
                    "output_type": "execute_result"
                }
            ],
            "source": [
                "D_r_src.flatten()[:50]"
            ]
        },
        {
            "cell_type": "code",
            "execution_count": 37,
            "metadata": {},
            "outputs": [
                {
                    "name": "stdout",
                    "output_type": "stream",
                    "text": [
                        "Input Array Shape: (24, 8, 4, 4, 4)\n",
                        "Dest Shape: (24, 8, 4, 4, 4)\n",
                        "multi-gpu wilson dslash total time: (without malloc free memcpy) :0.001984026 sec\n",
                        "multi-gpu wilson dslash total time: (without malloc free memcpy) :0.001879833 sec\n",
                        "multi-gpu wilson dslash total time: (without malloc free memcpy) :0.001931566 sec\n",
                        "multi-gpu wilson dslash total time: (without malloc free memcpy) :0.001874710 sec\n"
                    ]
                }
            ],
            "source": [
                "p_r_D_p_r_dest=p_vec(_r_matvec_p(r_dest,matvec=cg_dslash))"
            ]
        },
        {
            "cell_type": "code",
            "execution_count": 38,
            "metadata": {},
            "outputs": [
                {
                    "data": {
                        "text/plain": [
                            "array([0.01284266+0.00043204j, 0.01207354+0.00220424j,\n",
                            "       0.0121465 +0.0025559j , 0.01484103+0.00671565j,\n",
                            "       0.00851426+0.0052227j , 0.00844077+0.00481056j,\n",
                            "       0.00867679+0.00409095j, 0.00811415+0.00531656j,\n",
                            "       0.00683777+0.00171679j, 0.0057756 +0.00181463j,\n",
                            "       0.00582205+0.00221079j, 0.00453556+0.00140342j,\n",
                            "       0.00929137+0.00846156j, 0.01103785+0.00450657j,\n",
                            "       0.01158802+0.00349668j, 0.0132275 +0.00333044j,\n",
                            "       0.01015243+0.00213161j, 0.00825791+0.00220426j,\n",
                            "       0.01114164+0.00498186j, 0.01093537+0.00712627j,\n",
                            "       0.00751002+0.00507913j, 0.00815575+0.00541701j,\n",
                            "       0.00889412+0.00674953j, 0.00828097+0.00466273j,\n",
                            "       0.00554528+0.00108429j, 0.00750764+0.00175549j,\n",
                            "       0.00710701+0.00027447j, 0.00992816+0.00175117j,\n",
                            "       0.01150915+0.01007911j, 0.00842286+0.00877829j,\n",
                            "       0.00990541+0.00592939j, 0.01135234+0.0060305j ,\n",
                            "       0.00789523+0.00191099j, 0.00920649+0.00426514j,\n",
                            "       0.00813269+0.00681124j, 0.0152209 +0.00934403j,\n",
                            "       0.0093232 +0.00641179j, 0.00897171+0.00561463j,\n",
                            "       0.01025988+0.00503405j, 0.01206068+0.00603514j,\n",
                            "       0.00739651+0.00101645j, 0.00761241+0.00068622j,\n",
                            "       0.00876786+0.00040486j, 0.00809938+0.00251473j,\n",
                            "       0.00910864+0.01164403j, 0.0077411 +0.00796689j,\n",
                            "       0.00878377+0.00592887j, 0.01077771+0.00696429j,\n",
                            "       0.00795493+0.00139952j, 0.00787737+0.00378944j], dtype=complex64)"
                        ]
                    },
                    "execution_count": 38,
                    "metadata": {},
                    "output_type": "execute_result"
                }
            ],
            "source": [
                "p_r_D_p_r_dest.flatten()[:50]"
            ]
        },
        {
            "cell_type": "code",
            "execution_count": 39,
            "metadata": {},
            "outputs": [
                {
                    "data": {
                        "text/plain": [
                            "array(0.9956338, dtype=float32)"
                        ]
                    },
                    "execution_count": 39,
                    "metadata": {},
                    "output_type": "execute_result"
                }
            ],
            "source": [
                "\n",
                "cp.linalg.norm(D_r_src-p_r_D_p_r_dest)/cp.linalg.norm(D_r_src)"
            ]
        },
        {
            "cell_type": "code",
            "execution_count": 40,
            "metadata": {},
            "outputs": [
                {
                    "data": {
                        "text/plain": [
                            "array([-26.228638-2.6980443j,  26.825924+2.2300706j,\n",
                            "       -27.157005-2.886311j ,  27.309052+2.1306527j,\n",
                            "        26.245262+3.1135411j,  26.968142+2.7365303j,\n",
                            "        27.338694+2.955482j ,  26.714493+2.8954268j,\n",
                            "       -26.562653-3.4426003j,  27.022251+3.223345j ,\n",
                            "        27.010738+2.8851447j,  26.904491+2.7066288j,\n",
                            "        26.563435+2.7313137j, -26.834703-2.6179743j,\n",
                            "        26.203568+2.8582335j,  26.13324 +2.7540636j,\n",
                            "       -26.757036-2.5445836j,  26.579767+2.9527426j,\n",
                            "        26.924713+2.852963j ,  26.084093+2.554791j ,\n",
                            "        26.118988+3.0851789j,  27.292454+2.5094728j,\n",
                            "        27.045673+2.9704423j,  25.87228 +2.7780027j,\n",
                            "        26.435436+3.0725877j,  26.982637+3.2305465j,\n",
                            "        26.135303+2.6885123j,  26.39829 +2.4337387j,\n",
                            "        26.226591+1.8348447j,  26.38916 +2.9997063j,\n",
                            "       -26.302986-2.5908453j, -26.14183 -1.8610659j,\n",
                            "        26.349154+3.348411j ,  26.792229+2.4964402j,\n",
                            "        26.288826+2.7947683j,  26.808006+2.8376613j,\n",
                            "        26.121277+3.1562634j,  27.091488+2.345375j ,\n",
                            "       -26.856401-1.7468529j,  26.554726+2.765019j ,\n",
                            "       -25.876747-2.7344403j,  26.149063+2.5493648j,\n",
                            "        26.642647+2.2751963j,  26.548607+2.3975246j,\n",
                            "       -26.416338-2.887288j ,  25.721813+2.6733246j,\n",
                            "       -26.019335-3.0499468j,  26.480003+2.0949492j,\n",
                            "       -26.195835-2.6230738j,  26.127144+2.5510411j], dtype=complex64)"
                        ]
                    },
                    "execution_count": 40,
                    "metadata": {},
                    "output_type": "execute_result"
                }
            ],
            "source": [
                "r_dest.flatten()[:50]"
            ]
        },
        {
            "cell_type": "code",
            "execution_count": 41,
            "metadata": {},
            "outputs": [
                {
                    "data": {
                        "text/plain": [
                            "array([1.1924026 +0.96220475j, 1.1314651 +0.9596404j ,\n",
                            "       1.0552521 +0.8234522j , 1.0549538 +0.92514884j,\n",
                            "       0.9615977 +1.0393802j , 0.95300674+1.0415285j ,\n",
                            "       0.9523357 +0.9495436j , 0.78334856+1.0426004j ,\n",
                            "       1.1427466 +1.1257019j , 0.8673905 +1.072619j  ,\n",
                            "       0.7877028 +1.033166j  , 0.81615794+0.8263445j ,\n",
                            "       0.7418158 +1.0979842j , 0.9804515 +0.89743346j,\n",
                            "       0.99102736+0.9627855j , 1.045865  +1.0467168j ,\n",
                            "       1.0703461 +1.0456425j , 0.90627563+0.97132605j,\n",
                            "       1.0373149 +1.0902432j , 0.82147443+1.0707421j ,\n",
                            "       0.86649394+0.89142334j, 0.95891976+0.98738074j,\n",
                            "       0.8901605 +1.1672864j , 0.79725903+0.9623244j ,\n",
                            "       1.0696645 +0.9613617j , 0.9215935 +1.0815051j ,\n",
                            "       0.9532187 +0.92094266j, 1.1357502 +1.0021203j ,\n",
                            "       0.85560083+1.1228731j , 0.78500533+1.1069124j ,\n",
                            "       0.92780966+0.97881925j, 1.028975  +1.0910051j ,\n",
                            "       1.0465842 +0.9475676j , 0.9770593 +1.115533j  ,\n",
                            "       0.74214095+1.0821452j , 1.2050415 +1.0633073j ,\n",
                            "       0.97504765+1.0177624j , 0.9341303 +0.87132835j,\n",
                            "       1.0975842 +0.8605079j , 1.0766596 +0.9843882j ,\n",
                            "       0.94230986+1.0638049j , 0.84934783+0.9951315j ,\n",
                            "       0.966546  +0.95614547j, 1.0401032 +0.8999749j ,\n",
                            "       0.877297  +1.1863186j , 0.9379658 +0.91466343j,\n",
                            "       0.9376174 +0.8341174j , 0.9858768 +1.1092108j ,\n",
                            "       1.0666482 +0.85321116j, 0.97982866+1.002464j  ], dtype=complex64)"
                        ]
                    },
                    "execution_count": 41,
                    "metadata": {},
                    "output_type": "execute_result"
                }
            ],
            "source": [
                "p_vec(r_dest).flatten()[:50]"
            ]
        },
        {
            "cell_type": "markdown",
            "metadata": {},
            "source": [
                "# MultiGrid - CG (BUG!!!)"
            ]
        },
        {
            "cell_type": "code",
            "execution_count": 42,
            "metadata": {},
            "outputs": [],
            "source": [
                "# b_e = fermion_in[define._EVEN_].flatten()\n",
                "# b_o = fermion_in[define._ODD_].flatten()\n",
                "# b__o = cp.zeros_like(b_o)\n",
                "# tmp = cp.zeros_like(b_o)\n",
                "# # b__o=b_o+kappa*D_oe(b_e)\n",
                "# qcu.applyWilsonDslashQcu(tmp, b_e, gauge, set_ptrs, wilson_dslash_oe_params)\n",
                "# b__o = b_o+kappa*tmp\n",
                "# # b__o -> Dslash^dag b__o\n",
                "# b__o = cg_dslash_dag(b__o)"
            ]
        },
        {
            "cell_type": "code",
            "execution_count": 43,
            "metadata": {},
            "outputs": [],
            "source": [
                "# # # Dslash(x_o)=b__o\n",
                "# # cg_solver = cg.slover(b=b__o, matvec=cg_dslash, tol=1e-10, max_iter=1000000)\n",
                "# # x_o = cg_solver.run()\n",
                "\n",
                "# # mg version\n",
                "# mg_b__o = r_vec(io.xxxtzyx2mg_xxxtzyx(io.fermion2sctzyx(b__o, params), params)).flatten()\n",
                "# cg_solver = cg.slover(b=mg_b__o, matvec=functools.partial(r_matvec_p, matvec=cg_dslash),\n",
                "#                       tol=1e-5, max_iter=1000000)\n",
                "# mg_x_o = cg_solver.run()"
            ]
        },
        {
            "cell_type": "code",
            "execution_count": 44,
            "metadata": {},
            "outputs": [],
            "source": [
                "# # x_e  =b_e+kappa*D_eo(x_o)\n",
                "# qcu.applyWilsonDslashQcu(tmp, x_o, gauge, set_ptrs, wilson_dslash_eo_params)\n",
                "# x_e = b_e+kappa*tmp\n",
                "# # give qcu_fermion_out\n",
                "# qcu_fermion_out = cp.zeros_like(quda_fermion_out)\n",
                "# qcu_fermion_out[define._EVEN_] = x_e.reshape(\n",
                "#     quda_fermion_out[define._EVEN_].shape)\n",
                "# qcu_fermion_out[define._ODD_] = x_o.reshape(\n",
                "#     quda_fermion_out[define._ODD_].shape)\n"
            ]
        },
        {
            "cell_type": "code",
            "execution_count": 45,
            "metadata": {},
            "outputs": [],
            "source": [
                "# print(np.linalg.norm(qcu_fermion_out-quda_fermion_out) / \\\n",
                "#     np.linalg.norm(quda_fermion_out))"
            ]
        },
        {
            "cell_type": "markdown",
            "metadata": {},
            "source": [
                "# MultiGrid - BISTABCG (TESTING......)"
            ]
        },
        {
            "cell_type": "code",
            "execution_count": 46,
            "metadata": {},
            "outputs": [
                {
                    "name": "stdout",
                    "output_type": "stream",
                    "text": [
                        "multi-gpu wilson dslash total time: (without malloc free memcpy) :0.001977882 sec\n"
                    ]
                }
            ],
            "source": [
                "b_e = fermion_in[define._EVEN_].flatten()\n",
                "b_o = fermion_in[define._ODD_].flatten()\n",
                "b__o = cp.zeros_like(b_o)\n",
                "tmp = cp.zeros_like(b_o)\n",
                "# b__o=b_o+kappa*D_oe(b_e)\n",
                "qcu.applyWilsonDslashQcu(tmp, b_e, gauge, set_ptrs, wilson_dslash_oe_params)\n",
                "b__o = b_o+kappa*tmp"
            ]
        },
        {
            "cell_type": "code",
            "execution_count": 47,
            "metadata": {},
            "outputs": [
                {
                    "name": "stdout",
                    "output_type": "stream",
                    "text": [
                        "Input Array Shape: (4, 3, 32, 32, 32, 16)\n",
                        "Dest Shape: (4, 3, 8, 4, 4, 8, 4, 8, 4, 4)\n",
                        "Input Array Shape: (12288,)\n",
                        "Dest Shape: (24, 8, 4, 4, 4)\n",
                        "multi-gpu wilson dslash total time: (without malloc free memcpy) :0.040120351 sec\n",
                        "multi-gpu wilson dslash total time: (without malloc free memcpy) :0.001937329 sec\n",
                        "Input Array Shape: (12288,)\n",
                        "Dest Shape: (24, 8, 4, 4, 4)\n",
                        "multi-gpu wilson dslash total time: (without malloc free memcpy) :0.041344858 sec\n",
                        "multi-gpu wilson dslash total time: (without malloc free memcpy) :0.001940737 sec\n",
                        "Input Array Shape: (12288,)\n",
                        "Dest Shape: (24, 8, 4, 4, 4)\n",
                        "multi-gpu wilson dslash total time: (without malloc free memcpy) :0.041942742 sec\n",
                        "multi-gpu wilson dslash total time: (without malloc free memcpy) :0.001917561 sec\n",
                        "Iteration 0: Residual = 4.921137e+07, Time = 0.414537 s\n",
                        "Input Array Shape: (12288,)\n",
                        "Dest Shape: (24, 8, 4, 4, 4)\n",
                        "multi-gpu wilson dslash total time: (without malloc free memcpy) :0.039604156 sec\n",
                        "multi-gpu wilson dslash total time: (without malloc free memcpy) :0.001960242 sec\n",
                        "Input Array Shape: (12288,)\n",
                        "Dest Shape: (24, 8, 4, 4, 4)\n",
                        "multi-gpu wilson dslash total time: (without malloc free memcpy) :0.040702447 sec\n",
                        "multi-gpu wilson dslash total time: (without malloc free memcpy) :0.001904727 sec\n",
                        "Iteration 1: Residual = 6.110012e+05, Time = 0.308568 s\n",
                        "Input Array Shape: (12288,)\n",
                        "Dest Shape: (24, 8, 4, 4, 4)\n",
                        "multi-gpu wilson dslash total time: (without malloc free memcpy) :0.039955562 sec\n",
                        "multi-gpu wilson dslash total time: (without malloc free memcpy) :0.001883341 sec\n",
                        "Input Array Shape: (12288,)\n",
                        "Dest Shape: (24, 8, 4, 4, 4)\n",
                        "multi-gpu wilson dslash total time: (without malloc free memcpy) :0.041489670 sec\n",
                        "multi-gpu wilson dslash total time: (without malloc free memcpy) :0.001998249 sec\n",
                        "Iteration 2: Residual = 6.419074e+04, Time = 0.302791 s\n",
                        "Input Array Shape: (12288,)\n",
                        "Dest Shape: (24, 8, 4, 4, 4)\n",
                        "multi-gpu wilson dslash total time: (without malloc free memcpy) :0.041153270 sec\n",
                        "multi-gpu wilson dslash total time: (without malloc free memcpy) :0.001858690 sec\n",
                        "Input Array Shape: (12288,)\n",
                        "Dest Shape: (24, 8, 4, 4, 4)\n",
                        "multi-gpu wilson dslash total time: (without malloc free memcpy) :0.041538599 sec\n",
                        "multi-gpu wilson dslash total time: (without malloc free memcpy) :0.001893527 sec\n",
                        "Iteration 3: Residual = 2.419309e+04, Time = 0.294054 s\n",
                        "Input Array Shape: (12288,)\n",
                        "Dest Shape: (24, 8, 4, 4, 4)\n",
                        "multi-gpu wilson dslash total time: (without malloc free memcpy) :0.038908318 sec\n",
                        "multi-gpu wilson dslash total time: (without malloc free memcpy) :0.001980789 sec\n",
                        "Input Array Shape: (12288,)\n",
                        "Dest Shape: (24, 8, 4, 4, 4)\n",
                        "multi-gpu wilson dslash total time: (without malloc free memcpy) :0.040267222 sec\n",
                        "multi-gpu wilson dslash total time: (without malloc free memcpy) :0.001931469 sec\n",
                        "Iteration 4: Residual = 1.919457e+04, Time = 0.284844 s\n",
                        "Input Array Shape: (12288,)\n",
                        "Dest Shape: (24, 8, 4, 4, 4)\n",
                        "multi-gpu wilson dslash total time: (without malloc free memcpy) :0.048047024 sec\n",
                        "multi-gpu wilson dslash total time: (without malloc free memcpy) :0.001842335 sec\n",
                        "Input Array Shape: (12288,)\n",
                        "Dest Shape: (24, 8, 4, 4, 4)\n",
                        "multi-gpu wilson dslash total time: (without malloc free memcpy) :0.039039131 sec\n",
                        "multi-gpu wilson dslash total time: (without malloc free memcpy) :0.002097907 sec\n",
                        "Iteration 5: Residual = 4.309747e+04, Time = 0.291499 s\n",
                        "Input Array Shape: (12288,)\n",
                        "Dest Shape: (24, 8, 4, 4, 4)\n",
                        "multi-gpu wilson dslash total time: (without malloc free memcpy) :0.038680351 sec\n",
                        "multi-gpu wilson dslash total time: (without malloc free memcpy) :0.001823023 sec\n",
                        "Input Array Shape: (12288,)\n",
                        "Dest Shape: (24, 8, 4, 4, 4)\n",
                        "multi-gpu wilson dslash total time: (without malloc free memcpy) :0.039413354 sec\n",
                        "multi-gpu wilson dslash total time: (without malloc free memcpy) :0.001926197 sec\n",
                        "Iteration 6: Residual = 1.015414e+04, Time = 0.274705 s\n",
                        "Input Array Shape: (12288,)\n",
                        "Dest Shape: (24, 8, 4, 4, 4)\n",
                        "multi-gpu wilson dslash total time: (without malloc free memcpy) :0.041938297 sec\n",
                        "multi-gpu wilson dslash total time: (without malloc free memcpy) :0.001794511 sec\n",
                        "Input Array Shape: (12288,)\n",
                        "Dest Shape: (24, 8, 4, 4, 4)\n",
                        "multi-gpu wilson dslash total time: (without malloc free memcpy) :0.040134460 sec\n",
                        "multi-gpu wilson dslash total time: (without malloc free memcpy) :0.001815042 sec\n",
                        "Iteration 7: Residual = 4.398003e+03, Time = 0.272628 s\n",
                        "Input Array Shape: (12288,)\n",
                        "Dest Shape: (24, 8, 4, 4, 4)\n",
                        "multi-gpu wilson dslash total time: (without malloc free memcpy) :0.041281006 sec\n",
                        "multi-gpu wilson dslash total time: (without malloc free memcpy) :0.001789434 sec\n",
                        "Input Array Shape: (12288,)\n",
                        "Dest Shape: (24, 8, 4, 4, 4)\n",
                        "multi-gpu wilson dslash total time: (without malloc free memcpy) :0.040780719 sec\n",
                        "multi-gpu wilson dslash total time: (without malloc free memcpy) :0.001837712 sec\n",
                        "Iteration 8: Residual = 4.506973e+03, Time = 0.271552 s\n",
                        "Input Array Shape: (12288,)\n",
                        "Dest Shape: (24, 8, 4, 4, 4)\n",
                        "multi-gpu wilson dslash total time: (without malloc free memcpy) :0.039854079 sec\n",
                        "multi-gpu wilson dslash total time: (without malloc free memcpy) :0.001773470 sec\n",
                        "Input Array Shape: (12288,)\n",
                        "Dest Shape: (24, 8, 4, 4, 4)\n",
                        "multi-gpu wilson dslash total time: (without malloc free memcpy) :0.042367005 sec\n",
                        "multi-gpu wilson dslash total time: (without malloc free memcpy) :0.001819563 sec\n",
                        "Iteration 9: Residual = 4.023174e+03, Time = 0.268891 s\n",
                        "Input Array Shape: (12288,)\n",
                        "Dest Shape: (24, 8, 4, 4, 4)\n",
                        "multi-gpu wilson dslash total time: (without malloc free memcpy) :0.038884358 sec\n",
                        "multi-gpu wilson dslash total time: (without malloc free memcpy) :0.001821906 sec\n",
                        "Input Array Shape: (12288,)\n",
                        "Dest Shape: (24, 8, 4, 4, 4)\n",
                        "multi-gpu wilson dslash total time: (without malloc free memcpy) :0.039141175 sec\n",
                        "multi-gpu wilson dslash total time: (without malloc free memcpy) :0.001837807 sec\n",
                        "Iteration 10: Residual = 2.293707e+03, Time = 0.266835 s\n",
                        "Input Array Shape: (12288,)\n",
                        "Dest Shape: (24, 8, 4, 4, 4)\n",
                        "multi-gpu wilson dslash total time: (without malloc free memcpy) :0.039576379 sec\n",
                        "multi-gpu wilson dslash total time: (without malloc free memcpy) :0.001851303 sec\n",
                        "Input Array Shape: (12288,)\n",
                        "Dest Shape: (24, 8, 4, 4, 4)\n",
                        "multi-gpu wilson dslash total time: (without malloc free memcpy) :0.040167177 sec\n",
                        "multi-gpu wilson dslash total time: (without malloc free memcpy) :0.001942846 sec\n",
                        "Iteration 11: Residual = 9.215657e+02, Time = 0.265647 s\n",
                        "Input Array Shape: (12288,)\n",
                        "Dest Shape: (24, 8, 4, 4, 4)\n",
                        "multi-gpu wilson dslash total time: (without malloc free memcpy) :0.038413142 sec\n",
                        "multi-gpu wilson dslash total time: (without malloc free memcpy) :0.001805134 sec\n",
                        "Input Array Shape: (12288,)\n",
                        "Dest Shape: (24, 8, 4, 4, 4)\n",
                        "multi-gpu wilson dslash total time: (without malloc free memcpy) :0.039325336 sec\n",
                        "multi-gpu wilson dslash total time: (without malloc free memcpy) :0.001843990 sec\n",
                        "Iteration 12: Residual = 1.801515e+03, Time = 0.257096 s\n",
                        "Input Array Shape: (12288,)\n",
                        "Dest Shape: (24, 8, 4, 4, 4)\n",
                        "multi-gpu wilson dslash total time: (without malloc free memcpy) :0.039127090 sec\n",
                        "multi-gpu wilson dslash total time: (without malloc free memcpy) :0.001855357 sec\n",
                        "Input Array Shape: (12288,)\n",
                        "Dest Shape: (24, 8, 4, 4, 4)\n",
                        "multi-gpu wilson dslash total time: (without malloc free memcpy) :0.039122186 sec\n",
                        "multi-gpu wilson dslash total time: (without malloc free memcpy) :0.001913325 sec\n",
                        "Iteration 13: Residual = 1.282424e+03, Time = 0.259817 s\n",
                        "Input Array Shape: (12288,)\n",
                        "Dest Shape: (24, 8, 4, 4, 4)\n",
                        "multi-gpu wilson dslash total time: (without malloc free memcpy) :0.040679940 sec\n",
                        "multi-gpu wilson dslash total time: (without malloc free memcpy) :0.001831809 sec\n",
                        "Input Array Shape: (12288,)\n",
                        "Dest Shape: (24, 8, 4, 4, 4)\n",
                        "multi-gpu wilson dslash total time: (without malloc free memcpy) :0.040711101 sec\n",
                        "multi-gpu wilson dslash total time: (without malloc free memcpy) :0.001767001 sec\n",
                        "Iteration 14: Residual = 5.459404e+02, Time = 0.261122 s\n",
                        "Input Array Shape: (12288,)\n",
                        "Dest Shape: (24, 8, 4, 4, 4)\n",
                        "multi-gpu wilson dslash total time: (without malloc free memcpy) :0.039627512 sec\n",
                        "multi-gpu wilson dslash total time: (without malloc free memcpy) :0.001852315 sec\n",
                        "Input Array Shape: (12288,)\n",
                        "Dest Shape: (24, 8, 4, 4, 4)\n",
                        "multi-gpu wilson dslash total time: (without malloc free memcpy) :0.039750973 sec\n",
                        "multi-gpu wilson dslash total time: (without malloc free memcpy) :0.001795094 sec\n",
                        "Iteration 15: Residual = 2.064895e+02, Time = 0.252206 s\n",
                        "Input Array Shape: (12288,)\n",
                        "Dest Shape: (24, 8, 4, 4, 4)\n",
                        "multi-gpu wilson dslash total time: (without malloc free memcpy) :0.041294170 sec\n",
                        "multi-gpu wilson dslash total time: (without malloc free memcpy) :0.001820578 sec\n",
                        "Input Array Shape: (12288,)\n",
                        "Dest Shape: (24, 8, 4, 4, 4)\n",
                        "multi-gpu wilson dslash total time: (without malloc free memcpy) :0.041401649 sec\n",
                        "multi-gpu wilson dslash total time: (without malloc free memcpy) :0.001874072 sec\n",
                        "Iteration 16: Residual = 1.984474e+02, Time = 0.259957 s\n",
                        "Input Array Shape: (12288,)\n",
                        "Dest Shape: (24, 8, 4, 4, 4)\n",
                        "multi-gpu wilson dslash total time: (without malloc free memcpy) :0.041030166 sec\n",
                        "multi-gpu wilson dslash total time: (without malloc free memcpy) :0.001770407 sec\n",
                        "Input Array Shape: (12288,)\n",
                        "Dest Shape: (24, 8, 4, 4, 4)\n",
                        "multi-gpu wilson dslash total time: (without malloc free memcpy) :0.042891174 sec\n",
                        "multi-gpu wilson dslash total time: (without malloc free memcpy) :0.001813147 sec\n",
                        "Iteration 17: Residual = 3.754428e+02, Time = 0.256621 s\n",
                        "Input Array Shape: (12288,)\n",
                        "Dest Shape: (24, 8, 4, 4, 4)\n",
                        "multi-gpu wilson dslash total time: (without malloc free memcpy) :0.039863427 sec\n",
                        "multi-gpu wilson dslash total time: (without malloc free memcpy) :0.001784384 sec\n",
                        "Input Array Shape: (12288,)\n",
                        "Dest Shape: (24, 8, 4, 4, 4)\n",
                        "multi-gpu wilson dslash total time: (without malloc free memcpy) :0.040085232 sec\n",
                        "multi-gpu wilson dslash total time: (without malloc free memcpy) :0.001793662 sec\n",
                        "Iteration 18: Residual = 1.093375e+02, Time = 0.252991 s\n",
                        "Input Array Shape: (12288,)\n",
                        "Dest Shape: (24, 8, 4, 4, 4)\n",
                        "multi-gpu wilson dslash total time: (without malloc free memcpy) :0.038358985 sec\n",
                        "multi-gpu wilson dslash total time: (without malloc free memcpy) :0.001745079 sec\n",
                        "Input Array Shape: (12288,)\n",
                        "Dest Shape: (24, 8, 4, 4, 4)\n",
                        "multi-gpu wilson dslash total time: (without malloc free memcpy) :0.039891531 sec\n",
                        "multi-gpu wilson dslash total time: (without malloc free memcpy) :0.001875278 sec\n",
                        "Iteration 19: Residual = 1.472017e+02, Time = 0.251705 s\n",
                        "Input Array Shape: (12288,)\n",
                        "Dest Shape: (24, 8, 4, 4, 4)\n",
                        "multi-gpu wilson dslash total time: (without malloc free memcpy) :0.048142196 sec\n",
                        "multi-gpu wilson dslash total time: (without malloc free memcpy) :0.001745616 sec\n",
                        "Input Array Shape: (12288,)\n",
                        "Dest Shape: (24, 8, 4, 4, 4)\n",
                        "multi-gpu wilson dslash total time: (without malloc free memcpy) :0.041539901 sec\n",
                        "multi-gpu wilson dslash total time: (without malloc free memcpy) :0.001850090 sec\n",
                        "Iteration 20: Residual = 5.529497e+02, Time = 0.268827 s\n",
                        "Input Array Shape: (12288,)\n",
                        "Dest Shape: (24, 8, 4, 4, 4)\n",
                        "multi-gpu wilson dslash total time: (without malloc free memcpy) :0.040525883 sec\n",
                        "multi-gpu wilson dslash total time: (without malloc free memcpy) :0.001752383 sec\n",
                        "Input Array Shape: (12288,)\n",
                        "Dest Shape: (24, 8, 4, 4, 4)\n",
                        "multi-gpu wilson dslash total time: (without malloc free memcpy) :0.040843497 sec\n",
                        "multi-gpu wilson dslash total time: (without malloc free memcpy) :0.001806590 sec\n",
                        "Iteration 21: Residual = 2.142011e+02, Time = 0.256753 s\n",
                        "Input Array Shape: (12288,)\n",
                        "Dest Shape: (24, 8, 4, 4, 4)\n",
                        "multi-gpu wilson dslash total time: (without malloc free memcpy) :0.038953181 sec\n",
                        "multi-gpu wilson dslash total time: (without malloc free memcpy) :0.001860298 sec\n",
                        "Input Array Shape: (12288,)\n",
                        "Dest Shape: (24, 8, 4, 4, 4)\n",
                        "multi-gpu wilson dslash total time: (without malloc free memcpy) :0.045333687 sec\n",
                        "multi-gpu wilson dslash total time: (without malloc free memcpy) :0.001782688 sec\n",
                        "Iteration 22: Residual = 1.252611e+02, Time = 0.257055 s\n",
                        "Input Array Shape: (12288,)\n",
                        "Dest Shape: (24, 8, 4, 4, 4)\n",
                        "multi-gpu wilson dslash total time: (without malloc free memcpy) :0.041156420 sec\n",
                        "multi-gpu wilson dslash total time: (without malloc free memcpy) :0.001749102 sec\n",
                        "Input Array Shape: (12288,)\n",
                        "Dest Shape: (24, 8, 4, 4, 4)\n",
                        "multi-gpu wilson dslash total time: (without malloc free memcpy) :0.039442540 sec\n",
                        "multi-gpu wilson dslash total time: (without malloc free memcpy) :0.001988238 sec\n",
                        "Iteration 23: Residual = 3.072294e+01, Time = 0.255789 s\n",
                        "Input Array Shape: (12288,)\n",
                        "Dest Shape: (24, 8, 4, 4, 4)\n",
                        "multi-gpu wilson dslash total time: (without malloc free memcpy) :0.039768266 sec\n",
                        "multi-gpu wilson dslash total time: (without malloc free memcpy) :0.001747666 sec\n",
                        "Input Array Shape: (12288,)\n",
                        "Dest Shape: (24, 8, 4, 4, 4)\n",
                        "multi-gpu wilson dslash total time: (without malloc free memcpy) :0.039183415 sec\n",
                        "multi-gpu wilson dslash total time: (without malloc free memcpy) :0.001903973 sec\n",
                        "Iteration 24: Residual = 1.149453e+01, Time = 0.252522 s\n",
                        "Input Array Shape: (12288,)\n",
                        "Dest Shape: (24, 8, 4, 4, 4)\n",
                        "multi-gpu wilson dslash total time: (without malloc free memcpy) :0.038538627 sec\n",
                        "multi-gpu wilson dslash total time: (without malloc free memcpy) :0.001947809 sec\n",
                        "Input Array Shape: (12288,)\n",
                        "Dest Shape: (24, 8, 4, 4, 4)\n",
                        "multi-gpu wilson dslash total time: (without malloc free memcpy) :0.042745269 sec\n",
                        "multi-gpu wilson dslash total time: (without malloc free memcpy) :0.001829232 sec\n",
                        "Iteration 25: Residual = 1.409720e+01, Time = 0.254773 s\n",
                        "Input Array Shape: (12288,)\n",
                        "Dest Shape: (24, 8, 4, 4, 4)\n",
                        "multi-gpu wilson dslash total time: (without malloc free memcpy) :0.052710297 sec\n",
                        "multi-gpu wilson dslash total time: (without malloc free memcpy) :0.001791952 sec\n",
                        "Input Array Shape: (12288,)\n",
                        "Dest Shape: (24, 8, 4, 4, 4)\n",
                        "multi-gpu wilson dslash total time: (without malloc free memcpy) :0.038398089 sec\n",
                        "multi-gpu wilson dslash total time: (without malloc free memcpy) :0.001751240 sec\n",
                        "Iteration 26: Residual = 7.087019e+00, Time = 0.272957 s\n",
                        "Input Array Shape: (12288,)\n",
                        "Dest Shape: (24, 8, 4, 4, 4)\n",
                        "multi-gpu wilson dslash total time: (without malloc free memcpy) :0.040543295 sec\n",
                        "multi-gpu wilson dslash total time: (without malloc free memcpy) :0.001944928 sec\n",
                        "Input Array Shape: (12288,)\n",
                        "Dest Shape: (24, 8, 4, 4, 4)\n",
                        "multi-gpu wilson dslash total time: (without malloc free memcpy) :0.043846785 sec\n",
                        "multi-gpu wilson dslash total time: (without malloc free memcpy) :0.001829313 sec\n",
                        "Iteration 27: Residual = 5.320988e+00, Time = 0.266351 s\n",
                        "Input Array Shape: (12288,)\n",
                        "Dest Shape: (24, 8, 4, 4, 4)\n",
                        "multi-gpu wilson dslash total time: (without malloc free memcpy) :0.039468283 sec\n",
                        "multi-gpu wilson dslash total time: (without malloc free memcpy) :0.001748099 sec\n",
                        "Input Array Shape: (12288,)\n",
                        "Dest Shape: (24, 8, 4, 4, 4)\n",
                        "multi-gpu wilson dslash total time: (without malloc free memcpy) :0.040541018 sec\n",
                        "multi-gpu wilson dslash total time: (without malloc free memcpy) :0.001796152 sec\n",
                        "Iteration 28: Residual = 4.895380e+00, Time = 0.258616 s\n",
                        "Input Array Shape: (12288,)\n",
                        "Dest Shape: (24, 8, 4, 4, 4)\n",
                        "multi-gpu wilson dslash total time: (without malloc free memcpy) :0.072659422 sec\n",
                        "multi-gpu wilson dslash total time: (without malloc free memcpy) :0.001805214 sec\n",
                        "Input Array Shape: (12288,)\n",
                        "Dest Shape: (24, 8, 4, 4, 4)\n",
                        "multi-gpu wilson dslash total time: (without malloc free memcpy) :0.039629451 sec\n",
                        "multi-gpu wilson dslash total time: (without malloc free memcpy) :0.001774434 sec\n",
                        "Iteration 29: Residual = 4.837151e+00, Time = 0.290912 s\n",
                        "Input Array Shape: (12288,)\n",
                        "Dest Shape: (24, 8, 4, 4, 4)\n",
                        "multi-gpu wilson dslash total time: (without malloc free memcpy) :0.038720831 sec\n",
                        "multi-gpu wilson dslash total time: (without malloc free memcpy) :0.001901560 sec\n",
                        "Input Array Shape: (12288,)\n",
                        "Dest Shape: (24, 8, 4, 4, 4)\n",
                        "multi-gpu wilson dslash total time: (without malloc free memcpy) :0.039304038 sec\n",
                        "multi-gpu wilson dslash total time: (without malloc free memcpy) :0.002078240 sec\n",
                        "Iteration 30: Residual = 1.750557e+00, Time = 0.259543 s\n",
                        "Input Array Shape: (12288,)\n",
                        "Dest Shape: (24, 8, 4, 4, 4)\n",
                        "multi-gpu wilson dslash total time: (without malloc free memcpy) :0.039270324 sec\n",
                        "multi-gpu wilson dslash total time: (without malloc free memcpy) :0.001752961 sec\n",
                        "Input Array Shape: (12288,)\n",
                        "Dest Shape: (24, 8, 4, 4, 4)\n",
                        "multi-gpu wilson dslash total time: (without malloc free memcpy) :0.039946288 sec\n",
                        "multi-gpu wilson dslash total time: (without malloc free memcpy) :0.001799983 sec\n",
                        "Iteration 31: Residual = 1.232521e+00, Time = 0.251117 s\n",
                        "Input Array Shape: (12288,)\n",
                        "Dest Shape: (24, 8, 4, 4, 4)\n",
                        "multi-gpu wilson dslash total time: (without malloc free memcpy) :0.040669846 sec\n",
                        "multi-gpu wilson dslash total time: (without malloc free memcpy) :0.001742486 sec\n",
                        "Input Array Shape: (12288,)\n",
                        "Dest Shape: (24, 8, 4, 4, 4)\n",
                        "multi-gpu wilson dslash total time: (without malloc free memcpy) :0.043469240 sec\n",
                        "multi-gpu wilson dslash total time: (without malloc free memcpy) :0.001767740 sec\n",
                        "Iteration 32: Residual = 1.160632e+00, Time = 0.258249 s\n",
                        "Input Array Shape: (12288,)\n",
                        "Dest Shape: (24, 8, 4, 4, 4)\n",
                        "multi-gpu wilson dslash total time: (without malloc free memcpy) :0.038072015 sec\n",
                        "multi-gpu wilson dslash total time: (without malloc free memcpy) :0.001862715 sec\n",
                        "Input Array Shape: (12288,)\n",
                        "Dest Shape: (24, 8, 4, 4, 4)\n",
                        "multi-gpu wilson dslash total time: (without malloc free memcpy) :0.038890593 sec\n",
                        "multi-gpu wilson dslash total time: (without malloc free memcpy) :0.001899583 sec\n",
                        "Iteration 33: Residual = 1.144684e+00, Time = 0.251347 s\n",
                        "Input Array Shape: (12288,)\n",
                        "Dest Shape: (24, 8, 4, 4, 4)\n",
                        "multi-gpu wilson dslash total time: (without malloc free memcpy) :0.038971204 sec\n",
                        "multi-gpu wilson dslash total time: (without malloc free memcpy) :0.001892520 sec\n",
                        "Input Array Shape: (12288,)\n",
                        "Dest Shape: (24, 8, 4, 4, 4)\n",
                        "multi-gpu wilson dslash total time: (without malloc free memcpy) :0.038820315 sec\n",
                        "multi-gpu wilson dslash total time: (without malloc free memcpy) :0.001782399 sec\n",
                        "Iteration 34: Residual = 9.274153e-01, Time = 0.248756 s\n",
                        "Input Array Shape: (12288,)\n",
                        "Dest Shape: (24, 8, 4, 4, 4)\n",
                        "multi-gpu wilson dslash total time: (without malloc free memcpy) :0.046119134 sec\n",
                        "multi-gpu wilson dslash total time: (without malloc free memcpy) :0.002331170 sec\n",
                        "Input Array Shape: (12288,)\n",
                        "Dest Shape: (24, 8, 4, 4, 4)\n",
                        "multi-gpu wilson dslash total time: (without malloc free memcpy) :0.048910516 sec\n",
                        "multi-gpu wilson dslash total time: (without malloc free memcpy) :0.001888325 sec\n",
                        "Iteration 35: Residual = 4.655683e+01, Time = 0.281335 s\n",
                        "Input Array Shape: (12288,)\n",
                        "Dest Shape: (24, 8, 4, 4, 4)\n",
                        "multi-gpu wilson dslash total time: (without malloc free memcpy) :0.043224074 sec\n",
                        "multi-gpu wilson dslash total time: (without malloc free memcpy) :0.001919488 sec\n",
                        "Input Array Shape: (12288,)\n",
                        "Dest Shape: (24, 8, 4, 4, 4)\n",
                        "multi-gpu wilson dslash total time: (without malloc free memcpy) :0.045364479 sec\n",
                        "multi-gpu wilson dslash total time: (without malloc free memcpy) :0.001899637 sec\n",
                        "Iteration 36: Residual = 3.006876e+00, Time = 0.278816 s\n",
                        "Input Array Shape: (12288,)\n",
                        "Dest Shape: (24, 8, 4, 4, 4)\n",
                        "multi-gpu wilson dslash total time: (without malloc free memcpy) :0.045224267 sec\n",
                        "multi-gpu wilson dslash total time: (without malloc free memcpy) :0.001835430 sec\n",
                        "Input Array Shape: (12288,)\n",
                        "Dest Shape: (24, 8, 4, 4, 4)\n",
                        "multi-gpu wilson dslash total time: (without malloc free memcpy) :0.041516074 sec\n",
                        "multi-gpu wilson dslash total time: (without malloc free memcpy) :0.001802785 sec\n",
                        "Iteration 37: Residual = 2.237568e+00, Time = 0.260372 s\n",
                        "Input Array Shape: (12288,)\n",
                        "Dest Shape: (24, 8, 4, 4, 4)\n",
                        "multi-gpu wilson dslash total time: (without malloc free memcpy) :0.039015523 sec\n",
                        "multi-gpu wilson dslash total time: (without malloc free memcpy) :0.001835395 sec\n",
                        "Input Array Shape: (12288,)\n",
                        "Dest Shape: (24, 8, 4, 4, 4)\n",
                        "multi-gpu wilson dslash total time: (without malloc free memcpy) :0.039436892 sec\n",
                        "multi-gpu wilson dslash total time: (without malloc free memcpy) :0.001902191 sec\n",
                        "Iteration 38: Residual = 1.926715e-02, Time = 0.252205 s\n",
                        "Input Array Shape: (12288,)\n",
                        "Dest Shape: (24, 8, 4, 4, 4)\n",
                        "multi-gpu wilson dslash total time: (without malloc free memcpy) :0.038452004 sec\n",
                        "multi-gpu wilson dslash total time: (without malloc free memcpy) :0.001993657 sec\n",
                        "Input Array Shape: (12288,)\n",
                        "Dest Shape: (24, 8, 4, 4, 4)\n",
                        "multi-gpu wilson dslash total time: (without malloc free memcpy) :0.038809713 sec\n",
                        "multi-gpu wilson dslash total time: (without malloc free memcpy) :0.001878010 sec\n",
                        "Iteration 39: Residual = 1.050159e-02, Time = 0.257164 s\n",
                        "Input Array Shape: (12288,)\n",
                        "Dest Shape: (24, 8, 4, 4, 4)\n",
                        "multi-gpu wilson dslash total time: (without malloc free memcpy) :0.040471350 sec\n",
                        "multi-gpu wilson dslash total time: (without malloc free memcpy) :0.001847795 sec\n",
                        "Input Array Shape: (12288,)\n",
                        "Dest Shape: (24, 8, 4, 4, 4)\n",
                        "multi-gpu wilson dslash total time: (without malloc free memcpy) :0.040062522 sec\n",
                        "multi-gpu wilson dslash total time: (without malloc free memcpy) :0.001901158 sec\n",
                        "Iteration 40: Residual = 6.429917e-03, Time = 0.262698 s\n",
                        "Input Array Shape: (12288,)\n",
                        "Dest Shape: (24, 8, 4, 4, 4)\n",
                        "multi-gpu wilson dslash total time: (without malloc free memcpy) :0.039685652 sec\n",
                        "multi-gpu wilson dslash total time: (without malloc free memcpy) :0.001787608 sec\n",
                        "Input Array Shape: (12288,)\n",
                        "Dest Shape: (24, 8, 4, 4, 4)\n",
                        "multi-gpu wilson dslash total time: (without malloc free memcpy) :0.060773388 sec\n",
                        "multi-gpu wilson dslash total time: (without malloc free memcpy) :0.001972801 sec\n",
                        "Iteration 41: Residual = 5.201510e-03, Time = 0.281772 s\n",
                        "Input Array Shape: (12288,)\n",
                        "Dest Shape: (24, 8, 4, 4, 4)\n",
                        "multi-gpu wilson dslash total time: (without malloc free memcpy) :0.073239604 sec\n",
                        "multi-gpu wilson dslash total time: (without malloc free memcpy) :0.001897662 sec\n",
                        "Input Array Shape: (12288,)\n",
                        "Dest Shape: (24, 8, 4, 4, 4)\n",
                        "multi-gpu wilson dslash total time: (without malloc free memcpy) :0.063221276 sec\n",
                        "multi-gpu wilson dslash total time: (without malloc free memcpy) :0.001866937 sec\n",
                        "Iteration 42: Residual = 2.596705e-03, Time = 0.354557 s\n",
                        "Input Array Shape: (12288,)\n",
                        "Dest Shape: (24, 8, 4, 4, 4)\n",
                        "multi-gpu wilson dslash total time: (without malloc free memcpy) :0.054434065 sec\n",
                        "multi-gpu wilson dslash total time: (without malloc free memcpy) :0.002011328 sec\n",
                        "Input Array Shape: (12288,)\n",
                        "Dest Shape: (24, 8, 4, 4, 4)\n",
                        "multi-gpu wilson dslash total time: (without malloc free memcpy) :0.054568675 sec\n",
                        "multi-gpu wilson dslash total time: (without malloc free memcpy) :0.001872951 sec\n",
                        "Iteration 43: Residual = 1.002749e-03, Time = 0.311476 s\n",
                        "Input Array Shape: (12288,)\n",
                        "Dest Shape: (24, 8, 4, 4, 4)\n",
                        "multi-gpu wilson dslash total time: (without malloc free memcpy) :0.045529385 sec\n",
                        "multi-gpu wilson dslash total time: (without malloc free memcpy) :0.001819621 sec\n",
                        "Input Array Shape: (12288,)\n",
                        "Dest Shape: (24, 8, 4, 4, 4)\n",
                        "multi-gpu wilson dslash total time: (without malloc free memcpy) :0.040341054 sec\n",
                        "multi-gpu wilson dslash total time: (without malloc free memcpy) :0.001895038 sec\n",
                        "Iteration 44: Residual = 3.597753e-04, Time = 0.259355 s\n",
                        "Input Array Shape: (12288,)\n",
                        "Dest Shape: (24, 8, 4, 4, 4)\n",
                        "multi-gpu wilson dslash total time: (without malloc free memcpy) :0.041085786 sec\n",
                        "multi-gpu wilson dslash total time: (without malloc free memcpy) :0.001774531 sec\n",
                        "Input Array Shape: (12288,)\n",
                        "Dest Shape: (24, 8, 4, 4, 4)\n",
                        "multi-gpu wilson dslash total time: (without malloc free memcpy) :0.039700236 sec\n",
                        "multi-gpu wilson dslash total time: (without malloc free memcpy) :0.001808929 sec\n",
                        "Iteration 45: Residual = 8.597687e-04, Time = 0.250785 s\n",
                        "Input Array Shape: (12288,)\n",
                        "Dest Shape: (24, 8, 4, 4, 4)\n",
                        "multi-gpu wilson dslash total time: (without malloc free memcpy) :0.039721578 sec\n",
                        "multi-gpu wilson dslash total time: (without malloc free memcpy) :0.001921928 sec\n",
                        "Input Array Shape: (12288,)\n",
                        "Dest Shape: (24, 8, 4, 4, 4)\n",
                        "multi-gpu wilson dslash total time: (without malloc free memcpy) :0.039187850 sec\n",
                        "multi-gpu wilson dslash total time: (without malloc free memcpy) :0.001781338 sec\n",
                        "Iteration 46: Residual = 9.744215e-04, Time = 0.253181 s\n",
                        "Input Array Shape: (12288,)\n",
                        "Dest Shape: (24, 8, 4, 4, 4)\n",
                        "multi-gpu wilson dslash total time: (without malloc free memcpy) :0.038722410 sec\n",
                        "multi-gpu wilson dslash total time: (without malloc free memcpy) :0.001826360 sec\n",
                        "Input Array Shape: (12288,)\n",
                        "Dest Shape: (24, 8, 4, 4, 4)\n",
                        "multi-gpu wilson dslash total time: (without malloc free memcpy) :0.039564667 sec\n",
                        "multi-gpu wilson dslash total time: (without malloc free memcpy) :0.001797417 sec\n",
                        "Iteration 47: Residual = 8.634278e-04, Time = 0.248283 s\n",
                        "Input Array Shape: (12288,)\n",
                        "Dest Shape: (24, 8, 4, 4, 4)\n",
                        "multi-gpu wilson dslash total time: (without malloc free memcpy) :0.039837512 sec\n",
                        "multi-gpu wilson dslash total time: (without malloc free memcpy) :0.001825369 sec\n",
                        "Input Array Shape: (12288,)\n",
                        "Dest Shape: (24, 8, 4, 4, 4)\n",
                        "multi-gpu wilson dslash total time: (without malloc free memcpy) :0.038041264 sec\n",
                        "multi-gpu wilson dslash total time: (without malloc free memcpy) :0.001800449 sec\n",
                        "Iteration 48: Residual = 8.713309e-05, Time = 0.246363 s\n",
                        "Input Array Shape: (12288,)\n",
                        "Dest Shape: (24, 8, 4, 4, 4)\n",
                        "multi-gpu wilson dslash total time: (without malloc free memcpy) :0.038017003 sec\n",
                        "multi-gpu wilson dslash total time: (without malloc free memcpy) :0.002665361 sec\n",
                        "Input Array Shape: (12288,)\n",
                        "Dest Shape: (24, 8, 4, 4, 4)\n",
                        "multi-gpu wilson dslash total time: (without malloc free memcpy) :0.044290859 sec\n",
                        "multi-gpu wilson dslash total time: (without malloc free memcpy) :0.001933591 sec\n",
                        "Iteration 49: Residual = 3.021781e-05, Time = 0.258391 s\n",
                        "Input Array Shape: (12288,)\n",
                        "Dest Shape: (24, 8, 4, 4, 4)\n",
                        "multi-gpu wilson dslash total time: (without malloc free memcpy) :0.041980960 sec\n",
                        "multi-gpu wilson dslash total time: (without malloc free memcpy) :0.001757400 sec\n",
                        "Input Array Shape: (12288,)\n",
                        "Dest Shape: (24, 8, 4, 4, 4)\n",
                        "multi-gpu wilson dslash total time: (without malloc free memcpy) :0.040714683 sec\n",
                        "multi-gpu wilson dslash total time: (without malloc free memcpy) :0.001781275 sec\n",
                        "Iteration 50: Residual = 2.351200e-05, Time = 0.261155 s\n",
                        "Input Array Shape: (12288,)\n",
                        "Dest Shape: (24, 8, 4, 4, 4)\n",
                        "multi-gpu wilson dslash total time: (without malloc free memcpy) :0.050191242 sec\n",
                        "multi-gpu wilson dslash total time: (without malloc free memcpy) :0.001778126 sec\n",
                        "Input Array Shape: (12288,)\n",
                        "Dest Shape: (24, 8, 4, 4, 4)\n",
                        "multi-gpu wilson dslash total time: (without malloc free memcpy) :0.044822437 sec\n",
                        "multi-gpu wilson dslash total time: (without malloc free memcpy) :0.001841422 sec\n",
                        "Iteration 51: Residual = 3.785515e-04, Time = 0.277828 s\n",
                        "Input Array Shape: (12288,)\n",
                        "Dest Shape: (24, 8, 4, 4, 4)\n",
                        "multi-gpu wilson dslash total time: (without malloc free memcpy) :0.044439403 sec\n",
                        "multi-gpu wilson dslash total time: (without malloc free memcpy) :0.001746080 sec\n",
                        "Input Array Shape: (12288,)\n",
                        "Dest Shape: (24, 8, 4, 4, 4)\n",
                        "multi-gpu wilson dslash total time: (without malloc free memcpy) :0.039699176 sec\n",
                        "multi-gpu wilson dslash total time: (without malloc free memcpy) :0.001813385 sec\n",
                        "Iteration 52: Residual = 1.118401e-05, Time = 0.266997 s\n",
                        "Input Array Shape: (12288,)\n",
                        "Dest Shape: (24, 8, 4, 4, 4)\n",
                        "multi-gpu wilson dslash total time: (without malloc free memcpy) :0.043967520 sec\n",
                        "multi-gpu wilson dslash total time: (without malloc free memcpy) :0.001781487 sec\n",
                        "Input Array Shape: (12288,)\n",
                        "Dest Shape: (24, 8, 4, 4, 4)\n",
                        "multi-gpu wilson dslash total time: (without malloc free memcpy) :0.039722129 sec\n",
                        "multi-gpu wilson dslash total time: (without malloc free memcpy) :0.001794105 sec\n",
                        "Iteration 53: Residual = 2.417549e-06, Time = 0.257879 s\n",
                        "Converged at iteration 53 with residual 2.417549e-06\n",
                        "\n",
                        "Performance Statistics:\n",
                        "Total time: 19.382498 s\n",
                        "Average time per iteration: 0.270227 s\n"
                    ]
                }
            ],
            "source": [
                "# # Dslash(x_o)=b__o\n",
                "# bistabcg_solver = bistabcg.slover(\n",
                "#     b=b__o, matvec=bistabcg_dslash, tol=1e-10, max_iter=1000000)\n",
                "# x_o = bistabcg_solver.run()\n",
                "\n",
                "# mg version\n",
                "mg_b__o = r_vec(io.xxxtzyx2mg_xxxtzyx(io.fermion2sctzyx(b__o, params), params)).flatten()\n",
                "bistabcg_solver = bistabcg.slover(\n",
                "    b=mg_b__o, matvec=functools.partial(r_matvec_p, matvec=bistabcg_dslash), tol=1e-5, max_iter=1000000)\n",
                "mg_x_o = bistabcg_solver.run()\n"
            ]
        },
        {
            "cell_type": "code",
            "execution_count": null,
            "metadata": {},
            "outputs": [],
            "source": [
                "# Dslash(x_o)=b__o\n",
                "bistabcg_solver = bistabcg.slover(\n",
                "    b=b__o, matvec=bistabcg_dslash, tol=1e-10, max_iter=1000000, x0=io.array2xxx(p_vec(io.xxx2eTZYX(mg_x_o, params))))\n",
                "x_o = bistabcg_solver.run()"
            ]
        },
        {
            "cell_type": "code",
            "execution_count": 49,
            "metadata": {},
            "outputs": [
                {
                    "name": "stdout",
                    "output_type": "stream",
                    "text": [
                        "multi-gpu wilson dslash total time: (without malloc free memcpy) :0.001842647 sec\n"
                    ]
                },
                {
                    "name": "stdout",
                    "output_type": "stream",
                    "text": [
                        "0.2790674\n"
                    ]
                }
            ],
            "source": [
                "# x_e  =b_e+kappa*D_eo(x_o)\n",
                "qcu.applyWilsonDslashQcu(tmp, x_o, gauge, set_ptrs, wilson_dslash_eo_params)\n",
                "x_e = b_e+kappa*tmp\n",
                "# give qcu_fermion_out\n",
                "qcu_fermion_out = cp.zeros_like(quda_fermion_out)\n",
                "qcu_fermion_out[define._EVEN_] = x_e.reshape(\n",
                "    quda_fermion_out[define._EVEN_].shape)\n",
                "qcu_fermion_out[define._ODD_] = x_o.reshape(\n",
                "    quda_fermion_out[define._ODD_].shape)\n",
                "print(np.linalg.norm(qcu_fermion_out-quda_fermion_out) / \\\n",
                "    np.linalg.norm(quda_fermion_out))"
            ]
        },
        {
            "cell_type": "markdown",
            "metadata": {},
            "source": [
                "# End for CG & BISTABCG. (pass, don't run this)"
            ]
        },
        {
            "cell_type": "code",
            "execution_count": 50,
            "metadata": {},
            "outputs": [],
            "source": [
                "# cg_solver.end()\n",
                "# bistabcg_solver.end()"
            ]
        },
        {
            "cell_type": "markdown",
            "metadata": {},
            "source": [
                "# End for pyqcu. (pass, don't run this)"
            ]
        },
        {
            "cell_type": "code",
            "execution_count": 51,
            "metadata": {},
            "outputs": [],
            "source": [
                "# qcu.applyEndQcu(set_ptrs, params)\n",
                "# qcu.applyEndQcu(set_ptrs, wilson_dslash_eo_params)\n",
                "# qcu.applyEndQcu(set_ptrs, wilson_dslash_oe_params)\n",
                "# qcu.applyEndQcu(set_ptrs, wilson_dslash_eo_dag_params)\n",
                "# qcu.applyEndQcu(set_ptrs, wilson_dslash_oe_dag_params)"
            ]
        }
    ],
    "metadata": {
        "kernelspec": {
            "display_name": "Python 3",
            "language": "python",
            "name": "python3"
        },
        "language_info": {
            "codemirror_mode": {
                "name": "ipython",
                "version": 3
            },
            "file_extension": ".py",
            "mimetype": "text/x-python",
            "name": "python",
            "nbconvert_exporter": "python",
            "pygments_lexer": "ipython3",
            "version": "3.10.12"
        }
    },
    "nbformat": 4,
    "nbformat_minor": 2
}
