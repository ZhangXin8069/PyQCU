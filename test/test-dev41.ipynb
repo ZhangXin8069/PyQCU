{
    "cells": [
        {
            "cell_type": "markdown",
            "metadata": {},
            "source": [
                "# Init for pyqcu."
            ]
        },
        {
            "cell_type": "code",
            "execution_count": 1,
            "metadata": {},
            "outputs": [
                {
                    "name": "stdout",
                    "output_type": "stream",
                    "text": [
                        "\n",
                        "    @@@@@@######QCU NOTES START######@@@@@@@\n",
                        "    0. Required: MPI(e.g. 4.1.2), CUDA(e.g. 12.4), CMAKE(e.g. 3.22.1), GCC(e.g. 11.4.0), HDF5-MPI(e.g. 1.10.7,'apt install libhdf5-mpi-dev && export HDF5_MPI=\"ON\" && pip install --no-binary=h5py h5py').\n",
                        "    1. The libqcu.so was compiled when pyqcu setup in download_path/PyQCU/lib, please add this path to your LD_LIBRARY_PATH.\n",
                        "    2. The QCU(PyQCU) splite grid by x->y->z->t, lattice by x->y->z->t->p->d->c->c or x->y->z->t->c->s(->p) and x->y->z->t->c->s->c->s(->p).\n",
                        "    3. The QUDA(PyQUDA) splite grid by t->z->y->x, lattice by c->c->x->y->z->t->p->d or c->s->x->y->z->t(->p) and c->s->c->s->x->y->z->t(->p).\n",
                        "    4. The QCU input params in numpy array(dtype=np.int32), argv in  numpy array(dtype=np.float32 or float64) array, set_ptrs in numpy array(dtype=np.int64), other in cupy array(dtype=cp.complex64 or complex128).\n",
                        "    5. The smallest lattice size is (x=4,y=4,z=4,t=8) that QCU support.\n",
                        "    @@@@@@######QCU NOTES END######@@@@@@@\n",
                        "    \n",
                        "Parameters: [     32      32      32      32 1048576       1       1       1       1\n",
                        "       0       0       1       0   10000       0       0       0       4\n",
                        "       4       4       8]\n",
                        "Parameters data: <memory at 0x7fb6121d50c0>\n",
                        "Arguments: [0.e+00 1.e-09]\n",
                        "Arguments data: <memory at 0x7fb6121d50c0>\n",
                        "Set pointers: [0 0 0 0 0 0 0 0 0 0]\n",
                        "Set pointers data: <memory at 0x7fb6121d4280>\n",
                        "My rank is  0\n",
                        "Parameters: [     32      32      32      32 1048576       1       1       1       1\n",
                        "       0       0       1       0   10000       0       0       0       4\n",
                        "       4       4       8]\n"
                    ]
                }
            ],
            "source": [
                "import cupy as cp\n",
                "import numpy as np\n",
                "import functools\n",
                "from pyqcu import define\n",
                "from pyqcu import io\n",
                "from pyqcu import qcu\n",
                "from pyqcu import eigen, cg, bistabcg\n",
                "from opt_einsum import contract\n",
                "from pyqcu.set import params, argv, set_ptrs\n",
                "params[define._NODE_RANK_] = define.rank\n",
                "params[define._NODE_SIZE_] = define.size\n",
                "kappa = 1 / (2 * argv[define._MASS_] + 8)\n",
                "print('My rank is ', define.rank)\n",
                "gauge_filename = f\"quda_wilson-bistabcg-gauge_-{params[define._LAT_X_]}-{params[define._LAT_Y_]}-{params  [define._LAT_Z_]}-{params[define._LAT_T_]}-{params[define._LAT_XYZT_]}-{params[define._GRID_X_]}-{params[define._GRID_Y_]}-{params[define._GRID_Z_]}-{params[define._GRID_T_]}-{params[define._PARITY_]}-{params[define._NODE_RANK_]}-{params[define._NODE_SIZE_]}-{params[define._DAGGER_]}-f.h5\"\n",
                "print(\"Parameters:\", params)"
            ]
        },
        {
            "cell_type": "code",
            "execution_count": 2,
            "metadata": {},
            "outputs": [
                {
                    "name": "stdout",
                    "output_type": "stream",
                    "text": [
                        "gridDim.x               :4096\n",
                        "blockDim.x              :128\n",
                        "host_params[_LAT_X_]    :16\n",
                        "host_params[_LAT_Y_]    :32\n",
                        "host_params[_LAT_Z_]    :32\n",
                        "host_params[_LAT_T_]    :32\n",
                        "host_params[_LAT_XYZT_] :524288\n",
                        "host_params[_GRID_X_]   :1\n",
                        "host_params[_GRID_Y_]   :1\n",
                        "host_params[_GRID_Z_]   :1\n",
                        "host_params[_GRID_T_]   :1\n",
                        "host_params[_PARITY_]   :0\n",
                        "host_params[_NODE_RANK_]:0\n",
                        "host_params[_NODE_SIZE_]:1\n",
                        "host_params[_DAGGER_]   :0\n",
                        "host_params[_MAX_ITER_] :10000\n",
                        "host_params[_SET_INDEX_]:0\n",
                        "host_params[_SET_PLAN_] :1\n",
                        "host_argv[_MASS_]       :0.000000e+00\n",
                        "host_argv[_TOL_]        :1.000000e-09\n",
                        "lat_2dim[_XY_]          :512\n",
                        "lat_2dim[_XZ_]          :512\n",
                        "lat_2dim[_XT_]          :512\n",
                        "lat_2dim[_YZ_]          :1024\n",
                        "lat_2dim[_YT_]          :1024\n",
                        "lat_2dim[_ZT_]          :1024\n",
                        "lat_3dim[_YZT_]         :32768\n",
                        "lat_3dim[_XZT_]         :16384\n",
                        "lat_3dim[_XYT_]         :16384\n",
                        "lat_3dim[_XYZ_]         :16384\n",
                        "lat_4dim                :524288\n",
                        "grid_2dim[_XY_]         :1\n",
                        "grid_2dim[_XZ_]         :1\n",
                        "grid_2dim[_XT_]         :1\n",
                        "grid_2dim[_YZ_]         :1\n",
                        "grid_2dim[_YT_]         :1\n",
                        "grid_2dim[_ZT_]         :1\n",
                        "grid_3dim[_YZT_]        :1\n",
                        "grid_3dim[_XZT_]        :1\n",
                        "grid_3dim[_XYT_]        :1\n",
                        "grid_3dim[_XYZ_]        :1\n",
                        "grid_index_1dim[_X_]    :0\n",
                        "grid_index_1dim[_Y_]    :0\n",
                        "grid_index_1dim[_Z_]    :0\n",
                        "grid_index_1dim[_T_]    :0\n",
                        "move_wards[_B_X_]       :0\n",
                        "move_wards[_B_Y_]       :0\n",
                        "move_wards[_B_Z_]       :0\n",
                        "move_wards[_B_T_]       :0\n",
                        "move_wards[_F_X_]       :0\n",
                        "move_wards[_F_Y_]       :0\n",
                        "move_wards[_F_Z_]       :0\n",
                        "move_wards[_F_T_]       :0\n",
                        "move_wards[_BX_BY_]     :0\n",
                        "move_wards[_BX_BZ_]     :0\n",
                        "move_wards[_BX_BT_]     :0\n",
                        "move_wards[_BY_BZ_]     :0\n",
                        "move_wards[_BY_BT_]     :0\n",
                        "move_wards[_BZ_BT_]     :0\n",
                        "move_wards[_FX_BY_]     :0\n",
                        "move_wards[_FX_BZ_]     :0\n",
                        "move_wards[_FX_BT_]     :0\n",
                        "move_wards[_FY_BZ_]     :0\n",
                        "move_wards[_FY_BT_]     :0\n",
                        "move_wards[_FZ_BT_]     :0\n",
                        "move_wards[_BX_FY_]     :0\n",
                        "move_wards[_BX_FZ_]     :0\n",
                        "move_wards[_BX_FT_]     :0\n",
                        "move_wards[_BY_FZ_]     :0\n",
                        "move_wards[_BY_FT_]     :0\n",
                        "move_wards[_BZ_FT_]     :0\n",
                        "move_wards[_FX_FY_]     :0\n",
                        "move_wards[_FX_FZ_]     :0\n",
                        "move_wards[_FX_FT_]     :0\n",
                        "move_wards[_FY_FZ_]     :0\n",
                        "move_wards[_FY_FT_]     :0\n",
                        "move_wards[_FZ_FT_]     :0\n",
                        "set_ptr:0x556ccc58c260\n",
                        "long long set_ptr:93925773197920\n",
                        "lattice set init total time:0.034041373 sec\n"
                    ]
                }
            ],
            "source": [
                "wilson_cg_params = params.copy()\n",
                "wilson_cg_params[define._SET_INDEX_] = 0\n",
                "wilson_cg_params[define._SET_PLAN_] = define._SET_PLAN1_\n",
                "qcu.applyInitQcu(set_ptrs, wilson_cg_params, argv)"
            ]
        },
        {
            "cell_type": "code",
            "execution_count": 3,
            "metadata": {},
            "outputs": [
                {
                    "name": "stdout",
                    "output_type": "stream",
                    "text": [
                        "gridDim.x               :4096\n",
                        "blockDim.x              :128\n",
                        "host_params[_LAT_X_]    :16\n",
                        "host_params[_LAT_Y_]    :32\n",
                        "host_params[_LAT_Z_]    :32\n",
                        "host_params[_LAT_T_]    :32\n",
                        "host_params[_LAT_XYZT_] :524288\n",
                        "host_params[_GRID_X_]   :1\n",
                        "host_params[_GRID_Y_]   :1\n",
                        "host_params[_GRID_Z_]   :1\n",
                        "host_params[_GRID_T_]   :1\n",
                        "host_params[_PARITY_]   :0\n",
                        "host_params[_NODE_RANK_]:0\n",
                        "host_params[_NODE_SIZE_]:1\n",
                        "host_params[_DAGGER_]   :0\n",
                        "host_params[_MAX_ITER_] :10000\n",
                        "host_params[_SET_INDEX_]:1\n",
                        "host_params[_SET_PLAN_] :0\n",
                        "host_argv[_MASS_]       :0.000000e+00\n",
                        "host_argv[_TOL_]        :1.000000e-09\n",
                        "lat_2dim[_XY_]          :512\n",
                        "lat_2dim[_XZ_]          :512\n",
                        "lat_2dim[_XT_]          :512\n",
                        "lat_2dim[_YZ_]          :1024\n",
                        "lat_2dim[_YT_]          :1024\n",
                        "lat_2dim[_ZT_]          :1024\n",
                        "lat_3dim[_YZT_]         :32768\n",
                        "lat_3dim[_XZT_]         :16384\n",
                        "lat_3dim[_XYT_]         :16384\n",
                        "lat_3dim[_XYZ_]         :16384\n",
                        "lat_4dim                :524288\n",
                        "grid_2dim[_XY_]         :1\n",
                        "grid_2dim[_XZ_]         :1\n",
                        "grid_2dim[_XT_]         :1\n",
                        "grid_2dim[_YZ_]         :1\n",
                        "grid_2dim[_YT_]         :1\n",
                        "grid_2dim[_ZT_]         :1\n",
                        "grid_3dim[_YZT_]        :1\n",
                        "grid_3dim[_XZT_]        :1\n",
                        "grid_3dim[_XYT_]        :1\n",
                        "grid_3dim[_XYZ_]        :1\n",
                        "grid_index_1dim[_X_]    :0\n",
                        "grid_index_1dim[_Y_]    :0\n",
                        "grid_index_1dim[_Z_]    :0\n",
                        "grid_index_1dim[_T_]    :0\n",
                        "move_wards[_B_X_]       :0\n",
                        "move_wards[_B_Y_]       :0\n",
                        "move_wards[_B_Z_]       :0\n",
                        "move_wards[_B_T_]       :0\n",
                        "move_wards[_F_X_]       :0\n",
                        "move_wards[_F_Y_]       :0\n",
                        "move_wards[_F_Z_]       :0\n",
                        "move_wards[_F_T_]       :0\n",
                        "move_wards[_BX_BY_]     :0\n",
                        "move_wards[_BX_BZ_]     :0\n",
                        "move_wards[_BX_BT_]     :0\n",
                        "move_wards[_BY_BZ_]     :0\n",
                        "move_wards[_BY_BT_]     :0\n",
                        "move_wards[_BZ_BT_]     :0\n",
                        "move_wards[_FX_BY_]     :0\n",
                        "move_wards[_FX_BZ_]     :0\n",
                        "move_wards[_FX_BT_]     :0\n",
                        "move_wards[_FY_BZ_]     :0\n",
                        "move_wards[_FY_BT_]     :0\n",
                        "move_wards[_FZ_BT_]     :0\n",
                        "move_wards[_BX_FY_]     :0\n",
                        "move_wards[_BX_FZ_]     :0\n",
                        "move_wards[_BX_FT_]     :0\n",
                        "move_wards[_BY_FZ_]     :0\n",
                        "move_wards[_BY_FT_]     :0\n",
                        "move_wards[_BZ_FT_]     :0\n",
                        "move_wards[_FX_FY_]     :0\n",
                        "move_wards[_FX_FZ_]     :0\n",
                        "move_wards[_FX_FT_]     :0\n",
                        "move_wards[_FY_FZ_]     :0\n",
                        "move_wards[_FY_FT_]     :0\n",
                        "move_wards[_FZ_FT_]     :0\n",
                        "set_ptr:0x556cccee2180\n",
                        "long long set_ptr:93925782987136\n",
                        "lattice set init total time:0.019709043 sec\n"
                    ]
                }
            ],
            "source": [
                "wilson_dslash_eo_params = params.copy()\n",
                "wilson_dslash_eo_params[define._SET_INDEX_] = 1\n",
                "wilson_dslash_eo_params[define._SET_PLAN_] = define._SET_PLAN0_\n",
                "wilson_dslash_eo_params[define._PARITY_] = define._EVEN_\n",
                "wilson_dslash_eo_params[define._DAGGER_] = define._NO_USE_\n",
                "qcu.applyInitQcu(set_ptrs, wilson_dslash_eo_params, argv)"
            ]
        },
        {
            "cell_type": "code",
            "execution_count": 4,
            "metadata": {},
            "outputs": [
                {
                    "name": "stdout",
                    "output_type": "stream",
                    "text": [
                        "gridDim.x               :4096\n",
                        "blockDim.x              :128\n",
                        "host_params[_LAT_X_]    :16\n",
                        "host_params[_LAT_Y_]    :32\n",
                        "host_params[_LAT_Z_]    :32\n",
                        "host_params[_LAT_T_]    :32\n",
                        "host_params[_LAT_XYZT_] :524288\n",
                        "host_params[_GRID_X_]   :1\n",
                        "host_params[_GRID_Y_]   :1\n",
                        "host_params[_GRID_Z_]   :1\n",
                        "host_params[_GRID_T_]   :1\n",
                        "host_params[_PARITY_]   :0\n",
                        "host_params[_NODE_RANK_]:0\n",
                        "host_params[_NODE_SIZE_]:1\n",
                        "host_params[_DAGGER_]   :1\n",
                        "host_params[_MAX_ITER_] :10000\n",
                        "host_params[_SET_INDEX_]:2\n",
                        "host_params[_SET_PLAN_] :0\n",
                        "host_argv[_MASS_]       :0.000000e+00\n",
                        "host_argv[_TOL_]        :1.000000e-09\n",
                        "lat_2dim[_XY_]          :512\n",
                        "lat_2dim[_XZ_]          :512\n",
                        "lat_2dim[_XT_]          :512\n",
                        "lat_2dim[_YZ_]          :1024\n",
                        "lat_2dim[_YT_]          :1024\n",
                        "lat_2dim[_ZT_]          :1024\n",
                        "lat_3dim[_YZT_]         :32768\n",
                        "lat_3dim[_XZT_]         :16384\n",
                        "lat_3dim[_XYT_]         :16384\n",
                        "lat_3dim[_XYZ_]         :16384\n",
                        "lat_4dim                :524288\n",
                        "grid_2dim[_XY_]         :1\n",
                        "grid_2dim[_XZ_]         :1\n",
                        "grid_2dim[_XT_]         :1\n",
                        "grid_2dim[_YZ_]         :1\n",
                        "grid_2dim[_YT_]         :1\n",
                        "grid_2dim[_ZT_]         :1\n",
                        "grid_3dim[_YZT_]        :1\n",
                        "grid_3dim[_XZT_]        :1\n",
                        "grid_3dim[_XYT_]        :1\n",
                        "grid_3dim[_XYZ_]        :1\n",
                        "grid_index_1dim[_X_]    :0\n",
                        "grid_index_1dim[_Y_]    :0\n",
                        "grid_index_1dim[_Z_]    :0\n",
                        "grid_index_1dim[_T_]    :0\n",
                        "move_wards[_B_X_]       :0\n",
                        "move_wards[_B_Y_]       :0\n",
                        "move_wards[_B_Z_]       :0\n",
                        "move_wards[_B_T_]       :0\n",
                        "move_wards[_F_X_]       :0\n",
                        "move_wards[_F_Y_]       :0\n",
                        "move_wards[_F_Z_]       :0\n",
                        "move_wards[_F_T_]       :0\n",
                        "move_wards[_BX_BY_]     :0\n",
                        "move_wards[_BX_BZ_]     :0\n",
                        "move_wards[_BX_BT_]     :0\n",
                        "move_wards[_BY_BZ_]     :0\n",
                        "move_wards[_BY_BT_]     :0\n",
                        "move_wards[_BZ_BT_]     :0\n",
                        "move_wards[_FX_BY_]     :0\n",
                        "move_wards[_FX_BZ_]     :0\n",
                        "move_wards[_FX_BT_]     :0\n",
                        "move_wards[_FY_BZ_]     :0\n",
                        "move_wards[_FY_BT_]     :0\n",
                        "move_wards[_FZ_BT_]     :0\n",
                        "move_wards[_BX_FY_]     :0\n",
                        "move_wards[_BX_FZ_]     :0\n",
                        "move_wards[_BX_FT_]     :0\n",
                        "move_wards[_BY_FZ_]     :0\n",
                        "move_wards[_BY_FT_]     :0\n",
                        "move_wards[_BZ_FT_]     :0\n",
                        "move_wards[_FX_FY_]     :0\n",
                        "move_wards[_FX_FZ_]     :0\n",
                        "move_wards[_FX_FT_]     :0\n",
                        "move_wards[_FY_FZ_]     :0\n",
                        "move_wards[_FY_FT_]     :0\n",
                        "move_wards[_FZ_FT_]     :0\n",
                        "set_ptr:0x556cccf0c9b0\n",
                        "long long set_ptr:93925783161264\n",
                        "lattice set init total time:0.018436017 sec\n"
                    ]
                }
            ],
            "source": [
                "wilson_dslash_eo_dag_params = params.copy()\n",
                "wilson_dslash_eo_dag_params[define._SET_INDEX_] = 2\n",
                "wilson_dslash_eo_dag_params[define._SET_PLAN_] = define._SET_PLAN0_\n",
                "wilson_dslash_eo_dag_params[define._PARITY_] = define._EVEN_\n",
                "wilson_dslash_eo_dag_params[define._DAGGER_] = define._USE_\n",
                "qcu.applyInitQcu(set_ptrs, wilson_dslash_eo_dag_params, argv)"
            ]
        },
        {
            "cell_type": "code",
            "execution_count": 5,
            "metadata": {},
            "outputs": [
                {
                    "name": "stdout",
                    "output_type": "stream",
                    "text": [
                        "gridDim.x               :4096\n",
                        "blockDim.x              :128\n",
                        "host_params[_LAT_X_]    :16\n",
                        "host_params[_LAT_Y_]    :32\n",
                        "host_params[_LAT_Z_]    :32\n",
                        "host_params[_LAT_T_]    :32\n",
                        "host_params[_LAT_XYZT_] :524288\n",
                        "host_params[_GRID_X_]   :1\n",
                        "host_params[_GRID_Y_]   :1\n",
                        "host_params[_GRID_Z_]   :1\n",
                        "host_params[_GRID_T_]   :1\n",
                        "host_params[_PARITY_]   :1\n",
                        "host_params[_NODE_RANK_]:0\n",
                        "host_params[_NODE_SIZE_]:1\n",
                        "host_params[_DAGGER_]   :0\n",
                        "host_params[_MAX_ITER_] :10000\n",
                        "host_params[_SET_INDEX_]:3\n",
                        "host_params[_SET_PLAN_] :0\n",
                        "host_argv[_MASS_]       :0.000000e+00\n",
                        "host_argv[_TOL_]        :1.000000e-09\n",
                        "lat_2dim[_XY_]          :512\n",
                        "lat_2dim[_XZ_]          :512\n",
                        "lat_2dim[_XT_]          :512\n",
                        "lat_2dim[_YZ_]          :1024\n",
                        "lat_2dim[_YT_]          :1024\n",
                        "lat_2dim[_ZT_]          :1024\n",
                        "lat_3dim[_YZT_]         :32768\n",
                        "lat_3dim[_XZT_]         :16384\n",
                        "lat_3dim[_XYT_]         :16384\n",
                        "lat_3dim[_XYZ_]         :16384\n",
                        "lat_4dim                :524288\n",
                        "grid_2dim[_XY_]         :1\n",
                        "grid_2dim[_XZ_]         :1\n",
                        "grid_2dim[_XT_]         :1\n",
                        "grid_2dim[_YZ_]         :1\n",
                        "grid_2dim[_YT_]         :1\n",
                        "grid_2dim[_ZT_]         :1\n",
                        "grid_3dim[_YZT_]        :1\n",
                        "grid_3dim[_XZT_]        :1\n",
                        "grid_3dim[_XYT_]        :1\n",
                        "grid_3dim[_XYZ_]        :1\n",
                        "grid_index_1dim[_X_]    :0\n",
                        "grid_index_1dim[_Y_]    :0\n",
                        "grid_index_1dim[_Z_]    :0\n",
                        "grid_index_1dim[_T_]    :0\n",
                        "move_wards[_B_X_]       :0\n",
                        "move_wards[_B_Y_]       :0\n",
                        "move_wards[_B_Z_]       :0\n",
                        "move_wards[_B_T_]       :0\n",
                        "move_wards[_F_X_]       :0\n",
                        "move_wards[_F_Y_]       :0\n",
                        "move_wards[_F_Z_]       :0\n",
                        "move_wards[_F_T_]       :0\n",
                        "move_wards[_BX_BY_]     :0\n",
                        "move_wards[_BX_BZ_]     :0\n",
                        "move_wards[_BX_BT_]     :0\n",
                        "move_wards[_BY_BZ_]     :0\n",
                        "move_wards[_BY_BT_]     :0\n",
                        "move_wards[_BZ_BT_]     :0\n",
                        "move_wards[_FX_BY_]     :0\n",
                        "move_wards[_FX_BZ_]     :0\n",
                        "move_wards[_FX_BT_]     :0\n",
                        "move_wards[_FY_BZ_]     :0\n",
                        "move_wards[_FY_BT_]     :0\n",
                        "move_wards[_FZ_BT_]     :0\n",
                        "move_wards[_BX_FY_]     :0\n",
                        "move_wards[_BX_FZ_]     :0\n",
                        "move_wards[_BX_FT_]     :0\n",
                        "move_wards[_BY_FZ_]     :0\n",
                        "move_wards[_BY_FT_]     :0\n",
                        "move_wards[_BZ_FT_]     :0\n",
                        "move_wards[_FX_FY_]     :0\n",
                        "move_wards[_FX_FZ_]     :0\n",
                        "move_wards[_FX_FT_]     :0\n",
                        "move_wards[_FY_FZ_]     :0\n",
                        "move_wards[_FY_FT_]     :0\n",
                        "move_wards[_FZ_FT_]     :0\n",
                        "set_ptr:0x556cccf37b40\n",
                        "long long set_ptr:93925783337792\n",
                        "lattice set init total time:0.016472910 sec\n"
                    ]
                }
            ],
            "source": [
                "wilson_dslash_oe_params = params.copy()\n",
                "wilson_dslash_oe_params[define._SET_INDEX_] = 3\n",
                "wilson_dslash_oe_params[define._SET_PLAN_] = define._SET_PLAN0_\n",
                "wilson_dslash_oe_params[define._PARITY_] = define._ODD_\n",
                "wilson_dslash_oe_params[define._DAGGER_] = define._NO_USE_\n",
                "qcu.applyInitQcu(set_ptrs, wilson_dslash_oe_params, argv)"
            ]
        },
        {
            "cell_type": "code",
            "execution_count": 6,
            "metadata": {},
            "outputs": [
                {
                    "name": "stdout",
                    "output_type": "stream",
                    "text": [
                        "gridDim.x               :4096\n",
                        "blockDim.x              :128\n",
                        "host_params[_LAT_X_]    :16\n",
                        "host_params[_LAT_Y_]    :32\n",
                        "host_params[_LAT_Z_]    :32\n",
                        "host_params[_LAT_T_]    :32\n",
                        "host_params[_LAT_XYZT_] :524288\n",
                        "host_params[_GRID_X_]   :1\n",
                        "host_params[_GRID_Y_]   :1\n",
                        "host_params[_GRID_Z_]   :1\n",
                        "host_params[_GRID_T_]   :1\n",
                        "host_params[_PARITY_]   :1\n",
                        "host_params[_NODE_RANK_]:0\n",
                        "host_params[_NODE_SIZE_]:1\n",
                        "host_params[_DAGGER_]   :1\n",
                        "host_params[_MAX_ITER_] :10000\n",
                        "host_params[_SET_INDEX_]:4\n",
                        "host_params[_SET_PLAN_] :0\n",
                        "host_argv[_MASS_]       :0.000000e+00\n",
                        "host_argv[_TOL_]        :1.000000e-09\n",
                        "lat_2dim[_XY_]          :512\n",
                        "lat_2dim[_XZ_]          :512\n",
                        "lat_2dim[_XT_]          :512\n",
                        "lat_2dim[_YZ_]          :1024\n",
                        "lat_2dim[_YT_]          :1024\n",
                        "lat_2dim[_ZT_]          :1024\n",
                        "lat_3dim[_YZT_]         :32768\n",
                        "lat_3dim[_XZT_]         :16384\n",
                        "lat_3dim[_XYT_]         :16384\n",
                        "lat_3dim[_XYZ_]         :16384\n",
                        "lat_4dim                :524288\n",
                        "grid_2dim[_XY_]         :1\n",
                        "grid_2dim[_XZ_]         :1\n",
                        "grid_2dim[_XT_]         :1\n",
                        "grid_2dim[_YZ_]         :1\n",
                        "grid_2dim[_YT_]         :1\n",
                        "grid_2dim[_ZT_]         :1\n",
                        "grid_3dim[_YZT_]        :1\n",
                        "grid_3dim[_XZT_]        :1\n",
                        "grid_3dim[_XYT_]        :1\n",
                        "grid_3dim[_XYZ_]        :1\n",
                        "grid_index_1dim[_X_]    :0\n",
                        "grid_index_1dim[_Y_]    :0\n",
                        "grid_index_1dim[_Z_]    :0\n",
                        "grid_index_1dim[_T_]    :0\n",
                        "move_wards[_B_X_]       :0\n",
                        "move_wards[_B_Y_]       :0\n",
                        "move_wards[_B_Z_]       :0\n",
                        "move_wards[_B_T_]       :0\n",
                        "move_wards[_F_X_]       :0\n",
                        "move_wards[_F_Y_]       :0\n",
                        "move_wards[_F_Z_]       :0\n",
                        "move_wards[_F_T_]       :0\n",
                        "move_wards[_BX_BY_]     :0\n",
                        "move_wards[_BX_BZ_]     :0\n",
                        "move_wards[_BX_BT_]     :0\n",
                        "move_wards[_BY_BZ_]     :0\n",
                        "move_wards[_BY_BT_]     :0\n",
                        "move_wards[_BZ_BT_]     :0\n",
                        "move_wards[_FX_BY_]     :0\n",
                        "move_wards[_FX_BZ_]     :0\n",
                        "move_wards[_FX_BT_]     :0\n",
                        "move_wards[_FY_BZ_]     :0\n",
                        "move_wards[_FY_BT_]     :0\n",
                        "move_wards[_FZ_BT_]     :0\n",
                        "move_wards[_BX_FY_]     :0\n",
                        "move_wards[_BX_FZ_]     :0\n",
                        "move_wards[_BX_FT_]     :0\n",
                        "move_wards[_BY_FZ_]     :0\n",
                        "move_wards[_BY_FT_]     :0\n",
                        "move_wards[_BZ_FT_]     :0\n",
                        "move_wards[_FX_FY_]     :0\n",
                        "move_wards[_FX_FZ_]     :0\n",
                        "move_wards[_FX_FT_]     :0\n",
                        "move_wards[_FY_FZ_]     :0\n",
                        "move_wards[_FY_FT_]     :0\n",
                        "move_wards[_FZ_FT_]     :0\n",
                        "set_ptr:0x556cccf59760\n",
                        "long long set_ptr:93925783476064\n",
                        "lattice set init total time:0.010792294 sec\n"
                    ]
                }
            ],
            "source": [
                "wilson_dslash_oe_dag_params = params.copy()\n",
                "wilson_dslash_oe_dag_params[define._SET_INDEX_] = 4\n",
                "wilson_dslash_oe_dag_params[define._SET_PLAN_] = define._SET_PLAN0_\n",
                "wilson_dslash_oe_dag_params[define._PARITY_] = define._ODD_\n",
                "wilson_dslash_oe_dag_params[define._DAGGER_] = define._USE_\n",
                "qcu.applyInitQcu(set_ptrs, wilson_dslash_oe_dag_params, argv)"
            ]
        },
        {
            "cell_type": "code",
            "execution_count": 7,
            "metadata": {},
            "outputs": [
                {
                    "name": "stdout",
                    "output_type": "stream",
                    "text": [
                        "Set pointers: [93925773197920 93925782987136 93925783161264 93925783337792\n",
                        " 93925783476064              0              0              0\n",
                        "              0              0]\n",
                        "Set pointers data: <memory at 0x7fb6121d50c0>\n"
                    ]
                }
            ],
            "source": [
                "print(\"Set pointers:\", set_ptrs)\n",
                "print(\"Set pointers data:\", set_ptrs.data)"
            ]
        },
        {
            "cell_type": "markdown",
            "metadata": {},
            "source": [
                "# Read from hdf5 files."
            ]
        },
        {
            "cell_type": "code",
            "execution_count": 8,
            "metadata": {},
            "outputs": [
                {
                    "name": "stdout",
                    "output_type": "stream",
                    "text": [
                        "Gauge filename: quda_wilson-bistabcg-gauge_-32-32-32-32-1048576-1-1-1-1-0-0-1-0-f.h5\n",
                        "Grid Index T: 0, Grid Index Z: 0, Grid Index Y: 0, Grid Index X: 0\n",
                        "Grid Lat T: 32, Grid Lat Z: 32, Grid Lat Y: 32, Grid Lat X: 16\n",
                        "All Dest Shape: (3, 3, 4, 2, 32, 32, 32, 16)\n",
                        "Dest Shape: (3, 3, 4, 2, 32, 32, 32, 16)\n",
                        "Fermion in filename: quda_wilson-bistabcg-fermion-in_-32-32-32-32-1048576-1-1-1-1-0-0-1-0-f.h5\n",
                        "Grid Index T: 0, Grid Index Z: 0, Grid Index Y: 0, Grid Index X: 0\n",
                        "Grid Lat T: 32, Grid Lat Z: 32, Grid Lat Y: 32, Grid Lat X: 16\n",
                        "All Dest Shape: (2, 4, 3, 32, 32, 32, 16)\n",
                        "Dest Shape: (2, 4, 3, 32, 32, 32, 16)\n",
                        "Fermion out filename: quda_wilson-bistabcg-fermion-out_-32-32-32-32-1048576-1-1-1-1-0-0-1-0-f.h5\n",
                        "Grid Index T: 0, Grid Index Z: 0, Grid Index Y: 0, Grid Index X: 0\n",
                        "Grid Lat T: 32, Grid Lat Z: 32, Grid Lat Y: 32, Grid Lat X: 16\n",
                        "All Dest Shape: (2, 4, 3, 32, 32, 32, 16)\n",
                        "Dest Shape: (2, 4, 3, 32, 32, 32, 16)\n",
                        "Fermion out data: <MemoryPointer 0xb28400000 device=0 mem=<cupy.cuda.memory.PooledMemory object at 0x7fb681de7330>>\n",
                        "Fermion out shape: (2, 4, 3, 32, 32, 32, 16)\n",
                        "Orth orth_eigenvectors filename: quda_wilson-bistabcg-orth_eigenvectors_-32-32-32-32-1048576-1-1-1-1-0-0-1-0-f.h5\n",
                        "Dest Shape: (24, 4, 3, 8, 4, 4, 8, 4, 8, 4, 4)\n",
                        "Orth orth_eigenvectors data: <MemoryPointer 0xb2e400000 device=0 mem=<cupy.cuda.memory.PooledMemory object at 0x7fb681d96670>>\n",
                        "Orth orth_eigenvectors shape: (24, 4, 3, 32, 32, 32, 16)\n"
                    ]
                }
            ],
            "source": [
                "print(\"Gauge filename:\", gauge_filename)\n",
                "gauge = io.hdf5_xxxtzyx2grid_xxxtzyx(params, gauge_filename)\n",
                "fermion_in_filename = gauge_filename.replace(\"gauge\", \"fermion-in\")\n",
                "print(\"Fermion in filename:\", fermion_in_filename)\n",
                "fermion_in = io.hdf5_xxxtzyx2grid_xxxtzyx(\n",
                "    params, fermion_in_filename)\n",
                "fermion_out_filename = gauge_filename.replace(\"gauge\", \"fermion-out\")\n",
                "print(\"Fermion out filename:\", fermion_out_filename)\n",
                "quda_fermion_out = io.hdf5_xxxtzyx2grid_xxxtzyx(\n",
                "    params, fermion_out_filename)\n",
                "fermion_out = cp.zeros_like(fermion_in)\n",
                "print(\"Fermion out data:\", fermion_out.data)\n",
                "print(\"Fermion out shape:\", fermion_out.shape)\n",
                "# eigenvalues_filename = gauge_filename.replace(\"gauge\", \"eigenvalues\")\n",
                "# print(\"Eigenvalues filename:\", eigenvalues_filename)\n",
                "# eigenvalues = io.hdf5_xxx2xxx(file_name=eigenvalues_filename)\n",
                "# print(\"Eigenvalues data:\", eigenvalues.data)\n",
                "# print(\"Eigenvalues shape:\", eigenvalues.shape)\n",
                "# eigenvectors_filename = gauge_filename.replace(\"gauge\", \"eigenvectors\")\n",
                "# print(\"Eigenvectors filename:\", eigenvectors_filename)\n",
                "# eigenvectors = io.eigenvectors2esctzyx(\n",
                "#     params=params, eigenvectors=io.hdf5_xxx2xxx(file_name=eigenvectors_filename))\n",
                "# print(\"Eigenvectors data:\", eigenvectors.data)\n",
                "# print(\"Eigenvectors shape:\", eigenvectors.shape)\n",
                "orth_eigenvectors_filename = gauge_filename.replace(\"gauge\", \"orth_eigenvectors\")\n",
                "print(\"Orth orth_eigenvectors filename:\", orth_eigenvectors_filename)\n",
                "orth_eigenvectors = io.eigenvectors2esctzyx(\n",
                "    params=params, eigenvectors=io.hdf5_xxx2xxx(file_name=orth_eigenvectors_filename))\n",
                "print(\"Orth orth_eigenvectors data:\", orth_eigenvectors.data)\n",
                "print(\"Orth orth_eigenvectors shape:\", orth_eigenvectors.shape)\n"
            ]
        },
        {
            "cell_type": "markdown",
            "metadata": {},
            "source": [
                "# Run wilson bistabcg from pyqcu test."
            ]
        },
        {
            "cell_type": "code",
            "execution_count": 9,
            "metadata": {},
            "outputs": [
                {
                    "name": "stdout",
                    "output_type": "stream",
                    "text": [
                        "##RANK:0##LOOP:118##Residual:(2.27222e-10,1.97371e-23i)\n",
                        "multi-gpu wilson bistabcg total time: (without malloc free memcpy) :1.811516160 sec\n",
                        "######TIME  :4993.57######\n",
                        "##RANK      :0\n",
                        "##LOOP      :999\n",
                        "##tmp0      :(1.03257e-11,2.49512e-12i)\n",
                        "##tmp1      :(4.79284e-12,-2.12052e-23i)\n",
                        "##rho_prev  :(-2.31288e-06,4.83391e-06i)\n",
                        "##rho       :(-2.31288e-06,4.83391e-06i)\n",
                        "##alpha     :(0.629024,-0.434716i)\n",
                        "##beta      :(0.059529,-0.0243195i)\n",
                        "##omega     :(2.1544,0.520593i)\n",
                        "##send_tmp  :(0.00984323,0i)\n",
                        "##norm2_tmp :(4.97484e+07,0.000224118i)\n",
                        "##diff_tmp  :(1.9786e-10,-8.91365e-22i)\n",
                        "##lat_4dim  :(524288,0i)\n",
                        "Fermion out data: <MemoryPointer 0xb28400000 device=0 mem=<cupy.cuda.memory.PooledMemory object at 0x7fb681de7330>>\n",
                        "Fermion out shape: (2, 4, 3, 32, 32, 32, 16)\n",
                        "QUDA Fermion out data: <MemoryPointer 0xb22400000 device=0 mem=<cupy.cuda.memory.PooledMemory object at 0x7fb681da3ef0>>\n",
                        "QUDA Fermion out shape: (2, 4, 3, 32, 32, 32, 16)\n",
                        "Difference: 3.056118e-07\n"
                    ]
                }
            ],
            "source": [
                "qcu.applyWilsonBistabCgQcu(fermion_out, fermion_in,\n",
                "                           gauge, set_ptrs, wilson_cg_params)\n",
                "# qcu.applyWilsonCgQcu(fermion_out, fermion_in,\n",
                "#                            gauge, set_ptrs, wilson_cg_params)\n",
                "print(\"Fermion out data:\", fermion_out.data)\n",
                "print(\"Fermion out shape:\", fermion_out.shape)\n",
                "print(\"QUDA Fermion out data:\", quda_fermion_out.data)\n",
                "print(\"QUDA Fermion out shape:\", quda_fermion_out.shape)\n",
                "print(\"Difference:\", cp.linalg.norm(fermion_out -\n",
                "      quda_fermion_out)/cp.linalg.norm(quda_fermion_out))"
            ]
        },
        {
            "cell_type": "markdown",
            "metadata": {},
            "source": [
                "# Give CG & BISTABCG Dslash.\n",
                "> src_o-set_ptr->kappa()**2*dslash_oe(dslash_eo(src_o))"
            ]
        },
        {
            "cell_type": "code",
            "execution_count": 10,
            "metadata": {},
            "outputs": [],
            "source": [
                "def cg_dslash_no_dag(src):\n",
                "    tmp0 = cp.zeros_like(src)\n",
                "    tmp1 = cp.zeros_like(src)\n",
                "    qcu.applyWilsonDslashQcu(\n",
                "        tmp0, src, gauge, set_ptrs, wilson_dslash_eo_params)\n",
                "    qcu.applyWilsonDslashQcu(\n",
                "        tmp1, tmp0, gauge, set_ptrs, wilson_dslash_oe_params)\n",
                "    return src-kappa**2*tmp1\n",
                "\n",
                "\n",
                "def cg_dslash_dag(src):\n",
                "    tmp0 = cp.zeros_like(src)\n",
                "    tmp1 = cp.zeros_like(src)\n",
                "    qcu.applyWilsonDslashQcu(\n",
                "        tmp0, src, gauge, set_ptrs, wilson_dslash_eo_dag_params)\n",
                "    qcu.applyWilsonDslashQcu(\n",
                "        tmp1, tmp0, gauge, set_ptrs, wilson_dslash_oe_dag_params)\n",
                "    return src-kappa**2*tmp1\n",
                "\n",
                "\n",
                "def cg_dslash(src):\n",
                "    return cg_dslash_dag(cg_dslash_no_dag(src))\n",
                "\n",
                "def bistabcg_dslash(src):\n",
                "    return cg_dslash_no_dag(src)\n",
                "\n"
            ]
        },
        {
            "cell_type": "markdown",
            "metadata": {},
            "source": [
                "# Give matvec."
            ]
        },
        {
            "cell_type": "code",
            "execution_count": 11,
            "metadata": {},
            "outputs": [],
            "source": [
                "def matvec(src):\n",
                "    return cg_dslash(src)"
            ]
        },
        {
            "cell_type": "markdown",
            "metadata": {},
            "source": [
                "# Run matvec(eigenvector[.]) ?= eigenvalue[.]*eigenvector[.] for eigen test. (pass, don't run this)"
            ]
        },
        {
            "cell_type": "code",
            "execution_count": 12,
            "metadata": {},
            "outputs": [],
            "source": [
                "# for i, ev in enumerate(eigenvalues):\n",
                "#     print(f\"λ_{i} = {ev:.2e}\")\n",
                "#     # Verify eigenvector\n",
                "#     v = eigenvectors[i]\n",
                "#     w = cp.zeros_like(v)\n",
                "#     w = cg_dslash(v)\n",
                "#     error = cp.linalg.norm(w - ev * v) / cp.linalg.norm(w)\n",
                "#     print(f\"Relative error: {error:.2e}\")\n",
                "#     j = i+1\n",
                "#     if j == len(eigenvalues):\n",
                "#         j = 0\n",
                "#     print(\n",
                "#         f\"Diff between λ_{i} and λ_{j}: {cp.linalg.norm(eigenvectors[i] - eigenvectors[j])/cp.linalg.norm(eigenvectors[i]):.2e}\")"
            ]
        },
        {
            "cell_type": "markdown",
            "metadata": {},
            "source": [
                "# Give guage's eigenvalues and eigenvectors to hdf5 files. (pass, don't run this)"
            ]
        },
        {
            "cell_type": "code",
            "execution_count": 13,
            "metadata": {},
            "outputs": [],
            "source": [
                "# eigen_solver = eigen.solver(\n",
                "#     n=params[define._LAT_XYZT_] * define._LAT_HALF_SC_, k=define._LAT_Ne_,matvec=cg_dslash,dtype=gauge.dtype)\n",
                "# eigenvalues, eigenvectors = eigen_solver.run()\n",
                "# io.xxx2hdf5_xxx(\n",
                "#     eigenvalues, params, gauge_filename.replace(\"gauge\", \"eigenvalues\"))\n",
                "# io.xxx2hdf5_xxx(\n",
                "#     eigenvectors, params, gauge_filename.replace(\"gauge\", \"eigenvectors\"))"
            ]
        },
        {
            "cell_type": "markdown",
            "metadata": {},
            "source": [
                "# Origin CG. (pass, don't run this)"
            ]
        },
        {
            "cell_type": "code",
            "execution_count": 14,
            "metadata": {},
            "outputs": [],
            "source": [
                "# b_e = fermion_in[define._EVEN_].flatten()\n",
                "# b_o = fermion_in[define._ODD_].flatten()\n",
                "# b__o = cp.zeros_like(b_o)\n",
                "# tmp = cp.zeros_like(b_o)\n",
                "# # b__o=b_o+kappa*D_oe(b_e)\n",
                "# qcu.applyWilsonDslashQcu(tmp, b_e, gauge, set_ptrs, wilson_dslash_oe_params)\n",
                "# b__o = b_o+kappa*tmp\n",
                "# # b__o -> Dslash^dag b__o\n",
                "# b__o = cg_dslash_dag(b__o)\n",
                "# # Dslash(x_o)=b__o\n",
                "# cg_solver = cg.slover(b=b__o, matvec=cg_dslash, tol=1e-10, max_iter=1000000)\n",
                "# x_o = cg_solver.run()\n",
                "# # x_e  =b_e+kappa*D_eo(x_o)\n",
                "# qcu.applyWilsonDslashQcu(tmp, x_o, gauge, set_ptrs, wilson_dslash_eo_params)\n",
                "# x_e = b_e+kappa*tmp\n",
                "# # give qcu_fermion_out\n",
                "# qcu_fermion_out = cp.zeros_like(quda_fermion_out)\n",
                "# qcu_fermion_out[define._EVEN_] = x_e.reshape(\n",
                "#     quda_fermion_out[define._EVEN_].shape)\n",
                "# qcu_fermion_out[define._ODD_] = x_o.reshape(\n",
                "#     quda_fermion_out[define._ODD_].shape)\n",
                "# print(np.linalg.norm(qcu_fermion_out-quda_fermion_out) /\n",
                "#       np.linalg.norm(quda_fermion_out))"
            ]
        },
        {
            "cell_type": "markdown",
            "metadata": {},
            "source": [
                "# Origin BISTABCG. (pass, don't run this)"
            ]
        },
        {
            "cell_type": "code",
            "execution_count": 15,
            "metadata": {},
            "outputs": [],
            "source": [
                "# b_e = fermion_in[define._EVEN_].flatten()\n",
                "# b_o = fermion_in[define._ODD_].flatten()\n",
                "# b__o = cp.zeros_like(b_o)\n",
                "# tmp = cp.zeros_like(b_o)\n",
                "# # b__o=b_o+kappa*D_oe(b_e)\n",
                "# qcu.applyWilsonDslashQcu(tmp, b_e, gauge, set_ptrs, wilson_dslash_oe_params)\n",
                "# b__o = b_o+kappa*tmp\n",
                "# # Dslash(x_o)=b__o\n",
                "# bistabcg_solver = bistabcg.slover(\n",
                "#     b=b__o, matvec=bistabcg_dslash, tol=1e-10, max_iter=1000000)\n",
                "# x_o = bistabcg_solver.run()\n",
                "# # x_e  =b_e+kappa*D_eo(x_o)\n",
                "# qcu.applyWilsonDslashQcu(tmp, x_o, gauge, set_ptrs, wilson_dslash_eo_params)\n",
                "# x_e = b_e+kappa*tmp\n",
                "# # give qcu_fermion_out\n",
                "# qcu_fermion_out = cp.zeros_like(quda_fermion_out)\n",
                "# qcu_fermion_out[define._EVEN_] = x_e.reshape(\n",
                "#     quda_fermion_out[define._EVEN_].shape)\n",
                "# qcu_fermion_out[define._ODD_] = x_o.reshape(\n",
                "#     quda_fermion_out[define._ODD_].shape)\n",
                "# print(np.linalg.norm(qcu_fermion_out-quda_fermion_out) / \\\n",
                "#     np.linalg.norm(quda_fermion_out))"
            ]
        },
        {
            "cell_type": "markdown",
            "metadata": {},
            "source": [
                "# Give guage's orth_eigenvectors to hdf5 files. (pass, don't run this)"
            ]
        },
        {
            "cell_type": "code",
            "execution_count": 16,
            "metadata": {},
            "outputs": [],
            "source": [
                "# _eigenvectors = io.xxxtzyx2mg_xxxtzyx(input_array=eigenvectors, params=params)\n",
                "# _eigenvectors.shape  # escTtZzYyXx\n",
                "# def orthogonalize(eigenvectors):\n",
                "#     _eigenvectors = eigenvectors.copy()\n",
                "#     size_e, size_s, size_c, size_T, size_t, size_Z, size_z, size_Y, size_y, size_X, size_x = eigenvectors.shape\n",
                "#     print(size_e, size_s, size_c, size_T, size_t,\n",
                "#           size_Z, size_z, size_Y, size_y, size_X, size_x)\n",
                "#     for T in range(size_T):\n",
                "#         for Z in range(size_Z):\n",
                "#             for Y in range(size_Y):\n",
                "#                 for X in range(size_X):\n",
                "#                     origin_matrix = eigenvectors[:,\n",
                "#                                                  :, :, T, :, Z, :, Y, :, X, :]\n",
                "#                     _shape = origin_matrix.shape\n",
                "#                     _origin_matrix = origin_matrix.reshape(size_e, -1)\n",
                "#                     condition_number = np.linalg.cond(_origin_matrix.get())\n",
                "#                     print(f\"矩阵条件数: {condition_number}\")\n",
                "#                     a = _origin_matrix[:, 0]\n",
                "#                     b = _origin_matrix[:, -1]\n",
                "#                     print(cp.dot(a.conj(), b))\n",
                "#                     Q = cp.linalg.qr(_origin_matrix.T)[0]\n",
                "#                     condition_number = np.linalg.cond(Q.get())\n",
                "#                     print(f\"矩阵条件数: {condition_number}\")\n",
                "#                     a = Q[:, 0]\n",
                "#                     b = Q[:, -1]\n",
                "#                     print(cp.dot(a.conj(), b))\n",
                "#                     _eigenvectors[:, :, :, T, :, Z, :, Y, :, X, :] = Q.T.reshape(\n",
                "#                         _shape)\n",
                "#     return _eigenvectors\n",
                "# orth_eigenvectors = orthogonalize(_eigenvectors)\n",
                "# io.xxx2hdf5_xxx(\n",
                "#     orth_eigenvectors, params, gauge_filename.replace(\"gauge\", \"orth_eigenvectors\"))"
            ]
        },
        {
            "cell_type": "markdown",
            "metadata": {},
            "source": [
                "# MultiGrid - give grids."
            ]
        },
        {
            "cell_type": "code",
            "execution_count": 17,
            "metadata": {},
            "outputs": [
                {
                    "name": "stdout",
                    "output_type": "stream",
                    "text": [
                        "Input Array Shape: (24, 4, 3, 32, 32, 32, 16)\n",
                        "Dest Shape: (24, 4, 3, 8, 4, 4, 8, 4, 8, 4, 4)\n",
                        "Input Array Shape: (4, 3, 32, 32, 32, 16)\n",
                        "Dest Shape: (4, 3, 8, 4, 4, 8, 4, 8, 4, 4)\n"
                    ]
                }
            ],
            "source": [
                "testvectors = io.xxxtzyx2mg_xxxtzyx(input_array=orth_eigenvectors, params=params)\n",
                "_src = io.xxxtzyx2mg_xxxtzyx(\n",
                "    input_array=fermion_in[define._EVEN_], params=params)"
            ]
        },
        {
            "cell_type": "markdown",
            "metadata": {},
            "source": [
                "# MultiGrid - R*vector.\n",
                "![](./image0-dev40.png)"
            ]
        },
        {
            "cell_type": "code",
            "execution_count": 18,
            "metadata": {},
            "outputs": [],
            "source": [
                "r_src = _src\n",
                "\n",
                "\n",
                "def r_vec(src):\n",
                "    return contract(\"escTtZzYyXx,scTtZzYyXx->eTZYX\", testvectors, src)\n",
                "\n",
                "\n",
                "r_dest = r_vec(r_src)"
            ]
        },
        {
            "cell_type": "code",
            "execution_count": 19,
            "metadata": {},
            "outputs": [
                {
                    "data": {
                        "text/plain": [
                            "(24, 8, 4, 4, 4)"
                        ]
                    },
                    "execution_count": 19,
                    "metadata": {},
                    "output_type": "execute_result"
                }
            ],
            "source": [
                "r_dest.shape"
            ]
        },
        {
            "cell_type": "markdown",
            "metadata": {},
            "source": [
                "# MultiGrid - P*vector.\n",
                "![](./image1-dev40.png)\n"
            ]
        },
        {
            "cell_type": "code",
            "execution_count": 20,
            "metadata": {},
            "outputs": [],
            "source": [
                "p_src = r_dest\n",
                "\n",
                "\n",
                "def p_vec(src):\n",
                "    return contract(\"escTtZzYyXx,eTZYX->scTtZzYyXx\", cp.conj(testvectors), src)\n",
                "\n",
                "\n",
                "p_dest = p_vec(p_src)"
            ]
        },
        {
            "cell_type": "code",
            "execution_count": 21,
            "metadata": {},
            "outputs": [
                {
                    "data": {
                        "text/plain": [
                            "(4, 3, 8, 4, 4, 8, 4, 8, 4, 4)"
                        ]
                    },
                    "execution_count": 21,
                    "metadata": {},
                    "output_type": "execute_result"
                }
            ],
            "source": [
                "p_dest.shape"
            ]
        },
        {
            "cell_type": "markdown",
            "metadata": {},
            "source": [
                "# MultiGrid - verify above.\n",
                "![](./image2-dev40.png)"
            ]
        },
        {
            "cell_type": "code",
            "execution_count": 22,
            "metadata": {},
            "outputs": [
                {
                    "name": "stdout",
                    "output_type": "stream",
                    "text": [
                        "3547.24\n",
                        "3531.9172\n"
                    ]
                }
            ],
            "source": [
                "print(cp.linalg.norm(r_src))\n",
                "print(cp.linalg.norm(p_dest))"
            ]
        },
        {
            "cell_type": "code",
            "execution_count": 23,
            "metadata": {},
            "outputs": [
                {
                    "name": "stdout",
                    "output_type": "stream",
                    "text": [
                        "0.09284756\n"
                    ]
                }
            ],
            "source": [
                "print(cp.linalg.norm(r_src-p_dest)/cp.linalg.norm(r_src))"
            ]
        },
        {
            "cell_type": "code",
            "execution_count": 24,
            "metadata": {},
            "outputs": [
                {
                    "name": "stdout",
                    "output_type": "stream",
                    "text": [
                        "0.09284756\n"
                    ]
                }
            ],
            "source": [
                "print(cp.linalg.norm(r_src-p_vec(r_vec(r_src)))/cp.linalg.norm(r_src))"
            ]
        },
        {
            "cell_type": "code",
            "execution_count": 25,
            "metadata": {},
            "outputs": [
                {
                    "data": {
                        "text/plain": [
                            "array([1.+1.j, 1.+1.j, 1.+1.j, 1.+1.j, 1.+1.j, 1.+1.j, 1.+1.j, 1.+1.j,\n",
                            "       1.+1.j, 1.+1.j, 1.+1.j, 1.+1.j, 1.+1.j, 1.+1.j, 1.+1.j, 1.+1.j,\n",
                            "       1.+1.j, 1.+1.j, 1.+1.j, 1.+1.j, 1.+1.j, 1.+1.j, 1.+1.j, 1.+1.j,\n",
                            "       1.+1.j, 1.+1.j, 1.+1.j, 1.+1.j, 1.+1.j, 1.+1.j, 1.+1.j, 1.+1.j,\n",
                            "       1.+1.j, 1.+1.j, 1.+1.j, 1.+1.j, 1.+1.j, 1.+1.j, 1.+1.j, 1.+1.j,\n",
                            "       1.+1.j, 1.+1.j, 1.+1.j, 1.+1.j, 1.+1.j, 1.+1.j, 1.+1.j, 1.+1.j,\n",
                            "       1.+1.j, 1.+1.j], dtype=complex64)"
                        ]
                    },
                    "execution_count": 25,
                    "metadata": {},
                    "output_type": "execute_result"
                }
            ],
            "source": [
                "r_src.flatten()[:50]"
            ]
        },
        {
            "cell_type": "code",
            "execution_count": 26,
            "metadata": {},
            "outputs": [
                {
                    "data": {
                        "text/plain": [
                            "array([1.+1.j, 1.+1.j, 1.+1.j, 1.+1.j, 1.+1.j, 1.+1.j, 1.+1.j, 1.+1.j,\n",
                            "       1.+1.j, 1.+1.j, 1.+1.j, 1.+1.j, 1.+1.j, 1.+1.j, 1.+1.j, 1.+1.j,\n",
                            "       1.+1.j, 1.+1.j, 1.+1.j, 1.+1.j, 1.+1.j, 1.+1.j, 1.+1.j, 1.+1.j,\n",
                            "       1.+1.j, 1.+1.j, 1.+1.j, 1.+1.j, 1.+1.j, 1.+1.j, 1.+1.j, 1.+1.j,\n",
                            "       1.+1.j, 1.+1.j, 1.+1.j, 1.+1.j, 1.+1.j, 1.+1.j, 1.+1.j, 1.+1.j,\n",
                            "       1.+1.j, 1.+1.j, 1.+1.j, 1.+1.j, 1.+1.j, 1.+1.j, 1.+1.j, 1.+1.j,\n",
                            "       1.+1.j, 1.+1.j], dtype=complex64)"
                        ]
                    },
                    "execution_count": 26,
                    "metadata": {},
                    "output_type": "execute_result"
                }
            ],
            "source": [
                "r_src.flatten()[-50:]"
            ]
        },
        {
            "cell_type": "code",
            "execution_count": 27,
            "metadata": {},
            "outputs": [
                {
                    "data": {
                        "text/plain": [
                            "array([1.1924026 +0.96220475j, 1.1314651 +0.9596404j ,\n",
                            "       1.0552521 +0.8234522j , 1.0549538 +0.92514884j,\n",
                            "       0.9615977 +1.0393802j , 0.95300674+1.0415285j ,\n",
                            "       0.9523357 +0.9495436j , 0.78334856+1.0426004j ,\n",
                            "       1.1427466 +1.1257019j , 0.8673905 +1.072619j  ,\n",
                            "       0.7877028 +1.033166j  , 0.81615794+0.8263445j ,\n",
                            "       0.7418158 +1.0979842j , 0.9804515 +0.89743346j,\n",
                            "       0.99102736+0.9627855j , 1.045865  +1.0467168j ,\n",
                            "       1.0703461 +1.0456425j , 0.90627563+0.97132605j,\n",
                            "       1.0373149 +1.0902432j , 0.82147443+1.0707421j ,\n",
                            "       0.86649394+0.89142334j, 0.95891976+0.98738074j,\n",
                            "       0.8901605 +1.1672864j , 0.79725903+0.9623244j ,\n",
                            "       1.0696645 +0.9613617j , 0.9215935 +1.0815051j ,\n",
                            "       0.9532187 +0.92094266j, 1.1357502 +1.0021203j ,\n",
                            "       0.85560083+1.1228731j , 0.78500533+1.1069124j ,\n",
                            "       0.92780966+0.97881925j, 1.028975  +1.0910051j ,\n",
                            "       1.0465842 +0.9475676j , 0.9770593 +1.115533j  ,\n",
                            "       0.74214095+1.0821452j , 1.2050415 +1.0633073j ,\n",
                            "       0.97504765+1.0177624j , 0.9341303 +0.87132835j,\n",
                            "       1.0975842 +0.8605079j , 1.0766596 +0.9843882j ,\n",
                            "       0.94230986+1.0638049j , 0.84934783+0.9951315j ,\n",
                            "       0.966546  +0.95614547j, 1.0401032 +0.8999749j ,\n",
                            "       0.877297  +1.1863186j , 0.9379658 +0.91466343j,\n",
                            "       0.9376174 +0.8341174j , 0.9858768 +1.1092108j ,\n",
                            "       1.0666482 +0.85321116j, 0.97982866+1.002464j  ], dtype=complex64)"
                        ]
                    },
                    "execution_count": 27,
                    "metadata": {},
                    "output_type": "execute_result"
                }
            ],
            "source": [
                "p_dest.flatten()[:50]"
            ]
        },
        {
            "cell_type": "code",
            "execution_count": 28,
            "metadata": {},
            "outputs": [
                {
                    "data": {
                        "text/plain": [
                            "array([1.015209  +0.9675929j , 0.9580551 +0.8241955j ,\n",
                            "       0.93845475+0.98816234j, 1.0123483 +0.95277333j,\n",
                            "       1.1093609 +1.1002198j , 0.9865519 +0.99884725j,\n",
                            "       0.8775487 +0.9521471j , 0.8883637 +0.94987065j,\n",
                            "       1.1569403 +0.9969489j , 1.0115447 +1.0523158j ,\n",
                            "       1.2233114 +0.9101221j , 1.0171493 +1.0560522j ,\n",
                            "       0.80041045+1.0092261j , 0.94073445+0.9994043j ,\n",
                            "       1.1236668 +1.0416095j , 1.0656508 +1.0222751j ,\n",
                            "       0.94819057+1.0333216j , 0.91837484+0.98015106j,\n",
                            "       0.89652586+1.1199863j , 1.0369996 +0.9844777j ,\n",
                            "       0.96947694+0.8858478j , 0.92914003+1.1577988j ,\n",
                            "       1.1081312 +1.1393045j , 0.91411555+1.1345003j ,\n",
                            "       0.93595326+1.0770782j , 1.0835761 +0.9341351j ,\n",
                            "       1.0789803 +0.9809754j , 1.0851889 +0.9432453j ,\n",
                            "       0.9549229 +0.7950688j , 1.0810493 +0.94939154j,\n",
                            "       0.8450941 +1.0472014j , 0.77741945+0.9585086j ,\n",
                            "       0.94688606+1.1251614j , 1.0217459 +1.0306687j ,\n",
                            "       1.0300897 +1.018015j  , 0.82153714+0.9267591j ,\n",
                            "       0.9172411 +1.0215821j , 0.8237629 +1.0687822j ,\n",
                            "       0.95485914+1.0593991j , 0.869228  +1.0772448j ,\n",
                            "       0.8596413 +1.0724502j , 1.1492218 +1.0776478j ,\n",
                            "       0.98320353+0.8737036j , 1.2126398 +0.7978197j ,\n",
                            "       1.1458226 +1.1362293j , 1.0075446 +1.078426j  ,\n",
                            "       0.8938658 +1.0810436j , 0.9412687 +1.1216776j ,\n",
                            "       1.0281925 +1.0741253j , 0.9604247 +1.0471379j ], dtype=complex64)"
                        ]
                    },
                    "execution_count": 28,
                    "metadata": {},
                    "output_type": "execute_result"
                }
            ],
            "source": [
                "p_dest.flatten()[-50:]"
            ]
        },
        {
            "cell_type": "code",
            "execution_count": 29,
            "metadata": {},
            "outputs": [
                {
                    "data": {
                        "text/plain": [
                            "array(0.09284756, dtype=float32)"
                        ]
                    },
                    "execution_count": 29,
                    "metadata": {},
                    "output_type": "execute_result"
                }
            ],
            "source": [
                "cp.linalg.norm(r_src-p_dest)/cp.linalg.norm(r_src)"
            ]
        },
        {
            "cell_type": "code",
            "execution_count": 30,
            "metadata": {},
            "outputs": [
                {
                    "data": {
                        "text/plain": [
                            "array(0.09325037, dtype=float32)"
                        ]
                    },
                    "execution_count": 30,
                    "metadata": {},
                    "output_type": "execute_result"
                }
            ],
            "source": [
                "cp.linalg.norm(r_src-p_dest)/cp.linalg.norm(p_dest)"
            ]
        },
        {
            "cell_type": "code",
            "execution_count": 31,
            "metadata": {},
            "outputs": [
                {
                    "data": {
                        "text/plain": [
                            "array([1.1924028 +0.9622046j , 1.131465  +0.9596402j ,\n",
                            "       1.055252  +0.82345235j, 1.0549535 +0.9251491j ,\n",
                            "       0.96159875+1.0393807j , 0.9530078 +1.0415289j ,\n",
                            "       0.9523366 +0.9495442j , 0.7833492 +1.0426009j ,\n",
                            "       1.1427467 +1.1257019j , 0.8673905 +1.0726188j ,\n",
                            "       0.78770274+1.0331659j , 0.8161577 +0.8263445j ,\n",
                            "       0.74181604+1.0979842j , 0.9804518 +0.8974335j ,\n",
                            "       0.9910274 +0.96278584j, 1.0458647 +1.0467169j ,\n",
                            "       1.0703461 +1.0456423j , 0.9062754 +0.971326j  ,\n",
                            "       1.0373149 +1.0902435j , 0.8214741 +1.0707424j ,\n",
                            "       0.866495  +0.89142364j, 0.95892066+0.9873811j ,\n",
                            "       0.8901612 +1.167287j  , 0.79725975+0.96232486j,\n",
                            "       1.0696646 +0.9613615j , 0.9215934 +1.081505j  ,\n",
                            "       0.9532185 +0.92094254j, 1.13575   +1.0021201j ,\n",
                            "       0.85560113+1.1228732j , 0.78500557+1.1069125j ,\n",
                            "       0.9278096 +0.97881943j, 1.028975  +1.0910052j ,\n",
                            "       1.0465842 +0.94756746j, 0.97705925+1.1155329j ,\n",
                            "       0.7421407 +1.0821455j , 1.2050409 +1.0633075j ,\n",
                            "       0.97504866+1.0177628j , 0.93413115+0.87132865j,\n",
                            "       1.0975852 +0.86050844j, 1.0766603 +0.9843887j ,\n",
                            "       0.94230986+1.0638045j , 0.8493477 +0.99513143j,\n",
                            "       0.96654576+0.9561453j , 1.040103  +0.8999748j ,\n",
                            "       0.8772974 +1.1863189j , 0.93796587+0.91466343j,\n",
                            "       0.9376176 +0.8341174j , 0.98587674+1.1092111j ,\n",
                            "       1.0666482 +0.8532109j , 0.9798285 +1.002464j  ], dtype=complex64)"
                        ]
                    },
                    "execution_count": 31,
                    "metadata": {},
                    "output_type": "execute_result"
                }
            ],
            "source": [
                "p_vec(r_vec(p_vec(r_vec(p_vec(r_vec(p_vec(r_vec(r_src)))))))).flatten()[:50]"
            ]
        },
        {
            "cell_type": "code",
            "execution_count": 32,
            "metadata": {},
            "outputs": [
                {
                    "data": {
                        "text/plain": [
                            "array(0.09284756, dtype=float32)"
                        ]
                    },
                    "execution_count": 32,
                    "metadata": {},
                    "output_type": "execute_result"
                }
            ],
            "source": [
                "cp.linalg.norm(r_src-p_vec(r_vec(p_vec(r_vec(p_vec(r_vec(p_vec(r_vec(r_src)))))))))/cp.linalg.norm(r_src) #???"
            ]
        },
        {
            "cell_type": "code",
            "execution_count": 33,
            "metadata": {},
            "outputs": [],
            "source": [
                "# _mat = contract(\"escTtZzYyXx,escTtZzYyXx->scTtZzYyXx\",\n",
                "#                 testvectors, cp.conj(testvectors)).flatten()\n",
                "# print(cp.linalg.norm(_mat))\n",
                "# print(_mat[:100])"
            ]
        },
        {
            "cell_type": "markdown",
            "metadata": {},
            "source": [
                "# MultiGrid - R*matvec\\*P."
            ]
        },
        {
            "cell_type": "code",
            "execution_count": 34,
            "metadata": {},
            "outputs": [],
            "source": [
                "def _r_matvec_p(src, matvec):\n",
                "    return r_vec(matvec(p_vec(io.xxx2eTZYX(src, params))))\n",
                "\n",
                "\n",
                "def r_matvec_p(src, matvec):\n",
                "    return io.array2xxx(_r_matvec_p(src, matvec))"
            ]
        },
        {
            "cell_type": "markdown",
            "metadata": {},
            "source": [
                "# MultiGrid - verify above."
            ]
        },
        {
            "cell_type": "code",
            "execution_count": 35,
            "metadata": {},
            "outputs": [
                {
                    "name": "stdout",
                    "output_type": "stream",
                    "text": [
                        "multi-gpu wilson dslash total time: (without malloc free memcpy) :0.001956951 sec\n",
                        "multi-gpu wilson dslash total time: (without malloc free memcpy) :0.001927780 sec\n",
                        "multi-gpu wilson dslash total time: (without malloc free memcpy) :0.002077964 sec\n",
                        "multi-gpu wilson dslash total time: (without malloc free memcpy) :0.001953575 sec\n"
                    ]
                }
            ],
            "source": [
                "D_r_src = matvec(r_src)"
            ]
        },
        {
            "cell_type": "code",
            "execution_count": 36,
            "metadata": {},
            "outputs": [
                {
                    "data": {
                        "text/plain": [
                            "array([ 0.09512203-0.15065098j,  0.02459466-0.10281426j,\n",
                            "        0.14802423-0.04478627j,  0.05378214-0.09193704j,\n",
                            "       -0.08474712+0.0208632j , -0.06649091+0.06668942j,\n",
                            "       -0.03820895+0.03143284j, -0.06110204+0.1998555j ,\n",
                            "       -0.09466349-0.10954653j, -0.09903856+0.15328293j,\n",
                            "       -0.11581516+0.23665299j,  0.15433274+0.0833789j ,\n",
                            "       -0.11228501+0.18325019j,  0.07416645+0.00099519j,\n",
                            "        0.05309803-0.03660914j,  0.034646  -0.03932991j,\n",
                            "       -0.00817882-0.03089109j,  0.03485045+0.13626698j,\n",
                            "       -0.12274602-0.06901661j, -0.10658678+0.15540114j,\n",
                            "        0.09019466+0.07479304j,  0.00329622+0.01262958j,\n",
                            "       -0.2735389 +0.08964469j, -0.02719212+0.18662325j,\n",
                            "        0.07507145-0.0618236j , -0.09112616+0.10951558j,\n",
                            "        0.08583128+0.02523299j, -0.0734987 -0.1731855j ,\n",
                            "       -0.09989857+0.04082112j, -0.1259279 +0.17906842j,\n",
                            "        0.00141903+0.04172344j, -0.08249421-0.07952813j,\n",
                            "        0.06730361-0.03395787j, -0.16046013+0.01053373j,\n",
                            "       -0.04409004+0.2682615j , -0.02350282-0.24344619j,\n",
                            "       -0.07357956-0.02147017j,  0.10150713+0.04685054j,\n",
                            "        0.08939738-0.11498565j,  0.02317201-0.12492314j,\n",
                            "       -0.06684443+0.09331753j, -0.00501306+0.15283272j,\n",
                            "        0.01561616-0.00279335j,  0.06775928-0.08900752j,\n",
                            "       -0.17080909+0.06371073j,  0.06134245-0.00578983j,\n",
                            "        0.1402105 +0.04273148j, -0.11133838+0.01344034j,\n",
                            "        0.1807781 -0.10317934j, -0.01482414+0.03022685j], dtype=complex64)"
                        ]
                    },
                    "execution_count": 36,
                    "metadata": {},
                    "output_type": "execute_result"
                }
            ],
            "source": [
                "D_r_src.flatten()[:50]"
            ]
        },
        {
            "cell_type": "code",
            "execution_count": 37,
            "metadata": {},
            "outputs": [
                {
                    "name": "stdout",
                    "output_type": "stream",
                    "text": [
                        "Input Array Shape: (24, 8, 4, 4, 4)\n",
                        "Dest Shape: (24, 8, 4, 4, 4)\n",
                        "multi-gpu wilson dslash total time: (without malloc free memcpy) :0.002039823 sec\n",
                        "multi-gpu wilson dslash total time: (without malloc free memcpy) :0.001913949 sec\n",
                        "multi-gpu wilson dslash total time: (without malloc free memcpy) :0.001937063 sec\n",
                        "multi-gpu wilson dslash total time: (without malloc free memcpy) :0.001875627 sec\n"
                    ]
                }
            ],
            "source": [
                "p_r_D_p_r_dest=p_vec(_r_matvec_p(r_dest,matvec=cg_dslash))"
            ]
        },
        {
            "cell_type": "code",
            "execution_count": 38,
            "metadata": {},
            "outputs": [
                {
                    "data": {
                        "text/plain": [
                            "array([0.01284266+0.00043204j, 0.01207354+0.00220424j,\n",
                            "       0.0121465 +0.0025559j , 0.01484103+0.00671565j,\n",
                            "       0.00851426+0.0052227j , 0.00844077+0.00481056j,\n",
                            "       0.00867679+0.00409095j, 0.00811415+0.00531656j,\n",
                            "       0.00683777+0.00171679j, 0.0057756 +0.00181463j,\n",
                            "       0.00582205+0.00221079j, 0.00453556+0.00140342j,\n",
                            "       0.00929137+0.00846156j, 0.01103785+0.00450657j,\n",
                            "       0.01158802+0.00349668j, 0.0132275 +0.00333044j,\n",
                            "       0.01015243+0.00213161j, 0.00825791+0.00220426j,\n",
                            "       0.01114164+0.00498186j, 0.01093537+0.00712627j,\n",
                            "       0.00751002+0.00507913j, 0.00815575+0.00541701j,\n",
                            "       0.00889412+0.00674953j, 0.00828097+0.00466273j,\n",
                            "       0.00554528+0.00108429j, 0.00750764+0.00175549j,\n",
                            "       0.00710701+0.00027447j, 0.00992816+0.00175117j,\n",
                            "       0.01150915+0.01007911j, 0.00842286+0.00877829j,\n",
                            "       0.00990541+0.00592939j, 0.01135234+0.0060305j ,\n",
                            "       0.00789523+0.00191099j, 0.00920649+0.00426514j,\n",
                            "       0.00813269+0.00681124j, 0.0152209 +0.00934403j,\n",
                            "       0.0093232 +0.00641179j, 0.00897171+0.00561463j,\n",
                            "       0.01025988+0.00503405j, 0.01206068+0.00603514j,\n",
                            "       0.00739651+0.00101645j, 0.00761241+0.00068622j,\n",
                            "       0.00876786+0.00040486j, 0.00809938+0.00251473j,\n",
                            "       0.00910864+0.01164403j, 0.0077411 +0.00796689j,\n",
                            "       0.00878377+0.00592887j, 0.01077771+0.00696429j,\n",
                            "       0.00795493+0.00139952j, 0.00787737+0.00378944j], dtype=complex64)"
                        ]
                    },
                    "execution_count": 38,
                    "metadata": {},
                    "output_type": "execute_result"
                }
            ],
            "source": [
                "p_r_D_p_r_dest.flatten()[:50]"
            ]
        },
        {
            "cell_type": "code",
            "execution_count": 39,
            "metadata": {},
            "outputs": [
                {
                    "data": {
                        "text/plain": [
                            "array(0.9956338, dtype=float32)"
                        ]
                    },
                    "execution_count": 39,
                    "metadata": {},
                    "output_type": "execute_result"
                }
            ],
            "source": [
                "\n",
                "cp.linalg.norm(D_r_src-p_r_D_p_r_dest)/cp.linalg.norm(D_r_src)"
            ]
        },
        {
            "cell_type": "code",
            "execution_count": 40,
            "metadata": {},
            "outputs": [
                {
                    "data": {
                        "text/plain": [
                            "array([-26.228638-2.6980443j,  26.825924+2.2300706j,\n",
                            "       -27.157005-2.886311j ,  27.309052+2.1306527j,\n",
                            "        26.245262+3.1135411j,  26.968142+2.7365303j,\n",
                            "        27.338694+2.955482j ,  26.714493+2.8954268j,\n",
                            "       -26.562653-3.4426003j,  27.022251+3.223345j ,\n",
                            "        27.010738+2.8851447j,  26.904491+2.7066288j,\n",
                            "        26.563435+2.7313137j, -26.834703-2.6179743j,\n",
                            "        26.203568+2.8582335j,  26.13324 +2.7540636j,\n",
                            "       -26.757036-2.5445836j,  26.579767+2.9527426j,\n",
                            "        26.924713+2.852963j ,  26.084093+2.554791j ,\n",
                            "        26.118988+3.0851789j,  27.292454+2.5094728j,\n",
                            "        27.045673+2.9704423j,  25.87228 +2.7780027j,\n",
                            "        26.435436+3.0725877j,  26.982637+3.2305465j,\n",
                            "        26.135303+2.6885123j,  26.39829 +2.4337387j,\n",
                            "        26.226591+1.8348447j,  26.38916 +2.9997063j,\n",
                            "       -26.302986-2.5908453j, -26.14183 -1.8610659j,\n",
                            "        26.349154+3.348411j ,  26.792229+2.4964402j,\n",
                            "        26.288826+2.7947683j,  26.808006+2.8376613j,\n",
                            "        26.121277+3.1562634j,  27.091488+2.345375j ,\n",
                            "       -26.856401-1.7468529j,  26.554726+2.765019j ,\n",
                            "       -25.876747-2.7344403j,  26.149063+2.5493648j,\n",
                            "        26.642647+2.2751963j,  26.548607+2.3975246j,\n",
                            "       -26.416338-2.887288j ,  25.721813+2.6733246j,\n",
                            "       -26.019335-3.0499468j,  26.480003+2.0949492j,\n",
                            "       -26.195835-2.6230738j,  26.127144+2.5510411j], dtype=complex64)"
                        ]
                    },
                    "execution_count": 40,
                    "metadata": {},
                    "output_type": "execute_result"
                }
            ],
            "source": [
                "r_dest.flatten()[:50]"
            ]
        },
        {
            "cell_type": "code",
            "execution_count": 41,
            "metadata": {},
            "outputs": [
                {
                    "data": {
                        "text/plain": [
                            "array([1.1924026 +0.96220475j, 1.1314651 +0.9596404j ,\n",
                            "       1.0552521 +0.8234522j , 1.0549538 +0.92514884j,\n",
                            "       0.9615977 +1.0393802j , 0.95300674+1.0415285j ,\n",
                            "       0.9523357 +0.9495436j , 0.78334856+1.0426004j ,\n",
                            "       1.1427466 +1.1257019j , 0.8673905 +1.072619j  ,\n",
                            "       0.7877028 +1.033166j  , 0.81615794+0.8263445j ,\n",
                            "       0.7418158 +1.0979842j , 0.9804515 +0.89743346j,\n",
                            "       0.99102736+0.9627855j , 1.045865  +1.0467168j ,\n",
                            "       1.0703461 +1.0456425j , 0.90627563+0.97132605j,\n",
                            "       1.0373149 +1.0902432j , 0.82147443+1.0707421j ,\n",
                            "       0.86649394+0.89142334j, 0.95891976+0.98738074j,\n",
                            "       0.8901605 +1.1672864j , 0.79725903+0.9623244j ,\n",
                            "       1.0696645 +0.9613617j , 0.9215935 +1.0815051j ,\n",
                            "       0.9532187 +0.92094266j, 1.1357502 +1.0021203j ,\n",
                            "       0.85560083+1.1228731j , 0.78500533+1.1069124j ,\n",
                            "       0.92780966+0.97881925j, 1.028975  +1.0910051j ,\n",
                            "       1.0465842 +0.9475676j , 0.9770593 +1.115533j  ,\n",
                            "       0.74214095+1.0821452j , 1.2050415 +1.0633073j ,\n",
                            "       0.97504765+1.0177624j , 0.9341303 +0.87132835j,\n",
                            "       1.0975842 +0.8605079j , 1.0766596 +0.9843882j ,\n",
                            "       0.94230986+1.0638049j , 0.84934783+0.9951315j ,\n",
                            "       0.966546  +0.95614547j, 1.0401032 +0.8999749j ,\n",
                            "       0.877297  +1.1863186j , 0.9379658 +0.91466343j,\n",
                            "       0.9376174 +0.8341174j , 0.9858768 +1.1092108j ,\n",
                            "       1.0666482 +0.85321116j, 0.97982866+1.002464j  ], dtype=complex64)"
                        ]
                    },
                    "execution_count": 41,
                    "metadata": {},
                    "output_type": "execute_result"
                }
            ],
            "source": [
                "p_vec(r_dest).flatten()[:50]"
            ]
        },
        {
            "cell_type": "markdown",
            "metadata": {},
            "source": [
                "# MultiGrid - CG (BUG!!!)"
            ]
        },
        {
            "cell_type": "code",
            "execution_count": 42,
            "metadata": {},
            "outputs": [],
            "source": [
                "# b_e = fermion_in[define._EVEN_].flatten()\n",
                "# b_o = fermion_in[define._ODD_].flatten()\n",
                "# b__o = cp.zeros_like(b_o)\n",
                "# tmp = cp.zeros_like(b_o)\n",
                "# # b__o=b_o+kappa*D_oe(b_e)\n",
                "# qcu.applyWilsonDslashQcu(tmp, b_e, gauge, set_ptrs, wilson_dslash_oe_params)\n",
                "# b__o = b_o+kappa*tmp\n",
                "# # b__o -> Dslash^dag b__o\n",
                "# b__o = cg_dslash_dag(b__o)"
            ]
        },
        {
            "cell_type": "code",
            "execution_count": 43,
            "metadata": {},
            "outputs": [],
            "source": [
                "# # # Dslash(x_o)=b__o\n",
                "# # cg_solver = cg.slover(b=b__o, matvec=cg_dslash, tol=1e-10, max_iter=1000000)\n",
                "# # x_o = cg_solver.run()\n",
                "\n",
                "# # mg version\n",
                "# mg_b__o = r_vec(io.xxxtzyx2mg_xxxtzyx(io.fermion2sctzyx(b__o, params), params)).flatten()\n",
                "# cg_solver = cg.slover(b=mg_b__o, matvec=functools.partial(r_matvec_p, matvec=cg_dslash),\n",
                "#                       tol=1e-5, max_iter=1000000)\n",
                "# mg_x_o = cg_solver.run()"
            ]
        },
        {
            "cell_type": "code",
            "execution_count": 44,
            "metadata": {},
            "outputs": [],
            "source": [
                "# # x_e  =b_e+kappa*D_eo(x_o)\n",
                "# qcu.applyWilsonDslashQcu(tmp, x_o, gauge, set_ptrs, wilson_dslash_eo_params)\n",
                "# x_e = b_e+kappa*tmp\n",
                "# # give qcu_fermion_out\n",
                "# qcu_fermion_out = cp.zeros_like(quda_fermion_out)\n",
                "# qcu_fermion_out[define._EVEN_] = x_e.reshape(\n",
                "#     quda_fermion_out[define._EVEN_].shape)\n",
                "# qcu_fermion_out[define._ODD_] = x_o.reshape(\n",
                "#     quda_fermion_out[define._ODD_].shape)\n"
            ]
        },
        {
            "cell_type": "code",
            "execution_count": 45,
            "metadata": {},
            "outputs": [],
            "source": [
                "# print(np.linalg.norm(qcu_fermion_out-quda_fermion_out) / \\\n",
                "#     np.linalg.norm(quda_fermion_out))"
            ]
        },
        {
            "cell_type": "markdown",
            "metadata": {},
            "source": [
                "# MultiGrid - BISTABCG (TESTING......)"
            ]
        },
        {
            "cell_type": "code",
            "execution_count": 46,
            "metadata": {},
            "outputs": [
                {
                    "name": "stdout",
                    "output_type": "stream",
                    "text": [
                        "multi-gpu wilson dslash total time: (without malloc free memcpy) :0.001933465 sec\n"
                    ]
                }
            ],
            "source": [
                "b_e = fermion_in[define._EVEN_].flatten()\n",
                "b_o = fermion_in[define._ODD_].flatten()\n",
                "b__o = cp.zeros_like(b_o)\n",
                "tmp = cp.zeros_like(b_o)\n",
                "# b__o=b_o+kappa*D_oe(b_e)\n",
                "qcu.applyWilsonDslashQcu(tmp, b_e, gauge, set_ptrs, wilson_dslash_oe_params)\n",
                "b__o = b_o+kappa*tmp"
            ]
        },
        {
            "cell_type": "code",
            "execution_count": 47,
            "metadata": {},
            "outputs": [],
            "source": [
                "# # Dslash(x_o)=b__o\n",
                "# bistabcg_solver = bistabcg.slover(\n",
                "#     b=b__o, matvec=bistabcg_dslash, tol=1e-10, max_iter=1000000)\n",
                "# x_o = bistabcg_solver.run()\n",
                "# io.xxx2hdf5_xxx(x_o, params, 'x_o.h5')"
            ]
        },
        {
            "cell_type": "code",
            "execution_count": 48,
            "metadata": {},
            "outputs": [
                {
                    "name": "stdout",
                    "output_type": "stream",
                    "text": [
                        "Input Array Shape: (4, 3, 32, 32, 32, 16)\n",
                        "Dest Shape: (4, 3, 8, 4, 4, 8, 4, 8, 4, 4)\n",
                        "Input Array Shape: (12288,)\n",
                        "Dest Shape: (24, 8, 4, 4, 4)\n",
                        "multi-gpu wilson dslash total time: (without malloc free memcpy) :0.058587040 sec\n",
                        "multi-gpu wilson dslash total time: (without malloc free memcpy) :0.002389440 sec\n",
                        "Input Array Shape: (12288,)\n",
                        "Dest Shape: (24, 8, 4, 4, 4)\n",
                        "multi-gpu wilson dslash total time: (without malloc free memcpy) :0.044487860 sec\n",
                        "multi-gpu wilson dslash total time: (without malloc free memcpy) :0.001934443 sec\n",
                        "Input Array Shape: (12288,)\n",
                        "Dest Shape: (24, 8, 4, 4, 4)\n",
                        "multi-gpu wilson dslash total time: (without malloc free memcpy) :0.042151985 sec\n",
                        "multi-gpu wilson dslash total time: (without malloc free memcpy) :0.001876398 sec\n",
                        "Iteration 0: Residual = 4.921270e+07, Time = 0.453735 s\n",
                        "Input Array Shape: (12288,)\n",
                        "Dest Shape: (24, 8, 4, 4, 4)\n",
                        "multi-gpu wilson dslash total time: (without malloc free memcpy) :0.040916148 sec\n",
                        "multi-gpu wilson dslash total time: (without malloc free memcpy) :0.001895916 sec\n",
                        "Input Array Shape: (12288,)\n",
                        "Dest Shape: (24, 8, 4, 4, 4)\n",
                        "multi-gpu wilson dslash total time: (without malloc free memcpy) :0.044156694 sec\n",
                        "multi-gpu wilson dslash total time: (without malloc free memcpy) :0.001882937 sec\n",
                        "Iteration 1: Residual = 6.089054e+05, Time = 0.363161 s\n",
                        "Input Array Shape: (12288,)\n",
                        "Dest Shape: (24, 8, 4, 4, 4)\n",
                        "multi-gpu wilson dslash total time: (without malloc free memcpy) :0.039372028 sec\n",
                        "multi-gpu wilson dslash total time: (without malloc free memcpy) :0.001900862 sec\n",
                        "Input Array Shape: (12288,)\n",
                        "Dest Shape: (24, 8, 4, 4, 4)\n",
                        "multi-gpu wilson dslash total time: (without malloc free memcpy) :0.039403207 sec\n",
                        "multi-gpu wilson dslash total time: (without malloc free memcpy) :0.001841006 sec\n",
                        "Iteration 2: Residual = 6.397341e+04, Time = 0.332495 s\n",
                        "Input Array Shape: (12288,)\n",
                        "Dest Shape: (24, 8, 4, 4, 4)\n",
                        "multi-gpu wilson dslash total time: (without malloc free memcpy) :0.039507485 sec\n",
                        "multi-gpu wilson dslash total time: (without malloc free memcpy) :0.001853348 sec\n",
                        "Input Array Shape: (12288,)\n",
                        "Dest Shape: (24, 8, 4, 4, 4)\n",
                        "multi-gpu wilson dslash total time: (without malloc free memcpy) :0.039883672 sec\n",
                        "multi-gpu wilson dslash total time: (without malloc free memcpy) :0.001916646 sec\n",
                        "Iteration 3: Residual = 2.274427e+04, Time = 0.323239 s\n",
                        "Input Array Shape: (12288,)\n",
                        "Dest Shape: (24, 8, 4, 4, 4)\n",
                        "multi-gpu wilson dslash total time: (without malloc free memcpy) :0.039208295 sec\n",
                        "multi-gpu wilson dslash total time: (without malloc free memcpy) :0.001986165 sec\n",
                        "Input Array Shape: (12288,)\n",
                        "Dest Shape: (24, 8, 4, 4, 4)\n",
                        "multi-gpu wilson dslash total time: (without malloc free memcpy) :0.039187238 sec\n",
                        "multi-gpu wilson dslash total time: (without malloc free memcpy) :0.001840403 sec\n",
                        "Iteration 4: Residual = 1.538374e+04, Time = 0.316242 s\n",
                        "Input Array Shape: (12288,)\n",
                        "Dest Shape: (24, 8, 4, 4, 4)\n",
                        "multi-gpu wilson dslash total time: (without malloc free memcpy) :0.040088482 sec\n",
                        "multi-gpu wilson dslash total time: (without malloc free memcpy) :0.001963803 sec\n",
                        "Input Array Shape: (12288,)\n",
                        "Dest Shape: (24, 8, 4, 4, 4)\n",
                        "multi-gpu wilson dslash total time: (without malloc free memcpy) :0.053760554 sec\n",
                        "multi-gpu wilson dslash total time: (without malloc free memcpy) :0.001869001 sec\n",
                        "Iteration 5: Residual = 3.684456e+04, Time = 0.342646 s\n",
                        "Input Array Shape: (12288,)\n",
                        "Dest Shape: (24, 8, 4, 4, 4)\n",
                        "multi-gpu wilson dslash total time: (without malloc free memcpy) :0.039723561 sec\n",
                        "multi-gpu wilson dslash total time: (without malloc free memcpy) :0.001822020 sec\n",
                        "Input Array Shape: (12288,)\n",
                        "Dest Shape: (24, 8, 4, 4, 4)\n",
                        "multi-gpu wilson dslash total time: (without malloc free memcpy) :0.038996010 sec\n",
                        "multi-gpu wilson dslash total time: (without malloc free memcpy) :0.001972348 sec\n",
                        "Iteration 6: Residual = 1.297661e+04, Time = 0.345864 s\n",
                        "Input Array Shape: (12288,)\n",
                        "Dest Shape: (24, 8, 4, 4, 4)\n",
                        "multi-gpu wilson dslash total time: (without malloc free memcpy) :0.050644703 sec\n",
                        "multi-gpu wilson dslash total time: (without malloc free memcpy) :0.001848464 sec\n",
                        "Input Array Shape: (12288,)\n",
                        "Dest Shape: (24, 8, 4, 4, 4)\n",
                        "multi-gpu wilson dslash total time: (without malloc free memcpy) :0.040402426 sec\n",
                        "multi-gpu wilson dslash total time: (without malloc free memcpy) :0.001926868 sec\n",
                        "Iteration 7: Residual = 7.097354e+03, Time = 0.345019 s\n",
                        "Input Array Shape: (12288,)\n",
                        "Dest Shape: (24, 8, 4, 4, 4)\n",
                        "multi-gpu wilson dslash total time: (without malloc free memcpy) :0.042355462 sec\n",
                        "multi-gpu wilson dslash total time: (without malloc free memcpy) :0.001840996 sec\n",
                        "Input Array Shape: (12288,)\n",
                        "Dest Shape: (24, 8, 4, 4, 4)\n",
                        "multi-gpu wilson dslash total time: (without malloc free memcpy) :0.042205246 sec\n",
                        "multi-gpu wilson dslash total time: (without malloc free memcpy) :0.001799024 sec\n",
                        "Iteration 8: Residual = 3.413300e+03, Time = 0.337059 s\n",
                        "Input Array Shape: (12288,)\n",
                        "Dest Shape: (24, 8, 4, 4, 4)\n",
                        "multi-gpu wilson dslash total time: (without malloc free memcpy) :0.041631913 sec\n",
                        "multi-gpu wilson dslash total time: (without malloc free memcpy) :0.001762933 sec\n",
                        "Input Array Shape: (12288,)\n",
                        "Dest Shape: (24, 8, 4, 4, 4)\n",
                        "multi-gpu wilson dslash total time: (without malloc free memcpy) :0.041431613 sec\n",
                        "multi-gpu wilson dslash total time: (without malloc free memcpy) :0.001806538 sec\n",
                        "Iteration 9: Residual = 3.236829e+03, Time = 0.330587 s\n",
                        "Input Array Shape: (12288,)\n",
                        "Dest Shape: (24, 8, 4, 4, 4)\n",
                        "multi-gpu wilson dslash total time: (without malloc free memcpy) :0.040479550 sec\n",
                        "multi-gpu wilson dslash total time: (without malloc free memcpy) :0.001842094 sec\n",
                        "Input Array Shape: (12288,)\n",
                        "Dest Shape: (24, 8, 4, 4, 4)\n",
                        "multi-gpu wilson dslash total time: (without malloc free memcpy) :0.038893047 sec\n",
                        "multi-gpu wilson dslash total time: (without malloc free memcpy) :0.001757411 sec\n",
                        "Iteration 10: Residual = 1.468031e+03, Time = 0.332892 s\n",
                        "Input Array Shape: (12288,)\n",
                        "Dest Shape: (24, 8, 4, 4, 4)\n",
                        "multi-gpu wilson dslash total time: (without malloc free memcpy) :0.046067253 sec\n",
                        "multi-gpu wilson dslash total time: (without malloc free memcpy) :0.001777251 sec\n",
                        "Input Array Shape: (12288,)\n",
                        "Dest Shape: (24, 8, 4, 4, 4)\n",
                        "multi-gpu wilson dslash total time: (without malloc free memcpy) :0.039471513 sec\n",
                        "multi-gpu wilson dslash total time: (without malloc free memcpy) :0.001797530 sec\n",
                        "Iteration 11: Residual = 8.041010e+02, Time = 0.344632 s\n",
                        "Input Array Shape: (12288,)\n",
                        "Dest Shape: (24, 8, 4, 4, 4)\n",
                        "multi-gpu wilson dslash total time: (without malloc free memcpy) :0.041648050 sec\n",
                        "multi-gpu wilson dslash total time: (without malloc free memcpy) :0.001741012 sec\n",
                        "Input Array Shape: (12288,)\n",
                        "Dest Shape: (24, 8, 4, 4, 4)\n",
                        "multi-gpu wilson dslash total time: (without malloc free memcpy) :0.038775263 sec\n",
                        "multi-gpu wilson dslash total time: (without malloc free memcpy) :0.001914798 sec\n",
                        "Iteration 12: Residual = 5.071175e+02, Time = 0.327175 s\n",
                        "Input Array Shape: (12288,)\n",
                        "Dest Shape: (24, 8, 4, 4, 4)\n",
                        "multi-gpu wilson dslash total time: (without malloc free memcpy) :0.048263605 sec\n",
                        "multi-gpu wilson dslash total time: (without malloc free memcpy) :0.001919306 sec\n",
                        "Input Array Shape: (12288,)\n",
                        "Dest Shape: (24, 8, 4, 4, 4)\n",
                        "multi-gpu wilson dslash total time: (without malloc free memcpy) :0.043110923 sec\n",
                        "multi-gpu wilson dslash total time: (without malloc free memcpy) :0.001755721 sec\n",
                        "Iteration 13: Residual = 2.530618e+02, Time = 0.357062 s\n",
                        "Input Array Shape: (12288,)\n",
                        "Dest Shape: (24, 8, 4, 4, 4)\n",
                        "multi-gpu wilson dslash total time: (without malloc free memcpy) :0.039376156 sec\n",
                        "multi-gpu wilson dslash total time: (without malloc free memcpy) :0.001767856 sec\n",
                        "Input Array Shape: (12288,)\n",
                        "Dest Shape: (24, 8, 4, 4, 4)\n",
                        "multi-gpu wilson dslash total time: (without malloc free memcpy) :0.039349539 sec\n",
                        "multi-gpu wilson dslash total time: (without malloc free memcpy) :0.001790954 sec\n",
                        "Iteration 14: Residual = 9.553683e+02, Time = 0.325695 s\n",
                        "Input Array Shape: (12288,)\n",
                        "Dest Shape: (24, 8, 4, 4, 4)\n",
                        "multi-gpu wilson dslash total time: (without malloc free memcpy) :0.039856233 sec\n",
                        "multi-gpu wilson dslash total time: (without malloc free memcpy) :0.001843708 sec\n",
                        "Input Array Shape: (12288,)\n",
                        "Dest Shape: (24, 8, 4, 4, 4)\n",
                        "multi-gpu wilson dslash total time: (without malloc free memcpy) :0.041810827 sec\n",
                        "multi-gpu wilson dslash total time: (without malloc free memcpy) :0.001812193 sec\n",
                        "Iteration 15: Residual = 2.191220e+03, Time = 0.325556 s\n",
                        "Input Array Shape: (12288,)\n",
                        "Dest Shape: (24, 8, 4, 4, 4)\n",
                        "multi-gpu wilson dslash total time: (without malloc free memcpy) :0.040225880 sec\n",
                        "multi-gpu wilson dslash total time: (without malloc free memcpy) :0.001754180 sec\n",
                        "Input Array Shape: (12288,)\n",
                        "Dest Shape: (24, 8, 4, 4, 4)\n",
                        "multi-gpu wilson dslash total time: (without malloc free memcpy) :0.039273429 sec\n",
                        "multi-gpu wilson dslash total time: (without malloc free memcpy) :0.001861362 sec\n",
                        "Iteration 16: Residual = 1.009432e+03, Time = 0.321542 s\n",
                        "Input Array Shape: (12288,)\n",
                        "Dest Shape: (24, 8, 4, 4, 4)\n",
                        "multi-gpu wilson dslash total time: (without malloc free memcpy) :0.039223051 sec\n",
                        "multi-gpu wilson dslash total time: (without malloc free memcpy) :0.001886005 sec\n",
                        "Input Array Shape: (12288,)\n",
                        "Dest Shape: (24, 8, 4, 4, 4)\n",
                        "multi-gpu wilson dslash total time: (without malloc free memcpy) :0.042394238 sec\n",
                        "multi-gpu wilson dslash total time: (without malloc free memcpy) :0.001881482 sec\n",
                        "Iteration 17: Residual = 2.214839e+02, Time = 0.333860 s\n",
                        "Input Array Shape: (12288,)\n",
                        "Dest Shape: (24, 8, 4, 4, 4)\n",
                        "multi-gpu wilson dslash total time: (without malloc free memcpy) :0.039530015 sec\n",
                        "multi-gpu wilson dslash total time: (without malloc free memcpy) :0.001852076 sec\n",
                        "Input Array Shape: (12288,)\n",
                        "Dest Shape: (24, 8, 4, 4, 4)\n",
                        "multi-gpu wilson dslash total time: (without malloc free memcpy) :0.045391021 sec\n",
                        "multi-gpu wilson dslash total time: (without malloc free memcpy) :0.001803840 sec\n",
                        "Iteration 18: Residual = 3.904814e+02, Time = 0.329499 s\n",
                        "Input Array Shape: (12288,)\n",
                        "Dest Shape: (24, 8, 4, 4, 4)\n",
                        "multi-gpu wilson dslash total time: (without malloc free memcpy) :0.044945709 sec\n",
                        "multi-gpu wilson dslash total time: (without malloc free memcpy) :0.001803242 sec\n",
                        "Input Array Shape: (12288,)\n",
                        "Dest Shape: (24, 8, 4, 4, 4)\n",
                        "multi-gpu wilson dslash total time: (without malloc free memcpy) :0.038703459 sec\n",
                        "multi-gpu wilson dslash total time: (without malloc free memcpy) :0.001802683 sec\n",
                        "Iteration 19: Residual = 2.406515e+02, Time = 0.329805 s\n",
                        "Input Array Shape: (12288,)\n",
                        "Dest Shape: (24, 8, 4, 4, 4)\n",
                        "multi-gpu wilson dslash total time: (without malloc free memcpy) :0.039562847 sec\n",
                        "multi-gpu wilson dslash total time: (without malloc free memcpy) :0.001881664 sec\n",
                        "Input Array Shape: (12288,)\n",
                        "Dest Shape: (24, 8, 4, 4, 4)\n",
                        "multi-gpu wilson dslash total time: (without malloc free memcpy) :0.040775545 sec\n",
                        "multi-gpu wilson dslash total time: (without malloc free memcpy) :0.001760257 sec\n",
                        "Iteration 20: Residual = 3.977980e+01, Time = 0.325928 s\n",
                        "Input Array Shape: (12288,)\n",
                        "Dest Shape: (24, 8, 4, 4, 4)\n",
                        "multi-gpu wilson dslash total time: (without malloc free memcpy) :0.041910827 sec\n",
                        "multi-gpu wilson dslash total time: (without malloc free memcpy) :0.001772284 sec\n",
                        "Input Array Shape: (12288,)\n",
                        "Dest Shape: (24, 8, 4, 4, 4)\n",
                        "multi-gpu wilson dslash total time: (without malloc free memcpy) :0.040234182 sec\n",
                        "multi-gpu wilson dslash total time: (without malloc free memcpy) :0.001748025 sec\n",
                        "Iteration 21: Residual = 1.862044e+01, Time = 0.325802 s\n",
                        "Input Array Shape: (12288,)\n",
                        "Dest Shape: (24, 8, 4, 4, 4)\n",
                        "multi-gpu wilson dslash total time: (without malloc free memcpy) :0.038836648 sec\n",
                        "multi-gpu wilson dslash total time: (without malloc free memcpy) :0.001817002 sec\n",
                        "Input Array Shape: (12288,)\n",
                        "Dest Shape: (24, 8, 4, 4, 4)\n",
                        "multi-gpu wilson dslash total time: (without malloc free memcpy) :0.038733091 sec\n",
                        "multi-gpu wilson dslash total time: (without malloc free memcpy) :0.001782514 sec\n",
                        "Iteration 22: Residual = 1.429504e+01, Time = 0.323156 s\n",
                        "Input Array Shape: (12288,)\n",
                        "Dest Shape: (24, 8, 4, 4, 4)\n",
                        "multi-gpu wilson dslash total time: (without malloc free memcpy) :0.039442969 sec\n",
                        "multi-gpu wilson dslash total time: (without malloc free memcpy) :0.001800364 sec\n",
                        "Input Array Shape: (12288,)\n",
                        "Dest Shape: (24, 8, 4, 4, 4)\n",
                        "multi-gpu wilson dslash total time: (without malloc free memcpy) :0.040667934 sec\n",
                        "multi-gpu wilson dslash total time: (without malloc free memcpy) :0.001936243 sec\n",
                        "Iteration 23: Residual = 1.065326e+01, Time = 0.318608 s\n",
                        "Input Array Shape: (12288,)\n",
                        "Dest Shape: (24, 8, 4, 4, 4)\n",
                        "multi-gpu wilson dslash total time: (without malloc free memcpy) :0.038637142 sec\n",
                        "multi-gpu wilson dslash total time: (without malloc free memcpy) :0.001854741 sec\n",
                        "Input Array Shape: (12288,)\n",
                        "Dest Shape: (24, 8, 4, 4, 4)\n",
                        "multi-gpu wilson dslash total time: (without malloc free memcpy) :0.041729958 sec\n",
                        "multi-gpu wilson dslash total time: (without malloc free memcpy) :0.001809398 sec\n",
                        "Iteration 24: Residual = 1.588999e+01, Time = 0.320711 s\n",
                        "Input Array Shape: (12288,)\n",
                        "Dest Shape: (24, 8, 4, 4, 4)\n",
                        "multi-gpu wilson dslash total time: (without malloc free memcpy) :0.039503924 sec\n",
                        "multi-gpu wilson dslash total time: (without malloc free memcpy) :0.001756738 sec\n",
                        "Input Array Shape: (12288,)\n",
                        "Dest Shape: (24, 8, 4, 4, 4)\n",
                        "multi-gpu wilson dslash total time: (without malloc free memcpy) :0.039127544 sec\n",
                        "multi-gpu wilson dslash total time: (without malloc free memcpy) :0.001791715 sec\n",
                        "Iteration 25: Residual = 7.691103e+00, Time = 0.315892 s\n",
                        "Input Array Shape: (12288,)\n",
                        "Dest Shape: (24, 8, 4, 4, 4)\n",
                        "multi-gpu wilson dslash total time: (without malloc free memcpy) :0.038362088 sec\n",
                        "multi-gpu wilson dslash total time: (without malloc free memcpy) :0.001849831 sec\n",
                        "Input Array Shape: (12288,)\n",
                        "Dest Shape: (24, 8, 4, 4, 4)\n",
                        "multi-gpu wilson dslash total time: (without malloc free memcpy) :0.040490416 sec\n",
                        "multi-gpu wilson dslash total time: (without malloc free memcpy) :0.001759791 sec\n",
                        "Iteration 26: Residual = 6.019528e+00, Time = 0.324856 s\n",
                        "Input Array Shape: (12288,)\n",
                        "Dest Shape: (24, 8, 4, 4, 4)\n",
                        "multi-gpu wilson dslash total time: (without malloc free memcpy) :0.038714258 sec\n",
                        "multi-gpu wilson dslash total time: (without malloc free memcpy) :0.001784957 sec\n",
                        "Input Array Shape: (12288,)\n",
                        "Dest Shape: (24, 8, 4, 4, 4)\n",
                        "multi-gpu wilson dslash total time: (without malloc free memcpy) :0.040805429 sec\n",
                        "multi-gpu wilson dslash total time: (without malloc free memcpy) :0.001793716 sec\n",
                        "Iteration 27: Residual = 4.006620e+00, Time = 0.320388 s\n",
                        "Input Array Shape: (12288,)\n",
                        "Dest Shape: (24, 8, 4, 4, 4)\n",
                        "multi-gpu wilson dslash total time: (without malloc free memcpy) :0.038523906 sec\n",
                        "multi-gpu wilson dslash total time: (without malloc free memcpy) :0.001823550 sec\n",
                        "Input Array Shape: (12288,)\n",
                        "Dest Shape: (24, 8, 4, 4, 4)\n",
                        "multi-gpu wilson dslash total time: (without malloc free memcpy) :0.038810070 sec\n",
                        "multi-gpu wilson dslash total time: (without malloc free memcpy) :0.001860027 sec\n",
                        "Iteration 28: Residual = 3.776139e+00, Time = 0.321509 s\n",
                        "Input Array Shape: (12288,)\n",
                        "Dest Shape: (24, 8, 4, 4, 4)\n",
                        "multi-gpu wilson dslash total time: (without malloc free memcpy) :0.039781157 sec\n",
                        "multi-gpu wilson dslash total time: (without malloc free memcpy) :0.001801052 sec\n",
                        "Input Array Shape: (12288,)\n",
                        "Dest Shape: (24, 8, 4, 4, 4)\n",
                        "multi-gpu wilson dslash total time: (without malloc free memcpy) :0.047213855 sec\n",
                        "multi-gpu wilson dslash total time: (without malloc free memcpy) :0.001784485 sec\n",
                        "Iteration 29: Residual = 2.348289e+00, Time = 0.340144 s\n",
                        "Input Array Shape: (12288,)\n",
                        "Dest Shape: (24, 8, 4, 4, 4)\n",
                        "multi-gpu wilson dslash total time: (without malloc free memcpy) :0.042625196 sec\n",
                        "multi-gpu wilson dslash total time: (without malloc free memcpy) :0.001763777 sec\n",
                        "Input Array Shape: (12288,)\n",
                        "Dest Shape: (24, 8, 4, 4, 4)\n",
                        "multi-gpu wilson dslash total time: (without malloc free memcpy) :0.041399573 sec\n",
                        "multi-gpu wilson dslash total time: (without malloc free memcpy) :0.001806482 sec\n",
                        "Iteration 30: Residual = 5.331480e+01, Time = 0.327500 s\n",
                        "Input Array Shape: (12288,)\n",
                        "Dest Shape: (24, 8, 4, 4, 4)\n",
                        "multi-gpu wilson dslash total time: (without malloc free memcpy) :0.041132552 sec\n",
                        "multi-gpu wilson dslash total time: (without malloc free memcpy) :0.001913034 sec\n",
                        "Input Array Shape: (12288,)\n",
                        "Dest Shape: (24, 8, 4, 4, 4)\n",
                        "multi-gpu wilson dslash total time: (without malloc free memcpy) :0.039208072 sec\n",
                        "multi-gpu wilson dslash total time: (without malloc free memcpy) :0.001777846 sec\n",
                        "Iteration 31: Residual = 1.228470e+00, Time = 0.330161 s\n",
                        "Input Array Shape: (12288,)\n",
                        "Dest Shape: (24, 8, 4, 4, 4)\n",
                        "multi-gpu wilson dslash total time: (without malloc free memcpy) :0.042062978 sec\n",
                        "multi-gpu wilson dslash total time: (without malloc free memcpy) :0.001740125 sec\n",
                        "Input Array Shape: (12288,)\n",
                        "Dest Shape: (24, 8, 4, 4, 4)\n",
                        "multi-gpu wilson dslash total time: (without malloc free memcpy) :0.038827026 sec\n",
                        "multi-gpu wilson dslash total time: (without malloc free memcpy) :0.001758109 sec\n",
                        "Iteration 32: Residual = 1.286015e+00, Time = 0.325736 s\n",
                        "Input Array Shape: (12288,)\n",
                        "Dest Shape: (24, 8, 4, 4, 4)\n",
                        "multi-gpu wilson dslash total time: (without malloc free memcpy) :0.039033301 sec\n",
                        "multi-gpu wilson dslash total time: (without malloc free memcpy) :0.001959650 sec\n",
                        "Input Array Shape: (12288,)\n",
                        "Dest Shape: (24, 8, 4, 4, 4)\n",
                        "multi-gpu wilson dslash total time: (without malloc free memcpy) :0.039282929 sec\n",
                        "multi-gpu wilson dslash total time: (without malloc free memcpy) :0.001813400 sec\n",
                        "Iteration 33: Residual = 2.725654e+00, Time = 0.320086 s\n",
                        "Input Array Shape: (12288,)\n",
                        "Dest Shape: (24, 8, 4, 4, 4)\n",
                        "multi-gpu wilson dslash total time: (without malloc free memcpy) :0.039671349 sec\n",
                        "multi-gpu wilson dslash total time: (without malloc free memcpy) :0.001771706 sec\n",
                        "Input Array Shape: (12288,)\n",
                        "Dest Shape: (24, 8, 4, 4, 4)\n",
                        "multi-gpu wilson dslash total time: (without malloc free memcpy) :0.040652291 sec\n",
                        "multi-gpu wilson dslash total time: (without malloc free memcpy) :0.001874011 sec\n",
                        "Iteration 34: Residual = 1.110634e+00, Time = 0.318561 s\n",
                        "Input Array Shape: (12288,)\n",
                        "Dest Shape: (24, 8, 4, 4, 4)\n",
                        "multi-gpu wilson dslash total time: (without malloc free memcpy) :0.039583624 sec\n",
                        "multi-gpu wilson dslash total time: (without malloc free memcpy) :0.001758080 sec\n",
                        "Input Array Shape: (12288,)\n",
                        "Dest Shape: (24, 8, 4, 4, 4)\n",
                        "multi-gpu wilson dslash total time: (without malloc free memcpy) :0.039570394 sec\n",
                        "multi-gpu wilson dslash total time: (without malloc free memcpy) :0.001826325 sec\n",
                        "Iteration 35: Residual = 1.028013e+00, Time = 0.319054 s\n",
                        "Input Array Shape: (12288,)\n",
                        "Dest Shape: (24, 8, 4, 4, 4)\n",
                        "multi-gpu wilson dslash total time: (without malloc free memcpy) :0.040052370 sec\n",
                        "multi-gpu wilson dslash total time: (without malloc free memcpy) :0.001754906 sec\n",
                        "Input Array Shape: (12288,)\n",
                        "Dest Shape: (24, 8, 4, 4, 4)\n",
                        "multi-gpu wilson dslash total time: (without malloc free memcpy) :0.039283323 sec\n",
                        "multi-gpu wilson dslash total time: (without malloc free memcpy) :0.001830285 sec\n",
                        "Iteration 36: Residual = 2.008514e+00, Time = 0.317586 s\n",
                        "Input Array Shape: (12288,)\n",
                        "Dest Shape: (24, 8, 4, 4, 4)\n",
                        "multi-gpu wilson dslash total time: (without malloc free memcpy) :0.040262630 sec\n",
                        "multi-gpu wilson dslash total time: (without malloc free memcpy) :0.001797076 sec\n",
                        "Input Array Shape: (12288,)\n",
                        "Dest Shape: (24, 8, 4, 4, 4)\n",
                        "multi-gpu wilson dslash total time: (without malloc free memcpy) :0.038388796 sec\n",
                        "multi-gpu wilson dslash total time: (without malloc free memcpy) :0.001862251 sec\n",
                        "Iteration 37: Residual = 1.261088e+00, Time = 0.318402 s\n",
                        "Input Array Shape: (12288,)\n",
                        "Dest Shape: (24, 8, 4, 4, 4)\n",
                        "multi-gpu wilson dslash total time: (without malloc free memcpy) :0.039094142 sec\n",
                        "multi-gpu wilson dslash total time: (without malloc free memcpy) :0.001789705 sec\n",
                        "Input Array Shape: (12288,)\n",
                        "Dest Shape: (24, 8, 4, 4, 4)\n",
                        "multi-gpu wilson dslash total time: (without malloc free memcpy) :0.040941391 sec\n",
                        "multi-gpu wilson dslash total time: (without malloc free memcpy) :0.001780202 sec\n",
                        "Iteration 38: Residual = 8.795019e-02, Time = 0.319089 s\n",
                        "Input Array Shape: (12288,)\n",
                        "Dest Shape: (24, 8, 4, 4, 4)\n",
                        "multi-gpu wilson dslash total time: (without malloc free memcpy) :0.038761945 sec\n",
                        "multi-gpu wilson dslash total time: (without malloc free memcpy) :0.001783203 sec\n",
                        "Input Array Shape: (12288,)\n",
                        "Dest Shape: (24, 8, 4, 4, 4)\n",
                        "multi-gpu wilson dslash total time: (without malloc free memcpy) :0.041141981 sec\n",
                        "multi-gpu wilson dslash total time: (without malloc free memcpy) :0.001796682 sec\n",
                        "Iteration 39: Residual = 1.111000e-02, Time = 0.321537 s\n",
                        "Input Array Shape: (12288,)\n",
                        "Dest Shape: (24, 8, 4, 4, 4)\n",
                        "multi-gpu wilson dslash total time: (without malloc free memcpy) :0.039464222 sec\n",
                        "multi-gpu wilson dslash total time: (without malloc free memcpy) :0.001799692 sec\n",
                        "Input Array Shape: (12288,)\n",
                        "Dest Shape: (24, 8, 4, 4, 4)\n",
                        "multi-gpu wilson dslash total time: (without malloc free memcpy) :0.039382412 sec\n",
                        "multi-gpu wilson dslash total time: (without malloc free memcpy) :0.001824148 sec\n",
                        "Iteration 40: Residual = 6.375885e-03, Time = 0.342386 s\n",
                        "Input Array Shape: (12288,)\n",
                        "Dest Shape: (24, 8, 4, 4, 4)\n",
                        "multi-gpu wilson dslash total time: (without malloc free memcpy) :0.040506985 sec\n",
                        "multi-gpu wilson dslash total time: (without malloc free memcpy) :0.001782811 sec\n",
                        "Input Array Shape: (12288,)\n",
                        "Dest Shape: (24, 8, 4, 4, 4)\n",
                        "multi-gpu wilson dslash total time: (without malloc free memcpy) :0.040612238 sec\n",
                        "multi-gpu wilson dslash total time: (without malloc free memcpy) :0.001749609 sec\n",
                        "Iteration 41: Residual = 2.687341e-03, Time = 0.330964 s\n",
                        "Input Array Shape: (12288,)\n",
                        "Dest Shape: (24, 8, 4, 4, 4)\n",
                        "multi-gpu wilson dslash total time: (without malloc free memcpy) :0.050246452 sec\n",
                        "multi-gpu wilson dslash total time: (without malloc free memcpy) :0.001786719 sec\n",
                        "Input Array Shape: (12288,)\n",
                        "Dest Shape: (24, 8, 4, 4, 4)\n",
                        "multi-gpu wilson dslash total time: (without malloc free memcpy) :0.040765089 sec\n",
                        "multi-gpu wilson dslash total time: (without malloc free memcpy) :0.001806206 sec\n",
                        "Iteration 42: Residual = 3.224923e-03, Time = 0.351752 s\n",
                        "Input Array Shape: (12288,)\n",
                        "Dest Shape: (24, 8, 4, 4, 4)\n",
                        "multi-gpu wilson dslash total time: (without malloc free memcpy) :0.039764114 sec\n",
                        "multi-gpu wilson dslash total time: (without malloc free memcpy) :0.001743592 sec\n",
                        "Input Array Shape: (12288,)\n",
                        "Dest Shape: (24, 8, 4, 4, 4)\n",
                        "multi-gpu wilson dslash total time: (without malloc free memcpy) :0.044763457 sec\n",
                        "multi-gpu wilson dslash total time: (without malloc free memcpy) :0.001808921 sec\n",
                        "Iteration 43: Residual = 1.350506e-03, Time = 0.326946 s\n",
                        "Input Array Shape: (12288,)\n",
                        "Dest Shape: (24, 8, 4, 4, 4)\n",
                        "multi-gpu wilson dslash total time: (without malloc free memcpy) :0.038730019 sec\n",
                        "multi-gpu wilson dslash total time: (without malloc free memcpy) :0.001782522 sec\n",
                        "Input Array Shape: (12288,)\n",
                        "Dest Shape: (24, 8, 4, 4, 4)\n",
                        "multi-gpu wilson dslash total time: (without malloc free memcpy) :0.038735054 sec\n",
                        "multi-gpu wilson dslash total time: (without malloc free memcpy) :0.001755151 sec\n",
                        "Iteration 44: Residual = 9.038500e-04, Time = 0.324046 s\n",
                        "Input Array Shape: (12288,)\n",
                        "Dest Shape: (24, 8, 4, 4, 4)\n",
                        "multi-gpu wilson dslash total time: (without malloc free memcpy) :0.039403947 sec\n",
                        "multi-gpu wilson dslash total time: (without malloc free memcpy) :0.001748900 sec\n",
                        "Input Array Shape: (12288,)\n",
                        "Dest Shape: (24, 8, 4, 4, 4)\n",
                        "multi-gpu wilson dslash total time: (without malloc free memcpy) :0.041372782 sec\n",
                        "multi-gpu wilson dslash total time: (without malloc free memcpy) :0.001786065 sec\n",
                        "Iteration 45: Residual = 7.713452e-04, Time = 0.320224 s\n",
                        "Input Array Shape: (12288,)\n",
                        "Dest Shape: (24, 8, 4, 4, 4)\n",
                        "multi-gpu wilson dslash total time: (without malloc free memcpy) :0.039235769 sec\n",
                        "multi-gpu wilson dslash total time: (without malloc free memcpy) :0.001903582 sec\n",
                        "Input Array Shape: (12288,)\n",
                        "Dest Shape: (24, 8, 4, 4, 4)\n",
                        "multi-gpu wilson dslash total time: (without malloc free memcpy) :0.039806427 sec\n",
                        "multi-gpu wilson dslash total time: (without malloc free memcpy) :0.001768502 sec\n",
                        "Iteration 46: Residual = 6.652943e-04, Time = 0.322152 s\n",
                        "Input Array Shape: (12288,)\n",
                        "Dest Shape: (24, 8, 4, 4, 4)\n",
                        "multi-gpu wilson dslash total time: (without malloc free memcpy) :0.046592044 sec\n",
                        "multi-gpu wilson dslash total time: (without malloc free memcpy) :0.001854986 sec\n",
                        "Input Array Shape: (12288,)\n",
                        "Dest Shape: (24, 8, 4, 4, 4)\n",
                        "multi-gpu wilson dslash total time: (without malloc free memcpy) :0.041119582 sec\n",
                        "multi-gpu wilson dslash total time: (without malloc free memcpy) :0.002034981 sec\n",
                        "Iteration 47: Residual = 5.456539e-02, Time = 0.346806 s\n",
                        "Input Array Shape: (12288,)\n",
                        "Dest Shape: (24, 8, 4, 4, 4)\n",
                        "multi-gpu wilson dslash total time: (without malloc free memcpy) :0.040430646 sec\n",
                        "multi-gpu wilson dslash total time: (without malloc free memcpy) :0.001824456 sec\n",
                        "Input Array Shape: (12288,)\n",
                        "Dest Shape: (24, 8, 4, 4, 4)\n",
                        "multi-gpu wilson dslash total time: (without malloc free memcpy) :0.038900398 sec\n",
                        "multi-gpu wilson dslash total time: (without malloc free memcpy) :0.001768947 sec\n",
                        "Iteration 48: Residual = 2.916538e-05, Time = 0.322436 s\n",
                        "Input Array Shape: (12288,)\n",
                        "Dest Shape: (24, 8, 4, 4, 4)\n",
                        "multi-gpu wilson dslash total time: (without malloc free memcpy) :0.038760612 sec\n",
                        "multi-gpu wilson dslash total time: (without malloc free memcpy) :0.001746625 sec\n",
                        "Input Array Shape: (12288,)\n",
                        "Dest Shape: (24, 8, 4, 4, 4)\n",
                        "multi-gpu wilson dslash total time: (without malloc free memcpy) :0.039027783 sec\n",
                        "multi-gpu wilson dslash total time: (without malloc free memcpy) :0.001814623 sec\n",
                        "Iteration 49: Residual = 2.955294e-05, Time = 0.316961 s\n",
                        "Input Array Shape: (12288,)\n",
                        "Dest Shape: (24, 8, 4, 4, 4)\n",
                        "multi-gpu wilson dslash total time: (without malloc free memcpy) :0.038639718 sec\n",
                        "multi-gpu wilson dslash total time: (without malloc free memcpy) :0.001789789 sec\n",
                        "Input Array Shape: (12288,)\n",
                        "Dest Shape: (24, 8, 4, 4, 4)\n",
                        "multi-gpu wilson dslash total time: (without malloc free memcpy) :0.039375517 sec\n",
                        "multi-gpu wilson dslash total time: (without malloc free memcpy) :0.001790792 sec\n",
                        "Iteration 50: Residual = 2.032532e-05, Time = 0.318800 s\n",
                        "Input Array Shape: (12288,)\n",
                        "Dest Shape: (24, 8, 4, 4, 4)\n",
                        "multi-gpu wilson dslash total time: (without malloc free memcpy) :0.041128045 sec\n",
                        "multi-gpu wilson dslash total time: (without malloc free memcpy) :0.001812183 sec\n",
                        "Input Array Shape: (12288,)\n",
                        "Dest Shape: (24, 8, 4, 4, 4)\n",
                        "multi-gpu wilson dslash total time: (without malloc free memcpy) :0.039573239 sec\n",
                        "multi-gpu wilson dslash total time: (without malloc free memcpy) :0.001846642 sec\n",
                        "Iteration 51: Residual = 9.678493e-06, Time = 0.329321 s\n",
                        "Input Array Shape: (12288,)\n",
                        "Dest Shape: (24, 8, 4, 4, 4)\n",
                        "multi-gpu wilson dslash total time: (without malloc free memcpy) :0.040779075 sec\n",
                        "multi-gpu wilson dslash total time: (without malloc free memcpy) :0.001776799 sec\n",
                        "Input Array Shape: (12288,)\n",
                        "Dest Shape: (24, 8, 4, 4, 4)\n",
                        "multi-gpu wilson dslash total time: (without malloc free memcpy) :0.041909941 sec\n",
                        "multi-gpu wilson dslash total time: (without malloc free memcpy) :0.001803041 sec\n",
                        "Iteration 52: Residual = 9.574033e-06, Time = 0.325207 s\n",
                        "Input Array Shape: (12288,)\n",
                        "Dest Shape: (24, 8, 4, 4, 4)\n",
                        "multi-gpu wilson dslash total time: (without malloc free memcpy) :0.039891243 sec\n",
                        "multi-gpu wilson dslash total time: (without malloc free memcpy) :0.001829849 sec\n",
                        "Input Array Shape: (12288,)\n",
                        "Dest Shape: (24, 8, 4, 4, 4)\n",
                        "multi-gpu wilson dslash total time: (without malloc free memcpy) :0.039843480 sec\n",
                        "multi-gpu wilson dslash total time: (without malloc free memcpy) :0.001744801 sec\n",
                        "Iteration 53: Residual = 3.096668e-06, Time = 0.321262 s\n",
                        "Input Array Shape: (12288,)\n",
                        "Dest Shape: (24, 8, 4, 4, 4)\n",
                        "multi-gpu wilson dslash total time: (without malloc free memcpy) :0.041279310 sec\n",
                        "multi-gpu wilson dslash total time: (without malloc free memcpy) :0.001837644 sec\n",
                        "Input Array Shape: (12288,)\n",
                        "Dest Shape: (24, 8, 4, 4, 4)\n",
                        "multi-gpu wilson dslash total time: (without malloc free memcpy) :0.038702668 sec\n",
                        "multi-gpu wilson dslash total time: (without malloc free memcpy) :0.001835032 sec\n",
                        "Iteration 54: Residual = 5.303755e-06, Time = 0.320293 s\n",
                        "Input Array Shape: (12288,)\n",
                        "Dest Shape: (24, 8, 4, 4, 4)\n",
                        "multi-gpu wilson dslash total time: (without malloc free memcpy) :0.043622334 sec\n",
                        "multi-gpu wilson dslash total time: (without malloc free memcpy) :0.001810634 sec\n",
                        "Input Array Shape: (12288,)\n",
                        "Dest Shape: (24, 8, 4, 4, 4)\n",
                        "multi-gpu wilson dslash total time: (without malloc free memcpy) :0.040443436 sec\n",
                        "multi-gpu wilson dslash total time: (without malloc free memcpy) :0.001875714 sec\n",
                        "Iteration 55: Residual = 1.288165e-06, Time = 0.336427 s\n",
                        "Input Array Shape: (12288,)\n",
                        "Dest Shape: (24, 8, 4, 4, 4)\n",
                        "multi-gpu wilson dslash total time: (without malloc free memcpy) :0.041586800 sec\n",
                        "multi-gpu wilson dslash total time: (without malloc free memcpy) :0.001781271 sec\n",
                        "Input Array Shape: (12288,)\n",
                        "Dest Shape: (24, 8, 4, 4, 4)\n",
                        "multi-gpu wilson dslash total time: (without malloc free memcpy) :0.039911671 sec\n",
                        "multi-gpu wilson dslash total time: (without malloc free memcpy) :0.001849210 sec\n",
                        "Iteration 56: Residual = 9.862880e-07, Time = 0.328026 s\n",
                        "Input Array Shape: (12288,)\n",
                        "Dest Shape: (24, 8, 4, 4, 4)\n",
                        "multi-gpu wilson dslash total time: (without malloc free memcpy) :0.039511399 sec\n",
                        "multi-gpu wilson dslash total time: (without malloc free memcpy) :0.001775946 sec\n",
                        "Input Array Shape: (12288,)\n",
                        "Dest Shape: (24, 8, 4, 4, 4)\n",
                        "multi-gpu wilson dslash total time: (without malloc free memcpy) :0.043444168 sec\n",
                        "multi-gpu wilson dslash total time: (without malloc free memcpy) :0.001797351 sec\n",
                        "Iteration 57: Residual = 2.524828e-06, Time = 0.329147 s\n",
                        "Input Array Shape: (12288,)\n",
                        "Dest Shape: (24, 8, 4, 4, 4)\n",
                        "multi-gpu wilson dslash total time: (without malloc free memcpy) :0.040028844 sec\n",
                        "multi-gpu wilson dslash total time: (without malloc free memcpy) :0.001830348 sec\n",
                        "Input Array Shape: (12288,)\n",
                        "Dest Shape: (24, 8, 4, 4, 4)\n",
                        "multi-gpu wilson dslash total time: (without malloc free memcpy) :0.039908508 sec\n",
                        "multi-gpu wilson dslash total time: (without malloc free memcpy) :0.001739020 sec\n",
                        "Iteration 58: Residual = 3.309168e-06, Time = 0.324418 s\n",
                        "Input Array Shape: (12288,)\n",
                        "Dest Shape: (24, 8, 4, 4, 4)\n",
                        "multi-gpu wilson dslash total time: (without malloc free memcpy) :0.039593168 sec\n",
                        "multi-gpu wilson dslash total time: (without malloc free memcpy) :0.001846284 sec\n",
                        "Input Array Shape: (12288,)\n",
                        "Dest Shape: (24, 8, 4, 4, 4)\n",
                        "multi-gpu wilson dslash total time: (without malloc free memcpy) :0.040673295 sec\n",
                        "multi-gpu wilson dslash total time: (without malloc free memcpy) :0.001791377 sec\n",
                        "Iteration 59: Residual = 2.586810e-07, Time = 0.330485 s\n",
                        "Input Array Shape: (12288,)\n",
                        "Dest Shape: (24, 8, 4, 4, 4)\n",
                        "multi-gpu wilson dslash total time: (without malloc free memcpy) :0.039681599 sec\n",
                        "multi-gpu wilson dslash total time: (without malloc free memcpy) :0.001909774 sec\n",
                        "Input Array Shape: (12288,)\n",
                        "Dest Shape: (24, 8, 4, 4, 4)\n",
                        "multi-gpu wilson dslash total time: (without malloc free memcpy) :0.040050891 sec\n",
                        "multi-gpu wilson dslash total time: (without malloc free memcpy) :0.001752245 sec\n",
                        "Iteration 60: Residual = 4.824257e-07, Time = 0.327137 s\n",
                        "Input Array Shape: (12288,)\n",
                        "Dest Shape: (24, 8, 4, 4, 4)\n",
                        "multi-gpu wilson dslash total time: (without malloc free memcpy) :0.039003304 sec\n",
                        "multi-gpu wilson dslash total time: (without malloc free memcpy) :0.001741203 sec\n",
                        "Input Array Shape: (12288,)\n",
                        "Dest Shape: (24, 8, 4, 4, 4)\n",
                        "multi-gpu wilson dslash total time: (without malloc free memcpy) :0.040423065 sec\n",
                        "multi-gpu wilson dslash total time: (without malloc free memcpy) :0.001763442 sec\n",
                        "Iteration 61: Residual = 1.141839e-07, Time = 0.321395 s\n",
                        "Input Array Shape: (12288,)\n",
                        "Dest Shape: (24, 8, 4, 4, 4)\n",
                        "multi-gpu wilson dslash total time: (without malloc free memcpy) :0.038788562 sec\n",
                        "multi-gpu wilson dslash total time: (without malloc free memcpy) :0.001740130 sec\n",
                        "Input Array Shape: (12288,)\n",
                        "Dest Shape: (24, 8, 4, 4, 4)\n",
                        "multi-gpu wilson dslash total time: (without malloc free memcpy) :0.039556879 sec\n",
                        "multi-gpu wilson dslash total time: (without malloc free memcpy) :0.001797674 sec\n",
                        "Iteration 62: Residual = 1.115007e-07, Time = 0.321812 s\n",
                        "Input Array Shape: (12288,)\n",
                        "Dest Shape: (24, 8, 4, 4, 4)\n",
                        "multi-gpu wilson dslash total time: (without malloc free memcpy) :0.040394951 sec\n",
                        "multi-gpu wilson dslash total time: (without malloc free memcpy) :0.001760228 sec\n",
                        "Input Array Shape: (12288,)\n",
                        "Dest Shape: (24, 8, 4, 4, 4)\n",
                        "multi-gpu wilson dslash total time: (without malloc free memcpy) :0.039157738 sec\n",
                        "multi-gpu wilson dslash total time: (without malloc free memcpy) :0.001758210 sec\n",
                        "Iteration 63: Residual = 7.811186e-08, Time = 0.328253 s\n",
                        "Input Array Shape: (12288,)\n",
                        "Dest Shape: (24, 8, 4, 4, 4)\n",
                        "multi-gpu wilson dslash total time: (without malloc free memcpy) :0.039211141 sec\n",
                        "multi-gpu wilson dslash total time: (without malloc free memcpy) :0.001775552 sec\n",
                        "Input Array Shape: (12288,)\n",
                        "Dest Shape: (24, 8, 4, 4, 4)\n",
                        "multi-gpu wilson dslash total time: (without malloc free memcpy) :0.040629706 sec\n",
                        "multi-gpu wilson dslash total time: (without malloc free memcpy) :0.001863226 sec\n",
                        "Iteration 64: Residual = 2.281659e-08, Time = 0.320417 s\n",
                        "Input Array Shape: (12288,)\n",
                        "Dest Shape: (24, 8, 4, 4, 4)\n",
                        "multi-gpu wilson dslash total time: (without malloc free memcpy) :0.038796127 sec\n",
                        "multi-gpu wilson dslash total time: (without malloc free memcpy) :0.001879514 sec\n",
                        "Input Array Shape: (12288,)\n",
                        "Dest Shape: (24, 8, 4, 4, 4)\n",
                        "multi-gpu wilson dslash total time: (without malloc free memcpy) :0.039076786 sec\n",
                        "multi-gpu wilson dslash total time: (without malloc free memcpy) :0.001963045 sec\n",
                        "Iteration 65: Residual = 2.265855e-08, Time = 0.324202 s\n",
                        "Input Array Shape: (12288,)\n",
                        "Dest Shape: (24, 8, 4, 4, 4)\n",
                        "multi-gpu wilson dslash total time: (without malloc free memcpy) :0.040662800 sec\n",
                        "multi-gpu wilson dslash total time: (without malloc free memcpy) :0.001820606 sec\n",
                        "Input Array Shape: (12288,)\n",
                        "Dest Shape: (24, 8, 4, 4, 4)\n",
                        "multi-gpu wilson dslash total time: (without malloc free memcpy) :0.039291251 sec\n",
                        "multi-gpu wilson dslash total time: (without malloc free memcpy) :0.001811125 sec\n",
                        "Iteration 66: Residual = 3.290488e-09, Time = 0.318818 s\n",
                        "Input Array Shape: (12288,)\n",
                        "Dest Shape: (24, 8, 4, 4, 4)\n",
                        "multi-gpu wilson dslash total time: (without malloc free memcpy) :0.041016052 sec\n",
                        "multi-gpu wilson dslash total time: (without malloc free memcpy) :0.001736610 sec\n",
                        "Input Array Shape: (12288,)\n",
                        "Dest Shape: (24, 8, 4, 4, 4)\n",
                        "multi-gpu wilson dslash total time: (without malloc free memcpy) :0.043086778 sec\n",
                        "multi-gpu wilson dslash total time: (without malloc free memcpy) :0.001743780 sec\n",
                        "Iteration 67: Residual = 2.430575e-09, Time = 0.332668 s\n",
                        "Input Array Shape: (12288,)\n",
                        "Dest Shape: (24, 8, 4, 4, 4)\n",
                        "multi-gpu wilson dslash total time: (without malloc free memcpy) :0.039779601 sec\n",
                        "multi-gpu wilson dslash total time: (without malloc free memcpy) :0.001748491 sec\n",
                        "Input Array Shape: (12288,)\n",
                        "Dest Shape: (24, 8, 4, 4, 4)\n",
                        "multi-gpu wilson dslash total time: (without malloc free memcpy) :0.039503072 sec\n",
                        "multi-gpu wilson dslash total time: (without malloc free memcpy) :0.001764310 sec\n",
                        "Iteration 68: Residual = 2.204366e-09, Time = 0.321161 s\n",
                        "Input Array Shape: (12288,)\n",
                        "Dest Shape: (24, 8, 4, 4, 4)\n",
                        "multi-gpu wilson dslash total time: (without malloc free memcpy) :0.039630810 sec\n",
                        "multi-gpu wilson dslash total time: (without malloc free memcpy) :0.001847629 sec\n",
                        "Input Array Shape: (12288,)\n",
                        "Dest Shape: (24, 8, 4, 4, 4)\n",
                        "multi-gpu wilson dslash total time: (without malloc free memcpy) :0.042404981 sec\n",
                        "multi-gpu wilson dslash total time: (without malloc free memcpy) :0.001855388 sec\n",
                        "Iteration 69: Residual = 9.162110e-10, Time = 0.330610 s\n",
                        "Input Array Shape: (12288,)\n",
                        "Dest Shape: (24, 8, 4, 4, 4)\n",
                        "multi-gpu wilson dslash total time: (without malloc free memcpy) :0.039104805 sec\n",
                        "multi-gpu wilson dslash total time: (without malloc free memcpy) :0.001743061 sec\n",
                        "Input Array Shape: (12288,)\n",
                        "Dest Shape: (24, 8, 4, 4, 4)\n",
                        "multi-gpu wilson dslash total time: (without malloc free memcpy) :0.039907841 sec\n",
                        "multi-gpu wilson dslash total time: (without malloc free memcpy) :0.001778347 sec\n",
                        "Iteration 70: Residual = 1.905156e-09, Time = 0.316554 s\n",
                        "Input Array Shape: (12288,)\n",
                        "Dest Shape: (24, 8, 4, 4, 4)\n",
                        "multi-gpu wilson dslash total time: (without malloc free memcpy) :0.040694826 sec\n",
                        "multi-gpu wilson dslash total time: (without malloc free memcpy) :0.001807527 sec\n",
                        "Input Array Shape: (12288,)\n",
                        "Dest Shape: (24, 8, 4, 4, 4)\n",
                        "multi-gpu wilson dslash total time: (without malloc free memcpy) :0.040260126 sec\n",
                        "multi-gpu wilson dslash total time: (without malloc free memcpy) :0.001901517 sec\n",
                        "Iteration 71: Residual = 1.538504e-09, Time = 0.320439 s\n",
                        "Input Array Shape: (12288,)\n",
                        "Dest Shape: (24, 8, 4, 4, 4)\n",
                        "multi-gpu wilson dslash total time: (without malloc free memcpy) :0.040335837 sec\n",
                        "multi-gpu wilson dslash total time: (without malloc free memcpy) :0.001768679 sec\n",
                        "Input Array Shape: (12288,)\n",
                        "Dest Shape: (24, 8, 4, 4, 4)\n",
                        "multi-gpu wilson dslash total time: (without malloc free memcpy) :0.039391586 sec\n",
                        "multi-gpu wilson dslash total time: (without malloc free memcpy) :0.001938271 sec\n",
                        "Iteration 72: Residual = 4.219813e-10, Time = 0.320164 s\n",
                        "Input Array Shape: (12288,)\n",
                        "Dest Shape: (24, 8, 4, 4, 4)\n",
                        "multi-gpu wilson dslash total time: (without malloc free memcpy) :0.041194853 sec\n",
                        "multi-gpu wilson dslash total time: (without malloc free memcpy) :0.001763894 sec\n",
                        "Input Array Shape: (12288,)\n",
                        "Dest Shape: (24, 8, 4, 4, 4)\n",
                        "multi-gpu wilson dslash total time: (without malloc free memcpy) :0.038043618 sec\n",
                        "multi-gpu wilson dslash total time: (without malloc free memcpy) :0.001807890 sec\n",
                        "Iteration 73: Residual = 3.181068e-10, Time = 0.317275 s\n",
                        "Input Array Shape: (12288,)\n",
                        "Dest Shape: (24, 8, 4, 4, 4)\n",
                        "multi-gpu wilson dslash total time: (without malloc free memcpy) :0.037966347 sec\n",
                        "multi-gpu wilson dslash total time: (without malloc free memcpy) :0.001887165 sec\n",
                        "Input Array Shape: (12288,)\n",
                        "Dest Shape: (24, 8, 4, 4, 4)\n",
                        "multi-gpu wilson dslash total time: (without malloc free memcpy) :0.038936565 sec\n",
                        "multi-gpu wilson dslash total time: (without malloc free memcpy) :0.001766891 sec\n",
                        "Iteration 74: Residual = 6.320334e-10, Time = 0.316577 s\n",
                        "Input Array Shape: (12288,)\n",
                        "Dest Shape: (24, 8, 4, 4, 4)\n",
                        "multi-gpu wilson dslash total time: (without malloc free memcpy) :0.039055210 sec\n",
                        "multi-gpu wilson dslash total time: (without malloc free memcpy) :0.001842936 sec\n",
                        "Input Array Shape: (12288,)\n",
                        "Dest Shape: (24, 8, 4, 4, 4)\n",
                        "multi-gpu wilson dslash total time: (without malloc free memcpy) :0.037626570 sec\n",
                        "multi-gpu wilson dslash total time: (without malloc free memcpy) :0.001929039 sec\n",
                        "Iteration 75: Residual = 1.694950e-10, Time = 0.309867 s\n",
                        "Input Array Shape: (12288,)\n",
                        "Dest Shape: (24, 8, 4, 4, 4)\n",
                        "multi-gpu wilson dslash total time: (without malloc free memcpy) :0.038017366 sec\n",
                        "multi-gpu wilson dslash total time: (without malloc free memcpy) :0.001771630 sec\n",
                        "Input Array Shape: (12288,)\n",
                        "Dest Shape: (24, 8, 4, 4, 4)\n",
                        "multi-gpu wilson dslash total time: (without malloc free memcpy) :0.038300461 sec\n",
                        "multi-gpu wilson dslash total time: (without malloc free memcpy) :0.001783497 sec\n",
                        "Iteration 76: Residual = 1.234838e-10, Time = 0.321739 s\n",
                        "Input Array Shape: (12288,)\n",
                        "Dest Shape: (24, 8, 4, 4, 4)\n",
                        "multi-gpu wilson dslash total time: (without malloc free memcpy) :0.040624706 sec\n",
                        "multi-gpu wilson dslash total time: (without malloc free memcpy) :0.001747212 sec\n",
                        "Input Array Shape: (12288,)\n",
                        "Dest Shape: (24, 8, 4, 4, 4)\n",
                        "multi-gpu wilson dslash total time: (without malloc free memcpy) :0.041099261 sec\n",
                        "multi-gpu wilson dslash total time: (without malloc free memcpy) :0.001794344 sec\n",
                        "Iteration 77: Residual = 1.193504e-10, Time = 0.323434 s\n",
                        "Input Array Shape: (12288,)\n",
                        "Dest Shape: (24, 8, 4, 4, 4)\n",
                        "multi-gpu wilson dslash total time: (without malloc free memcpy) :0.038280226 sec\n",
                        "multi-gpu wilson dslash total time: (without malloc free memcpy) :0.001776497 sec\n",
                        "Input Array Shape: (12288,)\n",
                        "Dest Shape: (24, 8, 4, 4, 4)\n",
                        "multi-gpu wilson dslash total time: (without malloc free memcpy) :0.040438881 sec\n",
                        "multi-gpu wilson dslash total time: (without malloc free memcpy) :0.001860625 sec\n",
                        "Iteration 78: Residual = 9.598214e-11, Time = 0.321712 s\n",
                        "Converged at iteration 78 with residual 9.598214e-11\n",
                        "\n",
                        "Performance Statistics:\n",
                        "Total time: 31.758590 s\n",
                        "Average time per iteration: 0.328541 s\n",
                        "Input Array Shape: (12288,)\n",
                        "Dest Shape: (24, 8, 4, 4, 4)\n",
                        "Input Array Shape: (6291456,)\n",
                        "Dest Shape: (6291456,)\n",
                        "Data is saved to _x_o.h5\n"
                    ]
                }
            ],
            "source": [
                "# mg version\n",
                "mg_b__o = r_vec(io.xxxtzyx2mg_xxxtzyx(io.fermion2sctzyx(b__o, params), params)).flatten()\n",
                "bistabcg_solver = bistabcg.slover(\n",
                "    b=mg_b__o, matvec=functools.partial(r_matvec_p, matvec=bistabcg_dslash), tol=1e-10, max_iter=1000000)\n",
                "mg_x_o = bistabcg_solver.run()\n",
                "_x_o=io.array2xxx(p_vec(io.xxx2eTZYX(mg_x_o, params)))\n",
                "io.xxx2hdf5_xxx(_x_o, params, '_x_o.h5')\n"
            ]
        },
        {
            "cell_type": "code",
            "execution_count": 49,
            "metadata": {},
            "outputs": [],
            "source": [
                "# # x_e  =b_e+kappa*D_eo(x_o)\n",
                "# qcu.applyWilsonDslashQcu(tmp, x_o, gauge, set_ptrs, wilson_dslash_eo_params)\n",
                "# x_e = b_e+kappa*tmp\n",
                "# # give qcu_fermion_out\n",
                "# qcu_fermion_out = cp.zeros_like(quda_fermion_out)\n",
                "# qcu_fermion_out[define._EVEN_] = x_e.reshape(\n",
                "#     quda_fermion_out[define._EVEN_].shape)\n",
                "# qcu_fermion_out[define._ODD_] = x_o.reshape(\n",
                "#     quda_fermion_out[define._ODD_].shape)\n",
                "# print(np.linalg.norm(qcu_fermion_out-quda_fermion_out) / \\\n",
                "#     np.linalg.norm(quda_fermion_out))"
            ]
        },
        {
            "cell_type": "code",
            "execution_count": 50,
            "metadata": {},
            "outputs": [
                {
                    "name": "stdout",
                    "output_type": "stream",
                    "text": [
                        "Dest Shape: (6291456,)\n",
                        "Dest Shape: (6291456,)\n"
                    ]
                }
            ],
            "source": [
                "x_o=io.hdf5_xxx2xxx(params,'x_o.h5')\n",
                "_x_o=io.hdf5_xxx2xxx(params,'_x_o.h5')"
            ]
        },
        {
            "cell_type": "code",
            "execution_count": 51,
            "metadata": {},
            "outputs": [
                {
                    "data": {
                        "text/plain": [
                            "array([74.27604 +92.02284j , 75.06629 +87.020996j, 63.950462+81.42317j ,\n",
                            "       71.90431 +81.19496j , 82.32697 +77.19529j , 82.58721 +76.42146j ,\n",
                            "       75.92041 +76.61929j , 83.29001 +63.37289j , 90.26471 +89.01645j ,\n",
                            "       85.437584+67.62439j , 82.527954+61.06994j , 66.877235+63.152378j,\n",
                            "       86.607956+60.486282j, 69.97304 +78.853806j, 74.98956 +78.34286j ,\n",
                            "       82.30312 +82.18618j , 80.42873 +82.24485j , 75.13653 +69.27514j ,\n",
                            "       84.342064+79.84675j , 83.38979 +62.740913j, 70.93342 +69.10556j ,\n",
                            "       78.41749 +76.8612j  , 92.75483 +71.3723j  , 76.95801 +63.98175j ,\n",
                            "       76.83701 +84.04088j , 86.23326 +71.82796j , 74.12482 +74.47032j ,\n",
                            "       80.77271 +88.2747j  , 88.081   +68.75456j , 86.93835 +63.496307j,\n",
                            "       76.293976+74.005066j, 85.7808  +80.60354j , 73.14485 +80.3956j  ,\n",
                            "       86.552826+75.09205j , 84.15033 +56.783974j, 82.566315+92.946976j,\n",
                            "       80.47373 +77.690834j, 69.55831 +75.1817j  , 69.10493 +87.87933j ,\n",
                            "       78.504234+86.637924j, 85.1525  +73.68484j , 79.55496 +66.60859j ,\n",
                            "       77.11238 +75.59365j , 72.55194 +80.62652j , 93.46328 +70.65636j ,\n",
                            "       71.567375+75.45015j , 64.881775+74.35057j , 86.96091 +77.27444j ,\n",
                            "       65.178566+82.66464j , 76.7831  +75.44279j ], dtype=complex64)"
                        ]
                    },
                    "execution_count": 51,
                    "metadata": {},
                    "output_type": "execute_result"
                }
            ],
            "source": [
                "x_o.flatten()[:50]"
            ]
        },
        {
            "cell_type": "code",
            "execution_count": 52,
            "metadata": {},
            "outputs": [
                {
                    "data": {
                        "text/plain": [
                            "array([69.09611 +55.615627j, 65.63428 +55.377068j, 61.209953+47.46849j ,\n",
                            "       61.200054+53.430695j, 55.786613+60.020485j, 55.31877 +59.8227j  ,\n",
                            "       55.255356+54.20688j , 45.406746+59.307213j, 66.09241 +65.454575j,\n",
                            "       50.321095+62.349075j, 45.750412+59.989754j, 47.744675+47.829746j,\n",
                            "       41.7406  +63.579193j, 55.58891 +52.30281j , 56.265125+56.056976j,\n",
                            "       59.485497+60.724777j, 62.022   +60.61207j , 52.5427  +56.155685j,\n",
                            "       60.19442 +62.95733j , 47.765327+61.928677j, 50.199554+51.55423j ,\n",
                            "       55.681786+56.70545j , 51.722824+66.80423j , 46.237396+54.728928j,\n",
                            "       61.780903+56.014095j, 53.314857+62.887474j, 55.25479 +53.478027j,\n",
                            "       66.03976 +57.903374j, 48.300972+64.90466j , 44.382202+64.08003j ,\n",
                            "       52.679733+56.829678j, 58.594902+63.25062j , 60.68333 +54.870785j,\n",
                            "       56.6784  +64.558876j, 43.17658 +62.53102j , 69.7999  +61.448906j,\n",
                            "       56.56581 +58.566902j, 54.23349 +49.67239j , 63.787704+48.662117j,\n",
                            "       62.533997+55.550785j, 54.343224+61.97721j , 49.013275+57.905807j,\n",
                            "       56.06056 +55.421307j, 60.5634  +51.892548j, 49.6294  +68.43987j ,\n",
                            "       53.33438 +52.957108j, 53.361805+48.367947j, 56.181072+63.999268j,\n",
                            "       61.77124 +49.506958j, 56.749588+58.080627j], dtype=complex64)"
                        ]
                    },
                    "execution_count": 52,
                    "metadata": {},
                    "output_type": "execute_result"
                }
            ],
            "source": [
                "_x_o.flatten()[:50]"
            ]
        },
        {
            "cell_type": "code",
            "execution_count": 53,
            "metadata": {},
            "outputs": [
                {
                    "name": "stdout",
                    "output_type": "stream",
                    "text": [
                        "0.28872454\n"
                    ]
                }
            ],
            "source": [
                "print(np.linalg.norm(_x_o-x_o) /\n",
                "      np.linalg.norm(x_o))"
            ]
        },
        {
            "cell_type": "markdown",
            "metadata": {},
            "source": [
                "# End for CG & BISTABCG. (pass, don't run this)"
            ]
        },
        {
            "cell_type": "code",
            "execution_count": 54,
            "metadata": {},
            "outputs": [],
            "source": [
                "# cg_solver.end()\n",
                "# bistabcg_solver.end()"
            ]
        },
        {
            "cell_type": "markdown",
            "metadata": {},
            "source": [
                "# End for pyqcu. (pass, don't run this)"
            ]
        },
        {
            "cell_type": "code",
            "execution_count": 55,
            "metadata": {},
            "outputs": [],
            "source": [
                "# qcu.applyEndQcu(set_ptrs, params)\n",
                "# qcu.applyEndQcu(set_ptrs, wilson_dslash_eo_params)\n",
                "# qcu.applyEndQcu(set_ptrs, wilson_dslash_oe_params)\n",
                "# qcu.applyEndQcu(set_ptrs, wilson_dslash_eo_dag_params)\n",
                "# qcu.applyEndQcu(set_ptrs, wilson_dslash_oe_dag_params)"
            ]
        }
    ],
    "metadata": {
        "kernelspec": {
            "display_name": "Python 3",
            "language": "python",
            "name": "python3"
        },
        "language_info": {
            "codemirror_mode": {
                "name": "ipython",
                "version": 3
            },
            "file_extension": ".py",
            "mimetype": "text/x-python",
            "name": "python",
            "nbconvert_exporter": "python",
            "pygments_lexer": "ipython3",
            "version": "3.10.12"
        }
    },
    "nbformat": 4,
    "nbformat_minor": 2
}
