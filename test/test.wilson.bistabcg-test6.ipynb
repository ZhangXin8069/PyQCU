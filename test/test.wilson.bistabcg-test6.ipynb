{
 "cells": [
  {
   "cell_type": "code",
   "execution_count": null,
   "id": "047dded5",
   "metadata": {
    "vscode": {
     "languageId": "plaintext"
    }
   },
   "outputs": [],
   "source": [
    "import cupy as cp\n",
    "from pyqcu.cuda import define\n",
    "from pyqcu.cuda import io\n",
    "from pyqcu.cuda import qcu\n",
    "from pyqcu.cuda.set import params, argv, set_ptrs\n",
    "print('My rank is ', define.rank)\n",
    "gauge_filename = f\"quda_wilson-bistabcg-gauge_-{params[define._LAT_X_]}-{params[define._LAT_Y_]}-{params  [define._LAT_Z_]}-{params[define._LAT_T_]}-{params[define._LAT_XYZT_]}-{params[define._GRID_X_]}-{params[define._GRID_Y_]}-{params[define._GRID_Z_]}-{params[define._GRID_T_]}-{params[define._PARITY_]}-{params[define._NODE_RANK_]}-{params[define._NODE_SIZE_]}-{params[define._DAGGER_]}-f.h5\"\n",
    "print(\"Parameters:\", params)\n",
    "argv[define._MASS_] = 0.0\n",
    "print(\"Arguments:\", argv)\n",
    "#############################\n",
    "print(\"Gauge filename:\", gauge_filename)\n",
    "gauge = io.hdf5_xxxtzyx2grid_xxxtzyx(params, gauge_filename)\n",
    "fermion_in_filename = gauge_filename.replace(\"gauge\", \"fermion-in\")\n",
    "print(\"Fermion in filename:\", fermion_in_filename)\n",
    "fermion_in = io.hdf5_xxxtzyx2grid_xxxtzyx(params, fermion_in_filename)\n",
    "fermion_out_filename = gauge_filename.replace(\"gauge\", \"fermion-out\")\n",
    "print(\"Fermion out filename:\", fermion_out_filename)\n",
    "quda_fermion_out = io.hdf5_xxxtzyx2grid_xxxtzyx(params, fermion_out_filename)\n",
    "#############################\n",
    "fermion_out = cp.zeros_like(fermion_in)\n",
    "print(\"Fermion out data:\", fermion_out.data)\n",
    "print(\"Fermion out shape:\", fermion_out.shape)\n",
    "#############################\n",
    "qcu.applyInitQcu(set_ptrs, params, argv)\n",
    "qcu.applyWilsonBistabCgQcu(\n",
    "    fermion_out, fermion_in, gauge, set_ptrs, params)\n",
    "qcu.applyEndQcu(set_ptrs, params)\n",
    "#############################\n",
    "print(\"Fermion out data:\", fermion_out.data)\n",
    "print(\"Fermion out shape:\", fermion_out.shape)\n",
    "print(\"QUDA Fermion out data:\", quda_fermion_out.data)\n",
    "print(\"QUDA Fermion out shape:\", quda_fermion_out.shape)\n",
    "print(\"Difference:\", cp.linalg.norm(fermion_out -\n",
    "      quda_fermion_out)/cp.linalg.norm(quda_fermion_out))\n",
    "#############################\n",
    "io.grid_xxxtzyx2hdf5_xxxtzyx(fermion_out, params)"
   ]
  }
 ],
 "metadata": {
  "language_info": {
   "name": "python"
  }
 },
 "nbformat": 4,
 "nbformat_minor": 5
}
