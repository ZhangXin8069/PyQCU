{
 "cells": [
  {
   "cell_type": "code",
   "execution_count": null,
   "id": "047dded5",
   "metadata": {},
   "outputs": [],
   "source": [
    "import cupy as cp\n",
    "from pyqcu.cuda import define\n",
    "from pyqcu.cuda import io\n",
    "from pyqcu.cuda import qcu\n",
    "from pyqcu.cuda.set import params, argv, set_ptrs\n",
    "#############################\n",
    "params[define._LAT_X_] = 32\n",
    "params[define._LAT_Y_] = 32\n",
    "params[define._LAT_Z_] = 32\n",
    "params[define._LAT_T_] = 32\n",
    "params[define._LAT_XYZT_] = params[define._LAT_X_] * \\\n",
    "    params[define._LAT_Y_]*params[define._LAT_Z_]*params[define._LAT_T_]\n",
    "params[define._GRID_X_], params[define._GRID_Y_], params[define._GRID_Z_], params[\n",
    "    define._GRID_T_] = define.split_into_four_factors(define.size)\n",
    "params[define._DATA_TYPE_] = define._LAT_C64_\n",
    "params[define._SET_PLAN_] = 1\n",
    "print(\"Parameters:\", params)\n",
    "argv[define._MASS_] = 0.0\n",
    "argv = argv.astype(define.dtype_half(params[define._DATA_TYPE_]))\n",
    "print(\"Arguments:\", argv)\n",
    "#############################\n",
    "gauge_filename = f\"quda_wilson-bistabcg-gauge_-32-32-32-32-1048576-1-1-1-1-0-0-1-0-f.h5\"\n",
    "print(\"Gauge filename:\", gauge_filename)\n",
    "gauge = io.hdf5_xxxtzyx2grid_xxxtzyx(params, gauge_filename)\n",
    "fermion_in_filename = gauge_filename.replace(\"gauge\", \"fermion-in\")\n",
    "print(\"Fermion in filename:\", fermion_in_filename)\n",
    "fermion_in = io.hdf5_xxxtzyx2grid_xxxtzyx(params, fermion_in_filename)\n",
    "fermion_out_filename = gauge_filename.replace(\"gauge\", \"fermion-out\")\n",
    "print(\"Fermion out filename:\", fermion_out_filename)\n",
    "quda_fermion_out = io.hdf5_xxxtzyx2grid_xxxtzyx(params, fermion_out_filename)\n",
    "#############################\n",
    "fermion_out = cp.zeros_like(fermion_in)\n",
    "print(\"Fermion out data:\", fermion_out.data)\n",
    "print(\"Fermion out shape:\", fermion_out.shape)\n",
    "#############################\n",
    "qcu.applyInitQcu(set_ptrs, params, argv)\n",
    "for i in range(10):\n",
    "    qcu.applyWilsonBistabCgQcu(\n",
    "    fermion_out, fermion_in, gauge, set_ptrs, params)\n",
    "qcu.applyEndQcu(set_ptrs, params)\n",
    "#############################\n",
    "print(\"Fermion out data:\", fermion_out.data)\n",
    "print(\"Fermion out shape:\", fermion_out.shape)\n",
    "print(\"QUDA Fermion out data:\", quda_fermion_out.data)\n",
    "print(\"QUDA Fermion out shape:\", quda_fermion_out.shape)\n",
    "print(\"Difference:\", cp.linalg.norm(fermion_out -\n",
    "      quda_fermion_out)/cp.linalg.norm(quda_fermion_out))\n",
    "#############################"
   ]
  }
 ],
 "metadata": {
  "kernelspec": {
   "display_name": "Python 3",
   "language": "python",
   "name": "python3"
  },
  "language_info": {
   "codemirror_mode": {
    "name": "ipython",
    "version": 3
   },
   "file_extension": ".py",
   "mimetype": "text/x-python",
   "name": "python",
   "nbconvert_exporter": "python",
   "pygments_lexer": "ipython3",
   "version": "3.10.12"
  }
 },
 "nbformat": 4,
 "nbformat_minor": 5
}
