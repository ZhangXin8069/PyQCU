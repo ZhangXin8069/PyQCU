{
 "cells": [
  {
   "cell_type": "code",
   "execution_count": null,
   "id": "047dded5",
   "metadata": {},
   "outputs": [
    {
     "name": "stdout",
     "output_type": "stream",
     "text": [
      "@My Rank:0/1@\n",
      "\n",
      "My rank is  0\n",
      "Parameters: [     32      32      32      32 1048576       1       1       1       1\n",
      "       0       0       1       0    1000       3       0       0       4\n",
      "       4       4       8      24       1      42]\n",
      "Arguments: [0.e+00 1.e-09 1.e-01]\n",
      "Gauge filename: quda_wilson-bistabcg-gauge_-32-32-32-32-1048576-1-1-1-1-0-0-1-0-f.h5\n",
      "Grid Index T: 0, Grid Index Z: 0, Grid Index Y: 0, Grid Index X: 0\n",
      "Grid Lat T: 32, Grid Lat Z: 32, Grid Lat Y: 32, Grid Lat X: 16\n",
      "All Dest Shape: (3, 3, 4, 2, 32, 32, 32, 16)\n",
      "Dest Shape: (3, 3, 4, 2, 32, 32, 32, 16)\n",
      "Fermion in filename: quda_wilson-bistabcg-fermion-in_-32-32-32-32-1048576-1-1-1-1-0-0-1-0-f.h5\n",
      "Grid Index T: 0, Grid Index Z: 0, Grid Index Y: 0, Grid Index X: 0\n",
      "Grid Lat T: 32, Grid Lat Z: 32, Grid Lat Y: 32, Grid Lat X: 16\n",
      "All Dest Shape: (2, 4, 3, 32, 32, 32, 16)\n",
      "Dest Shape: (2, 4, 3, 32, 32, 32, 16)\n",
      "Fermion out filename: quda_wilson-bistabcg-fermion-out_-32-32-32-32-1048576-1-1-1-1-0-0-1-0-f.h5\n",
      "Grid Index T: 0, Grid Index Z: 0, Grid Index Y: 0, Grid Index X: 0\n",
      "Grid Lat T: 32, Grid Lat Z: 32, Grid Lat Y: 32, Grid Lat X: 16\n",
      "All Dest Shape: (2, 4, 3, 32, 32, 32, 16)\n",
      "Dest Shape: (2, 4, 3, 32, 32, 32, 16)\n",
      "Fermion out data: <MemoryPointer 0x723600000 device=0 mem=<cupy.cuda.memory.PooledMemory object at 0x7f4f73e1a270>>\n",
      "Fermion out shape: (2, 4, 3, 32, 32, 32, 16)\n"
     ]
    },
    {
     "ename": "AttributeError",
     "evalue": "module 'pyqcu.cuda.qcu' has no attribute 'applyInitQcu'",
     "output_type": "error",
     "traceback": [
      "\u001b[0;31m---------------------------------------------------------------------------\u001b[0m",
      "\u001b[0;31mAttributeError\u001b[0m                            Traceback (most recent call last)",
      "Cell \u001b[0;32mIn[1], line 25\u001b[0m\n\u001b[1;32m     23\u001b[0m \u001b[38;5;28mprint\u001b[39m(\u001b[38;5;124m\"\u001b[39m\u001b[38;5;124mFermion out shape:\u001b[39m\u001b[38;5;124m\"\u001b[39m, fermion_out\u001b[38;5;241m.\u001b[39mshape)\n\u001b[1;32m     24\u001b[0m \u001b[38;5;66;03m#############################\u001b[39;00m\n\u001b[0;32m---> 25\u001b[0m \u001b[43mqcu\u001b[49m\u001b[38;5;241;43m.\u001b[39;49m\u001b[43mapplyInitQcu\u001b[49m(set_ptrs, params, argv)\n\u001b[1;32m     26\u001b[0m qcu\u001b[38;5;241m.\u001b[39mapplyWilsonBistabCgQcu(\n\u001b[1;32m     27\u001b[0m     fermion_out, fermion_in, gauge, set_ptrs, params)\n\u001b[1;32m     28\u001b[0m qcu\u001b[38;5;241m.\u001b[39mapplyEndQcu(set_ptrs, params)\n",
      "\u001b[0;31mAttributeError\u001b[0m: module 'pyqcu.cuda.qcu' has no attribute 'applyInitQcu'"
     ]
    }
   ],
   "source": [
    "import cupy as cp\n",
    "from pyqcu.cuda import define\n",
    "from pyqcu.cuda import io\n",
    "from pyqcu.cuda import qcu\n",
    "from pyqcu.cuda.set import params, argv, set_ptrs\n",
    "print('My rank is ', define.rank)\n",
    "gauge_filename = f\"quda_wilson-bistabcg-gauge_-{params[define._LAT_X_]}-{params[define._LAT_Y_]}-{params  [define._LAT_Z_]}-{params[define._LAT_T_]}-{params[define._LAT_XYZT_]}-{params[define._GRID_X_]}-{params[define._GRID_Y_]}-{params[define._GRID_Z_]}-{params[define._GRID_T_]}-{params[define._PARITY_]}-{params[define._NODE_RANK_]}-{params[define._NODE_SIZE_]}-{params[define._DAGGER_]}-f.h5\"\n",
    "print(\"Parameters:\", params)\n",
    "argv[define._MASS_] = 0.0\n",
    "print(\"Arguments:\", argv)\n",
    "#############################\n",
    "print(\"Gauge filename:\", gauge_filename)\n",
    "gauge = io.hdf5_xxxtzyx2grid_xxxtzyx(params, gauge_filename)\n",
    "fermion_in_filename = gauge_filename.replace(\"gauge\", \"fermion-in\")\n",
    "print(\"Fermion in filename:\", fermion_in_filename)\n",
    "fermion_in = io.hdf5_xxxtzyx2grid_xxxtzyx(params, fermion_in_filename)\n",
    "fermion_out_filename = gauge_filename.replace(\"gauge\", \"fermion-out\")\n",
    "print(\"Fermion out filename:\", fermion_out_filename)\n",
    "quda_fermion_out = io.hdf5_xxxtzyx2grid_xxxtzyx(params, fermion_out_filename)\n",
    "#############################\n",
    "fermion_out = cp.zeros_like(fermion_in)\n",
    "print(\"Fermion out data:\", fermion_out.data)\n",
    "print(\"Fermion out shape:\", fermion_out.shape)\n",
    "#############################\n",
    "qcu.applyInitQcu(set_ptrs, params, argv)\n",
    "qcu.applyWilsonBistabCgQcu(\n",
    "    fermion_out, fermion_in, gauge, set_ptrs, params)\n",
    "qcu.applyEndQcu(set_ptrs, params)\n",
    "#############################\n",
    "print(\"Fermion out data:\", fermion_out.data)\n",
    "print(\"Fermion out shape:\", fermion_out.shape)\n",
    "print(\"QUDA Fermion out data:\", quda_fermion_out.data)\n",
    "print(\"QUDA Fermion out shape:\", quda_fermion_out.shape)\n",
    "print(\"Difference:\", cp.linalg.norm(fermion_out -\n",
    "      quda_fermion_out)/cp.linalg.norm(quda_fermion_out))\n",
    "#############################\n",
    "io.grid_xxxtzyx2hdf5_xxxtzyx(fermion_out, params)"
   ]
  }
 ],
 "metadata": {
  "kernelspec": {
   "display_name": "Python 3",
   "language": "python",
   "name": "python3"
  },
  "language_info": {
   "codemirror_mode": {
    "name": "ipython",
    "version": 3
   },
   "file_extension": ".py",
   "mimetype": "text/x-python",
   "name": "python",
   "nbconvert_exporter": "python",
   "pygments_lexer": "ipython3",
   "version": "3.10.12"
  }
 },
 "nbformat": 4,
 "nbformat_minor": 5
}
