{
    "cells": [
        {
            "cell_type": "markdown",
            "metadata": {},
            "source": [
                "# Init for pyqcu."
            ]
        },
        {
            "cell_type": "code",
            "execution_count": 95,
            "metadata": {},
            "outputs": [
                {
                    "name": "stdout",
                    "output_type": "stream",
                    "text": [
                        "[      8       8       4       8 1048576       1       1       1       1\n",
                        "       0       0       1       0   10000       0       0       0       2\n",
                        "       2       2       2]\n"
                    ]
                }
            ],
            "source": [
                "import cupy as cp\n",
                "import numpy as np\n",
                "import functools\n",
                "from scipy.sparse.linalg import LinearOperator, eigsh\n",
                "import cupyx.scipy.sparse as cpx_sparse\n",
                "from pyqcu.cuda import define\n",
                "from pyqcu.cuda import io\n",
                "from pyqcu.cuda import qcu\n",
                "from pyqcu.cuda import eigen, cg, bistabcg\n",
                "from opt_einsum import contract\n",
                "from pyqcu.cuda.set import params, argv, set_ptrs\n",
                "params[define._NODE_RANK_] = define.rank\n",
                "params[define._NODE_SIZE_] = define.size\n",
                "index = -1\n",
                "params[define._LAT_X_] = 8\n",
                "params[define._LAT_Y_] = 8\n",
                "params[define._LAT_Z_] = 4\n",
                "params[define._LAT_T_] = 8\n",
                "n = int(params[define._LAT_X_] / define._LAT_P_ * params[define._LAT_Y_] *\n",
                "        params[define._LAT_Z_] * params[define._LAT_T_] *\n",
                "        define._LAT_S_*define._LAT_C_)\n",
                "params[define._MG_X_] = 2\n",
                "params[define._MG_Y_] = 2\n",
                "params[define._MG_Z_] = 2\n",
                "params[define._MG_T_] = 2\n",
                "print(params)"
            ]
        },
        {
            "cell_type": "markdown",
            "metadata": {},
            "source": [
                "# Give matvec."
            ]
        },
        {
            "cell_type": "code",
            "execution_count": 96,
            "metadata": {},
            "outputs": [],
            "source": [
                "def generate_sparse_complex_psd_matrix(n, density=0.1):\n",
                "    real_part = cpx_sparse.random(\n",
                "        n, n, density=density, format=\"csr\", dtype=cp.float32)\n",
                "    imag_part = cpx_sparse.random(\n",
                "        n, n, density=density, format=\"csr\", dtype=cp.float32)\n",
                "    A = real_part + 1j * imag_part\n",
                "    A_hermitian = A + A.getH()\n",
                "    A_psd = A_hermitian + n * cpx_sparse.identity(n, dtype=cp.complex64)\n",
                "    return A_psd\n",
                "\n",
                "\n",
                "A = generate_sparse_complex_psd_matrix(n)\n",
                "\n",
                "\n",
                "def matvec(src):\n",
                "    return (A@src.flatten()).reshape(src.shape)"
            ]
        },
        {
            "cell_type": "markdown",
            "metadata": {},
            "source": [
                "# Give guage's eigenvalues and eigenvectors to hdf5 files. (pass, don't run this)"
            ]
        },
        {
            "cell_type": "code",
            "execution_count": 97,
            "metadata": {},
            "outputs": [
                {
                    "name": "stdout",
                    "output_type": "stream",
                    "text": [
                        "eigen_index: 0, iter: 0, alpha: 0.000000000, beta: 1.000000000, tol: inf, lambda: 12293.986328125, degree: 20\n",
                        "eigen_index: 0, iter: 1, alpha: 6146.993164062, beta: 1.000000000, tol: 3.775226e-02, lambda: 12776.321289062, degree: 30\n",
                        "eigen_index: 0, iter: 2, alpha: 6146.993164062, beta: 1.000000000, tol: 5.465662e-02, lambda: 13515.005859375, degree: 30\n",
                        "eigen_index: 0, iter: 3, alpha: 6146.993164062, beta: 1.000000000, tol: 2.220707e-04, lambda: 13518.007812500, degree: 30\n",
                        "eigen_index: 0, iter: 4, alpha: 6146.993164062, beta: 1.000000000, tol: 1.444832e-07, lambda: 13518.009765625, degree: 30\n",
                        "eigen_index: 0, time: 0.43s\n",
                        "eigen_index: 1, iter: 0, alpha: 6146.993164062, beta: 12293.986328125, tol: inf, lambda: 12331.649414062, degree: 30\n",
                        "eigen_index: 1, iter: 1, alpha: 6165.824707031, beta: 12293.986328125, tol: 7.999197e-04, lambda: 12321.792968750, degree: 45\n",
                        "eigen_index: 1, iter: 2, alpha: 6165.824707031, beta: 12293.986328125, tol: 3.883641e-05, lambda: 12321.314453125, degree: 45\n",
                        "eigen_index: 1, iter: 3, alpha: 6165.824707031, beta: 12293.986328125, tol: 3.804369e-06, lambda: 12321.361328125, degree: 45\n",
                        "eigen_index: 1, iter: 4, alpha: 6165.824707031, beta: 12293.986328125, tol: 1.585156e-06, lambda: 12321.341796875, degree: 45\n",
                        "eigen_index: 1, iter: 5, alpha: 6165.824707031, beta: 12293.986328125, tol: 3.170313e-07, lambda: 12321.337890625, degree: 45\n",
                        "eigen_index: 1, time: 0.80s\n",
                        "eigen_index: 2, iter: 0, alpha: 6165.824707031, beta: 12331.649414062, tol: inf, lambda: 12321.333984375, degree: 45\n",
                        "eigen_index: 2, iter: 1, alpha: 6165.824707031, beta: 12331.649414062, tol: 2.377736e-07, lambda: 12321.331054688, degree: 67\n",
                        "eigen_index: 2, time: 0.38s\n",
                        "eigen_index: 3, iter: 0, alpha: 6165.824707031, beta: 12331.649414062, tol: inf, lambda: 12321.326171875, degree: 67\n",
                        "eigen_index: 3, iter: 1, alpha: 6165.824707031, beta: 12331.649414062, tol: 0.000000e+00, lambda: 12321.326171875, degree: 100\n",
                        "eigen_index: 3, time: 0.55s\n",
                        "eigen_index: 4, iter: 0, alpha: 6165.824707031, beta: 12331.649414062, tol: inf, lambda: 12321.327148438, degree: 100\n",
                        "eigen_index: 4, iter: 1, alpha: 6165.824707031, beta: 12331.649414062, tol: 7.925791e-08, lambda: 12321.326171875, degree: 100\n",
                        "eigen_index: 4, time: 0.66s\n",
                        "eigen_index: 5, iter: 0, alpha: 6165.824707031, beta: 12331.649414062, tol: inf, lambda: 12321.327148438, degree: 100\n",
                        "eigen_index: 5, iter: 1, alpha: 6165.824707031, beta: 12331.649414062, tol: 7.925791e-08, lambda: 12321.326171875, degree: 100\n",
                        "eigen_index: 5, time: 0.66s\n",
                        "eigen_index: 6, iter: 0, alpha: 6165.824707031, beta: 12331.649414062, tol: inf, lambda: 12321.324218750, degree: 100\n",
                        "eigen_index: 6, iter: 1, alpha: 6165.824707031, beta: 12331.649414062, tol: 3.170316e-07, lambda: 12321.328125000, degree: 100\n",
                        "eigen_index: 6, time: 0.66s\n",
                        "eigen_index: 7, iter: 0, alpha: 6165.824707031, beta: 12331.649414062, tol: inf, lambda: 12321.326171875, degree: 100\n",
                        "eigen_index: 7, iter: 1, alpha: 6165.824707031, beta: 12331.649414062, tol: 7.925790e-08, lambda: 12321.327148438, degree: 100\n",
                        "eigen_index: 7, time: 0.66s\n",
                        "eigen_index: 8, iter: 0, alpha: 6165.824707031, beta: 12331.649414062, tol: inf, lambda: 12321.328125000, degree: 100\n",
                        "eigen_index: 8, iter: 1, alpha: 6165.824707031, beta: 12331.649414062, tol: 7.925790e-08, lambda: 12321.327148438, degree: 100\n",
                        "eigen_index: 8, time: 0.66s\n",
                        "eigen_index: 9, iter: 0, alpha: 6165.824707031, beta: 12331.649414062, tol: inf, lambda: 12321.327148438, degree: 100\n",
                        "eigen_index: 9, iter: 1, alpha: 6165.824707031, beta: 12331.649414062, tol: 1.585158e-07, lambda: 12321.325195312, degree: 100\n",
                        "eigen_index: 9, time: 0.66s\n",
                        "eigen_index: 10, iter: 0, alpha: 6165.824707031, beta: 12331.649414062, tol: inf, lambda: 12321.327148438, degree: 100\n",
                        "eigen_index: 10, iter: 1, alpha: 6165.824707031, beta: 12331.649414062, tol: 7.925791e-08, lambda: 12321.326171875, degree: 100\n",
                        "eigen_index: 10, time: 0.65s\n",
                        "eigen_index: 11, iter: 0, alpha: 6165.824707031, beta: 12331.649414062, tol: inf, lambda: 12321.326171875, degree: 100\n",
                        "eigen_index: 11, iter: 1, alpha: 6165.824707031, beta: 12331.649414062, tol: 0.000000e+00, lambda: 12321.326171875, degree: 100\n",
                        "eigen_index: 11, time: 0.68s\n",
                        "eigen_index: 12, iter: 0, alpha: 6165.824707031, beta: 12331.649414062, tol: inf, lambda: 12321.326171875, degree: 100\n",
                        "eigen_index: 12, iter: 1, alpha: 6165.824707031, beta: 12331.649414062, tol: 7.925790e-08, lambda: 12321.327148438, degree: 100\n",
                        "eigen_index: 12, time: 0.66s\n",
                        "eigen_index: 13, iter: 0, alpha: 6165.824707031, beta: 12331.649414062, tol: inf, lambda: 12321.326171875, degree: 100\n",
                        "eigen_index: 13, iter: 1, alpha: 6165.824707031, beta: 12331.649414062, tol: 0.000000e+00, lambda: 12321.326171875, degree: 100\n",
                        "eigen_index: 13, time: 0.68s\n",
                        "eigen_index: 14, iter: 0, alpha: 6165.824707031, beta: 12331.649414062, tol: inf, lambda: 12321.326171875, degree: 100\n",
                        "eigen_index: 14, iter: 1, alpha: 6165.824707031, beta: 12331.649414062, tol: 0.000000e+00, lambda: 12321.326171875, degree: 100\n",
                        "eigen_index: 14, time: 0.65s\n",
                        "eigen_index: 15, iter: 0, alpha: 6165.824707031, beta: 12331.649414062, tol: inf, lambda: 12321.326171875, degree: 100\n",
                        "eigen_index: 15, iter: 1, alpha: 6165.824707031, beta: 12331.649414062, tol: 7.925790e-08, lambda: 12321.327148438, degree: 100\n",
                        "eigen_index: 15, time: 0.66s\n",
                        "eigen_index: 16, iter: 0, alpha: 6165.824707031, beta: 12331.649414062, tol: inf, lambda: 12321.326171875, degree: 100\n",
                        "eigen_index: 16, iter: 1, alpha: 6165.824707031, beta: 12331.649414062, tol: 0.000000e+00, lambda: 12321.326171875, degree: 100\n",
                        "eigen_index: 16, time: 0.66s\n",
                        "eigen_index: 17, iter: 0, alpha: 6165.824707031, beta: 12331.649414062, tol: inf, lambda: 12321.328125000, degree: 100\n",
                        "eigen_index: 17, iter: 1, alpha: 6165.824707031, beta: 12331.649414062, tol: 7.925790e-08, lambda: 12321.327148438, degree: 100\n",
                        "eigen_index: 17, time: 0.66s\n",
                        "eigen_index: 18, iter: 0, alpha: 6165.824707031, beta: 12331.649414062, tol: inf, lambda: 12321.326171875, degree: 100\n",
                        "eigen_index: 18, iter: 1, alpha: 6165.824707031, beta: 12331.649414062, tol: 1.585158e-07, lambda: 12321.328125000, degree: 100\n",
                        "eigen_index: 18, time: 0.66s\n",
                        "eigen_index: 19, iter: 0, alpha: 6165.824707031, beta: 12331.649414062, tol: inf, lambda: 12321.328125000, degree: 100\n",
                        "eigen_index: 19, iter: 1, alpha: 6165.824707031, beta: 12331.649414062, tol: 1.585158e-07, lambda: 12321.326171875, degree: 100\n",
                        "eigen_index: 19, time: 0.66s\n",
                        "eigen_index: 20, iter: 0, alpha: 6165.824707031, beta: 12331.649414062, tol: inf, lambda: 12321.324218750, degree: 100\n",
                        "eigen_index: 20, iter: 1, alpha: 6165.824707031, beta: 12331.649414062, tol: 3.170316e-07, lambda: 12321.328125000, degree: 100\n",
                        "eigen_index: 20, time: 0.66s\n",
                        "eigen_index: 21, iter: 0, alpha: 6165.824707031, beta: 12331.649414062, tol: inf, lambda: 12321.328125000, degree: 100\n",
                        "eigen_index: 21, iter: 1, alpha: 6165.824707031, beta: 12331.649414062, tol: 7.925790e-08, lambda: 12321.327148438, degree: 100\n",
                        "eigen_index: 21, time: 0.65s\n",
                        "eigen_index: 22, iter: 0, alpha: 6165.824707031, beta: 12331.649414062, tol: inf, lambda: 12321.327148438, degree: 100\n",
                        "eigen_index: 22, iter: 1, alpha: 6165.824707031, beta: 12331.649414062, tol: 7.925789e-08, lambda: 12321.328125000, degree: 100\n",
                        "eigen_index: 22, time: 0.66s\n",
                        "eigen_index: 23, iter: 0, alpha: 6165.824707031, beta: 12331.649414062, tol: inf, lambda: 12321.328125000, degree: 100\n",
                        "eigen_index: 23, iter: 1, alpha: 6165.824707031, beta: 12331.649414062, tol: 1.585158e-07, lambda: 12321.326171875, degree: 100\n",
                        "eigen_index: 23, time: 0.66s\n"
                    ]
                }
            ],
            "source": [
                "eigenvalues, eigenvectors = eigen.solver(\n",
                "    n=n, k=params[define._LAT_E_], matvec=matvec, dtype=A.dtype)\n",
                "eigenvectors = io.eigenvectors2esctzyx(eigenvectors, params)"
            ]
        },
        {
            "cell_type": "markdown",
            "metadata": {},
            "source": [
                "# Run matvec(eigenvector[.]) ?= eigenvalue[.]*eigenvector[.] for eigen test. (pass, don't run this)"
            ]
        },
        {
            "cell_type": "code",
            "execution_count": 98,
            "metadata": {},
            "outputs": [
                {
                    "name": "stdout",
                    "output_type": "stream",
                    "text": [
                        "λ_0 = 1.35e+04+0.00e+00j\n",
                        "Relative error: 7.48e-06\n",
                        "Diff between λ_0 and λ_1: 1.41e+00\n",
                        "λ_1 = 1.23e+04+0.00e+00j\n",
                        "Relative error: 2.54e-03\n",
                        "Diff between λ_1 and λ_2: 1.97e+00\n",
                        "λ_2 = 1.23e+04+0.00e+00j\n",
                        "Relative error: 2.54e-03\n",
                        "Diff between λ_2 and λ_3: 1.56e+00\n",
                        "λ_3 = 1.23e+04+0.00e+00j\n",
                        "Relative error: 2.54e-03\n",
                        "Diff between λ_3 and λ_4: 2.00e+00\n",
                        "λ_4 = 1.23e+04+0.00e+00j\n",
                        "Relative error: 2.54e-03\n",
                        "Diff between λ_4 and λ_5: 1.40e+00\n",
                        "λ_5 = 1.23e+04+0.00e+00j\n",
                        "Relative error: 2.54e-03\n",
                        "Diff between λ_5 and λ_6: 4.72e-01\n",
                        "λ_6 = 1.23e+04+0.00e+00j\n",
                        "Relative error: 2.54e-03\n",
                        "Diff between λ_6 and λ_7: 1.45e+00\n",
                        "λ_7 = 1.23e+04+0.00e+00j\n",
                        "Relative error: 2.54e-03\n",
                        "Diff between λ_7 and λ_8: 1.93e+00\n",
                        "λ_8 = 1.23e+04+0.00e+00j\n",
                        "Relative error: 2.54e-03\n",
                        "Diff between λ_8 and λ_9: 6.81e-02\n",
                        "λ_9 = 1.23e+04+0.00e+00j\n",
                        "Relative error: 2.54e-03\n",
                        "Diff between λ_9 and λ_10: 2.52e-01\n",
                        "λ_10 = 1.23e+04+0.00e+00j\n",
                        "Relative error: 2.54e-03\n",
                        "Diff between λ_10 and λ_11: 1.77e+00\n",
                        "λ_11 = 1.23e+04+0.00e+00j\n",
                        "Relative error: 2.54e-03\n",
                        "Diff between λ_11 and λ_12: 1.95e+00\n",
                        "λ_12 = 1.23e+04+0.00e+00j\n",
                        "Relative error: 2.54e-03\n",
                        "Diff between λ_12 and λ_13: 1.86e+00\n",
                        "λ_13 = 1.23e+04+0.00e+00j\n",
                        "Relative error: 2.54e-03\n",
                        "Diff between λ_13 and λ_14: 1.70e+00\n",
                        "λ_14 = 1.23e+04+0.00e+00j\n",
                        "Relative error: 2.54e-03\n",
                        "Diff between λ_14 and λ_15: 8.32e-01\n",
                        "λ_15 = 1.23e+04+0.00e+00j\n",
                        "Relative error: 2.54e-03\n",
                        "Diff between λ_15 and λ_16: 1.36e+00\n",
                        "λ_16 = 1.23e+04+0.00e+00j\n",
                        "Relative error: 2.54e-03\n",
                        "Diff between λ_16 and λ_17: 2.02e-01\n",
                        "λ_17 = 1.23e+04+0.00e+00j\n",
                        "Relative error: 2.54e-03\n",
                        "Diff between λ_17 and λ_18: 7.13e-01\n",
                        "λ_18 = 1.23e+04+0.00e+00j\n",
                        "Relative error: 2.54e-03\n",
                        "Diff between λ_18 and λ_19: 1.25e+00\n",
                        "λ_19 = 1.23e+04+0.00e+00j\n",
                        "Relative error: 2.54e-03\n",
                        "Diff between λ_19 and λ_20: 1.93e+00\n",
                        "λ_20 = 1.23e+04+0.00e+00j\n",
                        "Relative error: 2.54e-03\n",
                        "Diff between λ_20 and λ_21: 7.22e-01\n",
                        "λ_21 = 1.23e+04+0.00e+00j\n",
                        "Relative error: 2.54e-03\n",
                        "Diff between λ_21 and λ_22: 5.89e-01\n",
                        "λ_22 = 1.23e+04+0.00e+00j\n",
                        "Relative error: 2.54e-03\n",
                        "Diff between λ_22 and λ_23: 2.54e-01\n",
                        "λ_23 = 1.23e+04+0.00e+00j\n",
                        "Relative error: 2.54e-03\n",
                        "Diff between λ_23 and λ_0: 1.41e+00\n"
                    ]
                }
            ],
            "source": [
                "for i, ev in enumerate(eigenvalues):\n",
                "    print(f\"λ_{i} = {ev:.2e}\")\n",
                "    # Verify eigenvector\n",
                "    v = eigenvectors[i]\n",
                "    w = cp.zeros_like(v)\n",
                "    w = matvec(v)\n",
                "    error = cp.linalg.norm(w - ev * v) / cp.linalg.norm(w)\n",
                "    print(f\"Relative error: {error:.2e}\")\n",
                "    j = i+1\n",
                "    if j == len(eigenvalues):\n",
                "        j = 0\n",
                "    print(\n",
                "        f\"Diff between λ_{i} and λ_{j}: {cp.linalg.norm(eigenvectors[i] - eigenvectors[j])/cp.linalg.norm(eigenvectors[i]):.2e}\")"
            ]
        },
        {
            "cell_type": "markdown",
            "metadata": {},
            "source": [
                "# Give guage's orth_eigenvectors to hdf5 files. (pass, don't run this)"
            ]
        },
        {
            "cell_type": "code",
            "execution_count": 99,
            "metadata": {},
            "outputs": [
                {
                    "data": {
                        "text/plain": [
                            "array([      8,       8,       4,       8, 1048576,       1,       1,\n",
                            "             1,       1,       0,       0,       1,       0,   10000,\n",
                            "             0,       0,       0,       2,       2,       2,       2],\n",
                            "      dtype=int32)"
                        ]
                    },
                    "execution_count": 99,
                    "metadata": {},
                    "output_type": "execute_result"
                }
            ],
            "source": [
                "params"
            ]
        },
        {
            "cell_type": "code",
            "execution_count": 100,
            "metadata": {},
            "outputs": [
                {
                    "name": "stdout",
                    "output_type": "stream",
                    "text": [
                        "Input Array Shape: (24, 4, 3, 8, 4, 8, 4)\n",
                        "Dest Shape: (24, 4, 3, 2, 4, 2, 2, 2, 4, 2, 2)\n",
                        "24 4 3 2 4 2 2 2 4 2 2\n",
                        "矩阵条件数: 93627.3046875\n",
                        "(6.498998e-05+0.0005486412j)\n",
                        "矩阵条件数: 1.000000238418579\n",
                        "(-2.188608e-08-2.561137e-09j)\n",
                        "矩阵条件数: 87661.3125\n",
                        "(0.0012322702-0.0024430056j)\n",
                        "矩阵条件数: 1.0000004768371582\n",
                        "(-3.0035153e-08-1.8626451e-09j)\n",
                        "矩阵条件数: 90922.3203125\n",
                        "(-0.00017779038+0.0004957713j)\n",
                        "矩阵条件数: 1.0000004768371582\n",
                        "(9.313226e-10-2.3283064e-10j)\n",
                        "矩阵条件数: 93629.6484375\n",
                        "(0.00038410607+0.0007837266j)\n",
                        "矩阵条件数: 1.0000004768371582\n",
                        "(8.381903e-09+4.656613e-10j)\n",
                        "矩阵条件数: 89215.3515625\n",
                        "(0.0018776364+0.00020112828j)\n",
                        "矩阵条件数: 1.000000238418579\n",
                        "(-1.5832484e-08+0j)\n",
                        "矩阵条件数: 91480.390625\n",
                        "(0.0013916817-0.004995555j)\n",
                        "矩阵条件数: 1.0000003576278687\n",
                        "(-1.8626451e-09-3.259629e-09j)\n",
                        "矩阵条件数: 88613.359375\n",
                        "(0.0004833568+4.0280393e-06j)\n",
                        "矩阵条件数: 1.0000003576278687\n",
                        "(4.656613e-10+1.3969839e-09j)\n",
                        "矩阵条件数: 91490.0234375\n",
                        "(0.0019504572-0.00028018386j)\n",
                        "矩阵条件数: 1.0000003576278687\n",
                        "(7.450581e-09+3.608875e-09j)\n",
                        "矩阵条件数: 90266.921875\n",
                        "(0.00019055343+0.00088627415j)\n",
                        "矩阵条件数: 1.0000004768371582\n",
                        "(-1.5832484e-08-2.2118911e-09j)\n",
                        "矩阵条件数: 89604.078125\n",
                        "(0.00073130697+0.0013150421j)\n",
                        "矩阵条件数: 1.0000003576278687\n",
                        "(-3.7252903e-09+2.3283064e-09j)\n",
                        "矩阵条件数: 90440.6796875\n",
                        "(0.00016694263+0.00044554964j)\n",
                        "矩阵条件数: 1.0000004768371582\n",
                        "(-2.7939677e-09-6.9849193e-10j)\n",
                        "矩阵条件数: 90263.5\n",
                        "(-0.0016884413-0.0032203316j)\n",
                        "矩阵条件数: 1.0000004768371582\n",
                        "(-1.8626451e-09-1.8626451e-09j)\n",
                        "矩阵条件数: 94260.0\n",
                        "(-0.0020932734+0.0005478948j)\n",
                        "矩阵条件数: 1.0000003576278687\n",
                        "(-1.3038516e-08-4.4237822e-09j)\n",
                        "矩阵条件数: 91330.140625\n",
                        "(-0.0011541068-0.002863126j)\n",
                        "矩阵条件数: 1.0000003576278687\n",
                        "(9.313226e-10+2.8230716e-09j)\n",
                        "矩阵条件数: 89689.0625\n",
                        "(-0.00015706185+0.0011266742j)\n",
                        "矩阵条件数: 1.000000238418579\n",
                        "(-3.8649887e-08+3.4924597e-10j)\n",
                        "矩阵条件数: 90303.015625\n",
                        "(0.00056539464-0.0010306744j)\n",
                        "矩阵条件数: 1.0000004768371582\n",
                        "(2.7008355e-08-1.1641532e-09j)\n"
                    ]
                }
            ],
            "source": [
                "_eigenvectors = io.xxxtzyx2mg_xxxtzyx(input_array=eigenvectors, params=params)\n",
                "_eigenvectors.shape  # escTtZzYyXx\n",
                "\n",
                "\n",
                "def orthogonalize(eigenvectors):\n",
                "    _eigenvectors = eigenvectors.copy()\n",
                "    size_e, size_s, size_c, size_T, size_t, size_Z, size_z, size_Y, size_y, size_X, size_x = eigenvectors.shape\n",
                "    print(size_e, size_s, size_c, size_T, size_t,\n",
                "          size_Z, size_z, size_Y, size_y, size_X, size_x)\n",
                "    for T in range(size_T):\n",
                "        for Z in range(size_Z):\n",
                "            for Y in range(size_Y):\n",
                "                for X in range(size_X):\n",
                "                    origin_matrix = eigenvectors[:,\n",
                "                                                 :, :, T, :, Z, :, Y, :, X, :]\n",
                "                    _shape = origin_matrix.shape\n",
                "                    _origin_matrix = origin_matrix.reshape(size_e, -1)\n",
                "                    condition_number = np.linalg.cond(_origin_matrix.get())\n",
                "                    print(f\"矩阵条件数: {condition_number}\")\n",
                "                    a = _origin_matrix[:, 0]\n",
                "                    b = _origin_matrix[:, -1]\n",
                "                    print(cp.dot(a.conj(), b))\n",
                "                    Q = cp.linalg.qr(_origin_matrix.T)[0]\n",
                "                    condition_number = np.linalg.cond(Q.get())\n",
                "                    print(f\"矩阵条件数: {condition_number}\")\n",
                "                    a = Q[:, 0]\n",
                "                    b = Q[:, -1]\n",
                "                    print(cp.dot(a.conj(), b))\n",
                "                    _eigenvectors[:, :, :, T, :, Z, :, Y, :, X, :] = Q.T.reshape(\n",
                "                        _shape)\n",
                "    return _eigenvectors\n",
                "\n",
                "\n",
                "orth_eigenvectors = orthogonalize(_eigenvectors)"
            ]
        },
        {
            "cell_type": "markdown",
            "metadata": {},
            "source": [
                "# MultiGrid - give grids."
            ]
        },
        {
            "cell_type": "code",
            "execution_count": 101,
            "metadata": {},
            "outputs": [
                {
                    "name": "stdout",
                    "output_type": "stream",
                    "text": [
                        "Input Array Shape: (4, 3, 8, 4, 8, 4)\n",
                        "Dest Shape: (4, 3, 2, 4, 2, 2, 2, 4, 2, 2)\n"
                    ]
                }
            ],
            "source": [
                "testvectors = orth_eigenvectors\n",
                "_src = io.xxxtzyx2mg_xxxtzyx(io.fermion2sctzyx(\n",
                "    cp.ones(n, dtype=A.dtype), params), params)"
            ]
        },
        {
            "cell_type": "code",
            "execution_count": 102,
            "metadata": {},
            "outputs": [
                {
                    "data": {
                        "text/plain": [
                            "(4, 3, 2, 4, 2, 2, 2, 4, 2, 2)"
                        ]
                    },
                    "execution_count": 102,
                    "metadata": {},
                    "output_type": "execute_result"
                }
            ],
            "source": [
                "_src.shape"
            ]
        },
        {
            "cell_type": "markdown",
            "metadata": {},
            "source": [
                "<!-- # MultiGrid - R*vector.\n",
                "![](./image0-dev40.png) -->"
            ]
        },
        {
            "cell_type": "code",
            "execution_count": 103,
            "metadata": {},
            "outputs": [],
            "source": [
                "r_src = _src\n",
                "\n",
                "\n",
                "def r_vec(src):\n",
                "    return contract(\"escTtZzYyXx,scTtZzYyXx->eTZYX\", testvectors, src)\n",
                "\n",
                "\n",
                "r_dest = r_vec(r_src)"
            ]
        },
        {
            "cell_type": "code",
            "execution_count": 104,
            "metadata": {},
            "outputs": [
                {
                    "data": {
                        "text/plain": [
                            "(24, 2, 2, 2, 2)"
                        ]
                    },
                    "execution_count": 104,
                    "metadata": {},
                    "output_type": "execute_result"
                }
            ],
            "source": [
                "r_dest.shape"
            ]
        },
        {
            "cell_type": "markdown",
            "metadata": {},
            "source": [
                "<!-- # MultiGrid - P*vector.\n",
                "![](./image1-dev40.png) -->\n"
            ]
        },
        {
            "cell_type": "code",
            "execution_count": 105,
            "metadata": {},
            "outputs": [],
            "source": [
                "p_src = r_dest\n",
                "\n",
                "\n",
                "def p_vec(src):\n",
                "    return contract(\"escTtZzYyXx,eTZYX->scTtZzYyXx\", cp.conj(testvectors), src)\n",
                "\n",
                "\n",
                "p_dest = p_vec(p_src)"
            ]
        },
        {
            "cell_type": "code",
            "execution_count": 106,
            "metadata": {},
            "outputs": [
                {
                    "data": {
                        "text/plain": [
                            "(4, 3, 2, 4, 2, 2, 2, 4, 2, 2)"
                        ]
                    },
                    "execution_count": 106,
                    "metadata": {},
                    "output_type": "execute_result"
                }
            ],
            "source": [
                "p_dest.shape"
            ]
        },
        {
            "cell_type": "markdown",
            "metadata": {},
            "source": [
                "<!-- # MultiGrid - verify above.\n",
                "![](./image2-dev40.png) -->"
            ]
        },
        {
            "cell_type": "code",
            "execution_count": 107,
            "metadata": {},
            "outputs": [
                {
                    "name": "stdout",
                    "output_type": "stream",
                    "text": [
                        "110.85125\n",
                        "110.79802\n"
                    ]
                }
            ],
            "source": [
                "print(cp.linalg.norm(r_src))\n",
                "print(cp.linalg.norm(p_dest))"
            ]
        },
        {
            "cell_type": "code",
            "execution_count": 108,
            "metadata": {},
            "outputs": [
                {
                    "name": "stdout",
                    "output_type": "stream",
                    "text": [
                        "0.030987112\n"
                    ]
                }
            ],
            "source": [
                "print(cp.linalg.norm(r_src-p_dest)/cp.linalg.norm(r_src))"
            ]
        },
        {
            "cell_type": "code",
            "execution_count": 109,
            "metadata": {},
            "outputs": [
                {
                    "name": "stdout",
                    "output_type": "stream",
                    "text": [
                        "0.030987112\n"
                    ]
                }
            ],
            "source": [
                "print(cp.linalg.norm(r_src-p_vec(r_vec(r_src)))/cp.linalg.norm(r_src))"
            ]
        },
        {
            "cell_type": "code",
            "execution_count": 110,
            "metadata": {},
            "outputs": [
                {
                    "data": {
                        "text/plain": [
                            "array([1.+0.j, 1.+0.j, 1.+0.j, 1.+0.j, 1.+0.j, 1.+0.j, 1.+0.j, 1.+0.j,\n",
                            "       1.+0.j, 1.+0.j, 1.+0.j, 1.+0.j, 1.+0.j, 1.+0.j, 1.+0.j, 1.+0.j,\n",
                            "       1.+0.j, 1.+0.j, 1.+0.j, 1.+0.j, 1.+0.j, 1.+0.j, 1.+0.j, 1.+0.j,\n",
                            "       1.+0.j, 1.+0.j, 1.+0.j, 1.+0.j, 1.+0.j, 1.+0.j, 1.+0.j, 1.+0.j,\n",
                            "       1.+0.j, 1.+0.j, 1.+0.j, 1.+0.j, 1.+0.j, 1.+0.j, 1.+0.j, 1.+0.j,\n",
                            "       1.+0.j, 1.+0.j, 1.+0.j, 1.+0.j, 1.+0.j, 1.+0.j, 1.+0.j, 1.+0.j,\n",
                            "       1.+0.j, 1.+0.j], dtype=complex64)"
                        ]
                    },
                    "execution_count": 110,
                    "metadata": {},
                    "output_type": "execute_result"
                }
            ],
            "source": [
                "r_src.flatten()[:50]"
            ]
        },
        {
            "cell_type": "code",
            "execution_count": 111,
            "metadata": {},
            "outputs": [
                {
                    "data": {
                        "text/plain": [
                            "array([1.0029211 -0.04422641j, 1.0492618 +0.00337351j,\n",
                            "       1.0254331 +0.02966752j, 0.9959664 -0.00024045j,\n",
                            "       1.0109321 -0.00957111j, 0.96688414-0.00106187j,\n",
                            "       0.9742395 +0.02075455j, 1.0383718 +0.02606378j,\n",
                            "       1.0121154 -0.00706885j, 1.0123215 +0.02512319j,\n",
                            "       1.0099604 -0.0018152j , 0.9943094 +0.01234987j,\n",
                            "       1.0275712 -0.00189825j, 0.9684179 -0.00100992j,\n",
                            "       1.0281025 +0.00345031j, 0.98409444-0.02159757j,\n",
                            "       0.96370393+0.00463179j, 1.0057769 +0.00320191j,\n",
                            "       0.9571289 -0.02385962j, 1.001062  -0.02123885j,\n",
                            "       1.0082954 +0.03938396j, 1.010008  +0.02224625j,\n",
                            "       0.97985625-0.00603013j, 0.98128134-0.01392784j,\n",
                            "       0.97778386+0.02059032j, 0.9983289 -0.0048799j ,\n",
                            "       1.0003128 -0.01196393j, 0.9823538 +0.04579271j,\n",
                            "       0.9972085 +0.03265612j, 0.99566   +0.0078535j ,\n",
                            "       1.0023263 -0.01307611j, 1.035683  -0.0106416j ,\n",
                            "       0.9510639 +0.00209002j, 1.0062172 -0.02300397j,\n",
                            "       1.0078493 +0.01626898j, 1.0202907 +0.02064342j,\n",
                            "       1.0048426 -0.04449882j, 1.0275639 +0.00842471j,\n",
                            "       0.9980101 -0.00262791j, 0.9958689 -0.02909374j,\n",
                            "       0.9839115 +0.00743404j, 1.0037513 +0.00919936j,\n",
                            "       0.9671863 +0.02786979j, 0.9674017 -0.00713094j,\n",
                            "       1.0088007 -0.01930544j, 0.9660826 -0.00857544j,\n",
                            "       0.9878437 +0.01733959j, 1.0099676 +0.00967899j,\n",
                            "       1.0228252 +0.01133647j, 1.0041405 -0.01699906j], dtype=complex64)"
                        ]
                    },
                    "execution_count": 111,
                    "metadata": {},
                    "output_type": "execute_result"
                }
            ],
            "source": [
                "p_dest.flatten()[:50]"
            ]
        },
        {
            "cell_type": "code",
            "execution_count": 112,
            "metadata": {},
            "outputs": [
                {
                    "data": {
                        "text/plain": [
                            "array(0.03098711, dtype=float32)"
                        ]
                    },
                    "execution_count": 112,
                    "metadata": {},
                    "output_type": "execute_result"
                }
            ],
            "source": [
                "cp.linalg.norm(r_src-p_dest)/cp.linalg.norm(r_src)"
            ]
        },
        {
            "cell_type": "code",
            "execution_count": 113,
            "metadata": {},
            "outputs": [
                {
                    "data": {
                        "text/plain": [
                            "array([1.0029235 -0.04422658j, 1.0492628 +0.00337346j,\n",
                            "       1.0254325 +0.02966752j, 0.9959657 -0.00024046j,\n",
                            "       1.0109326 -0.00957122j, 0.96688473-0.0010618j ,\n",
                            "       0.97423905+0.0207546j , 1.0383713 +0.02606381j,\n",
                            "       1.012116  -0.0070688j , 1.0123227 +0.02512308j,\n",
                            "       1.0099598 -0.00181518j, 0.994309  +0.01234985j,\n",
                            "       1.0275722 -0.00189833j, 0.96841896-0.00101005j,\n",
                            "       1.0281019 +0.00345036j, 0.984094  -0.0215975j ,\n",
                            "       0.9637039 +0.00463184j, 1.005777  +0.0032019j ,\n",
                            "       0.9571306 -0.02385959j, 1.0010636 -0.02123877j,\n",
                            "       1.0082957 +0.03938403j, 1.010008  +0.02224617j,\n",
                            "       0.9798576 -0.00603001j, 0.98128265-0.01392786j,\n",
                            "       0.97778386+0.02059011j, 0.9983291 -0.00487991j,\n",
                            "       1.0003139 -0.01196382j, 0.9823554 +0.04579278j,\n",
                            "       0.9972085 +0.03265619j, 0.99565995+0.00785352j,\n",
                            "       1.0023278 -0.01307627j, 1.0356843 -0.01064163j,\n",
                            "       0.95106465+0.0020902j , 1.0062184 -0.02300404j,\n",
                            "       1.0078489 +0.01626895j, 1.0202904 +0.02064345j,\n",
                            "       1.004844  -0.04449892j, 1.0275648 +0.00842504j,\n",
                            "       0.99800956-0.00262795j, 0.9958684 -0.02909369j,\n",
                            "       0.9839126 +0.00743406j, 1.0037522 +0.00919908j,\n",
                            "       0.9671859 +0.02786971j, 0.96740127-0.00713084j,\n",
                            "       1.0088017 -0.01930533j, 0.96608305-0.00857583j,\n",
                            "       0.9878432 +0.01733963j, 1.0099669 +0.00967898j,\n",
                            "       1.0228251 +0.01133639j, 1.0041406 -0.01699915j], dtype=complex64)"
                        ]
                    },
                    "execution_count": 113,
                    "metadata": {},
                    "output_type": "execute_result"
                }
            ],
            "source": [
                "p_vec(r_vec(p_vec(r_vec(p_vec(r_vec(p_vec(r_vec(r_src)))))))).flatten()[:50]"
            ]
        },
        {
            "cell_type": "code",
            "execution_count": 114,
            "metadata": {},
            "outputs": [
                {
                    "data": {
                        "text/plain": [
                            "array(0.03098711, dtype=float32)"
                        ]
                    },
                    "execution_count": 114,
                    "metadata": {},
                    "output_type": "execute_result"
                }
            ],
            "source": [
                "cp.linalg.norm(r_src-p_vec(r_vec(p_vec(r_vec(p_vec(r_vec(p_vec(r_vec(r_src))))))))\n",
                "               )/cp.linalg.norm(r_src)  # ???"
            ]
        },
        {
            "cell_type": "code",
            "execution_count": 115,
            "metadata": {},
            "outputs": [],
            "source": [
                "# _mat = contract(\"escTtZzYyXx,escTtZzYyXx->scTtZzYyXx\",\n",
                "#                 testvectors, cp.conj(testvectors)).flatten()\n",
                "# print(cp.linalg.norm(_mat))\n",
                "# print(_mat[:100])"
            ]
        },
        {
            "cell_type": "markdown",
            "metadata": {},
            "source": [
                "# MultiGrid - R*matvec\\*P."
            ]
        },
        {
            "cell_type": "code",
            "execution_count": 116,
            "metadata": {},
            "outputs": [],
            "source": [
                "def _r_matvec_p(src, matvec):\n",
                "    return r_vec(matvec(p_vec(io.xxx2eTZYX(src, params))))\n",
                "\n",
                "\n",
                "def r_matvec_p(src, matvec):\n",
                "    return io.array2xxx(_r_matvec_p(src, matvec))"
            ]
        },
        {
            "cell_type": "markdown",
            "metadata": {},
            "source": [
                "# MultiGrid - verify above."
            ]
        },
        {
            "cell_type": "code",
            "execution_count": 117,
            "metadata": {},
            "outputs": [],
            "source": [
                "D_r_src = matvec(r_src)"
            ]
        },
        {
            "cell_type": "code",
            "execution_count": 118,
            "metadata": {},
            "outputs": [
                {
                    "data": {
                        "text/plain": [
                            "array([13525.614 +51.138943j , 13583.947  -4.588804j ,\n",
                            "       13548.742 -39.923496j , 13512.052  -8.778692j ,\n",
                            "       13532.334  +4.2114744j, 13480.943  +4.652454j ,\n",
                            "       13484.333 -20.017454j , 13561.258 -25.284828j ,\n",
                            "       13534.023  +1.2555346j, 13534.026 -28.53246j  ,\n",
                            "       13532.782  +4.2668753j, 13507.11  -12.883554j ,\n",
                            "       13553.625  +6.029895j , 13484.212  +2.8756678j,\n",
                            "       13553.09   -4.635832j , 13497.422 +26.32704j  ,\n",
                            "       13470.243  -6.270824j , 13526.808  -1.9159756j,\n",
                            "       13467.607 +27.729565j , 13518.85  +18.462395j ,\n",
                            "       13528.192 -47.67793j  , 13532.38  -31.966732j ,\n",
                            "       13499.602  +7.874366j , 13500.487 +14.594929j ,\n",
                            "       13483.637 -21.05067j  , 13514.058 +10.918467j ,\n",
                            "       13516.571  +6.3392677j, 13498.871 -49.803234j ,\n",
                            "       13514.086 -37.47057j  , 13507.614 -11.730472j ,\n",
                            "       13521.812 +10.665878j , 13568.066  +2.172226j ,\n",
                            "       13456.82   -8.041367j , 13530.816 +30.60871j  ,\n",
                            "       13531.329 -22.532068j , 13543.28  -27.0723j   ,\n",
                            "       13524.869 +51.50757j  , 13553.5205-13.419054j ,\n",
                            "       13514.879  +5.458637j , 13516.39  +32.69787j  ,\n",
                            "       13500.923  -8.112638j , 13526.8125-19.265207j ,\n",
                            "       13472.44  -42.520054j , 13475.468  +4.290914j ,\n",
                            "       13532.78  +22.253845j , 13484.8545 +7.7530155j,\n",
                            "       13501.916 -24.502964j , 13531.279  -6.0096154j,\n",
                            "       13539.473 -17.890594j , 13528.297 +17.330317j ], dtype=complex64)"
                        ]
                    },
                    "execution_count": 118,
                    "metadata": {},
                    "output_type": "execute_result"
                }
            ],
            "source": [
                "D_r_src.flatten()[:50]"
            ]
        },
        {
            "cell_type": "code",
            "execution_count": 119,
            "metadata": {},
            "outputs": [
                {
                    "name": "stdout",
                    "output_type": "stream",
                    "text": [
                        "Input Array Shape: (24, 2, 2, 2, 2)\n",
                        "Dest Shape: (24, 2, 2, 2, 2)\n"
                    ]
                }
            ],
            "source": [
                "p_r_D_p_r_dest = p_vec(_r_matvec_p(r_dest, matvec=matvec))"
            ]
        },
        {
            "cell_type": "code",
            "execution_count": 120,
            "metadata": {},
            "outputs": [
                {
                    "data": {
                        "text/plain": [
                            "array([13561.351-609.2026j   , 14185.31  +46.03563j  ,\n",
                            "       13858.736+397.37634j  , 13464.096  -5.0390778j,\n",
                            "       13665.685-129.34029j  , 13074.423  -6.1583195j,\n",
                            "       13171.72 +280.82437j  , 14034.33 +354.1926j   ,\n",
                            "       13683.701 -98.89694j  , 13687.681+346.22906j  ,\n",
                            "       13651.487 -20.188673j , 13437.725+165.42598j  ,\n",
                            "       13890.799 -23.612625j , 13098.53  -13.75946j  ,\n",
                            "       13900.523 +53.170708j , 13301.632-294.76755j  ,\n",
                            "       13023.556 +63.433895j , 13590.285 +43.439693j ,\n",
                            "       12942.388-321.62238j  , 13535.248-291.70718j  ,\n",
                            "       13628.302+531.01526j  , 13647.746+294.26624j  ,\n",
                            "       13245.591 -82.04655j  , 13262.193-187.3691j   ,\n",
                            "       13207.511+275.586j    , 13489.073 -67.28671j  ,\n",
                            "       13521.109-161.3211j   , 13281.59 +623.2127j   ,\n",
                            "       13479.552+437.74686j  , 13459.414+103.25305j  ,\n",
                            "       13549.839-175.43552j  , 14003.306-145.58801j  ,\n",
                            "       12852.241 +22.628292j , 13607.764-312.35168j  ,\n",
                            "       13627.06 +216.44722j  , 13793.492+279.4859j   ,\n",
                            "       13573.238-612.5777j   , 13887.609+110.44919j  ,\n",
                            "       13490.431 -26.443794j , 13465.431-392.4583j   ,\n",
                            "       13304.25  +95.06288j  , 13571.325+122.37382j  ,\n",
                            "       13074.14 +378.84424j  , 13074.444-102.457726j ,\n",
                            "       13638.304-260.8565j   , 13063.335-113.71197j  ,\n",
                            "       13351.702+236.67603j  , 13650.628+141.22142j  ,\n",
                            "       13815.206+151.55829j  , 13577.433-240.66318j  ], dtype=complex64)"
                        ]
                    },
                    "execution_count": 120,
                    "metadata": {},
                    "output_type": "execute_result"
                }
            ],
            "source": [
                "p_r_D_p_r_dest.flatten()[:50]"
            ]
        },
        {
            "cell_type": "code",
            "execution_count": 121,
            "metadata": {},
            "outputs": [
                {
                    "data": {
                        "text/plain": [
                            "array(0.03107861, dtype=float32)"
                        ]
                    },
                    "execution_count": 121,
                    "metadata": {},
                    "output_type": "execute_result"
                }
            ],
            "source": [
                "cp.linalg.norm(D_r_src-p_r_D_p_r_dest)/cp.linalg.norm(D_r_src)"
            ]
        },
        {
            "cell_type": "markdown",
            "metadata": {},
            "source": [
                "# MultiGrid - CG (BUG!!!)"
            ]
        },
        {
            "cell_type": "code",
            "execution_count": 125,
            "metadata": {},
            "outputs": [
                {
                    "name": "stdout",
                    "output_type": "stream",
                    "text": [
                        "[1.+0.j 1.+0.j 1.+0.j ... 1.+0.j 1.+0.j 1.+0.j]\n"
                    ]
                }
            ],
            "source": [
                "b = r_src.flatten()\n",
                "print(b)"
            ]
        },
        {
            "cell_type": "code",
            "execution_count": 126,
            "metadata": {},
            "outputs": [
                {
                    "name": "stdout",
                    "output_type": "stream",
                    "text": [
                        "Iteration 0: Residual = 1.548605e+03, Time = 0.000431 s\n",
                        "Iteration 1: Residual = 3.674324e-01, Time = 0.000486 s\n",
                        "Iteration 2: Residual = 1.219477e-04, Time = 0.000391 s\n",
                        "Iteration 3: Residual = 1.271803e-09, Time = 0.000754 s\n",
                        "Converged at iteration 3 with residual 1.271803e-09\n",
                        "\n",
                        "Performance Statistics:\n",
                        "Total time: 0.016833 s\n",
                        "Average time per iteration: 0.000516 s\n",
                        "[7.3928444e-05-3.0772469e-07j 7.3579220e-05+2.9038402e-08j\n",
                        " 7.3789728e-05+2.3994161e-07j ... 7.3610303e-05-1.7673683e-07j\n",
                        " 7.4077027e-05+2.3668535e-07j 7.4016505e-05+4.2214591e-08j]\n",
                        "1.7421447e-05\n"
                    ]
                }
            ],
            "source": [
                "x = cg.slover(b=b, matvec=matvec,\n",
                "              tol=1e-5, max_iter=1000000)\n",
                "print(x)\n",
                "print(cp.linalg.norm(b-matvec(x))/cp.linalg.norm(b))"
            ]
        },
        {
            "cell_type": "code",
            "execution_count": 127,
            "metadata": {},
            "outputs": [
                {
                    "name": "stdout",
                    "output_type": "stream",
                    "text": [
                        "Iteration 0: Residual = 1.510119e+08, Time = 0.001031 s\n",
                        "Iteration 1: Residual = 1.067015e+00, Time = 0.000943 s\n",
                        "Iteration 2: Residual = 8.722468e-08, Time = 0.001166 s\n",
                        "Converged at iteration 2 with residual 8.722468e-08\n",
                        "\n",
                        "Performance Statistics:\n",
                        "Total time: 0.022789 s\n",
                        "Average time per iteration: 0.001047 s\n",
                        "[7.3929965e-05-3.0735094e-07j 7.3579475e-05+2.7462988e-08j\n",
                        " 7.3790303e-05+2.3977185e-07j ... 7.3610587e-05-1.7662802e-07j\n",
                        " 7.4076081e-05+2.3658636e-07j 7.4017546e-05+4.1518472e-08j]\n",
                        "1.7694832e-05\n"
                    ]
                }
            ],
            "source": [
                "x = bistabcg.slover(b=b, matvec=matvec,\n",
                "                    tol=1e-5, max_iter=1000000)\n",
                "print(x)\n",
                "print(cp.linalg.norm(b-matvec(x))/cp.linalg.norm(b))"
            ]
        },
        {
            "cell_type": "code",
            "execution_count": 128,
            "metadata": {},
            "outputs": [
                {
                    "name": "stdout",
                    "output_type": "stream",
                    "text": [
                        "[-2.76370354e+01+1.85634279e+00j -2.76366310e+01+1.85960412e+00j\n",
                        " -2.76373291e+01+1.84840429e+00j -2.76362362e+01+1.86809182e+00j\n",
                        " -2.76372337e+01+1.85425413e+00j -2.76368237e+01+1.85138071e+00j\n",
                        " -2.76364250e+01+1.85615802e+00j -2.76376534e+01+1.84096825e+00j\n",
                        " -2.76382523e+01+1.83374929e+00j -2.76387730e+01+1.83146691e+00j\n",
                        " -2.76392326e+01+1.83316517e+00j -2.76392593e+01+1.81448472e+00j\n",
                        " -2.76380272e+01+1.83026910e+00j -2.76368313e+01+1.85209405e+00j\n",
                        " -2.76371193e+01+1.84883261e+00j -2.76394882e+01+1.81558049e+00j\n",
                        "  1.13806129e-03-2.11866498e-02j -2.88379192e-03+3.41542810e-03j\n",
                        "  7.00849295e-03+9.30881500e-03j -4.43624556e-02+2.85775065e-02j\n",
                        "  1.63322389e-02+1.42837614e-02j -2.07075775e-02+3.19457501e-02j\n",
                        "  1.13123655e-02+1.56589001e-02j -2.44826972e-02+1.26793534e-02j\n",
                        " -1.43474340e-03-4.84739244e-03j  2.86423415e-02-3.23337317e-03j\n",
                        "  6.75889850e-03+8.15093517e-03j -4.91782874e-02+3.34555581e-02j\n",
                        " -8.03947449e-03-1.47098750e-02j -1.75133646e-02+8.34026933e-03j\n",
                        " -6.11889362e-03+2.74429694e-02j -1.16318464e-03+7.90292770e-03j\n",
                        "  1.95077062e-02+7.54344463e-03j -1.61326528e-02-1.46900415e-02j\n",
                        " -2.57480145e-02-8.03643465e-03j -5.38009405e-03+1.57693624e-02j\n",
                        " -3.59749496e-02+3.79784405e-03j -2.00647861e-02-2.33629271e-02j\n",
                        " -3.83506715e-03+6.94496930e-03j  6.98822737e-03-1.33985281e-03j\n",
                        " -2.89396495e-02+1.62138939e-02j -1.78575516e-02+7.45719671e-03j\n",
                        "  2.08441019e-02+1.63245946e-04j  1.37865543e-02-9.95434821e-03j\n",
                        "  3.32367420e-03+1.40212774e-02j -6.11728430e-03+8.70586634e-02j\n",
                        " -2.09853649e-02+2.92852819e-02j  2.53351331e-02-5.15340567e-02j\n",
                        "  4.20321226e-02+7.24622607e-03j -5.14484942e-03-2.48208046e-02j\n",
                        "  1.13509595e-02+7.53980875e-03j -5.59074432e-03-3.87513638e-02j\n",
                        " -4.29981202e-03+1.12565756e-02j  7.97139108e-03-2.51001120e-02j\n",
                        "  3.21006626e-02-2.72273719e-02j  1.80707127e-02-6.93300366e-03j\n",
                        "  3.16216350e-02+1.67031959e-02j -1.82736889e-02-3.21846455e-02j\n",
                        "  3.59562039e-03+8.03381205e-03j -4.71274257e-02-3.32764685e-02j\n",
                        " -8.18520784e-05+4.70516980e-02j  8.67694616e-05-1.56094432e-02j\n",
                        "  2.08680741e-02+1.77109241e-03j -9.14570689e-03+2.70226598e-03j\n",
                        "  1.96441635e-03-4.20327187e-02j  2.80449018e-02+2.60788798e-02j\n",
                        "  1.48697346e-02+9.20850039e-03j  3.33163142e-03+9.10341740e-04j\n",
                        "  5.81740215e-03-1.72853470e-02j  1.72721110e-02+5.64467907e-03j\n",
                        "  1.88668370e-02-5.82959056e-02j  1.84532478e-02+3.73953581e-02j\n",
                        "  1.74803063e-02+1.11187920e-02j -2.23764591e-02-2.53731608e-02j\n",
                        "  1.60209648e-02-8.47589970e-03j -2.49026828e-02-2.44429708e-03j\n",
                        " -3.32621634e-02+8.87191296e-03j -1.91599224e-02-9.62975621e-03j\n",
                        " -1.32816359e-02+4.03922796e-03j  7.64071941e-03-1.64091587e-04j\n",
                        "  1.34982467e-02+2.08707526e-03j -2.12923586e-02+2.20068470e-02j\n",
                        " -2.83032656e-02-3.15882713e-02j  1.74742937e-02+5.67898527e-03j\n",
                        " -5.04016876e-03+1.83782056e-02j -2.80845165e-02+1.47649609e-02j\n",
                        "  3.13352048e-02-9.33242962e-03j -2.76524127e-02+1.75614990e-02j\n",
                        " -2.41500139e-02-8.76644254e-03j  8.19116831e-03-2.00305283e-02j\n",
                        "  3.02876532e-03+7.77617097e-04j  5.84852695e-03-3.90866697e-02j\n",
                        "  2.01496482e-02-1.08876936e-02j -3.65346819e-02-3.41809466e-02j\n",
                        " -1.33972764e-02-8.99493694e-04j -2.40252316e-02-1.54525414e-02j\n",
                        "  2.66758204e-02+1.58358812e-02j  1.72491670e-02-2.53718197e-02j\n",
                        "  3.76954675e-03+1.31741464e-02j -4.44722176e-03+3.83764505e-03j\n",
                        " -1.84841380e-02-4.50263917e-03j  3.20994854e-03-1.92691386e-03j\n",
                        " -2.21879482e-02+2.42558718e-02j -3.07911634e-03-1.12634599e-02j\n",
                        "  1.33637786e-02-3.75495851e-03j -3.81854177e-03+2.97378004e-02j\n",
                        " -3.76530290e-02-1.15778372e-02j -2.55016387e-02+5.11556864e-03j\n",
                        " -1.21123195e-02+6.51000440e-03j -4.69484329e-02+1.18836612e-02j\n",
                        " -8.48186016e-03+9.16628540e-03j  3.64805758e-02-3.48128378e-04j\n",
                        "  1.06540918e-02+3.72952223e-03j -6.02102280e-03-7.14336336e-03j\n",
                        "  1.98469162e-02-8.26790929e-03j  3.34202647e-02-6.13182783e-03j\n",
                        " -8.10551643e-03-3.32293957e-02j  7.03576952e-03-8.31466913e-03j\n",
                        " -2.50614658e-02-2.41464972e-02j  4.03552055e-02-2.13114023e-02j\n",
                        "  1.02540404e-02+4.29281592e-03j  8.26871395e-03+6.48542494e-03j\n",
                        " -1.23618245e-02-3.71617973e-02j  9.57116485e-04+1.67894065e-02j\n",
                        "  5.25616109e-03-2.62913704e-02j -2.60074437e-03-5.43165207e-03j\n",
                        "  1.93387270e-02+2.54852772e-02j  3.97418141e-02-9.50306654e-03j\n",
                        " -1.08110011e-02-8.84549320e-03j -3.00529003e-02+1.14947110e-02j\n",
                        " -3.25420201e-02+1.02021694e-02j -1.70341134e-03-5.47330081e-02j\n",
                        " -1.67165399e-02-2.74557620e-03j -5.54378331e-03-2.95905024e-02j\n",
                        "  1.51337981e-02+3.32332179e-02j  1.46894157e-02-1.37836486e-02j\n",
                        " -1.13469213e-02-1.45908371e-02j -1.19550824e-02-1.41486824e-02j\n",
                        "  8.35561752e-03+2.89517343e-02j -8.31326842e-03-8.77747685e-03j\n",
                        "  2.12019756e-02-4.08973992e-02j  2.30172873e-02-1.10578537e-03j\n",
                        " -2.20686197e-03+8.43267664e-02j -6.73651695e-03-6.51097298e-03j\n",
                        "  2.83237696e-02+4.70959097e-02j  2.47821063e-02+2.90998816e-03j\n",
                        " -2.08637416e-02+2.72108465e-02j -9.59634781e-04+6.42549992e-03j\n",
                        "  4.00283337e-02-8.93790275e-03j -2.60528028e-02+5.74167520e-02j\n",
                        " -2.61883438e-03-2.34990939e-02j -4.87559736e-02+2.20562816e-02j\n",
                        " -1.42993927e-02-1.56842656e-02j -2.25390196e-02+3.64769995e-03j\n",
                        " -1.27130151e-02-5.25608659e-03j -1.64576918e-02-1.55568123e-04j\n",
                        " -5.56561351e-03-1.19770169e-02j -2.04925835e-02+1.60643756e-02j\n",
                        "  3.39378119e-02+2.26034671e-02j  4.93238419e-02-1.58228278e-02j\n",
                        "  7.80603290e-03-1.50138140e-02j -9.06455517e-03-1.50084496e-02j\n",
                        " -1.19215250e-02-6.52486086e-03j -3.29560786e-02+3.03588808e-02j\n",
                        "  2.51612067e-02+2.09442973e-02j -3.67193222e-02-3.47222388e-02j\n",
                        " -3.63469124e-02+8.54007900e-03j -2.08709687e-02+1.71116833e-02j\n",
                        "  5.06496429e-03+5.00879362e-02j  1.00667477e-02-9.68825817e-03j\n",
                        " -9.07510519e-04+3.20361257e-02j  2.60885954e-02-8.80756974e-03j\n",
                        " -1.48641914e-02-3.56226638e-02j  5.42048365e-03+4.29064780e-03j\n",
                        " -7.08355010e-03+2.12126076e-02j  3.00539136e-02-4.34132367e-02j\n",
                        " -1.82065219e-02-2.29449272e-02j  3.76240909e-02-4.76806834e-02j\n",
                        " -1.49791688e-03+9.19908285e-03j -2.73840278e-02+3.56201828e-03j\n",
                        " -9.47421789e-03-1.08717531e-02j  1.82769001e-02+2.54784524e-02j\n",
                        " -1.53203011e-02+4.38085794e-02j  7.38871098e-03+2.99566090e-02j\n",
                        " -4.30380702e-02-1.08667240e-02j -1.70341134e-02+1.20770931e-03j\n",
                        "  1.31909251e-02-9.97439027e-03j  9.16605443e-03-3.19578797e-02j\n",
                        " -4.36876118e-02-3.13205719e-02j -6.93138689e-03-3.23852897e-02j\n",
                        "  3.71388793e-02-3.64779830e-02j  2.41863728e-02+4.55490947e-02j\n",
                        " -3.73871028e-02-4.64215130e-02j -4.78774905e-02+9.71505791e-03j\n",
                        "  1.86327100e-02-1.04281902e-02j  3.91067564e-03+9.27737355e-03j\n",
                        " -3.80287766e-02+6.44899905e-03j -2.58378983e-02-2.70417333e-03j\n",
                        " -2.91281939e-03+3.46869230e-04j -1.87101066e-02+2.02448666e-02j\n",
                        " -3.51073742e-02-1.25109106e-02j -1.33157820e-02+1.86540186e-02j\n",
                        "  7.71707296e-03+2.66175866e-02j  4.04389724e-02+3.20100188e-02j\n",
                        "  8.07726383e-03+2.01704651e-02j  6.02820218e-02+2.38656998e-04j\n",
                        " -1.71108544e-03+2.18286216e-02j  1.79027915e-02+1.56459808e-02j\n",
                        " -9.19017196e-03+1.28374398e-02j  1.42760277e-02-1.06039196e-02j\n",
                        "  1.22857094e-02+9.97318327e-03j -5.99702001e-02-2.48279050e-02j\n",
                        " -1.20924711e-02-4.55078483e-03j  1.65923685e-02-3.05123627e-02j\n",
                        " -1.86207592e-02+3.57794836e-02j -1.27494484e-02-5.92150539e-03j\n",
                        "  3.29285562e-02+1.16386302e-02j -1.36831403e-02+2.27575004e-02j\n",
                        "  1.67192779e-02-3.30568254e-02j  2.00099051e-02-5.68997860e-03j\n",
                        " -9.69189405e-03-1.98165476e-02j  4.16626334e-02+6.90791011e-03j\n",
                        " -1.48448944e-02-2.49119997e-02j -3.73473763e-03+1.43432617e-03j\n",
                        "  9.29036736e-03-3.12351882e-02j  2.99073160e-02-2.93481350e-03j\n",
                        " -2.50462145e-02-3.60807776e-03j -3.40022147e-03-9.91570950e-03j\n",
                        " -1.62685812e-02+3.29958200e-02j -1.50203630e-02-2.95486450e-02j\n",
                        "  3.47529054e-02+3.60560417e-03j -1.07146502e-02-1.05850697e-02j\n",
                        " -1.59659982e-03+4.18871045e-02j -5.89518696e-02+1.98215246e-03j\n",
                        "  4.61962074e-02-8.16400349e-03j -2.23066211e-02+2.30297446e-03j\n",
                        "  4.55334783e-04-2.64728665e-02j -8.58525932e-03-1.14100277e-02j\n",
                        " -1.05697140e-02-4.57038134e-02j  1.69207305e-02-1.16783530e-02j\n",
                        "  3.22416872e-02-2.96497345e-02j  1.67869478e-02-2.94193625e-02j\n",
                        "  2.46469676e-02-2.59017944e-02j  2.94222683e-03-3.71906012e-02j\n",
                        " -6.93443418e-03-2.92103291e-02j  3.24409306e-02-2.94505507e-02j\n",
                        "  2.38291323e-02-1.97137296e-02j -5.80924749e-03-2.86940336e-02j\n",
                        " -5.11403978e-02-4.03364003e-03j -1.13743395e-02-3.34101915e-02j\n",
                        " -1.60362720e-02+5.33441007e-02j -1.63480043e-02-2.56910920e-02j\n",
                        " -2.58559547e-02+2.91791409e-02j -2.81074643e-02+5.72637618e-02j\n",
                        " -1.12494007e-02-7.22611696e-03j  5.65885976e-02+1.52862072e-03j\n",
                        " -1.20235234e-02+3.25997919e-02j -2.41109729e-03-1.55285150e-02j\n",
                        "  1.47209167e-02+2.08808482e-03j  1.61154866e-02-2.96517611e-02j\n",
                        "  1.32464767e-02-2.99799740e-02j -6.88457489e-03+8.22645426e-03j\n",
                        " -2.14531422e-02+2.88057253e-02j -2.46083438e-02+2.23854184e-02j\n",
                        "  1.60619020e-02-1.31147057e-02j -1.02822781e-02-3.22230309e-02j\n",
                        "  1.05307251e-02+4.24110889e-03j -3.48212421e-02+8.68165493e-03j\n",
                        " -1.73044652e-02-6.17124736e-02j  1.25793815e-02-3.92104834e-02j\n",
                        " -6.02138042e-03-2.27709562e-02j  2.76712775e-02-4.93820608e-02j\n",
                        " -1.85066760e-02-6.44858181e-03j  5.69505133e-02-3.55762839e-02j\n",
                        "  4.12069261e-03-3.91991735e-02j  2.20868438e-02+1.15966797e-02j\n",
                        " -2.94527411e-03-4.24399972e-03j  2.17886344e-02+4.83435243e-02j\n",
                        "  1.22582912e-03+1.46122128e-02j  7.89886713e-03-2.16821879e-02j\n",
                        " -1.42716169e-02+8.18887353e-03j -1.01965666e-02+1.10968351e-02j\n",
                        "  1.39468908e-02+6.25005364e-03j  1.20420456e-02-7.39634037e-03j\n",
                        " -1.21614039e-02-2.67980993e-02j -1.54048204e-03-1.87380910e-02j\n",
                        " -3.30543518e-02+3.75782549e-02j -7.52538443e-04+1.22639239e-02j\n",
                        " -1.92257166e-02+5.59257716e-03j  3.33060324e-03-1.63592696e-02j\n",
                        " -1.67213976e-02+2.29913369e-02j -6.76563382e-03-1.55953020e-02j\n",
                        "  4.04548645e-02-1.37084424e-02j  2.51335502e-02+1.94277838e-02j\n",
                        " -4.12555039e-03+2.42991298e-02j -2.12706327e-02+2.57745236e-02j\n",
                        "  5.75661659e-03+1.46396756e-02j -2.43848711e-02+2.94118654e-02j\n",
                        " -9.97841358e-04-1.10365450e-03j -4.65360731e-02+2.31263340e-02j\n",
                        " -8.99022818e-03+3.15878987e-02j  2.46144533e-02-9.13556293e-03j\n",
                        " -1.03073865e-02-3.25510353e-02j -1.51668191e-02-1.80572048e-02j\n",
                        " -1.62786227e-02-8.20542872e-03j -4.19367701e-02+3.38076949e-02j\n",
                        " -2.05180608e-02+1.63574219e-02j  2.75584161e-02-1.66958272e-02j\n",
                        " -3.39761972e-02-1.19761825e-02j -5.40421456e-02+1.58229172e-02j\n",
                        "  1.31266266e-02-2.98770666e-02j  8.36738944e-03-5.28512895e-03j\n",
                        " -7.14309514e-03+1.19337142e-02j -1.64643899e-02-2.70736217e-03j\n",
                        "  6.98143244e-03+1.27261877e-02j -1.26176029e-02-6.27289861e-02j\n",
                        "  1.66729242e-02-1.56749114e-02j  3.45472544e-02+3.59496474e-03j\n",
                        " -1.88643336e-02+5.78808784e-03j  2.73882933e-02+5.35503030e-03j\n",
                        " -1.94119215e-02+6.83736801e-03j -2.31296122e-02+1.32841468e-02j\n",
                        "  1.01794749e-02-4.42647934e-03j -3.61504257e-02-1.94962323e-02j\n",
                        " -2.80451775e-03+2.89272964e-02j  1.71819925e-02+2.97011733e-02j\n",
                        "  1.11614019e-02+9.54881310e-04j  1.55086815e-03-6.07620180e-03j\n",
                        "  1.64564848e-02-4.97016907e-02j -4.94779050e-02+1.73511803e-02j\n",
                        "  1.37899816e-02-1.91153586e-02j  2.81096995e-02-4.53619659e-03j\n",
                        " -1.05312467e-02+7.61042535e-03j -3.17573249e-02-7.60796666e-03j\n",
                        " -1.40787959e-02-1.90737247e-02j  1.31153464e-02-7.08671659e-03j\n",
                        " -5.05781174e-03-1.41364932e-02j  2.41636634e-02+3.02272141e-02j\n",
                        " -2.01769620e-02+8.50744545e-03j -8.95035267e-03-7.91415572e-03j\n",
                        " -3.70211899e-03+2.41692364e-03j -2.61994600e-02+2.49099731e-03j\n",
                        " -2.59627700e-02-1.58493370e-02j  1.90543532e-02-2.98176706e-02j\n",
                        " -8.23181868e-03-1.43189617e-02j -1.36173069e-02+4.27264422e-02j\n",
                        " -1.19015574e-04-4.67688143e-02j -1.63179636e-03-7.44029880e-03j\n",
                        "  5.60490787e-03+2.01930553e-02j -2.18578279e-02-3.79035771e-02j\n",
                        "  3.81538570e-02+1.13559216e-02j  2.81400084e-02+2.83157416e-02j\n",
                        " -1.69330239e-02-3.50117683e-03j  3.57885957e-02+2.84894705e-02j\n",
                        " -9.33161378e-03-2.47589499e-03j  6.71967864e-03-3.57701331e-02j\n",
                        " -4.01750207e-02+1.79607868e-02j -3.49390507e-02-1.26934499e-02j\n",
                        " -4.84943390e-04+2.13965103e-02j -8.86109471e-03-2.50581279e-02j\n",
                        "  1.30571127e-02+1.38557702e-03j  9.74823534e-03+2.01261789e-02j\n",
                        "  4.62458432e-02-3.43260169e-03j -1.38292015e-02+5.14534861e-03j\n",
                        " -5.19816130e-02-5.12075126e-02j  2.02372670e-03+8.92907381e-04j\n",
                        " -1.60658956e-02-1.87098533e-02j -6.59084320e-03-3.62516046e-02j\n",
                        " -1.72661766e-02-1.49115585e-02j -4.75830436e-02-8.72880220e-04j\n",
                        "  4.15572524e-02-3.47398221e-03j -6.93708658e-03+3.87618542e-02j\n",
                        "  1.65741444e-02-6.41527772e-03j -7.63708353e-03-1.60602108e-02j\n",
                        "  6.56200945e-03-4.64233384e-03j -3.12921107e-02-1.91886723e-03j\n",
                        " -4.91858125e-02+3.78368795e-03j  1.09735355e-02+6.57895207e-03j\n",
                        "  4.14215922e-02+3.01929973e-02j -2.71067023e-03+2.55929008e-02j\n",
                        "  5.05024195e-02+1.01748109e-03j  1.00913048e-02+1.54633969e-02j\n",
                        " -3.84830832e-02+3.61537188e-03j  2.22318321e-02-1.55819952e-02j]\n"
                    ]
                }
            ],
            "source": [
                "mg_b = r_dest.flatten()\n",
                "print(mg_b)"
            ]
        },
        {
            "cell_type": "code",
            "execution_count": 129,
            "metadata": {},
            "outputs": [
                {
                    "name": "stdout",
                    "output_type": "stream",
                    "text": [
                        "Input Array Shape: (384,)\n",
                        "Dest Shape: (24, 2, 2, 2, 2)\n",
                        "Input Array Shape: (384,)\n",
                        "Dest Shape: (24, 2, 2, 2, 2)\n",
                        "Iteration 0: Residual = 3.070158e+03, Time = 0.001096 s\n",
                        "Input Array Shape: (384,)\n",
                        "Dest Shape: (24, 2, 2, 2, 2)\n",
                        "Iteration 1: Residual = 3.847058e-01, Time = 0.001343 s\n",
                        "Input Array Shape: (384,)\n",
                        "Dest Shape: (24, 2, 2, 2, 2)\n",
                        "Iteration 2: Residual = 1.241405e-07, Time = 0.001261 s\n",
                        "Converged at iteration 2 with residual 1.241405e-07\n",
                        "\n",
                        "Performance Statistics:\n",
                        "Total time: 0.013567 s\n",
                        "Average time per iteration: 0.001233 s\n",
                        "[-2.0443527e-03+1.37222945e-04j -2.0446451e-03+1.37464260e-04j\n",
                        " -2.0450400e-03+1.36740302e-04j -2.0446628e-03+1.38032847e-04j\n",
                        " -2.0448694e-03+1.37119263e-04j -2.0449078e-03+1.36932227e-04j\n",
                        " -2.0447888e-03+1.37239287e-04j -2.0446496e-03+1.36185088e-04j\n",
                        " -2.0448170e-03+1.35752009e-04j -2.0452156e-03+1.35608250e-04j\n",
                        " -2.0449981e-03+1.35708018e-04j -2.0453406e-03+1.34493283e-04j\n",
                        " -2.0451404e-03+1.35549693e-04j -2.0446447e-03+1.36940347e-04j\n",
                        " -2.0445697e-03+1.36746006e-04j -2.0451748e-03+1.34546426e-04j\n",
                        "  2.8133260e-07-1.74482409e-06j -2.2770473e-07+3.22756250e-07j\n",
                        "  5.5021803e-07+5.22373170e-07j -3.4050158e-06+2.14859529e-06j\n",
                        "  1.2114170e-06+9.84180133e-07j -1.4840580e-06+2.13973021e-06j\n",
                        "  8.1267274e-07+1.13866679e-06j -1.7002230e-06+7.67970221e-07j\n",
                        "  8.2808924e-08-4.37935796e-07j  2.2377442e-06-3.76640031e-07j\n",
                        "  7.8458970e-07+7.63792059e-07j -3.6192846e-06+2.62405865e-06j\n",
                        " -3.3467717e-07-1.21029052e-06j -1.6545171e-06+7.89976639e-07j\n",
                        " -3.2677883e-07+1.90834953e-06j -1.2916223e-07+6.81480287e-07j\n",
                        "  1.4676834e-06+4.38726033e-07j -1.3181980e-06-1.05524896e-06j\n",
                        " -1.9770528e-06-5.38176664e-07j -3.7803107e-07+9.89206228e-07j\n",
                        " -2.8507795e-06+2.81835355e-07j -1.7373138e-06-1.58050420e-06j\n",
                        " -3.5495896e-07+3.86541075e-07j  6.6218035e-07-6.38052597e-08j\n",
                        " -2.2325098e-06+1.02978584e-06j -1.0620386e-06+5.16709690e-07j\n",
                        "  1.6724244e-06+1.21841140e-07j  9.4481197e-07-6.28778821e-07j\n",
                        "  3.9568695e-07+9.94646598e-07j -2.9004423e-07+6.15776889e-06j\n",
                        " -1.4262166e-06+1.87416822e-06j  1.8965945e-06-3.38486916e-06j\n",
                        "  2.7737156e-06+5.58973397e-07j -2.9944238e-07-2.04387879e-06j\n",
                        "  7.5316979e-07+7.16790964e-07j -3.9794659e-07-2.94472784e-06j\n",
                        " -2.1605518e-07+8.64712092e-07j  4.4298400e-07-2.04335515e-06j\n",
                        "  2.0717616e-06-2.24372661e-06j  1.2501705e-06-6.81718348e-07j\n",
                        "  2.2712723e-06+1.46548814e-06j -1.2749028e-06-2.45835736e-06j\n",
                        "  3.3560673e-07+7.74465263e-07j -3.0953802e-06-2.67674613e-06j\n",
                        "  6.9820771e-08+3.75684522e-06j -2.1928827e-07-1.03512684e-06j\n",
                        "  1.3217661e-06+3.17845320e-07j -6.7519329e-07+3.50922846e-08j\n",
                        "  1.7263130e-07-3.43954594e-06j  1.8688493e-06+2.09316727e-06j\n",
                        "  9.5988366e-07+6.77150922e-07j  2.9513785e-07-9.54006936e-08j\n",
                        "  3.6704728e-07-1.36797735e-06j  1.1777870e-06+5.37440656e-07j\n",
                        "  1.2205223e-06-4.77482808e-06j  1.2492677e-06+3.09822121e-06j\n",
                        "  1.1656963e-06+9.82814868e-07j -1.4754419e-06-1.91026470e-06j\n",
                        "  1.1693198e-06-6.16348871e-07j -1.6436820e-06-1.74580009e-07j\n",
                        " -2.1856879e-06+5.94610412e-07j -1.2172131e-06-9.73269721e-07j\n",
                        " -1.0149259e-06+2.95669906e-07j  4.7427466e-07-1.70977046e-08j\n",
                        "  1.1292323e-06+1.31603429e-07j -1.8047868e-06+1.50778669e-06j\n",
                        " -2.3933853e-06-2.10031408e-06j  1.3157497e-06+3.41355872e-07j\n",
                        " -3.6226066e-07+1.26729458e-06j -2.2900551e-06+1.04127594e-06j\n",
                        "  2.6564185e-06-5.97871406e-07j -2.2185498e-06+1.18745970e-06j\n",
                        " -1.8834066e-06-6.38861366e-07j  7.7743380e-07-1.34641323e-06j\n",
                        "  3.0347792e-07-4.85961209e-08j  5.4547144e-07-2.68071517e-06j\n",
                        "  1.7245495e-06-6.18212425e-07j -2.8935392e-06-2.21944583e-06j\n",
                        " -1.1509582e-06-4.00618205e-09j -1.9954082e-06-1.11448730e-06j\n",
                        "  1.9404911e-06+1.18694754e-06j  1.3414353e-06-1.92802895e-06j\n",
                        "  1.3613877e-07+6.99703662e-07j -2.5918234e-07+3.65010067e-07j\n",
                        " -1.4481200e-06-3.27180146e-07j  4.5286970e-07-2.72461989e-07j\n",
                        " -1.6790974e-06+1.44502360e-06j -2.7224701e-08-8.99879979e-07j\n",
                        "  8.1626922e-07-1.54362510e-07j -9.9258159e-08+1.89164530e-06j\n",
                        " -2.9217235e-06-8.44578835e-07j -1.8677119e-06+4.11866552e-07j\n",
                        " -9.9975978e-07+4.49632921e-07j -3.4063057e-06+8.03248895e-07j\n",
                        " -6.0818684e-07+6.11448627e-07j  2.7665378e-06+9.85732527e-08j\n",
                        "  1.0681280e-06+7.95439519e-08j -2.7556473e-07-4.70789132e-07j\n",
                        "  1.4684697e-06-6.94794153e-07j  2.4453525e-06-8.74597049e-07j\n",
                        " -6.2263121e-07-2.71645763e-06j  4.2791828e-07-4.72386091e-07j\n",
                        " -1.7787886e-06-1.85661133e-06j  2.9598450e-06-1.81040014e-06j\n",
                        "  9.4694252e-07+2.02426293e-07j  4.7410867e-07+3.32162017e-07j\n",
                        " -7.5736966e-07-2.84290377e-06j  2.2731953e-07+1.21066068e-06j\n",
                        "  7.0870806e-07-1.92953212e-06j -2.7488244e-07-4.29327599e-07j\n",
                        "  1.4202894e-06+1.95326174e-06j  2.8470672e-06-7.15969179e-07j\n",
                        " -9.3743347e-07-6.14185865e-07j -2.3379205e-06+5.31662693e-07j\n",
                        " -2.7052326e-06+5.70263182e-07j -2.2068036e-07-3.76170647e-06j\n",
                        " -1.4121131e-06-1.23716461e-07j -2.5925817e-07-2.11627776e-06j\n",
                        "  1.0437913e-06+2.42378292e-06j  1.2648972e-06-1.09173016e-06j\n",
                        " -7.5529829e-07-1.10708925e-06j -1.2633232e-06-1.15616660e-06j\n",
                        "  7.4373997e-07+1.98014982e-06j -8.7558919e-07-6.39647624e-07j\n",
                        "  1.8138654e-06-3.03790716e-06j  1.8258011e-06+2.85974693e-08j\n",
                        " -2.0689936e-07+5.77645915e-06j -5.9376839e-07-4.21180118e-07j\n",
                        "  2.2768331e-06+3.49717743e-06j  2.0002599e-06+2.77949596e-07j\n",
                        " -1.7767096e-06+1.89196726e-06j -2.5312397e-07+5.05598791e-07j\n",
                        "  3.1785057e-06-6.67651875e-07j -1.9926752e-06+4.13045609e-06j\n",
                        " -1.1458678e-07-1.57969941e-06j -3.6168806e-06+1.42346698e-06j\n",
                        " -9.9520412e-07-1.05261813e-06j -1.7656448e-06+2.11688942e-07j\n",
                        " -9.3570702e-07-3.91701064e-07j -1.3638721e-06+3.56643795e-07j\n",
                        " -4.4219883e-07-8.72536475e-07j -1.5057497e-06+1.36008680e-06j\n",
                        "  2.8246350e-06+1.59234230e-06j  3.7841805e-06-1.11436896e-06j\n",
                        "  7.5644448e-07-1.07789936e-06j -8.8469619e-07-9.93386948e-07j\n",
                        " -7.3413923e-07-4.36885102e-07j -3.0021076e-06+1.93216715e-06j\n",
                        "  1.9073971e-06+1.45298998e-06j -2.9266089e-06-2.31928925e-06j\n",
                        " -2.7582309e-06+4.43093086e-07j -1.4554624e-06+1.05174115e-06j\n",
                        "  5.0068320e-07+3.47548598e-06j  9.4436518e-07-6.89062290e-07j\n",
                        " -3.5725077e-07+2.16272156e-06j  2.1440205e-06-4.89713216e-07j\n",
                        " -1.1371769e-06-2.23522443e-06j  2.7151270e-07+1.69007478e-07j\n",
                        " -6.1606363e-07+1.35372829e-06j  2.5687157e-06-2.89085369e-06j\n",
                        " -1.0501559e-06-1.68168594e-06j  2.6596040e-06-3.52895700e-06j\n",
                        "  4.7060894e-08+8.57050168e-07j -1.9304744e-06-4.44904344e-08j\n",
                        " -6.2403080e-07-1.08196855e-06j  1.2820334e-06+2.17604111e-06j\n",
                        " -1.2217699e-06+3.27523412e-06j  4.8890826e-07+2.35527659e-06j\n",
                        " -2.9022453e-06-8.79663162e-07j -1.3621769e-06+1.59162568e-07j\n",
                        "  1.0312830e-06-5.61365141e-07j  8.1016896e-07-2.35608036e-06j\n",
                        " -3.2296853e-06-2.49632694e-06j -6.3297466e-07-2.73360592e-06j\n",
                        "  2.7828953e-06-2.57147667e-06j  1.5143642e-06+3.52123516e-06j\n",
                        " -2.6659009e-06-3.56042460e-06j -3.8784610e-06+5.95690381e-07j\n",
                        "  1.1947299e-06-7.10149038e-07j  5.7597288e-07+6.38942879e-07j\n",
                        " -2.8496515e-06+2.58696218e-07j -2.0907764e-06-2.75363448e-08j\n",
                        " -5.6428280e-07-9.51207113e-09j -1.4901386e-06+1.63949471e-06j\n",
                        " -2.5113120e-06-7.36310540e-07j -1.3113097e-06+1.42472959e-06j\n",
                        "  6.2156346e-07+2.18578452e-06j  2.6692169e-06+2.88595538e-06j\n",
                        "  4.8472901e-07+1.48094387e-06j  4.3749715e-06+1.10252586e-07j\n",
                        " -1.3087900e-07+1.23511666e-06j  1.4375403e-06+1.19446054e-06j\n",
                        " -7.1546424e-07+8.70669510e-07j  1.2339585e-06-6.63910214e-07j\n",
                        "  9.1639583e-07+6.92433559e-07j -4.7058520e-06-1.65330550e-06j\n",
                        " -8.7674039e-07-4.19936896e-07j  1.2474127e-06-2.00860700e-06j\n",
                        " -1.5414215e-06+2.45315414e-06j -1.1571490e-06-3.39305586e-07j\n",
                        "  2.6516354e-06+7.50267702e-07j -9.2526693e-07+1.56702083e-06j\n",
                        "  1.2506734e-06-2.24590553e-06j  1.5776998e-06-2.51935262e-07j\n",
                        " -7.1793966e-07-1.26967518e-06j  3.2936803e-06+4.53863606e-07j\n",
                        " -1.0348853e-06-1.65104939e-06j -2.9958142e-07+7.85321390e-08j\n",
                        "  4.4338458e-07-2.36651567e-06j  2.0538082e-06-2.79591745e-07j\n",
                        " -1.7970107e-06-3.65383357e-07j -3.3201388e-07-6.78570416e-07j\n",
                        " -1.2723989e-06+2.28865656e-06j -1.2020685e-06-2.63965126e-06j\n",
                        "  2.3391262e-06+3.64141556e-07j -6.5821808e-07-7.30149566e-07j\n",
                        " -3.8403164e-07+3.29828208e-06j -4.2562219e-06+3.11838448e-08j\n",
                        "  2.9829864e-06-5.47026104e-07j -1.7333145e-06+1.31458819e-07j\n",
                        "  6.6122226e-08-2.26660063e-06j -7.1202385e-07-1.06505638e-06j\n",
                        " -8.1322020e-07-3.39647158e-06j  1.3449481e-06-1.07671065e-06j\n",
                        "  2.1966525e-06-2.22806943e-06j  1.2670585e-06-2.28147564e-06j\n",
                        "  1.7391208e-06-2.13072826e-06j  1.5226067e-07-2.99664021e-06j\n",
                        " -4.6136006e-07-2.31677154e-06j  2.0142634e-06-2.20817492e-06j\n",
                        "  1.5857029e-06-1.57722343e-06j -3.8828634e-07-2.26669135e-06j\n",
                        " -3.7191280e-06-3.90673449e-07j -1.0040371e-06-2.73799537e-06j\n",
                        " -1.1895449e-06+4.44527859e-06j -1.1297417e-06-2.23235452e-06j\n",
                        " -1.8071206e-06+2.18922173e-06j -1.8607038e-06+4.45426940e-06j\n",
                        " -8.4167590e-07-4.92615641e-07j  3.8336102e-06+3.13010560e-07j\n",
                        " -9.9243107e-07+1.96712972e-06j -3.0574142e-07-1.22131155e-06j\n",
                        "  1.3955369e-06-4.29146212e-08j  1.1817922e-06-1.91392064e-06j\n",
                        "  1.1746693e-06-2.22290760e-06j -7.4588274e-07+5.41766212e-07j\n",
                        " -1.4407242e-06+2.00331851e-06j -1.8634146e-06+1.68403130e-06j\n",
                        "  1.1773221e-06-8.58406338e-07j -7.6882634e-07-2.17215074e-06j\n",
                        "  8.8576104e-07+1.59051069e-07j -2.7024275e-06+5.81027962e-07j\n",
                        " -1.3090053e-06-4.22058656e-06j  1.0618537e-06-2.74522722e-06j\n",
                        " -4.2646101e-07-1.61033768e-06j  2.2046179e-06-3.39197686e-06j\n",
                        " -1.2487385e-06-4.96803750e-07j  4.4500266e-06-2.51488245e-06j\n",
                        " -7.3320265e-09-3.14542012e-06j  1.5771413e-06+8.27447366e-07j\n",
                        " -2.9228522e-07-3.44347882e-07j  1.9201482e-06+3.49970401e-06j\n",
                        "  1.5252857e-07+1.08774975e-06j  3.1758196e-07-1.67317387e-06j\n",
                        " -1.3537042e-06+6.22316691e-07j -1.0567184e-06+7.05126013e-07j\n",
                        "  1.1881343e-06+2.38730138e-07j  9.0569245e-07-4.78740446e-07j\n",
                        " -1.0530638e-06-1.79551421e-06j  7.7275445e-08-1.27707654e-06j\n",
                        " -2.4294472e-06+2.67877613e-06j -1.1612899e-07+7.99897975e-07j\n",
                        " -1.5044398e-06+4.17426776e-07j  2.3491168e-07-1.06391894e-06j\n",
                        " -1.2952919e-06+1.43151306e-06j -4.7710023e-07-1.07198355e-06j\n",
                        "  3.3673582e-06-9.63476168e-07j  1.9823040e-06+1.24907319e-06j\n",
                        " -3.4095126e-07+1.59768877e-06j -1.6238290e-06+1.72969953e-06j\n",
                        "  3.9764154e-07+1.00559305e-06j -1.8403277e-06+2.01871717e-06j\n",
                        " -9.0704575e-08+8.11377276e-09j -3.8367375e-06+1.56487454e-06j\n",
                        " -7.4990817e-07+2.16508056e-06j  1.9281390e-06-5.79634047e-07j\n",
                        " -8.2159022e-07-2.15687646e-06j -1.1991697e-06-1.23564746e-06j\n",
                        " -1.0072063e-06-6.70467557e-07j -2.8150339e-06+2.71550130e-06j\n",
                        " -1.4054772e-06+1.29133230e-06j  1.8519199e-06-1.31166075e-06j\n",
                        " -2.2270906e-06-9.11330574e-07j -3.6355566e-06+1.35900075e-06j\n",
                        "  8.8701745e-07-2.43045770e-06j  6.0115406e-07-4.83337033e-07j\n",
                        " -5.4296061e-07+8.89143394e-07j -1.1425418e-06-1.96228029e-07j\n",
                        "  5.1716779e-07+1.06751190e-06j -7.5673989e-07-5.04050877e-06j\n",
                        "  1.1649410e-06-1.20395407e-06j  2.2928853e-06+2.94087386e-07j\n",
                        " -1.2643359e-06+4.92117920e-07j  1.8516421e-06+4.27879513e-07j\n",
                        " -1.8026141e-06+3.76835999e-07j -1.3615336e-06+1.12320288e-06j\n",
                        "  6.9922760e-07-3.29108161e-07j -2.7023507e-06-1.54029419e-06j\n",
                        " -3.8879290e-07+2.16290482e-06j  1.2442724e-06+2.07810808e-06j\n",
                        "  7.6469991e-07+1.90560058e-07j  3.9552509e-07-4.51160645e-07j\n",
                        "  1.4985271e-06-3.79764811e-06j -3.5894245e-06+1.23008203e-06j\n",
                        "  8.0126392e-07-1.12417820e-06j  2.4021260e-06-3.93793698e-07j\n",
                        " -8.5778834e-07+5.78800496e-07j -2.0974740e-06-4.99250291e-07j\n",
                        " -9.8193857e-07-1.53780093e-06j  6.1106789e-07-6.61585545e-07j\n",
                        " -3.4694557e-07-8.68103371e-07j  1.9401891e-06+2.22718245e-06j\n",
                        " -1.6181773e-06+6.55826966e-07j -7.8202834e-07-5.85860107e-07j\n",
                        " -3.3855292e-07+1.83819452e-07j -2.0073173e-06+2.31022000e-07j\n",
                        " -2.1488679e-06-1.06551852e-06j  1.6282060e-06-1.96820611e-06j\n",
                        " -6.4738447e-07-1.06224661e-06j -1.0257835e-06+2.79489359e-06j\n",
                        " -3.4840696e-08-3.14171848e-06j -8.3858140e-08-6.29462647e-07j\n",
                        "  4.9161849e-07+1.59750198e-06j -1.6790113e-06-2.58865134e-06j\n",
                        "  3.0841568e-06+7.60102466e-07j  2.2376901e-06+1.99436909e-06j\n",
                        " -1.3058011e-06-4.81135544e-07j  2.7875431e-06+2.04684011e-06j\n",
                        " -8.2095141e-07-4.78937352e-08j  4.1576095e-07-2.66092206e-06j\n",
                        " -3.0113472e-06+1.14110321e-06j -2.7720057e-06-8.71099019e-07j\n",
                        "  3.8013923e-08+1.36684389e-06j -7.9526956e-07-1.77111338e-06j\n",
                        "  1.1902843e-06+7.45476427e-08j  5.8756473e-07+1.23468010e-06j\n",
                        "  3.5408775e-06-3.11240797e-07j -9.1659092e-07+7.38004019e-07j\n",
                        " -3.9185088e-06-3.69009103e-06j  1.2598764e-07+1.12678663e-07j\n",
                        " -1.2001691e-06-1.42605631e-06j -5.3460019e-07-2.54719589e-06j\n",
                        " -1.3164570e-06-9.73771876e-07j -3.7208133e-06-9.95652272e-09j\n",
                        "  3.2843739e-06-2.91203150e-07j -3.0596249e-07+2.65258086e-06j\n",
                        "  1.4681000e-06-4.84603106e-07j -5.6051863e-07-1.14556997e-06j\n",
                        "  6.2222819e-07-2.52028258e-07j -2.5433567e-06-1.98466296e-07j\n",
                        " -3.8628013e-06+2.14744432e-07j  6.6629741e-07+3.76776711e-07j\n",
                        "  3.2215376e-06+2.00536761e-06j -1.7117202e-07+1.71035686e-06j\n",
                        "  3.9793094e-06+3.89560455e-08j  7.5751296e-07+9.80467576e-07j\n",
                        " -3.1077871e-06+1.60938953e-07j  1.7900170e-06-9.55031283e-07j]\n",
                        "Input Array Shape: (384,)\n",
                        "Dest Shape: (24, 2, 2, 2, 2)\n",
                        "1.1093611e-05\n"
                    ]
                }
            ],
            "source": [
                "mg_x = cg.slover(b=mg_b, matvec=functools.partial(r_matvec_p, matvec=matvec),\n",
                "                 tol=1e-5, max_iter=1000000)\n",
                "print(mg_x) \n",
                "print(cp.linalg.norm(mg_b-r_matvec_p(mg_x, matvec=matvec))/cp.linalg.norm(mg_b))"
            ]
        },
        {
            "cell_type": "code",
            "execution_count": 130,
            "metadata": {},
            "outputs": [
                {
                    "name": "stdout",
                    "output_type": "stream",
                    "text": [
                        "Input Array Shape: (384,)\n",
                        "Dest Shape: (24, 2, 2, 2, 2)\n",
                        "Input Array Shape: (384,)\n",
                        "Dest Shape: (24, 2, 2, 2, 2)\n",
                        "Input Array Shape: (384,)\n",
                        "Dest Shape: (24, 2, 2, 2, 2)\n",
                        "Iteration 0: Residual = 1.509700e+08, Time = 0.002312 s\n",
                        "Input Array Shape: (384,)\n",
                        "Dest Shape: (24, 2, 2, 2, 2)\n",
                        "Input Array Shape: (384,)\n",
                        "Dest Shape: (24, 2, 2, 2, 2)\n",
                        "Iteration 1: Residual = 3.513710e-01, Time = 0.002770 s\n",
                        "Input Array Shape: (384,)\n",
                        "Dest Shape: (24, 2, 2, 2, 2)\n",
                        "Input Array Shape: (384,)\n",
                        "Dest Shape: (24, 2, 2, 2, 2)\n",
                        "Iteration 2: Residual = 2.802487e-08, Time = 0.002727 s\n",
                        "Converged at iteration 2 with residual 2.802487e-08\n",
                        "\n",
                        "Performance Statistics:\n",
                        "Total time: 0.023480 s\n",
                        "Average time per iteration: 0.002603 s\n",
                        "[-2.04435945e-03+1.37220544e-04j -2.04465911e-03+1.37467257e-04j\n",
                        " -2.04503443e-03+1.36736911e-04j -2.04466563e-03+1.38032570e-04j\n",
                        " -2.04486446e-03+1.37115509e-04j -2.04490940e-03+1.36924922e-04j\n",
                        " -2.04478460e-03+1.37237235e-04j -2.04465236e-03+1.36198272e-04j\n",
                        " -2.04481231e-03+1.35749768e-04j -2.04522023e-03+1.35605427e-04j\n",
                        " -2.04499741e-03+1.35713126e-04j -2.04534875e-03+1.34489441e-04j\n",
                        " -2.04514479e-03+1.35543349e-04j -2.04464793e-03+1.36945484e-04j\n",
                        " -2.04456551e-03+1.36747753e-04j -2.04516947e-03+1.34551155e-04j\n",
                        "  2.76439749e-07-1.73818273e-06j -2.20148593e-07+3.25712080e-07j\n",
                        "  5.48943660e-07+5.24936524e-07j -3.40607198e-06+2.15101750e-06j\n",
                        "  1.20951677e-06+9.84233225e-07j -1.47964090e-06+2.14194233e-06j\n",
                        "  8.15707210e-07+1.12794180e-06j -1.69798045e-06+7.59350030e-07j\n",
                        "  8.22790369e-08-4.43957305e-07j  2.22313724e-06-3.74958063e-07j\n",
                        "  7.81027268e-07+7.62663603e-07j -3.62019864e-06+2.62568619e-06j\n",
                        " -3.25865585e-07-1.19824585e-06j -1.65765948e-06+7.91295122e-07j\n",
                        " -3.27815258e-07+1.91809841e-06j -1.26698808e-07+6.87733575e-07j\n",
                        "  1.46490208e-06+4.39881660e-07j -1.31619504e-06-1.04992307e-06j\n",
                        " -1.98191856e-06-5.31416219e-07j -3.75951998e-07+9.90309900e-07j\n",
                        " -2.85824990e-06+2.88988105e-07j -1.73265869e-06-1.57698730e-06j\n",
                        " -3.44757041e-07+3.91384390e-07j  6.68881739e-07-7.59716414e-08j\n",
                        " -2.23014172e-06+1.03228069e-06j -1.07389951e-06+5.01061947e-07j\n",
                        "  1.68159841e-06+1.20553395e-07j  9.45546333e-07-6.36330185e-07j\n",
                        "  3.97057988e-07+9.95603500e-07j -2.87074329e-07+6.14862211e-06j\n",
                        " -1.42439808e-06+1.87324622e-06j  1.89605873e-06-3.38575728e-06j\n",
                        "  2.76554579e-06+5.57487283e-07j -3.06979274e-07-2.04621824e-06j\n",
                        "  7.48349635e-07+7.07635934e-07j -3.91173529e-07-2.95572636e-06j\n",
                        " -2.03197601e-07+8.65259324e-07j  4.48356019e-07-2.04622165e-06j\n",
                        "  2.07799280e-06-2.23791926e-06j  1.25129907e-06-6.83270684e-07j\n",
                        "  2.27140799e-06+1.46370633e-06j -1.27651560e-06-2.44967919e-06j\n",
                        "  3.35571372e-07+7.76277318e-07j -3.09859388e-06-2.67929477e-06j\n",
                        "  6.99932698e-08+3.75747913e-06j -2.18248687e-07-1.03896207e-06j\n",
                        "  1.31106231e-06+3.19041305e-07j -6.70917643e-07+3.41465345e-08j\n",
                        "  1.73577007e-07-3.43819670e-06j  1.87123601e-06+2.09250197e-06j\n",
                        "  9.61845330e-07+6.67846905e-07j  2.85697098e-07-1.01313326e-07j\n",
                        "  3.63381105e-07-1.36638471e-06j  1.17265120e-06+5.37138362e-07j\n",
                        "  1.22300878e-06-4.77624735e-06j  1.26448742e-06+3.10046016e-06j\n",
                        "  1.17090212e-06+9.83558607e-07j -1.47768355e-06-1.91108347e-06j\n",
                        "  1.17518266e-06-6.16820614e-07j -1.64897290e-06-1.73498861e-07j\n",
                        " -2.18885884e-06+5.98460417e-07j -1.21174435e-06-9.75183980e-07j\n",
                        " -1.01556316e-06+3.02597186e-07j  4.76267644e-07-2.51610572e-08j\n",
                        "  1.12977136e-06+1.22620548e-07j -1.79739425e-06+1.50985647e-06j\n",
                        " -2.38559073e-06-2.10189819e-06j  1.32421610e-06+3.41800927e-07j\n",
                        " -3.57493803e-07+1.26528869e-06j -2.29591001e-06+1.04207959e-06j\n",
                        "  2.65199606e-06-5.99107580e-07j -2.21010373e-06+1.19387698e-06j\n",
                        " -1.88741410e-06-6.35282390e-07j  7.74396540e-07-1.34033212e-06j\n",
                        "  2.98251109e-07-5.01864044e-08j  5.45923967e-07-2.68435610e-06j\n",
                        "  1.72663044e-06-6.19514083e-07j -2.88590491e-06-2.20574248e-06j\n",
                        " -1.15798332e-06-6.95719926e-09j -1.99730584e-06-1.11359100e-06j\n",
                        "  1.94153199e-06+1.19039214e-06j  1.34487607e-06-1.92734115e-06j\n",
                        "  1.34675759e-07+6.99748284e-07j -2.64519031e-07+3.65590864e-07j\n",
                        " -1.44938826e-06-3.41597172e-07j  4.52243228e-07-2.78282101e-07j\n",
                        " -1.69006501e-06+1.44477735e-06j -2.04633785e-08-8.97098289e-07j\n",
                        "  8.22839411e-07-1.52069873e-07j -9.48738403e-08+1.88755632e-06j\n",
                        " -2.91284300e-06-8.37624327e-07j -1.87119520e-06+4.14510737e-07j\n",
                        " -9.92106152e-07+4.49435476e-07j -3.40646307e-06+7.94780419e-07j\n",
                        " -6.03552905e-07+6.11141502e-07j  2.76348010e-06+8.85099283e-08j\n",
                        "  1.06622292e-06+9.59400523e-08j -2.76752019e-07-4.67062307e-07j\n",
                        "  1.46823822e-06-6.89260048e-07j  2.44503417e-06-8.68777022e-07j\n",
                        " -6.23282631e-07-2.71656972e-06j  4.27798511e-07-4.72483407e-07j\n",
                        " -1.78087760e-06-1.86500802e-06j  2.95705445e-06-1.81296934e-06j\n",
                        "  9.50526669e-07+1.99890721e-07j  4.74258002e-07+3.29651215e-07j\n",
                        " -7.60601324e-07-2.83787108e-06j  2.27511535e-07+1.20951904e-06j\n",
                        "  7.05303592e-07-1.92697053e-06j -2.73378021e-07-4.32866614e-07j\n",
                        "  1.42136855e-06+1.95665029e-06j  2.85020064e-06-7.15806152e-07j\n",
                        " -9.38443577e-07-6.10868824e-07j -2.35184734e-06+5.26934400e-07j\n",
                        " -2.70198757e-06+5.74971637e-07j -2.25979150e-07-3.75636660e-06j\n",
                        " -1.41363410e-06-1.30078632e-07j -2.53278245e-07-2.11766564e-06j\n",
                        "  1.04019477e-06+2.42629562e-06j  1.26569466e-06-1.09952089e-06j\n",
                        " -7.44445060e-07-1.10634926e-06j -1.25451675e-06-1.15551927e-06j\n",
                        "  7.51616540e-07+1.98953512e-06j -8.76764545e-07-6.37549533e-07j\n",
                        "  1.81449116e-06-3.03852858e-06j  1.82547262e-06+2.61607411e-08j\n",
                        " -2.07805726e-07+5.77105948e-06j -5.94416463e-07-4.24562927e-07j\n",
                        "  2.27425244e-06+3.50040386e-06j  2.00236400e-06+2.73986956e-07j\n",
                        " -1.77909044e-06+1.89116986e-06j -2.46472808e-07+5.08172946e-07j\n",
                        "  3.17915101e-06-6.68851499e-07j -1.98847761e-06+4.12926374e-06j\n",
                        " -1.10706935e-07-1.57824422e-06j -3.61667139e-06+1.43362638e-06j\n",
                        " -9.95799155e-07-1.05088770e-06j -1.76755088e-06+2.10011976e-07j\n",
                        " -9.25403640e-07-3.89780411e-07j -1.36887502e-06+3.53312856e-07j\n",
                        " -4.39328346e-07-8.73579040e-07j -1.49762889e-06+1.35767777e-06j\n",
                        "  2.82830911e-06+1.59072397e-06j  3.78417167e-06-1.11208840e-06j\n",
                        "  7.57585212e-07-1.08213226e-06j -8.90945330e-07-9.92653213e-07j\n",
                        " -7.29419526e-07-4.41240871e-07j -3.00024590e-06+1.92959328e-06j\n",
                        "  1.92487983e-06+1.44891533e-06j -2.92486720e-06-2.32437742e-06j\n",
                        " -2.75235061e-06+4.36523209e-07j -1.45645231e-06+1.05487231e-06j\n",
                        "  5.07819493e-07+3.47977470e-06j  9.45774161e-07-6.88270518e-07j\n",
                        " -3.57827446e-07+2.16529838e-06j  2.14276770e-06-4.87064995e-07j\n",
                        " -1.13698445e-06-2.23373786e-06j  2.71803060e-07+1.65820452e-07j\n",
                        " -6.12910299e-07+1.35008816e-06j  2.55992927e-06-2.88706815e-06j\n",
                        " -1.05289621e-06-1.68101906e-06j  2.66754023e-06-3.53016662e-06j\n",
                        "  4.69843400e-08+8.45009140e-07j -1.91621234e-06-4.71161599e-08j\n",
                        " -6.24862651e-07-1.07832818e-06j  1.28770535e-06+2.17678394e-06j\n",
                        " -1.22214738e-06+3.28037663e-06j  4.88875173e-07+2.35943412e-06j\n",
                        " -2.90272942e-06-8.73854049e-07j -1.36371875e-06+1.46639792e-07j\n",
                        "  1.03099251e-06-5.58024340e-07j  8.03249179e-07-2.35651532e-06j\n",
                        " -3.22780420e-06-2.48850597e-06j -6.34852029e-07-2.74127706e-06j\n",
                        "  2.78227526e-06-2.56686212e-06j  1.50935261e-06+3.53793871e-06j\n",
                        " -2.67115433e-06-3.56327382e-06j -3.87152568e-06+5.91319861e-07j\n",
                        "  1.19192953e-06-7.10449854e-07j  5.82572397e-07+6.44302133e-07j\n",
                        " -2.85259421e-06+2.57226759e-07j -2.08719371e-06-1.81986373e-08j\n",
                        " -5.58648196e-07-9.07749609e-09j -1.49160257e-06+1.64530275e-06j\n",
                        " -2.51264100e-06-7.25357836e-07j -1.30810508e-06+1.42137185e-06j\n",
                        "  6.22782977e-07+2.18983428e-06j  2.67362998e-06+2.88851697e-06j\n",
                        "  4.84752434e-07+1.48094807e-06j  4.37171002e-06+1.07790719e-07j\n",
                        " -1.33179029e-07+1.24332121e-06j  1.43407624e-06+1.19026572e-06j\n",
                        " -7.13840564e-07+8.72020109e-07j  1.23236487e-06-6.64988875e-07j\n",
                        "  9.19425759e-07+6.91123830e-07j -4.70320401e-06-1.65992878e-06j\n",
                        " -8.76328045e-07-4.16364912e-07j  1.24517351e-06-2.00382874e-06j\n",
                        " -1.54731072e-06+2.45045203e-06j -1.15385717e-06-3.32735084e-07j\n",
                        "  2.64579080e-06+7.46117450e-07j -9.26933467e-07+1.56662952e-06j\n",
                        "  1.24301607e-06-2.24144719e-06j  1.57843897e-06-2.54063053e-07j\n",
                        " -7.17760656e-07-1.26206203e-06j  3.29776867e-06+4.56183955e-07j\n",
                        " -1.03721004e-06-1.65007373e-06j -2.98424055e-07+8.80684112e-08j\n",
                        "  4.45798491e-07-2.36579785e-06j  2.05394304e-06-2.79019332e-07j\n",
                        " -1.79653262e-06-3.71458555e-07j -3.37191381e-07-6.76081470e-07j\n",
                        " -1.26711416e-06+2.28435329e-06j -1.20764571e-06-2.63991615e-06j\n",
                        "  2.34932304e-06+3.67984029e-07j -6.58352405e-07-7.25691393e-07j\n",
                        " -4.01315702e-07+3.30189823e-06j -4.25467306e-06+3.87539743e-08j\n",
                        "  2.98177793e-06-5.49265735e-07j -1.73801152e-06+1.27459941e-07j\n",
                        "  5.92132743e-08-2.26462794e-06j -7.13162024e-07-1.05606591e-06j\n",
                        " -8.15723297e-07-3.40094539e-06j  1.34177128e-06-1.07678545e-06j\n",
                        "  2.18100627e-06-2.22173503e-06j  1.26623752e-06-2.27885289e-06j\n",
                        "  1.73634533e-06-2.12644522e-06j  1.54295535e-07-2.99552494e-06j\n",
                        " -4.60418875e-07-2.30785145e-06j  2.00869954e-06-2.20540323e-06j\n",
                        "  1.57779925e-06-1.57210320e-06j -3.91814496e-07-2.26606289e-06j\n",
                        " -3.71372903e-06-3.88593776e-07j -9.96659992e-07-2.72819011e-06j\n",
                        " -1.19090271e-06+4.44833267e-06j -1.12793418e-06-2.22846734e-06j\n",
                        " -1.81484859e-06+2.18277819e-06j -1.85559929e-06+4.45979913e-06j\n",
                        " -8.34993159e-07-4.93027358e-07j  3.83713950e-06+3.22895744e-07j\n",
                        " -9.99718850e-07+1.96693213e-06j -3.02844484e-07-1.21772769e-06j\n",
                        "  1.39606925e-06-3.85175412e-08j  1.18508683e-06-1.91602430e-06j\n",
                        "  1.18185824e-06-2.21662822e-06j -7.38374013e-07+5.39280734e-07j\n",
                        " -1.43895465e-06+1.99494139e-06j -1.85936233e-06+1.68574445e-06j\n",
                        "  1.16562626e-06-8.59462432e-07j -7.81660106e-07-2.18181663e-06j\n",
                        "  8.77329569e-07+1.58429188e-07j -2.70435089e-06+5.75172635e-07j\n",
                        " -1.31740330e-06-4.21823870e-06j  1.06295442e-06-2.74552667e-06j\n",
                        " -4.17485381e-07-1.61203832e-06j  2.21502432e-06-3.38827476e-06j\n",
                        " -1.24089524e-06-4.95489473e-07j  4.44435136e-06-2.51599545e-06j\n",
                        " -7.19285431e-09-3.14513386e-06j  1.58188050e-06+8.27608233e-07j\n",
                        " -2.92248814e-07-3.42066784e-07j  1.92696916e-06+3.50085770e-06j\n",
                        "  1.48821840e-07+1.08416816e-06j  3.24859428e-07-1.67477617e-06j\n",
                        " -1.35123594e-06+6.30758791e-07j -1.05312904e-06+7.02714487e-07j\n",
                        "  1.19054391e-06+2.37222039e-07j  9.00600071e-07-4.80627364e-07j\n",
                        " -1.05418405e-06-1.79640654e-06j  7.53494973e-08-1.28240731e-06j\n",
                        " -2.43613385e-06+2.67979112e-06j -1.16320138e-07+8.02115778e-07j\n",
                        " -1.50648259e-06+4.17232741e-07j  2.35686429e-07-1.06511220e-06j\n",
                        " -1.29809416e-06+1.43948557e-06j -4.69470251e-07-1.07021776e-06j\n",
                        "  3.36595599e-06-9.67389269e-07j  1.98286671e-06+1.24832741e-06j\n",
                        " -3.41733312e-07+1.59144747e-06j -1.62560730e-06+1.73384819e-06j\n",
                        "  3.95262873e-07+1.00597970e-06j -1.84000783e-06+2.02510364e-06j\n",
                        " -9.37805851e-08+9.71714353e-09j -3.83031329e-06+1.56928195e-06j\n",
                        " -7.56499674e-07+2.17004117e-06j  1.92743187e-06-5.77503954e-07j\n",
                        " -8.17313776e-07-2.16032709e-06j -1.19337551e-06-1.23612449e-06j\n",
                        " -9.96062681e-07-6.62941090e-07j -2.82086194e-06+2.71684007e-06j\n",
                        " -1.40928012e-06+1.29594616e-06j  1.84997668e-06-1.30996102e-06j\n",
                        " -2.22553172e-06-9.09585026e-07j -3.62932451e-06+1.34983156e-06j\n",
                        "  8.99175006e-07-2.43122986e-06j  6.03544891e-07-4.83679571e-07j\n",
                        " -5.36735001e-07+8.97485847e-07j -1.14211286e-06-1.84742362e-07j\n",
                        "  5.08045730e-07+1.06475579e-06j -7.55831877e-07-5.04502714e-06j\n",
                        "  1.16603655e-06-1.19782237e-06j  2.29333318e-06+2.91044643e-07j\n",
                        " -1.26190128e-06+4.77618698e-07j  1.85231124e-06+4.28473214e-07j\n",
                        " -1.78987420e-06+3.76350414e-07j -1.36199822e-06+1.11468785e-06j\n",
                        "  7.03003877e-07-3.29488756e-07j -2.69824636e-06-1.53339863e-06j\n",
                        " -3.77388005e-07+2.14736724e-06j  1.24467454e-06+2.07576454e-06j\n",
                        "  7.70989118e-07+1.95342707e-07j  3.96528719e-07-4.55010991e-07j\n",
                        "  1.49113464e-06-3.80203937e-06j -3.58756802e-06+1.22843960e-06j\n",
                        "  8.05729428e-07-1.12318628e-06j  2.40694476e-06-3.91415625e-07j\n",
                        " -8.61591332e-07+5.77047729e-07j -2.09149289e-06-4.97828296e-07j\n",
                        " -9.80291475e-07-1.54114787e-06j  6.13543307e-07-6.61250397e-07j\n",
                        " -3.39413333e-07-8.63056812e-07j  1.93160304e-06+2.23362053e-06j\n",
                        " -1.62296612e-06+6.60329931e-07j -7.87302099e-07-5.91720323e-07j\n",
                        " -3.35847801e-07+1.89751233e-07j -2.00699560e-06+2.35962943e-07j\n",
                        " -2.16094782e-06-1.06630978e-06j  1.62994252e-06-1.96984070e-06j\n",
                        " -6.46410115e-07-1.06448738e-06j -1.01872729e-06+2.79659344e-06j\n",
                        " -3.66702579e-08-3.14626936e-06j -7.96974504e-08-6.30154886e-07j\n",
                        "  4.89328499e-07+1.60071033e-06j -1.68063389e-06-2.59834428e-06j\n",
                        "  3.08930703e-06+7.66804703e-07j  2.23713710e-06+2.00232398e-06j\n",
                        " -1.31609715e-06-4.84094301e-07j  2.79904543e-06+2.04158027e-06j\n",
                        " -8.19794877e-07-4.94550463e-08j  4.18137319e-07-2.66210259e-06j\n",
                        " -3.01977593e-06+1.13439216e-06j -2.77296454e-06-8.59885233e-07j\n",
                        "  4.82398299e-08+1.36694564e-06j -8.00187820e-07-1.77454842e-06j\n",
                        "  1.19345145e-06+6.74725271e-08j  5.91571734e-07+1.23562575e-06j\n",
                        "  3.52972347e-06-3.18941375e-07j -9.15705698e-07+7.39478196e-07j\n",
                        " -3.92054562e-06-3.68689666e-06j  1.21775713e-07+1.06076719e-07j\n",
                        " -1.19841263e-06-1.43015404e-06j -5.30870921e-07-2.55001282e-06j\n",
                        " -1.31690376e-06-9.78493517e-07j -3.73442549e-06-1.24804247e-08j\n",
                        "  3.28520537e-06-2.85569399e-07j -3.11006289e-07+2.64217692e-06j\n",
                        "  1.46623813e-06-4.83838676e-07j -5.51211826e-07-1.14757279e-06j\n",
                        "  6.30260672e-07-2.47011371e-07j -2.54340443e-06-1.98785685e-07j\n",
                        " -3.86626562e-06+2.11697539e-07j  6.68080418e-07+3.78766913e-07j\n",
                        "  3.21737025e-06+2.00764930e-06j -1.77584937e-07+1.71095576e-06j\n",
                        "  3.97820077e-06+3.61119383e-08j  7.62360742e-07+9.75295734e-07j\n",
                        " -3.09957295e-06+1.60736747e-07j  1.79239998e-06-9.49110245e-07j]\n",
                        "Input Array Shape: (384,)\n",
                        "Dest Shape: (24, 2, 2, 2, 2)\n",
                        "1.1200383e-05\n"
                    ]
                }
            ],
            "source": [
                "mg_x = bistabcg.slover(b=mg_b, matvec=functools.partial(r_matvec_p, matvec=matvec),\n",
                "                 tol=1e-5, max_iter=1000000)\n",
                "print(mg_x) \n",
                "print(cp.linalg.norm(mg_b-r_matvec_p(mg_x, matvec=matvec))/cp.linalg.norm(mg_b))"
            ]
        },
        {
            "cell_type": "markdown",
            "metadata": {},
            "source": [
                "# End for pyqcu. (pass, don't run this)"
            ]
        },
        {
            "cell_type": "code",
            "execution_count": 131,
            "metadata": {},
            "outputs": [],
            "source": [
                "# qcu.applyEndQcu(set_ptrs, params)\n",
                "# qcu.applyEndQcu(set_ptrs, wilson_dslash_eo_params)\n",
                "# qcu.applyEndQcu(set_ptrs, wilson_dslash_oe_params)\n",
                "# qcu.applyEndQcu(set_ptrs, wilson_dslash_eo_dag_params)\n",
                "# qcu.applyEndQcu(set_ptrs, wilson_dslash_oe_dag_params)"
            ]
        }
    ],
    "metadata": {
        "kernelspec": {
            "display_name": "Python 3",
            "language": "python",
            "name": "python3"
        },
        "language_info": {
            "codemirror_mode": {
                "name": "ipython",
                "version": 3
            },
            "file_extension": ".py",
            "mimetype": "text/x-python",
            "name": "python",
            "nbconvert_exporter": "python",
            "pygments_lexer": "ipython3",
            "version": "3.10.12"
        }
    },
    "nbformat": 4,
    "nbformat_minor": 2
}
