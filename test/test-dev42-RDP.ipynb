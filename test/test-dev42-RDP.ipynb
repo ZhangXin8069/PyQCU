{
    "cells": [
        {
            "cell_type": "markdown",
            "metadata": {},
            "source": [
                "# Init for pyqcu."
            ]
        },
        {
            "cell_type": "code",
            "execution_count": 1,
            "metadata": {},
            "outputs": [
                {
                    "name": "stdout",
                    "output_type": "stream",
                    "text": [
                        "\n",
                        "    @@@@@@######QCU NOTES START######@@@@@@@\n",
                        "    0. Required: MPI(e.g. 4.1.2), CUDA(e.g. 12.4), CMAKE(e.g. 3.22.1), GCC(e.g. 11.4.0), HDF5-MPI(e.g. 1.10.7,'apt install libhdf5-mpi-dev && export HDF5_MPI=\"ON\" && pip install --no-binary=h5py h5py').\n",
                        "    1. The libqcu.so was compiled when pyqcu setup in download_path/PyQCU/lib, please add this path to your LD_LIBRARY_PATH.\n",
                        "    2. The QCU(PyQCU) splite grid by x->y->z->t, lattice by x->y->z->t->p->d->c->c or x->y->z->t->c->s(->p) and x->y->z->t->c->s->c->s(->p).\n",
                        "    3. The QUDA(PyQUDA) splite grid by t->z->y->x, lattice by c->c->x->y->z->t->p->d or c->s->x->y->z->t(->p) and c->s->c->s->x->y->z->t(->p).\n",
                        "    4. The QCU input params in numpy array(dtype=np.int32), argv in  numpy array(dtype=np.float32 or float64) array, set_ptrs in numpy array(dtype=np.int64), other in cupy array(dtype=cp.complex64 or complex128).\n",
                        "    5. The smallest lattice size is (x=4,y=4,z=4,t=8) that QCU support.\n",
                        "    @@@@@@######QCU NOTES END######@@@@@@@\n",
                        "    \n",
                        "Parameters: [     32      32      32      32 1048576       1       1       1       1\n",
                        "       0       0       1       0   10000       0       0       0       4\n",
                        "       4       4       8]\n",
                        "Parameters data: <memory at 0x7f13e85113c0>\n",
                        "Arguments: [0.e+00 1.e-09]\n",
                        "Arguments data: <memory at 0x7f13e85113c0>\n",
                        "Set pointers: [0 0 0 0 0 0 0 0 0 0]\n",
                        "Set pointers data: <memory at 0x7f13e8510400>\n",
                        "[      8       8       4       8 1048576       1       1       1       1\n",
                        "       0       0       1       0   10000       0       0       0       2\n",
                        "       2       2       2]\n"
                    ]
                }
            ],
            "source": [
                "import cupy as cp\n",
                "import numpy as np\n",
                "import functools\n",
                "from scipy.sparse.linalg import LinearOperator, eigsh\n",
                "import cupyx.scipy.sparse as cpx_sparse\n",
                "from pyqcu import define\n",
                "from pyqcu import io\n",
                "from pyqcu import qcu\n",
                "from pyqcu import eigen, cg, bistabcg\n",
                "from opt_einsum import contract\n",
                "from pyqcu.set import params, argv, set_ptrs\n",
                "params[define._NODE_RANK_] = define.rank\n",
                "params[define._NODE_SIZE_] = define.size\n",
                "index = -1\n",
                "params[define._LAT_X_] = 8\n",
                "params[define._LAT_Y_] = 8\n",
                "params[define._LAT_Z_] = 4\n",
                "params[define._LAT_T_] = 8\n",
                "n = int(params[define._LAT_X_] / define._LAT_P_ * params[define._LAT_Y_] *\n",
                "        params[define._LAT_Z_] * params[define._LAT_T_] *\n",
                "        define._LAT_S_*define._LAT_C_)\n",
                "params[define._MG_X_] = 2\n",
                "params[define._MG_Y_] = 2\n",
                "params[define._MG_Z_] = 2\n",
                "params[define._MG_T_] = 2\n",
                "print(params)"
            ]
        },
        {
            "cell_type": "markdown",
            "metadata": {},
            "source": [
                "# Give matvec."
            ]
        },
        {
            "cell_type": "code",
            "execution_count": 2,
            "metadata": {},
            "outputs": [],
            "source": [
                "def generate_sparse_complex_psd_matrix(n, density=0.1):\n",
                "    real_part = cpx_sparse.random(\n",
                "        n, n, density=density, format=\"csr\", dtype=cp.float32)\n",
                "    imag_part = cpx_sparse.random(\n",
                "        n, n, density=density, format=\"csr\", dtype=cp.float32)\n",
                "    A = real_part + 1j * imag_part\n",
                "    A_hermitian = A + A.getH()\n",
                "    A_psd = A_hermitian + n * cpx_sparse.identity(n, dtype=cp.complex64)\n",
                "    return A_psd\n",
                "\n",
                "\n",
                "A = generate_sparse_complex_psd_matrix(n)\n",
                "def matvec(src):\n",
                "    return (A@src.flatten()).reshape(src.shape)\n"
            ]
        },
        {
            "cell_type": "markdown",
            "metadata": {},
            "source": [
                "# Give guage's eigenvalues and eigenvectors to hdf5 files. (pass, don't run this)"
            ]
        },
        {
            "cell_type": "code",
            "execution_count": 41,
            "metadata": {},
            "outputs": [
                {
                    "ename": "",
                    "evalue": "",
                    "output_type": "error",
                    "traceback": [
                        "\u001b[1;31m在当前单元格或上一个单元格中执行代码时 Kernel 崩溃。\n",
                        "\u001b[1;31m请查看单元格中的代码，以确定故障的可能原因。\n",
                        "\u001b[1;31m单击<a href='https://aka.ms/vscodeJupyterKernelCrash'>此处</a>了解详细信息。\n",
                        "\u001b[1;31m有关更多详细信息，请查看 Jupyter <a href='command:jupyter.viewOutput'>log</a>。"
                    ]
                }
            ],
            "source": [
                "eigenvalues, eigenvectors = eigen.solver(\n",
                "    n=n, k=define._LAT_Ne_,matvec=matvec,dtype=A.dtype).run()\n",
                "eigenvectors=io.eigenvectors2esctzyx(eigenvectors,params)"
            ]
        },
        {
            "cell_type": "markdown",
            "metadata": {},
            "source": [
                "# Run matvec(eigenvector[.]) ?= eigenvalue[.]*eigenvector[.] for eigen test. (pass, don't run this)"
            ]
        },
        {
            "cell_type": "code",
            "execution_count": 40,
            "metadata": {},
            "outputs": [
                {
                    "name": "stdout",
                    "output_type": "stream",
                    "text": [
                        "λ_0 = 1.35e+04+0.00e+00j\n",
                        "Relative error: 8.23e-06\n",
                        "Diff between λ_0 and λ_1: 1.41e+00\n",
                        "λ_1 = 1.24e+04+0.00e+00j\n",
                        "Relative error: 8.38e-05\n",
                        "Diff between λ_1 and λ_2: 1.41e+00\n",
                        "λ_2 = 1.24e+04+0.00e+00j\n",
                        "Relative error: 8.50e-05\n",
                        "Diff between λ_2 and λ_3: 1.41e+00\n",
                        "λ_3 = 1.24e+04+0.00e+00j\n",
                        "Relative error: 8.37e-05\n",
                        "Diff between λ_3 and λ_4: 1.41e+00\n",
                        "λ_4 = 1.24e+04+0.00e+00j\n",
                        "Relative error: 8.59e-05\n",
                        "Diff between λ_4 and λ_5: 1.41e+00\n",
                        "λ_5 = 1.24e+04+0.00e+00j\n",
                        "Relative error: 8.81e-05\n",
                        "Diff between λ_5 and λ_6: 1.41e+00\n",
                        "λ_6 = 1.24e+04+0.00e+00j\n",
                        "Relative error: 8.56e-05\n",
                        "Diff between λ_6 and λ_7: 1.41e+00\n",
                        "λ_7 = 1.24e+04+0.00e+00j\n",
                        "Relative error: 8.78e-05\n",
                        "Diff between λ_7 and λ_8: 1.41e+00\n",
                        "λ_8 = 1.24e+04+0.00e+00j\n",
                        "Relative error: 8.85e-05\n",
                        "Diff between λ_8 and λ_9: 1.41e+00\n",
                        "λ_9 = 1.24e+04+0.00e+00j\n",
                        "Relative error: 8.70e-05\n",
                        "Diff between λ_9 and λ_10: 1.41e+00\n",
                        "λ_10 = 1.24e+04+0.00e+00j\n",
                        "Relative error: 9.27e-05\n",
                        "Diff between λ_10 and λ_11: 1.41e+00\n",
                        "λ_11 = 1.24e+04+0.00e+00j\n",
                        "Relative error: 9.07e-05\n",
                        "Diff between λ_11 and λ_12: 1.41e+00\n",
                        "λ_12 = 1.24e+04+0.00e+00j\n",
                        "Relative error: 8.92e-05\n",
                        "Diff between λ_12 and λ_13: 1.41e+00\n",
                        "λ_13 = 1.24e+04+0.00e+00j\n",
                        "Relative error: 9.01e-05\n",
                        "Diff between λ_13 and λ_14: 1.41e+00\n",
                        "λ_14 = 1.24e+04+0.00e+00j\n",
                        "Relative error: 8.88e-05\n",
                        "Diff between λ_14 and λ_15: 1.41e+00\n",
                        "λ_15 = 1.24e+04+0.00e+00j\n",
                        "Relative error: 9.58e-05\n",
                        "Diff between λ_15 and λ_16: 1.41e+00\n",
                        "λ_16 = 1.24e+04+0.00e+00j\n",
                        "Relative error: 9.15e-05\n",
                        "Diff between λ_16 and λ_17: 1.41e+00\n",
                        "λ_17 = 1.24e+04+0.00e+00j\n",
                        "Relative error: 9.33e-05\n",
                        "Diff between λ_17 and λ_18: 1.41e+00\n",
                        "λ_18 = 1.24e+04+0.00e+00j\n",
                        "Relative error: 8.88e-05\n",
                        "Diff between λ_18 and λ_19: 1.41e+00\n",
                        "λ_19 = 1.24e+04+0.00e+00j\n",
                        "Relative error: 9.12e-05\n",
                        "Diff between λ_19 and λ_20: 1.41e+00\n",
                        "λ_20 = 1.24e+04+0.00e+00j\n",
                        "Relative error: 8.60e-05\n",
                        "Diff between λ_20 and λ_21: 1.41e+00\n",
                        "λ_21 = 1.24e+04+0.00e+00j\n",
                        "Relative error: 9.42e-05\n",
                        "Diff between λ_21 and λ_22: 1.41e+00\n",
                        "λ_22 = 1.24e+04+0.00e+00j\n",
                        "Relative error: 8.72e-05\n",
                        "Diff between λ_22 and λ_23: 1.41e+00\n",
                        "λ_23 = 1.24e+04+0.00e+00j\n",
                        "Relative error: 9.62e-05\n",
                        "Diff between λ_23 and λ_0: 1.41e+00\n"
                    ]
                }
            ],
            "source": [
                "for i, ev in enumerate(eigenvalues):\n",
                "    print(f\"λ_{i} = {ev:.2e}\")\n",
                "    # Verify eigenvector\n",
                "    v = eigenvectors[i]\n",
                "    w = cp.zeros_like(v)\n",
                "    w = matvec(v)\n",
                "    error = cp.linalg.norm(w - ev * v) / cp.linalg.norm(w)\n",
                "    print(f\"Relative error: {error:.2e}\")\n",
                "    j = i+1\n",
                "    if j == len(eigenvalues):\n",
                "        j = 0\n",
                "    print(\n",
                "        f\"Diff between λ_{i} and λ_{j}: {cp.linalg.norm(eigenvectors[i] - eigenvectors[j])/cp.linalg.norm(eigenvectors[i]):.2e}\")"
            ]
        },
        {
            "cell_type": "markdown",
            "metadata": {},
            "source": [
                "# Give guage's orth_eigenvectors to hdf5 files. (pass, don't run this)"
            ]
        },
        {
            "cell_type": "code",
            "execution_count": 5,
            "metadata": {},
            "outputs": [
                {
                    "data": {
                        "text/plain": [
                            "array([      8,       8,       4,       8, 1048576,       1,       1,\n",
                            "             1,       1,       0,       0,       1,       0,   10000,\n",
                            "             0,       0,       0,       2,       2,       2,       2],\n",
                            "      dtype=int32)"
                        ]
                    },
                    "execution_count": 5,
                    "metadata": {},
                    "output_type": "execute_result"
                }
            ],
            "source": [
                "params"
            ]
        },
        {
            "cell_type": "code",
            "execution_count": 39,
            "metadata": {},
            "outputs": [
                {
                    "name": "stdout",
                    "output_type": "stream",
                    "text": [
                        "Input Array Shape: (24, 4, 3, 8, 4, 8, 4)\n",
                        "Dest Shape: (24, 4, 3, 2, 4, 2, 2, 2, 4, 2, 2)\n",
                        "24 4 3 2 4 2 2 2 4 2 2\n",
                        "矩阵条件数: 1.349536418914795\n",
                        "(-0.00022188666-0.00018390932j)\n",
                        "矩阵条件数: 1.0000003576278687\n",
                        "(-6.7520887e-09+6.9849193e-10j)\n",
                        "矩阵条件数: 1.3908592462539673\n",
                        "(0.00010488248-8.790814e-05j)\n",
                        "矩阵条件数: 1.0000004768371582\n",
                        "(4.1909516e-09+1.3271347e-08j)\n",
                        "矩阵条件数: 1.3904129266738892\n",
                        "(0.00024974282-0.0003120522j)\n",
                        "矩阵条件数: 1.0000003576278687\n",
                        "(-3.7252903e-09+0j)\n",
                        "矩阵条件数: 1.361323356628418\n",
                        "(4.209183e-05-0.00011296398j)\n",
                        "矩阵条件数: 1.000000238418579\n",
                        "(1.6763806e-08-1.8626451e-09j)\n",
                        "矩阵条件数: 1.3418352603912354\n",
                        "(0.00011407088+2.1022293e-05j)\n",
                        "矩阵条件数: 1.0000003576278687\n",
                        "(7.450581e-09-2.3283064e-09j)\n",
                        "矩阵条件数: 1.3768424987792969\n",
                        "(-0.00012917638+0.00024368452j)\n",
                        "矩阵条件数: 1.000000238418579\n",
                        "(1.1175871e-08+2.7939677e-09j)\n",
                        "矩阵条件数: 1.3962405920028687\n",
                        "(0.00037449086-0.00015803156j)\n",
                        "矩阵条件数: 1.0000004768371582\n",
                        "(9.313226e-10-4.656613e-09j)\n",
                        "矩阵条件数: 1.3407230377197266\n",
                        "(-0.00025622218-9.2286835e-05j)\n",
                        "矩阵条件数: 1.0000003576278687\n",
                        "(1.8626451e-09-1.8626451e-09j)\n",
                        "矩阵条件数: 1.342261552810669\n",
                        "(-0.00033578812-8.4796644e-05j)\n",
                        "矩阵条件数: 1.000000238418579\n",
                        "(1.8626451e-09+3.259629e-09j)\n",
                        "矩阵条件数: 1.3471838235855103\n",
                        "(0.00029472026+8.780349e-05j)\n",
                        "矩阵条件数: 1.0000003576278687\n",
                        "(-1.3038516e-08-2.3283064e-09j)\n",
                        "矩阵条件数: 1.382829189300537\n",
                        "(1.5871628e-05+4.2144427e-05j)\n",
                        "矩阵条件数: 1.0000004768371582\n",
                        "(1.0244548e-08-1.1641532e-08j)\n",
                        "矩阵条件数: 1.363415002822876\n",
                        "(0.00045800215+0.0003100157j)\n",
                        "矩阵条件数: 1.000000238418579\n",
                        "(-2.7939677e-09-9.313226e-10j)\n",
                        "矩阵条件数: 1.370252013206482\n",
                        "(0.0001353829+5.862552e-06j)\n",
                        "矩阵条件数: 1.0000003576278687\n",
                        "(7.450581e-09+1.071021e-08j)\n",
                        "矩阵条件数: 1.4009640216827393\n",
                        "(-0.00012891032-5.320855e-05j)\n",
                        "矩阵条件数: 1.0000004768371582\n",
                        "(1.3038516e-08-3.7252903e-09j)\n",
                        "矩阵条件数: 1.3815081119537354\n",
                        "(5.743465e-05-0.00024033699j)\n",
                        "矩阵条件数: 1.0000003576278687\n",
                        "(-3.958121e-09-8.381903e-09j)\n",
                        "矩阵条件数: 1.3790663480758667\n",
                        "(1.2255798e-05-0.00038529106j)\n",
                        "矩阵条件数: 1.0000003576278687\n",
                        "(-1.1641532e-08+0j)\n"
                    ]
                }
            ],
            "source": [
                "_eigenvectors = io.xxxtzyx2mg_xxxtzyx(input_array=eigenvectors, params=params)\n",
                "_eigenvectors.shape  # escTtZzYyXx\n",
                "def orthogonalize(eigenvectors):\n",
                "    _eigenvectors = eigenvectors.copy()\n",
                "    size_e, size_s, size_c, size_T, size_t, size_Z, size_z, size_Y, size_y, size_X, size_x = eigenvectors.shape\n",
                "    print(size_e, size_s, size_c, size_T, size_t,\n",
                "          size_Z, size_z, size_Y, size_y, size_X, size_x)\n",
                "    for T in range(size_T):\n",
                "        for Z in range(size_Z):\n",
                "            for Y in range(size_Y):\n",
                "                for X in range(size_X):\n",
                "                    origin_matrix = eigenvectors[:,\n",
                "                                                 :, :, T, :, Z, :, Y, :, X, :]\n",
                "                    _shape = origin_matrix.shape\n",
                "                    _origin_matrix = origin_matrix.reshape(size_e, -1)\n",
                "                    condition_number = np.linalg.cond(_origin_matrix.get())\n",
                "                    print(f\"矩阵条件数: {condition_number}\")\n",
                "                    a = _origin_matrix[:, 0]\n",
                "                    b = _origin_matrix[:, -1]\n",
                "                    print(cp.dot(a.conj(), b))\n",
                "                    Q = cp.linalg.qr(_origin_matrix.T)[0]\n",
                "                    condition_number = np.linalg.cond(Q.get())\n",
                "                    print(f\"矩阵条件数: {condition_number}\")\n",
                "                    a = Q[:, 0]\n",
                "                    b = Q[:, -1]\n",
                "                    print(cp.dot(a.conj(), b))\n",
                "                    _eigenvectors[:, :, :, T, :, Z, :, Y, :, X, :] = Q.T.reshape(\n",
                "                        _shape)\n",
                "    return _eigenvectors\n",
                "orth_eigenvectors = orthogonalize(_eigenvectors)"
            ]
        },
        {
            "cell_type": "markdown",
            "metadata": {},
            "source": [
                "# MultiGrid - give grids."
            ]
        },
        {
            "cell_type": "code",
            "execution_count": 7,
            "metadata": {},
            "outputs": [
                {
                    "name": "stdout",
                    "output_type": "stream",
                    "text": [
                        "Input Array Shape: (4, 3, 8, 4, 8, 4)\n",
                        "Dest Shape: (4, 3, 2, 4, 2, 2, 2, 4, 2, 2)\n"
                    ]
                }
            ],
            "source": [
                "testvectors = orth_eigenvectors\n",
                "_src = io.xxxtzyx2mg_xxxtzyx(io.fermion2sctzyx(cp.ones(n, dtype=A.dtype), params), params)"
            ]
        },
        {
            "cell_type": "code",
            "execution_count": 8,
            "metadata": {},
            "outputs": [
                {
                    "data": {
                        "text/plain": [
                            "(4, 3, 2, 4, 2, 2, 2, 4, 2, 2)"
                        ]
                    },
                    "execution_count": 8,
                    "metadata": {},
                    "output_type": "execute_result"
                }
            ],
            "source": [
                "_src.shape"
            ]
        },
        {
            "cell_type": "markdown",
            "metadata": {},
            "source": [
                "<!-- # MultiGrid - R*vector.\n",
                "![](./image0-dev40.png) -->"
            ]
        },
        {
            "cell_type": "code",
            "execution_count": 9,
            "metadata": {},
            "outputs": [],
            "source": [
                "r_src = _src\n",
                "\n",
                "\n",
                "def r_vec(src):\n",
                "    return contract(\"escTtZzYyXx,scTtZzYyXx->eTZYX\", testvectors, src)\n",
                "\n",
                "\n",
                "r_dest = r_vec(r_src)"
            ]
        },
        {
            "cell_type": "code",
            "execution_count": 10,
            "metadata": {},
            "outputs": [
                {
                    "data": {
                        "text/plain": [
                            "(24, 2, 2, 2, 2)"
                        ]
                    },
                    "execution_count": 10,
                    "metadata": {},
                    "output_type": "execute_result"
                }
            ],
            "source": [
                "r_dest.shape"
            ]
        },
        {
            "cell_type": "markdown",
            "metadata": {},
            "source": [
                "<!-- # MultiGrid - P*vector.\n",
                "![](./image1-dev40.png) -->\n"
            ]
        },
        {
            "cell_type": "code",
            "execution_count": 11,
            "metadata": {},
            "outputs": [],
            "source": [
                "p_src = r_dest\n",
                "\n",
                "\n",
                "def p_vec(src):\n",
                "    return contract(\"escTtZzYyXx,eTZYX->scTtZzYyXx\", cp.conj(testvectors), src)\n",
                "\n",
                "\n",
                "p_dest = p_vec(p_src)"
            ]
        },
        {
            "cell_type": "code",
            "execution_count": 12,
            "metadata": {},
            "outputs": [
                {
                    "data": {
                        "text/plain": [
                            "(4, 3, 2, 4, 2, 2, 2, 4, 2, 2)"
                        ]
                    },
                    "execution_count": 12,
                    "metadata": {},
                    "output_type": "execute_result"
                }
            ],
            "source": [
                "p_dest.shape"
            ]
        },
        {
            "cell_type": "markdown",
            "metadata": {},
            "source": [
                "<!-- # MultiGrid - verify above.\n",
                "![](./image2-dev40.png) -->"
            ]
        },
        {
            "cell_type": "code",
            "execution_count": 13,
            "metadata": {},
            "outputs": [
                {
                    "name": "stdout",
                    "output_type": "stream",
                    "text": [
                        "110.85125\n",
                        "110.79778\n"
                    ]
                }
            ],
            "source": [
                "print(cp.linalg.norm(r_src))\n",
                "print(cp.linalg.norm(p_dest))"
            ]
        },
        {
            "cell_type": "code",
            "execution_count": 14,
            "metadata": {},
            "outputs": [
                {
                    "name": "stdout",
                    "output_type": "stream",
                    "text": [
                        "0.03105482\n"
                    ]
                }
            ],
            "source": [
                "print(cp.linalg.norm(r_src-p_dest)/cp.linalg.norm(r_src))"
            ]
        },
        {
            "cell_type": "code",
            "execution_count": 15,
            "metadata": {},
            "outputs": [
                {
                    "name": "stdout",
                    "output_type": "stream",
                    "text": [
                        "0.03105482\n"
                    ]
                }
            ],
            "source": [
                "print(cp.linalg.norm(r_src-p_vec(r_vec(r_src)))/cp.linalg.norm(r_src))"
            ]
        },
        {
            "cell_type": "code",
            "execution_count": 16,
            "metadata": {},
            "outputs": [
                {
                    "data": {
                        "text/plain": [
                            "array([1.+0.j, 1.+0.j, 1.+0.j, 1.+0.j, 1.+0.j, 1.+0.j, 1.+0.j, 1.+0.j,\n",
                            "       1.+0.j, 1.+0.j, 1.+0.j, 1.+0.j, 1.+0.j, 1.+0.j, 1.+0.j, 1.+0.j,\n",
                            "       1.+0.j, 1.+0.j, 1.+0.j, 1.+0.j, 1.+0.j, 1.+0.j, 1.+0.j, 1.+0.j,\n",
                            "       1.+0.j, 1.+0.j, 1.+0.j, 1.+0.j, 1.+0.j, 1.+0.j, 1.+0.j, 1.+0.j,\n",
                            "       1.+0.j, 1.+0.j, 1.+0.j, 1.+0.j, 1.+0.j, 1.+0.j, 1.+0.j, 1.+0.j,\n",
                            "       1.+0.j, 1.+0.j, 1.+0.j, 1.+0.j, 1.+0.j, 1.+0.j, 1.+0.j, 1.+0.j,\n",
                            "       1.+0.j, 1.+0.j], dtype=complex64)"
                        ]
                    },
                    "execution_count": 16,
                    "metadata": {},
                    "output_type": "execute_result"
                }
            ],
            "source": [
                "r_src.flatten()[:50]"
            ]
        },
        {
            "cell_type": "code",
            "execution_count": 17,
            "metadata": {},
            "outputs": [
                {
                    "data": {
                        "text/plain": [
                            "array([1.0433708 -1.7586246e-02j, 0.97967035-3.3752520e-02j,\n",
                            "       0.9888903 -2.5632510e-02j, 1.0096966 +1.5668022e-02j,\n",
                            "       0.95146966+4.3760508e-02j, 1.0257877 +6.0996339e-02j,\n",
                            "       0.97537094+6.6072708e-03j, 0.9930297 -6.1011668e-03j,\n",
                            "       1.0111079 -2.7442584e-06j, 0.9699653 -1.2769032e-02j,\n",
                            "       0.9841259 -2.8358703e-04j, 1.0153213 -6.6112755e-03j,\n",
                            "       1.0111208 +5.5497268e-04j, 0.96993566+5.8844220e-05j,\n",
                            "       1.0163035 +1.6793836e-02j, 1.0049931 -1.3325091e-02j,\n",
                            "       1.0077938 +2.4479732e-02j, 0.9943854 +6.2106363e-03j,\n",
                            "       1.0005748 +1.6628278e-03j, 1.0221921 -2.6473200e-02j,\n",
                            "       0.99971396+3.1832088e-02j, 0.98275745+8.7917205e-03j,\n",
                            "       1.0093181 +2.4130852e-03j, 0.9991631 -1.2370172e-02j,\n",
                            "       0.97734064+4.2580470e-02j, 1.0049398 +4.6745227e-03j,\n",
                            "       0.97411805-3.1948414e-02j, 0.9616359 -1.9116245e-02j,\n",
                            "       0.99243784-2.4701818e-03j, 0.9890905 -4.0823076e-02j,\n",
                            "       1.00584   -2.8207920e-02j, 1.0438857 +3.1900711e-02j,\n",
                            "       0.99732   +1.8660151e-03j, 0.96593285-1.3423558e-02j,\n",
                            "       1.0107777 -1.2843340e-02j, 0.98679245+2.8973352e-04j,\n",
                            "       0.9854063 -1.3743568e-02j, 1.0063912 -5.7105433e-02j,\n",
                            "       1.0269244 +1.9503273e-02j, 1.0366614 -1.0835992e-03j,\n",
                            "       0.9728015 -1.5818505e-03j, 0.984862  -1.8491358e-02j,\n",
                            "       1.005185  -1.1779104e-02j, 1.0226486 -3.2872204e-03j,\n",
                            "       0.98141015-4.7343526e-02j, 0.9741446 +2.2756999e-02j,\n",
                            "       1.0334505 +4.2963877e-02j, 0.9844928 +2.4323063e-02j,\n",
                            "       1.0005871 +1.8900663e-02j, 0.9840596 +2.4596781e-02j],\n",
                            "      dtype=complex64)"
                        ]
                    },
                    "execution_count": 17,
                    "metadata": {},
                    "output_type": "execute_result"
                }
            ],
            "source": [
                "p_dest.flatten()[:50]"
            ]
        },
        {
            "cell_type": "code",
            "execution_count": 18,
            "metadata": {},
            "outputs": [
                {
                    "data": {
                        "text/plain": [
                            "array(0.03105482, dtype=float32)"
                        ]
                    },
                    "execution_count": 18,
                    "metadata": {},
                    "output_type": "execute_result"
                }
            ],
            "source": [
                "cp.linalg.norm(r_src-p_dest)/cp.linalg.norm(r_src)"
            ]
        },
        {
            "cell_type": "code",
            "execution_count": 19,
            "metadata": {},
            "outputs": [
                {
                    "data": {
                        "text/plain": [
                            "array([1.0433708 -1.75862592e-02j, 0.97967035-3.37524600e-02j,\n",
                            "       0.98889107-2.56325137e-02j, 1.009697  +1.56680923e-02j,\n",
                            "       0.95146966+4.37605567e-02j, 1.025788  +6.09962605e-02j,\n",
                            "       0.9753714 +6.60718558e-03j, 0.9930302 -6.10115612e-03j,\n",
                            "       1.0111077 -2.90037133e-06j, 0.9699653 -1.27690239e-02j,\n",
                            "       0.98412657-2.83725443e-04j, 1.0153216 -6.61116466e-03j,\n",
                            "       1.0111209 +5.54840895e-04j, 0.9699358 +5.89014962e-05j,\n",
                            "       1.0163037 +1.67939495e-02j, 1.0049932 -1.33249378e-02j,\n",
                            "       1.0077934 +2.44796108e-02j, 0.9943851 +6.21065265e-03j,\n",
                            "       1.0005744 +1.66293420e-03j, 1.022192  -2.64731385e-02j,\n",
                            "       0.99971336+3.18322033e-02j, 0.9827569 +8.79192539e-03j,\n",
                            "       1.009318  +2.41326075e-03j, 0.99916273-1.23702977e-02j,\n",
                            "       0.9773403 +4.25806195e-02j, 1.0049394 +4.67439881e-03j,\n",
                            "       0.9741177 -3.19483429e-02j, 0.9616357 -1.91161744e-02j,\n",
                            "       0.9924372 -2.47022370e-03j, 0.9890901 -4.08227928e-02j,\n",
                            "       1.0058392 -2.82079056e-02j, 1.0438855 +3.19005102e-02j,\n",
                            "       0.99732006+1.86605006e-03j, 0.9659328 -1.34235462e-02j,\n",
                            "       1.0107781 -1.28432577e-02j, 0.98679304+2.89807795e-04j,\n",
                            "       0.98540604-1.37435729e-02j, 1.006391  -5.71054146e-02j,\n",
                            "       1.0269247 +1.95032749e-02j, 1.0366619 -1.08345365e-03j,\n",
                            "       0.9728017 -1.58160611e-03j, 0.98486215-1.84913669e-02j,\n",
                            "       1.0051857 -1.17792655e-02j, 1.0226493 -3.28720454e-03j,\n",
                            "       0.98141015-4.73434962e-02j, 0.9741444 +2.27570161e-02j,\n",
                            "       1.0334508 +4.29638885e-02j, 0.98449326+2.43230555e-02j,\n",
                            "       1.0005867 +1.89005993e-02j, 0.98405915+2.45968346e-02j],\n",
                            "      dtype=complex64)"
                        ]
                    },
                    "execution_count": 19,
                    "metadata": {},
                    "output_type": "execute_result"
                }
            ],
            "source": [
                "p_vec(r_vec(p_vec(r_vec(p_vec(r_vec(p_vec(r_vec(r_src)))))))).flatten()[:50]"
            ]
        },
        {
            "cell_type": "code",
            "execution_count": 20,
            "metadata": {},
            "outputs": [
                {
                    "data": {
                        "text/plain": [
                            "array(0.03105482, dtype=float32)"
                        ]
                    },
                    "execution_count": 20,
                    "metadata": {},
                    "output_type": "execute_result"
                }
            ],
            "source": [
                "cp.linalg.norm(r_src-p_vec(r_vec(p_vec(r_vec(p_vec(r_vec(p_vec(r_vec(r_src)))))))))/cp.linalg.norm(r_src) #???"
            ]
        },
        {
            "cell_type": "code",
            "execution_count": 21,
            "metadata": {},
            "outputs": [],
            "source": [
                "# _mat = contract(\"escTtZzYyXx,escTtZzYyXx->scTtZzYyXx\",\n",
                "#                 testvectors, cp.conj(testvectors)).flatten()\n",
                "# print(cp.linalg.norm(_mat))\n",
                "# print(_mat[:100])"
            ]
        },
        {
            "cell_type": "markdown",
            "metadata": {},
            "source": [
                "# MultiGrid - R*matvec\\*P."
            ]
        },
        {
            "cell_type": "code",
            "execution_count": 22,
            "metadata": {},
            "outputs": [],
            "source": [
                "def _r_matvec_p(src, matvec):\n",
                "    return r_vec(matvec(p_vec(io.xxx2eTZYX(src, params))))\n",
                "\n",
                "\n",
                "def r_matvec_p(src, matvec):\n",
                "    return io.array2xxx(_r_matvec_p(src, matvec))"
            ]
        },
        {
            "cell_type": "markdown",
            "metadata": {},
            "source": [
                "# MultiGrid - verify above."
            ]
        },
        {
            "cell_type": "code",
            "execution_count": 23,
            "metadata": {},
            "outputs": [],
            "source": [
                "D_r_src = matvec(r_src)"
            ]
        },
        {
            "cell_type": "code",
            "execution_count": 24,
            "metadata": {},
            "outputs": [
                {
                    "data": {
                        "text/plain": [
                            "array([13573.798+26.274761j , 13490.745+35.774696j ,\n",
                            "       13499.581+29.655415j , 13536.367-24.394896j ,\n",
                            "       13454.672-46.29932j  , 13556.42 -75.79355j  ,\n",
                            "       13481.258 -5.8800697j, 13513.289 +1.7740173j,\n",
                            "       13524.541 +8.711571j , 13482.487+27.535423j ,\n",
                            "       13508.272 -5.088859j , 13535.1   +2.4020128j,\n",
                            "       13530.387 -1.0551767j, 13480.697 +4.4766364j,\n",
                            "       13540.52 -20.425655j , 13527.419+13.542053j ,\n",
                            "       13530.951-24.043997j , 13522.678 -2.569065j ,\n",
                            "       13523.892 -4.2136564j, 13538.913+33.980064j ,\n",
                            "       13516.804-33.560707j , 13497.535-16.867218j ,\n",
                            "       13527.663 -1.1439672j, 13518.439+18.185316j ,\n",
                            "       13481.743-50.052914j , 13519.732 -4.6215267j,\n",
                            "       13496.091+42.926285j , 13471.3  +16.177689j ,\n",
                            "       13508.061 +8.456775j , 13507.51 +46.11792j  ,\n",
                            "       13521.595+35.034893j , 13571.943-33.601833j ,\n",
                            "       13514.355 -2.2058554j, 13480.999+18.844683j ,\n",
                            "       13533.926+14.511944j , 13512.592 -2.1014147j,\n",
                            "       13498.373+27.22504j  , 13522.993+77.1049j   ,\n",
                            "       13549.64 -23.785177j , 13565.92  -3.474957j ,\n",
                            "       13486.746 -4.002675j , 13493.815+25.679955j ,\n",
                            "       13531.256+11.9450245j, 13551.532 +8.404477j ,\n",
                            "       13493.922+64.105064j , 13487.582-25.899538j ,\n",
                            "       13558.115-47.828915j , 13496.517-35.785526j ,\n",
                            "       13527.489-28.547508j , 13498.088-30.219587j ], dtype=complex64)"
                        ]
                    },
                    "execution_count": 24,
                    "metadata": {},
                    "output_type": "execute_result"
                }
            ],
            "source": [
                "D_r_src.flatten()[:50]"
            ]
        },
        {
            "cell_type": "code",
            "execution_count": 25,
            "metadata": {},
            "outputs": [
                {
                    "name": "stdout",
                    "output_type": "stream",
                    "text": [
                        "Input Array Shape: (24, 2, 2, 2, 2)\n",
                        "Dest Shape: (24, 2, 2, 2, 2)\n"
                    ]
                }
            ],
            "source": [
                "p_r_D_p_r_dest=p_vec(_r_matvec_p(r_dest,matvec=matvec))"
            ]
        },
        {
            "cell_type": "code",
            "execution_count": 26,
            "metadata": {},
            "outputs": [
                {
                    "data": {
                        "text/plain": [
                            "array([14104.019 -228.40837j  , 13239.675 -450.51248j  ,\n",
                            "       13365.434 -346.38544j  , 13649.685 +203.61621j  ,\n",
                            "       12853.815 +600.51917j  , 13861.721 +821.9647j   ,\n",
                            "       13180.716  +88.59714j  , 13427.011  -88.44182j  ,\n",
                            "       13664.83   +12.109514j , 13100.497 -172.09491j  ,\n",
                            "       13297.031   -3.5118256j, 13718.34   -94.342285j ,\n",
                            "       13657.853   +0.9214573j, 13103.341   -0.98703j  ,\n",
                            "       13742.2295+219.3742j   , 13590.04  -179.23267j  ,\n",
                            "       13621.753 +337.13132j  , 13437.949  +81.07031j  ,\n",
                            "       13515.705  +24.612406j , 13810.512 -357.431j    ,\n",
                            "       13508.315 +423.10147j  , 13288.61  +127.403175j ,\n",
                            "       13632.723  +34.894432j , 13506.463 -166.59174j  ,\n",
                            "       13209.463 +573.57935j  , 13572.172  +68.71375j  ,\n",
                            "       13163.147 -424.31647j  , 12997.682 -253.4448j   ,\n",
                            "       13414.531  -28.144455j , 13372.773 -552.2527j   ,\n",
                            "       13598.688 -388.26367j  , 14100.762 +434.15643j  ,\n",
                            "       13480.207  +22.90073j  , 13052.751 -182.0839j   ,\n",
                            "       13662.841 -171.15176j  , 13334.84    -3.175909j ,\n",
                            "       13309.019 -174.8834j   , 13596.452 -763.8787j   ,\n",
                            "       13887.506 +261.55978j  , 14013.909  -18.172443j ,\n",
                            "       13148.881  -23.274246j , 13318.788 -246.76303j  ,\n",
                            "       13586.122 -165.24066j  , 13813.69   -48.024067j ,\n",
                            "       13265.906 -632.5305j   , 13169.63  +311.05994j  ,\n",
                            "       13979.231 +582.22766j  , 13305.5205+329.33325j  ,\n",
                            "       13518.217 +255.58449j  , 13299.01  +317.8642j   ], dtype=complex64)"
                        ]
                    },
                    "execution_count": 26,
                    "metadata": {},
                    "output_type": "execute_result"
                }
            ],
            "source": [
                "p_r_D_p_r_dest.flatten()[:50]"
            ]
        },
        {
            "cell_type": "code",
            "execution_count": 27,
            "metadata": {},
            "outputs": [
                {
                    "data": {
                        "text/plain": [
                            "array(0.03114777, dtype=float32)"
                        ]
                    },
                    "execution_count": 27,
                    "metadata": {},
                    "output_type": "execute_result"
                }
            ],
            "source": [
                "cp.linalg.norm(D_r_src-p_r_D_p_r_dest)/cp.linalg.norm(D_r_src)"
            ]
        },
        {
            "cell_type": "code",
            "execution_count": 28,
            "metadata": {},
            "outputs": [
                {
                    "data": {
                        "text/plain": [
                            "array([-2.75381947e+01-2.9804075e+00j, -2.75446281e+01-2.9098406e+00j,\n",
                            "       -2.75457573e+01-2.9164839e+00j, -2.75431499e+01-2.9358132e+00j,\n",
                            "       -2.75408669e+01-2.9625549e+00j, -2.75399323e+01-2.9646726e+00j,\n",
                            "       -2.75419693e+01-2.9453528e+00j, -2.75441933e+01-2.9244659e+00j,\n",
                            "       -2.75383987e+01-2.9768014e+00j, -2.75419769e+01-2.9387305e+00j,\n",
                            "       -2.75430069e+01-2.9342146e+00j, -2.75441360e+01-2.9267416e+00j,\n",
                            "       -2.75448112e+01-2.9244461e+00j, -2.75463829e+01-2.9036703e+00j,\n",
                            "       -2.75451584e+01-2.9228601e+00j, -2.75434151e+01-2.9302859e+00j,\n",
                            "        1.59144402e-05-4.3415129e-02j, -1.70517340e-02-3.2780379e-02j,\n",
                            "        1.05371475e-02+1.1419803e-03j, -1.29313767e-02+3.2871217e-03j,\n",
                            "       -5.88530302e-03+2.7386248e-03j, -2.22008228e-02-4.1321963e-03j,\n",
                            "       -2.77023315e-02-2.1144271e-02j, -1.46165788e-02+1.9183993e-02j,\n",
                            "       -1.09072924e-02+9.5222890e-04j,  8.63033161e-03-9.7517371e-03j,\n",
                            "       -1.02344751e-02+2.2263825e-02j, -5.81735373e-03-1.1231750e-02j,\n",
                            "       -7.39851594e-03+6.5775514e-03j, -1.95229053e-02-5.5587888e-03j,\n",
                            "       -9.45365429e-03-1.4568865e-02j,  4.06000614e-02-2.3950785e-02j,\n",
                            "        4.72933054e-03+2.5655717e-02j,  3.22339684e-02-1.3102472e-02j,\n",
                            "        1.59381926e-02+2.2272170e-03j, -4.01312113e-02+2.8829873e-03j,\n",
                            "       -1.30188465e-02+2.2852510e-02j, -2.95996815e-02-6.1545074e-03j,\n",
                            "       -1.27032399e-04-3.6520004e-02j,  3.38987410e-02+3.3192784e-02j,\n",
                            "       -9.30696726e-03+1.7278537e-02j, -4.88400459e-03+3.2766290e-02j,\n",
                            "        3.82593274e-02-4.5593083e-04j, -5.59949875e-03+1.3710588e-02j,\n",
                            "        3.78791690e-02+1.7765835e-02j,  1.11163557e-02-1.6777664e-02j,\n",
                            "       -1.94058865e-02+4.0560961e-04j,  4.31001186e-04-9.6121430e-04j,\n",
                            "        2.02388465e-02+6.8594217e-03j,  7.01693445e-03+2.6753455e-02j],\n",
                            "      dtype=complex64)"
                        ]
                    },
                    "execution_count": 28,
                    "metadata": {},
                    "output_type": "execute_result"
                }
            ],
            "source": [
                "r_dest.flatten()[:50]"
            ]
        },
        {
            "cell_type": "code",
            "execution_count": 29,
            "metadata": {},
            "outputs": [
                {
                    "data": {
                        "text/plain": [
                            "array([1.0433708 -1.7586246e-02j, 0.97967035-3.3752520e-02j,\n",
                            "       0.9888903 -2.5632510e-02j, 1.0096966 +1.5668022e-02j,\n",
                            "       0.95146966+4.3760508e-02j, 1.0257877 +6.0996339e-02j,\n",
                            "       0.97537094+6.6072708e-03j, 0.9930297 -6.1011668e-03j,\n",
                            "       1.0111079 -2.7442584e-06j, 0.9699653 -1.2769032e-02j,\n",
                            "       0.9841259 -2.8358703e-04j, 1.0153213 -6.6112755e-03j,\n",
                            "       1.0111208 +5.5497268e-04j, 0.96993566+5.8844220e-05j,\n",
                            "       1.0163035 +1.6793836e-02j, 1.0049931 -1.3325091e-02j,\n",
                            "       1.0077938 +2.4479732e-02j, 0.9943854 +6.2106363e-03j,\n",
                            "       1.0005748 +1.6628278e-03j, 1.0221921 -2.6473200e-02j,\n",
                            "       0.99971396+3.1832088e-02j, 0.98275745+8.7917205e-03j,\n",
                            "       1.0093181 +2.4130852e-03j, 0.9991631 -1.2370172e-02j,\n",
                            "       0.97734064+4.2580470e-02j, 1.0049398 +4.6745227e-03j,\n",
                            "       0.97411805-3.1948414e-02j, 0.9616359 -1.9116245e-02j,\n",
                            "       0.99243784-2.4701818e-03j, 0.9890905 -4.0823076e-02j,\n",
                            "       1.00584   -2.8207920e-02j, 1.0438857 +3.1900711e-02j,\n",
                            "       0.99732   +1.8660151e-03j, 0.96593285-1.3423558e-02j,\n",
                            "       1.0107777 -1.2843340e-02j, 0.98679245+2.8973352e-04j,\n",
                            "       0.9854063 -1.3743568e-02j, 1.0063912 -5.7105433e-02j,\n",
                            "       1.0269244 +1.9503273e-02j, 1.0366614 -1.0835992e-03j,\n",
                            "       0.9728015 -1.5818505e-03j, 0.984862  -1.8491358e-02j,\n",
                            "       1.005185  -1.1779104e-02j, 1.0226486 -3.2872204e-03j,\n",
                            "       0.98141015-4.7343526e-02j, 0.9741446 +2.2756999e-02j,\n",
                            "       1.0334505 +4.2963877e-02j, 0.9844928 +2.4323063e-02j,\n",
                            "       1.0005871 +1.8900663e-02j, 0.9840596 +2.4596781e-02j],\n",
                            "      dtype=complex64)"
                        ]
                    },
                    "execution_count": 29,
                    "metadata": {},
                    "output_type": "execute_result"
                }
            ],
            "source": [
                "p_vec(r_dest).flatten()[:50]"
            ]
        },
        {
            "cell_type": "code",
            "execution_count": 30,
            "metadata": {},
            "outputs": [
                {
                    "data": {
                        "text/plain": [
                            "(24, 2, 2, 2, 2)"
                        ]
                    },
                    "execution_count": 30,
                    "metadata": {},
                    "output_type": "execute_result"
                }
            ],
            "source": [
                "r_dest.shape"
            ]
        },
        {
            "cell_type": "markdown",
            "metadata": {},
            "source": [
                "# MultiGrid - CG (BUG!!!)"
            ]
        },
        {
            "cell_type": "code",
            "execution_count": 31,
            "metadata": {},
            "outputs": [],
            "source": [
                "# b = r_src.flatten().copy()\n",
                "# print(b)\n",
                "# x = cg.slover(b=r_src.flatten(), matvec=matvec,\n",
                "#               tol=1e-5, max_iter=1000000).run()\n",
                "# print(b)\n"
            ]
        },
        {
            "cell_type": "code",
            "execution_count": 32,
            "metadata": {},
            "outputs": [],
            "source": [
                "\n",
                "# Ax = matvec(x)\n",
                "# print(cp.linalg.norm(b-Ax)/cp.linalg.norm(b))\n",
                "# b = r_src.flatten()\n",
                "# _x = bistabcg.slover(b=b, matvec=matvec,\n",
                "#                      tol=1e-5, max_iter=1000000).run()\n",
                "# Ax = matvec(_x)\n",
                "# print(cp.linalg.norm(b-Ax)/cp.linalg.norm(b))\n",
                "# #########\n",
                "# print(cp.linalg.norm(x-_x)/cp.linalg.norm(x))"
            ]
        },
        {
            "cell_type": "code",
            "execution_count": 33,
            "metadata": {},
            "outputs": [
                {
                    "data": {
                        "text/plain": [
                            "array([1.+0.j, 1.+0.j, 1.+0.j, ..., 1.+0.j, 1.+0.j, 1.+0.j],\n",
                            "      dtype=complex64)"
                        ]
                    },
                    "execution_count": 33,
                    "metadata": {},
                    "output_type": "execute_result"
                }
            ],
            "source": [
                "b = r_src.flatten()\n",
                "b"
            ]
        },
        {
            "cell_type": "code",
            "execution_count": 34,
            "metadata": {},
            "outputs": [],
            "source": [
                "# mg_b=r_dest.flatten()\n",
                "# mg_x = cg.slover(b=mg_b, matvec=functools.partial(r_matvec_p, matvec=matvec),\n",
                "#                       tol=1e-5, max_iter=1000000).run()\n",
                "# mg_Ax=r_matvec_p(mg_x,matvec=matvec)\n",
                "# print(cp.linalg.norm(mg_b-mg_Ax)/cp.linalg.norm(mg_b))\n",
                "# _mg_x = bistabcg.slover(b=mg_b, matvec=functools.partial(r_matvec_p, matvec=matvec),\n",
                "#                       tol=1e-5, max_iter=1000000).run()\n",
                "# mg_Ax=r_matvec_p(_mg_x,matvec=matvec)\n",
                "# print(cp.linalg.norm(mg_b-mg_Ax)/cp.linalg.norm(mg_b))\n",
                "# #########\n",
                "# print(cp.linalg.norm(mg_x-_mg_x)/cp.linalg.norm(mg_x))\n",
                "# print(cp.linalg.norm(mg_b))"
            ]
        },
        {
            "cell_type": "code",
            "execution_count": 35,
            "metadata": {},
            "outputs": [
                {
                    "data": {
                        "text/plain": [
                            "array([[[[[-2.75381947e+01-2.98040748e+00j,\n",
                            "           -2.75446281e+01-2.90984058e+00j],\n",
                            "          [-2.75457573e+01-2.91648388e+00j,\n",
                            "           -2.75431499e+01-2.93581319e+00j]],\n",
                            "\n",
                            "         [[-2.75408669e+01-2.96255493e+00j,\n",
                            "           -2.75399323e+01-2.96467257e+00j],\n",
                            "          [-2.75419693e+01-2.94535279e+00j,\n",
                            "           -2.75441933e+01-2.92446589e+00j]]],\n",
                            "\n",
                            "\n",
                            "        [[[-2.75383987e+01-2.97680140e+00j,\n",
                            "           -2.75419769e+01-2.93873048e+00j],\n",
                            "          [-2.75430069e+01-2.93421459e+00j,\n",
                            "           -2.75441360e+01-2.92674160e+00j]],\n",
                            "\n",
                            "         [[-2.75448112e+01-2.92444611e+00j,\n",
                            "           -2.75463829e+01-2.90367031e+00j],\n",
                            "          [-2.75451584e+01-2.92286015e+00j,\n",
                            "           -2.75434151e+01-2.93028593e+00j]]]],\n",
                            "\n",
                            "\n",
                            "\n",
                            "       [[[[ 1.59144402e-05-4.34151292e-02j,\n",
                            "           -1.70517340e-02-3.27803791e-02j],\n",
                            "          [ 1.05371475e-02+1.14198029e-03j,\n",
                            "           -1.29313767e-02+3.28712165e-03j]],\n",
                            "\n",
                            "         [[-5.88530302e-03+2.73862481e-03j,\n",
                            "           -2.22008228e-02-4.13219631e-03j],\n",
                            "          [-2.77023315e-02-2.11442709e-02j,\n",
                            "           -1.46165788e-02+1.91839933e-02j]]],\n",
                            "\n",
                            "\n",
                            "        [[[-1.09072924e-02+9.52228904e-04j,\n",
                            "            8.63033161e-03-9.75173712e-03j],\n",
                            "          [-1.02344751e-02+2.22638249e-02j,\n",
                            "           -5.81735373e-03-1.12317502e-02j]],\n",
                            "\n",
                            "         [[-7.39851594e-03+6.57755136e-03j,\n",
                            "           -1.95229053e-02-5.55878878e-03j],\n",
                            "          [-9.45365429e-03-1.45688653e-02j,\n",
                            "            4.06000614e-02-2.39507854e-02j]]]],\n",
                            "\n",
                            "\n",
                            "\n",
                            "       [[[[ 4.72933054e-03+2.56557167e-02j,\n",
                            "            3.22339684e-02-1.31024718e-02j],\n",
                            "          [ 1.59381926e-02+2.22721696e-03j,\n",
                            "           -4.01312113e-02+2.88298726e-03j]],\n",
                            "\n",
                            "         [[-1.30188465e-02+2.28525102e-02j,\n",
                            "           -2.95996815e-02-6.15450740e-03j],\n",
                            "          [-1.27032399e-04-3.65200043e-02j,\n",
                            "            3.38987410e-02+3.31927836e-02j]]],\n",
                            "\n",
                            "\n",
                            "        [[[-9.30696726e-03+1.72785372e-02j,\n",
                            "           -4.88400459e-03+3.27662900e-02j],\n",
                            "          [ 3.82593274e-02-4.55930829e-04j,\n",
                            "           -5.59949875e-03+1.37105882e-02j]],\n",
                            "\n",
                            "         [[ 3.78791690e-02+1.77658349e-02j,\n",
                            "            1.11163557e-02-1.67776644e-02j],\n",
                            "          [-1.94058865e-02+4.05609608e-04j,\n",
                            "            4.31001186e-04-9.61214304e-04j]]]],\n",
                            "\n",
                            "\n",
                            "\n",
                            "       [[[[ 2.02388465e-02+6.85942173e-03j,\n",
                            "            7.01693445e-03+2.67534554e-02j],\n",
                            "          [ 3.21937203e-02+1.57407820e-02j,\n",
                            "            4.62234020e-04+1.42526925e-02j]],\n",
                            "\n",
                            "         [[ 3.28262299e-02-3.38375568e-04j,\n",
                            "           -8.35227966e-03+1.89593732e-02j],\n",
                            "          [ 9.82284546e-05-3.72952223e-03j,\n",
                            "            2.91158855e-02+4.10748422e-02j]]],\n",
                            "\n",
                            "\n",
                            "        [[[-7.03424960e-03-9.84609127e-04j,\n",
                            "            4.61460054e-02+3.95947695e-03j],\n",
                            "          [-3.36558819e-02-3.34159136e-02j,\n",
                            "            3.34755480e-02+6.75593317e-03j]],\n",
                            "\n",
                            "         [[ 5.96019626e-03+3.66973877e-03j,\n",
                            "            1.51883215e-02-4.35944796e-02j],\n",
                            "          [ 3.48606110e-02+4.22614813e-03j,\n",
                            "           -1.60758942e-02-1.02056339e-02j]]]],\n",
                            "\n",
                            "\n",
                            "\n",
                            "       [[[[-1.31528378e-02-2.31324658e-02j,\n",
                            "            3.01599503e-03+1.66836828e-02j],\n",
                            "          [-3.11635882e-02+1.50784254e-02j,\n",
                            "            4.89055216e-02+3.04123759e-03j]],\n",
                            "\n",
                            "         [[ 4.55673933e-02-2.37838328e-02j,\n",
                            "           -8.52105021e-03+1.70305371e-03j],\n",
                            "          [ 2.03749835e-02+1.18913949e-02j,\n",
                            "           -4.11462784e-03-5.33058047e-02j]]],\n",
                            "\n",
                            "\n",
                            "        [[[-4.45021689e-02+1.23216808e-02j,\n",
                            "           -1.90803111e-02-4.31449190e-02j],\n",
                            "          [-5.78257442e-03-1.84431672e-03j,\n",
                            "           -1.59327239e-02+2.85808742e-03j]],\n",
                            "\n",
                            "         [[ 1.20189190e-02+1.30872726e-02j,\n",
                            "           -3.44982743e-02-1.54869556e-02j],\n",
                            "          [ 4.77164984e-03+2.28564888e-02j,\n",
                            "           -3.88661027e-03+3.31401527e-02j]]]],\n",
                            "\n",
                            "\n",
                            "\n",
                            "       [[[[-1.30746365e-02-1.81432366e-02j,\n",
                            "            1.09632611e-02+1.36556625e-02j],\n",
                            "          [ 1.67124718e-02+1.22652054e-02j,\n",
                            "            1.52996182e-03-7.06686080e-03j]],\n",
                            "\n",
                            "         [[-1.49370134e-02-1.29342377e-02j,\n",
                            "            3.34190726e-02+4.26326320e-02j],\n",
                            "          [ 1.19198859e-03+1.57915652e-02j,\n",
                            "           -2.07941234e-03-9.48750973e-03j]]],\n",
                            "\n",
                            "\n",
                            "        [[[-1.13499165e-03+1.25147402e-04j,\n",
                            "           -1.35381222e-02+1.49467289e-02j],\n",
                            "          [ 5.67099452e-03-2.25427747e-03j,\n",
                            "            1.26285553e-02+6.86874613e-03j]],\n",
                            "\n",
                            "         [[ 9.75000858e-03+2.09538639e-03j,\n",
                            "           -2.40493417e-02-1.43730044e-02j],\n",
                            "          [ 1.21208131e-02+1.95905566e-02j,\n",
                            "            2.49157548e-02+6.99979067e-03j]]]],\n",
                            "\n",
                            "\n",
                            "\n",
                            "       [[[[-2.63154507e-04-1.99582577e-02j,\n",
                            "           -2.16650963e-03+6.69646263e-03j],\n",
                            "          [-1.17503703e-02+2.87885666e-02j,\n",
                            "           -2.69921124e-03+1.11086667e-02j]],\n",
                            "\n",
                            "         [[-9.08654928e-03-2.73451209e-04j,\n",
                            "           -7.39206374e-03+1.26010180e-03j],\n",
                            "          [ 5.15478849e-03-4.32786644e-02j,\n",
                            "            8.13823938e-03+1.09200627e-02j]]],\n",
                            "\n",
                            "\n",
                            "        [[[ 1.99393183e-02-1.24662220e-02j,\n",
                            "            2.70903111e-04+1.86077505e-02j],\n",
                            "          [-2.25132108e-02+1.43966377e-02j,\n",
                            "           -3.83809209e-04+5.84748536e-02j]],\n",
                            "\n",
                            "         [[-1.49667263e-03-1.45606399e-02j,\n",
                            "           -4.48265672e-03-1.31831169e-02j],\n",
                            "          [-4.77138162e-03+3.55570614e-02j,\n",
                            "            6.55412674e-03-4.33734059e-03j]]]],\n",
                            "\n",
                            "\n",
                            "\n",
                            "       [[[[ 1.00606680e-03+2.30743587e-02j,\n",
                            "           -2.79071927e-02-3.04093212e-02j],\n",
                            "          [ 3.57189104e-02+3.39131057e-02j,\n",
                            "           -1.84338540e-03-2.39629745e-02j]],\n",
                            "\n",
                            "         [[-1.21105313e-02-1.15213022e-02j,\n",
                            "            1.16556883e-04+8.73818994e-03j],\n",
                            "          [ 3.27467918e-03+2.73191929e-03j,\n",
                            "            6.59863651e-03+8.75508785e-03j]]],\n",
                            "\n",
                            "\n",
                            "        [[[ 5.28573990e-03-4.85968590e-03j,\n",
                            "           -2.94183493e-02-5.56865335e-03j],\n",
                            "          [-1.83352083e-02+8.39626789e-03j,\n",
                            "           -2.05187798e-02+1.13782287e-02j]],\n",
                            "\n",
                            "         [[ 1.79296732e-03+1.05792284e-03j,\n",
                            "           -5.26584685e-03+1.51382834e-02j],\n",
                            "          [ 2.08632946e-02+1.50947273e-02j,\n",
                            "           -8.99270177e-03+4.19974923e-02j]]]],\n",
                            "\n",
                            "\n",
                            "\n",
                            "       [[[[-4.81909513e-03+2.10887194e-02j,\n",
                            "           -1.51106119e-02+8.64595175e-03j],\n",
                            "          [-2.14844942e-03+8.02904367e-03j,\n",
                            "           -4.15116549e-03+1.16801262e-02j]],\n",
                            "\n",
                            "         [[ 3.31252217e-02+4.16253805e-02j,\n",
                            "            1.35177076e-02-1.27974600e-02j],\n",
                            "          [-5.60252070e-02+1.45788491e-02j,\n",
                            "            1.00966245e-02-1.22625530e-02j]]],\n",
                            "\n",
                            "\n",
                            "        [[[-2.47467607e-02-1.56558901e-02j,\n",
                            "           -2.68301927e-02-1.27176940e-02j],\n",
                            "          [ 2.95349658e-02+9.59587097e-03j,\n",
                            "           -3.59082222e-03+4.49104607e-03j]],\n",
                            "\n",
                            "         [[-7.77546316e-03-2.60336697e-02j,\n",
                            "            2.66080499e-02-1.27238631e-02j],\n",
                            "          [ 1.91021860e-02-1.76990181e-02j,\n",
                            "           -2.54464746e-02+1.72104537e-02j]]]],\n",
                            "\n",
                            "\n",
                            "\n",
                            "       [[[[-2.19882578e-02+5.11188358e-02j,\n",
                            "            1.76459998e-02-3.97058129e-02j],\n",
                            "          [-8.69323313e-03-3.58173251e-02j,\n",
                            "           -4.03452516e-02+9.45855677e-03j]],\n",
                            "\n",
                            "         [[ 6.93541765e-03+2.27205604e-02j,\n",
                            "           -6.17598593e-02+7.92728364e-03j],\n",
                            "          [-4.66498733e-02-2.58288383e-02j,\n",
                            "           -9.97832417e-03+5.55497408e-03j]]],\n",
                            "\n",
                            "\n",
                            "        [[[ 2.97837108e-02+7.17496872e-03j,\n",
                            "            7.84139335e-03-1.23315156e-02j],\n",
                            "          [-3.54230404e-03+3.23784351e-03j,\n",
                            "            1.38370097e-02+7.23302364e-03j]],\n",
                            "\n",
                            "         [[ 2.14986429e-02-1.27162337e-02j,\n",
                            "            1.79689229e-02+1.08707547e-02j],\n",
                            "          [ 9.82344151e-03+1.49149001e-02j,\n",
                            "           -2.23842561e-02-2.36022025e-02j]]]],\n",
                            "\n",
                            "\n",
                            "\n",
                            "       [[[[ 2.50964910e-02-2.36866474e-02j,\n",
                            "           -3.63991857e-02-3.14022303e-02j],\n",
                            "          [ 3.07694972e-02-2.52266824e-02j,\n",
                            "           -3.77308130e-02-6.72811270e-03j]],\n",
                            "\n",
                            "         [[ 2.19507515e-03-7.88654387e-03j,\n",
                            "           -6.01713657e-02-1.97155923e-02j],\n",
                            "          [-1.81893110e-02-1.19432360e-02j,\n",
                            "            2.22036093e-02+1.98585391e-02j]]],\n",
                            "\n",
                            "\n",
                            "        [[[ 3.16096842e-03+8.95601511e-03j,\n",
                            "            2.04578117e-02+1.95903778e-02j],\n",
                            "          [-6.75022602e-04+2.15458572e-02j,\n",
                            "            2.69336998e-02+4.07712162e-02j]],\n",
                            "\n",
                            "         [[ 2.08944082e-03-2.07938403e-02j,\n",
                            "            1.27396584e-02+3.73993516e-02j],\n",
                            "          [-1.35363042e-02+6.68959320e-03j,\n",
                            "            4.95427698e-02-8.81665945e-03j]]]],\n",
                            "\n",
                            "\n",
                            "\n",
                            "       [[[[ 2.67751217e-02-2.11967528e-03j,\n",
                            "            3.10292095e-02+1.79960132e-02j],\n",
                            "          [-3.47314179e-02-8.53157789e-03j,\n",
                            "           -6.79631233e-02+2.21027732e-02j]],\n",
                            "\n",
                            "         [[ 6.77034259e-03-2.66600549e-02j,\n",
                            "           -1.93293095e-02+8.36804509e-03j],\n",
                            "          [ 4.12392616e-03+2.19071805e-02j,\n",
                            "           -6.12407923e-03+2.70042121e-02j]]],\n",
                            "\n",
                            "\n",
                            "        [[[ 2.65431404e-03-5.57458401e-02j,\n",
                            "           -1.26651376e-02-1.71743929e-02j],\n",
                            "          [ 1.07026100e-02-2.59625614e-02j,\n",
                            "           -6.94870949e-03+2.19576210e-02j]],\n",
                            "\n",
                            "         [[-3.48255038e-03-1.28567219e-04j,\n",
                            "            3.08799148e-02-2.60873884e-02j],\n",
                            "          [ 3.52306664e-03-2.30479836e-02j,\n",
                            "           -3.42535973e-03+1.46919489e-02j]]]],\n",
                            "\n",
                            "\n",
                            "\n",
                            "       [[[[ 4.22593951e-03-7.96642900e-03j,\n",
                            "           -1.18065178e-02+2.39767134e-03j],\n",
                            "          [ 2.33922154e-02+9.87970829e-03j,\n",
                            "           -1.27760172e-02-1.28326714e-02j]],\n",
                            "\n",
                            "         [[-2.90296674e-02+6.39039278e-03j,\n",
                            "           -4.33972478e-02+2.41232514e-02j],\n",
                            "          [-3.35433632e-02+1.14227831e-03j,\n",
                            "            9.48378444e-03+3.31639349e-02j]]],\n",
                            "\n",
                            "\n",
                            "        [[[-2.10342407e-02-9.98347998e-03j,\n",
                            "            3.07965279e-03+5.67663461e-03j],\n",
                            "          [ 3.92408669e-02+4.57838476e-02j,\n",
                            "            2.76459455e-02-6.59215450e-03j]],\n",
                            "\n",
                            "         [[ 3.33034992e-03+2.42662430e-02j,\n",
                            "           -1.97617412e-02-1.72883272e-02j],\n",
                            "          [-8.68389010e-03-2.99969912e-02j,\n",
                            "           -1.64671540e-02-1.25087649e-02j]]]],\n",
                            "\n",
                            "\n",
                            "\n",
                            "       [[[[ 2.16690004e-02-1.27577186e-02j,\n",
                            "           -5.93245029e-03+1.31477118e-02j],\n",
                            "          [-2.39629149e-02+4.27459925e-02j,\n",
                            "            2.71308720e-02+2.09820271e-03j]],\n",
                            "\n",
                            "         [[-2.54857540e-02-2.21857131e-02j,\n",
                            "            1.39631331e-03-3.89584899e-03j],\n",
                            "          [-2.90198326e-02+1.87532306e-02j,\n",
                            "           -3.94371003e-02+2.38944888e-02j]]],\n",
                            "\n",
                            "\n",
                            "        [[[-8.66314769e-03+2.71832347e-02j,\n",
                            "            2.87503004e-04+2.97192931e-02j],\n",
                            "          [ 3.46823484e-02-6.34461939e-02j,\n",
                            "            1.36418343e-02-1.47345662e-02j]],\n",
                            "\n",
                            "         [[ 1.80608779e-02-4.24825549e-02j,\n",
                            "           -3.86741757e-03-1.56972855e-02j],\n",
                            "          [ 3.08465958e-02+4.91927862e-02j,\n",
                            "           -3.06061506e-02+4.90397215e-03j]]]],\n",
                            "\n",
                            "\n",
                            "\n",
                            "       [[[[-2.18545198e-02+1.57997906e-02j,\n",
                            "            4.06668484e-02+2.56983936e-03j],\n",
                            "          [-3.70432436e-02-2.80395150e-03j,\n",
                            "           -2.81060040e-02-6.11346886e-02j]],\n",
                            "\n",
                            "         [[ 3.96463275e-02+2.05301046e-02j,\n",
                            "            1.04291737e-02-1.34855360e-02j],\n",
                            "          [-1.82336569e-02-6.60467148e-03j,\n",
                            "            8.23594630e-03-1.78679526e-02j]]],\n",
                            "\n",
                            "\n",
                            "        [[[-3.96454036e-02-1.14757121e-02j,\n",
                            "            1.62604451e-02+1.52857602e-03j],\n",
                            "          [-1.50661021e-02+1.58587694e-02j,\n",
                            "           -6.83116913e-03+3.41159105e-03j]],\n",
                            "\n",
                            "         [[ 1.82045251e-02-3.91964018e-02j,\n",
                            "            5.74532151e-03+2.20059156e-02j],\n",
                            "          [-4.56193686e-02+4.03821468e-03j,\n",
                            "            1.33909583e-02-5.72215617e-02j]]]],\n",
                            "\n",
                            "\n",
                            "\n",
                            "       [[[[ 3.59239280e-02+9.10960138e-03j,\n",
                            "            1.91095769e-02-1.16388202e-02j],\n",
                            "          [ 1.70351863e-02+2.78354138e-02j,\n",
                            "            1.66101158e-02+4.18624282e-03j]],\n",
                            "\n",
                            "         [[ 1.71639174e-02+2.76783705e-02j,\n",
                            "            5.29059768e-03-3.63011658e-03j],\n",
                            "          [-9.46801901e-03-1.01530254e-02j,\n",
                            "            1.63018703e-02-3.09336782e-02j]]],\n",
                            "\n",
                            "\n",
                            "        [[[-1.38608813e-02-1.00299716e-02j,\n",
                            "            2.16099322e-02-1.37325227e-02j],\n",
                            "          [ 8.08304548e-03-3.95054817e-02j,\n",
                            "           -2.47124285e-02-2.21832097e-02j]],\n",
                            "\n",
                            "         [[ 9.21899080e-03+2.46220231e-02j,\n",
                            "            7.14641809e-03+1.41346455e-03j],\n",
                            "          [-2.74565220e-02+1.29302144e-02j,\n",
                            "            4.50875610e-03-1.52756274e-02j]]]],\n",
                            "\n",
                            "\n",
                            "\n",
                            "       [[[[-1.58678293e-02+3.21894884e-04j,\n",
                            "           -3.95285189e-02-2.19682455e-02j],\n",
                            "          [-2.28750408e-02+3.51715833e-02j,\n",
                            "           -1.59240663e-02-3.14927846e-02j]],\n",
                            "\n",
                            "         [[ 1.92376971e-03-2.25629956e-02j,\n",
                            "           -6.03327155e-03-3.04237008e-03j],\n",
                            "          [ 6.10017776e-03-3.91663536e-02j,\n",
                            "            5.70936501e-03+8.23435187e-03j]]],\n",
                            "\n",
                            "\n",
                            "        [[[-9.02122259e-03+3.81117463e-02j,\n",
                            "           -2.37429142e-02+2.29875743e-02j],\n",
                            "          [ 1.58490837e-02+1.32913291e-02j,\n",
                            "            3.20842266e-02-5.80877066e-04j]],\n",
                            "\n",
                            "         [[-2.40237117e-02-3.16526890e-02j,\n",
                            "           -2.14512348e-02+2.83880532e-02j],\n",
                            "          [-4.59646434e-02+1.69482306e-02j,\n",
                            "           -1.85478926e-02-2.64678150e-03j]]]],\n",
                            "\n",
                            "\n",
                            "\n",
                            "       [[[[-2.04164237e-02-1.15574896e-02j,\n",
                            "            4.31952477e-02-7.61033595e-03j],\n",
                            "          [ 5.67337871e-03+4.14838791e-02j,\n",
                            "           -2.61275917e-02+6.93880022e-03j]],\n",
                            "\n",
                            "         [[-2.40006149e-02-9.74088907e-04j,\n",
                            "           -1.31489336e-03-7.57558644e-03j],\n",
                            "          [ 2.07037926e-02+4.85318899e-03j,\n",
                            "            1.23787522e-02-6.46117330e-03j]]],\n",
                            "\n",
                            "\n",
                            "        [[[ 9.33192670e-03-1.05454177e-02j,\n",
                            "            1.18275881e-02-1.42341852e-02j],\n",
                            "          [-1.19330585e-02+1.51455998e-02j,\n",
                            "            1.43796802e-02-2.59152055e-03j]],\n",
                            "\n",
                            "         [[-1.01426244e-02+1.80588663e-02j,\n",
                            "            3.23855877e-03-1.04934871e-02j],\n",
                            "          [ 7.68172741e-03+3.10567021e-03j,\n",
                            "            3.86542082e-03-1.15787983e-03j]]]],\n",
                            "\n",
                            "\n",
                            "\n",
                            "       [[[[-9.96243954e-03-2.38418579e-05j,\n",
                            "           -9.22454894e-03+3.38481367e-02j],\n",
                            "          [-2.10143775e-02-1.67397857e-02j,\n",
                            "           -7.71212578e-03-1.37218535e-02j]],\n",
                            "\n",
                            "         [[ 2.31492519e-03-1.76613331e-02j,\n",
                            "            2.08696723e-02+2.30383873e-02j],\n",
                            "          [ 2.61717141e-02+6.25514984e-03j,\n",
                            "            4.20049578e-03-1.81473866e-02j]]],\n",
                            "\n",
                            "\n",
                            "        [[[-4.44070697e-02+9.24384594e-03j,\n",
                            "            3.87754440e-02+1.87111497e-02j],\n",
                            "          [-1.98023915e-02-3.62033844e-02j,\n",
                            "            5.80757856e-03+7.83148408e-03j]],\n",
                            "\n",
                            "         [[ 1.61707401e-03+3.44017744e-02j,\n",
                            "           -5.99610806e-03-1.96425915e-02j],\n",
                            "          [-6.06900454e-03+3.15590352e-02j,\n",
                            "           -1.08889043e-02+1.84216201e-02j]]]],\n",
                            "\n",
                            "\n",
                            "\n",
                            "       [[[[ 1.61737204e-03+1.25066340e-02j,\n",
                            "            4.21904624e-02-5.12403250e-02j],\n",
                            "          [ 3.30065042e-02-3.22680175e-03j,\n",
                            "            3.03749889e-02+1.36157572e-02j]],\n",
                            "\n",
                            "         [[-4.23106849e-02+2.75208950e-02j,\n",
                            "           -5.01731932e-02-2.48671770e-02j],\n",
                            "          [-2.98768282e-03+1.30183101e-02j,\n",
                            "            3.03745270e-04-8.33165646e-03j]]],\n",
                            "\n",
                            "\n",
                            "        [[[ 2.36140788e-02-4.79391217e-03j,\n",
                            "            3.05322930e-02-6.60973787e-03j],\n",
                            "          [ 6.91869855e-03-5.73694706e-04j,\n",
                            "            3.63865197e-02-2.34621763e-03j]],\n",
                            "\n",
                            "         [[ 1.29173100e-02+1.29464865e-02j,\n",
                            "           -2.62576342e-03+1.30510330e-03j],\n",
                            "          [ 5.17106056e-03-5.35886884e-02j,\n",
                            "            4.39733267e-03+2.03073099e-02j]]]],\n",
                            "\n",
                            "\n",
                            "\n",
                            "       [[[[-1.49879307e-02+1.24186277e-03j,\n",
                            "            4.62687016e-03-4.84772772e-03j],\n",
                            "          [ 1.05630308e-02+3.17159295e-03j,\n",
                            "           -2.54894793e-02+1.33562684e-02j]],\n",
                            "\n",
                            "         [[ 9.25716758e-03+6.18833303e-03j,\n",
                            "           -7.08970428e-03+2.77385414e-02j],\n",
                            "          [-2.84986198e-02-3.47560644e-02j,\n",
                            "            8.03955644e-03+2.94820666e-02j]]],\n",
                            "\n",
                            "\n",
                            "        [[[ 9.39479470e-03+1.91312581e-02j,\n",
                            "            1.29620731e-03-3.29079032e-02j],\n",
                            "          [-1.59034431e-02+7.79107213e-03j,\n",
                            "            5.45465946e-03+1.25013441e-02j]],\n",
                            "\n",
                            "         [[ 2.55714655e-02-2.20831633e-02j,\n",
                            "            4.55198884e-02+4.19983268e-03j],\n",
                            "          [ 2.12453604e-02+6.27887249e-03j,\n",
                            "           -3.43608111e-03-1.52784139e-02j]]]],\n",
                            "\n",
                            "\n",
                            "\n",
                            "       [[[[ 8.85933638e-04+8.29786062e-03j,\n",
                            "            9.64510441e-03+2.76204348e-02j],\n",
                            "          [-4.13104892e-04-2.67013907e-03j,\n",
                            "           -9.14412737e-03+1.05112493e-02j]],\n",
                            "\n",
                            "         [[-9.93697345e-03+2.10392475e-02j,\n",
                            "           -3.10915112e-02-4.98205423e-03j],\n",
                            "          [-1.96695626e-02+1.19892955e-02j,\n",
                            "            1.48909390e-02-1.91049576e-02j]]],\n",
                            "\n",
                            "\n",
                            "        [[[ 1.43543929e-02+2.46277153e-02j,\n",
                            "           -1.78549886e-02+2.39325613e-02j],\n",
                            "          [ 2.45525539e-02-1.98220611e-02j,\n",
                            "           -1.99684948e-02-2.02481449e-02j]],\n",
                            "\n",
                            "         [[ 2.60228589e-02-1.49611011e-02j,\n",
                            "           -1.87249929e-02+1.61603242e-02j],\n",
                            "          [ 9.24918056e-03-5.52406907e-03j,\n",
                            "           -3.49500626e-02-3.82638574e-02j]]]],\n",
                            "\n",
                            "\n",
                            "\n",
                            "       [[[[-1.14639997e-02+1.95791721e-02j,\n",
                            "            1.56426877e-02+2.49561965e-02j],\n",
                            "          [-2.76871324e-02-1.15094185e-02j,\n",
                            "           -2.85257548e-02+4.23907936e-02j]],\n",
                            "\n",
                            "         [[-1.25687718e-02+2.21993327e-02j,\n",
                            "            7.96818733e-03+1.21406466e-02j],\n",
                            "          [-9.88228619e-03-2.45146453e-03j,\n",
                            "           -3.11404467e-04+4.62164283e-02j]]],\n",
                            "\n",
                            "\n",
                            "        [[[-3.37049365e-03-4.12991643e-03j,\n",
                            "           -7.68172741e-03+8.08903575e-03j],\n",
                            "          [ 2.40188837e-03+2.75816917e-02j,\n",
                            "            7.32684135e-03-7.02381134e-03j]],\n",
                            "\n",
                            "         [[-2.36569792e-02-2.25629359e-02j,\n",
                            "            6.31457567e-03-9.43171978e-03j],\n",
                            "          [ 4.23532724e-03-6.50712848e-03j,\n",
                            "            1.16679072e-02-1.04925036e-03j]]]],\n",
                            "\n",
                            "\n",
                            "\n",
                            "       [[[[ 1.44976377e-02+1.44876540e-02j,\n",
                            "            8.60086828e-03-1.77688748e-02j],\n",
                            "          [-2.02176720e-02-2.50910223e-02j,\n",
                            "           -4.68011200e-02+9.31203365e-04j]],\n",
                            "\n",
                            "         [[-3.56209278e-03-3.71803343e-02j,\n",
                            "           -9.02098417e-03+8.97437334e-03j],\n",
                            "          [-1.67021081e-02+5.90205193e-04j,\n",
                            "           -1.75723433e-02+2.96904147e-02j]]],\n",
                            "\n",
                            "\n",
                            "        [[[-6.26012683e-03+6.49094582e-04j,\n",
                            "            3.58772874e-02-1.60368085e-02j],\n",
                            "          [ 1.25567615e-03+1.42532885e-02j,\n",
                            "            1.50595307e-02-3.89090776e-02j]],\n",
                            "\n",
                            "         [[-1.14130974e-02+6.09083474e-03j,\n",
                            "            3.65770459e-02-4.10025120e-02j],\n",
                            "          [ 2.86011696e-02+1.45585835e-02j,\n",
                            "            1.15215778e-04-1.11523271e-03j]]]]], dtype=complex64)"
                        ]
                    },
                    "execution_count": 35,
                    "metadata": {},
                    "output_type": "execute_result"
                }
            ],
            "source": [
                "r_dest"
            ]
        },
        {
            "cell_type": "markdown",
            "metadata": {},
            "source": [
                "# End for CG & BISTABCG. (pass, don't run this)"
            ]
        },
        {
            "cell_type": "code",
            "execution_count": 36,
            "metadata": {},
            "outputs": [],
            "source": [
                "# cg_solver.end()\n",
                "# bistabcg_solver.end()"
            ]
        },
        {
            "cell_type": "markdown",
            "metadata": {},
            "source": [
                "# End for pyqcu. (pass, don't run this)"
            ]
        },
        {
            "cell_type": "code",
            "execution_count": 37,
            "metadata": {},
            "outputs": [],
            "source": [
                "# qcu.applyEndQcu(set_ptrs, params)\n",
                "# qcu.applyEndQcu(set_ptrs, wilson_dslash_eo_params)\n",
                "# qcu.applyEndQcu(set_ptrs, wilson_dslash_oe_params)\n",
                "# qcu.applyEndQcu(set_ptrs, wilson_dslash_eo_dag_params)\n",
                "# qcu.applyEndQcu(set_ptrs, wilson_dslash_oe_dag_params)"
            ]
        }
    ],
    "metadata": {
        "kernelspec": {
            "display_name": "Python 3",
            "language": "python",
            "name": "python3"
        },
        "language_info": {
            "codemirror_mode": {
                "name": "ipython",
                "version": 3
            },
            "file_extension": ".py",
            "mimetype": "text/x-python",
            "name": "python",
            "nbconvert_exporter": "python",
            "pygments_lexer": "ipython3",
            "version": "3.10.12"
        }
    },
    "nbformat": 4,
    "nbformat_minor": 2
}
