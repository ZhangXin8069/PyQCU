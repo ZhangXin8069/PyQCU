{
    "cells": [
        {
            "cell_type": "code",
            "execution_count": null,
            "metadata": {},
            "outputs": [],
            "source": [
                "import cupy as cp\n",
                "import numpy as np\n",
                "from time import perf_counter\n",
                "import time\n",
                "from pyqcu import define\n",
                "from pyqcu import io\n",
                "from pyqcu import qcu\n",
                "from pyqcu import eigen\n",
                "from pyqcu.set import  params,argv,set_ptrs\n",
                "import cupyx.scipy.sparse.linalg as csla\n",
                "import scipy.linalg as sla\n",
                "\n",
                "print('My rank is ', define.rank)"
            ]
        },
        {
            "cell_type": "code",
            "execution_count": null,
            "metadata": {},
            "outputs": [],
            "source": [
                "gauge_filename = f\"quda_wilson-dslash-gauge_-{params[define._LAT_X_]}-{params[define._LAT_Y_]}-{params  [define._LAT_Z_]}-{params[define._LAT_T_]}-{params[define._LAT_XYZT_]}-{params[define._GRID_X_]}-{params[define._GRID_Y_]}-{params[define._GRID_Z_]}-{params[define._GRID_T_]}-{params[define._PARITY_]}-{params[define._NODE_RANK_]}-{params[define._NODE_SIZE_]}-{params[define._DAGGER_]}-f.bin\"\n",
                "print(\"Gauge filename:\", gauge_filename)\n",
                "gauge = cp.fromfile(gauge_filename, dtype=cp.complex64,\n",
                "                    count=params[define._LAT_XYZT_]*define._LAT_DCC_)\n",
                "gauge = io.gauge2ccdptzyx(gauge, params)\n",
                "print(\"Gauge:\", gauge)\n",
                "print(\"Gauge data:\", gauge.data)\n",
                "print(\"Gauge shape:\", gauge.shape)"
            ]
        },
        {
            "cell_type": "code",
            "execution_count": null,
            "metadata": {},
            "outputs": [],
            "source": [
                "qcu.applyInitQcu(set_ptrs, params, argv)"
            ]
        },
        {
            "cell_type": "code",
            "execution_count": null,
            "metadata": {},
            "outputs": [],
            "source": [
                "gauge.size"
            ]
        },
        {
            "cell_type": "code",
            "execution_count": null,
            "metadata": {},
            "outputs": [],
            "source": [
                "# n = params[define._LAT_XYZT_] * define._LAT_HALF_SC_\n",
                "\n",
                "\n",
                "# def matvec(src):\n",
                "#     src = src.astype(cp.complex64)\n",
                "#     dest = cp.zeros_like(src)\n",
                "#     qcu.applyWilsonCgDslashQcu(\n",
                "#         dest, src, gauge, set_ptrs, params)\n",
                "#     src = src.astype(cp.complex128)\n",
                "#     dest = dest.astype(cp.complex128)\n",
                "#     return dest\n",
                "\n",
                "\n",
                "# eigen_solver = eigen.solver(n=n, k=3, matvec=matvec, dtype=cp.complex128)\n",
                "\n",
                "# eigenvalues, eigenvectors = eigen_solver.run()"
            ]
        },
        {
            "cell_type": "code",
            "execution_count": 6,
            "metadata": {},
            "outputs": [
                {
                    "name": "stdout",
                    "output_type": "stream",
                    "text": [
                        "eigen_index: 0, iter: 0, alpha: 0.000000000, beta: 1.000000000, tol: inf, lambda: 1.529528260, degree: 20\n",
                        "eigen_index: 0, iter: 1, alpha: 0.764764130, beta: 1.000000000, tol: 8.663684e+01, lambda: 0.017453028, degree: 30\n",
                        "eigen_index: 0, iter: 2, alpha: 0.764764130, beta: 1.000000000, tol: 5.660984e-01, lambda: 0.011144273, degree: 30\n",
                        "eigen_index: 0, iter: 3, alpha: 0.764764130, beta: 1.000000000, tol: 5.350064e-01, lambda: 0.007260082, degree: 30\n",
                        "eigen_index: 0, iter: 4, alpha: 0.764764130, beta: 1.000000000, tol: 5.613898e-01, lambda: 0.004649756, degree: 30\n",
                        "eigen_index: 0, iter: 5, alpha: 0.764764130, beta: 1.000000000, tol: 5.610066e-01, lambda: 0.002978691, degree: 30\n",
                        "eigen_index: 0, iter: 6, alpha: 0.764764130, beta: 1.000000000, tol: 8.219077e-01, lambda: 0.001634930, degree: 45\n",
                        "eigen_index: 0, iter: 7, alpha: 0.764764130, beta: 1.000000000, tol: 5.538845e-01, lambda: 0.001052157, degree: 45\n",
                        "eigen_index: 0, iter: 8, alpha: 0.764764130, beta: 1.000000000, tol: 2.982412e-01, lambda: 0.000810448, degree: 45\n",
                        "eigen_index: 0, iter: 9, alpha: 0.764764130, beta: 1.000000000, tol: 1.379629e-01, lambda: 0.000712192, degree: 45\n",
                        "eigen_index: 0, iter: 10, alpha: 0.764764130, beta: 1.000000000, tol: 5.887785e-02, lambda: 0.000672591, degree: 45\n",
                        "eigen_index: 0, iter: 11, alpha: 0.764764130, beta: 1.000000000, tol: 2.421776e-02, lambda: 0.000656687, degree: 45\n",
                        "eigen_index: 0, iter: 12, alpha: 0.764764130, beta: 1.000000000, tol: 9.807078e-03, lambda: 0.000650310, degree: 45\n",
                        "eigen_index: 0, iter: 13, alpha: 0.764764130, beta: 1.000000000, tol: 3.946237e-03, lambda: 0.000647754, degree: 45\n",
                        "eigen_index: 0, iter: 14, alpha: 0.764764130, beta: 1.000000000, tol: 1.583334e-03, lambda: 0.000646730, degree: 45\n",
                        "eigen_index: 0, iter: 15, alpha: 0.764764130, beta: 1.000000000, tol: 6.351049e-04, lambda: 0.000646319, degree: 45\n",
                        "eigen_index: 0, iter: 16, alpha: 0.764764130, beta: 1.000000000, tol: 1.529457e-04, lambda: 0.000646220, degree: 22\n",
                        "eigen_index: 0, iter: 17, alpha: 0.764764130, beta: 1.000000000, tol: 9.810023e-05, lambda: 0.000646157, degree: 22\n",
                        "eigen_index: 0, iter: 18, alpha: 0.764764130, beta: 1.000000000, tol: 6.252141e-05, lambda: 0.000646117, degree: 22\n",
                        "eigen_index: 0, iter: 19, alpha: 0.764764130, beta: 1.000000000, tol: 4.027118e-05, lambda: 0.000646090, degree: 22\n",
                        "eigen_index: 0, iter: 20, alpha: 0.764764130, beta: 1.000000000, tol: 2.540662e-05, lambda: 0.000646074, degree: 22\n",
                        "eigen_index: 0, iter: 21, alpha: 0.764764130, beta: 1.000000000, tol: 8.829330e-06, lambda: 0.000646068, degree: 11\n",
                        "eigen_index: 0, iter: 22, alpha: 0.764764130, beta: 1.000000000, tol: 7.658151e-06, lambda: 0.000646063, degree: 11\n",
                        "eigen_index: 0, iter: 23, alpha: 0.764764130, beta: 1.000000000, tol: 5.766170e-06, lambda: 0.000646060, degree: 11\n",
                        "eigen_index: 0, iter: 24, alpha: 0.764764130, beta: 1.000000000, tol: 4.414744e-06, lambda: 0.000646057, degree: 11\n",
                        "eigen_index: 0, iter: 25, alpha: 0.764764130, beta: 1.000000000, tol: 3.964275e-06, lambda: 0.000646054, degree: 11\n",
                        "eigen_index: 0, iter: 26, alpha: 0.764764130, beta: 1.000000000, tol: 2.702922e-06, lambda: 0.000646053, degree: 10\n",
                        "eigen_index: 0, iter: 27, alpha: 0.764764130, beta: 1.000000000, tol: 2.252440e-06, lambda: 0.000646051, degree: 10\n",
                        "eigen_index: 0, iter: 28, alpha: 0.764764130, beta: 1.000000000, tol: 1.711858e-06, lambda: 0.000646050, degree: 10\n",
                        "eigen_index: 0, iter: 29, alpha: 0.764764130, beta: 1.000000000, tol: 1.441566e-06, lambda: 0.000646049, degree: 10\n",
                        "eigen_index: 0, iter: 30, alpha: 0.764764130, beta: 1.000000000, tol: 1.171274e-06, lambda: 0.000646048, degree: 10\n",
                        "eigen_index: 0, iter: 31, alpha: 0.764764130, beta: 1.000000000, tol: 1.081177e-06, lambda: 0.000646048, degree: 10\n",
                        "eigen_index: 0, iter: 32, alpha: 0.764764130, beta: 1.000000000, tol: 8.108836e-07, lambda: 0.000646047, degree: 10\n",
                        "eigen_index: 0, time: 19.59s\n",
                        "eigen_index: 1, iter: 0, alpha: 0.764764130, beta: 1.529528260, tol: inf, lambda: 0.119120590, degree: 10\n",
                        "eigen_index: 1, iter: 1, alpha: 0.764764130, beta: 1.529528260, tol: 1.344725e+00, lambda: 0.050803646, degree: 15\n",
                        "eigen_index: 1, iter: 2, alpha: 0.764764130, beta: 1.529528260, tol: 5.869966e-01, lambda: 0.032012448, degree: 15\n",
                        "eigen_index: 1, iter: 3, alpha: 0.764764130, beta: 1.529528260, tol: 3.845524e-01, lambda: 0.023121152, degree: 15\n",
                        "eigen_index: 1, iter: 4, alpha: 0.764764130, beta: 1.529528260, tol: 2.986383e-01, lambda: 0.017804151, degree: 15\n",
                        "eigen_index: 1, iter: 5, alpha: 0.764764130, beta: 1.529528260, tol: 2.584566e-01, lambda: 0.014147609, degree: 15\n",
                        "eigen_index: 1, iter: 6, alpha: 0.764764130, beta: 1.529528260, tol: 3.665819e-01, lambda: 0.010352551, degree: 22\n",
                        "eigen_index: 1, iter: 7, alpha: 0.764764130, beta: 1.529528260, tol: 3.536995e-01, lambda: 0.007647599, degree: 22\n",
                        "eigen_index: 1, iter: 8, alpha: 0.764764130, beta: 1.529528260, tol: 3.466855e-01, lambda: 0.005678831, degree: 22\n",
                        "eigen_index: 1, iter: 9, alpha: 0.764764130, beta: 1.529528260, tol: 3.351194e-01, lambda: 0.004253425, degree: 22\n",
                        "eigen_index: 1, iter: 10, alpha: 0.764764130, beta: 1.529528260, tol: 3.166398e-01, lambda: 0.003230515, degree: 22\n",
                        "eigen_index: 1, iter: 11, alpha: 0.764764130, beta: 1.529528260, tol: 4.552559e-01, lambda: 0.002219895, degree: 33\n"
                    ]
                },
                {
                    "ename": "KeyboardInterrupt",
                    "evalue": "",
                    "output_type": "error",
                    "traceback": [
                        "\u001b[0;31m---------------------------------------------------------------------------\u001b[0m",
                        "\u001b[0;31mKeyboardInterrupt\u001b[0m                         Traceback (most recent call last)",
                        "Cell \u001b[0;32mIn[6], line 13\u001b[0m\n\u001b[1;32m      8\u001b[0m     \u001b[38;5;28;01mreturn\u001b[39;00m dest\n\u001b[1;32m     11\u001b[0m eigen_solver \u001b[38;5;241m=\u001b[39m eigen\u001b[38;5;241m.\u001b[39msolver(n\u001b[38;5;241m=\u001b[39mn, k\u001b[38;5;241m=\u001b[39m\u001b[38;5;241m3\u001b[39m, matvec\u001b[38;5;241m=\u001b[39mmatvec, dtype\u001b[38;5;241m=\u001b[39mgauge\u001b[38;5;241m.\u001b[39mdtype)\n\u001b[0;32m---> 13\u001b[0m eigenvalues, eigenvectors \u001b[38;5;241m=\u001b[39m \u001b[43meigen_solver\u001b[49m\u001b[38;5;241;43m.\u001b[39;49m\u001b[43mrun\u001b[49m\u001b[43m(\u001b[49m\u001b[43m)\u001b[49m\n",
                        "File \u001b[0;32m/usr/local/lib/python3.10/dist-packages/pyqcu/eigen.py:111\u001b[0m, in \u001b[0;36msolver.run\u001b[0;34m(self)\u001b[0m\n\u001b[1;32m    109\u001b[0m last_improvement \u001b[38;5;241m=\u001b[39m \u001b[38;5;28mfloat\u001b[39m(\u001b[38;5;124m'\u001b[39m\u001b[38;5;124minf\u001b[39m\u001b[38;5;124m'\u001b[39m)\n\u001b[1;32m    110\u001b[0m \u001b[38;5;28;01mfor\u001b[39;00m \u001b[38;5;28miter\u001b[39m \u001b[38;5;129;01min\u001b[39;00m \u001b[38;5;28mrange\u001b[39m(\u001b[38;5;28mself\u001b[39m\u001b[38;5;241m.\u001b[39mmax_iter):\n\u001b[0;32m--> 111\u001b[0m     w \u001b[38;5;241m=\u001b[39m \u001b[38;5;28;43mself\u001b[39;49m\u001b[38;5;241;43m.\u001b[39;49m\u001b[43mchebyshev_filter\u001b[49m\u001b[43m(\u001b[49m\u001b[43mv\u001b[49m\u001b[43m,\u001b[49m\u001b[43m \u001b[49m\u001b[43malpha\u001b[49m\u001b[43m,\u001b[49m\u001b[43m \u001b[49m\u001b[43mbeta\u001b[49m\u001b[43m)\u001b[49m\n\u001b[1;32m    112\u001b[0m     \u001b[38;5;28mself\u001b[39m\u001b[38;5;241m.\u001b[39morthogonalize(w, eigenvectors)\n\u001b[1;32m    113\u001b[0m     \u001b[38;5;66;03m# Compute Rayleigh quotient\u001b[39;00m\n",
                        "File \u001b[0;32m/usr/local/lib/python3.10/dist-packages/pyqcu/eigen.py:55\u001b[0m, in \u001b[0;36msolver.chebyshev_filter\u001b[0;34m(self, src, alpha, beta)\u001b[0m\n\u001b[1;32m     53\u001b[0m cp\u001b[38;5;241m.\u001b[39mcopyto(t_prev, t_curr)\n\u001b[1;32m     54\u001b[0m t_next \u001b[38;5;241m=\u001b[39m buffers[\u001b[38;5;124m'\u001b[39m\u001b[38;5;124mv\u001b[39m\u001b[38;5;124m'\u001b[39m]\n\u001b[0;32m---> 55\u001b[0m mv_result \u001b[38;5;241m=\u001b[39m \u001b[38;5;28;43mself\u001b[39;49m\u001b[38;5;241;43m.\u001b[39;49m\u001b[43mmatvec\u001b[49m\u001b[43m(\u001b[49m\u001b[43mt_curr\u001b[49m\u001b[43m)\u001b[49m\n\u001b[1;32m     56\u001b[0m cp\u001b[38;5;241m.\u001b[39msubtract(mv_result, c \u001b[38;5;241m*\u001b[39m t_curr, out\u001b[38;5;241m=\u001b[39mt_curr)\n\u001b[1;32m     57\u001b[0m cp\u001b[38;5;241m.\u001b[39mdivide(t_curr, e, out\u001b[38;5;241m=\u001b[39mt_curr)\n",
                        "Cell \u001b[0;32mIn[6], line 6\u001b[0m, in \u001b[0;36mmatvec\u001b[0;34m(src)\u001b[0m\n\u001b[1;32m      4\u001b[0m \u001b[38;5;28;01mdef\u001b[39;00m \u001b[38;5;21mmatvec\u001b[39m(src):\n\u001b[1;32m      5\u001b[0m     dest \u001b[38;5;241m=\u001b[39m cp\u001b[38;5;241m.\u001b[39mzeros_like(src)\n\u001b[0;32m----> 6\u001b[0m     \u001b[43mqcu\u001b[49m\u001b[38;5;241;43m.\u001b[39;49m\u001b[43mapplyWilsonCgDslashQcu\u001b[49m\u001b[43m(\u001b[49m\n\u001b[1;32m      7\u001b[0m \u001b[43m        \u001b[49m\u001b[43mdest\u001b[49m\u001b[43m,\u001b[49m\u001b[43m \u001b[49m\u001b[43msrc\u001b[49m\u001b[43m,\u001b[49m\u001b[43m \u001b[49m\u001b[43mgauge\u001b[49m\u001b[43m,\u001b[49m\u001b[43m \u001b[49m\u001b[43mset_ptrs\u001b[49m\u001b[43m,\u001b[49m\u001b[43m \u001b[49m\u001b[43mparams\u001b[49m\u001b[43m)\u001b[49m\n\u001b[1;32m      8\u001b[0m     \u001b[38;5;28;01mreturn\u001b[39;00m dest\n",
                        "\u001b[0;31mKeyboardInterrupt\u001b[0m: "
                    ]
                }
            ],
            "source": [
                "n = params[define._LAT_XYZT_] * define._LAT_HALF_SC_\n",
                "\n",
                "\n",
                "def matvec(src):\n",
                "    dest = cp.zeros_like(src)\n",
                "    qcu.applyWilsonCgDslashQcu(\n",
                "        dest, src, gauge, set_ptrs, params)\n",
                "    return dest\n",
                "\n",
                "\n",
                "eigen_solver = eigen.solver(n=n, k=3, matvec=matvec, dtype=gauge.dtype)\n",
                "\n",
                "eigenvalues, eigenvectors = eigen_solver.run()"
            ]
        },
        {
            "cell_type": "code",
            "execution_count": null,
            "metadata": {},
            "outputs": [],
            "source": []
        },
        {
            "cell_type": "code",
            "execution_count": null,
            "metadata": {},
            "outputs": [],
            "source": [
                "eigenvalues"
            ]
        },
        {
            "cell_type": "code",
            "execution_count": null,
            "metadata": {},
            "outputs": [],
            "source": [
                "eigenvectors"
            ]
        },
        {
            "cell_type": "code",
            "execution_count": null,
            "metadata": {},
            "outputs": [],
            "source": [
                "eigen_solver.matvec(eigenvectors[0])"
            ]
        },
        {
            "cell_type": "code",
            "execution_count": null,
            "metadata": {},
            "outputs": [],
            "source": [
                "eigenvectors[0]*eigenvalues[0]"
            ]
        },
        {
            "cell_type": "code",
            "execution_count": null,
            "metadata": {},
            "outputs": [],
            "source": [
                "# Verify results\n",
                "print(\"Computed eigenvalues:\")\n",
                "for i, ev in enumerate(eigenvalues):\n",
                "    print(f\"λ_{i} = {ev:.8f}\")\n",
                "    # Verify eigenvector\n",
                "    v = eigenvectors[i]\n",
                "    w = cp.zeros_like(v)\n",
                "    w = eigen_solver.matvec(v)\n",
                "    error = cp.linalg.norm(w - ev * v) / cp.linalg.norm(w)\n",
                "    print(f\"Relative error: {error:.2e}\")\n",
                "    j = i+1\n",
                "    if j == len(eigenvalues):\n",
                "        j = 0\n",
                "    print(\n",
                "        f\"Diff between λ_{i} and λ_{j}: {cp.linalg.norm(eigenvectors[i] - eigenvectors[j])/cp.linalg.norm(eigenvectors[i]):.2e}\")"
            ]
        },
        {
            "cell_type": "code",
            "execution_count": 19,
            "metadata": {},
            "outputs": [],
            "source": [
                "eigenvalues.tofile(\"eigenvalues-dev33.bin\")\n",
                "eigenvectors.tofile(\"eigenvectors-dev33.bin\")"
            ]
        },
        {
            "cell_type": "code",
            "execution_count": 12,
            "metadata": {},
            "outputs": [],
            "source": [
                "# qcu.applyEndQcu(set_ptrs, params)"
            ]
        }
    ],
    "metadata": {
        "kernelspec": {
            "display_name": "Python 3",
            "language": "python",
            "name": "python3"
        },
        "language_info": {
            "codemirror_mode": {
                "name": "ipython",
                "version": 3
            },
            "file_extension": ".py",
            "mimetype": "text/x-python",
            "name": "python",
            "nbconvert_exporter": "python",
            "pygments_lexer": "ipython3",
            "version": "3.10.12"
        }
    },
    "nbformat": 4,
    "nbformat_minor": 2
}
