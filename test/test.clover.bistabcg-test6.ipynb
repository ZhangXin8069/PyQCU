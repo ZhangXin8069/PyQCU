{
 "cells": [
  {
   "cell_type": "code",
   "execution_count": 1,
   "id": "a0ab34af",
   "metadata": {},
   "outputs": [
    {
     "name": "stdout",
     "output_type": "stream",
     "text": [
      "@My Rank:0/1@\n",
      "\n",
      "Parameters: [    32     16     32     32 524288      1      1      1      1      0\n",
      "      0      1      0   1000      3      0      2      4      4      4\n",
      "      8     24      0     42]\n",
      "Gauge filename: quda_wilson-clover-dslash-gauge_-32-16-32-32-524288-1-1-1-1-0-0-1-0-f.h5\n",
      "Grid Index T: 0, Grid Index Z: 0, Grid Index Y: 0, Grid Index X: 0\n",
      "Grid Lat T: 32, Grid Lat Z: 32, Grid Lat Y: 16, Grid Lat X: 16\n",
      "All Dest Shape: (3, 3, 4, 2, 32, 32, 16, 16)\n",
      "Dest Shape: (3, 3, 4, 2, 32, 32, 16, 16)\n",
      "Fermion in filename: quda_wilson-clover-dslash-fermion-in_-32-16-32-32-524288-1-1-1-1-0-0-1-0-f.h5\n",
      "Grid Index T: 0, Grid Index Z: 0, Grid Index Y: 0, Grid Index X: 0\n",
      "Grid Lat T: 32, Grid Lat Z: 32, Grid Lat Y: 16, Grid Lat X: 16\n",
      "All Dest Shape: (4, 3, 32, 32, 16, 16)\n",
      "Dest Shape: (4, 3, 32, 32, 16, 16)\n",
      "Fermion out filename: quda_wilson-clover-dslash-fermion-out_-32-16-32-32-524288-1-1-1-1-0-0-1-0-f.h5\n",
      "Grid Index T: 0, Grid Index Z: 0, Grid Index Y: 0, Grid Index X: 0\n",
      "Grid Lat T: 32, Grid Lat Z: 32, Grid Lat Y: 16, Grid Lat X: 16\n",
      "All Dest Shape: (4, 3, 32, 32, 16, 16)\n",
      "Dest Shape: (4, 3, 32, 32, 16, 16)\n",
      "Fermion out data: <MemoryPointer 0x711600000 device=0 mem=<cupy.cuda.memory.PooledMemory object at 0x7f9165366e30>>\n",
      "Fermion out shape: (4, 3, 32, 32, 16, 16)\n",
      "Fermion out data: <MemoryPointer 0x711600000 device=0 mem=<cupy.cuda.memory.PooledMemory object at 0x7f9165366e30>>\n",
      "Fermion out shape: (4, 3, 32, 32, 16, 16)\n",
      "QUDA Fermion out data: <MemoryPointer 0x70fe00000 device=0 mem=<cupy.cuda.memory.PooledMemory object at 0x7f9167237f30>>\n",
      "QUDA Fermion out shape: (4, 3, 32, 32, 16, 16)\n",
      "lattice set whole time:0.175687683 sec\n",
      "Difference: 1.3561439e-07\n"
     ]
    }
   ],
   "source": [
    "\n",
    "import cupy as cp\n",
    "from pyqcu.cuda import define\n",
    "from pyqcu.cuda import io\n",
    "from pyqcu.cuda import qcu\n",
    "from pyqcu.cuda.set import params, argv, set_ptrs\n",
    "params[define._LAT_Y_] /= 2\n",
    "params[define._LAT_XYZT_] /= 2\n",
    "params[define._SET_PLAN_] = 2\n",
    "params[define._DATA_TYPE_] = define._LAT_C64_\n",
    "params[define._VERBOSE_] = 0\n",
    "params[define._PARITY_] = 0\n",
    "dtype = define.dtype(_data_type_=params[define._DATA_TYPE_])\n",
    "gauge_filename = f\"quda_wilson-clover-dslash-gauge_-{params[define._LAT_X_]}-{params[define._LAT_Y_]}-{params  [define._LAT_Z_]}-{params[define._LAT_T_]}-{params[define._LAT_XYZT_]}-{params[define._GRID_X_]}-{params[define._GRID_Y_]}-{params[define._GRID_Z_]}-{params[define._GRID_T_]}-{params[define._PARITY_]}-{params[define._NODE_RANK_]}-{params[define._NODE_SIZE_]}-{params[define._DAGGER_]}-f.h5\"\n",
    "print(\"Parameters:\", params)\n",
    "#############################\n",
    "print(\"Gauge filename:\", gauge_filename)\n",
    "gauge = io.hdf5_xxxtzyx2grid_xxxtzyx(params, gauge_filename)\n",
    "fermion_in_filename = gauge_filename.replace(\"gauge\", \"fermion-in\")\n",
    "print(\"Fermion in filename:\", fermion_in_filename)\n",
    "fermion_in = io.hdf5_xxxtzyx2grid_xxxtzyx(params, fermion_in_filename)\n",
    "fermion_out_filename = gauge_filename.replace(\"gauge\", \"fermion-out\")\n",
    "print(\"Fermion out filename:\", fermion_out_filename)\n",
    "quda_fermion_out = io.hdf5_xxxtzyx2grid_xxxtzyx(params, fermion_out_filename)\n",
    "#############################\n",
    "fermion_out = cp.zeros_like(fermion_in)\n",
    "print(\"Fermion out data:\", fermion_out.data)\n",
    "print(\"Fermion out shape:\", fermion_out.shape)\n",
    "#############################\n",
    "qcu.applyInitQcu(set_ptrs, params, argv)\n",
    "# qcu.applyWilsonDslashQcu(fermion_out, fermion_in, gauge, set_ptrs, params)\n",
    "qcu.applyCloverDslashQcu(fermion_out, fermion_in, gauge, set_ptrs, params)\n",
    "qcu.applyEndQcu(set_ptrs, params)\n",
    "#############################\n",
    "print(\"Fermion out data:\", fermion_out.data)\n",
    "print(\"Fermion out shape:\", fermion_out.shape)\n",
    "print(\"QUDA Fermion out data:\", quda_fermion_out.data)\n",
    "print(\"QUDA Fermion out shape:\", quda_fermion_out.shape)\n",
    "print(\"Difference:\", cp.linalg.norm(fermion_out -\n",
    "      quda_fermion_out)/cp.linalg.norm(quda_fermion_out))\n",
    "#############################\n",
    "fermion_in = cp.ones_like(fermion_in)\n",
    "fermion_out = cp.zeros_like(fermion_in)\n",
    "clover_ee = cp.zeros(shape=[define._LAT_S_, define._LAT_C_] +\n",
    "                     list(fermion_in.shape), dtype=fermion_in.dtype)\n",
    "clover_ee_inv = cp.zeros_like(clover_ee)\n",
    "clover_oo = cp.zeros_like(clover_ee)\n",
    "clover_oo_inv = cp.zeros_like(clover_ee)\n"
   ]
  },
  {
   "cell_type": "code",
   "execution_count": 9,
   "id": "03c1cc7e",
   "metadata": {},
   "outputs": [
    {
     "name": "stdout",
     "output_type": "stream",
     "text": [
      "lattice set whole time:0.171534622 sec\n",
      "lattice set whole time:0.159508347 sec\n"
     ]
    }
   ],
   "source": [
    "\n",
    "#############################\n",
    "params[define._VERBOSE_] = 0\n",
    "params[define._PARITY_] = 0\n",
    "params[define._SET_INDEX_] += 1\n",
    "params[define._SET_PLAN_] = 2\n",
    "#############################\n",
    "qcu.applyInitQcu(set_ptrs, params, argv)\n",
    "qcu.applyCloversQcu(clover_ee, clover_ee_inv, gauge, set_ptrs, params)\n",
    "qcu.applyEndQcu(set_ptrs, params)\n",
    "#############################\n",
    "params[define._VERBOSE_] = 0\n",
    "params[define._PARITY_] = 1\n",
    "params[define._SET_INDEX_] += 1\n",
    "params[define._SET_PLAN_] = 2\n",
    "#############################\n",
    "qcu.applyInitQcu(set_ptrs, params, argv)\n",
    "qcu.applyCloversQcu(clover_oo, clover_oo_inv, gauge, set_ptrs, params)\n",
    "qcu.applyEndQcu(set_ptrs, params)\n",
    "#############################\n",
    "params[define._VERBOSE_] = 0\n",
    "params[define._PARITY_] = 0\n",
    "params[define._SET_INDEX_] += 1\n",
    "params[define._SET_PLAN_] = 1\n",
    "#############################"
   ]
  },
  {
   "cell_type": "code",
   "execution_count": 19,
   "id": "f840786c",
   "metadata": {},
   "outputs": [
    {
     "name": "stdout",
     "output_type": "stream",
     "text": [
      "[[1.+0.j 0.+0.j 0.+0.j 0.+0.j 0.+0.j 0.+0.j 0.+0.j 0.+0.j 0.+0.j 0.+0.j\n",
      "  0.+0.j 0.+0.j]\n",
      " [0.+0.j 1.+0.j 0.+0.j 0.+0.j 0.+0.j 0.+0.j 0.+0.j 0.+0.j 0.+0.j 0.+0.j\n",
      "  0.+0.j 0.+0.j]\n",
      " [0.+0.j 0.+0.j 1.+0.j 0.+0.j 0.+0.j 0.+0.j 0.+0.j 0.+0.j 0.+0.j 0.+0.j\n",
      "  0.+0.j 0.+0.j]\n",
      " [0.+0.j 0.+0.j 0.+0.j 1.+0.j 0.+0.j 0.+0.j 0.+0.j 0.+0.j 0.+0.j 0.+0.j\n",
      "  0.+0.j 0.+0.j]\n",
      " [0.+0.j 0.+0.j 0.+0.j 0.+0.j 1.+0.j 0.+0.j 0.+0.j 0.+0.j 0.+0.j 0.+0.j\n",
      "  0.+0.j 0.+0.j]\n",
      " [0.+0.j 0.+0.j 0.+0.j 0.+0.j 0.+0.j 1.+0.j 0.+0.j 0.+0.j 0.+0.j 0.+0.j\n",
      "  0.+0.j 0.+0.j]\n",
      " [0.+0.j 0.+0.j 0.+0.j 0.+0.j 0.+0.j 0.+0.j 1.+0.j 0.+0.j 0.+0.j 0.+0.j\n",
      "  0.+0.j 0.+0.j]\n",
      " [0.+0.j 0.+0.j 0.+0.j 0.+0.j 0.+0.j 0.+0.j 0.+0.j 1.+0.j 0.+0.j 0.+0.j\n",
      "  0.+0.j 0.+0.j]\n",
      " [0.+0.j 0.+0.j 0.+0.j 0.+0.j 0.+0.j 0.+0.j 0.+0.j 0.+0.j 1.+0.j 0.+0.j\n",
      "  0.+0.j 0.+0.j]\n",
      " [0.+0.j 0.+0.j 0.+0.j 0.+0.j 0.+0.j 0.+0.j 0.+0.j 0.+0.j 0.+0.j 1.+0.j\n",
      "  0.+0.j 0.+0.j]\n",
      " [0.+0.j 0.+0.j 0.+0.j 0.+0.j 0.+0.j 0.+0.j 0.+0.j 0.+0.j 0.+0.j 0.+0.j\n",
      "  1.+0.j 0.+0.j]\n",
      " [0.+0.j 0.+0.j 0.+0.j 0.+0.j 0.+0.j 0.+0.j 0.+0.j 0.+0.j 0.+0.j 0.+0.j\n",
      "  0.+0.j 1.+0.j]]\n"
     ]
    }
   ],
   "source": [
    "index=1\n",
    "print(clover_ee_inv[:,:,:,:,index,index,index,index].reshape(12,12))"
   ]
  },
  {
   "cell_type": "code",
   "execution_count": 13,
   "id": "7ccdfc0c",
   "metadata": {},
   "outputs": [
    {
     "name": "stdout",
     "output_type": "stream",
     "text": [
      "Input Array Shape: (4, 3, 4, 3, 32, 32, 16, 16)\n",
      "Dest Shape: (12, 12, 262144)\n",
      "Input Array Shape: (4, 3, 4, 3, 32, 32, 16, 16)\n",
      "Dest Shape: (12, 12, 262144)\n",
      "Input Array Shape: (4, 3, 4, 3, 32, 32, 16, 16)\n",
      "Dest Shape: (12, 12, 262144)\n",
      "Input Array Shape: (4, 3, 4, 3, 32, 32, 16, 16)\n",
      "Dest Shape: (12, 12, 262144)\n",
      "[[1.+0.j 0.+0.j 0.+0.j 0.+0.j 0.+0.j 0.+0.j 0.+0.j 0.+0.j 0.+0.j 0.+0.j\n",
      "  0.+0.j 0.+0.j]\n",
      " [0.+0.j 1.+0.j 0.+0.j 0.+0.j 0.+0.j 0.+0.j 0.+0.j 0.+0.j 0.+0.j 0.+0.j\n",
      "  0.+0.j 0.+0.j]\n",
      " [0.+0.j 0.+0.j 1.+0.j 0.+0.j 0.+0.j 0.+0.j 0.+0.j 0.+0.j 0.+0.j 0.+0.j\n",
      "  0.+0.j 0.+0.j]\n",
      " [0.+0.j 0.+0.j 0.+0.j 1.+0.j 0.+0.j 0.+0.j 0.+0.j 0.+0.j 0.+0.j 0.+0.j\n",
      "  0.+0.j 0.+0.j]\n",
      " [0.+0.j 0.+0.j 0.+0.j 0.+0.j 1.+0.j 0.+0.j 0.+0.j 0.+0.j 0.+0.j 0.+0.j\n",
      "  0.+0.j 0.+0.j]\n",
      " [0.+0.j 0.+0.j 0.+0.j 0.+0.j 0.+0.j 1.+0.j 0.+0.j 0.+0.j 0.+0.j 0.+0.j\n",
      "  0.+0.j 0.+0.j]\n",
      " [0.+0.j 0.+0.j 0.+0.j 0.+0.j 0.+0.j 0.+0.j 1.+0.j 0.+0.j 0.+0.j 0.+0.j\n",
      "  0.+0.j 0.+0.j]\n",
      " [0.+0.j 0.+0.j 0.+0.j 0.+0.j 0.+0.j 0.+0.j 0.+0.j 1.+0.j 0.+0.j 0.+0.j\n",
      "  0.+0.j 0.+0.j]\n",
      " [0.+0.j 0.+0.j 0.+0.j 0.+0.j 0.+0.j 0.+0.j 0.+0.j 0.+0.j 1.+0.j 0.+0.j\n",
      "  0.+0.j 0.+0.j]\n",
      " [0.+0.j 0.+0.j 0.+0.j 0.+0.j 0.+0.j 0.+0.j 0.+0.j 0.+0.j 0.+0.j 1.+0.j\n",
      "  0.+0.j 0.+0.j]\n",
      " [0.+0.j 0.+0.j 0.+0.j 0.+0.j 0.+0.j 0.+0.j 0.+0.j 0.+0.j 0.+0.j 0.+0.j\n",
      "  1.+0.j 0.+0.j]\n",
      " [0.+0.j 0.+0.j 0.+0.j 0.+0.j 0.+0.j 0.+0.j 0.+0.j 0.+0.j 0.+0.j 0.+0.j\n",
      "  0.+0.j 1.+0.j]]\n"
     ]
    }
   ],
   "source": [
    "\n",
    "clover_ee = io.clover2I(input_array=clover_ee)\n",
    "clover_oo = io.clover2I(input_array=clover_oo)\n",
    "clover_ee_inv = io.clover2I(input_array=clover_ee_inv)\n",
    "clover_oo_inv = io.clover2I(input_array=clover_oo_inv)\n",
    "index=1\n",
    "print(clover_ee_inv[:,:,:,:,index,index,index,index].reshape(12,12))\n"
   ]
  },
  {
   "cell_type": "code",
   "execution_count": 20,
   "id": "0455baf5",
   "metadata": {},
   "outputs": [],
   "source": [
    "A=clover_ee_inv[:,:,:,:,index,index,index,index].reshape(12,12)\n",
    "x=cp.random.randn(4,3).view(dtype)\n",
    "x=x.reshape(12)"
   ]
  },
  {
   "cell_type": "code",
   "execution_count": 21,
   "id": "670ac643",
   "metadata": {},
   "outputs": [
    {
     "data": {
      "text/plain": [
       "array([0.+0.j, 0.+0.j, 0.+0.j, 0.+0.j, 0.+0.j, 0.+0.j, 0.+0.j, 0.+0.j,\n",
       "       0.+0.j, 0.+0.j, 0.+0.j, 0.+0.j], dtype=complex64)"
      ]
     },
     "execution_count": 21,
     "metadata": {},
     "output_type": "execute_result"
    }
   ],
   "source": [
    "A@x-x"
   ]
  },
  {
   "cell_type": "code",
   "execution_count": 22,
   "id": "297089cb",
   "metadata": {},
   "outputs": [
    {
     "name": "stdout",
     "output_type": "stream",
     "text": [
      "@@@@@@@@@@@@@@@DEBUGING!!!######TIME  :13.6493######\n",
      "##RANK      :0\n",
      "##LOOP      :-999\n",
      "##tmp0      :(0,0i)\n",
      "##tmp1      :(0,0i)\n",
      "##rho_prev  :(0,0i)\n",
      "##rho       :(0,0i)\n",
      "##alpha     :(0,0i)\n",
      "##beta      :(0,0i)\n",
      "##omega     :(0,0i)\n",
      "##send_tmp  :(3.14573e+06,0i)\n",
      "##norm2_tmp :(3.14573e+06,0i)\n",
      "##diff_tmp  :(0,0i)\n",
      "##lat_4dim  :(262144,0i)\n",
      "######TIME  :15.4489######\n",
      "##RANK      :0\n",
      "##LOOP      :-999\n",
      "##tmp0      :(0,0i)\n",
      "##tmp1      :(0,0i)\n",
      "##rho_prev  :(0,0i)\n",
      "##rho       :(0,0i)\n",
      "##alpha     :(0,0i)\n",
      "##beta      :(0,0i)\n",
      "##omega     :(0,0i)\n",
      "##send_tmp  :(4.71859e+06,0i)\n",
      "##norm2_tmp :(4.71859e+06,0i)\n",
      "##diff_tmp  :(0,0i)\n",
      "##lat_4dim  :(262144,0i)\n",
      "###############DEBUGING!!!##RANK:0##LOOP:999##Residual:(nan,nani)\n"
     ]
    },
    {
     "ename": "KeyboardInterrupt",
     "evalue": "",
     "output_type": "error",
     "traceback": [
      "\u001b[0;31m---------------------------------------------------------------------------\u001b[0m",
      "\u001b[0;31mKeyboardInterrupt\u001b[0m                         Traceback (most recent call last)",
      "Cell \u001b[0;32mIn[22], line 3\u001b[0m\n\u001b[1;32m      1\u001b[0m \u001b[38;5;66;03m#############################\u001b[39;00m\n\u001b[1;32m      2\u001b[0m qcu\u001b[38;5;241m.\u001b[39mapplyInitQcu(set_ptrs, params, argv)\n\u001b[0;32m----> 3\u001b[0m \u001b[43mqcu\u001b[49m\u001b[38;5;241;43m.\u001b[39;49m\u001b[43mapplyCloverBistabCgQcu\u001b[49m\u001b[43m(\u001b[49m\u001b[43mfermion_out\u001b[49m\u001b[43m,\u001b[49m\u001b[43m \u001b[49m\u001b[43mfermion_in\u001b[49m\u001b[43m,\u001b[49m\n\u001b[1;32m      4\u001b[0m \u001b[43m                           \u001b[49m\u001b[43mgauge\u001b[49m\u001b[43m,\u001b[49m\u001b[43m \u001b[49m\u001b[43mclover_ee\u001b[49m\u001b[43m,\u001b[49m\u001b[43m \u001b[49m\u001b[43mclover_oo\u001b[49m\u001b[43m,\u001b[49m\u001b[43m \u001b[49m\u001b[43mclover_ee_inv\u001b[49m\u001b[43m,\u001b[49m\u001b[43m \u001b[49m\u001b[43mclover_oo_inv\u001b[49m\u001b[43m,\u001b[49m\u001b[43m  \u001b[49m\u001b[43mset_ptrs\u001b[49m\u001b[43m,\u001b[49m\u001b[43m \u001b[49m\u001b[43mparams\u001b[49m\u001b[43m)\u001b[49m\n\u001b[1;32m      5\u001b[0m qcu\u001b[38;5;241m.\u001b[39mapplyEndQcu(set_ptrs, params)\n\u001b[1;32m      6\u001b[0m \u001b[38;5;66;03m#############################\u001b[39;00m\n",
      "\u001b[0;31mKeyboardInterrupt\u001b[0m: "
     ]
    }
   ],
   "source": [
    "\n",
    "#############################\n",
    "qcu.applyInitQcu(set_ptrs, params, argv)\n",
    "qcu.applyCloverBistabCgQcu(fermion_out, fermion_in,\n",
    "                           gauge, clover_ee, clover_oo, clover_ee_inv, clover_oo_inv,  set_ptrs, params)\n",
    "qcu.applyEndQcu(set_ptrs, params)\n",
    "#############################\n"
   ]
  }
 ],
 "metadata": {
  "kernelspec": {
   "display_name": "Python 3",
   "language": "python",
   "name": "python3"
  },
  "language_info": {
   "codemirror_mode": {
    "name": "ipython",
    "version": 3
   },
   "file_extension": ".py",
   "mimetype": "text/x-python",
   "name": "python",
   "nbconvert_exporter": "python",
   "pygments_lexer": "ipython3",
   "version": "3.10.12"
  }
 },
 "nbformat": 4,
 "nbformat_minor": 5
}
