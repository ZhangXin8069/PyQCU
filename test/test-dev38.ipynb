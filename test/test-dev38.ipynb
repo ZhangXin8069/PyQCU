{
 "cells": [
  {
   "cell_type": "code",
   "execution_count": 1,
   "metadata": {},
   "outputs": [
    {
     "name": "stdout",
     "output_type": "stream",
     "text": [
      "\n",
      "    @@@@@@######QCU NOTES START######@@@@@@@\n",
      "    0. Required: MPI(e.g. 4.1.2), CUDA(e.g. 12.4), CMAKE(e.g. 3.22.1), GCC(e.g. 11.4.0), HDF5-MPI(e.g. 1.10.7,'apt install libhdf5-mpi-dev && export HDF5_MPI=\"ON\" && pip install --no-binary=h5py h5py').\n",
      "    1. The libqcu.so was compiled when pyqcu setup in download_path/PyQCU/lib, please add this path to your LD_LIBRARY_PATH.\n",
      "    2. The QCU(PyQCU) splite grid by x->y->z->t, lattice by x->y->z->t->p->d->c->c or x->y->z->t->c->s(->p) and x->y->z->t->c->s->c->s(->p).\n",
      "    3. The QUDA(PyQUDA) splite grid by t->z->y->x, lattice by c->c->x->y->z->t->p->d or c->s->x->y->z->t(->p) and c->s->c->s->x->y->z->t(->p).\n",
      "    4. The QCU input params in numpy array(dtype=np.int32), argv in  numpy array(dtype=np.float32 or float64) array, set_ptrs in numpy array(dtype=np.int64), other in cupy array(dtype=cp.complex64 or complex128).\n",
      "    5. The smallest lattice size is (x=4,y=4,z=4,t=8) that QCU support.\n",
      "    @@@@@@######QCU NOTES END######@@@@@@@\n",
      "    \n",
      "Parameters: [     32      32      32      32 1048576       1       1       1       1\n",
      "       0       0       1       0   10000       0       2       0]\n",
      "Parameters data: <memory at 0x7f1319aabf40>\n",
      "Arguments: [0.e+00 1.e-09]\n",
      "Arguments data: <memory at 0x7f1319aabf40>\n",
      "Set pointers: [     32      32      32      32 1048576       1       1       1       1\n",
      "       0       0       1       0   10000       0       2       0]\n",
      "Set pointers data: <memory at 0x7f13179cc040>\n",
      "My rank is  0\n",
      "Parameters: [     32      32      32      32 1048576       1       1       1       1\n",
      "       0       0       1       0   10000       0       2       1]\n"
     ]
    }
   ],
   "source": [
    "import cupy as cp\n",
    "from pyqcu import define\n",
    "from pyqcu import io\n",
    "from pyqcu import qcu\n",
    "from pyqcu import eigen\n",
    "from pyqcu.set import params, argv, set_ptrs\n",
    "print('My rank is ', define.rank)\n",
    "params[define._SET_PLAN_] = 1\n",
    "gauge_filename = f\"quda_wilson-bistabcg-gauge_-{params[define._LAT_X_]}-{params[define._LAT_Y_]}-{params  [define._LAT_Z_]}-{params[define._LAT_T_]}-{params[define._LAT_XYZT_]}-{params[define._GRID_X_]}-{params[define._GRID_Y_]}-{params[define._GRID_Z_]}-{params[define._GRID_T_]}-{params[define._PARITY_]}-{params[define._NODE_RANK_]}-{params[define._NODE_SIZE_]}-{params[define._DAGGER_]}-f.h5\"\n",
    "params[define._NODE_RANK_] = define.rank\n",
    "params[define._NODE_SIZE_] = define.size\n",
    "print(\"Parameters:\", params)\n"
   ]
  },
  {
   "cell_type": "code",
   "execution_count": 2,
   "metadata": {},
   "outputs": [
    {
     "name": "stdout",
     "output_type": "stream",
     "text": [
      "gridDim.x               :4096\n",
      "blockDim.x              :128\n",
      "host_params[_LAT_X_]    :16\n",
      "host_params[_LAT_Y_]    :32\n",
      "host_params[_LAT_Z_]    :32\n",
      "host_params[_LAT_T_]    :32\n",
      "host_params[_LAT_XYZT_] :524288\n",
      "host_params[_GRID_X_]   :1\n",
      "host_params[_GRID_Y_]   :1\n",
      "host_params[_GRID_Z_]   :1\n",
      "host_params[_GRID_T_]   :1\n",
      "host_params[_PARITY_]   :0\n",
      "host_params[_NODE_RANK_]:0\n",
      "host_params[_NODE_SIZE_]:1\n",
      "host_params[_DAGGER_]   :0\n",
      "host_params[_MAX_ITER_] :10000\n",
      "host_params[_SET_INDEX_]:2\n",
      "host_params[_SET_PLAN_] :1\n",
      "host_argv[_MASS_]       :0.000000e+00\n",
      "host_argv[_TOL_]        :1.000000e-09\n",
      "lat_2dim[_XY_]          :512\n",
      "lat_2dim[_XZ_]          :512\n",
      "lat_2dim[_XT_]          :512\n",
      "lat_2dim[_YZ_]          :1024\n",
      "lat_2dim[_YT_]          :1024\n",
      "lat_2dim[_ZT_]          :1024\n",
      "lat_3dim[_YZT_]         :32768\n",
      "lat_3dim[_XZT_]         :16384\n",
      "lat_3dim[_XYT_]         :16384\n",
      "lat_3dim[_XYZ_]         :16384\n",
      "lat_4dim                :524288\n",
      "grid_2dim[_XY_]         :1\n",
      "grid_2dim[_XZ_]         :1\n",
      "grid_2dim[_XT_]         :1\n",
      "grid_2dim[_YZ_]         :1\n",
      "grid_2dim[_YT_]         :1\n",
      "grid_2dim[_ZT_]         :1\n",
      "grid_3dim[_YZT_]        :1\n",
      "grid_3dim[_XZT_]        :1\n",
      "grid_3dim[_XYT_]        :1\n",
      "grid_3dim[_XYZ_]        :1\n",
      "grid_index_1dim[_X_]    :0\n",
      "grid_index_1dim[_Y_]    :0\n",
      "grid_index_1dim[_Z_]    :0\n",
      "grid_index_1dim[_T_]    :0\n",
      "move_wards[_B_X_]       :0\n",
      "move_wards[_B_Y_]       :0\n",
      "move_wards[_B_Z_]       :0\n",
      "move_wards[_B_T_]       :0\n",
      "move_wards[_F_X_]       :0\n",
      "move_wards[_F_Y_]       :0\n",
      "move_wards[_F_Z_]       :0\n",
      "move_wards[_F_T_]       :0\n",
      "move_wards[_BX_BY_]     :0\n",
      "move_wards[_BX_BZ_]     :0\n",
      "move_wards[_BX_BT_]     :0\n",
      "move_wards[_BY_BZ_]     :0\n",
      "move_wards[_BY_BT_]     :0\n",
      "move_wards[_BZ_BT_]     :0\n",
      "move_wards[_FX_BY_]     :0\n",
      "move_wards[_FX_BZ_]     :0\n",
      "move_wards[_FX_BT_]     :0\n",
      "move_wards[_FY_BZ_]     :0\n",
      "move_wards[_FY_BT_]     :0\n",
      "move_wards[_FZ_BT_]     :0\n",
      "move_wards[_BX_FY_]     :0\n",
      "move_wards[_BX_FZ_]     :0\n",
      "move_wards[_BX_FT_]     :0\n",
      "move_wards[_BY_FZ_]     :0\n",
      "move_wards[_BY_FT_]     :0\n",
      "move_wards[_BZ_FT_]     :0\n",
      "move_wards[_FX_FY_]     :0\n",
      "move_wards[_FX_FZ_]     :0\n",
      "move_wards[_FX_FT_]     :0\n",
      "move_wards[_FY_FZ_]     :0\n",
      "move_wards[_FY_FT_]     :0\n",
      "move_wards[_FZ_FT_]     :0\n",
      "set_ptr:0x56085a9b2a40\n",
      "long long set_ptr:94593879845440\n",
      "lattice set init total time:0.512513408 sec\n"
     ]
    }
   ],
   "source": [
    "qcu.applyInitQcu(set_ptrs, params, argv)"
   ]
  },
  {
   "cell_type": "code",
   "execution_count": 3,
   "metadata": {},
   "outputs": [
    {
     "name": "stdout",
     "output_type": "stream",
     "text": [
      "Gauge filename: quda_wilson-bistabcg-gauge_-32-32-32-32-1048576-1-1-1-1-0-0-1-0-f.h5\n",
      "Grid Index T: 0, Grid Index Z: 0, Grid Index Y: 0, Grid Index X: 0\n",
      "Grid Lat T: 32, Grid Lat Z: 32, Grid Lat Y: 32, Grid Lat X: 16\n",
      "All Dset Shape: (3, 3, 4, 2, 32, 32, 32, 16)\n",
      "Dest Shape: (3, 3, 4, 2, 32, 32, 32, 16)\n",
      "Fermion in filename: quda_wilson-bistabcg-fermion-in_-32-32-32-32-1048576-1-1-1-1-0-0-1-0-f.h5\n",
      "Grid Index T: 0, Grid Index Z: 0, Grid Index Y: 0, Grid Index X: 0\n",
      "Grid Lat T: 32, Grid Lat Z: 32, Grid Lat Y: 32, Grid Lat X: 16\n",
      "All Dset Shape: (2, 4, 3, 32, 32, 32, 16)\n",
      "Dest Shape: (2, 4, 3, 32, 32, 32, 16)\n",
      "Fermion out filename: quda_wilson-bistabcg-fermion-out_-32-32-32-32-1048576-1-1-1-1-0-0-1-0-f.h5\n",
      "Grid Index T: 0, Grid Index Z: 0, Grid Index Y: 0, Grid Index X: 0\n",
      "Grid Lat T: 32, Grid Lat Z: 32, Grid Lat Y: 32, Grid Lat X: 16\n",
      "All Dset Shape: (2, 4, 3, 32, 32, 32, 16)\n",
      "Dest Shape: (2, 4, 3, 32, 32, 32, 16)\n",
      "Fermion out data: <MemoryPointer 0xb26200000 device=0 mem=<cupy.cuda.memory.PooledMemory object at 0x7f137cd08eb0>>\n",
      "Fermion out shape: (2, 4, 3, 32, 32, 32, 16)\n"
     ]
    }
   ],
   "source": [
    "print(\"Gauge filename:\", gauge_filename)\n",
    "gauge = io.hdf5_xxxtzyx2grid_xxxtzyx(params, gauge_filename)\n",
    "fermion_in_filename = gauge_filename.replace(\"gauge\", \"fermion-in\")\n",
    "print(\"Fermion in filename:\", fermion_in_filename)\n",
    "fermion_in = io.hdf5_xxxtzyx2grid_xxxtzyx(params, fermion_in_filename)\n",
    "fermion_out_filename = gauge_filename.replace(\"gauge\", \"fermion-out\")\n",
    "print(\"Fermion out filename:\", fermion_out_filename)\n",
    "quda_fermion_out = io.hdf5_xxxtzyx2grid_xxxtzyx(params, fermion_out_filename)\n",
    "fermion_out = cp.zeros_like(fermion_in)\n",
    "print(\"Fermion out data:\", fermion_out.data)\n",
    "print(\"Fermion out shape:\", fermion_out.shape)"
   ]
  },
  {
   "cell_type": "code",
   "execution_count": 4,
   "metadata": {},
   "outputs": [
    {
     "name": "stdout",
     "output_type": "stream",
     "text": [
      "##RANK:0Fermion out data: <MemoryPointer 0xb26200000 device=0 mem=<cupy.cuda.memory.PooledMemory object at 0x7f137cd08eb0>>\n",
      "Fermion out shape: (2, 4, 3, 32, 32, 32, 16)\n",
      "QUDA Fermion out data: <MemoryPointer 0xb20200000 device=0 mem=<cupy.cuda.memory.PooledMemory object at 0x7f131adbd2f0>>\n",
      "QUDA Fermion out shape: (2, 4, 3, 32, 32, 32, 16)\n",
      "##LOOP:118##Residual:(2.27222e-10,1.97371e-23i)\n",
      "multi-gpu wilson bistabcg total time: (without malloc free memcpy) :1.681214080 sec\n",
      "######TIME  :2500.24######\n",
      "##RANK      :0\n",
      "##LOOP      :999\n",
      "##tmp0      :(1.03257e-11,2.49512e-12i)\n",
      "##tmp1      :(4.79284e-12,-2.12052e-23i)\n",
      "##rho_prev  :(-2.31288e-06,4.83391e-06i)\n",
      "##rho       :(-2.31288e-06,4.83391e-06i)\n",
      "##alpha     :(0.629024,-0.434716i)\n",
      "##beta      :(0.059529,-0.0243195i)\n",
      "##omega     :(2.1544,0.520593i)\n",
      "##send_tmp  :(0.00984323,0i)\n",
      "##norm2_tmp :(4.97484e+07,0.000224118i)\n",
      "##diff_tmp  :(1.9786e-10,-8.91365e-22i)\n",
      "##lat_4dim  :(524288,0i)\n",
      "Difference: 3.056118e-07\n"
     ]
    }
   ],
   "source": [
    "qcu.applyWilsonBistabCgQcu(fermion_out, fermion_in, gauge, set_ptrs, params)\n",
    "print(\"Fermion out data:\", fermion_out.data)\n",
    "print(\"Fermion out shape:\", fermion_out.shape)\n",
    "print(\"QUDA Fermion out data:\", quda_fermion_out.data)\n",
    "print(\"QUDA Fermion out shape:\", quda_fermion_out.shape)\n",
    "print(\"Difference:\", cp.linalg.norm(fermion_out -\n",
    "      quda_fermion_out)/cp.linalg.norm(quda_fermion_out))"
   ]
  },
  {
   "cell_type": "code",
   "execution_count": 5,
   "metadata": {},
   "outputs": [],
   "source": [
    "def matvec(src):\n",
    "    dest = cp.zeros_like(src)\n",
    "    qcu.applyWilsonCgDslashQcu(\n",
    "        dest, src, gauge, set_ptrs, params)\n",
    "    return dest\n",
    "eigen_solver = eigen.solver(\n",
    "    n=params[define._LAT_XYZT_] * define._LAT_HALF_SC_, k=define._LAT_Ne_,matvec=matvec,dtype=gauge.dtype)\n",
    "eigenvalues, eigenvectors = eigen_solver.run()"
   ]
  },
  {
   "cell_type": "code",
   "execution_count": 16,
   "metadata": {},
   "outputs": [
    {
     "data": {
      "text/plain": [
       "array([ 0.0000000e+00+0.77017j   ,  0.0000000e+00+0.770178j  ,\n",
       "       -0.0000000e+00+0.7702047j , -3.6893488e+19+0.7702561j ,\n",
       "        0.0000000e+00+0.77019674j, -2.0000000e+00+0.7702283j ,\n",
       "        2.0000000e+00+0.77025986j,  1.0842022e-19+0.7701675j ,\n",
       "       -2.0000000e+00+0.7702226j , -3.6893488e+19+0.7702001j ,\n",
       "       -0.0000000e+00+0.77018124j, -3.6893488e+19+0.77022904j,\n",
       "       -2.0000000e+00+1.0372533j , -3.6893488e+19+1.0371692j ,\n",
       "       -2.0000000e+00+1.037208j  ,  2.0000000e+00+1.0373142j ,\n",
       "       -0.0000000e+00+1.0373944j ,  0.0000000e+00+1.0371494j ,\n",
       "        3.6893488e+19+1.0373195j , -1.0842022e-19+1.0372378j ,\n",
       "       -0.0000000e+00+1.0374273j , -0.0000000e+00+1.0373198j ,\n",
       "       -2.0000000e+00+1.0374235j , -1.0842022e-19+1.0372444j ],\n",
       "      dtype=complex64)"
      ]
     },
     "execution_count": 16,
     "metadata": {},
     "output_type": "execute_result"
    }
   ],
   "source": [
    "eigenvalues"
   ]
  },
  {
   "cell_type": "code",
   "execution_count": null,
   "metadata": {},
   "outputs": [],
   "source": [
    "io.xxx2hdf5_xxx(\n",
    "    eigenvalues, params, gauge_filename.replace(\"gauge\", \"eigenvalues\"))\n",
    "io.xxx2hdf5_xxx(\n",
    "    eigenvectors, params, gauge_filename.replace(\"gauge\", \"eigenvectors\"))"
   ]
  },
  {
   "cell_type": "code",
   "execution_count": 10,
   "metadata": {},
   "outputs": [
    {
     "name": "stdout",
     "output_type": "stream",
     "text": [
      "Dest Shape: (24,)\n",
      "Dest Shape: (150994944,)\n"
     ]
    }
   ],
   "source": [
    "eigenvalues=io.hdf5_xxx2xxx(file_name=gauge_filename.replace(\"gauge\", \"eigenvalues\"))\n",
    "eigenvectors=io.hdf5_xxx2xxx(file_name=gauge_filename.replace(\"gauge\", \"eigenvectors\"))"
   ]
  },
  {
   "cell_type": "code",
   "execution_count": 12,
   "metadata": {},
   "outputs": [
    {
     "data": {
      "text/plain": [
       "array([-8.43454181e-05, -7.73657302e-05, -8.43242015e-05, -8.33449230e-05,\n",
       "       -7.76277448e-05, -3.34389188e-05, -8.27592012e-05, -6.90734159e-05,\n",
       "       -5.00938986e-05, -3.59291153e-06, -7.95493688e-05, -3.78615659e-05,\n",
       "       -1.43339275e-04, -1.03388760e-04, -8.32715596e-05, -7.68202153e-06,\n",
       "       -7.76611996e-05, -2.53519684e-05, -3.90986534e-05, -4.24507307e-05,\n",
       "       -1.12990121e-04, -6.47837005e-05, -1.04293125e-04, -1.18923810e-04],\n",
       "      dtype=float32)"
      ]
     },
     "execution_count": 12,
     "metadata": {},
     "output_type": "execute_result"
    }
   ],
   "source": [
    "eigenvalues"
   ]
  },
  {
   "cell_type": "code",
   "execution_count": 13,
   "metadata": {},
   "outputs": [
    {
     "data": {
      "text/plain": [
       "array([-0.00038408-0.00026665j, -0.00033693-0.00030289j,\n",
       "       -0.00032133-0.00034195j, ...,  0.00030356-0.00026165j,\n",
       "        0.00037381-0.00027764j,  0.00039316-0.00026242j], dtype=complex64)"
      ]
     },
     "execution_count": 13,
     "metadata": {},
     "output_type": "execute_result"
    }
   ],
   "source": [
    "eigenvectors"
   ]
  },
  {
   "cell_type": "code",
   "execution_count": 14,
   "metadata": {},
   "outputs": [
    {
     "name": "stdout",
     "output_type": "stream",
     "text": [
      "λ_0 = -8.43e-05\n",
      "Relative error: 1.00e+00\n",
      "Diff between λ_0 and λ_1: 1.27e-01\n",
      "λ_1 = -3.88e-05\n",
      "Relative error: 1.00e+00\n",
      "Diff between λ_1 and λ_2: 9.28e-02\n",
      "λ_2 = -7.36e-05\n",
      "Relative error: 1.00e+00\n",
      "Diff between λ_2 and λ_3: 5.39e-02\n",
      "λ_3 = -8.14e-05\n",
      "Relative error: 1.00e+00\n",
      "Diff between λ_3 and λ_4: 1.58e-01\n",
      "λ_4 = -5.82e-05\n",
      "Relative error: 1.00e+00\n",
      "Diff between λ_4 and λ_5: 8.16e-02\n",
      "λ_5 = -1.73e-05\n",
      "Relative error: 1.00e+00\n",
      "Diff between λ_5 and λ_6: 8.69e-02\n",
      "λ_6 = -6.73e-05\n",
      "Relative error: 1.00e+00\n",
      "Diff between λ_6 and λ_7: 1.10e-01\n",
      "λ_7 = -3.88e-05\n",
      "Relative error: 1.00e+00\n",
      "Diff between λ_7 and λ_8: 1.20e-01\n",
      "λ_8 = -4.60e-05\n",
      "Relative error: 1.00e+00\n",
      "Diff between λ_8 and λ_9: 1.38e-01\n",
      "λ_9 = -2.83e-06\n",
      "Relative error: 1.00e+00\n",
      "Diff between λ_9 and λ_10: 9.93e-02\n",
      "λ_10 = -1.10e-04\n",
      "Relative error: 1.01e+00\n",
      "Diff between λ_10 and λ_11: 2.36e-01\n",
      "λ_11 = -2.33e-05\n",
      "Relative error: 1.00e+00\n",
      "Diff between λ_11 and λ_12: 1.24e-01\n",
      "λ_12 = -1.13e-04\n",
      "Relative error: 1.00e+00\n",
      "Diff between λ_12 and λ_13: 1.20e-01\n",
      "λ_13 = -6.79e-05\n",
      "Relative error: 1.00e+00\n",
      "Diff between λ_13 and λ_14: 1.05e-01\n",
      "λ_14 = -1.17e-04\n",
      "Relative error: 1.00e+00\n",
      "Diff between λ_14 and λ_15: 6.70e-02\n",
      "λ_15 = -1.07e-06\n",
      "Relative error: 1.00e+00\n",
      "Diff between λ_15 and λ_16: 9.86e-02\n",
      "λ_16 = -1.50e-04\n",
      "Relative error: 1.00e+00\n",
      "Diff between λ_16 and λ_17: 1.30e-01\n",
      "λ_17 = -4.98e-05\n",
      "Relative error: 1.00e+00\n",
      "Diff between λ_17 and λ_18: 1.99e-01\n",
      "λ_18 = -4.65e-05\n",
      "Relative error: 1.00e+00\n",
      "Diff between λ_18 and λ_19: 3.27e-02\n",
      "λ_19 = -3.23e-05\n",
      "Relative error: 1.00e+00\n",
      "Diff between λ_19 and λ_20: 1.72e-01\n",
      "λ_20 = -1.28e-04\n",
      "Relative error: 1.00e+00\n",
      "Diff between λ_20 and λ_21: 6.60e-02\n",
      "λ_21 = -5.08e-05\n",
      "Relative error: 1.00e+00\n",
      "Diff between λ_21 and λ_22: 1.12e-01\n",
      "λ_22 = -9.70e-05\n",
      "Relative error: 1.00e+00\n",
      "Diff between λ_22 and λ_23: 1.16e-01\n",
      "λ_23 = -3.91e-05\n",
      "Relative error: 1.00e+00\n",
      "Diff between λ_23 and λ_0: 1.39e-01\n"
     ]
    }
   ],
   "source": [
    "for i, ev in enumerate(eigenvalues):\n",
    "    print(f\"λ_{i} = {ev:.2e}\")\n",
    "    # Verify eigenvector\n",
    "    v = eigenvectors[i]\n",
    "    w = cp.zeros_like(v)\n",
    "    w = matvec(v)\n",
    "    error = cp.linalg.norm(w - ev * v) / cp.linalg.norm(w)\n",
    "    print(f\"Relative error: {error:.2e}\")\n",
    "    j = i+1\n",
    "    if j == len(eigenvalues):\n",
    "        j = 0\n",
    "    print(\n",
    "        f\"Diff between λ_{i} and λ_{j}: {cp.linalg.norm(eigenvectors[i] - eigenvectors[j])/cp.linalg.norm(eigenvectors[i]):.2e}\")"
   ]
  },
  {
   "cell_type": "code",
   "execution_count": null,
   "metadata": {},
   "outputs": [],
   "source": []
  },
  {
   "cell_type": "code",
   "execution_count": 8,
   "metadata": {},
   "outputs": [],
   "source": [
    "# qcu.applyEndQcu(set_ptrs, params)"
   ]
  }
 ],
 "metadata": {
  "kernelspec": {
   "display_name": "Python 3",
   "language": "python",
   "name": "python3"
  },
  "language_info": {
   "codemirror_mode": {
    "name": "ipython",
    "version": 3
   },
   "file_extension": ".py",
   "mimetype": "text/x-python",
   "name": "python",
   "nbconvert_exporter": "python",
   "pygments_lexer": "ipython3",
   "version": "3.10.12"
  }
 },
 "nbformat": 4,
 "nbformat_minor": 2
}
