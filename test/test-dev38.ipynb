{
    "cells": [
        {
            "cell_type": "markdown",
            "metadata": {},
            "source": [
                "# Init for pyqcu."
            ]
        },
        {
            "cell_type": "code",
            "execution_count": 5,
            "metadata": {},
            "outputs": [
                {
                    "name": "stdout",
                    "output_type": "stream",
                    "text": [
                        "My rank is  0\n",
                        "Parameters: [     32      32      32      32 1048576       1       1       1       1\n",
                        "       0       0       1       0   10000       0       2       1]\n",
                        "gridDim.x               :4096\n",
                        "blockDim.x              :128\n",
                        "host_params[_LAT_X_]    :16\n",
                        "host_params[_LAT_Y_]    :32\n",
                        "host_params[_LAT_Z_]    :32\n",
                        "host_params[_LAT_T_]    :32\n",
                        "host_params[_LAT_XYZT_] :524288\n",
                        "host_params[_GRID_X_]   :1\n",
                        "host_params[_GRID_Y_]   :1\n",
                        "host_params[_GRID_Z_]   :1\n",
                        "host_params[_GRID_T_]   :1\n",
                        "host_params[_PARITY_]   :0\n",
                        "host_params[_NODE_RANK_]:0\n",
                        "host_params[_NODE_SIZE_]:1\n",
                        "host_params[_DAGGER_]   :0\n",
                        "host_params[_MAX_ITER_] :10000\n",
                        "host_params[_SET_INDEX_]:2\n",
                        "host_params[_SET_PLAN_] :1\n",
                        "host_argv[_MASS_]       :0.000000e+00\n",
                        "host_argv[_TOL_]        :1.000000e-09\n",
                        "lat_2dim[_XY_]          :512\n",
                        "lat_2dim[_XZ_]          :512\n",
                        "lat_2dim[_XT_]          :512\n",
                        "lat_2dim[_YZ_]          :1024\n",
                        "lat_2dim[_YT_]          :1024\n",
                        "lat_2dim[_ZT_]          :1024\n",
                        "lat_3dim[_YZT_]         :32768\n",
                        "lat_3dim[_XZT_]         :16384\n",
                        "lat_3dim[_XYT_]         :16384\n",
                        "lat_3dim[_XYZ_]         :16384\n",
                        "lat_4dim                :524288\n",
                        "grid_2dim[_XY_]         :1\n",
                        "grid_2dim[_XZ_]         :1\n",
                        "grid_2dim[_XT_]         :1\n",
                        "grid_2dim[_YZ_]         :1\n",
                        "grid_2dim[_YT_]         :1\n",
                        "grid_2dim[_ZT_]         :1\n",
                        "grid_3dim[_YZT_]        :1\n",
                        "grid_3dim[_XZT_]        :1\n",
                        "grid_3dim[_XYT_]        :1\n",
                        "grid_3dim[_XYZ_]        :1\n",
                        "grid_index_1dim[_X_]    :0\n",
                        "grid_index_1dim[_Y_]    :0\n",
                        "grid_index_1dim[_Z_]    :0\n",
                        "grid_index_1dim[_T_]    :0\n",
                        "move_wards[_B_X_]       :0\n",
                        "move_wards[_B_Y_]       :0\n",
                        "move_wards[_B_Z_]       :0\n",
                        "move_wards[_B_T_]       :0\n",
                        "move_wards[_F_X_]       :0\n",
                        "move_wards[_F_Y_]       :0\n",
                        "move_wards[_F_Z_]       :0\n",
                        "move_wards[_F_T_]       :0\n",
                        "move_wards[_BX_BY_]     :0\n",
                        "move_wards[_BX_BZ_]     :0\n",
                        "move_wards[_BX_BT_]     :0\n",
                        "move_wards[_BY_BZ_]     :0\n",
                        "move_wards[_BY_BT_]     :0\n",
                        "move_wards[_BZ_BT_]     :0\n",
                        "move_wards[_FX_BY_]     :0\n",
                        "move_wards[_FX_BZ_]     :0\n",
                        "move_wards[_FX_BT_]     :0\n",
                        "move_wards[_FY_BZ_]     :0\n",
                        "move_wards[_FY_BT_]     :0\n",
                        "move_wards[_FZ_BT_]     :0\n",
                        "move_wards[_BX_FY_]     :0\n",
                        "move_wards[_BX_FZ_]     :0\n",
                        "move_wards[_BX_FT_]     :0\n",
                        "move_wards[_BY_FZ_]     :0\n",
                        "move_wards[_BY_FT_]     :0\n",
                        "move_wards[_BZ_FT_]     :0\n",
                        "move_wards[_FX_FY_]     :0\n",
                        "move_wards[_FX_FZ_]     :0\n",
                        "move_wards[_FX_FT_]     :0\n",
                        "move_wards[_FY_FZ_]     :0\n",
                        "move_wards[_FY_FT_]     :0\n",
                        "move_wards[_FZ_FT_]     :0\n",
                        "set_ptr:0x55d521c29b30\n",
                        "long long set_ptr:94373882796848\n",
                        "lattice set init total time:0.043874284 sec\n"
                    ]
                }
            ],
            "source": [
                "import cupy as cp\n",
                "from pyqcu import define\n",
                "from pyqcu import io\n",
                "from pyqcu import qcu\n",
                "from pyqcu import eigen\n",
                "from pyqcu.set import params, argv, set_ptrs\n",
                "print('My rank is ', define.rank)\n",
                "params[define._SET_PLAN_] = 1\n",
                "gauge_filename = f\"quda_wilson-bistabcg-gauge_-{params[define._LAT_X_]}-{params[define._LAT_Y_]}-{params  [define._LAT_Z_]}-{params[define._LAT_T_]}-{params[define._LAT_XYZT_]}-{params[define._GRID_X_]}-{params[define._GRID_Y_]}-{params[define._GRID_Z_]}-{params[define._GRID_T_]}-{params[define._PARITY_]}-{params[define._NODE_RANK_]}-{params[define._NODE_SIZE_]}-{params[define._DAGGER_]}-f.h5\"\n",
                "params[define._NODE_RANK_] = define.rank\n",
                "params[define._NODE_SIZE_] = define.size\n",
                "qcu.applyInitQcu(set_ptrs, params, argv)\n",
                "print(\"Parameters:\", params)\n"
            ]
        },
        {
            "cell_type": "markdown",
            "metadata": {},
            "source": [
                "# Read from hdf5 files."
            ]
        },
        {
            "cell_type": "code",
            "execution_count": 6,
            "metadata": {},
            "outputs": [
                {
                    "name": "stdout",
                    "output_type": "stream",
                    "text": [
                        "Gauge filename: quda_wilson-bistabcg-gauge_-32-32-32-32-1048576-1-1-1-1-0-0-1-0-f.h5\n",
                        "Grid Index T: 0, Grid Index Z: 0, Grid Index Y: 0, Grid Index X: 0\n",
                        "Grid Lat T: 32, Grid Lat Z: 32, Grid Lat Y: 32, Grid Lat X: 16\n",
                        "All Dset Shape: (3, 3, 4, 2, 32, 32, 32, 16)\n",
                        "Dest Shape: (3, 3, 4, 2, 32, 32, 32, 16)\n",
                        "Fermion in filename: quda_wilson-bistabcg-fermion-in_-32-32-32-32-1048576-1-1-1-1-0-0-1-0-f.h5\n",
                        "Grid Index T: 0, Grid Index Z: 0, Grid Index Y: 0, Grid Index X: 0\n",
                        "Grid Lat T: 32, Grid Lat Z: 32, Grid Lat Y: 32, Grid Lat X: 16\n",
                        "All Dset Shape: (2, 4, 3, 32, 32, 32, 16)\n",
                        "Dest Shape: (2, 4, 3, 32, 32, 32, 16)\n",
                        "Fermion out filename: quda_wilson-bistabcg-fermion-out_-32-32-32-32-1048576-1-1-1-1-0-0-1-0-f.h5\n",
                        "Grid Index T: 0, Grid Index Z: 0, Grid Index Y: 0, Grid Index X: 0\n",
                        "Grid Lat T: 32, Grid Lat Z: 32, Grid Lat Y: 32, Grid Lat X: 16\n",
                        "All Dset Shape: (2, 4, 3, 32, 32, 32, 16)\n",
                        "Dest Shape: (2, 4, 3, 32, 32, 32, 16)\n",
                        "Fermion out data: <MemoryPointer 0xb1a200000 device=0 mem=<cupy.cuda.memory.PooledMemory object at 0x7fdc942029b0>>\n",
                        "Fermion out shape: (2, 4, 3, 32, 32, 32, 16)\n",
                        "Eigenvalues filename: quda_wilson-bistabcg-eigenvalues_-32-32-32-32-1048576-1-1-1-1-0-0-1-0-f.h5\n",
                        "Dest Shape: (24,)\n",
                        "Eigenvalues data: <MemoryPointer 0xb20200000 device=0 mem=<cupy.cuda.memory.PooledMemory object at 0x7fdc943adaf0>>\n",
                        "Eigenvalues shape: (24,)\n",
                        "Eigenvectors filename: quda_wilson-bistabcg-eigenvectors_-32-32-32-32-1048576-1-1-1-1-0-0-1-0-f.h5\n",
                        "Dest Shape: (24, 6291456)\n",
                        "Eigenvectors data: <MemoryPointer 0xb55400000 device=0 mem=<cupy.cuda.memory.PooledMemory object at 0x7fdc5db18230>>\n",
                        "Eigenvectors shape: (24, 6291456)\n"
                    ]
                }
            ],
            "source": [
                "print(\"Gauge filename:\", gauge_filename)\n",
                "gauge = io.hdf5_xxxtzyx2grid_xxxtzyx(params, gauge_filename)\n",
                "fermion_in_filename = gauge_filename.replace(\"gauge\", \"fermion-in\")\n",
                "print(\"Fermion in filename:\", fermion_in_filename)\n",
                "fermion_in = io.hdf5_xxxtzyx2grid_xxxtzyx(params, fermion_in_filename)\n",
                "fermion_out_filename = gauge_filename.replace(\"gauge\", \"fermion-out\")\n",
                "print(\"Fermion out filename:\", fermion_out_filename)\n",
                "quda_fermion_out = io.hdf5_xxxtzyx2grid_xxxtzyx(params, fermion_out_filename)\n",
                "fermion_out = cp.zeros_like(fermion_in)\n",
                "print(\"Fermion out data:\", fermion_out.data)\n",
                "print(\"Fermion out shape:\", fermion_out.shape)\n",
                "eigenvalues_filename = gauge_filename.replace(\"gauge\", \"eigenvalues\")\n",
                "print(\"Eigenvalues filename:\", eigenvalues_filename)\n",
                "eigenvalues = io.hdf5_xxx2xxx(file_name=eigenvalues_filename)\n",
                "print(\"Eigenvalues data:\", eigenvalues.data)\n",
                "print(\"Eigenvalues shape:\", eigenvalues.shape)\n",
                "eigenvectors_filename = gauge_filename.replace(\"gauge\", \"eigenvectors\")\n",
                "print(\"Eigenvectors filename:\", eigenvectors_filename)\n",
                "eigenvectors = io.hdf5_xxx2xxx(file_name=eigenvectors_filename)\n",
                "print(\"Eigenvectors data:\", eigenvectors.data)\n",
                "print(\"Eigenvectors shape:\", eigenvectors.shape)"
            ]
        },
        {
            "cell_type": "markdown",
            "metadata": {},
            "source": [
                "# Run wilson bistabcg from pyqcu test."
            ]
        },
        {
            "cell_type": "code",
            "execution_count": 7,
            "metadata": {},
            "outputs": [
                {
                    "name": "stdout",
                    "output_type": "stream",
                    "text": [
                        "##RANK:Fermion out data: <MemoryPointer 0xb1a200000 device=0 mem=<cupy.cuda.memory.PooledMemory object at 0x7fdc942029b0>>\n",
                        "Fermion out shape: (2, 4, 3, 32, 32, 32, 16)\n",
                        "QUDA Fermion out data: <MemoryPointer 0xb2ea00000 device=0 mem=<cupy.cuda.memory.PooledMemory object at 0x7fdc15c5adf0>>\n",
                        "QUDA Fermion out shape: (2, 4, 3, 32, 32, 32, 16)\n",
                        "0##LOOP:118##Residual:(2.27222e-10,1.97371e-23i)\n",
                        "multi-gpu wilson bistabcg total time: (without malloc free memcpy) :1.839056640 sec\n",
                        "######TIME  :5303.36######\n",
                        "##RANK      :0\n",
                        "##LOOP      :999\n",
                        "##tmp0      :(1.03257e-11,2.49512e-12i)\n",
                        "##tmp1      :(4.79284e-12,-2.12052e-23i)\n",
                        "##rho_prev  :(-2.31288e-06,4.83391e-06i)\n",
                        "##rho       :(-2.31288e-06,4.83391e-06i)\n",
                        "##alpha     :(0.629024,-0.434716i)\n",
                        "##beta      :(0.059529,-0.0243195i)\n",
                        "##omega     :(2.1544,0.520593i)\n",
                        "##send_tmp  :(0.00984323,0i)\n",
                        "##norm2_tmp :(4.97484e+07,0.000224118i)\n",
                        "##diff_tmp  :(1.9786e-10,-8.91365e-22i)\n",
                        "##lat_4dim  :(524288,0i)\n",
                        "Difference: 3.056118e-07\n"
                    ]
                }
            ],
            "source": [
                "qcu.applyWilsonBistabCgQcu(fermion_out, fermion_in, gauge, set_ptrs, params)\n",
                "print(\"Fermion out data:\", fermion_out.data)\n",
                "print(\"Fermion out shape:\", fermion_out.shape)\n",
                "print(\"QUDA Fermion out data:\", quda_fermion_out.data)\n",
                "print(\"QUDA Fermion out shape:\", quda_fermion_out.shape)\n",
                "print(\"Difference:\", cp.linalg.norm(fermion_out -\n",
                "      quda_fermion_out)/cp.linalg.norm(quda_fermion_out))"
            ]
        },
        {
            "cell_type": "markdown",
            "metadata": {},
            "source": [
                "# Run matvec(eigenvector[.]) ?= eigenvalue[.]*eigenvector[.] for eigen test"
            ]
        },
        {
            "cell_type": "code",
            "execution_count": 8,
            "metadata": {},
            "outputs": [
                {
                    "name": "stdout",
                    "output_type": "stream",
                    "text": [
                        "λ_0 = 6.46e-04+0.00e+00j\n",
                        "Relative error: 8.08e-03\n",
                        "Diff between λ_0 and λ_1: 1.41e+00\n",
                        "λ_1 = 6.46e-04+0.00e+00j\n",
                        "Relative error: 9.35e-03\n",
                        "Diff between λ_1 and λ_2: 1.41e+00\n",
                        "λ_2 = 6.46e-04+0.00e+00j\n",
                        "Relative error: 1.03e-02\n",
                        "Diff between λ_2 and λ_3: 1.41e+00\n",
                        "λ_3 = 6.46e-04+0.00e+00j\n",
                        "Relative error: 9.62e-03\n",
                        "Diff between λ_3 and λ_4: 1.41e+00\n",
                        "λ_4 = 6.46e-04+0.00e+00j\n",
                        "Relative error: 1.00e-02\n",
                        "Diff between λ_4 and λ_5: 1.41e+00\n",
                        "λ_5 = 6.46e-04+0.00e+00j\n",
                        "Relative error: 9.52e-03\n",
                        "Diff between λ_5 and λ_6: 1.41e+00\n",
                        "λ_6 = 6.46e-04+0.00e+00j\n",
                        "Relative error: 9.83e-03\n",
                        "Diff between λ_6 and λ_7: 1.41e+00\n",
                        "λ_7 = 6.46e-04+0.00e+00j\n",
                        "Relative error: 9.38e-03\n",
                        "Diff between λ_7 and λ_8: 1.41e+00\n",
                        "λ_8 = 6.46e-04+0.00e+00j\n",
                        "Relative error: 9.36e-03\n",
                        "Diff between λ_8 and λ_9: 1.41e+00\n",
                        "λ_9 = 6.46e-04+0.00e+00j\n",
                        "Relative error: 1.06e-02\n",
                        "Diff between λ_9 and λ_10: 1.41e+00\n",
                        "λ_10 = 6.46e-04+0.00e+00j\n",
                        "Relative error: 1.00e-02\n",
                        "Diff between λ_10 and λ_11: 1.41e+00\n",
                        "λ_11 = 6.46e-04+0.00e+00j\n",
                        "Relative error: 1.12e-02\n",
                        "Diff between λ_11 and λ_12: 1.41e+00\n",
                        "λ_12 = 1.02e-02+0.00e+00j\n",
                        "Relative error: 6.02e-03\n",
                        "Diff between λ_12 and λ_13: 1.41e+00\n",
                        "λ_13 = 1.01e-02+0.00e+00j\n",
                        "Relative error: 5.75e-03\n",
                        "Diff between λ_13 and λ_14: 1.41e+00\n",
                        "λ_14 = 1.01e-02+0.00e+00j\n",
                        "Relative error: 5.97e-03\n",
                        "Diff between λ_14 and λ_15: 1.41e+00\n",
                        "λ_15 = 1.01e-02+0.00e+00j\n",
                        "Relative error: 5.58e-03\n",
                        "Diff between λ_15 and λ_16: 1.41e+00\n",
                        "λ_16 = 1.01e-02+0.00e+00j\n",
                        "Relative error: 5.71e-03\n",
                        "Diff between λ_16 and λ_17: 1.41e+00\n",
                        "λ_17 = 1.01e-02+0.00e+00j\n",
                        "Relative error: 6.28e-03\n",
                        "Diff between λ_17 and λ_18: 1.41e+00\n",
                        "λ_18 = 1.01e-02+0.00e+00j\n",
                        "Relative error: 5.94e-03\n",
                        "Diff between λ_18 and λ_19: 1.41e+00\n",
                        "λ_19 = 1.01e-02+0.00e+00j\n",
                        "Relative error: 5.62e-03\n",
                        "Diff between λ_19 and λ_20: 1.41e+00\n",
                        "λ_20 = 1.01e-02+0.00e+00j\n",
                        "Relative error: 5.75e-03\n",
                        "Diff between λ_20 and λ_21: 1.41e+00\n",
                        "λ_21 = 1.02e-02+0.00e+00j\n",
                        "Relative error: 6.03e-03\n",
                        "Diff between λ_21 and λ_22: 1.41e+00\n",
                        "λ_22 = 1.01e-02+0.00e+00j\n",
                        "Relative error: 5.95e-03\n",
                        "Diff between λ_22 and λ_23: 1.41e+00\n",
                        "λ_23 = 1.01e-02+0.00e+00j\n",
                        "Relative error: 5.60e-03\n",
                        "Diff between λ_23 and λ_0: 1.41e+00\n"
                    ]
                }
            ],
            "source": [
                "def matvec(src):\n",
                "    dest = cp.zeros_like(src)\n",
                "    qcu.applyWilsonCgDslashQcu(\n",
                "        dest, src, gauge, set_ptrs, params)\n",
                "    return dest\n",
                "for i, ev in enumerate(eigenvalues):\n",
                "    print(f\"λ_{i} = {ev:.2e}\")\n",
                "    # Verify eigenvector\n",
                "    v = eigenvectors[i]\n",
                "    w = cp.zeros_like(v)\n",
                "    w = matvec(v)\n",
                "    error = cp.linalg.norm(w - ev * v) / cp.linalg.norm(w)\n",
                "    print(f\"Relative error: {error:.2e}\")\n",
                "    j = i+1\n",
                "    if j == len(eigenvalues):\n",
                "        j = 0\n",
                "    print(\n",
                "        f\"Diff between λ_{i} and λ_{j}: {cp.linalg.norm(eigenvectors[i] - eigenvectors[j])/cp.linalg.norm(eigenvectors[i]):.2e}\")"
            ]
        },
        {
            "cell_type": "markdown",
            "metadata": {},
            "source": [
                "# Give guage's eigenvalues and eigenvectors to hdf5 files. (pass, don't run this)"
            ]
        },
        {
            "cell_type": "code",
            "execution_count": 9,
            "metadata": {},
            "outputs": [],
            "source": [
                "# eigen_solver = eigen.solver(\n",
                "#     n=params[define._LAT_XYZT_] * define._LAT_HALF_SC_, k=params[define._LAT_E_],matvec=matvec,dtype=gauge.dtype)\n",
                "# eigenvalues, eigenvectors = eigen_solver.run()\n",
                "# io.xxx2hdf5_xxx(\n",
                "#     eigenvalues, params, gauge_filename.replace(\"gauge\", \"eigenvalues\"))\n",
                "# io.xxx2hdf5_xxx(\n",
                "#     eigenvectors, params, gauge_filename.replace(\"gauge\", \"eigenvectors\"))"
            ]
        },
        {
            "cell_type": "markdown",
            "metadata": {},
            "source": [
                "# End for pyqcu. (pass, don't run this)"
            ]
        },
        {
            "cell_type": "code",
            "execution_count": 10,
            "metadata": {},
            "outputs": [],
            "source": [
                "# qcu.applyEndQcu(set_ptrs, params)"
            ]
        }
    ],
    "metadata": {
        "kernelspec": {
            "display_name": "Python 3",
            "language": "python",
            "name": "python3"
        },
        "language_info": {
            "codemirror_mode": {
                "name": "ipython",
                "version": 3
            },
            "file_extension": ".py",
            "mimetype": "text/x-python",
            "name": "python",
            "nbconvert_exporter": "python",
            "pygments_lexer": "ipython3",
            "version": "3.10.12"
        }
    },
    "nbformat": 4,
    "nbformat_minor": 2
}