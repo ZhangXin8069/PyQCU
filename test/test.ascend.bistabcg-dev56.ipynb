{
 "cells": [
  {
   "cell_type": "code",
   "execution_count": 1,
   "id": "463b2039",
   "metadata": {},
   "outputs": [
    {
     "name": "stdout",
     "output_type": "stream",
     "text": [
      "self.lat_size: [16, 16, 16, 16]\n",
      "self.grid_size: [1, 1, 1, 1]\n",
      "self.grid_index: [0, 0, 0, 0]\n",
      "self.local_lat_size: [16, 16, 16, 16]\n",
      "Using device: cpu\n",
      "@My Rank:0/1, Local Rank:0@\n",
      "\n",
      "self.wilson.check_su3(self.U): True\n",
      "block.shape: (3, 3, 4, 16, 16, 16, 16)\n",
      "grid_size: [1, 1, 1, 1]\n",
      "grid_index_t, grid_index_z, grid_index_y, grid_index_x: (0, 0, 0, 0)\n",
      "block.shape: (4, 3, 4, 3, 16, 16, 16, 16)\n",
      "grid_size: [1, 1, 1, 1]\n",
      "grid_index_t, grid_index_z, grid_index_y, grid_index_x: (0, 0, 0, 0)\n",
      "block.shape: (4, 3, 16, 16, 16, 16)\n",
      "grid_size: [1, 1, 1, 1]\n",
      "grid_index_t, grid_index_z, grid_index_y, grid_index_x: (0, 0, 0, 0)\n",
      "block.shape: (4, 3, 16, 16, 16, 16)\n",
      "grid_size: [1, 1, 1, 1]\n",
      "grid_index_t, grid_index_z, grid_index_y, grid_index_x: (0, 0, 0, 0)\n",
      "self.dof_list:[12, 24, 24, 24, 24]\n",
      "Building grid list:\n",
      "  Level 0: 16x16x16x16\n",
      "  Level 1: 8x8x8x8\n",
      "  Level 2: 4x4x4x4\n",
      "  Level 3: 2x2x2x2\n",
      "self.grid_list:[[16, 16, 16, 16], [8, 8, 8, 8], [4, 4, 4, 4], [2, 2, 2, 2]]\n",
      "self.dof_list:[12, 24, 24, 24, 24]\n",
      "Building grid list:\n",
      "  Level 0: 16x16x16x16\n",
      "  Level 1: 8x8x8x8\n",
      "  Level 2: 4x4x4x4\n",
      "  Level 3: 2x2x2x2\n",
      "self.grid_list:[[16, 16, 16, 16], [8, 8, 8, 8], [4, 4, 4, 4], [2, 2, 2, 2]]\n",
      "Input Tensor Shape: torch.Size([4, 3, 16, 16, 16, 16])\n",
      "Grid Index T: 0, Z: 0, Y: 0, X: 0\n",
      "Grid Lat T: 16, Z: 16, Y: 16, X: 16\n",
      "Dest Shape: (4, 3, 16, 16, 16, 16)\n",
      "rank 0: Data is saved to test.ascend-dev56b.h5\n",
      "Input Tensor Shape: torch.Size([3, 3, 4, 16, 16, 16, 16])\n",
      "Grid Index T: 0, Z: 0, Y: 0, X: 0\n",
      "Grid Lat T: 16, Z: 16, Y: 16, X: 16\n",
      "Dest Shape: (3, 3, 4, 16, 16, 16, 16)\n",
      "rank 0: Data is saved to test.ascend-dev56U.h5\n",
      "Input Tensor Shape: torch.Size([4, 3, 4, 3, 16, 16, 16, 16])\n",
      "Grid Index T: 0, Z: 0, Y: 0, X: 0\n",
      "Grid Lat T: 16, Z: 16, Y: 16, X: 16\n",
      "Dest Shape: (4, 3, 4, 3, 16, 16, 16, 16)\n",
      "rank 0: Data is saved to test.ascend-dev56clover_term.h5\n",
      "src_plus.shape,hopping.shape: (torch.Size([12, 16, 16, 16, 16]), torch.Size([12, 12, 8, 8, 8, 8]))\n"
     ]
    },
    {
     "ename": "RuntimeError",
     "evalue": "einsum(): subscript t has size 16 for operand 1 which does not broadcast with previously seen size 8",
     "output_type": "error",
     "traceback": [
      "\u001b[0;31m---------------------------------------------------------------------------\u001b[0m",
      "\u001b[0;31mRuntimeError\u001b[0m                              Traceback (most recent call last)",
      "Cell \u001b[0;32mIn[1], line 7\u001b[0m\n\u001b[1;32m      5\u001b[0m _qcu\u001b[38;5;241m.\u001b[39minit()\n\u001b[1;32m      6\u001b[0m _qcu\u001b[38;5;241m.\u001b[39msave(file_name\u001b[38;5;241m=\u001b[39m\u001b[38;5;124m'\u001b[39m\u001b[38;5;124mtest.ascend-dev56\u001b[39m\u001b[38;5;124m'\u001b[39m)\n\u001b[0;32m----> 7\u001b[0m \u001b[43m_qcu\u001b[49m\u001b[38;5;241;43m.\u001b[39;49m\u001b[43msolve\u001b[49m\u001b[43m(\u001b[49m\u001b[43m)\u001b[49m\n",
      "File \u001b[0;32m~/PyQCU/test/pyqcu/ascend/__init__.py:147\u001b[0m, in \u001b[0;36mqcu.solve\u001b[0;34m(self, b, x0)\u001b[0m\n\u001b[1;32m    145\u001b[0m start_time \u001b[38;5;241m=\u001b[39m perf_counter()\n\u001b[1;32m    146\u001b[0m \u001b[38;5;28;01mif\u001b[39;00m \u001b[38;5;28mself\u001b[39m\u001b[38;5;241m.\u001b[39msolver \u001b[38;5;241m==\u001b[39m \u001b[38;5;124m'\u001b[39m\u001b[38;5;124mbistabcg\u001b[39m\u001b[38;5;124m'\u001b[39m:\n\u001b[0;32m--> 147\u001b[0m     x \u001b[38;5;241m=\u001b[39m \u001b[43mbicgstab\u001b[49m\u001b[43m(\u001b[49m\u001b[43mb\u001b[49m\u001b[38;5;241;43m=\u001b[39;49m\u001b[38;5;28;43mself\u001b[39;49m\u001b[38;5;241;43m.\u001b[39;49m\u001b[43mb\u001b[49m\u001b[38;5;241;43m.\u001b[39;49m\u001b[43mclone\u001b[49m\u001b[43m(\u001b[49m\u001b[43m)\u001b[49m\u001b[43m \u001b[49m\u001b[38;5;28;43;01mif\u001b[39;49;00m\u001b[43m \u001b[49m\u001b[43mb\u001b[49m\u001b[43m \u001b[49m\u001b[38;5;241;43m==\u001b[39;49m\u001b[43m \u001b[49m\u001b[38;5;28;43;01mNone\u001b[39;49;00m\u001b[43m \u001b[49m\u001b[38;5;28;43;01melse\u001b[39;49;00m\u001b[43m \u001b[49m\u001b[43mb\u001b[49m\u001b[38;5;241;43m.\u001b[39;49m\u001b[43mclone\u001b[49m\u001b[43m(\u001b[49m\u001b[43m)\u001b[49m\u001b[43m,\u001b[49m\u001b[43m \u001b[49m\u001b[43mmatvec\u001b[49m\u001b[38;5;241;43m=\u001b[39;49m\u001b[38;5;28;43mself\u001b[39;49m\u001b[38;5;241;43m.\u001b[39;49m\u001b[43mmatvec\u001b[49m\u001b[43m,\u001b[49m\u001b[43m \u001b[49m\u001b[43mtol\u001b[49m\u001b[38;5;241;43m=\u001b[39;49m\u001b[38;5;28;43mself\u001b[39;49m\u001b[38;5;241;43m.\u001b[39;49m\u001b[43mtol\u001b[49m\u001b[43m,\u001b[49m\u001b[43m \u001b[49m\u001b[43mmax_iter\u001b[49m\u001b[38;5;241;43m=\u001b[39;49m\u001b[38;5;28;43mself\u001b[39;49m\u001b[38;5;241;43m.\u001b[39;49m\u001b[43mmax_iter\u001b[49m\u001b[43m,\u001b[49m\n\u001b[1;32m    148\u001b[0m \u001b[43m                 \u001b[49m\u001b[43mx0\u001b[49m\u001b[38;5;241;43m=\u001b[39;49m\u001b[38;5;28;43mself\u001b[39;49m\u001b[38;5;241;43m.\u001b[39;49m\u001b[43mx0\u001b[49m\u001b[38;5;241;43m.\u001b[39;49m\u001b[43mclone\u001b[49m\u001b[43m(\u001b[49m\u001b[43m)\u001b[49m\u001b[43m \u001b[49m\u001b[38;5;28;43;01mif\u001b[39;49;00m\u001b[43m \u001b[49m\u001b[43mx0\u001b[49m\u001b[43m \u001b[49m\u001b[38;5;241;43m==\u001b[39;49m\u001b[43m \u001b[49m\u001b[38;5;28;43;01mNone\u001b[39;49;00m\u001b[43m \u001b[49m\u001b[38;5;28;43;01melse\u001b[39;49;00m\u001b[43m \u001b[49m\u001b[43mx0\u001b[49m\u001b[38;5;241;43m.\u001b[39;49m\u001b[43mclone\u001b[49m\u001b[43m(\u001b[49m\u001b[43m)\u001b[49m\u001b[43m,\u001b[49m\u001b[43m \u001b[49m\u001b[43mif_multi\u001b[49m\u001b[38;5;241;43m=\u001b[39;49m\u001b[38;5;28;43mself\u001b[39;49m\u001b[38;5;241;43m.\u001b[39;49m\u001b[43mif_multi\u001b[49m\u001b[43m,\u001b[49m\u001b[43m \u001b[49m\u001b[43mverbose\u001b[49m\u001b[38;5;241;43m=\u001b[39;49m\u001b[38;5;28;43mself\u001b[39;49m\u001b[38;5;241;43m.\u001b[39;49m\u001b[43mverbose\u001b[49m\u001b[43m)\u001b[49m\n\u001b[1;32m    149\u001b[0m \u001b[38;5;28;01melse\u001b[39;00m:\n\u001b[1;32m    150\u001b[0m     \u001b[38;5;28mprint\u001b[39m(\u001b[38;5;124m'\u001b[39m\u001b[38;5;124mNot found Slover!\u001b[39m\u001b[38;5;124m'\u001b[39m)\n",
      "File \u001b[0;32m~/PyQCU/test/pyqcu/ascend/inverse.py:109\u001b[0m, in \u001b[0;36mbicgstab\u001b[0;34m(b, matvec, tol, max_iter, x0, if_rtol, if_multi, verbose)\u001b[0m\n\u001b[1;32m    107\u001b[0m     \u001b[38;5;28;01mreturn\u001b[39;00m multi_norm(a) \u001b[38;5;28;01mif\u001b[39;00m if_multi \u001b[38;5;28;01melse\u001b[39;00m torch\u001b[38;5;241m.\u001b[39mnorm(a)\n\u001b[1;32m    108\u001b[0m x \u001b[38;5;241m=\u001b[39m x0\u001b[38;5;241m.\u001b[39mclone() \u001b[38;5;28;01mif\u001b[39;00m x0 \u001b[38;5;129;01mis\u001b[39;00m \u001b[38;5;129;01mnot\u001b[39;00m \u001b[38;5;28;01mNone\u001b[39;00m \u001b[38;5;28;01melse\u001b[39;00m torch\u001b[38;5;241m.\u001b[39mrandn_like(b)\n\u001b[0;32m--> 109\u001b[0m r \u001b[38;5;241m=\u001b[39m b \u001b[38;5;241m-\u001b[39m \u001b[43mmatvec\u001b[49m\u001b[43m(\u001b[49m\u001b[43mx\u001b[49m\u001b[43m)\u001b[49m\n\u001b[1;32m    110\u001b[0m r_norm \u001b[38;5;241m=\u001b[39m _norm(r)\u001b[38;5;241m.\u001b[39mitem()\n\u001b[1;32m    111\u001b[0m \u001b[38;5;28;01mif\u001b[39;00m if_rtol:\n",
      "File \u001b[0;32m~/PyQCU/test/pyqcu/ascend/__init__.py:121\u001b[0m, in \u001b[0;36mqcu.matvec\u001b[0;34m(self, src)\u001b[0m\n\u001b[1;32m    120\u001b[0m \u001b[38;5;28;01mdef\u001b[39;00m \u001b[38;5;21mmatvec\u001b[39m(\u001b[38;5;28mself\u001b[39m, src: torch\u001b[38;5;241m.\u001b[39mTensor) \u001b[38;5;241m-\u001b[39m\u001b[38;5;241m>\u001b[39m torch\u001b[38;5;241m.\u001b[39mTensor:\n\u001b[0;32m--> 121\u001b[0m     \u001b[38;5;28;01mreturn\u001b[39;00m \u001b[38;5;28;43mself\u001b[39;49m\u001b[38;5;241;43m.\u001b[39;49m\u001b[43mop\u001b[49m\u001b[38;5;241;43m.\u001b[39;49m\u001b[43mmatvec\u001b[49m\u001b[43m(\u001b[49m\u001b[43msrc\u001b[49m\u001b[43m)\u001b[49m\u001b[38;5;241m.\u001b[39mclone()\n",
      "File \u001b[0;32m~/PyQCU/test/pyqcu/ascend/inverse.py:479\u001b[0m, in \u001b[0;36mop.matvec\u001b[0;34m(self, src)\u001b[0m\n\u001b[1;32m    477\u001b[0m \u001b[38;5;28;01mdef\u001b[39;00m \u001b[38;5;21mmatvec\u001b[39m(\u001b[38;5;28mself\u001b[39m, src: torch\u001b[38;5;241m.\u001b[39mTensor) \u001b[38;5;241m-\u001b[39m\u001b[38;5;241m>\u001b[39m torch\u001b[38;5;241m.\u001b[39mTensor:\n\u001b[1;32m    478\u001b[0m     \u001b[38;5;28;01mif\u001b[39;00m src\u001b[38;5;241m.\u001b[39mshape[\u001b[38;5;241m0\u001b[39m] \u001b[38;5;241m==\u001b[39m \u001b[38;5;241m4\u001b[39m \u001b[38;5;129;01mand\u001b[39;00m src\u001b[38;5;241m.\u001b[39mshape[\u001b[38;5;241m1\u001b[39m] \u001b[38;5;241m==\u001b[39m \u001b[38;5;241m3\u001b[39m:\n\u001b[0;32m--> 479\u001b[0m         \u001b[38;5;28;01mreturn\u001b[39;00m (\u001b[38;5;28;43mself\u001b[39;49m\u001b[38;5;241;43m.\u001b[39;49m\u001b[43mhopping\u001b[49m\u001b[38;5;241;43m.\u001b[39;49m\u001b[43mmatvec\u001b[49m\u001b[43m(\u001b[49m\u001b[43msrc\u001b[49m\u001b[38;5;241;43m=\u001b[39;49m\u001b[43msrc\u001b[49m\u001b[38;5;241;43m.\u001b[39;49m\u001b[43mreshape\u001b[49m\u001b[43m(\u001b[49m\u001b[43m[\u001b[49m\u001b[38;5;241;43m12\u001b[39;49m\u001b[43m]\u001b[49m\u001b[38;5;241;43m+\u001b[39;49m\u001b[38;5;28;43mlist\u001b[39;49m\u001b[43m(\u001b[49m\u001b[43msrc\u001b[49m\u001b[38;5;241;43m.\u001b[39;49m\u001b[43mshape\u001b[49m\u001b[43m)\u001b[49m\u001b[43m[\u001b[49m\u001b[38;5;241;43m2\u001b[39;49m\u001b[43m:\u001b[49m\u001b[43m]\u001b[49m\u001b[43m)\u001b[49m\u001b[43m)\u001b[49m\u001b[38;5;241m+\u001b[39m\u001b[38;5;28mself\u001b[39m\u001b[38;5;241m.\u001b[39msitting\u001b[38;5;241m.\u001b[39mmatvec(src\u001b[38;5;241m=\u001b[39msrc\u001b[38;5;241m.\u001b[39mreshape([\u001b[38;5;241m12\u001b[39m]\u001b[38;5;241m+\u001b[39m\u001b[38;5;28mlist\u001b[39m(src\u001b[38;5;241m.\u001b[39mshape)[\u001b[38;5;241m2\u001b[39m:])))\u001b[38;5;241m.\u001b[39mreshape([\u001b[38;5;241m4\u001b[39m, \u001b[38;5;241m3\u001b[39m]\u001b[38;5;241m+\u001b[39m\u001b[38;5;28mlist\u001b[39m(src\u001b[38;5;241m.\u001b[39mshape)[\u001b[38;5;241m2\u001b[39m:])\n\u001b[1;32m    480\u001b[0m     \u001b[38;5;28;01melse\u001b[39;00m:\n\u001b[1;32m    481\u001b[0m         \u001b[38;5;28;01mreturn\u001b[39;00m \u001b[38;5;28mself\u001b[39m\u001b[38;5;241m.\u001b[39mhopping\u001b[38;5;241m.\u001b[39mmatvec(src\u001b[38;5;241m=\u001b[39msrc)\u001b[38;5;241m+\u001b[39m\u001b[38;5;28mself\u001b[39m\u001b[38;5;241m.\u001b[39msitting\u001b[38;5;241m.\u001b[39mmatvec(src\u001b[38;5;241m=\u001b[39msrc)\n",
      "File \u001b[0;32m~/PyQCU/test/pyqcu/ascend/inverse.py:380\u001b[0m, in \u001b[0;36mhopping.matvec\u001b[0;34m(self, src)\u001b[0m\n\u001b[1;32m    378\u001b[0m dest \u001b[38;5;241m=\u001b[39m torch\u001b[38;5;241m.\u001b[39mzeros_like(src)\n\u001b[1;32m    379\u001b[0m \u001b[38;5;28;01mfor\u001b[39;00m ward \u001b[38;5;129;01min\u001b[39;00m \u001b[38;5;28mrange\u001b[39m(\u001b[38;5;241m4\u001b[39m):\n\u001b[0;32m--> 380\u001b[0m     dest \u001b[38;5;241m+\u001b[39m\u001b[38;5;241m=\u001b[39m \u001b[38;5;28;43mself\u001b[39;49m\u001b[38;5;241;43m.\u001b[39;49m\u001b[43mmatvec_plus\u001b[49m\u001b[43m(\u001b[49m\u001b[43mward\u001b[49m\u001b[38;5;241;43m=\u001b[39;49m\u001b[43mward\u001b[49m\u001b[43m,\u001b[49m\u001b[43m \u001b[49m\u001b[43msrc\u001b[49m\u001b[38;5;241;43m=\u001b[39;49m\u001b[43msrc\u001b[49m\u001b[43m)\u001b[49m\n\u001b[1;32m    381\u001b[0m     dest \u001b[38;5;241m+\u001b[39m\u001b[38;5;241m=\u001b[39m \u001b[38;5;28mself\u001b[39m\u001b[38;5;241m.\u001b[39mmatvec_minus(ward\u001b[38;5;241m=\u001b[39mward, src\u001b[38;5;241m=\u001b[39msrc)\n\u001b[1;32m    382\u001b[0m \u001b[38;5;28;01mreturn\u001b[39;00m dest\u001b[38;5;241m.\u001b[39mclone()\n",
      "File \u001b[0;32m~/PyQCU/test/pyqcu/ascend/inverse.py:360\u001b[0m, in \u001b[0;36mhopping.matvec_plus\u001b[0;34m(self, ward, src)\u001b[0m\n\u001b[1;32m    358\u001b[0m \u001b[38;5;28;01melse\u001b[39;00m:\n\u001b[1;32m    359\u001b[0m     src_tail \u001b[38;5;241m=\u001b[39m \u001b[38;5;28;01mNone\u001b[39;00m\n\u001b[0;32m--> 360\u001b[0m \u001b[38;5;28;01mreturn\u001b[39;00m \u001b[38;5;28;43mself\u001b[39;49m\u001b[38;5;241;43m.\u001b[39;49m\u001b[43mwilson\u001b[49m\u001b[38;5;241;43m.\u001b[39;49m\u001b[43mgive_wilson_plus\u001b[49m\u001b[43m(\u001b[49m\u001b[43mward\u001b[49m\u001b[38;5;241;43m=\u001b[39;49m\u001b[43mward\u001b[49m\u001b[43m,\u001b[49m\u001b[43m \u001b[49m\u001b[43msrc\u001b[49m\u001b[38;5;241;43m=\u001b[39;49m\u001b[43msrc\u001b[49m\u001b[43m,\u001b[49m\u001b[43m \u001b[49m\u001b[43mhopping\u001b[49m\u001b[38;5;241;43m=\u001b[39;49m\u001b[38;5;28;43mself\u001b[39;49m\u001b[38;5;241;43m.\u001b[39;49m\u001b[43mM_plus_list\u001b[49m\u001b[43m[\u001b[49m\u001b[43mward\u001b[49m\u001b[43m]\u001b[49m\u001b[43m,\u001b[49m\u001b[43m \u001b[49m\u001b[43msrc_tail\u001b[49m\u001b[38;5;241;43m=\u001b[39;49m\u001b[43msrc_tail\u001b[49m\u001b[43m)\u001b[49m\n",
      "File \u001b[0;32m~/PyQCU/test/pyqcu/ascend/dslash.py:579\u001b[0m, in \u001b[0;36mwilson_mg.give_wilson_plus\u001b[0;34m(self, ward, src, hopping, src_tail)\u001b[0m\n\u001b[1;32m    576\u001b[0m     src_plus[:][slice_dim(\n\u001b[1;32m    577\u001b[0m         ward\u001b[38;5;241m=\u001b[39mward, point\u001b[38;5;241m=\u001b[39m\u001b[38;5;241m-\u001b[39m\u001b[38;5;241m1\u001b[39m)] \u001b[38;5;241m=\u001b[39m src_tail\u001b[38;5;241m.\u001b[39mclone()\n\u001b[1;32m    578\u001b[0m \u001b[38;5;28mprint\u001b[39m(\u001b[38;5;124mf\u001b[39m\u001b[38;5;124m\"\u001b[39m\u001b[38;5;124msrc_plus.shape,hopping.shape: \u001b[39m\u001b[38;5;132;01m{\u001b[39;00msrc_plus\u001b[38;5;241m.\u001b[39mshape,hopping\u001b[38;5;241m.\u001b[39mshape\u001b[38;5;132;01m}\u001b[39;00m\u001b[38;5;124m\"\u001b[39m)\n\u001b[0;32m--> 579\u001b[0m \u001b[38;5;28;01mreturn\u001b[39;00m \u001b[43mtorch\u001b[49m\u001b[38;5;241;43m.\u001b[39;49m\u001b[43meinsum\u001b[49m\u001b[43m(\u001b[49m\n\u001b[1;32m    580\u001b[0m \u001b[43m    \u001b[49m\u001b[38;5;124;43m'\u001b[39;49m\u001b[38;5;124;43mEetzyx,etzyx->Etzyx\u001b[39;49m\u001b[38;5;124;43m'\u001b[39;49m\u001b[43m,\u001b[49m\u001b[43m \u001b[49m\u001b[43mhopping\u001b[49m\u001b[43m,\u001b[49m\u001b[43m \u001b[49m\u001b[43msrc_plus\u001b[49m\u001b[43m)\u001b[49m\u001b[38;5;241m.\u001b[39mclone()\n",
      "File \u001b[0;32m/usr/local/lib/python3.10/dist-packages/torch/functional.py:402\u001b[0m, in \u001b[0;36meinsum\u001b[0;34m(*args)\u001b[0m\n\u001b[1;32m    397\u001b[0m     \u001b[38;5;28;01mreturn\u001b[39;00m einsum(equation, \u001b[38;5;241m*\u001b[39m_operands)\n\u001b[1;32m    399\u001b[0m \u001b[38;5;28;01mif\u001b[39;00m \u001b[38;5;28mlen\u001b[39m(operands) \u001b[38;5;241m<\u001b[39m\u001b[38;5;241m=\u001b[39m \u001b[38;5;241m2\u001b[39m \u001b[38;5;129;01mor\u001b[39;00m \u001b[38;5;129;01mnot\u001b[39;00m opt_einsum\u001b[38;5;241m.\u001b[39menabled:\n\u001b[1;32m    400\u001b[0m     \u001b[38;5;66;03m# the path for contracting 0 or 1 time(s) is already optimized\u001b[39;00m\n\u001b[1;32m    401\u001b[0m     \u001b[38;5;66;03m# or the user has disabled using opt_einsum\u001b[39;00m\n\u001b[0;32m--> 402\u001b[0m     \u001b[38;5;28;01mreturn\u001b[39;00m \u001b[43m_VF\u001b[49m\u001b[38;5;241;43m.\u001b[39;49m\u001b[43meinsum\u001b[49m\u001b[43m(\u001b[49m\u001b[43mequation\u001b[49m\u001b[43m,\u001b[49m\u001b[43m \u001b[49m\u001b[43moperands\u001b[49m\u001b[43m)\u001b[49m  \u001b[38;5;66;03m# type: ignore[attr-defined]\u001b[39;00m\n\u001b[1;32m    404\u001b[0m path \u001b[38;5;241m=\u001b[39m \u001b[38;5;28;01mNone\u001b[39;00m\n\u001b[1;32m    405\u001b[0m \u001b[38;5;28;01mif\u001b[39;00m opt_einsum\u001b[38;5;241m.\u001b[39mis_available():\n",
      "\u001b[0;31mRuntimeError\u001b[0m: einsum(): subscript t has size 16 for operand 1 which does not broadcast with previously seen size 8"
     ]
    }
   ],
   "source": [
    "import torch\n",
    "from pyqcu.ascend import qcu\n",
    "_qcu = qcu(lat_size=[16, 16, 16, 16], if_multi=True,\n",
    "           dtype=torch.complex128, device=torch.device('cpu'))\n",
    "_qcu.init()\n",
    "_qcu.save(file_name='test.ascend-dev56')\n",
    "_qcu.solve()"
   ]
  },
  {
   "cell_type": "code",
   "execution_count": null,
   "id": "e20ad861",
   "metadata": {},
   "outputs": [
    {
     "data": {
      "text/plain": [
       "torch.Size([4, 3, 16, 16, 16, 16])"
      ]
     },
     "execution_count": 2,
     "metadata": {},
     "output_type": "execute_result"
    }
   ],
   "source": [
    "_qcu.b.shape"
   ]
  },
  {
   "cell_type": "code",
   "execution_count": null,
   "id": "2e3ee3fa",
   "metadata": {},
   "outputs": [
    {
     "data": {
      "text/plain": [
       "torch.Size([12, 12, 8, 8, 8, 8])"
      ]
     },
     "execution_count": 3,
     "metadata": {},
     "output_type": "execute_result"
    }
   ],
   "source": [
    "_qcu.op.hopping.M_minus_list[0].shape"
   ]
  },
  {
   "cell_type": "code",
   "execution_count": null,
   "id": "7e82d34f",
   "metadata": {},
   "outputs": [],
   "source": []
  }
 ],
 "metadata": {
  "kernelspec": {
   "display_name": "Python 3",
   "language": "python",
   "name": "python3"
  },
  "language_info": {
   "codemirror_mode": {
    "name": "ipython",
    "version": 3
   },
   "file_extension": ".py",
   "mimetype": "text/x-python",
   "name": "python",
   "nbconvert_exporter": "python",
   "pygments_lexer": "ipython3",
   "version": "3.10.12"
  }
 },
 "nbformat": 4,
 "nbformat_minor": 5
}
