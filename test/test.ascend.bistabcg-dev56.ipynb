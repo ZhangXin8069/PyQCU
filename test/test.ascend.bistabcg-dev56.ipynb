{
 "cells": [
  {
   "cell_type": "code",
   "execution_count": 1,
   "id": "463b2039",
   "metadata": {},
   "outputs": [
    {
     "name": "stdout",
     "output_type": "stream",
     "text": [
      "self.lat_size: [16, 16, 16, 16]\n",
      "self.grid_size: [1, 1, 1, 1]\n",
      "self.grid_index: [0, 0, 0, 0]\n",
      "self.local_lat_size: [16, 16, 16, 16]\n",
      "Using device: cuda\n",
      "@My Rank:0/1, Local Rank:0@\n",
      "\n"
     ]
    },
    {
     "name": "stdout",
     "output_type": "stream",
     "text": [
      "self.wilson.check_su3(self.U): True\n",
      "block.shape: (3, 3, 4, 16, 16, 16, 16)\n",
      "grid_size: [1, 1, 1, 1]\n",
      "grid_index_t, grid_index_z, grid_index_y, grid_index_x: (0, 0, 0, 0)\n",
      "block.shape: (4, 3, 4, 3, 16, 16, 16, 16)\n",
      "grid_size: [1, 1, 1, 1]\n",
      "grid_index_t, grid_index_z, grid_index_y, grid_index_x: (0, 0, 0, 0)\n",
      "block.shape: (4, 3, 16, 16, 16, 16)\n",
      "grid_size: [1, 1, 1, 1]\n",
      "grid_index_t, grid_index_z, grid_index_y, grid_index_x: (0, 0, 0, 0)\n",
      "block.shape: (4, 3, 16, 16, 16, 16)\n",
      "grid_size: [1, 1, 1, 1]\n",
      "grid_index_t, grid_index_z, grid_index_y, grid_index_x: (0, 0, 0, 0)\n",
      "self.dof_list:[12, 24, 24, 24, 24]\n",
      "Building grid list:\n",
      "  Level 0: 16x16x16x16\n",
      "  Level 1: 8x8x8x8\n",
      "  Level 2: 4x4x4x4\n",
      "  Level 3: 2x2x2x2\n",
      "self.grid_list:[[16, 16, 16, 16], [8, 8, 8, 8], [4, 4, 4, 4], [2, 2, 2, 2]]\n",
      "self.dof_list:[12, 24, 24, 24, 24]\n",
      "Building grid list:\n",
      "  Level 0: 16x16x16x16\n",
      "  Level 1: 8x8x8x8\n",
      "  Level 2: 4x4x4x4\n",
      "  Level 3: 2x2x2x2\n",
      "self.grid_list:[[16, 16, 16, 16], [8, 8, 8, 8], [4, 4, 4, 4], [2, 2, 2, 2]]\n",
      "Input Tensor Shape: torch.Size([4, 3, 16, 16, 16, 16])\n",
      "Grid Index T: 0, Z: 0, Y: 0, X: 0\n",
      "Grid Lat T: 16, Z: 16, Y: 16, X: 16\n",
      "Dest Shape: (4, 3, 16, 16, 16, 16)\n",
      "rank 0: Data is saved to test.ascend-dev56b.h5\n",
      "Input Tensor Shape: torch.Size([3, 3, 4, 16, 16, 16, 16])\n",
      "Grid Index T: 0, Z: 0, Y: 0, X: 0\n",
      "Grid Lat T: 16, Z: 16, Y: 16, X: 16\n",
      "Dest Shape: (3, 3, 4, 16, 16, 16, 16)\n",
      "rank 0: Data is saved to test.ascend-dev56U.h5\n",
      "Input Tensor Shape: torch.Size([4, 3, 4, 3, 16, 16, 16, 16])\n",
      "Grid Index T: 0, Z: 0, Y: 0, X: 0\n",
      "Grid Lat T: 16, Z: 16, Y: 16, X: 16\n",
      "Dest Shape: (4, 3, 4, 3, 16, 16, 16, 16)\n",
      "rank 0: Data is saved to test.ascend-dev56clover_term.h5\n",
      "Norm of b:886.8100134752651\n",
      "Norm of r:886.8100134752651\n",
      "Norm of x0:0.0\n",
      "BICGSTAB-Iteration 0: Residual = 1.275154e+03, Time = 0.055196 s\n",
      "BICGSTAB-Iteration 1: Residual = 4.209584e+03, Time = 0.054568 s\n",
      "BICGSTAB-Iteration 2: Residual = 3.148362e+02, Time = 0.054488 s\n",
      "BICGSTAB-Iteration 3: Residual = 2.174480e+02, Time = 0.054794 s\n",
      "BICGSTAB-Iteration 4: Residual = 1.377355e+02, Time = 0.055359 s\n",
      "BICGSTAB-Iteration 5: Residual = 9.232152e+01, Time = 0.054876 s\n",
      "BICGSTAB-Iteration 6: Residual = 8.200846e+01, Time = 0.054807 s\n",
      "BICGSTAB-Iteration 7: Residual = 1.010771e+02, Time = 0.055464 s\n",
      "BICGSTAB-Iteration 8: Residual = 6.332340e+01, Time = 0.050485 s\n",
      "BICGSTAB-Iteration 9: Residual = 4.687602e+01, Time = 0.050133 s\n",
      "BICGSTAB-Iteration 10: Residual = 4.129431e+01, Time = 0.053001 s\n",
      "BICGSTAB-Iteration 11: Residual = 4.719214e+01, Time = 0.050280 s\n",
      "BICGSTAB-Iteration 12: Residual = 3.914447e+01, Time = 0.050131 s\n",
      "BICGSTAB-Iteration 13: Residual = 6.298524e+01, Time = 0.050121 s\n",
      "BICGSTAB-Iteration 14: Residual = 4.467318e+01, Time = 0.050362 s\n",
      "BICGSTAB-Iteration 15: Residual = 4.433359e+01, Time = 0.050634 s\n",
      "BICGSTAB-Iteration 16: Residual = 5.955163e+01, Time = 0.050213 s\n",
      "BICGSTAB-Iteration 17: Residual = 1.621444e+02, Time = 0.050274 s\n",
      "BICGSTAB-Iteration 18: Residual = 2.976969e+01, Time = 0.050094 s\n",
      "BICGSTAB-Iteration 19: Residual = 2.727164e+01, Time = 0.050570 s\n",
      "BICGSTAB-Iteration 20: Residual = 2.135841e+01, Time = 0.050172 s\n",
      "BICGSTAB-Iteration 21: Residual = 1.730231e+01, Time = 0.050114 s\n",
      "BICGSTAB-Iteration 22: Residual = 2.179016e+01, Time = 0.050298 s\n",
      "BICGSTAB-Iteration 23: Residual = 1.814307e+01, Time = 0.050672 s\n",
      "BICGSTAB-Iteration 24: Residual = 8.039976e+00, Time = 0.050284 s\n",
      "BICGSTAB-Iteration 25: Residual = 4.666508e+00, Time = 0.050223 s\n",
      "BICGSTAB-Iteration 26: Residual = 5.321983e+00, Time = 0.050627 s\n",
      "BICGSTAB-Iteration 27: Residual = 3.791849e+00, Time = 0.051174 s\n",
      "BICGSTAB-Iteration 28: Residual = 3.520213e+00, Time = 0.051489 s\n",
      "BICGSTAB-Iteration 29: Residual = 2.776867e+00, Time = 0.050653 s\n",
      "BICGSTAB-Iteration 30: Residual = 2.680860e+00, Time = 0.050645 s\n",
      "BICGSTAB-Iteration 31: Residual = 2.614712e+00, Time = 0.050261 s\n",
      "BICGSTAB-Iteration 32: Residual = 2.641197e+00, Time = 0.050392 s\n",
      "BICGSTAB-Iteration 33: Residual = 1.969152e+00, Time = 0.049982 s\n",
      "BICGSTAB-Iteration 34: Residual = 3.095716e+00, Time = 0.049967 s\n",
      "BICGSTAB-Iteration 35: Residual = 9.239760e-01, Time = 0.050692 s\n",
      "BICGSTAB-Iteration 36: Residual = 7.941344e-01, Time = 0.050255 s\n",
      "BICGSTAB-Iteration 37: Residual = 8.543286e-01, Time = 0.050298 s\n",
      "BICGSTAB-Iteration 38: Residual = 8.026120e-01, Time = 0.050214 s\n",
      "BICGSTAB-Iteration 39: Residual = 7.924628e-01, Time = 0.050711 s\n",
      "BICGSTAB-Iteration 40: Residual = 5.865630e-01, Time = 0.051040 s\n",
      "BICGSTAB-Iteration 41: Residual = 4.975816e-01, Time = 0.051160 s\n",
      "BICGSTAB-Iteration 42: Residual = 4.311957e-01, Time = 0.049941 s\n",
      "BICGSTAB-Iteration 43: Residual = 3.599122e-01, Time = 0.050446 s\n",
      "BICGSTAB-Iteration 44: Residual = 3.272470e-01, Time = 0.050349 s\n",
      "BICGSTAB-Iteration 45: Residual = 3.240926e-01, Time = 0.050402 s\n",
      "BICGSTAB-Iteration 46: Residual = 2.905069e-01, Time = 0.050207 s\n",
      "BICGSTAB-Iteration 47: Residual = 2.794344e-01, Time = 0.051245 s\n",
      "BICGSTAB-Iteration 48: Residual = 1.872178e-01, Time = 0.050511 s\n",
      "BICGSTAB-Iteration 49: Residual = 2.702423e-01, Time = 0.050166 s\n",
      "BICGSTAB-Iteration 50: Residual = 3.728707e-01, Time = 0.050164 s\n",
      "BICGSTAB-Iteration 51: Residual = 3.411562e-01, Time = 0.050689 s\n",
      "BICGSTAB-Iteration 52: Residual = 5.691795e-01, Time = 0.050590 s\n",
      "BICGSTAB-Iteration 53: Residual = 1.025355e+00, Time = 0.050482 s\n",
      "BICGSTAB-Iteration 54: Residual = 3.149122e-01, Time = 0.050482 s\n",
      "BICGSTAB-Iteration 55: Residual = 3.648432e-01, Time = 0.050977 s\n",
      "BICGSTAB-Iteration 56: Residual = 1.749734e-01, Time = 0.050407 s\n",
      "BICGSTAB-Iteration 57: Residual = 5.267939e-02, Time = 0.050144 s\n",
      "BICGSTAB-Iteration 58: Residual = 2.269896e-02, Time = 0.050408 s\n",
      "BICGSTAB-Iteration 59: Residual = 2.086635e-02, Time = 0.050431 s\n",
      "BICGSTAB-Iteration 60: Residual = 3.895853e-02, Time = 0.050549 s\n",
      "BICGSTAB-Iteration 61: Residual = 1.260314e-02, Time = 0.050201 s\n",
      "BICGSTAB-Iteration 62: Residual = 1.166131e-02, Time = 0.049951 s\n",
      "BICGSTAB-Iteration 63: Residual = 1.436799e-02, Time = 0.050792 s\n",
      "BICGSTAB-Iteration 64: Residual = 1.606236e-03, Time = 0.050583 s\n",
      "BICGSTAB-Iteration 65: Residual = 1.366849e-03, Time = 0.050185 s\n",
      "BICGSTAB-Iteration 66: Residual = 1.196114e-03, Time = 0.049949 s\n",
      "BICGSTAB-Iteration 67: Residual = 1.105899e-03, Time = 0.050465 s\n",
      "BICGSTAB-Iteration 68: Residual = 1.012470e-03, Time = 0.050743 s\n",
      "BICGSTAB-Iteration 69: Residual = 9.405734e-04, Time = 0.051546 s\n",
      "BICGSTAB-Iteration 70: Residual = 3.452448e-04, Time = 0.050597 s\n",
      "BICGSTAB-Iteration 71: Residual = 3.059396e-04, Time = 0.050717 s\n",
      "BICGSTAB-Iteration 72: Residual = 2.683073e-04, Time = 0.050303 s\n",
      "BICGSTAB-Iteration 73: Residual = 2.590542e-04, Time = 0.050356 s\n",
      "BICGSTAB-Iteration 74: Residual = 2.956750e-04, Time = 0.050286 s\n",
      "BICGSTAB-Iteration 75: Residual = 2.251947e-04, Time = 0.050803 s\n",
      "BICGSTAB-Iteration 76: Residual = 1.921167e-04, Time = 0.051045 s\n",
      "BICGSTAB-Iteration 77: Residual = 1.923118e-04, Time = 0.050893 s\n",
      "BICGSTAB-Iteration 78: Residual = 1.320704e-04, Time = 0.050670 s\n",
      "BICGSTAB-Iteration 79: Residual = 1.179001e-04, Time = 0.050372 s\n",
      "BICGSTAB-Iteration 80: Residual = 1.115714e-04, Time = 0.050317 s\n",
      "BICGSTAB-Iteration 81: Residual = 9.571153e-05, Time = 0.050435 s\n",
      "BICGSTAB-Iteration 82: Residual = 9.562762e-05, Time = 0.050747 s\n",
      "BICGSTAB-Iteration 83: Residual = 9.289137e-05, Time = 0.050947 s\n",
      "BICGSTAB-Iteration 84: Residual = 7.206421e-05, Time = 0.050480 s\n",
      "BICGSTAB-Iteration 85: Residual = 6.630028e-05, Time = 0.050094 s\n",
      "BICGSTAB-Iteration 86: Residual = 5.779997e-05, Time = 0.050033 s\n",
      "BICGSTAB-Iteration 87: Residual = 5.378136e-05, Time = 0.051448 s\n",
      "BICGSTAB-Iteration 88: Residual = 6.265445e-05, Time = 0.050885 s\n",
      "BICGSTAB-Iteration 89: Residual = 5.379005e-05, Time = 0.050380 s\n",
      "BICGSTAB-Iteration 90: Residual = 8.947314e-05, Time = 0.050161 s\n",
      "BICGSTAB-Iteration 91: Residual = 3.906659e-05, Time = 0.051033 s\n",
      "BICGSTAB-Iteration 92: Residual = 3.384506e-05, Time = 0.050428 s\n",
      "BICGSTAB-Iteration 93: Residual = 7.047505e-05, Time = 0.050195 s\n",
      "BICGSTAB-Iteration 94: Residual = 2.312097e-05, Time = 0.050705 s\n",
      "BICGSTAB-Iteration 95: Residual = 2.286627e-05, Time = 0.050893 s\n",
      "BICGSTAB-Iteration 96: Residual = 2.053269e-05, Time = 0.050862 s\n",
      "BICGSTAB-Iteration 97: Residual = 2.887358e-05, Time = 0.050206 s\n",
      "BICGSTAB-Iteration 98: Residual = 2.373183e-05, Time = 0.050296 s\n",
      "BICGSTAB-Iteration 99: Residual = 2.108867e-05, Time = 0.051399 s\n",
      "BICGSTAB-Iteration 100: Residual = 6.181838e-05, Time = 0.050843 s\n",
      "BICGSTAB-Iteration 101: Residual = 6.469698e-05, Time = 0.050895 s\n",
      "BICGSTAB-Iteration 102: Residual = 8.760404e-06, Time = 0.050508 s\n",
      "BICGSTAB-Iteration 103: Residual = 7.745986e-06, Time = 0.050524 s\n",
      "BICGSTAB-Iteration 104: Residual = 7.059912e-06, Time = 0.050502 s\n",
      "BICGSTAB-Iteration 105: Residual = 6.439457e-06, Time = 0.050533 s\n",
      "BICGSTAB-Iteration 106: Residual = 6.113753e-06, Time = 0.050192 s\n",
      "BICGSTAB-Iteration 107: Residual = 7.382722e-06, Time = 0.050890 s\n",
      "BICGSTAB-Iteration 108: Residual = 7.808357e-06, Time = 0.050575 s\n",
      "BICGSTAB-Iteration 109: Residual = 6.286808e-06, Time = 0.049983 s\n",
      "BICGSTAB-Iteration 110: Residual = 2.297552e-06, Time = 0.050311 s\n",
      "BICGSTAB-Iteration 111: Residual = 2.181962e-06, Time = 0.050391 s\n",
      "BICGSTAB-Iteration 112: Residual = 2.510387e-06, Time = 0.050555 s\n",
      "BICGSTAB-Iteration 113: Residual = 1.308293e-06, Time = 0.050406 s\n",
      "BICGSTAB-Iteration 114: Residual = 7.011140e-07, Time = 0.050324 s\n",
      "Converged at iteration 114 with residual 7.011140e-07\n",
      "\n",
      "Performance Statistics:\n",
      "Total iterations: 115\n",
      "Total time: 5.850201 seconds\n",
      "Average time per iteration: 0.050831 s\n",
      "Final residual: 7.01e-07\n",
      "\n",
      "Performance Statistics:\n",
      "Total time: 5.968918 seconds\n"
     ]
    }
   ],
   "source": [
    "import torch\n",
    "from pyqcu.ascend import qcu\n",
    "_qcu = qcu(lat_size=[16, 16, 16, 16], if_multi=True,\n",
    "           dtype=torch.complex128, device=torch.device('cuda'))\n",
    "_qcu.init()\n",
    "_qcu.save(file_name='test.ascend-dev56')\n",
    "_ = _qcu.solve()"
   ]
  },
  {
   "cell_type": "code",
   "execution_count": 2,
   "id": "82170d67",
   "metadata": {},
   "outputs": [
    {
     "data": {
      "text/plain": [
       "torch.Size([12, 12, 16, 16, 16, 16])"
      ]
     },
     "execution_count": 2,
     "metadata": {},
     "output_type": "execute_result"
    }
   ],
   "source": [
    "_qcu.op.hopping.M_plus_list[0].shape\n"
   ]
  },
  {
   "cell_type": "code",
   "execution_count": 3,
   "id": "da44b928",
   "metadata": {},
   "outputs": [
    {
     "data": {
      "text/plain": [
       "torch.Size([12, 12, 16, 16, 16, 16])"
      ]
     },
     "execution_count": 3,
     "metadata": {},
     "output_type": "execute_result"
    }
   ],
   "source": [
    "_qcu.full_mg.op_list[0].hopping.M_plus_list[0].shape"
   ]
  },
  {
   "cell_type": "code",
   "execution_count": 4,
   "id": "e20ad861",
   "metadata": {},
   "outputs": [
    {
     "data": {
      "text/plain": [
       "torch.Size([4, 3, 16, 16, 16, 16])"
      ]
     },
     "execution_count": 4,
     "metadata": {},
     "output_type": "execute_result"
    }
   ],
   "source": [
    "_qcu.b.shape"
   ]
  },
  {
   "cell_type": "code",
   "execution_count": 5,
   "id": "2e3ee3fa",
   "metadata": {},
   "outputs": [
    {
     "data": {
      "text/plain": [
       "torch.Size([12, 12, 16, 16, 16, 16])"
      ]
     },
     "execution_count": 5,
     "metadata": {},
     "output_type": "execute_result"
    }
   ],
   "source": [
    "_qcu.op.hopping.M_minus_list[0].shape"
   ]
  },
  {
   "cell_type": "code",
   "execution_count": null,
   "id": "7e82d34f",
   "metadata": {},
   "outputs": [],
   "source": []
  }
 ],
 "metadata": {
  "kernelspec": {
   "display_name": "Python 3",
   "language": "python",
   "name": "python3"
  },
  "language_info": {
   "codemirror_mode": {
    "name": "ipython",
    "version": 3
   },
   "file_extension": ".py",
   "mimetype": "text/x-python",
   "name": "python",
   "nbconvert_exporter": "python",
   "pygments_lexer": "ipython3",
   "version": "3.10.12"
  }
 },
 "nbformat": 4,
 "nbformat_minor": 5
}
