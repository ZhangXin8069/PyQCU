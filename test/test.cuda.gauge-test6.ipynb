{
 "cells": [
  {
   "cell_type": "code",
   "execution_count": null,
   "id": "d53670cc",
   "metadata": {},
   "outputs": [],
   "source": [
    "import numpy as np\n",
    "import cupy as cp\n",
    "from pyqcu.cuda import define\n",
    "from pyqcu.cuda import io\n",
    "from pyqcu.cuda import qcu\n",
    "from pyqcu.cuda.set import params, argv, set_ptrs\n",
    "print('My rank is ', define.rank)\n",
    "params[define._LAT_X_] = 4\n",
    "params[define._LAT_Y_] = 8\n",
    "params[define._LAT_Z_] = 16\n",
    "params[define._LAT_T_] = 8\n",
    "params[define._LAT_XYZT_] = params[define._LAT_X_] * \\\n",
    "    params[define._LAT_Y_]*params[define._LAT_Z_]*params[define._LAT_T_]\n",
    "params[define._GRID_X_] = 1\n",
    "params[define._GRID_Y_] = 1\n",
    "params[define._GRID_Z_] = 1\n",
    "params[define._GRID_T_] = 1\n",
    "params[define._PARITY_] = 0\n",
    "params[define._NODE_RANK_] = define.rank\n",
    "params[define._NODE_SIZE_] = define.size\n",
    "params[define._DATA_TYPE_] = define._LAT_C64_\n",
    "dtype = define.dtype(_data_type_=params[define._DATA_TYPE_])\n",
    "params[define._VERBOSE_] = 0\n",
    "print(\"Parameters:\", params)\n",
    "argv[define._MASS_] = 0.0\n",
    "print(\"Arguments:\", argv)\n",
    "#############################\n",
    "gauge = cp.zeros(shape=[define._LAT_C_, define._LAT_C_, define._LAT_D_, params[define._LAT_T_],\n",
    "                 params[define._LAT_Z_], params[define._LAT_Y_], params[define._LAT_X_]], dtype=dtype)\n",
    "gauge = io.xxxtzyx2pxxxtzyx(input_array=gauge)\n",
    "print(\"Gauge Shape:\", gauge.shape)\n",
    "#############################\n",
    "qcu.applyInitQcu(set_ptrs, params, argv)\n",
    "qcu.applyGaussGaugeQcu(gauge, set_ptrs, params)\n",
    "qcu.applyEndQcu(set_ptrs, params)\n",
    "#############################\n",
    "\n"
   ]
  }
 ],
 "metadata": {
  "language_info": {
   "name": "python"
  }
 },
 "nbformat": 4,
 "nbformat_minor": 5
}
