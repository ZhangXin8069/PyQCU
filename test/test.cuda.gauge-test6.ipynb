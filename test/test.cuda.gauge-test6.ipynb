{
 "cells": [
  {
   "cell_type": "code",
   "execution_count": 1,
   "id": "d53670cc",
   "metadata": {},
   "outputs": [
    {
     "name": "stdout",
     "output_type": "stream",
     "text": [
      "\n",
      "    @@@@@@######QCU NOTES START######@@@@@@@\n",
      "    Guide:\n",
      "    0. Required: MPI(e.g. 4.1.2), CUDA(e.g. 12.4), CMAKE(e.g. 3.22.1), GCC(e.g. 11.4.0), HDF5-MPI(e.g. 1.10.7,'apt install libhdf5-mpi-dev && export HDF5_MPI=\"ON\" && pip install --no-binary=h5py h5py').\n",
      "    1. The libqcu.so was compiled when pyqcu setup in download_path/PyQCU/lib, please add this path to your LD_LIBRARY_PATH.\n",
      "    2. The QCU(PyQCU) splite grid by x->y->z->t, lattice by x->y->z->t->p->d[x,y,z,t]->c->c or x->y->z->t->c->s(->p) and x->y->z->t->c->s->c->s(->p).\n",
      "    3. The QUDA(PyQUDA) splite grid by t->z->y->x, lattice by c->c->x->y->z->t->p->d[x,y,z,t] or c->s->x->y->z->t(->p) and c->s->c->s->x->y->z->t(->p).\n",
      "    4. The QCU input params in numpy array(dtype=np.int32), argv in  numpy array(dtype=np.float32 or float64) array, set_ptrs in numpy array(dtype=np.int64), other in cupy array(dtype=cp.complex64 or complex128).\n",
      "    5. The smallest lattice size is (wilson:x=4,y=4,z=4,t=4;clover:x=8,y=8,z=8,t=8) that QCU support (when '#define _BLOCK_SIZE_ 32 // for test small lattice').\n",
      "    References:\n",
      "    [0] 刘川. 格点量子色动力学导论. 北京大学出版社, 2017.07.\n",
      "    [1] 蒋翔宇. 轻强子性质的格点QCD研究. 中国科学院高能物理研究所, 2023.06.\n",
      "    [2] Babich R, Clark M A, Joó B. Parallelizing the QUDA library for multi-GPU calculations in lattice quantum chromodynamics[C]//SC'10: Proceedings of the 2010 ACM/IEEE International Conference for High Performance Computing, Networking, Storage and Analysis. IEEE, 2010.01.11.\n",
      "    [3] M. Rottmann. Adaptive domain decomposition multigrid for lattice QCD, Ph.D. thesis, Wuppertal, Univ., Diss., 2016.\n",
      "    [4] Brower R C, Clark M A, Weinberg E, et al. Multigrid for chiral lattice fermions: Domain wall[J]. Physical Review D, 2020.\n",
      "    @@@@@@######QCU NOTES END######@@@@@@@\n",
      "    \n",
      "Parameters: [     32      32      32      32 1048576       1       1       1       1\n",
      "       0       0       1       0   10000       3       0       0       4\n",
      "       4       4       8      24       0      42]\n",
      "Parameters data: <memory at 0x7ff2679d6a40>\n",
      "Arguments: [-3.5e+00  1.0e-09  1.0e-01]\n",
      "Arguments data: <memory at 0x7ff2679d6a40>\n",
      "Set pointers: [0 0 0 0 0 0 0 0 0 0]\n",
      "Set pointers data: <memory at 0x7ff2679d6680>\n",
      "My rank is  0\n",
      "Parameters: [    4     4     4     4   256     1     1     1     1     0     0     1\n",
      "     0 10000     3     0     0     4     4     4     8    24     1    42]\n",
      "Arguments: [0.e+00 1.e-09 1.e-01]\n",
      "Splited Array Shape: (2, 3, 3, 4, 4, 4, 4, 2)\n",
      "Gauge Shape: (3, 3, 4, 2, 4, 4, 4, 2)\n"
     ]
    }
   ],
   "source": [
    "import numpy as np\n",
    "import cupy as cp\n",
    "from pyqcu.cuda import define\n",
    "from pyqcu.cuda import io\n",
    "from pyqcu.cuda import qcu\n",
    "from pyqcu.cuda.set import params, argv, set_ptrs\n",
    "print('My rank is ', define.rank)\n",
    "params[define._LAT_X_] = 4\n",
    "params[define._LAT_Y_] = 4\n",
    "params[define._LAT_Z_] = 4\n",
    "params[define._LAT_T_] = 4\n",
    "params[define._LAT_XYZT_] = params[define._LAT_X_] * \\\n",
    "    params[define._LAT_Y_]*params[define._LAT_Z_]*params[define._LAT_T_]\n",
    "params[define._GRID_X_] = 1\n",
    "params[define._GRID_Y_] = 1\n",
    "params[define._GRID_Z_] = 1\n",
    "params[define._GRID_T_] = 1\n",
    "params[define._PARITY_] = 0\n",
    "params[define._NODE_RANK_] = define.rank\n",
    "params[define._NODE_SIZE_] = define.size\n",
    "params[define._DATA_TYPE_] = define._LAT_C64_\n",
    "dtype = define.dtype(_data_type_=params[define._DATA_TYPE_])\n",
    "params[define._VERBOSE_] = 1\n",
    "print(\"Parameters:\", params)\n",
    "argv[define._MASS_] = 0.0\n",
    "print(\"Arguments:\", argv)\n",
    "#############################\n",
    "gauge = cp.zeros(shape=[define._LAT_C_, define._LAT_C_, define._LAT_D_, params[define._LAT_T_],\n",
    "                 params[define._LAT_Z_], params[define._LAT_Y_], params[define._LAT_X_]], dtype=dtype)\n",
    "gauge = io.xxxtzyx2pxxxtzyx(input_array=gauge)\n",
    "gauge = io.pccdtzyx2ccdptzyx(gauge=gauge)\n",
    "print(\"Gauge Shape:\", gauge.shape)"
   ]
  },
  {
   "cell_type": "code",
   "execution_count": 2,
   "id": "dce54e72",
   "metadata": {},
   "outputs": [
    {
     "data": {
      "text/plain": [
       "(3, 3, 4, 2, 4, 4, 4, 2)"
      ]
     },
     "execution_count": 2,
     "metadata": {},
     "output_type": "execute_result"
    }
   ],
   "source": [
    "gauge.shape"
   ]
  },
  {
   "cell_type": "code",
   "execution_count": 3,
   "id": "aab31eae",
   "metadata": {},
   "outputs": [
    {
     "name": "stdout",
     "output_type": "stream",
     "text": [
      "set_ptr:0x556c5f6eb7b0\n",
      "long long set_ptr:93923945920432\n",
      "gridDim.x               :8\n",
      "blockDim.x              :16\n",
      "host_params[_LAT_X_]    :2\n",
      "host_params[_LAT_Y_]    :4\n",
      "host_params[_LAT_Z_]    :4\n",
      "host_params[_LAT_T_]    :4\n",
      "host_params[_LAT_XYZT_] :128\n",
      "host_params[_GRID_X_]   :1\n",
      "host_params[_GRID_Y_]   :1\n",
      "host_params[_GRID_Z_]   :1\n",
      "host_params[_GRID_T_]   :1\n",
      "host_params[_PARITY_]   :0\n",
      "host_params[_NODE_RANK_]:0\n",
      "host_params[_NODE_SIZE_]:1\n",
      "host_params[_DAGGER_]   :0\n",
      "host_params[_MAX_ITER_] :10000\n",
      "host_params[_DATA_TYPE_]:3\n",
      "host_params[_SET_INDEX_]:0\n",
      "host_params[_SET_PLAN_] :0\n",
      "host_params[_MG_X_]     :4\n",
      "host_params[_MG_Y_]     :4\n",
      "host_params[_MG_Z_]     :4\n",
      "host_params[_MG_T_]     :8\n",
      "host_params[_LAT_E_]    :24\n",
      "host_params[_VERBOSE_]  :1\n",
      "host_argv[_MASS_]       :0.000000e+00\n",
      "host_argv[_TOL_]        :1.000000e-09\n",
      "host_argv[_SIGMA_]      :1.000000e-01\n",
      "lat_2dim[_XY_]          :8\n",
      "lat_2dim[_XZ_]          :8\n",
      "lat_2dim[_XT_]          :8\n",
      "lat_2dim[_YZ_]          :16\n",
      "lat_2dim[_YT_]          :16\n",
      "lat_2dim[_ZT_]          :16\n",
      "lat_3dim[_YZT_]         :64\n",
      "lat_3dim[_XZT_]         :32\n",
      "lat_3dim[_XYT_]         :32\n",
      "lat_3dim[_XYZ_]         :32\n",
      "lat_4dim                :128\n",
      "grid_2dim[_XY_]         :1\n",
      "grid_2dim[_XZ_]         :1\n",
      "grid_2dim[_XT_]         :1\n",
      "grid_2dim[_YZ_]         :1\n",
      "grid_2dim[_YT_]         :1\n",
      "grid_2dim[_ZT_]         :1\n",
      "grid_3dim[_YZT_]        :1\n",
      "grid_3dim[_XZT_]        :1\n",
      "grid_3dim[_XYT_]        :1\n",
      "grid_3dim[_XYZ_]        :1\n",
      "grid_index_1dim[_X_]    :0\n",
      "grid_index_1dim[_Y_]    :0\n",
      "grid_index_1dim[_Z_]    :0\n",
      "grid_index_1dim[_T_]    :0\n",
      "move_wards[_B_X_]       :0\n",
      "move_wards[_B_Y_]       :0\n",
      "move_wards[_B_Z_]       :0\n",
      "move_wards[_B_T_]       :0\n",
      "move_wards[_F_X_]       :0\n",
      "move_wards[_F_Y_]       :0\n",
      "move_wards[_F_Z_]       :0\n",
      "move_wards[_F_T_]       :0\n",
      "move_wards[_BX_BY_]     :0\n",
      "move_wards[_BX_BZ_]     :0\n",
      "move_wards[_BX_BT_]     :0\n",
      "move_wards[_BY_BZ_]     :0\n",
      "move_wards[_BY_BT_]     :0\n",
      "move_wards[_BZ_BT_]     :0\n",
      "move_wards[_FX_BY_]     :0\n",
      "move_wards[_FX_BZ_]     :0\n",
      "move_wards[_FX_BT_]     :0\n",
      "move_wards[_FY_BZ_]     :0\n",
      "move_wards[_FY_BT_]     :0\n",
      "move_wards[_FZ_BT_]     :0\n",
      "move_wards[_BX_FY_]     :0\n",
      "move_wards[_BX_FZ_]     :0\n",
      "move_wards[_BX_FT_]     :0\n",
      "move_wards[_BY_FZ_]     :0\n",
      "move_wards[_BY_FT_]     :0\n",
      "move_wards[_BZ_FT_]     :0\n",
      "move_wards[_FX_FY_]     :0\n",
      "move_wards[_FX_FZ_]     :0\n",
      "move_wards[_FX_FT_]     :0\n",
      "move_wards[_FY_FZ_]     :0\n",
      "move_wards[_FY_FT_]     :0\n",
      "move_wards[_FZ_FT_]     :0\n",
      "lattice set init total time:0.020937528 sec\n",
      "multi-gpu make gauss gauge total time: (with malloc free memcpy) :0.001140854 sec\n",
      "set_ptr:0x556c5f6eb7b0\n",
      "long long set_ptr:93923945920432\n",
      "gridDim.x               :8\n",
      "blockDim.x              :16\n",
      "host_params[_LAT_X_]    :2\n",
      "host_params[_LAT_Y_]    :4\n",
      "host_params[_LAT_Z_]    :4\n",
      "host_params[_LAT_T_]    :4\n",
      "host_params[_LAT_XYZT_] :128\n",
      "host_params[_GRID_X_]   :1\n",
      "host_params[_GRID_Y_]   :1\n",
      "host_params[_GRID_Z_]   :1\n",
      "host_params[_GRID_T_]   :1\n",
      "host_params[_PARITY_]   :0\n",
      "host_params[_NODE_RANK_]:0\n",
      "host_params[_NODE_SIZE_]:1\n",
      "host_params[_DAGGER_]   :0\n",
      "host_params[_MAX_ITER_] :10000\n",
      "host_params[_DATA_TYPE_]:3\n",
      "host_params[_SET_INDEX_]:0\n",
      "host_params[_SET_PLAN_] :0\n",
      "host_params[_MG_X_]     :4\n",
      "host_params[_MG_Y_]     :4\n",
      "host_params[_MG_Z_]     :4\n",
      "host_params[_MG_T_]     :8\n",
      "host_params[_LAT_E_]    :24\n",
      "host_params[_VERBOSE_]  :1\n",
      "host_argv[_MASS_]       :0.000000e+00\n",
      "host_argv[_TOL_]        :1.000000e-09\n",
      "host_argv[_SIGMA_]      :1.000000e-01\n",
      "lat_2dim[_XY_]          :8\n",
      "lat_2dim[_XZ_]          :8\n",
      "lat_2dim[_XT_]          :8\n",
      "lat_2dim[_YZ_]          :16\n",
      "lat_2dim[_YT_]          :16\n",
      "lat_2dim[_ZT_]          :16\n",
      "lat_3dim[_YZT_]         :64\n",
      "lat_3dim[_XZT_]         :32\n",
      "lat_3dim[_XYT_]         :32\n",
      "lat_3dim[_XYZ_]         :32\n",
      "lat_4dim                :128\n",
      "grid_2dim[_XY_]         :1\n",
      "grid_2dim[_XZ_]         :1\n",
      "grid_2dim[_XT_]         :1\n",
      "grid_2dim[_YZ_]         :1\n",
      "grid_2dim[_YT_]         :1\n",
      "grid_2dim[_ZT_]         :1\n",
      "grid_3dim[_YZT_]        :1\n",
      "grid_3dim[_XZT_]        :1\n",
      "grid_3dim[_XYT_]        :1\n",
      "grid_3dim[_XYZ_]        :1\n",
      "grid_index_1dim[_X_]    :0\n",
      "grid_index_1dim[_Y_]    :0\n",
      "grid_index_1dim[_Z_]    :0\n",
      "grid_index_1dim[_T_]    :0\n",
      "move_wards[_B_X_]       :0\n",
      "move_wards[_B_Y_]       :0\n",
      "move_wards[_B_Z_]       :0\n",
      "move_wards[_B_T_]       :0\n",
      "move_wards[_F_X_]       :0\n",
      "move_wards[_F_Y_]       :0\n",
      "move_wards[_F_Z_]       :0\n",
      "move_wards[_F_T_]       :0\n",
      "move_wards[_BX_BY_]     :0\n",
      "move_wards[_BX_BZ_]     :0\n",
      "move_wards[_BX_BT_]     :0\n",
      "move_wards[_BY_BZ_]     :0\n",
      "move_wards[_BY_BT_]     :0\n",
      "move_wards[_BZ_BT_]     :0\n",
      "move_wards[_FX_BY_]     :0\n",
      "move_wards[_FX_BZ_]     :0\n",
      "move_wards[_FX_BT_]     :0\n",
      "move_wards[_FY_BZ_]     :0\n",
      "move_wards[_FY_BT_]     :0\n",
      "move_wards[_FZ_BT_]     :0\n",
      "move_wards[_BX_FY_]     :0\n",
      "move_wards[_BX_FZ_]     :0\n",
      "move_wards[_BX_FT_]     :0\n",
      "move_wards[_BY_FZ_]     :0\n",
      "move_wards[_BY_FT_]     :0\n",
      "move_wards[_BZ_FT_]     :0\n",
      "move_wards[_FX_FY_]     :0\n",
      "move_wards[_FX_FZ_]     :0\n",
      "move_wards[_FX_FT_]     :0\n",
      "move_wards[_FY_FZ_]     :0\n",
      "move_wards[_FY_FT_]     :0\n",
      "move_wards[_FZ_FT_]     :0\n",
      "lattice set whole time:0.023658497 sec\n",
      "lattice set end total time:0.000809906 sec\n"
     ]
    }
   ],
   "source": [
    "\n",
    "#############################\n",
    "qcu.applyInitQcu(set_ptrs, params, argv)\n",
    "qcu.applyGaussGaugeQcu(gauge, set_ptrs, params)\n",
    "qcu.applyEndQcu(set_ptrs, params)\n",
    "#############################\n",
    "\n"
   ]
  },
  {
   "cell_type": "code",
   "execution_count": 4,
   "id": "b5eeac11",
   "metadata": {},
   "outputs": [
    {
     "data": {
      "text/plain": [
       "(3, 3, 4, 2, 4, 4, 4, 2)"
      ]
     },
     "execution_count": 4,
     "metadata": {},
     "output_type": "execute_result"
    }
   ],
   "source": [
    "gauge.shape"
   ]
  },
  {
   "cell_type": "code",
   "execution_count": null,
   "id": "bd1f8238",
   "metadata": {},
   "outputs": [
    {
     "name": "stdout",
     "output_type": "stream",
     "text": [
      "Restored Array Shape: (3, 3, 4, 4, 4, 4, 4)\n"
     ]
    }
   ],
   "source": [
    "_gauge=io.ccdptzyx2pccdtzyx(gauge=gauge)\n",
    "_gauge = io.pxxxtzyx2xxxtzyx(input_array=_gauge)\n",
    "index = 0\n",
    "_U = _gauge[:, :, index, index, index, index, index]"
   ]
  },
  {
   "cell_type": "code",
   "execution_count": 6,
   "id": "30e4e80b",
   "metadata": {},
   "outputs": [
    {
     "data": {
      "text/plain": [
       "array([[1.+0.j, 1.+0.j, 0.+0.j],\n",
       "       [0.+0.j, 0.+0.j, 0.+0.j],\n",
       "       [0.+0.j, 0.+0.j, 1.+0.j]], dtype=complex64)"
      ]
     },
     "execution_count": 6,
     "metadata": {},
     "output_type": "execute_result"
    }
   ],
   "source": [
    "_U"
   ]
  },
  {
   "cell_type": "code",
   "execution_count": 7,
   "id": "ae3d5c0f",
   "metadata": {},
   "outputs": [
    {
     "data": {
      "text/plain": [
       "array([[1.+0.j, 0.+0.j, 0.+0.j],\n",
       "       [1.+0.j, 0.+0.j, 0.+0.j],\n",
       "       [0.+0.j, 0.+0.j, 1.+0.j]], dtype=complex64)"
      ]
     },
     "execution_count": 7,
     "metadata": {},
     "output_type": "execute_result"
    }
   ],
   "source": [
    "_U.T"
   ]
  },
  {
   "cell_type": "code",
   "execution_count": 8,
   "id": "a82ac109",
   "metadata": {},
   "outputs": [
    {
     "data": {
      "text/plain": [
       "(3, 3)"
      ]
     },
     "execution_count": 8,
     "metadata": {},
     "output_type": "execute_result"
    }
   ],
   "source": [
    "_U.shape"
   ]
  },
  {
   "cell_type": "code",
   "execution_count": 9,
   "id": "c0f563e8",
   "metadata": {},
   "outputs": [
    {
     "name": "stdout",
     "output_type": "stream",
     "text": [
      "U.conj().T @ U =\n",
      " [[1.+0.j 1.+0.j 0.+0.j]\n",
      " [1.+0.j 1.+0.j 0.+0.j]\n",
      " [0.+0.j 0.+0.j 1.+0.j]]\n",
      " Is SU(3) a member : False\n",
      "U[6] = 0j, c6 = -0j\n",
      "U[7] = 0j, c7 = -0j\n",
      "U[8] = (1+0j), c8 = -0j\n",
      " Satisfy three-row complex conjugation properties : False\n"
     ]
    }
   ],
   "source": [
    "from pyqcu.cuda.gauge import test_su3\n",
    "test_su3(_U)"
   ]
  },
  {
   "cell_type": "code",
   "execution_count": 10,
   "id": "6f002503",
   "metadata": {},
   "outputs": [
    {
     "data": {
      "text/plain": [
       "array([[2.71828183, 0.        , 0.        ],\n",
       "       [0.        , 2.71828183, 0.        ],\n",
       "       [0.        , 0.        , 2.71828183]])"
      ]
     },
     "execution_count": 10,
     "metadata": {},
     "output_type": "execute_result"
    }
   ],
   "source": [
    "from cupyx.scipy.linalg import expm\n",
    "A = cp.eye(3)\n",
    "expm(a=A)"
   ]
  },
  {
   "cell_type": "code",
   "execution_count": null,
   "id": "901671af",
   "metadata": {},
   "outputs": [],
   "source": []
  }
 ],
 "metadata": {
  "kernelspec": {
   "display_name": "Python 3",
   "language": "python",
   "name": "python3"
  },
  "language_info": {
   "codemirror_mode": {
    "name": "ipython",
    "version": 3
   },
   "file_extension": ".py",
   "mimetype": "text/x-python",
   "name": "python",
   "nbconvert_exporter": "python",
   "pygments_lexer": "ipython3",
   "version": "3.10.12"
  }
 },
 "nbformat": 4,
 "nbformat_minor": 5
}
