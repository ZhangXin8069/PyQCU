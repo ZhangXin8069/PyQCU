{
 "cells": [
  {
   "cell_type": "code",
   "execution_count": null,
   "id": "d53670cc",
   "metadata": {},
   "outputs": [],
   "source": [
    "import numpy as np\n",
    "import cupy as cp\n",
    "from pyqcu.cuda import define\n",
    "from pyqcu.cuda import io\n",
    "from pyqcu.cuda import qcu\n",
    "from pyqcu.cuda.set import params, argv, set_ptrs\n",
    "print('My rank is ', define.rank)\n",
    "params[define._LAT_X_] = 4\n",
    "params[define._LAT_Y_] = 4\n",
    "params[define._LAT_Z_] = 4\n",
    "params[define._LAT_T_] = 4\n",
    "params[define._LAT_XYZT_] = params[define._LAT_X_] * \\\n",
    "    params[define._LAT_Y_]*params[define._LAT_Z_]*params[define._LAT_T_]\n",
    "params[define._GRID_X_] = 1\n",
    "params[define._GRID_Y_] = 1\n",
    "params[define._GRID_Z_] = 1\n",
    "params[define._GRID_T_] = 1\n",
    "params[define._PARITY_] = 0\n",
    "params[define._NODE_RANK_] = define.rank\n",
    "params[define._NODE_SIZE_] = define.size\n",
    "params[define._DATA_TYPE_] = define._LAT_C64_\n",
    "dtype = define.dtype(_data_type_=params[define._DATA_TYPE_])\n",
    "params[define._VERBOSE_] = 1\n",
    "print(\"Parameters:\", params)\n",
    "argv[define._MASS_] = 0.0\n",
    "print(\"Arguments:\", argv)\n",
    "#############################\n",
    "gauge = cp.zeros(shape=[define._LAT_C_, define._LAT_C_, define._LAT_D_, params[define._LAT_T_],\n",
    "                 params[define._LAT_Z_], params[define._LAT_Y_], params[define._LAT_X_]], dtype=dtype)\n",
    "gauge = io.xxxtzyx2pxxxtzyx(input_array=gauge)\n",
    "gauge = io.pccdtzyx2ccdptzyx(gauge=gauge)\n",
    "print(\"Gauge Shape:\", gauge.shape)"
   ]
  },
  {
   "cell_type": "code",
   "execution_count": null,
   "id": "dce54e72",
   "metadata": {},
   "outputs": [],
   "source": [
    "gauge.shape"
   ]
  },
  {
   "cell_type": "code",
   "execution_count": null,
   "id": "aab31eae",
   "metadata": {},
   "outputs": [],
   "source": [
    "\n",
    "#############################\n",
    "qcu.applyInitQcu(set_ptrs, params, argv)\n",
    "qcu.applyGaussGaugeQcu(gauge, set_ptrs, params)\n",
    "qcu.applyEndQcu(set_ptrs, params)\n",
    "#############################\n",
    "\n"
   ]
  },
  {
   "cell_type": "code",
   "execution_count": null,
   "id": "b5eeac11",
   "metadata": {},
   "outputs": [],
   "source": [
    "gauge.shape"
   ]
  },
  {
   "cell_type": "code",
   "execution_count": null,
   "id": "bd1f8238",
   "metadata": {},
   "outputs": [],
   "source": [
    "_gauge=io.ccdptzyx2pccdtzyx(gauge=gauge)\n",
    "_gauge = io.pxxxtzyx2xxxtzyx(input_array=_gauge)\n",
    "index = 0\n",
    "_U = _gauge[:, :, index, index, index, index, index]"
   ]
  },
  {
   "cell_type": "code",
   "execution_count": null,
   "id": "9584a772",
   "metadata": {},
   "outputs": [],
   "source": [
    "_gauge.shape"
   ]
  },
  {
   "cell_type": "code",
   "execution_count": null,
   "id": "30e4e80b",
   "metadata": {},
   "outputs": [],
   "source": [
    "_U"
   ]
  },
  {
   "cell_type": "code",
   "execution_count": null,
   "id": "ae3d5c0f",
   "metadata": {},
   "outputs": [],
   "source": [
    "_U.T"
   ]
  },
  {
   "cell_type": "code",
   "execution_count": null,
   "id": "a82ac109",
   "metadata": {},
   "outputs": [],
   "source": [
    "_U.shape"
   ]
  },
  {
   "cell_type": "code",
   "execution_count": null,
   "id": "c0f563e8",
   "metadata": {},
   "outputs": [],
   "source": [
    "from pyqcu.cuda.gauge import test_su3\n",
    "test_su3(_U)"
   ]
  },
  {
   "cell_type": "code",
   "execution_count": null,
   "id": "6f002503",
   "metadata": {},
   "outputs": [],
   "source": [
    "from cupyx.scipy.linalg import expm\n",
    "A = cp.eye(3)\n",
    "expm(a=A)"
   ]
  },
  {
   "cell_type": "code",
   "execution_count": null,
   "id": "901671af",
   "metadata": {},
   "outputs": [],
   "source": []
  }
 ],
 "metadata": {
  "kernelspec": {
   "display_name": "Python 3",
   "language": "python",
   "name": "python3"
  },
  "language_info": {
   "codemirror_mode": {
    "name": "ipython",
    "version": 3
   },
   "file_extension": ".py",
   "mimetype": "text/x-python",
   "name": "python",
   "nbconvert_exporter": "python",
   "pygments_lexer": "ipython3",
   "version": "3.10.12"
  }
 },
 "nbformat": 4,
 "nbformat_minor": 5
}
