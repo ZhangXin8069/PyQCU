{
    "cells": [
        {
            "cell_type": "markdown",
            "metadata": {},
            "source": [
                "# Init for pyqcu."
            ]
        },
        {
            "cell_type": "code",
            "execution_count": null,
            "metadata": {},
            "outputs": [],
            "source": [
                "import cupy as cp\n",
                "import numpy as np\n",
                "import functools\n",
                "from pyqcu import define, io, qcu, eigen, cg, bistabcg, amg, linalg, gauge, demo\n",
                "from time import perf_counter\n",
                "from opt_einsum import contract\n",
                "from pyqcu.set import params, argv\n",
                "params[define._LAT_X_] = 8\n",
                "params[define._LAT_Y_] = 8\n",
                "params[define._LAT_Z_] = 8\n",
                "params[define._LAT_T_] = 8\n",
                "params[define._LAT_XYZT_] = params[define._LAT_X_] * \\\n",
                "    params[define._LAT_Y_] * params[define._LAT_Z_] * params[define._LAT_T_]\n",
                "params[define._DATA_TYPE_] = define._LAT_C64_\n",
                "sigma = 1.0\n",
                "seed = 12138\n",
                "params[define._NODE_RANK_] = define.rank\n",
                "params[define._NODE_SIZE_] = define.size\n",
                "argv[define._TOL_] = 1e-12\n",
                "kappa = 1 / (2 * argv[define._MASS_] + 8)\n",
                "U, src, dest, set_ptrs, wilson_cg_params, wilson_dslash_eo_params, wilson_dslash_oe_params, wilson_dslash_eo_dag_params, wilson_dslash_oe_dag_params = demo.give(\n",
                "    params=params, sigma=sigma, seed=seed)"
            ]
        },
        {
            "cell_type": "markdown",
            "metadata": {},
            "source": [
                "# Clover"
            ]
        },
        {
            "cell_type": "code",
            "execution_count": null,
            "metadata": {},
            "outputs": [],
            "source": [
                "clover_even = cp.zeros((define._LAT_S_, define._LAT_C_, define._LAT_S_, define._LAT_C_,\n",
                "                       params[define._LAT_T_], params[define._LAT_Z_], params[define._LAT_Y_], int(params[define._LAT_X_]/define._LAT_P_),), dtype=src.dtype)\n",
                "clover_odd = cp.zeros((define._LAT_S_, define._LAT_C_, define._LAT_S_, define._LAT_C_,\n",
                "                       params[define._LAT_T_], params[define._LAT_Z_], params[define._LAT_Y_], int(params[define._LAT_X_]/define._LAT_P_),), dtype=src.dtype)\n",
                "clover_dslash_eo_params = params.copy()\n",
                "clover_dslash_eo_params[define._SET_INDEX_] = 5\n",
                "clover_dslash_eo_params[define._SET_PLAN_] = define._SET_PLAN2_\n",
                "clover_dslash_eo_params[define._PARITY_] = define._EVEN_\n",
                "clover_dslash_eo_params[define._DAGGER_] = define._NO_USE_\n",
                "qcu.applyInitQcu(set_ptrs, clover_dslash_eo_params, argv)\n",
                "clover_dslash_oe_params = params.copy()\n",
                "clover_dslash_oe_params[define._SET_INDEX_] = 6\n",
                "clover_dslash_oe_params[define._SET_PLAN_] = define._SET_PLAN2_\n",
                "clover_dslash_oe_params[define._PARITY_] = define._ODD_\n",
                "clover_dslash_oe_params[define._DAGGER_] = define._NO_USE_\n",
                "qcu.applyInitQcu(set_ptrs, clover_dslash_oe_params, argv)\n",
                "clover_src = cp.zeros_like(src[define._EVEN_])\n",
                "clover_src = (linalg.initialize_random_vector(clover_src.flatten())).reshape(clover_src.shape)\n",
                "clover_dest = cp.zeros_like(clover_src)\n",
                "_clover_dest = cp.zeros_like(clover_src)\n",
                "qcu.applyCloverQcu(clover_even, U, set_ptrs, clover_dslash_eo_params)\n",
                "qcu.applyCloverDslashQcu(_clover_dest, clover_src, U, set_ptrs, clover_dslash_eo_params)\n",
                "qcu.applyDslashQcu(clover_dest, clover_src, clover_even,\n",
                "                   U, set_ptrs, clover_dslash_eo_params)\n",
                "print(cp.linalg.norm(_clover_dest - clover_dest))\n",
                "qcu.applyCloverQcu(clover_odd, U, set_ptrs, clover_dslash_oe_params)\n",
                "qcu.applyCloverDslashQcu(_clover_dest, clover_src, U, set_ptrs, clover_dslash_oe_params)\n",
                "qcu.applyDslashQcu(clover_dest, clover_src, clover_odd,\n",
                "                   U, set_ptrs, clover_dslash_oe_params)\n",
                "print(cp.linalg.norm(_clover_dest - clover_dest))"
            ]
        },
        {
            "cell_type": "markdown",
            "metadata": {},
            "source": [
                "# Give CG & BISTABCG Dslash.\n",
                "> src_o-set_ptr->kappa()**2*dslash_oe(dslash_eo(src_o))"
            ]
        },
        {
            "cell_type": "code",
            "execution_count": null,
            "metadata": {},
            "outputs": [],
            "source": [
                "def pdslash_no_dag(src):\n",
                "    tmp0 = cp.zeros_like(src)\n",
                "    tmp1 = cp.zeros_like(src)\n",
                "    # qcu.applyWilsonDslashQcu(\n",
                "    #     tmp0, src, U, set_ptrs, wilson_dslash_eo_params)\n",
                "    # qcu.applyWilsonDslashQcu(\n",
                "    #     tmp1, tmp0, U, set_ptrs, wilson_dslash_oe_params)\n",
                "    qcu.applyDslashQcu(tmp0, src, clover_even,\n",
                "                       U, set_ptrs, clover_dslash_eo_params)\n",
                "    qcu.applyDslashQcu(tmp1, tmp0, clover_odd,\n",
                "                       U, set_ptrs, clover_dslash_oe_params)\n",
                "    return src-kappa**2*tmp1\n",
                "\n",
                "\n",
                "def pdslash_dag(src):\n",
                "    tmp0 = cp.zeros_like(src)\n",
                "    tmp1 = cp.zeros_like(src)\n",
                "    qcu.applyWilsonDslashQcu(\n",
                "        tmp0, src, U, set_ptrs, wilson_dslash_eo_dag_params)\n",
                "    qcu.applyWilsonDslashQcu(\n",
                "        tmp1, tmp0, U, set_ptrs, wilson_dslash_oe_dag_params)\n",
                "    qcu.applyDslashQcu(tmp0, src, clover_even,\n",
                "                       U, set_ptrs, clover_dslash_eo_params)\n",
                "    qcu.applyDslashQcu(tmp1, tmp0, clover_odd,\n",
                "                       U, set_ptrs, clover_dslash_oe_params)\n",
                "    return src-kappa**2*tmp1\n",
                "\n",
                "\n",
                "def cg_dslash(src):\n",
                "    return pdslash_dag(pdslash_no_dag(src))\n",
                "\n",
                "\n",
                "def dslash_no_dag(src):\n",
                "    dest = cp.zeros_like(src)\n",
                "    qcu.applyWilsonDslashQcu(\n",
                "        dest, src, U, set_ptrs, wilson_dslash_eo_params)\n",
                "    return dest\n",
                "\n",
                "\n",
                "def dslash_dag(src):\n",
                "    dest = cp.zeros_like(src)\n",
                "    qcu.applyWilsonDslashQcu(\n",
                "        dest, src, U, set_ptrs, wilson_dslash_eo_dag_params)\n",
                "    return dest\n",
                "\n",
                "\n",
                "def dslash(src):\n",
                "    return dslash_no_dag(src)\n",
                "\n",
                "\n",
                "def bistabcg_dslash(src):\n",
                "    return pdslash_no_dag(src)\n",
                "\n",
                "\n",
                "print(cp.linalg.norm((dest[define._EVEN_]-kappa *\n",
                "                      dslash(dest[define._ODD_]))-src[define._ODD_]))"
            ]
        },
        {
            "cell_type": "markdown",
            "metadata": {},
            "source": [
                "# Verify $(\\gamma_5 D)^\\dag = D^\\dag {\\gamma_5}^\\dag = D^\\dag \\gamma_5  = \\gamma_5 D$"
            ]
        },
        {
            "cell_type": "code",
            "execution_count": null,
            "metadata": {},
            "outputs": [],
            "source": [
                "gamma5 = cp.array([[1, 0, 0, 0], [0, 1, 0, 0], [\n",
                "                   0, 0, -1, 0], [0, 0, 0, -1]]).astype(src.dtype)\n",
                "print(gamma5)\n",
                "print(gamma5.T)\n",
                "\n",
                "\n",
                "def gamma5_vec(src):\n",
                "    return contract(\"ss,sctzyx->sctzyx\", gamma5, io.fermion2sctzyx(src, params))\n",
                "\n",
                "\n",
                "def vec_gamma5(src):\n",
                "    return contract(\"sctzyx,ss->sctzyx\", io.fermion2sctzyx(src, params), gamma5)\n",
                "\n",
                "\n",
                "_src = dest[define._EVEN_]\n",
                "print(_src.shape)\n",
                "print(cp.linalg.norm(gamma5_vec(dslash_no_dag(_src))-dslash_dag(gamma5_vec(_src))))\n",
                "print(cp.linalg.norm(gamma5_vec(pdslash_no_dag(_src))-pdslash_dag(gamma5_vec(_src))))"
            ]
        },
        {
            "cell_type": "code",
            "execution_count": null,
            "metadata": {},
            "outputs": [],
            "source": [
                "clover_dest"
            ]
        },
        {
            "cell_type": "code",
            "execution_count": null,
            "metadata": {},
            "outputs": [],
            "source": [
                "clover_dest-_clover_dest"
            ]
        },
        {
            "cell_type": "markdown",
            "metadata": {},
            "source": [
                "# Origin CG. (pass, don't run this)"
            ]
        },
        {
            "cell_type": "code",
            "execution_count": null,
            "metadata": {},
            "outputs": [],
            "source": [
                "# b_e = src[define._EVEN_].flatten()\n",
                "# b_o = src[define._ODD_].flatten()\n",
                "# b__o = cp.zeros_like(b_o)\n",
                "# tmp = cp.zeros_like(b_o)\n",
                "# # b__o=b_o+kappa*D_oe(b_e)\n",
                "# qcu.applyWilsonDslashQcu(tmp, b_e, U, set_ptrs, wilson_dslash_oe_params)\n",
                "# b__o = b_o+kappa*tmp\n",
                "# # b__o -> Dslash^dag b__o\n",
                "# b__o = pdslash_dag(b__o)\n",
                "# # Dslash(x_o)=b__o\n",
                "# x_o = cg.slover(b=b__o, matvec=bistabcg_dslash, tol=1e-10, max_iter=1000000)\n",
                "# # x_e  =b_e+kappa*D_eo(x_o)\n",
                "# qcu.applyWilsonDslashQcu(tmp, x_o, U, set_ptrs, wilson_dslash_eo_params)\n",
                "# x_e = b_e+kappa*tmp\n",
                "# # give _dest\n",
                "# _dest = cp.zeros_like(dest)\n",
                "# _dest[define._EVEN_] = x_e.reshape(\n",
                "#     dest[define._EVEN_].shape)\n",
                "# _dest[define._ODD_] = x_o.reshape(\n",
                "#     dest[define._ODD_].shape)\n",
                "# print(np.linalg.norm(_dest-dest) /\n",
                "#       np.linalg.norm(dest))"
            ]
        },
        {
            "cell_type": "markdown",
            "metadata": {},
            "source": [
                "# End for pyqcu. (pass, don't run this)"
            ]
        },
        {
            "cell_type": "code",
            "execution_count": null,
            "metadata": {},
            "outputs": [],
            "source": [
                "# demo.end(set_ptrs=set_ptrs,params=params)"
            ]
        }
    ],
    "metadata": {
        "kernelspec": {
            "display_name": "Python 3",
            "language": "python",
            "name": "python3"
        },
        "language_info": {
            "codemirror_mode": {
                "name": "ipython",
                "version": 3
            },
            "file_extension": ".py",
            "mimetype": "text/x-python",
            "name": "python",
            "nbconvert_exporter": "python",
            "pygments_lexer": "ipython3",
            "version": "3.10.12"
        }
    },
    "nbformat": 4,
    "nbformat_minor": 2
}
