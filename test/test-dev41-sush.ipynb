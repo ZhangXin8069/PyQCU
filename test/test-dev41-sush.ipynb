{
    "cells": [
        {
            "cell_type": "markdown",
            "metadata": {},
            "source": [
                "# Init for pyqcu."
            ]
        },
        {
            "cell_type": "code",
            "execution_count": null,
            "metadata": {},
            "outputs": [],
            "source": [
                "import cupy as cp\n",
                "import functools\n",
                "import cupyx.scipy.sparse as cpx_sparse\n",
                "from pyqcu import eigen, bistabcg"
            ]
        },
        {
            "cell_type": "markdown",
            "metadata": {},
            "source": [
                "# Give matvec."
            ]
        },
        {
            "cell_type": "code",
            "execution_count": null,
            "metadata": {},
            "outputs": [],
            "source": [
                "index = -1\n",
                "n = 16**3*3\n",
                "\n",
                "\n",
                "def generate_sparse_complex_psd_matrix(n, density=0.1):\n",
                "    real_part = cpx_sparse.random(\n",
                "        n, n, density=density, format=\"csr\", dtype=cp.float32)\n",
                "    imag_part = cpx_sparse.random(\n",
                "        n, n, density=density, format=\"csr\", dtype=cp.float32)\n",
                "    A = real_part + 1j * imag_part\n",
                "    A_hermitian = A + A.getH()\n",
                "    A_psd = A_hermitian + n * cpx_sparse.identity(n, dtype=cp.complex64)\n",
                "    return A_psd\n",
                "\n",
                "\n",
                "A = generate_sparse_complex_psd_matrix(n)\n",
                "print(A.shape)\n",
                "\n",
                "\n",
                "def matvec(src):\n",
                "    return A@src"
            ]
        },
        {
            "cell_type": "markdown",
            "metadata": {},
            "source": [
                "# Give guage's eigenvalues and eigenvectors"
            ]
        },
        {
            "cell_type": "code",
            "execution_count": null,
            "metadata": {},
            "outputs": [],
            "source": [
                "eigen_solver = eigen.solver(\n",
                "    n=n, k=10,matvec=matvec,dtype=A.dtype)\n",
                "eigenvalues, eigenvectors = eigen_solver.run()"
            ]
        },
        {
            "cell_type": "code",
            "execution_count": null,
            "metadata": {},
            "outputs": [],
            "source": [
                "print(eigenvalues)"
            ]
        },
        {
            "cell_type": "markdown",
            "metadata": {},
            "source": [
                "# Run matvec(eigenvector[.]) ?= eigenvalue[.]*eigenvector[.] for eigen test."
            ]
        },
        {
            "cell_type": "code",
            "execution_count": null,
            "metadata": {},
            "outputs": [],
            "source": [
                "for i, ev in enumerate(eigenvalues):\n",
                "    print(f\"λ_{i} = {ev:.2e}\")\n",
                "    # Verify eigenvector\n",
                "    v = eigenvectors[i]\n",
                "    w = cp.zeros_like(v)\n",
                "    w = matvec(v)\n",
                "    error = cp.linalg.norm(w - ev * v) / cp.linalg.norm(w)\n",
                "    print(f\"Relative error: {error:.2e}\")\n",
                "    j = i+1\n",
                "    if j == len(eigenvalues):\n",
                "        j = 0\n",
                "    print(\n",
                "        f\"Diff between λ_{i} and λ_{j}: {cp.linalg.norm(eigenvectors[i] - eigenvectors[j])/cp.linalg.norm(eigenvectors[i]):.2e}\")"
            ]
        },
        {
            "cell_type": "markdown",
            "metadata": {},
            "source": [
                "# Sovle (A-a)x+b = b by BISTABCG"
            ]
        },
        {
            "cell_type": "code",
            "execution_count": null,
            "metadata": {},
            "outputs": [],
            "source": [
                "a = eigenvalues[index]\n",
                "print(a)\n",
                "b = cp.ones(n, dtype=A.dtype)"
            ]
        },
        {
            "cell_type": "code",
            "execution_count": null,
            "metadata": {},
            "outputs": [],
            "source": [
                "def _matvec(src, a,b):\n",
                "    return matvec(src)-a+b"
            ]
        },
        {
            "cell_type": "code",
            "execution_count": null,
            "metadata": {},
            "outputs": [],
            "source": [
                "\n",
                "bistabcg_solver = bistabcg.slover(\n",
                "    b=b, matvec=functools.partial(_matvec, a=a, b=b), max_iter=10000, tol=1e-4)\n",
                "x = bistabcg_solver.run()"
            ]
        },
        {
            "cell_type": "code",
            "execution_count": null,
            "metadata": {},
            "outputs": [],
            "source": [
                "b.flatten()[:50]"
            ]
        },
        {
            "cell_type": "code",
            "execution_count": null,
            "metadata": {},
            "outputs": [],
            "source": [
                "print(b.shape)\n",
                "bistabcg_solver = bistabcg.slover(\n",
                "    b=b, matvec=matvec, max_iter=10000, tol=1e-9)\n",
                "_x = bistabcg_solver.run()"
            ]
        },
        {
            "cell_type": "markdown",
            "metadata": {},
            "source": [
                "# Verify above"
            ]
        },
        {
            "cell_type": "code",
            "execution_count": null,
            "metadata": {},
            "outputs": [],
            "source": [
                "x.flatten()[:50]"
            ]
        },
        {
            "cell_type": "code",
            "execution_count": null,
            "metadata": {},
            "outputs": [],
            "source": [
                "eigenvectors[index].flatten()[:50]"
            ]
        },
        {
            "cell_type": "code",
            "execution_count": null,
            "metadata": {},
            "outputs": [],
            "source": [
                "Ax = matvec(x)\n",
                "Ax.flatten()[:50]"
            ]
        },
        {
            "cell_type": "code",
            "execution_count": null,
            "metadata": {},
            "outputs": [],
            "source": [
                "ax = a*x\n",
                "ax.flatten()[:50]"
            ]
        },
        {
            "cell_type": "code",
            "execution_count": null,
            "metadata": {},
            "outputs": [],
            "source": [
                "print(cp.linalg.norm(Ax-ax)/cp.linalg.norm(ax))"
            ]
        },
        {
            "cell_type": "markdown",
            "metadata": {},
            "source": [
                "# End"
            ]
        },
        {
            "cell_type": "code",
            "execution_count": null,
            "metadata": {},
            "outputs": [],
            "source": [
                "# bistabcg_solver.end()\n"
            ]
        }
    ],
    "metadata": {
        "kernelspec": {
            "display_name": "Python 3",
            "language": "python",
            "name": "python3"
        },
        "language_info": {
            "codemirror_mode": {
                "name": "ipython",
                "version": 3
            },
            "file_extension": ".py",
            "mimetype": "text/x-python",
            "name": "python",
            "nbconvert_exporter": "python",
            "pygments_lexer": "ipython3",
            "version": "3.10.12"
        }
    },
    "nbformat": 4,
    "nbformat_minor": 2
}
