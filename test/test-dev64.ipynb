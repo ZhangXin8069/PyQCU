{
 "cells": [
  {
   "cell_type": "code",
   "execution_count": 1,
   "id": "0aa000a2",
   "metadata": {},
   "outputs": [
    {
     "name": "stdout",
     "output_type": "stream",
     "text": [
      "Error: cannot import name 'expm' from 'cupyx.scipy.linalg' (/usr/local/lib/python3.8/dist-packages/cupyx/scipy/linalg/__init__.py)\n",
      "@My Rank:0/1, Local Rank:0@\n",
      "\n"
     ]
    }
   ],
   "source": [
    "from pyqcu.cuda import cg"
   ]
  },
  {
   "cell_type": "code",
   "execution_count": 2,
   "id": "f5eb3ffa",
   "metadata": {},
   "outputs": [
    {
     "data": {
      "text/plain": [
       "<function pyqcu.cuda.cg.slover(b: <function array at 0x7f252a6633a0>, matvec: Callable[[array], array], tol: float = 1e-06, max_iter: int = 1000, x0: <function array at 0x7f252a6633a0> = None) -> <function array at 0x7f252a6633a0>>"
      ]
     },
     "execution_count": 2,
     "metadata": {},
     "output_type": "execute_result"
    }
   ],
   "source": [
    "cg.slover"
   ]
  }
 ],
 "metadata": {
  "kernelspec": {
   "display_name": "Python 3",
   "language": "python",
   "name": "python3"
  },
  "language_info": {
   "codemirror_mode": {
    "name": "ipython",
    "version": 3
   },
   "file_extension": ".py",
   "mimetype": "text/x-python",
   "name": "python",
   "nbconvert_exporter": "python",
   "pygments_lexer": "ipython3",
   "version": "3.8.10"
  }
 },
 "nbformat": 4,
 "nbformat_minor": 5
}
