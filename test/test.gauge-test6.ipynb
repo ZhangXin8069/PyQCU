{
 "cells": [
  {
   "cell_type": "code",
   "execution_count": 1,
   "id": "d53670cc",
   "metadata": {},
   "outputs": [
    {
     "name": "stdout",
     "output_type": "stream",
     "text": [
      "@My Rank:0/1@\n",
      "\n",
      "My rank is  0\n",
      "Parameters: [   4    2    2    2   32    1    1    1    1    0    0    1    0 1000\n",
      "    3    0    0    4    4    4    8   24    1   42]\n",
      "Arguments: [0.e+00 1.e-09 1.e-01]\n"
     ]
    }
   ],
   "source": [
    "import numpy as np\n",
    "import cupy as cp\n",
    "from pyqcu.cuda import define\n",
    "from pyqcu.cuda import io\n",
    "from pyqcu.cuda import qcu\n",
    "from pyqcu.cuda.set import params, argv, set_ptrs\n",
    "print('My rank is ', define.rank)\n",
    "params[define._LAT_X_] = 4\n",
    "params[define._LAT_Y_] = 2\n",
    "params[define._LAT_Z_] = 2\n",
    "params[define._LAT_T_] = 2\n",
    "params[define._LAT_XYZT_] = params[define._LAT_X_] * \\\n",
    "    params[define._LAT_Y_]*params[define._LAT_Z_]*params[define._LAT_T_]\n",
    "params[define._GRID_X_] = 1\n",
    "params[define._GRID_Y_] = 1\n",
    "params[define._GRID_Z_] = 1\n",
    "params[define._GRID_T_] = 1\n",
    "params[define._PARITY_] = 0\n",
    "params[define._NODE_RANK_] = define.rank\n",
    "params[define._NODE_SIZE_] = define.size\n",
    "params[define._DATA_TYPE_] = define._LAT_C64_\n",
    "dtype = define.dtype(_data_type_=params[define._DATA_TYPE_])\n",
    "params[define._VERBOSE_] = 1\n",
    "print(\"Parameters:\", params)\n",
    "argv[define._MASS_] = 0.0\n",
    "argv = argv.astype(define.dtype_half(params[define._DATA_TYPE_]))\n",
    "print(\"Arguments:\", argv)\n",
    "#############################"
   ]
  },
  {
   "cell_type": "code",
   "execution_count": null,
   "id": "7bb7349c",
   "metadata": {},
   "outputs": [],
   "source": [
    "gauge = io.hdf5_xxxtzyx2grid_xxxtzyx(params, \"gauge.h5\")\n",
    "_gauge = io.hdf5_xxxtzyx2grid_xxxtzyx(params, \"_gauge.h5\")\n"
   ]
  }
 ],
 "metadata": {
  "kernelspec": {
   "display_name": "Python 3",
   "language": "python",
   "name": "python3"
  },
  "language_info": {
   "codemirror_mode": {
    "name": "ipython",
    "version": 3
   },
   "file_extension": ".py",
   "mimetype": "text/x-python",
   "name": "python",
   "nbconvert_exporter": "python",
   "pygments_lexer": "ipython3",
   "version": "3.10.12"
  }
 },
 "nbformat": 4,
 "nbformat_minor": 5
}
