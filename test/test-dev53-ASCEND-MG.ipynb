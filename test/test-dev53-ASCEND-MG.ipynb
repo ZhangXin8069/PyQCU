{
 "cells": [
  {
   "cell_type": "code",
   "execution_count": null,
   "id": "f446a305",
   "metadata": {},
   "outputs": [],
   "source": [
    "import torch\n",
    "from pyqcu.ascend import dslash\n",
    "from pyqcu.ascend.include import *\n",
    "# latt_size = (16, 16, 16, 32)\n",
    "# latt_size = (16, 16, 16, 16)\n",
    "# latt_size = (32, 32, 32, 32)\n",
    "# latt_size = (32, 32, 32, 64)\n",
    "# latt_size = (4, 8, 8, 8)\n",
    "# latt_size = (8, 8, 8, 4)\n",
    "# latt_size = (16, 8, 8, 8)\n",
    "# latt_size = (8, 8, 16, 16)\n",
    "latt_size = (8, 8, 8, 8)\n",
    "# latt_size = (4, 4, 4, 4)\n",
    "kappa = 0.125\n",
    "# dtype = torch.complex128\n",
    "dtype = torch.complex64\n",
    "device = torch.device('cuda' if torch.cuda.is_available() else 'cpu')\n",
    "print(f\"Using device: {device}\")\n",
    "# Initialize lattice gauge theory\n",
    "wilson = dslash.wilson_parity(\n",
    "    latt_size=latt_size,\n",
    "    kappa=kappa,\n",
    "    dtype=dtype,\n",
    "    device=device,\n",
    "    verbose=False\n",
    ")\n",
    "clover = dslash.clover_parity(\n",
    "    latt_size=latt_size,\n",
    "    kappa=kappa,\n",
    "    dtype=dtype,\n",
    "    device=device,\n",
    "    verbose=False\n",
    ")\n",
    "U = wilson.generate_gauge_field(sigma=0.1, seed=42)\n",
    "\n",
    "wilson.check_su3(U)\n",
    "clover_term = clover.make_clover(U=U)\n",
    "clover_term = clover.add_I(clover=clover_term)  # needed!\n",
    "# clover_term = clover.add_I(clover=torch.zeros_like(clover_term))  # test\n",
    "\n",
    "b = torch.randn(4, 3, latt_size[3], latt_size[2], latt_size[1], latt_size[0],\n",
    "                dtype=dtype, device=device)\n",
    "U_eo = xxxtzyx2pxxxtzyx(input_array=U)\n",
    "clover_eo = xxxtzyx2pxxxtzyx(input_array=clover_term)\n",
    "verbose = True"
   ]
  },
  {
   "cell_type": "code",
   "execution_count": null,
   "id": "948d0e35",
   "metadata": {},
   "outputs": [],
   "source": [
    "from pyqcu.ascend import inverse\n",
    "mg = inverse.mg(b=b, wilson=wilson, U_eo=U_eo,\n",
    "                clover=clover, clover_eo=clover_eo, verbose=verbose, max_iter=50, max_restarts=2)"
   ]
  },
  {
   "cell_type": "code",
   "execution_count": null,
   "id": "ff5274d1",
   "metadata": {},
   "outputs": [],
   "source": [
    "# b0 = mg.b_list[0]\n",
    "# b1 = inverse.restrict(\n",
    "#     local_ortho_null_vecs=mg.lonv_list[0], fine_vec=b0)\n",
    "# _b0 = inverse.prolong(local_ortho_null_vecs=mg.lonv_list[0], coarse_vec=b1)\n",
    "# _b1 = inverse.restrict(\n",
    "#     local_ortho_null_vecs=mg.lonv_list[0], fine_vec=_b0)\n",
    "# print(_b1.flatten()[:100]/b1.flatten()[:100])"
   ]
  },
  {
   "cell_type": "code",
   "execution_count": null,
   "id": "8542fa80",
   "metadata": {},
   "outputs": [],
   "source": [
    "_x = inverse.bicgstab(b=b, matvec=mg.op_list[0].matvec, verbose=verbose)"
   ]
  },
  {
   "cell_type": "code",
   "execution_count": null,
   "id": "84b8331d",
   "metadata": {},
   "outputs": [],
   "source": [
    "x = mg.solve()\n",
    "mg.plot()"
   ]
  },
  {
   "cell_type": "code",
   "execution_count": null,
   "id": "cb57e606",
   "metadata": {},
   "outputs": [],
   "source": [
    "print(torch.norm(x-_x).item()/torch.norm(_x).item())"
   ]
  },
  {
   "cell_type": "code",
   "execution_count": null,
   "id": "b6ce653f",
   "metadata": {},
   "outputs": [],
   "source": [
    "mg.b_list[-1].flatten()[:100]"
   ]
  }
 ],
 "metadata": {
  "kernelspec": {
   "display_name": "Python 3",
   "language": "python",
   "name": "python3"
  },
  "language_info": {
   "codemirror_mode": {
    "name": "ipython",
    "version": 3
   },
   "file_extension": ".py",
   "mimetype": "text/x-python",
   "name": "python",
   "nbconvert_exporter": "python",
   "pygments_lexer": "ipython3",
   "version": "3.10.12"
  }
 },
 "nbformat": 4,
 "nbformat_minor": 5
}
