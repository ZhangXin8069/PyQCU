{
 "cells": [
  {
   "cell_type": "code",
   "execution_count": null,
   "id": "f446a305",
   "metadata": {},
   "outputs": [],
   "source": [
    "import torch\n",
    "from pyqcu.ascend import dslash\n",
    "from pyqcu.ascend.include import *\n",
    "from pyqcu.ascend import inverse\n",
    "dof = 4\n",
    "# latt_size = (16, 16, 16, 16)\n",
    "latt_size = (32, 32, 32, 32)\n",
    "# latt_size = (32, 32, 32, 64)\n",
    "# latt_size = (4, 8, 8, 8)\n",
    "# latt_size = (8, 8, 8, 4)\n",
    "# latt_size = (16, 8, 8, 8)\n",
    "# latt_size = (8, 8, 8, 8)\n",
    "# latt_size = (4, 4, 4, 4)\n",
    "kappa = 0.125\n",
    "# dtype = torch.complex128\n",
    "dtype = torch.complex64\n",
    "device = torch.device('cuda' if torch.cuda.is_available() else 'cpu')\n",
    "print(f\"Using device: {device}\")\n",
    "# Initialize lattice gauge theory\n",
    "wilson = dslash.wilson_parity(\n",
    "    latt_size=latt_size,\n",
    "    kappa=kappa,\n",
    "    dtype=dtype,\n",
    "    device=device,\n",
    "    verbose=False\n",
    ")\n",
    "clover = dslash.clover_parity(\n",
    "    latt_size=latt_size,\n",
    "    kappa=kappa,\n",
    "    dtype=dtype,\n",
    "    device=device,\n",
    "    verbose=False\n",
    ")\n",
    "U = wilson.generate_gauge_field(sigma=0.1, seed=42)\n",
    "\n",
    "wilson.check_su3(U)\n",
    "\n",
    "null_vecs = torch.randn(dof, 4, 3, latt_size[3], latt_size[2], latt_size[1], latt_size[0],\n",
    "                        dtype=dtype, device=device)\n",
    "clover_term = clover.make_clover(U=U)\n",
    "clover_term = clover.add_I(clover=clover_term)  # needed!\n",
    "\n",
    "b = torch.randn_like(null_vecs[0])\n",
    "U_eo = xxxtzyx2pxxxtzyx(input_array=U)\n",
    "clover_eo = xxxtzyx2pxxxtzyx(input_array=clover_term)"
   ]
  },
  {
   "cell_type": "code",
   "execution_count": null,
   "id": "948d0e35",
   "metadata": {},
   "outputs": [],
   "source": [
    "from pyqcu.ascend import inverse\n",
    "mg = inverse.mg(b=b, wilson=wilson, U_eo=U_eo,\n",
    "                clover=clover, clover_eo=clover_eo, dof=dof,verbose=True)"
   ]
  },
  {
   "cell_type": "code",
   "execution_count": null,
   "id": "84b8331d",
   "metadata": {},
   "outputs": [],
   "source": [
    "x=mg.solve()"
   ]
  }
 ],
 "metadata": {
  "kernelspec": {
   "display_name": "Python 3",
   "language": "python",
   "name": "python3"
  },
  "language_info": {
   "codemirror_mode": {
    "name": "ipython",
    "version": 3
   },
   "file_extension": ".py",
   "mimetype": "text/x-python",
   "name": "python",
   "nbconvert_exporter": "python",
   "pygments_lexer": "ipython3",
   "version": "3.10.12"
  }
 },
 "nbformat": 4,
 "nbformat_minor": 5
}
