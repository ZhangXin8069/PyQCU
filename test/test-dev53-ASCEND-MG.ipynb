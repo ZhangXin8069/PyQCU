{
 "cells": [
  {
   "cell_type": "code",
   "execution_count": null,
   "id": "f446a305",
   "metadata": {},
   "outputs": [
    {
     "name": "stdout",
     "output_type": "stream",
     "text": [
      "\n",
      "    @@@@@@######QCU NOTES START######@@@@@@@\n",
      "    Guide:\n",
      "    0. Required: MPI(e.g. 4.1.2), CUDA(e.g. 12.4), CMAKE(e.g. 3.22.1), GCC(e.g. 11.4.0), HDF5-MPI(e.g. 1.10.7,'apt install libhdf5-mpi-dev && export HDF5_MPI=\"ON\" && pip install --no-binary=h5py h5py').\n",
      "    1. The libqcu.so was compiled when pyqcu setup in download_path/PyQCU/lib, please add this path to your LD_LIBRARY_PATH.\n",
      "    2. The QCU(PyQCU) splite grid by x->y->z->t, lattice by x->y->z->t->p->d->c->c or x->y->z->t->c->s(->p) and x->y->z->t->c->s->c->s(->p).\n",
      "    3. The QUDA(PyQUDA) splite grid by t->z->y->x, lattice by c->c->x->y->z->t->p->d or c->s->x->y->z->t(->p) and c->s->c->s->x->y->z->t(->p).\n",
      "    4. The QCU input params in numpy array(dtype=np.int32), argv in  numpy array(dtype=np.float32 or float64) array, set_ptrs in numpy array(dtype=np.int64), other in cupy array(dtype=cp.complex64 or complex128).\n",
      "    5. The smallest lattice size is (wilson:x=4,y=4,z=4,t=4;clover:x=8,y=8,z=8,t=8) that QCU support (when '#define _BLOCK_SIZE_ 32 // for test small lattice').\n",
      "    References:\n",
      "    [0] 刘川. 格点量子色动力学导论. 北京大学出版社, 2017.07.\n",
      "    [1] 蒋翔宇. 轻强子性质的格点QCD研究. 中国科学院高能物理研究所, 2023.06.\n",
      "    [2] Babich R, Clark M A, Joó B. Parallelizing the QUDA library for multi-GPU calculations in lattice quantum chromodynamics[C]//SC'10: Proceedings of the 2010 ACM/IEEE International Conference for High Performance Computing, Networking, Storage and Analysis. IEEE, 2010.01.11.\n",
      "    [3] M. Rottmann. Adaptive domain decomposition multigrid for lattice QCD, Ph.D. thesis, Wuppertal, Univ., Diss., 2016.\n",
      "    [4] Brower R C, Clark M A, Weinberg E, et al. Multigrid for chiral lattice fermions: Domain wall[J]. Physical Review D, 2020.\n",
      "    @@@@@@######QCU NOTES END######@@@@@@@\n",
      "    \n",
      "Using device: cuda\n"
     ]
    }
   ],
   "source": [
    "import torch\n",
    "from pyqcu.ascend import dslash\n",
    "from pyqcu.ascend.include import *\n",
    "# latt_size = (16, 16, 16, 32)\n",
    "# latt_size = (16, 16, 16, 16)\n",
    "# latt_size = (32, 32, 32, 32)\n",
    "# latt_size = (32, 32, 32, 64)\n",
    "# latt_size = (4, 8, 8, 8)\n",
    "# latt_size = (8, 8, 8, 4)\n",
    "# latt_size = (16, 8, 8, 8)\n",
    "# latt_size = (8, 8, 16, 16)\n",
    "latt_size = (8, 8, 8, 8)\n",
    "# latt_size = (4, 4, 4, 4)\n",
    "# mass = -3.5\n",
    "# mass = -0.8\n",
    "# mass = -0.5\n",
    "mass = 0.05\n",
    "mass = 0.0\n",
    "mass = -0.05\n",
    "# kappa = 0.4\n",
    "# kappa = 0.125\n",
    "# kappa = 0.5\n",
    "kappa = 1 / (2 * mass + 8)\n",
    "dtype = torch.complex128\n",
    "# dtype = torch.complex64\n",
    "device = torch.device('cuda' if torch.cuda.is_available() else 'cpu')\n",
    "print(f\"Using device: {device}\")\n",
    "# Initialize lattice gauge theory\n",
    "wilson = dslash.wilson_parity(\n",
    "    latt_size=latt_size,\n",
    "    kappa=kappa,\n",
    "    dtype=dtype,\n",
    "    device=device,\n",
    "    verbose=False\n",
    ")\n",
    "clover = dslash.clover_parity(\n",
    "    latt_size=latt_size,\n",
    "    kappa=kappa,\n",
    "    dtype=dtype,\n",
    "    device=device,\n",
    "    verbose=False\n",
    ")\n",
    "U = wilson.generate_gauge_field(sigma=0.1, seed=42)\n",
    "\n",
    "wilson.check_su3(U)\n",
    "clover_term = clover.make_clover(U=U)\n",
    "\n",
    "b = torch.randn(4, 3, latt_size[3], latt_size[2], latt_size[1], latt_size[0],\n",
    "                dtype=dtype, device=device)\n",
    "U_eo = xxxtzyx2pxxxtzyx(input_array=U)\n",
    "clover_eo = xxxtzyx2pxxxtzyx(input_array=clover.add_I(\n",
    "    clover=clover_term))  # to make sitting term\n",
    "verbose = True"
   ]
  },
  {
   "cell_type": "code",
   "execution_count": 2,
   "id": "948d0e35",
   "metadata": {},
   "outputs": [
    {
     "name": "stdout",
     "output_type": "stream",
     "text": [
      "self.dof_list:[12, 12, 12, 12, 8, 8, 4, 12, 12, 12, 8, 4, 2, 4, 4, 24, 12, 12, 12, 4, 4, 4, 4, 4]\n",
      "Building grid list:\n",
      "  Level 0: 8x8x8x8\n",
      "self.grid_list:[[8, 8, 8, 8]]\n"
     ]
    }
   ],
   "source": [
    "from pyqcu.ascend import inverse\n",
    "mg = inverse.mg(b=b, wilson=wilson, U_eo=U_eo,\n",
    "                clover=clover, clover_eo=clover_eo, verbose=verbose, max_iter=20, max_restarts=5, max_levels=1)"
   ]
  },
  {
   "cell_type": "code",
   "execution_count": 3,
   "id": "a539838b",
   "metadata": {},
   "outputs": [
    {
     "name": "stdout",
     "output_type": "stream",
     "text": [
      "221.70250336881628\n",
      "10.363258475419128\n",
      "247.13554799525608\n",
      "247.13554799525608\n",
      "1.5414528028395646e-16\n"
     ]
    }
   ],
   "source": [
    "def matvec(src: torch.Tensor, U: torch.Tensor = U, clover_term: torch.Tensor = clover_term) -> torch.Tensor:\n",
    "    return wilson.give_wilson(src, U)+clover.give_clover(clover=clover_term, src=src)\n",
    "\n",
    "\n",
    "def _matvec(src: torch.Tensor) -> torch.Tensor:\n",
    "    return mg.op_list[0].matvec(src=src)\n",
    "\n",
    "\n",
    "Ab = matvec(b)\n",
    "_Ab = _matvec(b)\n",
    "print(torch.norm(U).item())\n",
    "print(torch.norm(clover_term).item())\n",
    "print(torch.norm(Ab).item())\n",
    "print(torch.norm(_Ab).item())\n",
    "print(torch.norm(Ab-_Ab).item()/torch.norm(_Ab).item())"
   ]
  },
  {
   "cell_type": "code",
   "execution_count": null,
   "id": "ff5274d1",
   "metadata": {},
   "outputs": [],
   "source": [
    "# b0 = mg.b_list[0]\n",
    "# b1 = inverse.restrict(\n",
    "#     local_ortho_null_vecs=mg.lonv_list[0], fine_vec=b0)\n",
    "# _b0 = inverse.prolong(local_ortho_null_vecs=mg.lonv_list[0], coarse_vec=b1)\n",
    "# _b1 = inverse.restrict(\n",
    "#     local_ortho_null_vecs=mg.lonv_list[0], fine_vec=_b0)\n",
    "# print(_b1.flatten()[:100]/b1.flatten()[:100])"
   ]
  },
  {
   "cell_type": "code",
   "execution_count": 4,
   "id": "8542fa80",
   "metadata": {},
   "outputs": [
    {
     "name": "stdout",
     "output_type": "stream",
     "text": [
      "Norm of b:221.3797633073902\n",
      "Norm of r:333.68212713114946\n",
      "Norm of x0:222.09112893478067\n",
      "BICGSTAB:Iteration 0: Residual = 6.894775e+01, Time = 0.028545 s\n",
      "BICGSTAB:Iteration 1: Residual = 2.909938e+01, Time = 0.028491 s\n",
      "BICGSTAB:Iteration 2: Residual = 2.893869e+01, Time = 0.028320 s\n",
      "BICGSTAB:Iteration 3: Residual = 1.581193e+01, Time = 0.029369 s\n",
      "BICGSTAB:Iteration 4: Residual = 9.377981e+00, Time = 0.028258 s\n",
      "BICGSTAB:Iteration 5: Residual = 1.055797e+01, Time = 0.028286 s\n",
      "BICGSTAB:Iteration 6: Residual = 4.913920e+00, Time = 0.029238 s\n",
      "BICGSTAB:Iteration 7: Residual = 3.502029e+00, Time = 0.029557 s\n",
      "BICGSTAB:Iteration 8: Residual = 6.461272e+00, Time = 0.028415 s\n",
      "BICGSTAB:Iteration 9: Residual = 2.141399e+00, Time = 0.027576 s\n",
      "BICGSTAB:Iteration 10: Residual = 2.356480e+00, Time = 0.026543 s\n",
      "BICGSTAB:Iteration 11: Residual = 2.313522e+00, Time = 0.027061 s\n",
      "BICGSTAB:Iteration 12: Residual = 9.584948e+00, Time = 0.026338 s\n",
      "BICGSTAB:Iteration 13: Residual = 4.237095e+00, Time = 0.026318 s\n",
      "BICGSTAB:Iteration 14: Residual = 6.729835e+00, Time = 0.027046 s\n",
      "BICGSTAB:Iteration 15: Residual = 3.708768e+00, Time = 0.031283 s\n",
      "BICGSTAB:Iteration 16: Residual = 2.596795e+00, Time = 0.026190 s\n",
      "BICGSTAB:Iteration 17: Residual = 1.886102e+00, Time = 0.027062 s\n",
      "BICGSTAB:Iteration 18: Residual = 1.163345e+00, Time = 0.025974 s\n",
      "BICGSTAB:Iteration 19: Residual = 7.138477e-01, Time = 0.029570 s\n",
      "BICGSTAB:Iteration 20: Residual = 5.458523e-01, Time = 0.025948 s\n",
      "BICGSTAB:Iteration 21: Residual = 6.485631e-01, Time = 0.026242 s\n",
      "BICGSTAB:Iteration 22: Residual = 4.283862e-01, Time = 0.026787 s\n",
      "BICGSTAB:Iteration 23: Residual = 3.902853e-01, Time = 0.026775 s\n",
      "BICGSTAB:Iteration 24: Residual = 3.345918e-01, Time = 0.026643 s\n",
      "BICGSTAB:Iteration 25: Residual = 3.367202e-01, Time = 0.026212 s\n",
      "BICGSTAB:Iteration 26: Residual = 1.511075e-01, Time = 0.027510 s\n",
      "BICGSTAB:Iteration 27: Residual = 1.065237e+00, Time = 0.029095 s\n",
      "BICGSTAB:Iteration 28: Residual = 2.325568e-01, Time = 0.028257 s\n",
      "BICGSTAB:Iteration 29: Residual = 1.513061e-01, Time = 0.027682 s\n",
      "BICGSTAB:Iteration 30: Residual = 2.587665e-01, Time = 0.028844 s\n",
      "BICGSTAB:Iteration 31: Residual = 7.284359e-02, Time = 0.028461 s\n",
      "BICGSTAB:Iteration 32: Residual = 1.583315e-02, Time = 0.027402 s\n",
      "BICGSTAB:Iteration 33: Residual = 3.631346e-02, Time = 0.027579 s\n",
      "BICGSTAB:Iteration 34: Residual = 1.144797e-02, Time = 0.027698 s\n",
      "BICGSTAB:Iteration 35: Residual = 9.819549e-03, Time = 0.027362 s\n",
      "BICGSTAB:Iteration 36: Residual = 8.975790e-03, Time = 0.027679 s\n",
      "BICGSTAB:Iteration 37: Residual = 6.413932e-03, Time = 0.027831 s\n",
      "BICGSTAB:Iteration 38: Residual = 1.342073e-02, Time = 0.027515 s\n",
      "BICGSTAB:Iteration 39: Residual = 4.166069e-03, Time = 0.027596 s\n",
      "BICGSTAB:Iteration 40: Residual = 3.696680e-03, Time = 0.027833 s\n",
      "BICGSTAB:Iteration 41: Residual = 3.608297e-03, Time = 0.028000 s\n",
      "BICGSTAB:Iteration 42: Residual = 5.040178e-03, Time = 0.027651 s\n",
      "BICGSTAB:Iteration 43: Residual = 5.658965e-03, Time = 0.027672 s\n",
      "BICGSTAB:Iteration 44: Residual = 3.864634e-03, Time = 0.027789 s\n",
      "BICGSTAB:Iteration 45: Residual = 3.395890e-03, Time = 0.027793 s\n",
      "BICGSTAB:Iteration 46: Residual = 3.041643e-03, Time = 0.027986 s\n",
      "BICGSTAB:Iteration 47: Residual = 4.872219e-03, Time = 0.027977 s\n",
      "BICGSTAB:Iteration 48: Residual = 1.525849e-03, Time = 0.028092 s\n",
      "BICGSTAB:Iteration 49: Residual = 1.304276e-03, Time = 0.027541 s\n",
      "BICGSTAB:Iteration 50: Residual = 1.223266e-03, Time = 0.027797 s\n",
      "BICGSTAB:Iteration 51: Residual = 1.505191e-03, Time = 0.027840 s\n",
      "BICGSTAB:Iteration 52: Residual = 5.976704e-03, Time = 0.027273 s\n",
      "BICGSTAB:Iteration 53: Residual = 3.221123e-03, Time = 0.027594 s\n",
      "BICGSTAB:Iteration 54: Residual = 1.011055e-03, Time = 0.027459 s\n",
      "BICGSTAB:Iteration 55: Residual = 5.364531e-05, Time = 0.027925 s\n",
      "BICGSTAB:Iteration 56: Residual = 4.827449e-05, Time = 0.027567 s\n",
      "BICGSTAB:Iteration 57: Residual = 4.190412e-05, Time = 0.027367 s\n",
      "BICGSTAB:Iteration 58: Residual = 3.569327e-05, Time = 0.027560 s\n",
      "BICGSTAB:Iteration 59: Residual = 5.883478e-05, Time = 0.027873 s\n",
      "BICGSTAB:Iteration 60: Residual = 2.608962e-05, Time = 0.027526 s\n",
      "BICGSTAB:Iteration 61: Residual = 2.308955e-05, Time = 0.027592 s\n",
      "BICGSTAB:Iteration 62: Residual = 1.969095e-05, Time = 0.027665 s\n",
      "BICGSTAB:Iteration 63: Residual = 1.808119e-05, Time = 0.027735 s\n",
      "BICGSTAB:Iteration 64: Residual = 1.556118e-05, Time = 0.027757 s\n",
      "BICGSTAB:Iteration 65: Residual = 2.630733e-05, Time = 0.027932 s\n",
      "BICGSTAB:Iteration 66: Residual = 1.193637e-05, Time = 0.027668 s\n",
      "BICGSTAB:Iteration 67: Residual = 1.085388e-05, Time = 0.027737 s\n",
      "BICGSTAB:Iteration 68: Residual = 1.019869e-05, Time = 0.027747 s\n",
      "BICGSTAB:Iteration 69: Residual = 8.086035e-06, Time = 0.027399 s\n",
      "BICGSTAB:Iteration 70: Residual = 6.842146e-06, Time = 0.027953 s\n",
      "BICGSTAB:Iteration 71: Residual = 5.962354e-06, Time = 0.028228 s\n",
      "BICGSTAB:Iteration 72: Residual = 5.414843e-06, Time = 0.027474 s\n",
      "BICGSTAB:Iteration 73: Residual = 4.827526e-06, Time = 0.027894 s\n",
      "BICGSTAB:Iteration 74: Residual = 4.451731e-06, Time = 0.027721 s\n",
      "BICGSTAB:Iteration 75: Residual = 4.123483e-06, Time = 0.027404 s\n",
      "BICGSTAB:Iteration 76: Residual = 4.633299e-06, Time = 0.027523 s\n",
      "BICGSTAB:Iteration 77: Residual = 2.232214e-06, Time = 0.027821 s\n",
      "BICGSTAB:Iteration 78: Residual = 3.505040e-07, Time = 0.027804 s\n",
      "Converged at iteration 78 with residual 3.505040e-07\n",
      "\n",
      "Performance Statistics:\n",
      "Total iterations: 79\n",
      "Total time: 2.195807 seconds\n",
      "Average time per iteration: 0.027718 s\n",
      "Final residual: 3.51e-07\n"
     ]
    }
   ],
   "source": [
    "# _x = inverse.cg(b=b, matvec=matvec, verbose=verbose)\n",
    "_x = inverse.bicgstab(b=b, matvec=matvec, verbose=verbose)\n",
    "# _x = inverse.bicgstab(b=b, matvec=mg.op_list[0].matvec, verbose=verbose)"
   ]
  },
  {
   "cell_type": "code",
   "execution_count": null,
   "id": "84b8331d",
   "metadata": {},
   "outputs": [],
   "source": [
    "x = mg.solve()\n",
    "mg.plot()"
   ]
  },
  {
   "cell_type": "code",
   "execution_count": null,
   "id": "cb57e606",
   "metadata": {},
   "outputs": [],
   "source": [
    "print(torch.norm(x-_x).item()/torch.norm(_x).item())"
   ]
  },
  {
   "cell_type": "code",
   "execution_count": null,
   "id": "b6ce653f",
   "metadata": {},
   "outputs": [],
   "source": [
    "mg.b_list[-1].flatten()[:100]"
   ]
  }
 ],
 "metadata": {
  "kernelspec": {
   "display_name": "Python 3",
   "language": "python",
   "name": "python3"
  },
  "language_info": {
   "codemirror_mode": {
    "name": "ipython",
    "version": 3
   },
   "file_extension": ".py",
   "mimetype": "text/x-python",
   "name": "python",
   "nbconvert_exporter": "python",
   "pygments_lexer": "ipython3",
   "version": "3.10.12"
  }
 },
 "nbformat": 4,
 "nbformat_minor": 5
}
