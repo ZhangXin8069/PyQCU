{
 "cells": [
  {
   "cell_type": "code",
   "execution_count": 1,
   "id": "f446a305",
   "metadata": {},
   "outputs": [
    {
     "name": "stdout",
     "output_type": "stream",
     "text": [
      "\n",
      "    @@@@@@######QCU NOTES START######@@@@@@@\n",
      "    Guide:\n",
      "    0. Required: MPI(e.g. 4.1.2), CUDA(e.g. 12.4), CMAKE(e.g. 3.22.1), GCC(e.g. 11.4.0), HDF5-MPI(e.g. 1.10.7,'apt install libhdf5-mpi-dev && export HDF5_MPI=\"ON\" && pip install --no-binary=h5py h5py').\n",
      "    1. The libqcu.so was compiled when pyqcu setup in download_path/PyQCU/lib, please add this path to your LD_LIBRARY_PATH.\n",
      "    2. The QCU(PyQCU) splite grid by x->y->z->t, lattice by x->y->z->t->p->d->c->c or x->y->z->t->c->s(->p) and x->y->z->t->c->s->c->s(->p).\n",
      "    3. The QUDA(PyQUDA) splite grid by t->z->y->x, lattice by c->c->x->y->z->t->p->d or c->s->x->y->z->t(->p) and c->s->c->s->x->y->z->t(->p).\n",
      "    4. The QCU input params in numpy array(dtype=np.int32), argv in  numpy array(dtype=np.float32 or float64) array, set_ptrs in numpy array(dtype=np.int64), other in cupy array(dtype=cp.complex64 or complex128).\n",
      "    5. The smallest lattice size is (wilson:x=4,y=4,z=4,t=4;clover:x=8,y=8,z=8,t=8) that QCU support (when '#define _BLOCK_SIZE_ 32 // for test small lattice').\n",
      "    References:\n",
      "    [0] 刘川. 格点量子色动力学导论. 北京大学出版社, 2017.07.\n",
      "    [1] 蒋翔宇. 轻强子性质的格点QCD研究. 中国科学院高能物理研究所, 2023.06.\n",
      "    [2] Babich R, Clark M A, Joó B. Parallelizing the QUDA library for multi-GPU calculations in lattice quantum chromodynamics[C]//SC'10: Proceedings of the 2010 ACM/IEEE International Conference for High Performance Computing, Networking, Storage and Analysis. IEEE, 2010.01.11.\n",
      "    [3] M. Rottmann. Adaptive domain decomposition multigrid for lattice QCD, Ph.D. thesis, Wuppertal, Univ., Diss., 2016.\n",
      "    [4] Brower R C, Clark M A, Weinberg E, et al. Multigrid for chiral lattice fermions: Domain wall[J]. Physical Review D, 2020.\n",
      "    @@@@@@######QCU NOTES END######@@@@@@@\n",
      "    \n",
      "Using device: cuda\n"
     ]
    }
   ],
   "source": [
    "import torch\n",
    "from pyqcu.ascend import dslash\n",
    "from pyqcu.ascend.include import *\n",
    "# latt_size = (32, 32, 32, 32)\n",
    "# latt_size = (32, 32, 16, 16)\n",
    "# latt_size = (16, 16, 16, 32)\n",
    "latt_size = (16, 16, 16, 16)\n",
    "# latt_size = (32, 32, 32, 32)\n",
    "# latt_size = (32, 32, 32, 64)\n",
    "# latt_size = (4, 8, 8, 8)\n",
    "# latt_size = (8, 8, 8, 4)\n",
    "# latt_size = (16, 8, 8, 8)\n",
    "# latt_size = (8, 8, 16, 16)\n",
    "# latt_size = (8, 8, 8, 8)\n",
    "# latt_size = (4, 4, 4, 4)\n",
    "# mass = -3.5\n",
    "# mass = -0.8\n",
    "# mass = -0.5\n",
    "mass = 0.05\n",
    "mass = 0.0\n",
    "mass = -0.05\n",
    "# kappa = 0.4\n",
    "# kappa = 0.125\n",
    "# kappa = 0.5\n",
    "kappa = 1 / (2 * mass + 8)\n",
    "dtype = torch.complex128\n",
    "# dtype = torch.complex64\n",
    "device = torch.device('cuda' if torch.cuda.is_available() else 'cpu')\n",
    "print(f\"Using device: {device}\")\n",
    "# Initialize lattice gauge theory\n",
    "wilson = dslash.wilson(\n",
    "    latt_size=latt_size,\n",
    "    kappa=kappa,\n",
    "    dtype=dtype,\n",
    "    device=device,\n",
    "    verbose=False\n",
    ")\n",
    "clover = dslash.clover(\n",
    "    latt_size=latt_size,\n",
    "    kappa=kappa,\n",
    "    dtype=dtype,\n",
    "    device=device,\n",
    "    verbose=False\n",
    ")\n",
    "U = wilson.generate_gauge_field(sigma=0.1, seed=42)\n",
    "\n",
    "wilson.check_su3(U)\n",
    "clover_term = clover.make_clover(U=U)\n",
    "\n",
    "b = torch.randn(4, 3, latt_size[3], latt_size[2], latt_size[1], latt_size[0],\n",
    "                dtype=dtype, device=device)\n",
    "verbose = True"
   ]
  },
  {
   "cell_type": "code",
   "execution_count": 2,
   "id": "948d0e35",
   "metadata": {},
   "outputs": [
    {
     "name": "stdout",
     "output_type": "stream",
     "text": [
      "self.dof_list:[12, 12, 12, 12, 8, 8, 4, 12, 12, 12, 8, 4, 2, 4, 4, 24, 12, 12, 12, 4, 4, 4, 4, 4]\n",
      "Building grid list:\n",
      "  Level 0: 32x32x16x16\n",
      "self.grid_list:[[16, 16, 32, 32]]\n"
     ]
    }
   ],
   "source": [
    "from pyqcu.ascend import inverse\n",
    "mg = inverse.mg(b=b, wilson=wilson, U=U,\n",
    "                clover=clover, clover_term=clover.add_I(clover_term=clover_term), verbose=verbose, max_iter=20, max_restarts=5, max_levels=1)"
   ]
  },
  {
   "cell_type": "code",
   "execution_count": 34,
   "id": "a539838b",
   "metadata": {},
   "outputs": [
    {
     "name": "stdout",
     "output_type": "stream",
     "text": [
      "CPU times: user 5.14 ms, sys: 0 ns, total: 5.14 ms\n",
      "Wall time: 4.07 ms\n",
      "CPU times: user 3.03 ms, sys: 0 ns, total: 3.03 ms\n",
      "Wall time: 2.79 ms\n",
      "1773.6200269505302\n",
      "85.35483652791633\n",
      "1989.3860972653238\n",
      "1989.3860972653238\n",
      "1.5372166177825714e-16\n",
      "CPU times: user 3.36 s, sys: 0 ns, total: 3.36 s\n",
      "Wall time: 3.35 s\n"
     ]
    }
   ],
   "source": [
    "%%time\n",
    "\n",
    "def matvec(src: torch.Tensor, U: torch.Tensor = U, clover_term: torch.Tensor = clover_term) -> torch.Tensor:\n",
    "    return wilson.give_wilson(src, U)+clover.give_clover(clover_term=clover_term, src=src)\n",
    "\n",
    "\n",
    "def _matvec(src: torch.Tensor) -> torch.Tensor:\n",
    "    return mg.op_list[0].matvec(src=src)\n",
    "\n",
    "%time Ab = matvec(b)\n",
    "%time _Ab = _matvec(b)\n",
    "print(torch.norm(U).item())\n",
    "print(torch.norm(clover_term).item())\n",
    "print(torch.norm(Ab).item())\n",
    "print(torch.norm(_Ab).item())\n",
    "print(torch.norm(Ab-_Ab).item()/torch.norm(_Ab).item())"
   ]
  },
  {
   "cell_type": "code",
   "execution_count": 33,
   "id": "f6aebc87",
   "metadata": {},
   "outputs": [
    {
     "name": "stdout",
     "output_type": "stream",
     "text": [
      "CPU times: user 3.99 ms, sys: 0 ns, total: 3.99 ms\n",
      "Wall time: 3.25 ms\n",
      "CPU times: user 2.56 ms, sys: 0 ns, total: 2.56 ms\n",
      "Wall time: 2.41 ms\n"
     ]
    }
   ],
   "source": [
    "%time Ab = matvec(b)\n",
    "%time _Ab = _matvec(b)"
   ]
  },
  {
   "cell_type": "code",
   "execution_count": 5,
   "id": "ff5274d1",
   "metadata": {},
   "outputs": [],
   "source": [
    "# b0 = mg.b_list[0]\n",
    "# b1 = inverse.restrict(\n",
    "#     local_ortho_null_vecs=mg.lonv_list[0], fine_vec=b0)\n",
    "# _b0 = inverse.prolong(local_ortho_null_vecs=mg.lonv_list[0], coarse_vec=b1)\n",
    "# _b1 = inverse.restrict(\n",
    "#     local_ortho_null_vecs=mg.lonv_list[0], fine_vec=_b0)\n",
    "# print(_b1.flatten()[:100]/b1.flatten()[:100])"
   ]
  },
  {
   "cell_type": "code",
   "execution_count": 6,
   "id": "8542fa80",
   "metadata": {},
   "outputs": [
    {
     "name": "stdout",
     "output_type": "stream",
     "text": [
      "Norm of b:887.1781621292079\n",
      "Norm of r:1332.8839838216686\n",
      "Norm of x0:886.2189203208331\n",
      "BICGSTAB-Iteration 0: Residual = 2.884216e+02, Time = 0.429446 s\n",
      "BICGSTAB-Iteration 1: Residual = 1.241411e+02, Time = 0.428128 s\n",
      "BICGSTAB-Iteration 2: Residual = 1.252450e+02, Time = 0.426886 s\n",
      "BICGSTAB-Iteration 3: Residual = 8.451741e+01, Time = 0.427186 s\n",
      "BICGSTAB-Iteration 4: Residual = 5.338513e+01, Time = 0.426374 s\n",
      "BICGSTAB-Iteration 5: Residual = 5.041762e+01, Time = 0.427881 s\n",
      "BICGSTAB-Iteration 6: Residual = 3.189633e+01, Time = 0.429024 s\n",
      "BICGSTAB-Iteration 7: Residual = 2.583369e+01, Time = 0.431202 s\n",
      "BICGSTAB-Iteration 8: Residual = 2.210261e+01, Time = 0.429054 s\n",
      "BICGSTAB-Iteration 9: Residual = 2.146068e+02, Time = 0.414853 s\n",
      "BICGSTAB-Iteration 10: Residual = 9.271055e+01, Time = 0.430533 s\n",
      "BICGSTAB-Iteration 11: Residual = 1.636268e+02, Time = 0.430858 s\n",
      "BICGSTAB-Iteration 12: Residual = 2.552070e+01, Time = 0.429450 s\n",
      "BICGSTAB-Iteration 13: Residual = 1.510602e+01, Time = 0.431134 s\n",
      "BICGSTAB-Iteration 14: Residual = 1.517401e+01, Time = 0.435887 s\n",
      "BICGSTAB-Iteration 15: Residual = 2.382208e+01, Time = 0.434839 s\n",
      "BICGSTAB-Iteration 16: Residual = 2.216271e+01, Time = 0.433625 s\n",
      "BICGSTAB-Iteration 17: Residual = 2.438177e+01, Time = 0.430660 s\n",
      "BICGSTAB-Iteration 18: Residual = 1.875107e+01, Time = 0.433008 s\n",
      "BICGSTAB-Iteration 19: Residual = 1.862823e+01, Time = 0.432023 s\n",
      "BICGSTAB-Iteration 20: Residual = 1.783794e+01, Time = 0.433448 s\n",
      "BICGSTAB-Iteration 21: Residual = 1.711241e+01, Time = 0.433577 s\n",
      "BICGSTAB-Iteration 22: Residual = 1.774424e+01, Time = 0.433691 s\n",
      "BICGSTAB-Iteration 23: Residual = 1.520799e+01, Time = 0.432910 s\n",
      "BICGSTAB-Iteration 24: Residual = 1.542326e+01, Time = 0.433653 s\n",
      "BICGSTAB-Iteration 25: Residual = 1.412275e+01, Time = 0.433111 s\n",
      "BICGSTAB-Iteration 26: Residual = 1.332580e+01, Time = 0.435473 s\n",
      "BICGSTAB-Iteration 27: Residual = 1.455250e+01, Time = 0.434184 s\n",
      "BICGSTAB-Iteration 28: Residual = 1.876526e+01, Time = 0.434760 s\n",
      "BICGSTAB-Iteration 29: Residual = 4.288115e+01, Time = 0.432445 s\n",
      "BICGSTAB-Iteration 30: Residual = 1.702249e+01, Time = 0.437914 s\n"
     ]
    },
    {
     "ename": "KeyboardInterrupt",
     "evalue": "",
     "output_type": "error",
     "traceback": [
      "\u001b[0;31m---------------------------------------------------------------------------\u001b[0m",
      "\u001b[0;31mKeyboardInterrupt\u001b[0m                         Traceback (most recent call last)",
      "Cell \u001b[0;32mIn[6], line 2\u001b[0m\n\u001b[1;32m      1\u001b[0m \u001b[38;5;66;03m# _x = inverse.cg(b=b, matvec=matvec, verbose=verbose)\u001b[39;00m\n\u001b[0;32m----> 2\u001b[0m _x \u001b[38;5;241m=\u001b[39m \u001b[43minverse\u001b[49m\u001b[38;5;241;43m.\u001b[39;49m\u001b[43mbicgstab\u001b[49m\u001b[43m(\u001b[49m\u001b[43mb\u001b[49m\u001b[38;5;241;43m=\u001b[39;49m\u001b[43mb\u001b[49m\u001b[43m,\u001b[49m\u001b[43m \u001b[49m\u001b[43mmatvec\u001b[49m\u001b[38;5;241;43m=\u001b[39;49m\u001b[43mmatvec\u001b[49m\u001b[43m,\u001b[49m\u001b[43m \u001b[49m\u001b[43mverbose\u001b[49m\u001b[38;5;241;43m=\u001b[39;49m\u001b[43mverbose\u001b[49m\u001b[43m)\u001b[49m\n\u001b[1;32m      3\u001b[0m \u001b[38;5;66;03m# _x = inverse.bicgstab(b=b, matvec=mg.op_list[0].matvec, verbose=verbose)\u001b[39;00m\n",
      "File \u001b[0;32m~/PyQCU/test/pyqcu/ascend/inverse.py:122\u001b[0m, in \u001b[0;36mbicgstab\u001b[0;34m(b, matvec, tol, max_iter, x0, verbose)\u001b[0m\n\u001b[1;32m    120\u001b[0m x \u001b[38;5;241m=\u001b[39m x \u001b[38;5;241m+\u001b[39m alpha \u001b[38;5;241m*\u001b[39m p \u001b[38;5;241m+\u001b[39m omega \u001b[38;5;241m*\u001b[39m s\n\u001b[1;32m    121\u001b[0m r \u001b[38;5;241m=\u001b[39m s \u001b[38;5;241m-\u001b[39m omega \u001b[38;5;241m*\u001b[39m t\n\u001b[0;32m--> 122\u001b[0m r_norm \u001b[38;5;241m=\u001b[39m \u001b[43mtorch\u001b[49m\u001b[38;5;241;43m.\u001b[39;49m\u001b[43mnorm\u001b[49m\u001b[43m(\u001b[49m\u001b[43mr\u001b[49m\u001b[43m)\u001b[49m\u001b[38;5;241;43m.\u001b[39;49m\u001b[43mitem\u001b[49m\u001b[43m(\u001b[49m\u001b[43m)\u001b[49m\n\u001b[1;32m    123\u001b[0m iter_time \u001b[38;5;241m=\u001b[39m perf_counter() \u001b[38;5;241m-\u001b[39m iter_start_time\n\u001b[1;32m    124\u001b[0m iter_times\u001b[38;5;241m.\u001b[39mappend(iter_time)\n",
      "\u001b[0;31mKeyboardInterrupt\u001b[0m: "
     ]
    }
   ],
   "source": [
    "# _x = inverse.cg(b=b, matvec=matvec, verbose=verbose)\n",
    "_x = inverse.bicgstab(b=b, matvec=matvec, verbose=verbose)\n",
    "# _x = inverse.bicgstab(b=b, matvec=mg.op_list[0].matvec, verbose=verbose)"
   ]
  },
  {
   "cell_type": "code",
   "execution_count": null,
   "id": "84b8331d",
   "metadata": {},
   "outputs": [],
   "source": [
    "x = mg.solve()\n",
    "mg.plot()"
   ]
  },
  {
   "cell_type": "code",
   "execution_count": null,
   "id": "a6f6bbe0",
   "metadata": {},
   "outputs": [],
   "source": [
    "index = -1\n",
    "mg.u_list[-1] = inverse.bicgstab(b=torch.ones_like(mg.b_list[-1]),\n",
    "                                 matvec=mg.op_list[-1].matvec, verbose=verbose,max_iter=10000)"
   ]
  },
  {
   "cell_type": "code",
   "execution_count": null,
   "id": "cb57e606",
   "metadata": {},
   "outputs": [],
   "source": [
    "print(torch.norm(x-_x).item()/torch.norm(_x).item())"
   ]
  },
  {
   "cell_type": "code",
   "execution_count": null,
   "id": "b6ce653f",
   "metadata": {},
   "outputs": [],
   "source": [
    "mg.b_list[-1].flatten()[:100]"
   ]
  }
 ],
 "metadata": {
  "kernelspec": {
   "display_name": "Python 3",
   "language": "python",
   "name": "python3"
  },
  "language_info": {
   "codemirror_mode": {
    "name": "ipython",
    "version": 3
   },
   "file_extension": ".py",
   "mimetype": "text/x-python",
   "name": "python",
   "nbconvert_exporter": "python",
   "pygments_lexer": "ipython3",
   "version": "3.10.12"
  }
 },
 "nbformat": 4,
 "nbformat_minor": 5
}
