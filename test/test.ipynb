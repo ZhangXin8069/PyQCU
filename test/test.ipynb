{
 "cells": [
  {
   "cell_type": "code",
   "execution_count": null,
   "id": "88581d44",
   "metadata": {},
   "outputs": [
    {
     "name": "stdout",
     "output_type": "stream",
     "text": [
      "3600 -> (6, 6, 10, 10), product = 3600\n",
      "2310 -> (5, 6, 7, 11), product = 2310\n",
      "1000000 -> (25, 25, 40, 40), product = 1000000\n",
      "9973 -> (1, 1, 1, 9973), product = 9973\n",
      "128 -> (2, 4, 4, 4), product = 128\n"
     ]
    }
   ],
   "source": [
    "import numpy as np\n",
    "\n",
    "\n",
    "def prime_factorization(n: int):\n",
    "    \"\"\"Return the prime factorization of n as a list (using numpy only).\"\"\"\n",
    "    factors = []\n",
    "    d = 2\n",
    "    while d * d <= n:\n",
    "        while n % d == 0:\n",
    "            factors.append(d)\n",
    "            n //= d\n",
    "        d += 1\n",
    "    if n > 1:\n",
    "        factors.append(n)\n",
    "    return factors\n",
    "\n",
    "\n",
    "def split_into_four_factors(N: int):\n",
    "    \"\"\"\n",
    "    Split integer N into 4 factors that are as close as possible in size.\n",
    "    Uses numpy only.\n",
    "    \"\"\"\n",
    "    if N <= 0:\n",
    "        raise ValueError(\"N must be positive\")\n",
    "\n",
    "    # Step 1: prime factors\n",
    "    factors = prime_factorization(N)\n",
    "\n",
    "    # Step 2: initialize four groups\n",
    "    groups = np.ones(4, dtype=int)\n",
    "\n",
    "    # Step 3: distribute factors greedily (largest first)\n",
    "    for f in sorted(factors, reverse=True):\n",
    "        idx = np.argmin(groups)   # index of smallest product\n",
    "        groups[idx] *= f\n",
    "\n",
    "    return tuple(sorted(groups.tolist()))\n",
    "\n",
    "\n",
    "# =========================\n",
    "# Example usage\n",
    "# =========================\n",
    "if __name__ == \"__main__\":\n",
    "    test_numbers = [3600, 2310, 10**6, 9973, 128]\n",
    "\n",
    "    for n in test_numbers:\n",
    "        factors = split_into_four_factors(n)\n",
    "        print(f\"{n} -> {factors}, product = {np.prod(factors)}\")"
   ]
  }
 ],
 "metadata": {
  "kernelspec": {
   "display_name": "Python 3",
   "language": "python",
   "name": "python3"
  },
  "language_info": {
   "codemirror_mode": {
    "name": "ipython",
    "version": 3
   },
   "file_extension": ".py",
   "mimetype": "text/x-python",
   "name": "python",
   "nbconvert_exporter": "python",
   "pygments_lexer": "ipython3",
   "version": "3.10.12"
  }
 },
 "nbformat": 4,
 "nbformat_minor": 5
}
