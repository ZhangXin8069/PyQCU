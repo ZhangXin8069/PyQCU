{
 "cells": [
  {
   "cell_type": "code",
   "execution_count": null,
   "id": "f446a305",
   "metadata": {},
   "outputs": [],
   "source": [
    "import torch\n",
    "from pyqcu.ascend import dslash\n",
    "from pyqcu.ascend.include import *\n",
    "# latt_size = (32, 32, 32, 32)\n",
    "# latt_size = (32, 32, 16, 16)\n",
    "# latt_size = (16, 16, 16, 32)\n",
    "# latt_size = (16, 16, 16, 16)\n",
    "# latt_size = (32, 32, 32, 32)\n",
    "# latt_size = (32, 32, 32, 64)\n",
    "# latt_size = (4, 8, 8, 8)\n",
    "# latt_size = (8, 8, 8, 4)\n",
    "# latt_size = (16, 8, 8, 8)\n",
    "latt_size = (8, 8, 8, 16)\n",
    "# latt_size = (8, 8, 8, 8)\n",
    "# latt_size = (4, 4, 4, 4)\n",
    "# latt_size = (2, 2, 2, 2)\n",
    "# mass = -3.5\n",
    "# mass = -0.8\n",
    "# mass = -0.5\n",
    "# mass = 0.05\n",
    "# mass = 0.0\n",
    "mass = -0.05\n",
    "# kappa = 0.4\n",
    "# kappa = 0.125\n",
    "# kappa = 0.5\n",
    "kappa = 1 / (2 * mass + 8)\n",
    "dtype = torch.complex128\n",
    "# dtype = torch.complex64\n",
    "device = torch.device('cuda' if torch.cuda.is_available() else 'cpu')\n",
    "print(f\"Using device: {device}\")\n",
    "# Initialize lattice gauge theory\n",
    "wilson = dslash.wilson_mg(\n",
    "    latt_size=latt_size,\n",
    "    kappa=kappa,\n",
    "    dtype=dtype,\n",
    "    device=device,\n",
    "    verbose=False\n",
    ")\n",
    "clover = dslash.clover(\n",
    "    latt_size=latt_size,\n",
    "    kappa=kappa,\n",
    "    dtype=dtype,\n",
    "    device=device,\n",
    "    verbose=False\n",
    ")\n",
    "U = wilson.generate_gauge_field(sigma=0.1, seed=42)\n",
    "\n",
    "wilson.check_su3(U)\n",
    "clover_term = clover.make_clover(U=U)\n",
    "\n",
    "b = torch.randn(4, 3, latt_size[3], latt_size[2], latt_size[1], latt_size[0],\n",
    "                dtype=dtype, device=device)\n",
    "verbose = True"
   ]
  },
  {
   "cell_type": "code",
   "execution_count": null,
   "id": "8896659f",
   "metadata": {},
   "outputs": [],
   "source": [
    "hopping_plus_list = []\n",
    "hopping_minus_list = []\n",
    "for ward in range(4):\n",
    "    hopping_plus_list.append(wilson.give_hopping_plus(ward=ward, U=U))\n",
    "    hopping_minus_list.append(wilson.give_hopping_minus(ward=ward, U=U))\n",
    "Ab = wilson.give_wilson(src=b, U=U, with_I=False)\n",
    "_Ab = torch.zeros_like(b)\n",
    "for ward in range(4):\n",
    "    _Ab += wilson.give_wilson_plus(ward=ward, src=b.reshape(\n",
    "        [12]+list(U.shape[-4:])), hopping=hopping_plus_list[ward]).reshape([4, 3]+list(U.shape[-4:]))\n",
    "    _Ab += wilson.give_wilson_minus(ward=ward, src=b.reshape(\n",
    "        [12]+list(U.shape[-4:])), hopping=hopping_minus_list[ward]).reshape([4, 3]+list(U.shape[-4:]))\n",
    "print(torch.norm(Ab-_Ab).item()/torch.norm(Ab).item())"
   ]
  },
  {
   "cell_type": "code",
   "execution_count": null,
   "id": "948d0e35",
   "metadata": {},
   "outputs": [],
   "source": [
    "from pyqcu.ascend import inverse\n",
    "mg = inverse.mg(b=b, wilson=wilson, U=U,\n",
    "                clover=clover, clover_term=clover.add_I(clover_term=clover_term), verbose=verbose, max_iter=100, max_levels=2)"
   ]
  },
  {
   "cell_type": "code",
   "execution_count": null,
   "id": "c4e8df38",
   "metadata": {},
   "outputs": [],
   "source": [
    "def matvec(src: torch.Tensor, U: torch.Tensor = U, clover_term: torch.Tensor = clover_term) -> torch.Tensor:\n",
    "    return wilson.give_wilson(src, U)+clover.give_clover(clover_term=clover_term, src=src)\n",
    "\n",
    "\n",
    "def _matvec(src: torch.Tensor) -> torch.Tensor:\n",
    "    return mg.op_list[0].matvec(src=src)"
   ]
  },
  {
   "cell_type": "code",
   "execution_count": null,
   "id": "a539838b",
   "metadata": {},
   "outputs": [],
   "source": [
    "%%time\n",
    "%time Ab = matvec(b)\n",
    "%time _Ab = _matvec(b)\n",
    "print(torch.norm(U).item())\n",
    "print(torch.norm(clover_term).item())\n",
    "print(torch.norm(Ab).item())\n",
    "print(torch.norm(_Ab).item())\n",
    "print(torch.norm(Ab-_Ab).item()/torch.norm(_Ab).item())"
   ]
  },
  {
   "cell_type": "code",
   "execution_count": null,
   "id": "f6aebc87",
   "metadata": {},
   "outputs": [],
   "source": [
    "%time Ab = matvec(b)\n",
    "%time _Ab = _matvec(b)"
   ]
  },
  {
   "cell_type": "code",
   "execution_count": null,
   "id": "ff5274d1",
   "metadata": {},
   "outputs": [],
   "source": [
    "b0 = mg.b_list[0]\n",
    "b1 = inverse.restrict(\n",
    "    local_ortho_null_vecs=mg.lonv_list[0], fine_vec=b0)\n",
    "_b0 = inverse.prolong(local_ortho_null_vecs=mg.lonv_list[0], coarse_vec=b1)\n",
    "_b1 = inverse.restrict(\n",
    "    local_ortho_null_vecs=mg.lonv_list[0], fine_vec=_b0)\n",
    "print(_b1.flatten()[:100]/b1.flatten()[:100])"
   ]
  },
  {
   "cell_type": "code",
   "execution_count": null,
   "id": "8542fa80",
   "metadata": {},
   "outputs": [],
   "source": [
    "# _x = inverse.cg(b=b, matvec=matvec, verbose=verbose)\n",
    "_x = inverse.bicgstab(b=b, matvec=_matvec, verbose=verbose)\n",
    "# _x = inverse.bicgstab(b=b, matvec=mg.op_list[0].matvec, verbose=verbose)"
   ]
  },
  {
   "cell_type": "code",
   "execution_count": null,
   "id": "84b8331d",
   "metadata": {},
   "outputs": [],
   "source": [
    "x = mg.solve()\n",
    "mg.plot()"
   ]
  },
  {
   "cell_type": "code",
   "execution_count": null,
   "id": "c13a6541",
   "metadata": {},
   "outputs": [],
   "source": [
    "mg.lonv_list[0].shape"
   ]
  },
  {
   "cell_type": "code",
   "execution_count": null,
   "id": "ebb27ed4",
   "metadata": {},
   "outputs": [],
   "source": [
    "(mg.b_list[0]-mg.op_list[0].matvec(x.reshape([12]+list(x.shape[-4:])))).flatten()[:100]"
   ]
  },
  {
   "cell_type": "code",
   "execution_count": null,
   "id": "4c2e1b18",
   "metadata": {},
   "outputs": [],
   "source": [
    "print(torch.norm(x-_x).item()/torch.norm(_x).item())"
   ]
  },
  {
   "cell_type": "code",
   "execution_count": null,
   "id": "1b1f5523",
   "metadata": {},
   "outputs": [],
   "source": [
    "mg.num_levels"
   ]
  },
  {
   "cell_type": "code",
   "execution_count": null,
   "id": "9f686661",
   "metadata": {},
   "outputs": [],
   "source": [
    "index = 1\n",
    "null_vecs = mg.nv_list[index]\n",
    "matvec = mg.op_list[index].matvec\n",
    "for i in range(null_vecs.shape[0]):\n",
    "    print(\n",
    "        f\"(matvec(null_vecs[i])/null_vecs[i]).flatten()[:10]:{(matvec(null_vecs[i])/null_vecs[i]).flatten()[:10]}\")"
   ]
  },
  {
   "cell_type": "code",
   "execution_count": null,
   "id": "572799ca",
   "metadata": {},
   "outputs": [],
   "source": [
    "mg.nv_list[-1].flatten()[:100]"
   ]
  },
  {
   "cell_type": "code",
   "execution_count": null,
   "id": "b5c412b5",
   "metadata": {},
   "outputs": [],
   "source": [
    "_null_vec = torch.randn_like(null_vecs[0])*10000\n",
    "print(torch.norm(matvec(_null_vec)))\n",
    "print(matvec(_null_vec).flatten()[:20])\n",
    "_null_vec -= inverse.bicgstab(b=matvec(_null_vec), matvec=matvec, tol=5e-5)\n",
    "print(torch.norm(_null_vec))\n",
    "print(_null_vec.flatten()[:20])\n",
    "_null_vec/=torch.norm(_null_vec).item()\n",
    "print(\n",
    "    f\"(matvec(_null_vec)/_null_vec).flatten()[:10]:{(matvec(_null_vec)/_null_vec).flatten()[:10]}\")"
   ]
  },
  {
   "cell_type": "code",
   "execution_count": null,
   "id": "d89c57a0",
   "metadata": {},
   "outputs": [],
   "source": [
    "_b = torch.randn_like(null_vecs[0])\n",
    "_x = inverse.bicgstab(b=_b, matvec=matvec, tol=1e-8)\n",
    "print((_b-matvec(_x)).flatten()[:100])\n",
    "print(torch.norm(_b))\n",
    "print(torch.norm(_x))"
   ]
  },
  {
   "cell_type": "code",
   "execution_count": null,
   "id": "03148cc1",
   "metadata": {},
   "outputs": [],
   "source": [
    "_null_vec.flatten()[:100]"
   ]
  }
 ],
 "metadata": {
  "kernelspec": {
   "display_name": "Python 3",
   "language": "python",
   "name": "python3"
  },
  "language_info": {
   "codemirror_mode": {
    "name": "ipython",
    "version": 3
   },
   "file_extension": ".py",
   "mimetype": "text/x-python",
   "name": "python",
   "nbconvert_exporter": "python",
   "pygments_lexer": "ipython3",
   "version": "3.10.12"
  }
 },
 "nbformat": 4,
 "nbformat_minor": 5
}
