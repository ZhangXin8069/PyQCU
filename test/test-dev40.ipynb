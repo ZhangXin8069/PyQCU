{
    "cells": [
        {
            "cell_type": "markdown",
            "metadata": {},
            "source": [
                "# Init for pyqcu."
            ]
        },
        {
            "cell_type": "code",
            "execution_count": null,
            "metadata": {},
            "outputs": [],
            "source": [
                "import cupy as cp\n",
                "import numpy as np\n",
                "from pyqcu import define\n",
                "from pyqcu import io\n",
                "from pyqcu import qcu\n",
                "from pyqcu import eigen, cg\n",
                "from opt_einsum import contract\n",
                "from pyqcu.set import params, argv, set_ptrs\n",
                "params[define._NODE_RANK_] = define.rank\n",
                "params[define._NODE_SIZE_] = define.size\n",
                "kappa = 1 / (2 * argv[define._MASS_] + 8)\n",
                "print('My rank is ', define.rank)\n",
                "gauge_filename = f\"quda_wilson-bistabcg-gauge_-{params[define._LAT_X_]}-{params[define._LAT_Y_]}-{params  [define._LAT_Z_]}-{params[define._LAT_T_]}-{params[define._LAT_XYZT_]}-{params[define._GRID_X_]}-{params[define._GRID_Y_]}-{params[define._GRID_Z_]}-{params[define._GRID_T_]}-{params[define._PARITY_]}-{params[define._NODE_RANK_]}-{params[define._NODE_SIZE_]}-{params[define._DAGGER_]}-f.h5\"\n",
                "print(\"Parameters:\", params)"
            ]
        },
        {
            "cell_type": "code",
            "execution_count": null,
            "metadata": {},
            "outputs": [],
            "source": [
                "wilson_cg_params = params.copy()\n",
                "wilson_cg_params[define._SET_INDEX_] = 0\n",
                "wilson_cg_params[define._SET_PLAN_] = define._SET_PLAN1_\n",
                "qcu.applyInitQcu(set_ptrs, wilson_cg_params, argv)"
            ]
        },
        {
            "cell_type": "code",
            "execution_count": null,
            "metadata": {},
            "outputs": [],
            "source": [
                "wilson_dslash_eo_params = params.copy()\n",
                "wilson_dslash_eo_params[define._SET_INDEX_] = 1\n",
                "wilson_dslash_eo_params[define._SET_PLAN_] = define._SET_PLAN0_\n",
                "wilson_dslash_eo_params[define._PARITY_] = define._EVEN_\n",
                "wilson_dslash_eo_params[define._DAGGER_] = define._NO_USE_\n",
                "qcu.applyInitQcu(set_ptrs, wilson_dslash_eo_params, argv)"
            ]
        },
        {
            "cell_type": "code",
            "execution_count": null,
            "metadata": {},
            "outputs": [],
            "source": [
                "wilson_dslash_eo_dag_params = params.copy()\n",
                "wilson_dslash_eo_dag_params[define._SET_INDEX_] = 2\n",
                "wilson_dslash_eo_dag_params[define._SET_PLAN_] = define._SET_PLAN0_\n",
                "wilson_dslash_eo_dag_params[define._PARITY_] = define._EVEN_\n",
                "wilson_dslash_eo_dag_params[define._DAGGER_] = define._USE_\n",
                "qcu.applyInitQcu(set_ptrs, wilson_dslash_eo_dag_params, argv)"
            ]
        },
        {
            "cell_type": "code",
            "execution_count": null,
            "metadata": {},
            "outputs": [],
            "source": [
                "wilson_dslash_oe_params = params.copy()\n",
                "wilson_dslash_oe_params[define._SET_INDEX_] = 3\n",
                "wilson_dslash_oe_params[define._SET_PLAN_] = define._SET_PLAN0_\n",
                "wilson_dslash_oe_params[define._PARITY_] = define._ODD_\n",
                "wilson_dslash_oe_params[define._DAGGER_] = define._NO_USE_\n",
                "qcu.applyInitQcu(set_ptrs, wilson_dslash_oe_params, argv)"
            ]
        },
        {
            "cell_type": "code",
            "execution_count": null,
            "metadata": {},
            "outputs": [],
            "source": [
                "wilson_dslash_oe_dag_params = params.copy()\n",
                "wilson_dslash_oe_dag_params[define._SET_INDEX_] = 4\n",
                "wilson_dslash_oe_dag_params[define._SET_PLAN_] = define._SET_PLAN0_\n",
                "wilson_dslash_oe_dag_params[define._PARITY_] = define._ODD_\n",
                "wilson_dslash_oe_dag_params[define._DAGGER_] = define._USE_\n",
                "qcu.applyInitQcu(set_ptrs, wilson_dslash_oe_dag_params, argv)"
            ]
        },
        {
            "cell_type": "code",
            "execution_count": null,
            "metadata": {},
            "outputs": [],
            "source": [
                "print(\"Set pointers:\", set_ptrs)\n",
                "print(\"Set pointers data:\", set_ptrs.data)"
            ]
        },
        {
            "cell_type": "markdown",
            "metadata": {},
            "source": [
                "# Read from hdf5 files."
            ]
        },
        {
            "cell_type": "code",
            "execution_count": null,
            "metadata": {},
            "outputs": [],
            "source": [
                "print(\"Gauge filename:\", gauge_filename)\n",
                "gauge = io.hdf5_xxxtzyx2grid_xxxtzyx(params, gauge_filename)\n",
                "fermion_in_filename = gauge_filename.replace(\"gauge\", \"fermion-in\")\n",
                "print(\"Fermion in filename:\", fermion_in_filename)\n",
                "fermion_in = io.hdf5_xxxtzyx2grid_xxxtzyx(\n",
                "    params, fermion_in_filename)\n",
                "fermion_out_filename = gauge_filename.replace(\"gauge\", \"fermion-out\")\n",
                "print(\"Fermion out filename:\", fermion_out_filename)\n",
                "quda_fermion_out = io.hdf5_xxxtzyx2grid_xxxtzyx(\n",
                "    params, fermion_out_filename)\n",
                "fermion_out = cp.zeros_like(fermion_in)\n",
                "print(\"Fermion out data:\", fermion_out.data)\n",
                "print(\"Fermion out shape:\", fermion_out.shape)\n",
                "eigenvalues_filename = gauge_filename.replace(\"gauge\", \"eigenvalues\")\n",
                "print(\"Eigenvalues filename:\", eigenvalues_filename)\n",
                "eigenvalues = io.hdf5_xxx2xxx(file_name=eigenvalues_filename)\n",
                "print(\"Eigenvalues data:\", eigenvalues.data)\n",
                "print(\"Eigenvalues shape:\", eigenvalues.shape)\n",
                "eigenvectors_filename = gauge_filename.replace(\"gauge\", \"eigenvectors\")\n",
                "print(\"Eigenvectors filename:\", eigenvectors_filename)\n",
                "eigenvectors = io.eigenvectors2esctzyx(\n",
                "    params=params, eigenvectors=io.hdf5_xxx2xxx(file_name=eigenvectors_filename))\n",
                "print(\"Eigenvectors data:\", eigenvectors.data)\n",
                "print(\"Eigenvectors shape:\", eigenvectors.shape)"
            ]
        },
        {
            "cell_type": "markdown",
            "metadata": {},
            "source": [
                "# Run wilson bistabcg from pyqcu test."
            ]
        },
        {
            "cell_type": "code",
            "execution_count": null,
            "metadata": {},
            "outputs": [],
            "source": [
                "qcu.applyWilsonBistabCgQcu(fermion_out, fermion_in,\n",
                "                           gauge, set_ptrs, wilson_cg_params)\n",
                "# qcu.applyWilsonCgQcu(fermion_out, fermion_in,\n",
                "#                            gauge, set_ptrs, wilson_cg_params)\n",
                "print(\"Fermion out data:\", fermion_out.data)\n",
                "print(\"Fermion out shape:\", fermion_out.shape)\n",
                "print(\"QUDA Fermion out data:\", quda_fermion_out.data)\n",
                "print(\"QUDA Fermion out shape:\", quda_fermion_out.shape)\n",
                "print(\"Difference:\", cp.linalg.norm(fermion_out -\n",
                "      quda_fermion_out)/cp.linalg.norm(quda_fermion_out))"
            ]
        },
        {
            "cell_type": "markdown",
            "metadata": {},
            "source": [
                "# Give CG Dslash\n",
                "> src_o-set_ptr->kappa()**2*dslash_oe(dslash_eo(src_o))"
            ]
        },
        {
            "cell_type": "code",
            "execution_count": null,
            "metadata": {},
            "outputs": [],
            "source": [
                "def cg_dslash_no_dag(src):\n",
                "    tmp0 = cp.zeros_like(src)\n",
                "    tmp1 = cp.zeros_like(src)\n",
                "    qcu.applyWilsonDslashQcu(\n",
                "        tmp0, src, gauge, set_ptrs, wilson_dslash_eo_params)\n",
                "    qcu.applyWilsonDslashQcu(\n",
                "        tmp1, tmp0, gauge, set_ptrs, wilson_dslash_oe_params)\n",
                "    return src-kappa**2*tmp1\n",
                "\n",
                "\n",
                "def cg_dslash_dag(src):\n",
                "    tmp0 = cp.zeros_like(src)\n",
                "    tmp1 = cp.zeros_like(src)\n",
                "    qcu.applyWilsonDslashQcu(\n",
                "        tmp0, src, gauge, set_ptrs, wilson_dslash_eo_dag_params)\n",
                "    qcu.applyWilsonDslashQcu(\n",
                "        tmp1, tmp0, gauge, set_ptrs, wilson_dslash_oe_dag_params)\n",
                "    return src-kappa**2*tmp1\n",
                "\n",
                "\n",
                "def cg_dslash(src):\n",
                "    return cg_dslash_dag(cg_dslash_no_dag(src))\n",
                "\n",
                "# cg_dslash(fermion_in[0])\n",
                "\n",
                "# def matvec(src):\n",
                "#     dest = cp.zeros_like(src)\n",
                "#     qcu.applyWilsonCgDslashQcu(\n",
                "#         dest, src, gauge, set_ptrs, wilson_cg_params)\n",
                "#     return dest\n",
                "\n",
                "\n",
                "def matvec(src):\n",
                "    return cg_dslash(src)\n",
                "\n",
                "# matvec(fermion_in[0])"
            ]
        },
        {
            "cell_type": "markdown",
            "metadata": {},
            "source": [
                "# Run matvec(eigenvector[.]) ?= eigenvalue[.]*eigenvector[.] for eigen test"
            ]
        },
        {
            "cell_type": "code",
            "execution_count": null,
            "metadata": {},
            "outputs": [],
            "source": [
                "for i, ev in enumerate(eigenvalues):\n",
                "    print(f\"λ_{i} = {ev:.2e}\")\n",
                "    # Verify eigenvector\n",
                "    v = eigenvectors[i]\n",
                "    w = cp.zeros_like(v)\n",
                "    w = matvec(v)\n",
                "    error = cp.linalg.norm(w - ev * v) / cp.linalg.norm(w)\n",
                "    print(f\"Relative error: {error:.2e}\")\n",
                "    j = i+1\n",
                "    if j == len(eigenvalues):\n",
                "        j = 0\n",
                "    print(\n",
                "        f\"Diff between λ_{i} and λ_{j}: {cp.linalg.norm(eigenvectors[i] - eigenvectors[j])/cp.linalg.norm(eigenvectors[i]):.2e}\")"
            ]
        },
        {
            "cell_type": "markdown",
            "metadata": {},
            "source": [
                "# Give guage's eigenvalues and eigenvectors to hdf5 files. (pass, don't run this)"
            ]
        },
        {
            "cell_type": "code",
            "execution_count": null,
            "metadata": {},
            "outputs": [],
            "source": [
                "# eigen_solver = eigen.solver(\n",
                "#     n=params[define._LAT_XYZT_] * define._LAT_HALF_SC_, k=define._LAT_Ne_,matvec=matvec,dtype=gauge.dtype)\n",
                "# eigenvalues, eigenvectors = eigen_solver.run()\n",
                "# io.xxx2hdf5_xxx(\n",
                "#     eigenvalues, params, gauge_filename.replace(\"gauge\", \"eigenvalues\"))\n",
                "# io.xxx2hdf5_xxx(\n",
                "#     eigenvectors, params, gauge_filename.replace(\"gauge\", \"eigenvectors\"))"
            ]
        },
        {
            "cell_type": "markdown",
            "metadata": {},
            "source": [
                "# Origin CG"
            ]
        },
        {
            "cell_type": "code",
            "execution_count": null,
            "metadata": {},
            "outputs": [],
            "source": [
                "b_e = fermion_in[define._EVEN_].flatten()\n",
                "b_o = fermion_in[define._ODD_].flatten()\n",
                "b__o = cp.zeros_like(b_o)\n",
                "tmp = cp.zeros_like(b_o)\n",
                "# b__o=b_o+kappa*D_oe(b_e)\n",
                "qcu.applyWilsonDslashQcu(tmp, b_e, gauge, set_ptrs, wilson_dslash_oe_params)\n",
                "b__o = b_o+kappa*tmp\n",
                "# b__o -> Dslash^dag b__o\n",
                "b__o = cg_dslash_dag(b__o)\n",
                "# Dslash(x_o)=b__o\n",
                "cg_solver = cg.slover(b=b__o, matvec=matvec, tol=1e-10, max_iter=1000000)\n",
                "x_o = cg_solver.run()\n",
                "# x_e  =b_e+kappa*D_eo(x_o)\n",
                "qcu.applyWilsonDslashQcu(tmp, x_o, gauge, set_ptrs, wilson_dslash_eo_params)\n",
                "x_e = b_e+kappa*tmp\n",
                "# give qcu_fermion_out\n",
                "qcu_fermion_out = cp.zeros_like(quda_fermion_out)\n",
                "qcu_fermion_out[define._EVEN_] = x_e.reshape(\n",
                "    quda_fermion_out[define._EVEN_].shape)\n",
                "qcu_fermion_out[define._ODD_] = x_o.reshape(\n",
                "    quda_fermion_out[define._ODD_].shape)"
            ]
        },
        {
            "cell_type": "code",
            "execution_count": null,
            "metadata": {},
            "outputs": [],
            "source": [
                "np.linalg.norm(qcu_fermion_out-quda_fermion_out) / \\\n",
                "    np.linalg.norm(quda_fermion_out)"
            ]
        },
        {
            "cell_type": "markdown",
            "metadata": {},
            "source": [
                "# MultiGrid - give grids"
            ]
        },
        {
            "cell_type": "code",
            "execution_count": null,
            "metadata": {},
            "outputs": [],
            "source": [
                "_eigenvectors = io.xxxtzyx2mg_xxxtzyx(input_array=eigenvectors, params=params)\n",
                "orth_eigenvectors = None"
            ]
        },
        {
            "cell_type": "code",
            "execution_count": null,
            "metadata": {},
            "outputs": [],
            "source": [
                "_eigenvectors.shape  # escTtZzYyXx"
            ]
        },
        {
            "cell_type": "code",
            "execution_count": null,
            "metadata": {},
            "outputs": [],
            "source": [
                "import cupy as cp\n",
                "\n",
                "# 创建一个二维的 cupy 数组（矩阵）\n",
                "A = cp.array([[1, 2], [3, 4], [5, 6]], dtype=cp.float64)\n",
                "print(\"原始矩阵 A 的形状：\", A.shape)\n",
                "# 进行 QR 分解\n",
                "Q, R = cp.linalg.qr(A)\n",
                "\n",
                "print(\"原始矩阵 A:\")\n",
                "print(A)\n",
                "print(\"正交矩阵 Q:\")\n",
                "print(Q)\n",
                "print(\"上三角矩阵 R:\")\n",
                "print(R)\n"
            ]
        },
        {
            "cell_type": "code",
            "execution_count": null,
            "metadata": {},
            "outputs": [],
            "source": [
                "a=Q[:,0]\n",
                "b=Q[:,1]"
            ]
        },
        {
            "cell_type": "code",
            "execution_count": null,
            "metadata": {},
            "outputs": [],
            "source": [
                "cp.dot(a,b)"
            ]
        },
        {
            "cell_type": "code",
            "execution_count": null,
            "metadata": {},
            "outputs": [],
            "source": [
                "def orthogonalize(eigenvectors):\n",
                "    size_e, size_s, size_c, size_T, size_t, size_Z, size_z, size_Y, size_y, size_X, size_x = eigenvectors.shape\n",
                "    print(size_e, size_s, size_c, size_T, size_t,\n",
                "          size_Z, size_z, size_Y, size_y, size_X, size_x)\n",
                "    for T in range(size_T):\n",
                "        for Z in range(size_Z):\n",
                "            for Y in range(size_Y):\n",
                "                for X in range(size_X):\n",
                "                    origin_matrix = eigenvectors[:,\n",
                "                                                 :, :, T, :, Z, :, Y, :, X, :]\n",
                "                    _shape = origin_matrix.shape\n",
                "                    _origin_matrix = origin_matrix.reshape(size_e, -1)\n",
                "                    Q, _ = cp.linalg.qr(_origin_matrix.T)\n",
                "                    a=Q[:,0]\n",
                "                    b=Q[:,1]\n",
                "                    print(cp.dot(a,b))\n",
                "                    return origin_matrix, Q.T.reshape(_shape)"
            ]
        },
        {
            "cell_type": "code",
            "execution_count": null,
            "metadata": {},
            "outputs": [],
            "source": [
                "_origin_matrix, _Q = orthogonalize(_eigenvectors)\n",
                "test_origin_matrix=_origin_matrix.reshape(24,-1)\n",
                "print(cp.dot(test_origin_matrix[0],test_origin_matrix[1]))\n",
                "test_Q=_Q.reshape(24,-1)\n",
                "print(cp.dot(test_Q[0],test_Q[1]))\n",
                "print(cp.dot(test_Q[:,0],test_Q[:,1]))"
            ]
        },
        {
            "cell_type": "code",
            "execution_count": null,
            "metadata": {},
            "outputs": [],
            "source": [
                "import cupy as cp\n",
                "\n",
                "def gram_schmidt(vectors):\n",
                "    num_vectors = vectors.shape[1]\n",
                "    orthogonal_vectors = cp.copy(vectors)\n",
                "    for i in range(num_vectors):\n",
                "        orthogonal_vectors[:, i] /= cp.linalg.norm(orthogonal_vectors[:, i])\n",
                "        for j in range(i + 1, num_vectors):\n",
                "            projection = cp.dot(orthogonal_vectors[:, j], orthogonal_vectors[:, i])\n",
                "            orthogonal_vectors[:, j] -= projection * orthogonal_vectors[:, i]\n",
                "    return orthogonal_vectors\n",
                "\n",
                "# 示例矩阵\n",
                "_origin_matrix = cp.array([[1, 2], [3, 4]], dtype=cp.float64)\n",
                "# 进行修正的格拉姆 - 施密特正交化\n",
                "Q = modified_gram_schmidt(_origin_matrix)\n",
                "a = Q[:, 0]\n",
                "b = Q[:, 1]\n",
                "print(cp.dot(a, b))\n"
            ]
        },
        {
            "cell_type": "code",
            "execution_count": null,
            "metadata": {},
            "outputs": [],
            "source": [
                "import cupy as cp\n",
                "\n",
                "_origin_matrix = cp.array([[1, 2], [3, 4]], dtype=cp.float64)\n",
                "Q, _ = cp.linalg.qr(_origin_matrix.T)\n",
                "a = Q[:, 0]\n",
                "b = Q[:, 1]\n",
                "print(cp.dot(a, b))\n"
            ]
        },
        {
            "cell_type": "code",
            "execution_count": null,
            "metadata": {},
            "outputs": [],
            "source": [
                "\n",
                "mg_eigenvectors = _eigenvectors/(define._LAT_E_**2/_eigenvectors.size)**0.5\n",
                "_src = io.xxxtzyx2mg_xxxtzyx(\n",
                "    input_array=fermion_in[define._EVEN_], params=params)"
            ]
        },
        {
            "cell_type": "code",
            "execution_count": null,
            "metadata": {},
            "outputs": [],
            "source": [
                "params"
            ]
        },
        {
            "cell_type": "markdown",
            "metadata": {},
            "source": [
                "# MultiGrid - R*vector\n",
                "![](./image0-dev40.png)"
            ]
        },
        {
            "cell_type": "code",
            "execution_count": null,
            "metadata": {},
            "outputs": [],
            "source": [
                "r_src = _src\n",
                "\n",
                "\n",
                "def r_vec(src):\n",
                "    return contract(\"escTtZzYyXx,scTtZzYyXx->eTZYX\", mg_eigenvectors, src)\n",
                "\n",
                "\n",
                "r_dest = r_vec(r_src)"
            ]
        },
        {
            "cell_type": "code",
            "execution_count": null,
            "metadata": {},
            "outputs": [],
            "source": [
                "fermion_in.shape"
            ]
        },
        {
            "cell_type": "code",
            "execution_count": null,
            "metadata": {},
            "outputs": [],
            "source": [
                "r_src.shape"
            ]
        },
        {
            "cell_type": "code",
            "execution_count": null,
            "metadata": {},
            "outputs": [],
            "source": [
                "r_dest.shape"
            ]
        },
        {
            "cell_type": "markdown",
            "metadata": {},
            "source": [
                "# MultiGrid - P*vector\n",
                "![](./image1-dev40.png)\n"
            ]
        },
        {
            "cell_type": "code",
            "execution_count": null,
            "metadata": {},
            "outputs": [],
            "source": [
                "p_src = r_dest\n",
                "\n",
                "\n",
                "def p_vec(src):\n",
                "    return contract(\"escTtZzYyXx,eTZYX->scTtZzYyXx\", cp.conj(mg_eigenvectors), src)\n",
                "\n",
                "\n",
                "p_dest = p_vec(p_src)"
            ]
        },
        {
            "cell_type": "code",
            "execution_count": null,
            "metadata": {},
            "outputs": [],
            "source": [
                "p_dest.shape"
            ]
        },
        {
            "cell_type": "markdown",
            "metadata": {},
            "source": [
                "# MultiGrid - verify above\n",
                "![](./image2-dev40.png)"
            ]
        },
        {
            "cell_type": "code",
            "execution_count": null,
            "metadata": {},
            "outputs": [],
            "source": [
                "print(cp.linalg.norm(r_src-p_dest)/cp.linalg.norm(r_src))"
            ]
        },
        {
            "cell_type": "code",
            "execution_count": null,
            "metadata": {},
            "outputs": [],
            "source": [
                "r_src.flatten()[:50]"
            ]
        },
        {
            "cell_type": "code",
            "execution_count": null,
            "metadata": {},
            "outputs": [],
            "source": [
                "p_dest.flatten()[:50]"
            ]
        },
        {
            "cell_type": "code",
            "execution_count": null,
            "metadata": {},
            "outputs": [],
            "source": [
                "_mat = contract(\"escTtZzYyXx,escTtZzYyXx->scTtZzYyXx\",\n",
                "                mg_eigenvectors, cp.conj(mg_eigenvectors)).flatten()\n",
                "print(cp.linalg.norm(_mat))\n",
                "print(_mat[:100])"
            ]
        },
        {
            "cell_type": "code",
            "execution_count": null,
            "metadata": {},
            "outputs": [],
            "source": [
                "_norm = cp.linalg.norm(mg_eigenvectors, axis=0).flatten()\n",
                "print(cp.linalg.norm(_norm))"
            ]
        },
        {
            "cell_type": "code",
            "execution_count": null,
            "metadata": {},
            "outputs": [],
            "source": [
                "_norm.shape"
            ]
        },
        {
            "cell_type": "code",
            "execution_count": null,
            "metadata": {},
            "outputs": [],
            "source": [
                "_norm[:100]**2"
            ]
        },
        {
            "cell_type": "markdown",
            "metadata": {},
            "source": [
                "# End for pyqcu. (pass, don't run this)"
            ]
        },
        {
            "cell_type": "code",
            "execution_count": null,
            "metadata": {},
            "outputs": [],
            "source": [
                "# qcu.applyEndQcu(set_ptrs, params)\n",
                "# qcu.applyEndQcu(set_ptrs, wilson_dslash_eo_params)\n",
                "# qcu.applyEndQcu(set_ptrs, wilson_dslash_oe_params)\n",
                "# qcu.applyEndQcu(set_ptrs, wilson_dslash_eo_dag_params)\n",
                "# qcu.applyEndQcu(set_ptrs, wilson_dslash_oe_dag_params)"
            ]
        }
    ],
    "metadata": {
        "kernelspec": {
            "display_name": "Python 3",
            "language": "python",
            "name": "python3"
        },
        "language_info": {
            "codemirror_mode": {
                "name": "ipython",
                "version": 3
            },
            "file_extension": ".py",
            "mimetype": "text/x-python",
            "name": "python",
            "nbconvert_exporter": "python",
            "pygments_lexer": "ipython3",
            "version": "3.10.12"
        }
    },
    "nbformat": 4,
    "nbformat_minor": 2
}
