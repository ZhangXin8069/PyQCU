{
 "cells": [
  {
   "cell_type": "code",
   "execution_count": null,
   "id": "10beebf5",
   "metadata": {},
   "outputs": [
    {
     "name": "stdout",
     "output_type": "stream",
     "text": [
      "\n",
      "    @@@@@@######QCU NOTES START######@@@@@@@\n",
      "    0. Required: MPI(e.g. 4.1.2), CUDA(e.g. 12.4), CMAKE(e.g. 3.22.1), GCC(e.g. 11.4.0), HDF5-MPI(e.g. 1.10.7,'apt install libhdf5-mpi-dev && export HDF5_MPI=\"ON\" && pip install --no-binary=h5py h5py').\n",
      "    1. The libqcu.so was compiled when pyqcu setup in download_path/PyQCU/lib, please add this path to your LD_LIBRARY_PATH.\n",
      "    2. The QCU(PyQCU) splite grid by x->y->z->t, lattice by x->y->z->t->p->d->c->c or x->y->z->t->c->s(->p) and x->y->z->t->c->s->c->s(->p).\n",
      "    3. The QUDA(PyQUDA) splite grid by t->z->y->x, lattice by c->c->x->y->z->t->p->d or c->s->x->y->z->t(->p) and c->s->c->s->x->y->z->t(->p).\n",
      "    4. The QCU input params in numpy array(dtype=np.int32), argv in  numpy array(dtype=np.float32 or float64) array, set_ptrs in numpy array(dtype=np.int64), other in cupy array(dtype=cp.complex64 or complex128).\n",
      "    5. The smallest lattice size is (wilson:x=4,y=4,z=4,t=4;clover:x=8,y=8,z=8,t=8) that QCU support (when '#define _BLOCK_SIZE_ 32 // for test small lattice').\n",
      "    @@@@@@######QCU NOTES END######@@@@@@@\n",
      "    \n",
      "Parameters: [     32      32      32      32 1048576       1       1       1       1\n",
      "       0       0       1       0   10000       3       0       0       4\n",
      "       4       4       8      24]\n",
      "Parameters data: <memory at 0x7f579bf3fdc0>\n",
      "Arguments: [-3.5e+00  1.0e-09]\n",
      "Arguments data: <memory at 0x7f579bf3fdc0>\n",
      "Set pointers: [0 0 0 0 0 0 0 0 0 0]\n",
      "Set pointers data: <memory at 0x7f579bf3fc40>\n"
     ]
    }
   ],
   "source": [
    "from pyqcu.gmg import *\n",
    "from pyqcu import define, gauge, io, qcu, set\n",
    "import cupy as cp\n",
    "import numpy as np\n",
    "from pyqcu.set import params, argv\n",
    "\n",
    "\n",
    "class WilsonCase:\n",
    "    def __init__(self, params=None, argv=None, min_size=4, max_levels=10, seed=12138):\n",
    "        if params is None:\n",
    "            self.params = set.params\n",
    "            self.params[define._LAT_X_] = 4\n",
    "            self.params[define._LAT_Y_] = 16\n",
    "            self.params[define._LAT_Z_] = 16\n",
    "            self.params[define._LAT_T_] = 4\n",
    "            self.params[define._LAT_XYZT_] = self.params[define._LAT_X_] * \\\n",
    "                self.params[define._LAT_Y_]*self.params[define._LAT_Z_] * \\\n",
    "                self.params[define._LAT_T_]\n",
    "        else:\n",
    "            self.params = params\n",
    "        if argv is None:\n",
    "            self.argv = set.argv\n",
    "        else:\n",
    "            self.argv = argv\n",
    "        self.min_size = min_size\n",
    "        self.max_levels = max_levels\n",
    "        self.seed = seed\n",
    "        np.random.seed(seed)\n",
    "        cp.random.seed(seed)\n",
    "\n",
    "    def give_b(self, params):\n",
    "        b = cp.ones(params[define._LAT_XYZT_]*define._LAT_SC_,\n",
    "                    dtype=define.dtype(params[define._DATA_TYPE_]))\n",
    "        b = io.fermion2psctzyx(b, params)\n",
    "        return b\n",
    "\n",
    "    def setup(self):\n",
    "        grid_params = []\n",
    "        current_nx, current_ny, current_nz = self.params[define._LAT_Y_], self.params[\n",
    "            define._LAT_Z_], self.params[define._LAT_X_]*self.params[define._LAT_T_]*define._LAT_SC_\n",
    "        print(\n",
    "            f\"current_nx: {current_nx}, current_ny: {current_ny}, current_nz: {current_nz}\")\n",
    "        while min(current_nx, current_ny) >= self.min_size and len(grid_params) < self.max_levels:\n",
    "            grid_params.append((current_nx, current_ny, current_nz))\n",
    "            print(\n",
    "                f\"  Level {len(grid_params)-1}: {current_nx}x{current_ny}x{current_nz}\")\n",
    "            current_nx = max(2, current_nx // 2)\n",
    "            current_ny = max(2, current_ny // 2)\n",
    "        set_ptrs = set.set_ptrs\n",
    "        for i, (nx, ny, nz) in enumerate(grid_params):\n",
    "            params = self.params\n",
    "            argv = self.argv\n",
    "            params[define._SET_INDEX_] = i\n",
    "            params[define._SET_PLAN_] = define._SET_PLAN1_\n",
    "            params[define._LAT_Y_] = nx\n",
    "            params[define._LAT_Z_] = ny\n",
    "            params[define._LAT_XYZT_] = params[define._LAT_X_] * \\\n",
    "                params[define._LAT_Y_]*params[define._LAT_Z_] * \\\n",
    "                params[define._LAT_T_]\n",
    "            U = gauge.give_gauge(params=params)\n",
    "            qcu.applyInitQcu(set_ptrs, params, argv)\n",
    "            src = self.give_b(params)\n",
    "            dest = cp.zeros_like(src)\n",
    "            qcu.applyWilsonBistabCgQcu(dest, src,\n",
    "                                       U, set_ptrs, params)\n",
    "            print(\"Dest data:\", dest.data)\n",
    "            print(\"Dest shape:\", dest.shape)\n",
    "\n",
    "\n",
    "class WilsonOperator:\n",
    "    def __init__(self, nx=32, ny=32, nz=12):\n",
    "        self.params = params\n",
    "        self.argv = argv\n",
    "\n",
    "        self.nx = params[define._LAT_X_]\n",
    "        self.ny = params[define._LAT_Y_]\n",
    "        self.nz = params[define._LAT_Z_]\n",
    "        self.nt = params[define._LAT_T_]\n",
    "        self.n = self.nx * self.ny * self.nz * self.nt"
   ]
  },
  {
   "cell_type": "code",
   "execution_count": null,
   "id": "b160a78f",
   "metadata": {},
   "outputs": [
    {
     "name": "stdout",
     "output_type": "stream",
     "text": [
      "current_nx: 16, current_ny: 16, current_nz: 192\n",
      "  Level 0: 16x16x192\n",
      "  Level 1: 8x8x192\n",
      "  Level 2: 4x4x192\n"
     ]
    }
   ],
   "source": [
    "\n",
    "# demo()\n",
    "\n",
    "\n",
    "case = WilsonCase()\n",
    "\n",
    "case.setup()\n"
   ]
  }
 ],
 "metadata": {
  "kernelspec": {
   "display_name": "Python 3",
   "language": "python",
   "name": "python3"
  },
  "language_info": {
   "codemirror_mode": {
    "name": "ipython",
    "version": 3
   },
   "file_extension": ".py",
   "mimetype": "text/x-python",
   "name": "python",
   "nbconvert_exporter": "python",
   "pygments_lexer": "ipython3",
   "version": "3.10.12"
  }
 },
 "nbformat": 4,
 "nbformat_minor": 5
}
