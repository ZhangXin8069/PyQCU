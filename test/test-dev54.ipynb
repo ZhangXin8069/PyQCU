{
 "cells": [
  {
   "cell_type": "code",
   "execution_count": 1,
   "id": "0aa000a2",
   "metadata": {},
   "outputs": [
    {
     "name": "stdout",
     "output_type": "stream",
     "text": [
      "Error: cannot import name 'expm' from 'cupyx.scipy.linalg' (/usr/local/lib/python3.8/dist-packages/cupyx/scipy/linalg/__init__.py)\n",
      "@My Rank:0/1, Local Rank:0@\n",
      "\n"
     ]
    }
   ],
   "source": [
    "from pyqcu.cuda import cg,eigen\n",
    "import cupy as cp\n",
    "from pyqcu.cuda.define import cp_dtype,cp_ndarray"
   ]
  },
  {
   "cell_type": "code",
   "execution_count": 2,
   "id": "f5eb3ffa",
   "metadata": {},
   "outputs": [],
   "source": [
    "b=cp.array([1.0],dtype=cp.complex128)\n",
    "def matvec(src:cp_ndarray)->cp_ndarray:\n",
    "    return src"
   ]
  },
  {
   "cell_type": "code",
   "execution_count": 3,
   "id": "5668d39e",
   "metadata": {},
   "outputs": [
    {
     "name": "stdout",
     "output_type": "stream",
     "text": [
      "Iteration 0: Residual = 0.000000e+00, Time = 0.002385 s\n",
      "Converged at iteration 0 with residual 0.000000e+00\n",
      "\n",
      "Performance Statistics:\n",
      "Total time: 0.004283 s\n",
      "Average time per iteration: 0.002385 s\n",
      "This function is just for positive definite matrix.\n",
      "eigen_index: 0, iter: 0, alpha: 0.000000000, beta: 1.000000000, tol: nan, lambda: nan, degree: 20\n",
      "eigen_index: 0, iter: 1, alpha: 0.000000000, beta: 1.000000000, tol: nan, lambda: nan, degree: 10\n",
      "eigen_index: 0, iter: 2, alpha: 0.000000000, beta: 1.000000000, tol: nan, lambda: nan, degree: 10\n",
      "eigen_index: 0, iter: 3, alpha: 0.000000000, beta: 1.000000000, tol: nan, lambda: nan, degree: 10\n",
      "eigen_index: 0, iter: 4, alpha: 0.000000000, beta: 1.000000000, tol: nan, lambda: nan, degree: 10\n",
      "eigen_index: 0, iter: 5, alpha: 0.000000000, beta: 1.000000000, tol: nan, lambda: nan, degree: 10\n",
      "eigen_index: 0, iter: 6, alpha: 0.000000000, beta: 1.000000000, tol: nan, lambda: nan, degree: 10\n",
      "eigen_index: 0, iter: 7, alpha: 0.000000000, beta: 1.000000000, tol: nan, lambda: nan, degree: 10\n",
      "eigen_index: 0, iter: 8, alpha: 0.000000000, beta: 1.000000000, tol: nan, lambda: nan, degree: 10\n",
      "eigen_index: 0, iter: 9, alpha: 0.000000000, beta: 1.000000000, tol: nan, lambda: nan, degree: 10\n",
      "eigen_index: 0, iter: 10, alpha: 0.000000000, beta: 1.000000000, tol: nan, lambda: nan, degree: 10\n",
      "eigen_index: 0, iter: 11, alpha: 0.000000000, beta: 1.000000000, tol: nan, lambda: nan, degree: 10\n",
      "eigen_index: 0, iter: 12, alpha: 0.000000000, beta: 1.000000000, tol: nan, lambda: nan, degree: 10\n",
      "eigen_index: 0, iter: 13, alpha: 0.000000000, beta: 1.000000000, tol: nan, lambda: nan, degree: 10\n",
      "eigen_index: 0, iter: 14, alpha: 0.000000000, beta: 1.000000000, tol: nan, lambda: nan, degree: 10\n",
      "eigen_index: 0, iter: 15, alpha: 0.000000000, beta: 1.000000000, tol: nan, lambda: nan, degree: 10\n",
      "eigen_index: 0, iter: 16, alpha: 0.000000000, beta: 1.000000000, tol: nan, lambda: nan, degree: 10\n",
      "eigen_index: 0, iter: 17, alpha: 0.000000000, beta: 1.000000000, tol: nan, lambda: nan, degree: 10\n",
      "eigen_index: 0, iter: 18, alpha: 0.000000000, beta: 1.000000000, tol: nan, lambda: nan, degree: 10\n",
      "eigen_index: 0, iter: 19, alpha: 0.000000000, beta: 1.000000000, tol: nan, lambda: nan, degree: 10\n",
      "eigen_index: 0, iter: 20, alpha: 0.000000000, beta: 1.000000000, tol: nan, lambda: nan, degree: 10\n",
      "eigen_index: 0, iter: 21, alpha: 0.000000000, beta: 1.000000000, tol: nan, lambda: nan, degree: 10\n",
      "eigen_index: 0, iter: 22, alpha: 0.000000000, beta: 1.000000000, tol: nan, lambda: nan, degree: 10\n",
      "eigen_index: 0, iter: 23, alpha: 0.000000000, beta: 1.000000000, tol: nan, lambda: nan, degree: 10\n",
      "eigen_index: 0, iter: 24, alpha: 0.000000000, beta: 1.000000000, tol: nan, lambda: nan, degree: 10\n",
      "eigen_index: 0, iter: 25, alpha: 0.000000000, beta: 1.000000000, tol: nan, lambda: nan, degree: 10\n",
      "eigen_index: 0, iter: 26, alpha: 0.000000000, beta: 1.000000000, tol: nan, lambda: nan, degree: 10\n",
      "eigen_index: 0, iter: 27, alpha: 0.000000000, beta: 1.000000000, tol: nan, lambda: nan, degree: 10\n",
      "eigen_index: 0, iter: 28, alpha: 0.000000000, beta: 1.000000000, tol: nan, lambda: nan, degree: 10\n",
      "eigen_index: 0, iter: 29, alpha: 0.000000000, beta: 1.000000000, tol: nan, lambda: nan, degree: 10\n",
      "eigen_index: 0, iter: 30, alpha: 0.000000000, beta: 1.000000000, tol: nan, lambda: nan, degree: 10\n",
      "eigen_index: 0, iter: 31, alpha: 0.000000000, beta: 1.000000000, tol: nan, lambda: nan, degree: 10\n",
      "eigen_index: 0, iter: 32, alpha: 0.000000000, beta: 1.000000000, tol: nan, lambda: nan, degree: 10\n",
      "eigen_index: 0, iter: 33, alpha: 0.000000000, beta: 1.000000000, tol: nan, lambda: nan, degree: 10\n",
      "eigen_index: 0, iter: 34, alpha: 0.000000000, beta: 1.000000000, tol: nan, lambda: nan, degree: 10\n",
      "eigen_index: 0, iter: 35, alpha: 0.000000000, beta: 1.000000000, tol: nan, lambda: nan, degree: 10\n",
      "eigen_index: 0, iter: 36, alpha: 0.000000000, beta: 1.000000000, tol: nan, lambda: nan, degree: 10\n",
      "eigen_index: 0, iter: 37, alpha: 0.000000000, beta: 1.000000000, tol: nan, lambda: nan, degree: 10\n",
      "eigen_index: 0, iter: 38, alpha: 0.000000000, beta: 1.000000000, tol: nan, lambda: nan, degree: 10\n",
      "eigen_index: 0, iter: 39, alpha: 0.000000000, beta: 1.000000000, tol: nan, lambda: nan, degree: 10\n",
      "eigen_index: 0, iter: 40, alpha: 0.000000000, beta: 1.000000000, tol: nan, lambda: nan, degree: 10\n",
      "eigen_index: 0, iter: 41, alpha: 0.000000000, beta: 1.000000000, tol: nan, lambda: nan, degree: 10\n",
      "eigen_index: 0, iter: 42, alpha: 0.000000000, beta: 1.000000000, tol: nan, lambda: nan, degree: 10\n",
      "eigen_index: 0, iter: 43, alpha: 0.000000000, beta: 1.000000000, tol: nan, lambda: nan, degree: 10\n",
      "eigen_index: 0, iter: 44, alpha: 0.000000000, beta: 1.000000000, tol: nan, lambda: nan, degree: 10\n",
      "eigen_index: 0, iter: 45, alpha: 0.000000000, beta: 1.000000000, tol: nan, lambda: nan, degree: 10\n",
      "eigen_index: 0, iter: 46, alpha: 0.000000000, beta: 1.000000000, tol: nan, lambda: nan, degree: 10\n",
      "eigen_index: 0, iter: 47, alpha: 0.000000000, beta: 1.000000000, tol: nan, lambda: nan, degree: 10\n",
      "eigen_index: 0, iter: 48, alpha: 0.000000000, beta: 1.000000000, tol: nan, lambda: nan, degree: 10\n",
      "eigen_index: 0, iter: 49, alpha: 0.000000000, beta: 1.000000000, tol: nan, lambda: nan, degree: 10\n",
      "eigen_index: 0, iter: 50, alpha: 0.000000000, beta: 1.000000000, tol: nan, lambda: nan, degree: 10\n",
      "eigen_index: 0, iter: 51, alpha: 0.000000000, beta: 1.000000000, tol: nan, lambda: nan, degree: 10\n",
      "eigen_index: 0, iter: 52, alpha: 0.000000000, beta: 1.000000000, tol: nan, lambda: nan, degree: 10\n",
      "eigen_index: 0, iter: 53, alpha: 0.000000000, beta: 1.000000000, tol: nan, lambda: nan, degree: 10\n",
      "eigen_index: 0, iter: 54, alpha: 0.000000000, beta: 1.000000000, tol: nan, lambda: nan, degree: 10\n",
      "eigen_index: 0, iter: 55, alpha: 0.000000000, beta: 1.000000000, tol: nan, lambda: nan, degree: 10\n",
      "eigen_index: 0, iter: 56, alpha: 0.000000000, beta: 1.000000000, tol: nan, lambda: nan, degree: 10\n",
      "eigen_index: 0, iter: 57, alpha: 0.000000000, beta: 1.000000000, tol: nan, lambda: nan, degree: 10\n",
      "eigen_index: 0, iter: 58, alpha: 0.000000000, beta: 1.000000000, tol: nan, lambda: nan, degree: 10\n",
      "eigen_index: 0, iter: 59, alpha: 0.000000000, beta: 1.000000000, tol: nan, lambda: nan, degree: 10\n",
      "eigen_index: 0, iter: 60, alpha: 0.000000000, beta: 1.000000000, tol: nan, lambda: nan, degree: 10\n",
      "eigen_index: 0, iter: 61, alpha: 0.000000000, beta: 1.000000000, tol: nan, lambda: nan, degree: 10\n",
      "eigen_index: 0, iter: 62, alpha: 0.000000000, beta: 1.000000000, tol: nan, lambda: nan, degree: 10\n",
      "eigen_index: 0, iter: 63, alpha: 0.000000000, beta: 1.000000000, tol: nan, lambda: nan, degree: 10\n",
      "eigen_index: 0, iter: 64, alpha: 0.000000000, beta: 1.000000000, tol: nan, lambda: nan, degree: 10\n",
      "eigen_index: 0, iter: 65, alpha: 0.000000000, beta: 1.000000000, tol: nan, lambda: nan, degree: 10\n",
      "eigen_index: 0, iter: 66, alpha: 0.000000000, beta: 1.000000000, tol: nan, lambda: nan, degree: 10\n",
      "eigen_index: 0, iter: 67, alpha: 0.000000000, beta: 1.000000000, tol: nan, lambda: nan, degree: 10\n",
      "eigen_index: 0, iter: 68, alpha: 0.000000000, beta: 1.000000000, tol: nan, lambda: nan, degree: 10\n",
      "eigen_index: 0, iter: 69, alpha: 0.000000000, beta: 1.000000000, tol: nan, lambda: nan, degree: 10\n",
      "eigen_index: 0, iter: 70, alpha: 0.000000000, beta: 1.000000000, tol: nan, lambda: nan, degree: 10\n",
      "eigen_index: 0, iter: 71, alpha: 0.000000000, beta: 1.000000000, tol: nan, lambda: nan, degree: 10\n",
      "eigen_index: 0, iter: 72, alpha: 0.000000000, beta: 1.000000000, tol: nan, lambda: nan, degree: 10\n",
      "eigen_index: 0, iter: 73, alpha: 0.000000000, beta: 1.000000000, tol: nan, lambda: nan, degree: 10\n",
      "eigen_index: 0, iter: 74, alpha: 0.000000000, beta: 1.000000000, tol: nan, lambda: nan, degree: 10\n",
      "eigen_index: 0, iter: 75, alpha: 0.000000000, beta: 1.000000000, tol: nan, lambda: nan, degree: 10\n",
      "eigen_index: 0, iter: 76, alpha: 0.000000000, beta: 1.000000000, tol: nan, lambda: nan, degree: 10\n",
      "eigen_index: 0, iter: 77, alpha: 0.000000000, beta: 1.000000000, tol: nan, lambda: nan, degree: 10\n",
      "eigen_index: 0, iter: 78, alpha: 0.000000000, beta: 1.000000000, tol: nan, lambda: nan, degree: 10\n",
      "eigen_index: 0, iter: 79, alpha: 0.000000000, beta: 1.000000000, tol: nan, lambda: nan, degree: 10\n",
      "eigen_index: 0, iter: 80, alpha: 0.000000000, beta: 1.000000000, tol: nan, lambda: nan, degree: 10\n",
      "eigen_index: 0, iter: 81, alpha: 0.000000000, beta: 1.000000000, tol: nan, lambda: nan, degree: 10\n",
      "eigen_index: 0, iter: 82, alpha: 0.000000000, beta: 1.000000000, tol: nan, lambda: nan, degree: 10\n",
      "eigen_index: 0, iter: 83, alpha: 0.000000000, beta: 1.000000000, tol: nan, lambda: nan, degree: 10\n",
      "eigen_index: 0, iter: 84, alpha: 0.000000000, beta: 1.000000000, tol: nan, lambda: nan, degree: 10\n",
      "eigen_index: 0, iter: 85, alpha: 0.000000000, beta: 1.000000000, tol: nan, lambda: nan, degree: 10\n",
      "eigen_index: 0, iter: 86, alpha: 0.000000000, beta: 1.000000000, tol: nan, lambda: nan, degree: 10\n",
      "eigen_index: 0, iter: 87, alpha: 0.000000000, beta: 1.000000000, tol: nan, lambda: nan, degree: 10\n",
      "eigen_index: 0, iter: 88, alpha: 0.000000000, beta: 1.000000000, tol: nan, lambda: nan, degree: 10\n",
      "eigen_index: 0, iter: 89, alpha: 0.000000000, beta: 1.000000000, tol: nan, lambda: nan, degree: 10\n",
      "eigen_index: 0, iter: 90, alpha: 0.000000000, beta: 1.000000000, tol: nan, lambda: nan, degree: 10\n",
      "eigen_index: 0, iter: 91, alpha: 0.000000000, beta: 1.000000000, tol: nan, lambda: nan, degree: 10\n",
      "eigen_index: 0, iter: 92, alpha: 0.000000000, beta: 1.000000000, tol: nan, lambda: nan, degree: 10\n",
      "eigen_index: 0, iter: 93, alpha: 0.000000000, beta: 1.000000000, tol: nan, lambda: nan, degree: 10\n",
      "eigen_index: 0, iter: 94, alpha: 0.000000000, beta: 1.000000000, tol: nan, lambda: nan, degree: 10\n",
      "eigen_index: 0, iter: 95, alpha: 0.000000000, beta: 1.000000000, tol: nan, lambda: nan, degree: 10\n",
      "eigen_index: 0, iter: 96, alpha: 0.000000000, beta: 1.000000000, tol: nan, lambda: nan, degree: 10\n",
      "eigen_index: 0, iter: 97, alpha: 0.000000000, beta: 1.000000000, tol: nan, lambda: nan, degree: 10\n",
      "eigen_index: 0, iter: 98, alpha: 0.000000000, beta: 1.000000000, tol: nan, lambda: nan, degree: 10\n",
      "eigen_index: 0, iter: 99, alpha: 0.000000000, beta: 1.000000000, tol: nan, lambda: nan, degree: 10\n",
      "eigen_index: 0, iter: 100, alpha: 0.000000000, beta: 1.000000000, tol: nan, lambda: nan, degree: 10\n",
      "eigen_index: 0, iter: 101, alpha: 0.000000000, beta: 1.000000000, tol: nan, lambda: nan, degree: 10\n",
      "eigen_index: 0, iter: 102, alpha: 0.000000000, beta: 1.000000000, tol: nan, lambda: nan, degree: 10\n",
      "eigen_index: 0, iter: 103, alpha: 0.000000000, beta: 1.000000000, tol: nan, lambda: nan, degree: 10\n",
      "eigen_index: 0, iter: 104, alpha: 0.000000000, beta: 1.000000000, tol: nan, lambda: nan, degree: 10\n",
      "eigen_index: 0, iter: 105, alpha: 0.000000000, beta: 1.000000000, tol: nan, lambda: nan, degree: 10\n",
      "eigen_index: 0, iter: 106, alpha: 0.000000000, beta: 1.000000000, tol: nan, lambda: nan, degree: 10\n",
      "eigen_index: 0, iter: 107, alpha: 0.000000000, beta: 1.000000000, tol: nan, lambda: nan, degree: 10\n",
      "eigen_index: 0, iter: 108, alpha: 0.000000000, beta: 1.000000000, tol: nan, lambda: nan, degree: 10\n",
      "eigen_index: 0, iter: 109, alpha: 0.000000000, beta: 1.000000000, tol: nan, lambda: nan, degree: 10\n",
      "eigen_index: 0, iter: 110, alpha: 0.000000000, beta: 1.000000000, tol: nan, lambda: nan, degree: 10\n",
      "eigen_index: 0, iter: 111, alpha: 0.000000000, beta: 1.000000000, tol: nan, lambda: nan, degree: 10\n",
      "eigen_index: 0, iter: 112, alpha: 0.000000000, beta: 1.000000000, tol: nan, lambda: nan, degree: 10\n",
      "eigen_index: 0, iter: 113, alpha: 0.000000000, beta: 1.000000000, tol: nan, lambda: nan, degree: 10\n",
      "eigen_index: 0, iter: 114, alpha: 0.000000000, beta: 1.000000000, tol: nan, lambda: nan, degree: 10\n",
      "eigen_index: 0, iter: 115, alpha: 0.000000000, beta: 1.000000000, tol: nan, lambda: nan, degree: 10\n",
      "eigen_index: 0, iter: 116, alpha: 0.000000000, beta: 1.000000000, tol: nan, lambda: nan, degree: 10\n",
      "eigen_index: 0, iter: 117, alpha: 0.000000000, beta: 1.000000000, tol: nan, lambda: nan, degree: 10\n",
      "eigen_index: 0, iter: 118, alpha: 0.000000000, beta: 1.000000000, tol: nan, lambda: nan, degree: 10\n",
      "eigen_index: 0, iter: 119, alpha: 0.000000000, beta: 1.000000000, tol: nan, lambda: nan, degree: 10\n",
      "eigen_index: 0, iter: 120, alpha: 0.000000000, beta: 1.000000000, tol: nan, lambda: nan, degree: 10\n",
      "eigen_index: 0, iter: 121, alpha: 0.000000000, beta: 1.000000000, tol: nan, lambda: nan, degree: 10\n",
      "eigen_index: 0, iter: 122, alpha: 0.000000000, beta: 1.000000000, tol: nan, lambda: nan, degree: 10\n",
      "eigen_index: 0, iter: 123, alpha: 0.000000000, beta: 1.000000000, tol: nan, lambda: nan, degree: 10\n",
      "eigen_index: 0, iter: 124, alpha: 0.000000000, beta: 1.000000000, tol: nan, lambda: nan, degree: 10\n",
      "eigen_index: 0, iter: 125, alpha: 0.000000000, beta: 1.000000000, tol: nan, lambda: nan, degree: 10\n",
      "eigen_index: 0, iter: 126, alpha: 0.000000000, beta: 1.000000000, tol: nan, lambda: nan, degree: 10\n",
      "eigen_index: 0, iter: 127, alpha: 0.000000000, beta: 1.000000000, tol: nan, lambda: nan, degree: 10\n",
      "eigen_index: 0, iter: 128, alpha: 0.000000000, beta: 1.000000000, tol: nan, lambda: nan, degree: 10\n",
      "eigen_index: 0, iter: 129, alpha: 0.000000000, beta: 1.000000000, tol: nan, lambda: nan, degree: 10\n",
      "eigen_index: 0, iter: 130, alpha: 0.000000000, beta: 1.000000000, tol: nan, lambda: nan, degree: 10\n",
      "eigen_index: 0, iter: 131, alpha: 0.000000000, beta: 1.000000000, tol: nan, lambda: nan, degree: 10\n",
      "eigen_index: 0, iter: 132, alpha: 0.000000000, beta: 1.000000000, tol: nan, lambda: nan, degree: 10\n",
      "eigen_index: 0, iter: 133, alpha: 0.000000000, beta: 1.000000000, tol: nan, lambda: nan, degree: 10\n",
      "eigen_index: 0, iter: 134, alpha: 0.000000000, beta: 1.000000000, tol: nan, lambda: nan, degree: 10\n",
      "eigen_index: 0, iter: 135, alpha: 0.000000000, beta: 1.000000000, tol: nan, lambda: nan, degree: 10\n",
      "eigen_index: 0, iter: 136, alpha: 0.000000000, beta: 1.000000000, tol: nan, lambda: nan, degree: 10\n",
      "eigen_index: 0, iter: 137, alpha: 0.000000000, beta: 1.000000000, tol: nan, lambda: nan, degree: 10\n",
      "eigen_index: 0, iter: 138, alpha: 0.000000000, beta: 1.000000000, tol: nan, lambda: nan, degree: 10\n",
      "eigen_index: 0, iter: 139, alpha: 0.000000000, beta: 1.000000000, tol: nan, lambda: nan, degree: 10\n",
      "eigen_index: 0, iter: 140, alpha: 0.000000000, beta: 1.000000000, tol: nan, lambda: nan, degree: 10\n",
      "eigen_index: 0, iter: 141, alpha: 0.000000000, beta: 1.000000000, tol: nan, lambda: nan, degree: 10\n",
      "eigen_index: 0, iter: 142, alpha: 0.000000000, beta: 1.000000000, tol: nan, lambda: nan, degree: 10\n",
      "eigen_index: 0, iter: 143, alpha: 0.000000000, beta: 1.000000000, tol: nan, lambda: nan, degree: 10\n",
      "eigen_index: 0, iter: 144, alpha: 0.000000000, beta: 1.000000000, tol: nan, lambda: nan, degree: 10\n",
      "eigen_index: 0, iter: 145, alpha: 0.000000000, beta: 1.000000000, tol: nan, lambda: nan, degree: 10\n",
      "eigen_index: 0, iter: 146, alpha: 0.000000000, beta: 1.000000000, tol: nan, lambda: nan, degree: 10\n",
      "eigen_index: 0, iter: 147, alpha: 0.000000000, beta: 1.000000000, tol: nan, lambda: nan, degree: 10\n",
      "eigen_index: 0, iter: 148, alpha: 0.000000000, beta: 1.000000000, tol: nan, lambda: nan, degree: 10\n",
      "eigen_index: 0, iter: 149, alpha: 0.000000000, beta: 1.000000000, tol: nan, lambda: nan, degree: 10\n",
      "eigen_index: 0, iter: 150, alpha: 0.000000000, beta: 1.000000000, tol: nan, lambda: nan, degree: 10\n",
      "eigen_index: 0, iter: 151, alpha: 0.000000000, beta: 1.000000000, tol: nan, lambda: nan, degree: 10\n",
      "eigen_index: 0, iter: 152, alpha: 0.000000000, beta: 1.000000000, tol: nan, lambda: nan, degree: 10\n",
      "eigen_index: 0, iter: 153, alpha: 0.000000000, beta: 1.000000000, tol: nan, lambda: nan, degree: 10\n",
      "eigen_index: 0, iter: 154, alpha: 0.000000000, beta: 1.000000000, tol: nan, lambda: nan, degree: 10\n",
      "eigen_index: 0, iter: 155, alpha: 0.000000000, beta: 1.000000000, tol: nan, lambda: nan, degree: 10\n",
      "eigen_index: 0, iter: 156, alpha: 0.000000000, beta: 1.000000000, tol: nan, lambda: nan, degree: 10\n",
      "eigen_index: 0, iter: 157, alpha: 0.000000000, beta: 1.000000000, tol: nan, lambda: nan, degree: 10\n",
      "eigen_index: 0, iter: 158, alpha: 0.000000000, beta: 1.000000000, tol: nan, lambda: nan, degree: 10\n",
      "eigen_index: 0, iter: 159, alpha: 0.000000000, beta: 1.000000000, tol: nan, lambda: nan, degree: 10\n",
      "eigen_index: 0, iter: 160, alpha: 0.000000000, beta: 1.000000000, tol: nan, lambda: nan, degree: 10\n",
      "eigen_index: 0, iter: 161, alpha: 0.000000000, beta: 1.000000000, tol: nan, lambda: nan, degree: 10\n",
      "eigen_index: 0, iter: 162, alpha: 0.000000000, beta: 1.000000000, tol: nan, lambda: nan, degree: 10\n",
      "eigen_index: 0, iter: 163, alpha: 0.000000000, beta: 1.000000000, tol: nan, lambda: nan, degree: 10\n",
      "eigen_index: 0, iter: 164, alpha: 0.000000000, beta: 1.000000000, tol: nan, lambda: nan, degree: 10\n",
      "eigen_index: 0, iter: 165, alpha: 0.000000000, beta: 1.000000000, tol: nan, lambda: nan, degree: 10\n",
      "eigen_index: 0, iter: 166, alpha: 0.000000000, beta: 1.000000000, tol: nan, lambda: nan, degree: 10\n",
      "eigen_index: 0, iter: 167, alpha: 0.000000000, beta: 1.000000000, tol: nan, lambda: nan, degree: 10\n",
      "eigen_index: 0, iter: 168, alpha: 0.000000000, beta: 1.000000000, tol: nan, lambda: nan, degree: 10\n",
      "eigen_index: 0, iter: 169, alpha: 0.000000000, beta: 1.000000000, tol: nan, lambda: nan, degree: 10\n",
      "eigen_index: 0, iter: 170, alpha: 0.000000000, beta: 1.000000000, tol: nan, lambda: nan, degree: 10\n",
      "eigen_index: 0, iter: 171, alpha: 0.000000000, beta: 1.000000000, tol: nan, lambda: nan, degree: 10\n",
      "eigen_index: 0, iter: 172, alpha: 0.000000000, beta: 1.000000000, tol: nan, lambda: nan, degree: 10\n",
      "eigen_index: 0, iter: 173, alpha: 0.000000000, beta: 1.000000000, tol: nan, lambda: nan, degree: 10\n",
      "eigen_index: 0, iter: 174, alpha: 0.000000000, beta: 1.000000000, tol: nan, lambda: nan, degree: 10\n",
      "eigen_index: 0, iter: 175, alpha: 0.000000000, beta: 1.000000000, tol: nan, lambda: nan, degree: 10\n",
      "eigen_index: 0, iter: 176, alpha: 0.000000000, beta: 1.000000000, tol: nan, lambda: nan, degree: 10\n",
      "eigen_index: 0, iter: 177, alpha: 0.000000000, beta: 1.000000000, tol: nan, lambda: nan, degree: 10\n",
      "eigen_index: 0, iter: 178, alpha: 0.000000000, beta: 1.000000000, tol: nan, lambda: nan, degree: 10\n",
      "eigen_index: 0, iter: 179, alpha: 0.000000000, beta: 1.000000000, tol: nan, lambda: nan, degree: 10\n",
      "eigen_index: 0, iter: 180, alpha: 0.000000000, beta: 1.000000000, tol: nan, lambda: nan, degree: 10\n",
      "eigen_index: 0, iter: 181, alpha: 0.000000000, beta: 1.000000000, tol: nan, lambda: nan, degree: 10\n",
      "eigen_index: 0, iter: 182, alpha: 0.000000000, beta: 1.000000000, tol: nan, lambda: nan, degree: 10\n",
      "eigen_index: 0, iter: 183, alpha: 0.000000000, beta: 1.000000000, tol: nan, lambda: nan, degree: 10\n",
      "eigen_index: 0, iter: 184, alpha: 0.000000000, beta: 1.000000000, tol: nan, lambda: nan, degree: 10\n",
      "eigen_index: 0, iter: 185, alpha: 0.000000000, beta: 1.000000000, tol: nan, lambda: nan, degree: 10\n",
      "eigen_index: 0, iter: 186, alpha: 0.000000000, beta: 1.000000000, tol: nan, lambda: nan, degree: 10\n",
      "eigen_index: 0, iter: 187, alpha: 0.000000000, beta: 1.000000000, tol: nan, lambda: nan, degree: 10\n",
      "eigen_index: 0, iter: 188, alpha: 0.000000000, beta: 1.000000000, tol: nan, lambda: nan, degree: 10\n",
      "eigen_index: 0, iter: 189, alpha: 0.000000000, beta: 1.000000000, tol: nan, lambda: nan, degree: 10\n",
      "eigen_index: 0, iter: 190, alpha: 0.000000000, beta: 1.000000000, tol: nan, lambda: nan, degree: 10\n",
      "eigen_index: 0, iter: 191, alpha: 0.000000000, beta: 1.000000000, tol: nan, lambda: nan, degree: 10\n",
      "eigen_index: 0, iter: 192, alpha: 0.000000000, beta: 1.000000000, tol: nan, lambda: nan, degree: 10\n",
      "eigen_index: 0, iter: 193, alpha: 0.000000000, beta: 1.000000000, tol: nan, lambda: nan, degree: 10\n",
      "eigen_index: 0, iter: 194, alpha: 0.000000000, beta: 1.000000000, tol: nan, lambda: nan, degree: 10\n",
      "eigen_index: 0, iter: 195, alpha: 0.000000000, beta: 1.000000000, tol: nan, lambda: nan, degree: 10\n",
      "eigen_index: 0, iter: 196, alpha: 0.000000000, beta: 1.000000000, tol: nan, lambda: nan, degree: 10\n",
      "eigen_index: 0, iter: 197, alpha: 0.000000000, beta: 1.000000000, tol: nan, lambda: nan, degree: 10\n",
      "eigen_index: 0, iter: 198, alpha: 0.000000000, beta: 1.000000000, tol: nan, lambda: nan, degree: 10\n",
      "eigen_index: 0, iter: 199, alpha: 0.000000000, beta: 1.000000000, tol: nan, lambda: nan, degree: 10\n",
      "eigen_index: 0, time: 2.97s\n"
     ]
    }
   ],
   "source": [
    "x=cg.solver(b=b,matvec=matvec)\n",
    "_=eigen.solver(n=1,k=1,matvec=matvec,dtype=b.dtype)"
   ]
  },
  {
   "cell_type": "code",
   "execution_count": 6,
   "id": "e63e7668",
   "metadata": {},
   "outputs": [
    {
     "data": {
      "text/plain": [
       "(array([nan+0.j]), array([[nan+nanj]]))"
      ]
     },
     "execution_count": 6,
     "metadata": {},
     "output_type": "execute_result"
    }
   ],
   "source": [
    "_"
   ]
  },
  {
   "cell_type": "code",
   "execution_count": 4,
   "id": "d3f8e8ac",
   "metadata": {},
   "outputs": [
    {
     "data": {
      "text/plain": [
       "cupy.ndarray"
      ]
     },
     "execution_count": 4,
     "metadata": {},
     "output_type": "execute_result"
    }
   ],
   "source": [
    "type(x)"
   ]
  },
  {
   "cell_type": "code",
   "execution_count": 5,
   "id": "a6af8ff5",
   "metadata": {},
   "outputs": [
    {
     "data": {
      "text/plain": [
       "array([1.+0.j])"
      ]
     },
     "execution_count": 5,
     "metadata": {},
     "output_type": "execute_result"
    }
   ],
   "source": [
    "x"
   ]
  },
  {
   "cell_type": "code",
   "execution_count": null,
   "id": "9f7101d4",
   "metadata": {},
   "outputs": [],
   "source": []
  }
 ],
 "metadata": {
  "kernelspec": {
   "display_name": "Python 3",
   "language": "python",
   "name": "python3"
  },
  "language_info": {
   "codemirror_mode": {
    "name": "ipython",
    "version": 3
   },
   "file_extension": ".py",
   "mimetype": "text/x-python",
   "name": "python",
   "nbconvert_exporter": "python",
   "pygments_lexer": "ipython3",
   "version": "3.8.10"
  }
 },
 "nbformat": 4,
 "nbformat_minor": 5
}
