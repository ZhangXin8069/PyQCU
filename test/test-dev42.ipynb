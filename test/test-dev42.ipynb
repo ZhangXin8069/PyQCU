{
    "cells": [
        {
            "cell_type": "markdown",
            "metadata": {},
            "source": [
                "# Init for pyqcu."
            ]
        },
        {
            "cell_type": "code",
            "execution_count": null,
            "metadata": {},
            "outputs": [],
            "source": [
                "import cupy as cp\n",
                "import numpy as np\n",
                "import functools\n",
                "import cupyx.scipy.sparse as cpx_sparse\n",
                "from pyqcu import define\n",
                "from pyqcu import io\n",
                "from pyqcu import qcu\n",
                "from pyqcu import eigen, cg, bistabcg\n",
                "from opt_einsum import contract\n",
                "from pyqcu.set import params, argv, set_ptrs\n",
                "params[define._NODE_RANK_] = define.rank\n",
                "params[define._NODE_SIZE_] = define.size\n",
                "params[define._MG_X_] = 4\n",
                "params[define._MG_Y_] = 4\n",
                "params[define._MG_Z_] = 4\n",
                "params[define._MG_T_] = 2"
            ]
        },
        {
            "cell_type": "markdown",
            "metadata": {},
            "source": [
                "# Give matvec."
            ]
        },
        {
            "cell_type": "code",
            "execution_count": null,
            "metadata": {},
            "outputs": [],
            "source": [
                "index = -1\n",
                "n = 8**3*4*3*4\n",
                "\n",
                "\n",
                "def generate_sparse_complex_psd_matrix(n, density=0.1):\n",
                "    real_part = cpx_sparse.random(\n",
                "        n, n, density=density, format=\"csr\", dtype=cp.float32)\n",
                "    imag_part = cpx_sparse.random(\n",
                "        n, n, density=density, format=\"csr\", dtype=cp.float32)\n",
                "    A = real_part + 1j * imag_part\n",
                "    A_hermitian = A + A.getH()\n",
                "    A_psd = A_hermitian + n * cpx_sparse.identity(n, dtype=cp.complex64)\n",
                "    return A_psd\n",
                "\n",
                "\n",
                "A = generate_sparse_complex_psd_matrix(n)\n",
                "print(A.shape)\n",
                "\n",
                "\n",
                "def matvec(src):\n",
                "    return A@src"
            ]
        },
        {
            "cell_type": "markdown",
            "metadata": {},
            "source": [
                "# Give guage's eigenvalues and eigenvectors to hdf5 files. (pass, don't run this)"
            ]
        },
        {
            "cell_type": "code",
            "execution_count": null,
            "metadata": {},
            "outputs": [],
            "source": [
                "eigen_solver = eigen.solver(\n",
                "    n=n, k=define._LAT_Ne_,matvec=matvec,dtype=A.dtype)\n",
                "eigenvalues, eigenvectors = eigen_solver.run()"
            ]
        },
        {
            "cell_type": "markdown",
            "metadata": {},
            "source": [
                "# Run matvec(eigenvector[.]) ?= eigenvalue[.]*eigenvector[.] for eigen test. (pass, don't run this)"
            ]
        },
        {
            "cell_type": "code",
            "execution_count": null,
            "metadata": {},
            "outputs": [],
            "source": [
                "for i, ev in enumerate(eigenvalues):\n",
                "    print(f\"λ_{i} = {ev:.2e}\")\n",
                "    # Verify eigenvector\n",
                "    v = eigenvectors[i]\n",
                "    w = cp.zeros_like(v)\n",
                "    w = matvec(v)\n",
                "    error = cp.linalg.norm(w - ev * v) / cp.linalg.norm(w)\n",
                "    print(f\"Relative error: {error:.2e}\")\n",
                "    j = i+1\n",
                "    if j == len(eigenvalues):\n",
                "        j = 0\n",
                "    print(\n",
                "        f\"Diff between λ_{i} and λ_{j}: {cp.linalg.norm(eigenvectors[i] - eigenvectors[j])/cp.linalg.norm(eigenvectors[i]):.2e}\")"
            ]
        },
        {
            "cell_type": "markdown",
            "metadata": {},
            "source": [
                "# Give guage's orth_eigenvectors to hdf5 files. (pass, don't run this)"
            ]
        },
        {
            "cell_type": "code",
            "execution_count": null,
            "metadata": {},
            "outputs": [],
            "source": [
                "_eigenvectors = io.xxxtzyx2mg_xxxtzyx(input_array=eigenvectors, params=params)\n",
                "_eigenvectors.shape  # escTtZzYyXx\n",
                "def orthogonalize(eigenvectors):\n",
                "    _eigenvectors = eigenvectors.copy()\n",
                "    size_e, size_s, size_c, size_T, size_t, size_Z, size_z, size_Y, size_y, size_X, size_x = eigenvectors.shape\n",
                "    print(size_e, size_s, size_c, size_T, size_t,\n",
                "          size_Z, size_z, size_Y, size_y, size_X, size_x)\n",
                "    for T in range(size_T):\n",
                "        for Z in range(size_Z):\n",
                "            for Y in range(size_Y):\n",
                "                for X in range(size_X):\n",
                "                    origin_matrix = eigenvectors[:,\n",
                "                                                 :, :, T, :, Z, :, Y, :, X, :]\n",
                "                    _shape = origin_matrix.shape\n",
                "                    _origin_matrix = origin_matrix.reshape(size_e, -1)\n",
                "                    condition_number = np.linalg.cond(_origin_matrix.get())\n",
                "                    print(f\"矩阵条件数: {condition_number}\")\n",
                "                    a = _origin_matrix[:, 0]\n",
                "                    b = _origin_matrix[:, -1]\n",
                "                    print(cp.dot(a.conj(), b))\n",
                "                    Q = cp.linalg.qr(_origin_matrix.T)[0]\n",
                "                    condition_number = np.linalg.cond(Q.get())\n",
                "                    print(f\"矩阵条件数: {condition_number}\")\n",
                "                    a = Q[:, 0]\n",
                "                    b = Q[:, -1]\n",
                "                    print(cp.dot(a.conj(), b))\n",
                "                    _eigenvectors[:, :, :, T, :, Z, :, Y, :, X, :] = Q.T.reshape(\n",
                "                        _shape)\n",
                "    return _eigenvectors\n",
                "orth_eigenvectors = orthogonalize(_eigenvectors)"
            ]
        },
        {
            "cell_type": "markdown",
            "metadata": {},
            "source": [
                "# MultiGrid - give grids."
            ]
        },
        {
            "cell_type": "code",
            "execution_count": null,
            "metadata": {},
            "outputs": [],
            "source": [
                "testvectors = io.xxxtzyx2mg_xxxtzyx(input_array=orth_eigenvectors, params=params)\n",
                "_src = cp.ones(n, dtype=A.dtype)"
            ]
        },
        {
            "cell_type": "markdown",
            "metadata": {},
            "source": [
                "# MultiGrid - R*vector.\n",
                "![](./image0-dev40.png)"
            ]
        },
        {
            "cell_type": "code",
            "execution_count": null,
            "metadata": {},
            "outputs": [],
            "source": [
                "r_src = _src\n",
                "\n",
                "\n",
                "def r_vec(src):\n",
                "    return contract(\"escTtZzYyXx,scTtZzYyXx->eTZYX\", testvectors, src)\n",
                "\n",
                "\n",
                "r_dest = r_vec(r_src)"
            ]
        },
        {
            "cell_type": "code",
            "execution_count": null,
            "metadata": {},
            "outputs": [],
            "source": [
                "r_dest.shape"
            ]
        },
        {
            "cell_type": "markdown",
            "metadata": {},
            "source": [
                "# MultiGrid - P*vector.\n",
                "![](./image1-dev40.png)\n"
            ]
        },
        {
            "cell_type": "code",
            "execution_count": null,
            "metadata": {},
            "outputs": [],
            "source": [
                "p_src = r_dest\n",
                "\n",
                "\n",
                "def p_vec(src):\n",
                "    return contract(\"escTtZzYyXx,eTZYX->scTtZzYyXx\", cp.conj(testvectors), src)\n",
                "\n",
                "\n",
                "p_dest = p_vec(p_src)"
            ]
        },
        {
            "cell_type": "code",
            "execution_count": null,
            "metadata": {},
            "outputs": [],
            "source": [
                "p_dest.shape"
            ]
        },
        {
            "cell_type": "markdown",
            "metadata": {},
            "source": [
                "# MultiGrid - verify above.\n",
                "![](./image2-dev40.png)"
            ]
        },
        {
            "cell_type": "code",
            "execution_count": null,
            "metadata": {},
            "outputs": [],
            "source": [
                "print(cp.linalg.norm(r_src))\n",
                "print(cp.linalg.norm(p_dest))"
            ]
        },
        {
            "cell_type": "code",
            "execution_count": null,
            "metadata": {},
            "outputs": [],
            "source": [
                "print(cp.linalg.norm(r_src-p_dest)/cp.linalg.norm(r_src))"
            ]
        },
        {
            "cell_type": "code",
            "execution_count": null,
            "metadata": {},
            "outputs": [],
            "source": [
                "print(cp.linalg.norm(r_src-p_vec(r_vec(r_src)))/cp.linalg.norm(r_src))"
            ]
        },
        {
            "cell_type": "code",
            "execution_count": null,
            "metadata": {},
            "outputs": [],
            "source": [
                "r_src.flatten()[:50]"
            ]
        },
        {
            "cell_type": "code",
            "execution_count": null,
            "metadata": {},
            "outputs": [],
            "source": [
                "r_src.flatten()[-50:]"
            ]
        },
        {
            "cell_type": "code",
            "execution_count": null,
            "metadata": {},
            "outputs": [],
            "source": [
                "p_dest.flatten()[:50]"
            ]
        },
        {
            "cell_type": "code",
            "execution_count": null,
            "metadata": {},
            "outputs": [],
            "source": [
                "p_dest.flatten()[-50:]"
            ]
        },
        {
            "cell_type": "code",
            "execution_count": null,
            "metadata": {},
            "outputs": [],
            "source": [
                "cp.linalg.norm(r_src-p_dest)/cp.linalg.norm(r_src)"
            ]
        },
        {
            "cell_type": "code",
            "execution_count": null,
            "metadata": {},
            "outputs": [],
            "source": [
                "cp.linalg.norm(r_src-p_dest)/cp.linalg.norm(p_dest)"
            ]
        },
        {
            "cell_type": "code",
            "execution_count": null,
            "metadata": {},
            "outputs": [],
            "source": [
                "p_vec(r_vec(p_vec(r_vec(p_vec(r_vec(p_vec(r_vec(r_src)))))))).flatten()[:50]"
            ]
        },
        {
            "cell_type": "code",
            "execution_count": null,
            "metadata": {},
            "outputs": [],
            "source": [
                "cp.linalg.norm(r_src-p_vec(r_vec(p_vec(r_vec(p_vec(r_vec(p_vec(r_vec(r_src)))))))))/cp.linalg.norm(r_src) #???"
            ]
        },
        {
            "cell_type": "code",
            "execution_count": null,
            "metadata": {},
            "outputs": [],
            "source": [
                "# _mat = contract(\"escTtZzYyXx,escTtZzYyXx->scTtZzYyXx\",\n",
                "#                 testvectors, cp.conj(testvectors)).flatten()\n",
                "# print(cp.linalg.norm(_mat))\n",
                "# print(_mat[:100])"
            ]
        },
        {
            "cell_type": "markdown",
            "metadata": {},
            "source": [
                "# MultiGrid - R*matvec\\*P."
            ]
        },
        {
            "cell_type": "code",
            "execution_count": null,
            "metadata": {},
            "outputs": [],
            "source": [
                "def _r_matvec_p(src, matvec):\n",
                "    return r_vec(matvec(p_vec(io.xxx2eTZYX(src, params))))\n",
                "\n",
                "\n",
                "def r_matvec_p(src, matvec):\n",
                "    return io.array2xxx(_r_matvec_p(src, matvec))"
            ]
        },
        {
            "cell_type": "markdown",
            "metadata": {},
            "source": [
                "# MultiGrid - verify above."
            ]
        },
        {
            "cell_type": "code",
            "execution_count": null,
            "metadata": {},
            "outputs": [],
            "source": [
                "D_r_src = matvec(r_src)"
            ]
        },
        {
            "cell_type": "code",
            "execution_count": null,
            "metadata": {},
            "outputs": [],
            "source": [
                "D_r_src.flatten()[:50]"
            ]
        },
        {
            "cell_type": "code",
            "execution_count": null,
            "metadata": {},
            "outputs": [],
            "source": [
                "p_r_D_p_r_dest=p_vec(_r_matvec_p(r_dest,matvec=cg_dslash))"
            ]
        },
        {
            "cell_type": "code",
            "execution_count": null,
            "metadata": {},
            "outputs": [],
            "source": [
                "p_r_D_p_r_dest.flatten()[:50]"
            ]
        },
        {
            "cell_type": "code",
            "execution_count": null,
            "metadata": {},
            "outputs": [],
            "source": [
                "cp.linalg.norm(D_r_src-p_r_D_p_r_dest)/cp.linalg.norm(D_r_src)"
            ]
        },
        {
            "cell_type": "code",
            "execution_count": null,
            "metadata": {},
            "outputs": [],
            "source": [
                "r_dest.flatten()[:50]"
            ]
        },
        {
            "cell_type": "code",
            "execution_count": null,
            "metadata": {},
            "outputs": [],
            "source": [
                "p_vec(r_dest).flatten()[:50]"
            ]
        },
        {
            "cell_type": "markdown",
            "metadata": {},
            "source": [
                "# MultiGrid - CG (BUG!!!)"
            ]
        },
        {
            "cell_type": "code",
            "execution_count": null,
            "metadata": {},
            "outputs": [],
            "source": [
                "# b_e = fermion_in[define._EVEN_].flatten()\n",
                "# b_o = fermion_in[define._ODD_].flatten()\n",
                "# b__o = cp.zeros_like(b_o)\n",
                "# tmp = cp.zeros_like(b_o)\n",
                "# # b__o=b_o+kappa*D_oe(b_e)\n",
                "# qcu.applyWilsonDslashQcu(tmp, b_e, gauge, set_ptrs, wilson_dslash_oe_params)\n",
                "# b__o = b_o+kappa*tmp\n",
                "# # b__o -> Dslash^dag b__o\n",
                "# b__o = cg_dslash_dag(b__o)"
            ]
        },
        {
            "cell_type": "code",
            "execution_count": null,
            "metadata": {},
            "outputs": [],
            "source": [
                "# # # Dslash(x_o)=b__o\n",
                "# # cg_solver = cg.slover(b=b__o, matvec=cg_dslash, tol=1e-10, max_iter=1000000)\n",
                "# # x_o = cg_solver.run()\n",
                "\n",
                "# # mg version\n",
                "# mg_b__o = r_vec(io.xxxtzyx2mg_xxxtzyx(io.fermion2sctzyx(b__o, params), params)).flatten()\n",
                "# cg_solver = cg.slover(b=mg_b__o, matvec=functools.partial(r_matvec_p, matvec=cg_dslash),\n",
                "#                       tol=1e-5, max_iter=1000000)\n",
                "# mg_x_o = cg_solver.run()"
            ]
        },
        {
            "cell_type": "code",
            "execution_count": null,
            "metadata": {},
            "outputs": [],
            "source": [
                "# # x_e  =b_e+kappa*D_eo(x_o)\n",
                "# qcu.applyWilsonDslashQcu(tmp, x_o, gauge, set_ptrs, wilson_dslash_eo_params)\n",
                "# x_e = b_e+kappa*tmp\n",
                "# # give qcu_fermion_out\n",
                "# qcu_fermion_out = cp.zeros_like(quda_fermion_out)\n",
                "# qcu_fermion_out[define._EVEN_] = x_e.reshape(\n",
                "#     quda_fermion_out[define._EVEN_].shape)\n",
                "# qcu_fermion_out[define._ODD_] = x_o.reshape(\n",
                "#     quda_fermion_out[define._ODD_].shape)\n"
            ]
        },
        {
            "cell_type": "code",
            "execution_count": null,
            "metadata": {},
            "outputs": [],
            "source": [
                "# print(np.linalg.norm(qcu_fermion_out-quda_fermion_out) / \\\n",
                "#     np.linalg.norm(quda_fermion_out))"
            ]
        },
        {
            "cell_type": "markdown",
            "metadata": {},
            "source": [
                "# MultiGrid - BISTABCG (TESTING......)"
            ]
        },
        {
            "cell_type": "code",
            "execution_count": null,
            "metadata": {},
            "outputs": [],
            "source": [
                "b_e = fermion_in[define._EVEN_].flatten()\n",
                "b_o = fermion_in[define._ODD_].flatten()\n",
                "b__o = cp.zeros_like(b_o)\n",
                "tmp = cp.zeros_like(b_o)\n",
                "# b__o=b_o+kappa*D_oe(b_e)\n",
                "qcu.applyWilsonDslashQcu(tmp, b_e, gauge, set_ptrs, wilson_dslash_oe_params)\n",
                "b__o = b_o+kappa*tmp"
            ]
        },
        {
            "cell_type": "code",
            "execution_count": null,
            "metadata": {},
            "outputs": [],
            "source": [
                "# # Dslash(x_o)=b__o\n",
                "# bistabcg_solver = bistabcg.slover(\n",
                "#     b=b__o, matvec=bistabcg_dslash, tol=1e-10, max_iter=1000000)\n",
                "# x_o = bistabcg_solver.run()\n",
                "# io.xxx2hdf5_xxx(x_o, params, 'x_o.h5')"
            ]
        },
        {
            "cell_type": "code",
            "execution_count": null,
            "metadata": {},
            "outputs": [],
            "source": [
                "# mg version\n",
                "mg_b__o = r_vec(io.xxxtzyx2mg_xxxtzyx(io.fermion2sctzyx(b__o, params), params)).flatten()\n",
                "bistabcg_solver = bistabcg.slover(\n",
                "    b=mg_b__o, matvec=functools.partial(r_matvec_p, matvec=bistabcg_dslash), tol=1e-10, max_iter=1000000)\n",
                "mg_x_o = bistabcg_solver.run()\n",
                "_x_o=io.array2xxx(p_vec(io.xxx2eTZYX(mg_x_o, params)))\n",
                "io.xxx2hdf5_xxx(_x_o, params, '_x_o.h5')\n"
            ]
        },
        {
            "cell_type": "code",
            "execution_count": null,
            "metadata": {},
            "outputs": [],
            "source": [
                "# # x_e  =b_e+kappa*D_eo(x_o)\n",
                "# qcu.applyWilsonDslashQcu(tmp, x_o, gauge, set_ptrs, wilson_dslash_eo_params)\n",
                "# x_e = b_e+kappa*tmp\n",
                "# # give qcu_fermion_out\n",
                "# qcu_fermion_out = cp.zeros_like(quda_fermion_out)\n",
                "# qcu_fermion_out[define._EVEN_] = x_e.reshape(\n",
                "#     quda_fermion_out[define._EVEN_].shape)\n",
                "# qcu_fermion_out[define._ODD_] = x_o.reshape(\n",
                "#     quda_fermion_out[define._ODD_].shape)\n",
                "# print(np.linalg.norm(qcu_fermion_out-quda_fermion_out) / \\\n",
                "#     np.linalg.norm(quda_fermion_out))"
            ]
        },
        {
            "cell_type": "code",
            "execution_count": null,
            "metadata": {},
            "outputs": [],
            "source": [
                "x_o=io.hdf5_xxx2xxx(params,'x_o.h5')\n",
                "_x_o=io.hdf5_xxx2xxx(params,'_x_o.h5')"
            ]
        },
        {
            "cell_type": "code",
            "execution_count": null,
            "metadata": {},
            "outputs": [],
            "source": [
                "x_o.flatten()[:50]"
            ]
        },
        {
            "cell_type": "code",
            "execution_count": null,
            "metadata": {},
            "outputs": [],
            "source": [
                "_x_o.flatten()[:50]"
            ]
        },
        {
            "cell_type": "code",
            "execution_count": null,
            "metadata": {},
            "outputs": [],
            "source": [
                "print(np.linalg.norm(_x_o-x_o) /\n",
                "      np.linalg.norm(x_o))"
            ]
        },
        {
            "cell_type": "markdown",
            "metadata": {},
            "source": [
                "# End for CG & BISTABCG. (pass, don't run this)"
            ]
        },
        {
            "cell_type": "code",
            "execution_count": null,
            "metadata": {},
            "outputs": [],
            "source": [
                "# cg_solver.end()\n",
                "# bistabcg_solver.end()"
            ]
        },
        {
            "cell_type": "markdown",
            "metadata": {},
            "source": [
                "# End for pyqcu. (pass, don't run this)"
            ]
        },
        {
            "cell_type": "code",
            "execution_count": null,
            "metadata": {},
            "outputs": [],
            "source": [
                "# qcu.applyEndQcu(set_ptrs, params)\n",
                "# qcu.applyEndQcu(set_ptrs, wilson_dslash_eo_params)\n",
                "# qcu.applyEndQcu(set_ptrs, wilson_dslash_oe_params)\n",
                "# qcu.applyEndQcu(set_ptrs, wilson_dslash_eo_dag_params)\n",
                "# qcu.applyEndQcu(set_ptrs, wilson_dslash_oe_dag_params)"
            ]
        }
    ],
    "metadata": {
        "kernelspec": {
            "display_name": "Python 3",
            "language": "python",
            "name": "python3"
        },
        "language_info": {
            "codemirror_mode": {
                "name": "ipython",
                "version": 3
            },
            "file_extension": ".py",
            "mimetype": "text/x-python",
            "name": "python",
            "nbconvert_exporter": "python",
            "pygments_lexer": "ipython3",
            "version": "3.10.12"
        }
    },
    "nbformat": 4,
    "nbformat_minor": 2
}
