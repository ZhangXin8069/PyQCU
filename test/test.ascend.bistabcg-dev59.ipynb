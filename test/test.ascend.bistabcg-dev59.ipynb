{
 "cells": [
  {
   "cell_type": "code",
   "execution_count": 1,
   "id": "39a0e4b9",
   "metadata": {},
   "outputs": [
    {
     "name": "stdout",
     "output_type": "stream",
     "text": [
      "@My Rank:0/1, Local Rank:0@\n",
      "\n",
      "Parameters: [     32      32      32      32 1048576       1       1       1       1\n",
      "       0       0       1       0    1000       3       0       1       4\n",
      "       4       4       8      24       1      42]\n",
      "Arguments: [0.e+00 1.e-09 1.e-01]\n",
      "Gauge filename: quda_wilson-bistabcg-gauge_-32-32-32-32-1048576-1-1-1-1-0-0-1-0-f.h5\n",
      "Grid Index T: 0, Grid Index Z: 0, Grid Index Y: 0, Grid Index X: 0\n",
      "Grid Lat T: 32, Grid Lat Z: 32, Grid Lat Y: 32, Grid Lat X: 16\n",
      "All Dest Shape: (3, 3, 4, 2, 32, 32, 32, 16)\n",
      "Dest Shape: (3, 3, 4, 2, 32, 32, 32, 16)\n",
      "Fermion in filename: quda_wilson-bistabcg-fermion-in_-32-32-32-32-1048576-1-1-1-1-0-0-1-0-f.h5\n",
      "Grid Index T: 0, Grid Index Z: 0, Grid Index Y: 0, Grid Index X: 0\n",
      "Grid Lat T: 32, Grid Lat Z: 32, Grid Lat Y: 32, Grid Lat X: 16\n",
      "All Dest Shape: (2, 4, 3, 32, 32, 32, 16)\n",
      "Dest Shape: (2, 4, 3, 32, 32, 32, 16)\n",
      "Fermion out filename: quda_wilson-bistabcg-fermion-out_-32-32-32-32-1048576-1-1-1-1-0-0-1-0-f.h5\n",
      "Grid Index T: 0, Grid Index Z: 0, Grid Index Y: 0, Grid Index X: 0\n",
      "Grid Lat T: 32, Grid Lat Z: 32, Grid Lat Y: 32, Grid Lat X: 16\n",
      "All Dest Shape: (2, 4, 3, 32, 32, 32, 16)\n",
      "Dest Shape: (2, 4, 3, 32, 32, 32, 16)\n"
     ]
    }
   ],
   "source": [
    "import cupy as cp\n",
    "from pyqcu.cuda import define\n",
    "from pyqcu.cuda import io\n",
    "from pyqcu.cuda import qcu\n",
    "from pyqcu.cuda.set import params, argv, set_ptrs\n",
    "#############################\n",
    "params[define._LAT_X_] = 32\n",
    "params[define._LAT_Y_] = 32\n",
    "params[define._LAT_Z_] = 32\n",
    "params[define._LAT_T_] = 32\n",
    "params[define._LAT_XYZT_] = params[define._LAT_X_] * \\\n",
    "    params[define._LAT_Y_]*params[define._LAT_Z_]*params[define._LAT_T_]\n",
    "params[define._GRID_X_], params[define._GRID_Y_], params[define._GRID_Z_], params[\n",
    "    define._GRID_T_] = define.split_into_four_factors(define.size)\n",
    "params[define._DATA_TYPE_] = define._LAT_C64_\n",
    "params[define._SET_PLAN_] = 1\n",
    "print(\"Parameters:\", params)\n",
    "argv[define._MASS_] = 0.0\n",
    "argv = argv.astype(define.dtype_half(params[define._DATA_TYPE_]))\n",
    "print(\"Arguments:\", argv)\n",
    "#############################\n",
    "gauge_filename = f\"quda_wilson-bistabcg-gauge_-32-32-32-32-1048576-1-1-1-1-0-0-1-0-f.h5\"\n",
    "print(\"Gauge filename:\", gauge_filename)\n",
    "gauge = io.hdf5_xxxtzyx2grid_xxxtzyx(params, gauge_filename)\n",
    "fermion_in_filename = gauge_filename.replace(\"gauge\", \"fermion-in\")\n",
    "print(\"Fermion in filename:\", fermion_in_filename)\n",
    "fermion_in = io.hdf5_xxxtzyx2grid_xxxtzyx(params, fermion_in_filename)\n",
    "fermion_out_filename = gauge_filename.replace(\"gauge\", \"fermion-out\")\n",
    "print(\"Fermion out filename:\", fermion_out_filename)\n",
    "quda_fermion_out = io.hdf5_xxxtzyx2grid_xxxtzyx(params, fermion_out_filename)\n"
   ]
  },
  {
   "cell_type": "code",
   "execution_count": 2,
   "id": "8020d739",
   "metadata": {},
   "outputs": [],
   "source": [
    "\n",
    "# #############################\n",
    "# fermion_out = cp.zeros_like(fermion_in)\n",
    "# print(\"Fermion out data:\", fermion_out.data)\n",
    "# print(\"Fermion out shape:\", fermion_out.shape)\n",
    "# #############################\n",
    "# qcu.applyInitQcu(set_ptrs, params, argv)\n",
    "# for i in range(10):\n",
    "#     qcu.applyWilsonBistabCgQcu(\n",
    "#     fermion_out, fermion_in, gauge, set_ptrs, params)\n",
    "# qcu.applyEndQcu(set_ptrs, params)\n",
    "# #############################\n",
    "# print(\"Fermion out data:\", fermion_out.data)\n",
    "# print(\"Fermion out shape:\", fermion_out.shape)\n",
    "# print(\"QUDA Fermion out data:\", quda_fermion_out.data)\n",
    "# print(\"QUDA Fermion out shape:\", quda_fermion_out.shape)\n",
    "# print(\"Difference:\", cp.linalg.norm(fermion_out -\n",
    "#       quda_fermion_out)/cp.linalg.norm(quda_fermion_out))\n",
    "# #############################"
   ]
  },
  {
   "cell_type": "code",
   "execution_count": 3,
   "id": "fd139049",
   "metadata": {},
   "outputs": [
    {
     "name": "stdout",
     "output_type": "stream",
     "text": [
      "Restored Array Shape: (3, 3, 4, 32, 32, 32, 32)\n",
      "Restored Array Shape: (4, 3, 32, 32, 32, 32)\n",
      "Restored Array Shape: (4, 3, 32, 32, 32, 32)\n",
      "Using device: cuda\n"
     ]
    }
   ],
   "source": [
    "import torch\n",
    "from pyqcu.ascend import dslash\n",
    "from pyqcu.ascend.define import *\n",
    "latt_size = (32, 32, 32, 32)\n",
    "mass = 0.0\n",
    "kappa = 1 / (2 * mass + 8)\n",
    "dtype = torch.complex64\n",
    "device = torch.device('cuda' if torch.cuda.is_available() else 'cpu')\n",
    "U = torch.from_numpy(io.pxxxtzyx2xxxtzyx(\n",
    "    input_array=io.ccdptzyx2pccdtzyx(gauge=gauge)).get()).to(dtype=dtype, device=device)\n",
    "b = torch.from_numpy(io.pxxxtzyx2xxxtzyx(\n",
    "    input_array=fermion_in).get()).to(dtype=dtype, device=device)\n",
    "refer_x = torch.from_numpy(io.pxxxtzyx2xxxtzyx(\n",
    "    input_array=quda_fermion_out).get()).to(dtype=dtype, device=device)\n",
    "print(f\"Using device: {device}\")\n",
    "wilson = dslash.wilson_mg(\n",
    "    latt_size=latt_size,\n",
    "    kappa=kappa,\n",
    "    dtype=dtype,\n",
    "    device=device,\n",
    "    verbose=False\n",
    ")\n",
    "clover = dslash.clover(\n",
    "    latt_size=latt_size,\n",
    "    kappa=kappa,\n",
    "    dtype=dtype,\n",
    "    device=device,\n",
    "    verbose=False\n",
    ")\n",
    "wilson.check_su3(U)\n",
    "clover_term = clover.make_clover(U=U)\n",
    "clover_term = torch.zeros_like(clover_term) # just for test, just wilson\n",
    "verbose = True\n",
    "tol = 1e-9\n",
    "def matvec(src: torch.Tensor, U: torch.Tensor = U, clover_term: torch.Tensor = clover_term) -> torch.Tensor:\n",
    "    return wilson.give_wilson(src, U)+clover.give_clover(clover_term=clover_term, src=src)"
   ]
  },
  {
   "cell_type": "code",
   "execution_count": null,
   "id": "8ce8ec8e",
   "metadata": {},
   "outputs": [],
   "source": [
    "torch.norm(b-matvec(src=refer_x))/torch.norm(b)"
   ]
  },
  {
   "cell_type": "code",
   "execution_count": null,
   "id": "8896659f",
   "metadata": {},
   "outputs": [],
   "source": [
    "hopping_plus_list = []\n",
    "hopping_minus_list = []\n",
    "for ward in range(4):\n",
    "    hopping_plus_list.append(wilson.give_hopping_plus(ward=ward, U=U))\n",
    "    hopping_minus_list.append(wilson.give_hopping_minus(ward=ward, U=U))\n",
    "Ax = wilson.give_wilson(src=refer_x, U=U, with_I=True)\n",
    "_Ax = refer_x.clone()\n",
    "for ward in range(4):\n",
    "    _Ax += wilson.give_wilson_plus(ward=ward, src=refer_x.reshape(\n",
    "        [12]+list(U.shape[-4:])), hopping=hopping_plus_list[ward]).reshape([4, 3]+list(U.shape[-4:]))\n",
    "    _Ax += wilson.give_wilson_minus(ward=ward, src=refer_x.reshape(\n",
    "        [12]+list(U.shape[-4:])), hopping=hopping_minus_list[ward]).reshape([4, 3]+list(U.shape[-4:]))\n",
    "print(torch.norm(Ax-_Ax).item()/torch.norm(Ax).item())"
   ]
  },
  {
   "cell_type": "code",
   "execution_count": null,
   "id": "33aa1949",
   "metadata": {},
   "outputs": [],
   "source": [
    "torch.norm(b-Ax)/torch.norm(b)"
   ]
  },
  {
   "cell_type": "code",
   "execution_count": null,
   "id": "d8bff235",
   "metadata": {},
   "outputs": [],
   "source": [
    "torch.norm(b-_Ax)/torch.norm(b)"
   ]
  },
  {
   "cell_type": "code",
   "execution_count": null,
   "id": "87de4baa",
   "metadata": {},
   "outputs": [
    {
     "name": "stdout",
     "output_type": "stream",
     "text": [
      "give_if_multi(): False\n",
      "self.lat_size: [32, 32, 32, 32]\n",
      "self.grid_size: [1, 1, 1, 1]\n",
      "self.grid_index: [0, 0, 0, 0]\n",
      "self.dtype_list:[torch.complex64, torch.complex64, torch.complex64, torch.complex64, torch.complex64]\n",
      "self.device_list:[device(type='cpu'), device(type='cpu'), device(type='cpu'), device(type='cpu'), device(type='cpu')]\n",
      "self.local_lat_size: [32, 32, 32, 32]\n",
      "@My Rank:0/1, Local Rank:0@\n",
      "\n",
      "rank 0: Data is saved to quda_wilson_inverse_-32-32-32-32-f-b.h5\n",
      "rank 0: Data is saved to quda_wilson_inverse_-32-32-32-32-f-x.h5\n",
      "rank 0: Data is saved to quda_wilson_inverse_-32-32-32-32-f-x0.h5\n",
      "rank 0: Data is saved to quda_wilson_inverse_-32-32-32-32-f-U.h5\n",
      "Error: 'NoneType' object has no attribute 'cpu'\n",
      "Error: 'NoneType' object has no attribute 'shape'\n",
      "Error: 'NoneType' object has no attribute 'shape'\n",
      "self.dof_list:[12, 24, 24, 24, 24, 24, 24, 24, 24, 24, 24]\n",
      "self.dtype_list:[torch.complex64, torch.complex64, torch.complex64, torch.complex64, torch.complex64]\n",
      "self.device_list:[device(type='cpu'), device(type='cpu'), device(type='cpu'), device(type='cpu'), device(type='cpu')]\n"
     ]
    }
   ],
   "source": [
    "# from pyqcu.ascend import qcu\n",
    "# import torch\n",
    "# lat_x, lat_y, lat_z, lat_t = 32, 32, 32, 32\n",
    "# _qcu = qcu(lat_size=[lat_x, lat_y, lat_z, lat_t], U=U.cpu(), dtype=torch.complex64, device=torch.device(\n",
    "#     'cpu'), dslash='wilson', solver='bistabcg', verbose=True)\n",
    "# _qcu.b = b.cpu()\n",
    "# _qcu.x = refer_x.cpu()\n",
    "# _qcu.x0 = torch.zeros_like(refer_x.cpu())\n",
    "# _qcu.save(file_name='quda_wilson_inverse_-32-32-32-32-f')\n",
    "# # _qcu.load()\n",
    "# _qcu.init()\n",
    "# _qcu.solve()\n",
    "# _qcu.test()\n",
    "# _qcu.mg.plot()\n",
    "# _qcu.save()"
   ]
  },
  {
   "cell_type": "code",
   "execution_count": null,
   "id": "9a7a96c5",
   "metadata": {},
   "outputs": [],
   "source": [
    "# from pyqcu.ascend import qcu\n",
    "# import torch\n",
    "# lat_x, lat_y, lat_z, lat_t = 32, 32, 32, 32\n",
    "# _qcu = qcu(lat_size=[lat_x, lat_y, lat_z, lat_t], dtype=torch.complex64, device=torch.device(\n",
    "#     'cuda'), dslash='wilson', solver='bistabcg', verbose=True)\n",
    "# _qcu.load(file_name='quda_wilson_inverse_-32-32-32-32-f')\n",
    "# _qcu.init()\n",
    "# _qcu.solve()\n",
    "# _qcu.test()\n",
    "# _qcu.mg.plot()\n",
    "# _qcu.save(file_name='quda_wilson_inverse_-32-32-32-32-f')"
   ]
  }
 ],
 "metadata": {
  "kernelspec": {
   "display_name": "Python 3",
   "language": "python",
   "name": "python3"
  },
  "language_info": {
   "codemirror_mode": {
    "name": "ipython",
    "version": 3
   },
   "file_extension": ".py",
   "mimetype": "text/x-python",
   "name": "python",
   "nbconvert_exporter": "python",
   "pygments_lexer": "ipython3",
   "version": "3.10.12"
  }
 },
 "nbformat": 4,
 "nbformat_minor": 5
}
