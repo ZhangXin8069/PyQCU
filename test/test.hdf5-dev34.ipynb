{
    "cells": [
        {
            "cell_type": "code",
            "execution_count": 1,
            "metadata": {},
            "outputs": [],
            "source": [
                "from mpi4py import MPI\n",
                "import h5py\n",
                "import numpy as np\n",
                "\n",
                "comm = MPI.COMM_WORLD\n",
                "rank = comm.Get_rank()\n",
                "size = comm.Get_size()\n",
                "\n",
                "# 每个进程生成一些数据\n",
                "data = np.array([rank * 10 + i for i in range(10)])\n",
                "\n",
                "# 以并行模式打开HDF5文件\n",
                "with h5py.File('parallel_example.h5', 'w', driver='mpio', comm=comm) as f:\n",
                "    # 创建数据集\n",
                "    dset = f.create_dataset('my_dataset', shape=(size, 10), dtype='i')\n",
                "    # 每个进程将自己的数据写入数据集\n",
                "    dset[rank, :] = data\n"
            ]
        },
        {
            "cell_type": "code",
            "execution_count": null,
            "metadata": {},
            "outputs": [],
            "source": []
        }
    ],
    "metadata": {
        "kernelspec": {
            "display_name": "Python 3",
            "language": "python",
            "name": "python3"
        },
        "language_info": {
            "codemirror_mode": {
                "name": "ipython",
                "version": 3
            },
            "file_extension": ".py",
            "mimetype": "text/x-python",
            "name": "python",
            "nbconvert_exporter": "python",
            "pygments_lexer": "ipython3",
            "version": "3.10.12"
        }
    },
    "nbformat": 4,
    "nbformat_minor": 2
}