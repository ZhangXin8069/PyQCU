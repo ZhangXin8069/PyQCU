{
    "cells": [
        {
            "cell_type": "code",
            "execution_count": null,
            "metadata": {},
            "outputs": [],
            "source": [
                "import cupy as cp\n",
                "import numpy as np\n",
                "from time import perf_counter\n",
                "import time\n",
                "from pyqcu import define\n",
                "from pyqcu import io\n",
                "from pyqcu import qcu\n",
                "import cupyx.scipy.sparse.linalg as csla\n",
                "import scipy.linalg as sla\n",
                "\n",
                "print('My rank is ', define.rank)"
            ]
        },
        {
            "cell_type": "code",
            "execution_count": null,
            "metadata": {},
            "outputs": [],
            "source": [
                "params = np.array([0]*define._PARAMS_SIZE_, dtype=np.int32)\n",
                "params[define._LAT_X_] = 32\n",
                "params[define._LAT_Y_] = 32\n",
                "params[define._LAT_Z_] = 32\n",
                "params[define._LAT_T_] = 32\n",
                "params[define._LAT_XYZT_] = 1048576\n",
                "params[define._GRID_X_] = 1\n",
                "params[define._GRID_Y_] = 1\n",
                "params[define._GRID_Z_] = 1\n",
                "params[define._GRID_T_] = 1\n",
                "params[define._PARITY_] = 0\n",
                "params[define._NODE_RANK_] = 0\n",
                "params[define._NODE_SIZE_] = 1\n",
                "params[define._DAGGER_] = 0\n",
                "params[define._MAX_ITER_] = 1e4\n",
                "params[define._DATA_TYPE_] = 0\n",
                "params[define._SET_INDEX_] = 2\n",
                "params[define._SET_PLAN_] = 0\n",
                "argv = np.array([0.0]*define._ARGV_SIZE_, dtype=np.float32)\n",
                "argv[define._MASS_] = 0.0\n",
                "argv[define._TOL_] = 1e-9\n",
                "print(\"Parameters:\", params)\n",
                "print(\"Arguments:\", argv)"
            ]
        },
        {
            "cell_type": "code",
            "execution_count": null,
            "metadata": {},
            "outputs": [],
            "source": [
                "gauge_filename = f\"quda_wilson-dslash-gauge_-{params[define._LAT_X_]}-{params[define._LAT_Y_]}-{params  [define._LAT_Z_]}-{params[define._LAT_T_]}-{params[define._LAT_XYZT_]}-{params[define._GRID_X_]}-{params[define._GRID_Y_]}-{params[define._GRID_Z_]}-{params[define._GRID_T_]}-{params[define._PARITY_]}-{params[define._NODE_RANK_]}-{params[define._NODE_SIZE_]}-{params[define._DAGGER_]}-f.bin\"\n",
                "print(\"Gauge filename:\", gauge_filename)\n",
                "gauge = cp.fromfile(gauge_filename, dtype=cp.complex64,\n",
                "                    count=params[define._LAT_XYZT_]*define._LAT_DCC_)\n",
                "gauge = io.gauge2ccdptzyx(gauge, params)\n",
                "print(\"Gauge:\", gauge)\n",
                "print(\"Gauge data:\", gauge.data)\n",
                "print(\"Gauge shape:\", gauge.shape)"
            ]
        },
        {
            "cell_type": "code",
            "execution_count": null,
            "metadata": {},
            "outputs": [],
            "source": [
                "set_ptrs = np.array(params, dtype=np.int64)\n",
                "print(\"Set pointers:\", set_ptrs)\n",
                "print(\"Set pointers data:\", set_ptrs.data)\n",
                "qcu.applyInitQcu(set_ptrs, params, argv)"
            ]
        },
        {
            "cell_type": "code",
            "execution_count": 12,
            "metadata": {},
            "outputs": [],
            "source": [
                "# give x, b, r, r_tilde, p, v, s, t\n",
                "lat_t = params[define._LAT_T_]\n",
                "lat_z = params[define._LAT_Z_]\n",
                "lat_y = params[define._LAT_Y_]\n",
                "lat_x = int(params[define._LAT_X_]/define._LAT_P_)\n",
                "lat_d = define._LAT_D_\n",
                "lat_s = define._LAT_S_\n",
                "lat_p = define._LAT_P_\n",
                "lat_c = define._LAT_C_\n",
                "latt_shape = (lat_s, lat_c, lat_t, lat_z, lat_y, lat_x)\n",
                "max_iter = params[define._MAX_ITER_]\n",
                "tol = argv[define._TOL_]\n",
                "n = params[define._LAT_XYZT_] * define._LAT_HALF_SC_\n",
                "define._LAT_Ne_ = 10\n",
                "k = define._LAT_Ne_\n",
                "min_eigen_value = 0\n",
                "max_eigen_value = 1.6\n",
                "degree = 5"
            ]
        },
        {
            "cell_type": "code",
            "execution_count": 13,
            "metadata": {},
            "outputs": [],
            "source": [
                "def matvec(src):\n",
                "    print(\"norm src\", cp.linalg.norm(src))\n",
                "    dest = cp.zeros(n, cp.complex64)\n",
                "    qcu.applyWilsonCgDslashQcu(dest, src, gauge, set_ptrs, params)\n",
                "    print(\"norm dest\", cp.linalg.norm(dest))\n",
                "    return dest\n",
                "\n",
                "\n",
                "def _matvec(src, alpha, beta):\n",
                "    c = (beta + alpha) / 2\n",
                "    e = (beta - alpha) / 2\n",
                "    return (matvec(src) - c * src) / e\n",
                "\n",
                "\n",
                "def chebyshev_filter(src, alpha, beta):\n",
                "    t_prev = src\n",
                "    t_curr = _matvec(src, alpha, beta)\n",
                "    for i in range(1, degree):\n",
                "        t_next = 2 * _matvec(t_curr, alpha, beta) - t_prev\n",
                "        t_prev = t_curr\n",
                "        t_curr = t_next / cp.linalg.norm(t_next)\n",
                "    return t_curr\n",
                "\n",
                "\n",
                "def inverse_iteration_with_chebyshev():\n",
                "    eigenvalues = []\n",
                "    eigenvectors = []\n",
                "    alpha = min_eigen_value\n",
                "    beta = max_eigen_value\n",
                "    for eigen_index in range(k):\n",
                "        t0 = perf_counter()\n",
                "        v = cp.random.randn(n) + 1j * cp.random.randn(n)\n",
                "        v = v / cp.linalg.norm(v)\n",
                "        v = v.astype(cp.complex64)\n",
                "        if eigenvectors:\n",
                "            Q = cp.column_stack(eigenvectors)\n",
                "            v = v - Q @ (Q.conj().T @ v)\n",
                "            v = v / cp.linalg.norm(v)\n",
                "        lambda_prev = float('inf')\n",
                "        for iter in range(max_iter):\n",
                "            w = chebyshev_filter(v, alpha, beta)\n",
                "            if eigenvectors:\n",
                "                Q = cp.column_stack(eigenvectors)\n",
                "                w = w - Q @ (Q.conj().T @ w)\n",
                "                w = w / cp.linalg.norm(w)\n",
                "            lambda_curr = float(cp.real(cp.vdot(w, matvec(w))))\n",
                "            _tol = abs(lambda_curr - lambda_prev) / lambda_curr\n",
                "            print(\"eigen index:\", eigen_index, \"iter:\", iter, \"alpha:\", alpha, \"beta:\", beta,\n",
                "                  \"tol:\", _tol, \"lambda:\", lambda_curr)\n",
                "            if _tol < tol:\n",
                "                break\n",
                "            v = w\n",
                "            lambda_prev = lambda_curr\n",
                "            if iter % 10 == 0:\n",
                "                alpha = max(alpha, lambda_curr * 0.9)\n",
                "        eigenvalues.append(lambda_curr)\n",
                "        eigenvectors.append(w)\n",
                "        beta = alpha * 1.1\n",
                "        t1 = perf_counter()\n",
                "        print(\"eigen index:\", eigen_index, \"time:\", t1-t0)\n",
                "    return cp.array(eigenvalues), cp.array(eigenvectors)"
            ]
        },
        {
            "cell_type": "code",
            "execution_count": null,
            "metadata": {},
            "outputs": [],
            "source": [
                "eigenvalues, eigenvectors = inverse_iteration_with_chebyshev()"
            ]
        },
        {
            "cell_type": "code",
            "execution_count": null,
            "metadata": {},
            "outputs": [],
            "source": [
                "eigenvalues"
            ]
        },
        {
            "cell_type": "code",
            "execution_count": null,
            "metadata": {},
            "outputs": [],
            "source": [
                "eigenvectors"
            ]
        },
        {
            "cell_type": "code",
            "execution_count": null,
            "metadata": {},
            "outputs": [],
            "source": [
                "matvec(eigenvectors[0])"
            ]
        },
        {
            "cell_type": "code",
            "execution_count": null,
            "metadata": {},
            "outputs": [],
            "source": [
                "eigenvectors[0]*eigenvalues[0]"
            ]
        },
        {
            "cell_type": "code",
            "execution_count": null,
            "metadata": {},
            "outputs": [],
            "source": [
                "# Verify results\n",
                "print(\"Computed eigenvalues:\")\n",
                "for i, ev in enumerate(eigenvalues):\n",
                "    print(f\"λ_{i} = {ev:.8f}\")\n",
                "    # Verify eigenvector\n",
                "    v = eigenvectors[i]\n",
                "    w = cp.zeros_like(v)\n",
                "    w = matvec(v)\n",
                "    error = cp.linalg.norm(w - ev * v) / cp.linalg.norm(w)\n",
                "    print(f\"Relative error: {error:.2e}\")"
            ]
        },
        {
            "cell_type": "code",
            "execution_count": 115,
            "metadata": {},
            "outputs": [],
            "source": [
                "# qcu.applyEndQcu(set_ptrs, params)"
            ]
        }
    ],
    "metadata": {
        "kernelspec": {
            "display_name": "Python 3",
            "language": "python",
            "name": "python3"
        },
        "language_info": {
            "codemirror_mode": {
                "name": "ipython",
                "version": 3
            },
            "file_extension": ".py",
            "mimetype": "text/x-python",
            "name": "python",
            "nbconvert_exporter": "python",
            "pygments_lexer": "ipython3",
            "version": "3.10.12"
        }
    },
    "nbformat": 4,
    "nbformat_minor": 2
}