{
 "cells": [
  {
   "cell_type": "markdown",
   "metadata": {},
   "source": [
    "# Init for pyqcu."
   ]
  },
  {
   "cell_type": "code",
   "execution_count": null,
   "metadata": {},
   "outputs": [],
   "source": [
    "import cupy as cp\n",
    "import numpy as np\n",
    "from pyqcu import define\n",
    "from pyqcu import io\n",
    "from pyqcu import qcu\n",
    "from pyqcu import eigen, cg\n",
    "from pyqcu.set import params, argv, set_ptrs\n",
    "params[define._NODE_RANK_] = define.rank\n",
    "params[define._NODE_SIZE_] = define.size\n",
    "kappa = 1 / (2 * argv[define._MASS_] + 8)\n",
    "print('My rank is ', define.rank)\n",
    "gauge_filename = f\"quda_wilson-bistabcg-gauge_-{params[define._LAT_X_]}-{params[define._LAT_Y_]}-{params  [define._LAT_Z_]}-{params[define._LAT_T_]}-{params[define._LAT_XYZT_]}-{params[define._GRID_X_]}-{params[define._GRID_Y_]}-{params[define._GRID_Z_]}-{params[define._GRID_T_]}-{params[define._PARITY_]}-{params[define._NODE_RANK_]}-{params[define._NODE_SIZE_]}-{params[define._DAGGER_]}-f.h5\"\n",
    "print(\"Parameters:\", params)"
   ]
  },
  {
   "cell_type": "code",
   "execution_count": null,
   "metadata": {},
   "outputs": [],
   "source": [
    "wilson_cg_params = params.copy()\n",
    "wilson_cg_params[define._SET_INDEX_] = 0\n",
    "wilson_cg_params[define._SET_PLAN_] = define._SET_PLAN1_\n",
    "qcu.applyInitQcu(set_ptrs, wilson_cg_params, argv)"
   ]
  },
  {
   "cell_type": "code",
   "execution_count": null,
   "metadata": {},
   "outputs": [],
   "source": [
    "wilson_dslash_eo_params = params.copy()\n",
    "wilson_dslash_eo_params[define._SET_INDEX_] = 1\n",
    "wilson_dslash_eo_params[define._SET_PLAN_] = define._SET_PLAN0_\n",
    "wilson_dslash_eo_params[define._PARITY_] = define._EVEN_\n",
    "wilson_dslash_eo_params[define._DAGGER_] = define._NO_USE_\n",
    "qcu.applyInitQcu(set_ptrs, wilson_dslash_eo_params, argv)"
   ]
  },
  {
   "cell_type": "code",
   "execution_count": null,
   "metadata": {},
   "outputs": [],
   "source": [
    "wilson_dslash_eo_dag_params = params.copy()\n",
    "wilson_dslash_eo_dag_params[define._SET_INDEX_] = 2\n",
    "wilson_dslash_eo_dag_params[define._SET_PLAN_] = define._SET_PLAN0_\n",
    "wilson_dslash_eo_dag_params[define._PARITY_] = define._EVEN_\n",
    "wilson_dslash_eo_dag_params[define._DAGGER_] = define._USE_\n",
    "qcu.applyInitQcu(set_ptrs, wilson_dslash_eo_dag_params, argv)"
   ]
  },
  {
   "cell_type": "code",
   "execution_count": null,
   "metadata": {},
   "outputs": [],
   "source": [
    "wilson_dslash_oe_params = params.copy()\n",
    "wilson_dslash_oe_params[define._SET_INDEX_] = 3\n",
    "wilson_dslash_oe_params[define._SET_PLAN_] = define._SET_PLAN0_\n",
    "wilson_dslash_oe_params[define._PARITY_] = define._ODD_\n",
    "wilson_dslash_oe_params[define._DAGGER_] = define._NO_USE_\n",
    "qcu.applyInitQcu(set_ptrs, wilson_dslash_oe_params, argv)"
   ]
  },
  {
   "cell_type": "code",
   "execution_count": null,
   "metadata": {},
   "outputs": [],
   "source": [
    "wilson_dslash_oe_dag_params = params.copy()\n",
    "wilson_dslash_oe_dag_params[define._SET_INDEX_] = 4\n",
    "wilson_dslash_oe_dag_params[define._SET_PLAN_] = define._SET_PLAN0_\n",
    "wilson_dslash_oe_dag_params[define._PARITY_] = define._ODD_\n",
    "wilson_dslash_oe_dag_params[define._DAGGER_] = define._USE_\n",
    "qcu.applyInitQcu(set_ptrs, wilson_dslash_oe_dag_params, argv)"
   ]
  },
  {
   "cell_type": "code",
   "execution_count": 20,
   "metadata": {},
   "outputs": [
    {
     "name": "stdout",
     "output_type": "stream",
     "text": [
      "Set pointers: [94648564609952 94648586549824 94648586725040 94648586903792\n",
      " 94648587042064              0              0              0\n",
      "              0              0]\n",
      "Set pointers data: <memory at 0x7f11c7cdfd00>\n"
     ]
    }
   ],
   "source": [
    "print(\"Set pointers:\", set_ptrs)\n",
    "print(\"Set pointers data:\", set_ptrs.data)"
   ]
  },
  {
   "cell_type": "markdown",
   "metadata": {},
   "source": [
    "# Read from hdf5 files."
   ]
  },
  {
   "cell_type": "code",
   "execution_count": null,
   "metadata": {},
   "outputs": [],
   "source": [
    "print(\"Gauge filename:\", gauge_filename)\n",
    "gauge = io.hdf5_xxxtzyx2grid_xxxtzyx(params, gauge_filename)\n",
    "fermion_in_filename = gauge_filename.replace(\"gauge\", \"fermion-in\")\n",
    "print(\"Fermion in filename:\", fermion_in_filename)\n",
    "fermion_in = io.hdf5_xxxtzyx2grid_xxxtzyx(\n",
    "    params, fermion_in_filename)\n",
    "fermion_out_filename = gauge_filename.replace(\"gauge\", \"fermion-out\")\n",
    "print(\"Fermion out filename:\", fermion_out_filename)\n",
    "quda_fermion_out = io.hdf5_xxxtzyx2grid_xxxtzyx(\n",
    "    params, fermion_out_filename)\n",
    "fermion_out = cp.zeros_like(fermion_in)\n",
    "print(\"Fermion out data:\", fermion_out.data)\n",
    "print(\"Fermion out shape:\", fermion_out.shape)\n",
    "eigenvalues_filename = gauge_filename.replace(\"gauge\", \"eigenvalues\")\n",
    "print(\"Eigenvalues filename:\", eigenvalues_filename)\n",
    "eigenvalues = io.hdf5_xxx2xxx(file_name=eigenvalues_filename)\n",
    "print(\"Eigenvalues data:\", eigenvalues.data)\n",
    "print(\"Eigenvalues shape:\", eigenvalues.shape)\n",
    "eigenvectors_filename = gauge_filename.replace(\"gauge\", \"eigenvectors\")\n",
    "print(\"Eigenvectors filename:\", eigenvectors_filename)\n",
    "eigenvectors = io.eigenvectors2esctzyx(\n",
    "    params=params, eigenvectors=io.hdf5_xxx2xxx(file_name=eigenvectors_filename))\n",
    "print(\"Eigenvectors data:\", eigenvectors.data)\n",
    "print(\"Eigenvectors shape:\", eigenvectors.shape)"
   ]
  },
  {
   "cell_type": "markdown",
   "metadata": {},
   "source": [
    "# Run wilson bistabcg from pyqcu test."
   ]
  },
  {
   "cell_type": "code",
   "execution_count": null,
   "metadata": {},
   "outputs": [],
   "source": [
    "qcu.applyWilsonBistabCgQcu(fermion_out, fermion_in, gauge, set_ptrs, wilson_cg_params)\n",
    "print(\"Fermion out data:\", fermion_out.data)\n",
    "print(\"Fermion out shape:\", fermion_out.shape)\n",
    "print(\"QUDA Fermion out data:\", quda_fermion_out.data)\n",
    "print(\"QUDA Fermion out shape:\", quda_fermion_out.shape)\n",
    "print(\"Difference:\", cp.linalg.norm(fermion_out -\n",
    "      quda_fermion_out)/cp.linalg.norm(quda_fermion_out))"
   ]
  },
  {
   "cell_type": "markdown",
   "metadata": {},
   "source": [
    "# Run matvec(eigenvector[.]) ?= eigenvalue[.]*eigenvector[.] for eigen test"
   ]
  },
  {
   "cell_type": "code",
   "execution_count": 25,
   "metadata": {},
   "outputs": [],
   "source": [
    "# src_o-set_ptr->kappa()**2*dslash_oe(dslash_eo(src_o))\n",
    "def cg_dslash_no_dag(src):\n",
    "    tmp0 = cp.zeros_like(src)\n",
    "    tmp1 = cp.zeros_like(src)\n",
    "    qcu.applyWilsonDslashQcu(\n",
    "        tmp0, src, gauge, set_ptrs, wilson_dslash_eo_params)\n",
    "    qcu.applyWilsonDslashQcu(\n",
    "        tmp1, tmp0, gauge, set_ptrs, wilson_dslash_oe_params)\n",
    "    return src-kappa**2*tmp1\n",
    "def cg_dslash_dag(src):\n",
    "    tmp0 = cp.zeros_like(src)\n",
    "    tmp1 = cp.zeros_like(src)\n",
    "    qcu.applyWilsonDslashQcu(\n",
    "        tmp0, src, gauge, set_ptrs, wilson_dslash_eo_dag_params)\n",
    "    qcu.applyWilsonDslashQcu(\n",
    "        tmp1, tmp0, gauge, set_ptrs, wilson_dslash_oe_dag_params)\n",
    "    return src-kappa**2*tmp1\n",
    "def cg_dslash(src):\n",
    "    return cg_dslash_dag(cg_dslash_no_dag(src));"
   ]
  },
  {
   "cell_type": "code",
   "execution_count": 27,
   "metadata": {},
   "outputs": [],
   "source": [
    "def _matvec(src):\n",
    "    dest = cg_dslash(src);\n",
    "    return dest"
   ]
  },
  {
   "cell_type": "code",
   "execution_count": 29,
   "metadata": {},
   "outputs": [
    {
     "name": "stdout",
     "output_type": "stream",
     "text": [
      "multi-gpu wilson dslash total time: (without malloc free memcpy) :0.058537071 sec\n",
      "multi-gpu wilson dslash total time: (without malloc free memcpy) :0.048348000 sec\n",
      "multi-gpu wilson dslash total time: (without malloc free memcpy) :0.086700789 sec\n",
      "multi-gpu wilson dslash total time: (without malloc free memcpy) :0.048769491 sec\n"
     ]
    }
   ],
   "source": [
    "_=_matvec(fermion_in[0])"
   ]
  },
  {
   "cell_type": "code",
   "execution_count": 24,
   "metadata": {},
   "outputs": [],
   "source": [
    "matvec(fermion_in[0]);"
   ]
  },
  {
   "cell_type": "code",
   "execution_count": 16,
   "metadata": {},
   "outputs": [
    {
     "name": "stdout",
     "output_type": "stream",
     "text": [
      "λ_0 = 6.46e-04+0.00e+00j\n",
      "Relative error: 8.08e-03\n",
      "Diff between λ_0 and λ_1: 1.41e+00\n",
      "λ_1 = 6.46e-04+0.00e+00j\n",
      "Relative error: 9.35e-03\n",
      "Diff between λ_1 and λ_2: 1.41e+00\n",
      "λ_2 = 6.46e-04+0.00e+00j\n",
      "Relative error: 1.03e-02\n",
      "Diff between λ_2 and λ_3: 1.41e+00\n",
      "λ_3 = 6.46e-04+0.00e+00j\n",
      "Relative error: 9.62e-03\n",
      "Diff between λ_3 and λ_4: 1.41e+00\n",
      "λ_4 = 6.46e-04+0.00e+00j\n",
      "Relative error: 1.00e-02\n",
      "Diff between λ_4 and λ_5: 1.41e+00\n",
      "λ_5 = 6.46e-04+0.00e+00j\n",
      "Relative error: 9.52e-03\n",
      "Diff between λ_5 and λ_6: 1.41e+00\n",
      "λ_6 = 6.46e-04+0.00e+00j\n",
      "Relative error: 9.83e-03\n",
      "Diff between λ_6 and λ_7: 1.41e+00\n",
      "λ_7 = 6.46e-04+0.00e+00j\n",
      "Relative error: 9.38e-03\n",
      "Diff between λ_7 and λ_8: 1.41e+00\n",
      "λ_8 = 6.46e-04+0.00e+00j\n",
      "Relative error: 9.36e-03\n",
      "Diff between λ_8 and λ_9: 1.41e+00\n",
      "λ_9 = 6.46e-04+0.00e+00j\n",
      "Relative error: 1.06e-02\n",
      "Diff between λ_9 and λ_10: 1.41e+00\n",
      "λ_10 = 6.46e-04+0.00e+00j\n",
      "Relative error: 1.00e-02\n",
      "Diff between λ_10 and λ_11: 1.41e+00\n",
      "λ_11 = 6.46e-04+0.00e+00j\n",
      "Relative error: 1.12e-02\n",
      "Diff between λ_11 and λ_12: 1.41e+00\n",
      "λ_12 = 1.02e-02+0.00e+00j\n",
      "Relative error: 6.02e-03\n",
      "Diff between λ_12 and λ_13: 1.41e+00\n",
      "λ_13 = 1.01e-02+0.00e+00j\n",
      "Relative error: 5.75e-03\n",
      "Diff between λ_13 and λ_14: 1.41e+00\n",
      "λ_14 = 1.01e-02+0.00e+00j\n",
      "Relative error: 5.97e-03\n",
      "Diff between λ_14 and λ_15: 1.41e+00\n",
      "λ_15 = 1.01e-02+0.00e+00j\n",
      "Relative error: 5.58e-03\n",
      "Diff between λ_15 and λ_16: 1.41e+00\n",
      "λ_16 = 1.01e-02+0.00e+00j\n",
      "Relative error: 5.71e-03\n",
      "Diff between λ_16 and λ_17: 1.41e+00\n",
      "λ_17 = 1.01e-02+0.00e+00j\n",
      "Relative error: 6.28e-03\n",
      "Diff between λ_17 and λ_18: 1.41e+00\n",
      "λ_18 = 1.01e-02+0.00e+00j\n",
      "Relative error: 5.94e-03\n",
      "Diff between λ_18 and λ_19: 1.41e+00\n",
      "λ_19 = 1.01e-02+0.00e+00j\n",
      "Relative error: 5.62e-03\n",
      "Diff between λ_19 and λ_20: 1.41e+00\n",
      "λ_20 = 1.01e-02+0.00e+00j\n",
      "Relative error: 5.75e-03\n",
      "Diff between λ_20 and λ_21: 1.41e+00\n",
      "λ_21 = 1.02e-02+0.00e+00j\n",
      "Relative error: 6.03e-03\n",
      "Diff between λ_21 and λ_22: 1.41e+00\n",
      "λ_22 = 1.01e-02+0.00e+00j\n",
      "Relative error: 5.95e-03\n",
      "Diff between λ_22 and λ_23: 1.41e+00\n",
      "λ_23 = 1.01e-02+0.00e+00j\n",
      "Relative error: 5.60e-03\n",
      "Diff between λ_23 and λ_0: 1.41e+00\n"
     ]
    }
   ],
   "source": [
    "def matvec(src):\n",
    "    dest = cp.zeros_like(src)\n",
    "    qcu.applyWilsonCgDslashQcu(\n",
    "        dest, src, gauge, set_ptrs, params)\n",
    "    return dest\n",
    "for i, ev in enumerate(eigenvalues):\n",
    "    print(f\"λ_{i} = {ev:.2e}\")\n",
    "    # Verify eigenvector\n",
    "    v = eigenvectors[i]\n",
    "    w = cp.zeros_like(v)\n",
    "    w = matvec(v)\n",
    "    error = cp.linalg.norm(w - ev * v) / cp.linalg.norm(w)\n",
    "    print(f\"Relative error: {error:.2e}\")\n",
    "    j = i+1\n",
    "    if j == len(eigenvalues):\n",
    "        j = 0\n",
    "    print(\n",
    "        f\"Diff between λ_{i} and λ_{j}: {cp.linalg.norm(eigenvectors[i] - eigenvectors[j])/cp.linalg.norm(eigenvectors[i]):.2e}\")"
   ]
  },
  {
   "cell_type": "markdown",
   "metadata": {},
   "source": [
    "# Give guage's eigenvalues and eigenvectors to hdf5 files. (pass, don't run this)"
   ]
  },
  {
   "cell_type": "code",
   "execution_count": 12,
   "metadata": {},
   "outputs": [],
   "source": [
    "# eigen_solver = eigen.solver(\n",
    "#     n=params[define._LAT_XYZT_] * define._LAT_HALF_SC_, k=define._LAT_Ne_,matvec=matvec,dtype=gauge.dtype)\n",
    "# eigenvalues, eigenvectors = eigen_solver.run()\n",
    "# io.xxx2hdf5_xxx(\n",
    "#     eigenvalues, params, gauge_filename.replace(\"gauge\", \"eigenvalues\"))\n",
    "# io.xxx2hdf5_xxx(\n",
    "#     eigenvectors, params, gauge_filename.replace(\"gauge\", \"eigenvectors\"))"
   ]
  },
  {
   "cell_type": "markdown",
   "metadata": {},
   "source": [
    "# MultiGrid - R*vector"
   ]
  },
  {
   "cell_type": "code",
   "execution_count": null,
   "metadata": {},
   "outputs": [],
   "source": [
    "fermion_in = io.xxxtzyx2mg_xxxtzyx(input_array=fermion_in, params=params)\n",
    "eigenvectors = io.xxxtzyx2mg_xxxtzyx(input_array=eigenvectors, params=params)"
   ]
  },
  {
   "cell_type": "markdown",
   "metadata": {},
   "source": [
    "# Origin CG"
   ]
  },
  {
   "cell_type": "code",
   "execution_count": null,
   "metadata": {},
   "outputs": [],
   "source": [
    "b_e = fermion_in[define._EVEN_].flatten()\n",
    "b_o = fermion_in[define._ODD_].flatten()\n",
    "b__o = cp.zeros_like(b_o)\n",
    "tmp = cp.zeros_like(b_o)\n",
    "# b__o=b_o+kappa*D_oe(b_e)\n",
    "qcu.applyWilsonDslashQcu(tmp, b_e, gauge, set_ptrs, wilson_dslash_oe_params)\n",
    "b__o = b_o+kappa*tmp\n",
    "# b__o -> Dslash^dag b__o\n",
    "b__o = cg_dslash_dag(b__o)\n",
    "# Dslash(x_o)=b__o\n",
    "cg_solver = cg.slover(b=b__o, matvec=matvec, tol=1e-10, max_iter=1000000)\n",
    "x_o = cg_solver.run()\n",
    "# x_e  =b_e+kappa*D_eo(x_o)\n",
    "qcu.applyWilsonDslashQcu(tmp, x_o, gauge, set_ptrs, wilson_dslash_eo_params)\n",
    "x_e = b_e+kappa*tmp\n",
    "# give qcu_fermion_out\n",
    "qcu_fermion_out = cp.zeros_like(quda_fermion_out)\n",
    "qcu_fermion_out[define._EVEN_] = x_e.reshape(\n",
    "    quda_fermion_out[define._EVEN_].shape)\n",
    "qcu_fermion_out[define._ODD_] = x_o.reshape(\n",
    "    quda_fermion_out[define._ODD_].shape)"
   ]
  },
  {
   "cell_type": "code",
   "execution_count": null,
   "metadata": {},
   "outputs": [],
   "source": [
    "set_ptrs"
   ]
  },
  {
   "cell_type": "code",
   "execution_count": null,
   "metadata": {},
   "outputs": [],
   "source": [
    "b__o"
   ]
  },
  {
   "cell_type": "markdown",
   "metadata": {},
   "source": [
    "# End for pyqcu. (pass, don't run this)"
   ]
  },
  {
   "cell_type": "code",
   "execution_count": 13,
   "metadata": {},
   "outputs": [],
   "source": [
    "# qcu.applyEndQcu(set_ptrs, params)\n",
    "# qcu.applyEndQcu(set_ptrs, wilson_dslash_eo_params)\n",
    "# qcu.applyEndQcu(set_ptrs, wilson_dslash_oe_params)"
   ]
  }
 ],
 "metadata": {
  "kernelspec": {
   "display_name": "Python 3",
   "language": "python",
   "name": "python3"
  },
  "language_info": {
   "codemirror_mode": {
    "name": "ipython",
    "version": 3
   },
   "file_extension": ".py",
   "mimetype": "text/x-python",
   "name": "python",
   "nbconvert_exporter": "python",
   "pygments_lexer": "ipython3",
   "version": "3.10.12"
  }
 },
 "nbformat": 4,
 "nbformat_minor": 2
}
