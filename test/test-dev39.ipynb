{
 "cells": [
  {
   "cell_type": "markdown",
   "metadata": {},
   "source": [
    "# Init for pyqcu."
   ]
  },
  {
   "cell_type": "code",
   "execution_count": null,
   "metadata": {},
   "outputs": [],
   "source": [
    "import cupy as cp\n",
    "import numpy as np\n",
    "from pyqcu import define\n",
    "from pyqcu import io\n",
    "from pyqcu import qcu\n",
    "from pyqcu import eigen, cg\n",
    "from pyqcu.set import params, argv, set_ptrs\n",
    "print('My rank is ', define.rank)\n",
    "params[define._SET_PLAN_] = 1\n",
    "gauge_filename = f\"quda_wilson-bistabcg-gauge_-{params[define._LAT_X_]}-{params[define._LAT_Y_]}-{params  [define._LAT_Z_]}-{params[define._LAT_T_]}-{params[define._LAT_XYZT_]}-{params[define._GRID_X_]}-{params[define._GRID_Y_]}-{params[define._GRID_Z_]}-{params[define._GRID_T_]}-{params[define._PARITY_]}-{params[define._NODE_RANK_]}-{params[define._NODE_SIZE_]}-{params[define._DAGGER_]}-f.h5\"\n",
    "params[define._NODE_RANK_] = define.rank\n",
    "params[define._NODE_SIZE_] = define.size\n",
    "qcu.applyInitQcu(set_ptrs, params, argv)\n",
    "print(\"Parameters:\", params)"
   ]
  },
  {
   "cell_type": "markdown",
   "metadata": {},
   "source": [
    "# Read from hdf5 files."
   ]
  },
  {
   "cell_type": "code",
   "execution_count": null,
   "metadata": {},
   "outputs": [],
   "source": [
    "print(\"Gauge filename:\", gauge_filename)\n",
    "gauge = io.hdf5_xxxtzyx2grid_xxxtzyx(params, gauge_filename)\n",
    "fermion_in_filename = gauge_filename.replace(\"gauge\", \"fermion-in\")\n",
    "print(\"Fermion in filename:\", fermion_in_filename)\n",
    "fermion_in = io.hdf5_xxxtzyx2grid_xxxtzyx(params, fermion_in_filename)\n",
    "fermion_out_filename = gauge_filename.replace(\"gauge\", \"fermion-out\")\n",
    "print(\"Fermion out filename:\", fermion_out_filename)\n",
    "quda_fermion_out = io.hdf5_xxxtzyx2grid_xxxtzyx(params, fermion_out_filename)\n",
    "fermion_out = cp.zeros_like(fermion_in)\n",
    "print(\"Fermion out data:\", fermion_out.data)\n",
    "print(\"Fermion out shape:\", fermion_out.shape)\n",
    "eigenvalues_filename = gauge_filename.replace(\"gauge\", \"eigenvalues\")\n",
    "print(\"Eigenvalues filename:\", eigenvalues_filename)\n",
    "eigenvalues = io.hdf5_xxx2xxx(file_name=eigenvalues_filename)\n",
    "print(\"Eigenvalues data:\", eigenvalues.data)\n",
    "print(\"Eigenvalues shape:\", eigenvalues.shape)\n",
    "eigenvectors_filename = gauge_filename.replace(\"gauge\", \"eigenvectors\")\n",
    "print(\"Eigenvectors filename:\", eigenvectors_filename)\n",
    "eigenvectors = io.eigenvectors2esctzyx(\n",
    "    params=params, eigenvectors=io.hdf5_xxx2xxx(file_name=eigenvectors_filename))\n",
    "print(\"Eigenvectors data:\", eigenvectors.data)\n",
    "print(\"Eigenvectors shape:\", eigenvectors.shape)"
   ]
  },
  {
   "cell_type": "markdown",
   "metadata": {},
   "source": [
    "# Run wilson bistabcg from pyqcu test."
   ]
  },
  {
   "cell_type": "code",
   "execution_count": null,
   "metadata": {},
   "outputs": [],
   "source": [
    "qcu.applyWilsonBistabCgQcu(fermion_out, fermion_in, gauge, set_ptrs, params)\n",
    "print(\"Fermion out data:\", fermion_out.data)\n",
    "print(\"Fermion out shape:\", fermion_out.shape)\n",
    "print(\"QUDA Fermion out data:\", quda_fermion_out.data)\n",
    "print(\"QUDA Fermion out shape:\", quda_fermion_out.shape)\n",
    "print(\"Difference:\", cp.linalg.norm(fermion_out -\n",
    "      quda_fermion_out)/cp.linalg.norm(quda_fermion_out))"
   ]
  },
  {
   "cell_type": "markdown",
   "metadata": {},
   "source": [
    "# Run matvec(eigenvector[.]) ?= eigenvalue[.]*eigenvector[.] for eigen test"
   ]
  },
  {
   "cell_type": "code",
   "execution_count": null,
   "metadata": {},
   "outputs": [],
   "source": [
    "def matvec(src):\n",
    "    dest = cp.zeros_like(src)\n",
    "    qcu.applyWilsonCgDslashQcu(\n",
    "        dest, src, gauge, set_ptrs, params)\n",
    "    return dest\n",
    "\n",
    "\n",
    "for i, ev in enumerate(eigenvalues):\n",
    "    print(f\"λ_{i} = {ev:.2e}\")\n",
    "    # Verify eigenvector\n",
    "    v = eigenvectors[i]\n",
    "    w = cp.zeros_like(v)\n",
    "    w = matvec(v)\n",
    "    error = cp.linalg.norm(w - ev * v) / cp.linalg.norm(w)\n",
    "    print(f\"Relative error: {error:.2e}\")\n",
    "    j = i+1\n",
    "    if j == len(eigenvalues):\n",
    "        j = 0\n",
    "    print(\n",
    "        f\"Diff between λ_{i} and λ_{j}: {cp.linalg.norm(eigenvectors[i] - eigenvectors[j])/cp.linalg.norm(eigenvectors[i]):.2e}\")"
   ]
  },
  {
   "cell_type": "markdown",
   "metadata": {},
   "source": [
    "# Give guage's eigenvalues and eigenvectors to hdf5 files. (pass, don't run this)"
   ]
  },
  {
   "cell_type": "code",
   "execution_count": 5,
   "metadata": {},
   "outputs": [],
   "source": [
    "# eigen_solver = eigen.solver(\n",
    "#     n=params[define._LAT_XYZT_] * define._LAT_HALF_SC_, k=define._LAT_Ne_,matvec=matvec,dtype=gauge.dtype)\n",
    "# eigenvalues, eigenvectors = eigen_solver.run()\n",
    "# io.xxx2hdf5_xxx(\n",
    "#     eigenvalues, params, gauge_filename.replace(\"gauge\", \"eigenvalues\"))\n",
    "# io.xxx2hdf5_xxx(\n",
    "#     eigenvectors, params, gauge_filename.replace(\"gauge\", \"eigenvectors\"))"
   ]
  },
  {
   "cell_type": "markdown",
   "metadata": {},
   "source": [
    "# MultiGrid - R*vector"
   ]
  },
  {
   "cell_type": "code",
   "execution_count": null,
   "metadata": {},
   "outputs": [],
   "source": [
    "fermion_in = io.xxxtzyx2mg_xxxtzyx(input_array=fermion_in, params=params)\n",
    "eigenvectors = io.xxxtzyx2mg_xxxtzyx(input_array=eigenvectors, params=params)"
   ]
  },
  {
   "cell_type": "markdown",
   "metadata": {},
   "source": [
    "# Origin CG"
   ]
  },
  {
   "cell_type": "code",
   "execution_count": null,
   "metadata": {},
   "outputs": [],
   "source": [
    "kappa = 1 / (2 * argv[define._MASS_] + 8)\n",
    "_params = params.copy()\n",
    "_params[define._LAT_X_] /= define._LAT_P_\n",
    "_params[define._LAT_XYZT_] /= define._LAT_P_\n",
    "_params[define._SET_PLAN_] = 0\n",
    "_params[define._SET_INDEX_] = 1\n",
    "qcu.applyInitQcu(set_ptrs, _params, argv)\n",
    "b_e = fermion_in[define._EVEN_].flatten()\n",
    "b_o = fermion_in[define._ODD_].flatten()\n",
    "b__o = cp.zeros_like(b_o)\n",
    "tmp = cp.zeros_like(b_o)"
   ]
  },
  {
   "cell_type": "code",
   "execution_count": null,
   "metadata": {},
   "outputs": [],
   "source": [
    "# b__o=b_o+kappa*D_oe(b_e)\n",
    "_params[define._PARITY_] = define._ODD_\n",
    "qcu.applyWilsonDslashQcu(tmp, b_e, gauge, set_ptrs, _params)\n",
    "b__o = b_o+kappa*tmp\n"
   ]
  },
  {
   "cell_type": "code",
   "execution_count": null,
   "metadata": {},
   "outputs": [],
   "source": [
    "# Dslash(x_o)=b__o\n",
    "cg_solver = cg.slover(b=b__o, matvec=matvec)\n",
    "x_o = cg_solver.run()\n"
   ]
  },
  {
   "cell_type": "code",
   "execution_count": null,
   "metadata": {},
   "outputs": [],
   "source": [
    "\n",
    "# x_e  =b_e+kappa*D_eo(x_o)\n",
    "_params[define._PARITY_] = define._EVEN_\n",
    "qcu.applyWilsonDslashQcu(tmp, x_o, gauge, set_ptrs, _params)\n"
   ]
  },
  {
   "cell_type": "code",
   "execution_count": 11,
   "metadata": {},
   "outputs": [],
   "source": [
    "# give qcu_fermion_out\n",
    "x_e = b_e+kappa*tmp\n",
    "qcu_fermion_out = cp.zeros_like(quda_fermion_out)\n",
    "qcu_fermion_out[define._EVEN_] = x_e.reshape(\n",
    "    quda_fermion_out[define._EVEN_].shape)\n",
    "qcu_fermion_out[define._ODD_] = x_o.reshape(\n",
    "    quda_fermion_out[define._ODD_].shape)"
   ]
  },
  {
   "cell_type": "code",
   "execution_count": null,
   "metadata": {},
   "outputs": [],
   "source": [
    "x_o"
   ]
  },
  {
   "cell_type": "code",
   "execution_count": null,
   "metadata": {},
   "outputs": [],
   "source": [
    "qcu_fermion_out-quda_fermion_out"
   ]
  },
  {
   "cell_type": "code",
   "execution_count": null,
   "metadata": {},
   "outputs": [],
   "source": [
    "quda_fermion_out"
   ]
  },
  {
   "cell_type": "markdown",
   "metadata": {},
   "source": [
    "# End for pyqcu. (pass, don't run this)"
   ]
  },
  {
   "cell_type": "code",
   "execution_count": 15,
   "metadata": {},
   "outputs": [],
   "source": [
    "# qcu.applyEndQcu(set_ptrs, params)"
   ]
  }
 ],
 "metadata": {
  "kernelspec": {
   "display_name": "Python 3",
   "language": "python",
   "name": "python3"
  },
  "language_info": {
   "codemirror_mode": {
    "name": "ipython",
    "version": 3
   },
   "file_extension": ".py",
   "mimetype": "text/x-python",
   "name": "python",
   "nbconvert_exporter": "python",
   "pygments_lexer": "ipython3",
   "version": "3.10.12"
  }
 },
 "nbformat": 4,
 "nbformat_minor": 2
}
